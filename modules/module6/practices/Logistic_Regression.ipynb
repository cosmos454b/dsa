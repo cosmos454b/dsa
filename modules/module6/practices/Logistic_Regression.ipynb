{
 "cells": [
  {
   "cell_type": "markdown",
   "metadata": {},
   "source": [
    "## Logistic Regression\n",
    "\n",
    "In this practice, we will use the same data sets we have used in [Linear Discriminant Analysis practice notebook](Linear_Discriminant_Analysis.ipynb) to demonstrate the concept of linear separability. Take a look at that practice first if you haven't done so yet. \n",
    "\n",
    "We will start with the first data set that has two linearly separable classes. "
   ]
  },
  {
   "cell_type": "code",
   "execution_count": null,
   "metadata": {
    "collapsed": false
   },
   "outputs": [],
   "source": [
    "data1 <- read.csv(\"../../../datasets/toydata/data1.csv\",header=TRUE)\n",
    "\n",
    "# For logistic regression, we need to change the class labels from -1 and 1 to 0 and 1. \n",
    "data1$class[data1$class == -1] <- 0\n",
    "str(data1)\n",
    "# Visualize the data\n",
    "library(ggplot2)\n",
    "pl1 <- ggplot(data1, aes(X, Y)) + geom_point(aes(colour=factor(class),shape=factor(class))) #+ theme(legend.position=\"none\")\n",
    "pl1"
   ]
  },
  {
   "cell_type": "markdown",
   "metadata": {},
   "source": [
    "The classes labeled as \"0\" and \"1\" are *linearly separable*; we can draw a linear decision boundary to separate them. Let's apply the logistic regression (LR) to this data set. "
   ]
  },
  {
   "cell_type": "code",
   "execution_count": null,
   "metadata": {
    "collapsed": false
   },
   "outputs": [],
   "source": [
    "glmfit1 = glm(class ~ X + Y, data=data1, family=binomial)\n",
    "\n",
    "summary(glmfit1)"
   ]
  },
  {
   "cell_type": "markdown",
   "metadata": {},
   "source": [
    "You may get a warning about algorithm not converging and probabilities being 0 or 1. Interestingly, if we have a perfectly separable classes in a data set, LR throws this warning because there are infinitely many decision lines that can be drawn between the classes for this data set; LR does not converge to an optimal solution, because optimal solutions are infinitely many. Still, it finds a decision boundary. \n",
    "\n",
    "Let's draw the decision boundary of the LR model on the data. To do that, we'll need to figure out the slope and the intercept of the decision boundary line from the model's coefficients. "
   ]
  },
  {
   "cell_type": "code",
   "execution_count": null,
   "metadata": {
    "collapsed": false
   },
   "outputs": [],
   "source": [
    "# Do not worry if you don't understand the next two lines; \n",
    "# it just figures out the decision line equation from the model's coefs. \n",
    "glm_slope1 <- coef(glmfit1)[2]/(-coef(glmfit1)[3])\n",
    "glm_intercept1 <- coef(glmfit1)[1]/(-coef(glmfit1)[3]) \n",
    "\n",
    "pl1 + geom_abline(slope=glm_slope1, intercept=glm_intercept1)"
   ]
  },
  {
   "cell_type": "markdown",
   "metadata": {},
   "source": [
    "It can separate two classes; they are *linearly separable*. LR is also a *linear classifier* like LDA; it finds a decision line in two dimensions, a decision plane in three dimensions, and a decision hyperplane for dimensions higher than three. \n",
    "\n",
    "Now, let's compute a confusion table similar to what we have done in LDA practice. "
   ]
  },
  {
   "cell_type": "code",
   "execution_count": null,
   "metadata": {
    "collapsed": false
   },
   "outputs": [],
   "source": [
    "# Run the model on the same data that it was trained with and get the probabilities for each sample. \n",
    "glm1.probs <- predict(glmfit1, type=\"response\")\n",
    "# create an array to hold predictions and assign all zeros initially.\n",
    "glm1.pred = rep(0,length(glm1.probs))\n",
    "# based on model's probablities for each sample, assign the class label.\n",
    "glm1.pred[glm1.probs>0.5] <- 1\n",
    "\n",
    "# Create a confusion table.\n",
    "conftable1 <- table(glm1.pred, data1$class)\n",
    "conftable1"
   ]
  },
  {
   "cell_type": "markdown",
   "metadata": {},
   "source": [
    "We can see that there is no confusion between classes; accuracy is 100% (occasionally, you can have a few misclassified points; that is because a random new data set will be created every time you run the code, and a few points may end up too close to the other class)."
   ]
  },
  {
   "cell_type": "markdown",
   "metadata": {},
   "source": [
    "Let's apply LR to the second data set where the classes can't be separated without making some errors. Here, the samples of different classes will be very closely located so that you can't find a linear separation without misclassifying some of them. "
   ]
  },
  {
   "cell_type": "code",
   "execution_count": null,
   "metadata": {
    "collapsed": false
   },
   "outputs": [],
   "source": [
    "data2 <- read.csv(\"../../../datasets/toydata/data2.csv\",header=TRUE)\n",
    "\n",
    "# For logistic regression, we need to change the class labels from -1 and 1 to 0 and 1. \n",
    "data2$class[data2$class == -1] <- 0\n",
    "# Visualize the data\n",
    "pl2 <- ggplot(data2, aes(X, Y)) + geom_point(aes(colour=factor(class),shape=factor(class))) + theme(legend.position=\"none\")\n",
    "pl2"
   ]
  },
  {
   "cell_type": "markdown",
   "metadata": {},
   "source": [
    "In the above plot, you can see that there is an overlap between classes. This means that some of the samples of a class will be misclassified as the other class; these samples will be on the wrong side of the decision boundary. Let's see that. "
   ]
  },
  {
   "cell_type": "code",
   "execution_count": null,
   "metadata": {
    "collapsed": false
   },
   "outputs": [],
   "source": [
    "glmfit2 = glm(class ~ X + Y, data=data2, family=binomial)\n",
    "summary(glmfit2)\n",
    "glm_slope2 <- coef(glmfit2)[2]/(-coef(glmfit2)[3])\n",
    "glm_intercept2 <- coef(glmfit2)[1]/(-coef(glmfit2)[3]) \n",
    "\n",
    "pl2 + geom_abline(slope=glm_slope2, intercept=glm_intercept2)"
   ]
  },
  {
   "cell_type": "markdown",
   "metadata": {},
   "source": [
    "The LR model did not throw a warning; it converged to an optimal solution. The classifier does a good job, but not without mistakes. Let's compute confusion table and the accuracy:"
   ]
  },
  {
   "cell_type": "code",
   "execution_count": null,
   "metadata": {
    "collapsed": false
   },
   "outputs": [],
   "source": [
    "# Run the model on the same data that it was trained with and get the probabilities for each sample. \n",
    "glm2.probs <- predict(glmfit2, type=\"response\")\n",
    "# create an array to hold predictions and assign all zeros initially.\n",
    "glm2.pred = rep(0,length(glm2.probs))\n",
    "# based on model's probablities for each sample, assign the class label.\n",
    "glm2.pred[glm2.probs>0.5] <- 1\n",
    "# Create a confusion table.\n",
    "conftable2 <- table(glm2.pred, data2$class)\n",
    "conftable2\n",
    "print (paste(\"accuracy = \",sum(diag(conftable2))/length(glm2.pred)))"
   ]
  },
  {
   "cell_type": "markdown",
   "metadata": {},
   "source": [
    "Now, we will apply the same to the third data set where classes are not linearly separable. \n",
    "**It's your turn:**"
   ]
  },
  {
   "cell_type": "code",
   "execution_count": null,
   "metadata": {
    "collapsed": false
   },
   "outputs": [],
   "source": [
    "data3 <- read.csv(\"../../../datasets/toydata/data3.csv\",header=TRUE)\n",
    "\n",
    "# For logistic regression, we need to change the class labels from -1 and 1 to 0 and 1. \n",
    "<what goes in here>\n",
    "# Visualize the data\n",
    "pl3 <- ggplot(data3, aes(X, Y)) + geom_point(aes(colour=factor(class),shape=factor(class))) + theme(legend.position=\"none\")\n",
    "pl3"
   ]
  },
  {
   "cell_type": "code",
   "execution_count": null,
   "metadata": {
    "collapsed": false
   },
   "outputs": [],
   "source": [
    "# find model and draw decision boundary\n",
    "glmfit3 = glm(<what goes in here>)\n",
    "summary(glmfit3)\n",
    "\n",
    "glm_slope3 <- coef(glmfit3)[2]/(-coef(glmfit3)[3])\n",
    "glm_intercept3 <- coef(glmfit3)[1]/(-coef(glmfit3)[3]) \n",
    "\n",
    "pl3 + geom_abline(slope=glm_slope3, intercept=glm_intercept3)"
   ]
  },
  {
   "cell_type": "code",
   "execution_count": null,
   "metadata": {
    "collapsed": false
   },
   "outputs": [],
   "source": [
    "# Run the model on the same data that it was trained with and get the probabilities for each sample. \n",
    "glm3.probs <- <what goes in here>\n",
    "# create an array to hold predictions and assign all zeros initially.\n",
    "glm3.pred = <what goes in here>\n",
    "# based on model's probablities for each sample, assign the class label.\n",
    "glm3.pred[<what goes in here>] <- 1\n",
    "# Create a confusion table.\n",
    "conftable3 <- <what goes in here>\n",
    "conftable3\n",
    "# Compute accuracy\n",
    "print (paste(\"accuracy = \",<what goes in here>))"
   ]
  },
  {
   "cell_type": "markdown",
   "metadata": {},
   "source": [
    "You can see that LR can not classify this data set successfully; there are many misclassifications (classes are confused for each other). These classes are *not linearly separable*. "
   ]
  },
  {
   "cell_type": "markdown",
   "metadata": {},
   "source": [
    "Now, apply the same to the \"XOR pattern\" data set where we have two classes that are linearly nonseparable even though their samples seem to be nicely separated in the plot. \n",
    "\n",
    "**Again, it's your turn.** It seems like a lot of repetitions of the same thing for different data sets; would like to convert your code above to a function and just call it here for data set *data4.csv* ? "
   ]
  },
  {
   "cell_type": "code",
   "execution_count": null,
   "metadata": {
    "collapsed": false
   },
   "outputs": [],
   "source": [
    "data4 <- read.csv(\"../../../datasets/toydata/data4.csv\",header=TRUE)\n",
    "\n",
    "# For logistic regression, we need to change the class labels from -1 and 1 to 0 and 1. \n",
    "<what goes in here>\n",
    "# Visualize the data\n",
    "pl4 <- ggplot(data4, aes(X, Y)) + geom_point(aes(colour=factor(class),shape=factor(class))) + theme(legend.position=\"none\")\n",
    "pl4"
   ]
  },
  {
   "cell_type": "code",
   "execution_count": null,
   "metadata": {
    "collapsed": false
   },
   "outputs": [],
   "source": [
    "# find model and draw decision boundary\n",
    "<what goes in here>\n",
    "\n",
    "pl4 + geom_abline(slope=glm_slope4, intercept=glm_intercept4)"
   ]
  },
  {
   "cell_type": "code",
   "execution_count": null,
   "metadata": {
    "collapsed": false
   },
   "outputs": [],
   "source": [
    "# Run the model on the same data that it was trained with and get the probabilities for each sample. \n",
    "<what goes in here>\n",
    "# create an array to hold predictions and assign all zeros initially.\n",
    "<what goes in here>\n",
    "# based on model's probablities for each sample, assign the class label.\n",
    "<what goes in here>\n",
    "# Create a confusion table.\n",
    "<what goes in here>\n",
    "conftable4\n",
    "# Compute accuracy\n",
    "print (paste(\"accuracy = \",<what goes in here>))"
   ]
  },
  {
   "cell_type": "markdown",
   "metadata": {},
   "source": [
    "Again, just like in LDA practice, this is the worst case scenario; the classifier does not do any better than a \"coin toss\" (50% accuracy). Linear models can not deal with this data set. We'll need *nonlinear* models to classify this data set. "
   ]
  }
 ],
 "metadata": {
  "kernelspec": {
   "display_name": "R",
   "language": "R",
   "name": "ir"
  },
  "language_info": {
   "codemirror_mode": "r",
   "file_extension": ".r",
   "mimetype": "text/x-r-source",
   "name": "R",
   "pygments_lexer": "r",
   "version": "3.3.1"
  }
 },
 "nbformat": 4,
 "nbformat_minor": 1
}
