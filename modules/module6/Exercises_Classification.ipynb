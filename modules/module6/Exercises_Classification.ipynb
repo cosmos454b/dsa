{
 "cells": [
  {
   "cell_type": "markdown",
   "metadata": {},
   "source": [
    "## Module 6 - Classification Exercises\n",
    "\n",
    "We saw why linear regression is not an ideal choice for classification. We audited some of the classification algorithms logistic regression, LDA and SVM which are widely used for data analysis. \n",
    "\n",
    "Apply this classification algorithms you came across in lab and practice notebooks on songs and glass datasets. The songs dataset captures details about a song year when it is released, title, artist name, loudness pitch, tempo, timbre values etc. All this independent values are used to predict if the song has made it to the top 10 list. Apply a logistic regression model to this dataset."
   ]
  },
  {
   "cell_type": "markdown",
   "metadata": {},
   "source": [
    "Reading the data from dataset located at /datasets/songs/songs.csv"
   ]
  },
  {
   "cell_type": "code",
   "execution_count": 55,
   "metadata": {
    "collapsed": false
   },
   "outputs": [
    {
     "data": {
      "text/html": [
       "<table>\n",
       "<thead><tr><th scope=col>year</th><th scope=col>songtitle</th><th scope=col>artistname</th><th scope=col>songID</th><th scope=col>artistID</th><th scope=col>timesignature</th><th scope=col>timesignature_confidence</th><th scope=col>loudness</th><th scope=col>tempo</th><th scope=col>tempo_confidence</th><th scope=col>⋯</th><th scope=col>timbre_7_max</th><th scope=col>timbre_8_min</th><th scope=col>timbre_8_max</th><th scope=col>timbre_9_min</th><th scope=col>timbre_9_max</th><th scope=col>timbre_10_min</th><th scope=col>timbre_10_max</th><th scope=col>timbre_11_min</th><th scope=col>timbre_11_max</th><th scope=col>Top10</th></tr></thead>\n",
       "<tbody>\n",
       "\t<tr><td>2010                              </td><td>This Is the House That Doubt Built</td><td>A Day to Remember                 </td><td>SOBGGAB12C5664F054                </td><td>AROBSHL1187B9AFB01                </td><td>3                                 </td><td>0.853                             </td><td>-4.262                            </td><td> 91.525                           </td><td>0.953                             </td><td>⋯                                 </td><td> 82.475                           </td><td>-52.025                           </td><td>39.116                            </td><td>-35.368                           </td><td>71.642                            </td><td>-126.440                          </td><td> 18.658                           </td><td>-44.770                           </td><td>25.989                            </td><td>0                                 </td></tr>\n",
       "\t<tr><td>2010                                                                          </td><td><span style=white-space:pre-wrap>Sticks &amp; Bricks                   </span></td><td>A Day to Remember                                                             </td><td>SOPAQHU1315CD47F31                                                            </td><td>AROBSHL1187B9AFB01                                                            </td><td>4                                                                             </td><td>1.000                                                                         </td><td>-4.051                                                                        </td><td>140.048                                                                       </td><td>0.921                                                                         </td><td>⋯                                                                             </td><td>106.918                                                                       </td><td>-61.320                                                                       </td><td>35.378                                                                        </td><td>-81.928                                                                       </td><td>74.574                                                                        </td><td>-103.808                                                                      </td><td>121.935                                                                       </td><td>-38.892                                                                       </td><td>22.513                                                                        </td><td>0                                                                             </td></tr>\n",
       "\t<tr><td>2010                              </td><td>All I Want                        </td><td>A Day to Remember                 </td><td>SOOIZOU1376E7C6386                </td><td>AROBSHL1187B9AFB01                </td><td>4                                 </td><td>1.000                             </td><td>-3.571                            </td><td>160.512                           </td><td>0.489                             </td><td>⋯                                 </td><td> 80.621                           </td><td>-59.773                           </td><td>45.979                            </td><td>-46.293                           </td><td>59.904                            </td><td>-108.313                          </td><td> 33.300                           </td><td>-43.733                           </td><td>25.744                            </td><td>0                                 </td></tr>\n",
       "\t<tr><td>2010                              </td><td>It's Complicated                  </td><td>A Day to Remember                 </td><td>SODRYWD1315CD49DBE                </td><td>AROBSHL1187B9AFB01                </td><td>4                                 </td><td>1.000                             </td><td>-3.815                            </td><td> 97.525                           </td><td>0.794                             </td><td>⋯                                 </td><td> 96.675                           </td><td>-78.660                           </td><td>41.088                            </td><td>-49.194                           </td><td>95.440                            </td><td>-102.676                          </td><td> 46.422                           </td><td>-59.439                           </td><td>37.082                            </td><td>0                                 </td></tr>\n",
       "\t<tr><td>2010                              </td><td>2nd Sucks                         </td><td>A Day to Remember                 </td><td>SOICMQB1315CD46EE3                </td><td>AROBSHL1187B9AFB01                </td><td>4                                 </td><td>0.788                             </td><td>-4.707                            </td><td>140.053                           </td><td>0.286                             </td><td>⋯                                 </td><td>110.332                           </td><td>-56.450                           </td><td>37.555                            </td><td>-48.588                           </td><td>67.570                            </td><td> -52.796                          </td><td> 22.888                           </td><td>-50.414                           </td><td>32.758                            </td><td>0                                 </td></tr>\n",
       "\t<tr><td>2010                              </td><td>Better Off This Way               </td><td>A Day to Remember                 </td><td>SOCEYON1315CD4A23E                </td><td>AROBSHL1187B9AFB01                </td><td>4                                 </td><td>1.000                             </td><td>-3.807                            </td><td>160.366                           </td><td>0.347                             </td><td>⋯                                 </td><td> 91.117                           </td><td>-54.378                           </td><td>53.808                            </td><td>-33.183                           </td><td>54.657                            </td><td> -64.478                          </td><td> 34.522                           </td><td>-40.922                           </td><td>36.453                            </td><td>0                                 </td></tr>\n",
       "</tbody>\n",
       "</table>\n"
      ],
      "text/latex": [
       "\\begin{tabular}{r|lllllllllllllllllllllllllllllllllllllll}\n",
       " year & songtitle & artistname & songID & artistID & timesignature & timesignature\\_confidence & loudness & tempo & tempo\\_confidence & ⋯ & timbre\\_7\\_max & timbre\\_8\\_min & timbre\\_8\\_max & timbre\\_9\\_min & timbre\\_9\\_max & timbre\\_10\\_min & timbre\\_10\\_max & timbre\\_11\\_min & timbre\\_11\\_max & Top10\\\\\n",
       "\\hline\n",
       "\t 2010                               & This Is the House That Doubt Built & A Day to Remember                  & SOBGGAB12C5664F054                 & AROBSHL1187B9AFB01                 & 3                                  & 0.853                              & -4.262                             &  91.525                            & 0.953                              & ⋯                                  &  82.475                            & -52.025                            & 39.116                             & -35.368                            & 71.642                             & -126.440                           &  18.658                            & -44.770                            & 25.989                             & 0                                 \\\\\n",
       "\t 2010                                 & Sticks \\& Bricks                    & A Day to Remember                    & SOPAQHU1315CD47F31                   & AROBSHL1187B9AFB01                   & 4                                    & 1.000                                & -4.051                               & 140.048                              & 0.921                                & ⋯                                    & 106.918                              & -61.320                              & 35.378                               & -81.928                              & 74.574                               & -103.808                             & 121.935                              & -38.892                              & 22.513                               & 0                                   \\\\\n",
       "\t 2010                               & All I Want                         & A Day to Remember                  & SOOIZOU1376E7C6386                 & AROBSHL1187B9AFB01                 & 4                                  & 1.000                              & -3.571                             & 160.512                            & 0.489                              & ⋯                                  &  80.621                            & -59.773                            & 45.979                             & -46.293                            & 59.904                             & -108.313                           &  33.300                            & -43.733                            & 25.744                             & 0                                 \\\\\n",
       "\t 2010                               & It's Complicated                   & A Day to Remember                  & SODRYWD1315CD49DBE                 & AROBSHL1187B9AFB01                 & 4                                  & 1.000                              & -3.815                             &  97.525                            & 0.794                              & ⋯                                  &  96.675                            & -78.660                            & 41.088                             & -49.194                            & 95.440                             & -102.676                           &  46.422                            & -59.439                            & 37.082                             & 0                                 \\\\\n",
       "\t 2010                               & 2nd Sucks                          & A Day to Remember                  & SOICMQB1315CD46EE3                 & AROBSHL1187B9AFB01                 & 4                                  & 0.788                              & -4.707                             & 140.053                            & 0.286                              & ⋯                                  & 110.332                            & -56.450                            & 37.555                             & -48.588                            & 67.570                             &  -52.796                           &  22.888                            & -50.414                            & 32.758                             & 0                                 \\\\\n",
       "\t 2010                               & Better Off This Way                & A Day to Remember                  & SOCEYON1315CD4A23E                 & AROBSHL1187B9AFB01                 & 4                                  & 1.000                              & -3.807                             & 160.366                            & 0.347                              & ⋯                                  &  91.117                            & -54.378                            & 53.808                             & -33.183                            & 54.657                             &  -64.478                           &  34.522                            & -40.922                            & 36.453                             & 0                                 \\\\\n",
       "\\end{tabular}\n"
      ],
      "text/plain": [
       "  year songtitle                          artistname        songID            \n",
       "1 2010 This Is the House That Doubt Built A Day to Remember SOBGGAB12C5664F054\n",
       "2 2010 Sticks & Bricks                    A Day to Remember SOPAQHU1315CD47F31\n",
       "3 2010 All I Want                         A Day to Remember SOOIZOU1376E7C6386\n",
       "4 2010 It's Complicated                   A Day to Remember SODRYWD1315CD49DBE\n",
       "5 2010 2nd Sucks                          A Day to Remember SOICMQB1315CD46EE3\n",
       "6 2010 Better Off This Way                A Day to Remember SOCEYON1315CD4A23E\n",
       "  artistID           timesignature timesignature_confidence loudness tempo  \n",
       "1 AROBSHL1187B9AFB01 3             0.853                    -4.262    91.525\n",
       "2 AROBSHL1187B9AFB01 4             1.000                    -4.051   140.048\n",
       "3 AROBSHL1187B9AFB01 4             1.000                    -3.571   160.512\n",
       "4 AROBSHL1187B9AFB01 4             1.000                    -3.815    97.525\n",
       "5 AROBSHL1187B9AFB01 4             0.788                    -4.707   140.053\n",
       "6 AROBSHL1187B9AFB01 4             1.000                    -3.807   160.366\n",
       "  tempo_confidence ⋯ timbre_7_max timbre_8_min timbre_8_max timbre_9_min\n",
       "1 0.953            ⋯  82.475      -52.025      39.116       -35.368     \n",
       "2 0.921            ⋯ 106.918      -61.320      35.378       -81.928     \n",
       "3 0.489            ⋯  80.621      -59.773      45.979       -46.293     \n",
       "4 0.794            ⋯  96.675      -78.660      41.088       -49.194     \n",
       "5 0.286            ⋯ 110.332      -56.450      37.555       -48.588     \n",
       "6 0.347            ⋯  91.117      -54.378      53.808       -33.183     \n",
       "  timbre_9_max timbre_10_min timbre_10_max timbre_11_min timbre_11_max Top10\n",
       "1 71.642       -126.440       18.658       -44.770       25.989        0    \n",
       "2 74.574       -103.808      121.935       -38.892       22.513        0    \n",
       "3 59.904       -108.313       33.300       -43.733       25.744        0    \n",
       "4 95.440       -102.676       46.422       -59.439       37.082        0    \n",
       "5 67.570        -52.796       22.888       -50.414       32.758        0    \n",
       "6 54.657        -64.478       34.522       -40.922       36.453        0    "
      ]
     },
     "metadata": {},
     "output_type": "display_data"
    }
   ],
   "source": [
    "songs_data = read.csv(\"../../datasets/songs/songs.csv\")\n",
    "head(songs_data)"
   ]
  },
  {
   "cell_type": "code",
   "execution_count": 56,
   "metadata": {
    "collapsed": false
   },
   "outputs": [
    {
     "name": "stdout",
     "output_type": "stream",
     "text": [
      "'data.frame':\t7574 obs. of  39 variables:\n",
      " $ year                    : int  2010 2010 2010 2010 2010 2010 2010 2010 2010 2010 ...\n",
      " $ songtitle               : Factor w/ 7141 levels \"̈́ l'or_e des bois\",..: 6204 5522 241 3115 48 608 255 4419 2886 6756 ...\n",
      " $ artistname              : Factor w/ 1032 levels \"50 Cent\",\"98 Degrees\",..: 3 3 3 3 3 3 3 3 3 12 ...\n",
      " $ songID                  : Factor w/ 7549 levels \"SOAACNI1315CD4AC42\",..: 595 5439 5252 1716 3431 1020 1831 3964 6904 2473 ...\n",
      " $ artistID                : Factor w/ 1047 levels \"AR00B1I1187FB433EB\",..: 671 671 671 671 671 671 671 671 671 507 ...\n",
      " $ timesignature           : int  3 4 4 4 4 4 4 4 4 4 ...\n",
      " $ timesignature_confidence: num  0.853 1 1 1 0.788 1 0.968 0.861 0.622 0.938 ...\n",
      " $ loudness                : num  -4.26 -4.05 -3.57 -3.81 -4.71 ...\n",
      " $ tempo                   : num  91.5 140 160.5 97.5 140.1 ...\n",
      " $ tempo_confidence        : num  0.953 0.921 0.489 0.794 0.286 0.347 0.273 0.83 0.018 0.929 ...\n",
      " $ key                     : int  11 10 2 1 6 4 10 5 9 11 ...\n",
      " $ key_confidence          : num  0.453 0.469 0.209 0.632 0.483 0.627 0.715 0.423 0.751 0.602 ...\n",
      " $ energy                  : num  0.967 0.985 0.99 0.939 0.988 ...\n",
      " $ pitch                   : num  0.024 0.025 0.026 0.013 0.063 0.038 0.026 0.033 0.027 0.004 ...\n",
      " $ timbre_0_min            : num  0.002 0 0.003 0 0 ...\n",
      " $ timbre_0_max            : num  57.3 57.4 57.4 57.8 56.9 ...\n",
      " $ timbre_1_min            : num  -6.5 -37.4 -17.2 -32.1 -223.9 ...\n",
      " $ timbre_1_max            : num  171 171 171 221 171 ...\n",
      " $ timbre_2_min            : num  -81.7 -149.6 -72.9 -138.6 -147.2 ...\n",
      " $ timbre_2_max            : num  95.1 180.3 157.9 173.4 166 ...\n",
      " $ timbre_3_min            : num  -285 -380.1 -204 -73.5 -128.1 ...\n",
      " $ timbre_3_max            : num  259 384 251 373 389 ...\n",
      " $ timbre_4_min            : num  -40.4 -48.7 -66 -55.6 -43.9 ...\n",
      " $ timbre_4_max            : num  73.6 100.4 152.1 119.2 99.3 ...\n",
      " $ timbre_5_min            : num  -104.7 -87.3 -98.7 -77.5 -96.1 ...\n",
      " $ timbre_5_max            : num  183.1 42.8 141.4 141.2 38.3 ...\n",
      " $ timbre_6_min            : num  -88.8 -86.9 -88.9 -70.8 -110.8 ...\n",
      " $ timbre_6_max            : num  73.5 75.5 66.5 64.5 72.4 ...\n",
      " $ timbre_7_min            : num  -71.1 -65.8 -67.4 -63.7 -55.9 ...\n",
      " $ timbre_7_max            : num  82.5 106.9 80.6 96.7 110.3 ...\n",
      " $ timbre_8_min            : num  -52 -61.3 -59.8 -78.7 -56.5 ...\n",
      " $ timbre_8_max            : num  39.1 35.4 46 41.1 37.6 ...\n",
      " $ timbre_9_min            : num  -35.4 -81.9 -46.3 -49.2 -48.6 ...\n",
      " $ timbre_9_max            : num  71.6 74.6 59.9 95.4 67.6 ...\n",
      " $ timbre_10_min           : num  -126.4 -103.8 -108.3 -102.7 -52.8 ...\n",
      " $ timbre_10_max           : num  18.7 121.9 33.3 46.4 22.9 ...\n",
      " $ timbre_11_min           : num  -44.8 -38.9 -43.7 -59.4 -50.4 ...\n",
      " $ timbre_11_max           : num  26 22.5 25.7 37.1 32.8 ...\n",
      " $ Top10                   : int  0 0 0 0 0 0 0 0 0 1 ...\n"
     ]
    },
    {
     "data": {
      "text/plain": [
       "\n",
       "1990 1991 1992 1993 1994 1995 1996 1997 1998 1999 2000 2001 2002 2003 2004 2005 \n",
       " 328  196  186  324  198  258  178  329  380  357  363  282  518  434  479  392 \n",
       "2006 2007 2008 2009 2010 \n",
       " 479  622  415  483  373 "
      ]
     },
     "metadata": {},
     "output_type": "display_data"
    }
   ],
   "source": [
    "str(songs_data)\n",
    "table(songs_data$year)"
   ]
  },
  {
   "cell_type": "markdown",
   "metadata": {},
   "source": [
    "**Activity 1: ** Split the songs_data dataframe into train and test sets. Use subset function to create songs_traindata and songs_testdata subsets. songs_traindata should contain songs with year less than or equal to (<=) 2009 and songs_testdata should contain songs from year 2010."
   ]
  },
  {
   "cell_type": "code",
   "execution_count": 57,
   "metadata": {
    "collapsed": false
   },
   "outputs": [],
   "source": [
    "songs_traindata = subset(songs_data, year <= 2009)\n",
    "songs_testdata = subset(songs_data, year > 2009)\n"
   ]
  },
  {
   "cell_type": "markdown",
   "metadata": {},
   "source": [
    "**Activity 2: ** Remove the following independent variables (\"year\", \"songtitle\", \"artistname\", \"songID\", and \"artistID\") from songs_traindata and songs_testdata."
   ]
  },
  {
   "cell_type": "code",
   "execution_count": 58,
   "metadata": {
    "collapsed": false
   },
   "outputs": [],
   "source": [
    "# Your code for Activity 2 goes here\n",
    "songs_traindata = subset( songs_traindata, select = -c(year,songtitle,artistname,songID,artistID))\n",
    "songs_testdata = subset( songs_testdata, select = -c(year,songtitle,artistname,songID,artistID))"
   ]
  },
  {
   "cell_type": "code",
   "execution_count": 59,
   "metadata": {
    "collapsed": false
   },
   "outputs": [
    {
     "data": {},
     "metadata": {},
     "output_type": "display_data"
    },
    {
     "data": {
      "image/png": "[encoded data removed]",
      "text/plain": [
       "plot without title"
      ]
     },
     "metadata": {},
     "output_type": "display_data"
    }
   ],
   "source": [
    "# Use ggplot to pLot the the variables loudness and energy of songs_traindata with Top10 supplied to color and shape parameters.\n",
    "library(ggplot2)\n",
    "songs_plot <- ggplot(songs_traindata, aes(loudness, energy)) + geom_point(aes(colour=factor(Top10),shape=factor(Top10))) \n",
    "songs_plot"
   ]
  },
  {
   "cell_type": "markdown",
   "metadata": {},
   "source": [
    "According to above graph, there is not a clear linear boundary to separate the songs that made it to Top10 and those not."
   ]
  },
  {
   "cell_type": "markdown",
   "metadata": {},
   "source": [
    "**Activity 3: ** Fit a logistic regression model to predict Top10 using all the independent variables. Name this model songsLog1."
   ]
  },
  {
   "cell_type": "code",
   "execution_count": 60,
   "metadata": {
    "collapsed": true
   },
   "outputs": [],
   "source": [
    "songsLog1 = glm(Top10 ~ ., data=songs_traindata, family=binomial)"
   ]
  },
  {
   "cell_type": "code",
   "execution_count": 62,
   "metadata": {
    "collapsed": false
   },
   "outputs": [
    {
     "data": {
      "text/plain": [
       "\n",
       "Call:\n",
       "glm(formula = Top10 ~ ., family = binomial, data = songs_traindata)\n",
       "\n",
       "Deviance Residuals: \n",
       "    Min       1Q   Median       3Q      Max  \n",
       "-1.9220  -0.5399  -0.3459  -0.1845   3.0770  \n",
       "\n",
       "Coefficients:\n",
       "                           Estimate Std. Error z value Pr(>|z|)    \n",
       "(Intercept)               1.470e+01  1.806e+00   8.138 4.03e-16 ***\n",
       "timesignature             1.264e-01  8.674e-02   1.457 0.145050    \n",
       "timesignature_confidence  7.450e-01  1.953e-01   3.815 0.000136 ***\n",
       "loudness                  2.999e-01  2.917e-02  10.282  < 2e-16 ***\n",
       "tempo                     3.634e-04  1.691e-03   0.215 0.829889    \n",
       "tempo_confidence          4.732e-01  1.422e-01   3.329 0.000873 ***\n",
       "key                       1.588e-02  1.039e-02   1.529 0.126349    \n",
       "key_confidence            3.087e-01  1.412e-01   2.187 0.028760 *  \n",
       "energy                   -1.502e+00  3.099e-01  -4.847 1.25e-06 ***\n",
       "pitch                    -4.491e+01  6.835e+00  -6.570 5.02e-11 ***\n",
       "timbre_0_min              2.316e-02  4.256e-03   5.441 5.29e-08 ***\n",
       "timbre_0_max             -3.310e-01  2.569e-02 -12.882  < 2e-16 ***\n",
       "timbre_1_min              5.881e-03  7.798e-04   7.542 4.64e-14 ***\n",
       "timbre_1_max             -2.449e-04  7.152e-04  -0.342 0.732087    \n",
       "timbre_2_min             -2.127e-03  1.126e-03  -1.889 0.058843 .  \n",
       "timbre_2_max              6.586e-04  9.066e-04   0.726 0.467571    \n",
       "timbre_3_min              6.920e-04  5.985e-04   1.156 0.247583    \n",
       "timbre_3_max             -2.967e-03  5.815e-04  -5.103 3.34e-07 ***\n",
       "timbre_4_min              1.040e-02  1.985e-03   5.237 1.63e-07 ***\n",
       "timbre_4_max              6.110e-03  1.550e-03   3.942 8.10e-05 ***\n",
       "timbre_5_min             -5.598e-03  1.277e-03  -4.385 1.16e-05 ***\n",
       "timbre_5_max              7.736e-05  7.935e-04   0.097 0.922337    \n",
       "timbre_6_min             -1.686e-02  2.264e-03  -7.445 9.66e-14 ***\n",
       "timbre_6_max              3.668e-03  2.190e-03   1.675 0.093875 .  \n",
       "timbre_7_min             -4.549e-03  1.781e-03  -2.554 0.010661 *  \n",
       "timbre_7_max             -3.774e-03  1.832e-03  -2.060 0.039408 *  \n",
       "timbre_8_min              3.911e-03  2.851e-03   1.372 0.170123    \n",
       "timbre_8_max              4.011e-03  3.003e-03   1.336 0.181620    \n",
       "timbre_9_min              1.367e-03  2.998e-03   0.456 0.648356    \n",
       "timbre_9_max              1.603e-03  2.434e-03   0.659 0.510188    \n",
       "timbre_10_min             4.126e-03  1.839e-03   2.244 0.024852 *  \n",
       "timbre_10_max             5.825e-03  1.769e-03   3.292 0.000995 ***\n",
       "timbre_11_min            -2.625e-02  3.693e-03  -7.108 1.18e-12 ***\n",
       "timbre_11_max             1.967e-02  3.385e-03   5.811 6.21e-09 ***\n",
       "---\n",
       "Signif. codes:  0 ‘***’ 0.001 ‘**’ 0.01 ‘*’ 0.05 ‘.’ 0.1 ‘ ’ 1\n",
       "\n",
       "(Dispersion parameter for binomial family taken to be 1)\n",
       "\n",
       "    Null deviance: 6017.5  on 7200  degrees of freedom\n",
       "Residual deviance: 4759.2  on 7167  degrees of freedom\n",
       "AIC: 4827.2\n",
       "\n",
       "Number of Fisher Scoring iterations: 6\n"
      ]
     },
     "metadata": {},
     "output_type": "display_data"
    }
   ],
   "source": [
    "summary(songsLog1)"
   ]
  },
  {
   "cell_type": "markdown",
   "metadata": {},
   "source": [
    "**Activity 4: ** Make predictions on the test set using songsLog1 model."
   ]
  },
  {
   "cell_type": "code",
   "execution_count": 63,
   "metadata": {
    "collapsed": true
   },
   "outputs": [],
   "source": [
    "songsLog1.probs = predict(songsLog1,songs_testdata, type=\"response\")"
   ]
  },
  {
   "cell_type": "markdown",
   "metadata": {},
   "source": [
    "**Activity 5: ** What is the accuracy of model 'songsLog1' on the test set, using a threshold of 0.5? (Compute the accuracy as a number between 0 and 1.)"
   ]
  },
  {
   "cell_type": "code",
   "execution_count": 64,
   "metadata": {
    "collapsed": false
   },
   "outputs": [],
   "source": [
    "songsLog1.pred = rep(0,length(songsLog1.probs))\n",
    "songsLog1.pred[songsLog1.probs>0.5] = 1"
   ]
  },
  {
   "cell_type": "code",
   "execution_count": 89,
   "metadata": {
    "collapsed": false
   },
   "outputs": [
    {
     "data": {
      "text/plain": [
       "              \n",
       "songsLog1.pred   0   1\n",
       "             0 311  48\n",
       "             1   3  11"
      ]
     },
     "metadata": {},
     "output_type": "display_data"
    },
    {
     "data": {
      "text/html": [
       "373"
      ],
      "text/latex": [
       "373"
      ],
      "text/markdown": [
       "373"
      ],
      "text/plain": [
       "[1] 373"
      ]
     },
     "metadata": {},
     "output_type": "display_data"
    },
    {
     "name": "stdout",
     "output_type": "stream",
     "text": [
      "[1] \"accuracy =  0.863270777479893\"\n"
     ]
    }
   ],
   "source": [
    "conftable = table(songsLog1.pred, songs_testdata$Top10)\n",
    "conftable\n",
    "length(songsLog1.pred)\n",
    "print (paste(\"accuracy = \",sum(diag(conftable))/length(songsLog1.pred)))"
   ]
  },
  {
   "cell_type": "markdown",
   "metadata": {},
   "source": [
    "**Activity 6**:  Calculate baseline model accuracy."
   ]
  },
  {
   "cell_type": "code",
   "execution_count": 67,
   "metadata": {
    "collapsed": false
   },
   "outputs": [
    {
     "data": {
      "text/html": [
       "0.962466487935657"
      ],
      "text/latex": [
       "0.962466487935657"
      ],
      "text/markdown": [
       "0.962466487935657"
      ],
      "text/plain": [
       "[1] 0.9624665"
      ]
     },
     "metadata": {},
     "output_type": "display_data"
    }
   ],
   "source": [
    "#As most of the outcomes are 0, the baseline model will always predict that a song is not in top10\n",
    "(311+48)/(311+48+3+11)"
   ]
  },
  {
   "cell_type": "markdown",
   "metadata": {},
   "source": [
    "### LDA and SVM\n",
    "\n",
    "Apply LDA and SVM algorithms on glass dataset. The dependent variable in the dataset Type has 6 different classes. \n",
    "\n",
    "Load the glass dataset from /datasets/glass/glass.csv. Apply LDA on the dataset to determine the type of glass."
   ]
  },
  {
   "cell_type": "code",
   "execution_count": 68,
   "metadata": {
    "collapsed": false
   },
   "outputs": [
    {
     "data": {
      "text/html": [
       "<table>\n",
       "<thead><tr><th scope=col>V1</th><th scope=col>V2</th><th scope=col>V3</th><th scope=col>V4</th><th scope=col>V5</th><th scope=col>V6</th><th scope=col>V7</th><th scope=col>V8</th><th scope=col>V9</th><th scope=col>V10</th><th scope=col>V11</th></tr></thead>\n",
       "<tbody>\n",
       "\t<tr><td>1      </td><td>1.52101</td><td>13.64  </td><td>4.49   </td><td>1.10   </td><td>71.78  </td><td>0.06   </td><td>8.75   </td><td>0      </td><td>0.00   </td><td>1      </td></tr>\n",
       "\t<tr><td>2      </td><td>1.51761</td><td>13.89  </td><td>3.60   </td><td>1.36   </td><td>72.73  </td><td>0.48   </td><td>7.83   </td><td>0      </td><td>0.00   </td><td>1      </td></tr>\n",
       "\t<tr><td>3      </td><td>1.51618</td><td>13.53  </td><td>3.55   </td><td>1.54   </td><td>72.99  </td><td>0.39   </td><td>7.78   </td><td>0      </td><td>0.00   </td><td>1      </td></tr>\n",
       "\t<tr><td>4      </td><td>1.51766</td><td>13.21  </td><td>3.69   </td><td>1.29   </td><td>72.61  </td><td>0.57   </td><td>8.22   </td><td>0      </td><td>0.00   </td><td>1      </td></tr>\n",
       "\t<tr><td>5      </td><td>1.51742</td><td>13.27  </td><td>3.62   </td><td>1.24   </td><td>73.08  </td><td>0.55   </td><td>8.07   </td><td>0      </td><td>0.00   </td><td>1      </td></tr>\n",
       "\t<tr><td>6      </td><td>1.51596</td><td>12.79  </td><td>3.61   </td><td>1.62   </td><td>72.97  </td><td>0.64   </td><td>8.07   </td><td>0      </td><td>0.26   </td><td>1      </td></tr>\n",
       "</tbody>\n",
       "</table>\n"
      ],
      "text/latex": [
       "\\begin{tabular}{r|lllllllllll}\n",
       " V1 & V2 & V3 & V4 & V5 & V6 & V7 & V8 & V9 & V10 & V11\\\\\n",
       "\\hline\n",
       "\t 1       & 1.52101 & 13.64   & 4.49    & 1.10    & 71.78   & 0.06    & 8.75    & 0       & 0.00    & 1      \\\\\n",
       "\t 2       & 1.51761 & 13.89   & 3.60    & 1.36    & 72.73   & 0.48    & 7.83    & 0       & 0.00    & 1      \\\\\n",
       "\t 3       & 1.51618 & 13.53   & 3.55    & 1.54    & 72.99   & 0.39    & 7.78    & 0       & 0.00    & 1      \\\\\n",
       "\t 4       & 1.51766 & 13.21   & 3.69    & 1.29    & 72.61   & 0.57    & 8.22    & 0       & 0.00    & 1      \\\\\n",
       "\t 5       & 1.51742 & 13.27   & 3.62    & 1.24    & 73.08   & 0.55    & 8.07    & 0       & 0.00    & 1      \\\\\n",
       "\t 6       & 1.51596 & 12.79   & 3.61    & 1.62    & 72.97   & 0.64    & 8.07    & 0       & 0.26    & 1      \\\\\n",
       "\\end{tabular}\n"
      ],
      "text/plain": [
       "  V1 V2      V3    V4   V5   V6    V7   V8   V9 V10  V11\n",
       "1 1  1.52101 13.64 4.49 1.10 71.78 0.06 8.75 0  0.00 1  \n",
       "2 2  1.51761 13.89 3.60 1.36 72.73 0.48 7.83 0  0.00 1  \n",
       "3 3  1.51618 13.53 3.55 1.54 72.99 0.39 7.78 0  0.00 1  \n",
       "4 4  1.51766 13.21 3.69 1.29 72.61 0.57 8.22 0  0.00 1  \n",
       "5 5  1.51742 13.27 3.62 1.24 73.08 0.55 8.07 0  0.00 1  \n",
       "6 6  1.51596 12.79 3.61 1.62 72.97 0.64 8.07 0  0.26 1  "
      ]
     },
     "metadata": {},
     "output_type": "display_data"
    }
   ],
   "source": [
    "glass_data = read.csv(\"../../datasets/glass/glass.txt\",header=FALSE,sep=',')\n",
    "head(glass_data)"
   ]
  },
  {
   "cell_type": "code",
   "execution_count": 69,
   "metadata": {
    "collapsed": false
   },
   "outputs": [],
   "source": [
    "# The data file doesn't have headers. So read the column names into a vector and add column names to the glass dataset.\n",
    "header = c(\"Id\", \"Refractive_Index\",\"Sodium\",\"Magnesium\",\"Aluminium\",\"Silicon\",\"Potassium\",\"Calcium\",\"Barium\",\"Iron\",\"Type\")\n",
    "names(glass_data)=header"
   ]
  },
  {
   "cell_type": "code",
   "execution_count": 70,
   "metadata": {
    "collapsed": false
   },
   "outputs": [
    {
     "data": {
      "text/html": [
       "<table>\n",
       "<thead><tr><th scope=col>Id</th><th scope=col>Refractive_Index</th><th scope=col>Sodium</th><th scope=col>Magnesium</th><th scope=col>Aluminium</th><th scope=col>Silicon</th><th scope=col>Potassium</th><th scope=col>Calcium</th><th scope=col>Barium</th><th scope=col>Iron</th><th scope=col>Type</th></tr></thead>\n",
       "<tbody>\n",
       "\t<tr><td>1      </td><td>1.52101</td><td>13.64  </td><td>4.49   </td><td>1.10   </td><td>71.78  </td><td>0.06   </td><td>8.75   </td><td>0      </td><td>0.00   </td><td>1      </td></tr>\n",
       "\t<tr><td>2      </td><td>1.51761</td><td>13.89  </td><td>3.60   </td><td>1.36   </td><td>72.73  </td><td>0.48   </td><td>7.83   </td><td>0      </td><td>0.00   </td><td>1      </td></tr>\n",
       "\t<tr><td>3      </td><td>1.51618</td><td>13.53  </td><td>3.55   </td><td>1.54   </td><td>72.99  </td><td>0.39   </td><td>7.78   </td><td>0      </td><td>0.00   </td><td>1      </td></tr>\n",
       "\t<tr><td>4      </td><td>1.51766</td><td>13.21  </td><td>3.69   </td><td>1.29   </td><td>72.61  </td><td>0.57   </td><td>8.22   </td><td>0      </td><td>0.00   </td><td>1      </td></tr>\n",
       "\t<tr><td>5      </td><td>1.51742</td><td>13.27  </td><td>3.62   </td><td>1.24   </td><td>73.08  </td><td>0.55   </td><td>8.07   </td><td>0      </td><td>0.00   </td><td>1      </td></tr>\n",
       "\t<tr><td>6      </td><td>1.51596</td><td>12.79  </td><td>3.61   </td><td>1.62   </td><td>72.97  </td><td>0.64   </td><td>8.07   </td><td>0      </td><td>0.26   </td><td>1      </td></tr>\n",
       "</tbody>\n",
       "</table>\n"
      ],
      "text/latex": [
       "\\begin{tabular}{r|lllllllllll}\n",
       " Id & Refractive\\_Index & Sodium & Magnesium & Aluminium & Silicon & Potassium & Calcium & Barium & Iron & Type\\\\\n",
       "\\hline\n",
       "\t 1       & 1.52101 & 13.64   & 4.49    & 1.10    & 71.78   & 0.06    & 8.75    & 0       & 0.00    & 1      \\\\\n",
       "\t 2       & 1.51761 & 13.89   & 3.60    & 1.36    & 72.73   & 0.48    & 7.83    & 0       & 0.00    & 1      \\\\\n",
       "\t 3       & 1.51618 & 13.53   & 3.55    & 1.54    & 72.99   & 0.39    & 7.78    & 0       & 0.00    & 1      \\\\\n",
       "\t 4       & 1.51766 & 13.21   & 3.69    & 1.29    & 72.61   & 0.57    & 8.22    & 0       & 0.00    & 1      \\\\\n",
       "\t 5       & 1.51742 & 13.27   & 3.62    & 1.24    & 73.08   & 0.55    & 8.07    & 0       & 0.00    & 1      \\\\\n",
       "\t 6       & 1.51596 & 12.79   & 3.61    & 1.62    & 72.97   & 0.64    & 8.07    & 0       & 0.26    & 1      \\\\\n",
       "\\end{tabular}\n"
      ],
      "text/plain": [
       "  Id Refractive_Index Sodium Magnesium Aluminium Silicon Potassium Calcium\n",
       "1 1  1.52101          13.64  4.49      1.10      71.78   0.06      8.75   \n",
       "2 2  1.51761          13.89  3.60      1.36      72.73   0.48      7.83   \n",
       "3 3  1.51618          13.53  3.55      1.54      72.99   0.39      7.78   \n",
       "4 4  1.51766          13.21  3.69      1.29      72.61   0.57      8.22   \n",
       "5 5  1.51742          13.27  3.62      1.24      73.08   0.55      8.07   \n",
       "6 6  1.51596          12.79  3.61      1.62      72.97   0.64      8.07   \n",
       "  Barium Iron Type\n",
       "1 0      0.00 1   \n",
       "2 0      0.00 1   \n",
       "3 0      0.00 1   \n",
       "4 0      0.00 1   \n",
       "5 0      0.00 1   \n",
       "6 0      0.26 1   "
      ]
     },
     "metadata": {},
     "output_type": "display_data"
    }
   ],
   "source": [
    "head(glass_data)"
   ]
  },
  {
   "cell_type": "code",
   "execution_count": 71,
   "metadata": {
    "collapsed": false
   },
   "outputs": [
    {
     "name": "stdout",
     "output_type": "stream",
     "text": [
      "'data.frame':\t214 obs. of  11 variables:\n",
      " $ Id              : int  1 2 3 4 5 6 7 8 9 10 ...\n",
      " $ Refractive_Index: num  1.52 1.52 1.52 1.52 1.52 ...\n",
      " $ Sodium          : num  13.6 13.9 13.5 13.2 13.3 ...\n",
      " $ Magnesium       : num  4.49 3.6 3.55 3.69 3.62 3.61 3.6 3.61 3.58 3.6 ...\n",
      " $ Aluminium       : num  1.1 1.36 1.54 1.29 1.24 1.62 1.14 1.05 1.37 1.36 ...\n",
      " $ Silicon         : num  71.8 72.7 73 72.6 73.1 ...\n",
      " $ Potassium       : num  0.06 0.48 0.39 0.57 0.55 0.64 0.58 0.57 0.56 0.57 ...\n",
      " $ Calcium         : num  8.75 7.83 7.78 8.22 8.07 8.07 8.17 8.24 8.3 8.4 ...\n",
      " $ Barium          : num  0 0 0 0 0 0 0 0 0 0 ...\n",
      " $ Iron            : num  0 0 0 0 0 0.26 0 0 0 0.11 ...\n",
      " $ Type            : Factor w/ 6 levels \"1\",\"2\",\"3\",\"5\",..: 1 1 1 1 1 1 1 1 1 1 ...\n"
     ]
    }
   ],
   "source": [
    "# Convert Type variable to factor type. \n",
    "glass_data$Type=as.factor(glass_data$Type)\n",
    "str(glass_data)"
   ]
  },
  {
   "cell_type": "markdown",
   "metadata": {},
   "source": [
    "**Activity 7: ** Use ggplot to plot the variables Refrective_Index and Sodium of glass_data with Type variable supplied to color and shape parameters."
   ]
  },
  {
   "cell_type": "code",
   "execution_count": 74,
   "metadata": {
    "collapsed": false
   },
   "outputs": [
    {
     "data": {},
     "metadata": {},
     "output_type": "display_data"
    },
    {
     "data": {
      "image/png": "[encoded data removed]",
      "text/plain": [
       "plot without title"
      ]
     },
     "metadata": {},
     "output_type": "display_data"
    }
   ],
   "source": [
    "glass_plot = ggplot(glass_data, aes(Refractive_Index, Sodium))+ geom_point(aes(colour=factor(Type),shape=factor(Type))) \n",
    "glass_plot"
   ]
  },
  {
   "cell_type": "markdown",
   "metadata": {},
   "source": [
    "**Activity 8: ** Split the glass_data into train and test subsets. glass_train_data should have 70% data and glass_test_data should have rest 30% of data. Set seed as 123."
   ]
  },
  {
   "cell_type": "code",
   "execution_count": 130,
   "metadata": {
    "collapsed": false
   },
   "outputs": [],
   "source": [
    "# Your code for Activity 8 goes here.\n",
    "library(caTools)\n",
    "set.seed(123) # set.seed() will help us to reproduce the results.\n",
    "split = sample.split(glass_data$Refractive_Index, SplitRatio=0.7) \n",
    "# Train data will have the rest 70% of data\n",
    "glass_train_data  = subset(glass_data, split == TRUE,select = -c(Id))\n",
    "# Test data will have the rest 30% of data\n",
    "glass_test_data  = subset(glass_data, split == TRUE,select = -c(Id))"
   ]
  },
  {
   "cell_type": "markdown",
   "metadata": {},
   "source": [
    "**Activity 9: ** Fit a Linear Discriminant Analysis model on glass_train_data using all independent variables except Id to predict Type variable. Name this model glass_lda_fit."
   ]
  },
  {
   "cell_type": "code",
   "execution_count": 131,
   "metadata": {
    "collapsed": false
   },
   "outputs": [],
   "source": [
    "#I have removed Id column in the subset function in previous step\n",
    "library(MASS)\n",
    "glass_lda_fit = lda(Type ~ ., data=glass_train_data)"
   ]
  },
  {
   "cell_type": "code",
   "execution_count": 132,
   "metadata": {
    "collapsed": false
   },
   "outputs": [
    {
     "data": {
      "text/html": [
       "<dl class=dl-horizontal>\n",
       "\t<dt>1</dt>\n",
       "\t\t<dd>45</dd>\n",
       "\t<dt>2</dt>\n",
       "\t\t<dd>52</dd>\n",
       "\t<dt>3</dt>\n",
       "\t\t<dd>15</dd>\n",
       "\t<dt>5</dt>\n",
       "\t\t<dd>9</dd>\n",
       "\t<dt>6</dt>\n",
       "\t\t<dd>6</dd>\n",
       "\t<dt>7</dt>\n",
       "\t\t<dd>22</dd>\n",
       "</dl>\n"
      ],
      "text/latex": [
       "\\begin{description*}\n",
       "\\item[1] 45\n",
       "\\item[2] 52\n",
       "\\item[3] 15\n",
       "\\item[5] 9\n",
       "\\item[6] 6\n",
       "\\item[7] 22\n",
       "\\end{description*}\n"
      ],
      "text/markdown": [
       "1\n",
       ":   452\n",
       ":   523\n",
       ":   155\n",
       ":   96\n",
       ":   67\n",
       ":   22\n",
       "\n"
      ],
      "text/plain": [
       " 1  2  3  5  6  7 \n",
       "45 52 15  9  6 22 "
      ]
     },
     "metadata": {},
     "output_type": "display_data"
    }
   ],
   "source": [
    "# <lda_model>$count will give the counts for each class in the data\n",
    "glass_lda_fit$count"
   ]
  },
  {
   "cell_type": "code",
   "execution_count": 133,
   "metadata": {
    "collapsed": false
   },
   "outputs": [
    {
     "data": {
      "text/html": [
       "<ol class=list-inline>\n",
       "\t<li>12.557157580941</li>\n",
       "\t<li>4.95492370456413</li>\n",
       "\t<li>2.96306889378089</li>\n",
       "\t<li>2.01937220198639</li>\n",
       "\t<li>1.3505709973573</li>\n",
       "</ol>\n"
      ],
      "text/latex": [
       "\\begin{enumerate*}\n",
       "\\item 12.557157580941\n",
       "\\item 4.95492370456413\n",
       "\\item 2.96306889378089\n",
       "\\item 2.01937220198639\n",
       "\\item 1.3505709973573\n",
       "\\end{enumerate*}\n"
      ],
      "text/markdown": [
       "1. 12.557157580941\n",
       "2. 4.95492370456413\n",
       "3. 2.96306889378089\n",
       "4. 2.01937220198639\n",
       "5. 1.3505709973573\n",
       "\n",
       "\n"
      ],
      "text/plain": [
       "[1] 12.557158  4.954924  2.963069  2.019372  1.350571"
      ]
     },
     "metadata": {},
     "output_type": "display_data"
    }
   ],
   "source": [
    "# the singular values (svd) gives the ratio of the between and within-group standard deviations of the linear \n",
    "# discriminant variables.\n",
    "glass_lda_fit$svd"
   ]
  },
  {
   "cell_type": "code",
   "execution_count": 134,
   "metadata": {
    "collapsed": false
   },
   "outputs": [
    {
     "data": {
      "text/html": [
       "<ol class=list-inline>\n",
       "\t<li>0.80076215293075</li>\n",
       "\t<li>0.124679425731095</li>\n",
       "\t<li>0.0445865992359109</li>\n",
       "\t<li>0.0207087362639819</li>\n",
       "\t<li>0.00926308583826235</li>\n",
       "</ol>\n"
      ],
      "text/latex": [
       "\\begin{enumerate*}\n",
       "\\item 0.80076215293075\n",
       "\\item 0.124679425731095\n",
       "\\item 0.0445865992359109\n",
       "\\item 0.0207087362639819\n",
       "\\item 0.00926308583826235\n",
       "\\end{enumerate*}\n"
      ],
      "text/markdown": [
       "1. 0.80076215293075\n",
       "2. 0.124679425731095\n",
       "3. 0.0445865992359109\n",
       "4. 0.0207087362639819\n",
       "5. 0.00926308583826235\n",
       "\n",
       "\n"
      ],
      "text/plain": [
       "[1] 0.800762153 0.124679426 0.044586599 0.020708736 0.009263086"
      ]
     },
     "metadata": {},
     "output_type": "display_data"
    }
   ],
   "source": [
    "# normalized proportions.\n",
    "prop = glass_lda_fit$svd^2/sum(glass_lda_fit$svd^2)\n",
    "prop\n",
    "# Based on values displayed below, 1st LDA can explain more than 79% percent of between-group variance in this dataset."
   ]
  },
  {
   "cell_type": "markdown",
   "metadata": {},
   "source": [
    "**Activity 10: ** Predict the glass type in glass_test_data using the model glass_lda_fit built above."
   ]
  },
  {
   "cell_type": "code",
   "execution_count": 121,
   "metadata": {
    "collapsed": false
   },
   "outputs": [],
   "source": [
    "# Your code for Activity 10 goes here.\n",
    "pred <- predict(glass_lda_fit,glass_test_data)"
   ]
  },
  {
   "cell_type": "markdown",
   "metadata": {},
   "source": [
    "**Activity 11: ** Calculate the accuracy of the model using the confusion matrix. "
   ]
  },
  {
   "cell_type": "code",
   "execution_count": 122,
   "metadata": {
    "collapsed": false
   },
   "outputs": [
    {
     "data": {
      "text/plain": [
       "   \n",
       "     1  2  3  5  6  7\n",
       "  1 32  8 10  0  1  1\n",
       "  2 11 40  3  2  2  1\n",
       "  3  2  0  2  0  0  0\n",
       "  5  0  2  0  6  0  0\n",
       "  6  0  2  0  0  3  0\n",
       "  7  0  0  0  1  0 20"
      ]
     },
     "metadata": {},
     "output_type": "display_data"
    }
   ],
   "source": [
    "conftable1 <- table(pred$class, glass_test_data$Type)\n",
    "conftable1"
   ]
  },
  {
   "cell_type": "code",
   "execution_count": 123,
   "metadata": {
    "collapsed": false
   },
   "outputs": [
    {
     "data": {
      "text/html": [
       "'accuracy: 0.691275167785235'"
      ],
      "text/latex": [
       "'accuracy: 0.691275167785235'"
      ],
      "text/markdown": [
       "'accuracy: 0.691275167785235'"
      ],
      "text/plain": [
       "[1] \"accuracy: 0.691275167785235\""
      ]
     },
     "metadata": {},
     "output_type": "display_data"
    }
   ],
   "source": [
    "paste('accuracy:',mean(pred$class == glass_test_data$Type))"
   ]
  },
  {
   "cell_type": "markdown",
   "metadata": {},
   "source": [
    "LDA did not do a decent job in classifying glass types. Apply SVM on the same data to see if there would be any improvement in the classification accuracy.\n",
    "\n",
    "**Activity 12: ** Fit a SVM model on glass_train_data using all independent variables except Id to predict Type variable. Name this model glass_svm_fit. Make sure to use a nonlinear kernel."
   ]
  },
  {
   "cell_type": "code",
   "execution_count": 147,
   "metadata": {
    "collapsed": false
   },
   "outputs": [
    {
     "data": {
      "text/plain": [
       "\n",
       "Call:\n",
       "svm(formula = Type ~ ., data = glass_train_data, kernel = \"radial\", \n",
       "    gamma = 2)\n",
       "\n",
       "\n",
       "Parameters:\n",
       "   SVM-Type:  C-classification \n",
       " SVM-Kernel:  radial \n",
       "       cost:  1 \n",
       "      gamma:  2 \n",
       "\n",
       "Number of Support Vectors:  136\n",
       "\n",
       " ( 39 47 15 9 6 20 )\n",
       "\n",
       "\n",
       "Number of Classes:  6 \n",
       "\n",
       "Levels: \n",
       " 1 2 3 5 6 7\n",
       "\n",
       "\n"
      ]
     },
     "metadata": {},
     "output_type": "display_data"
    }
   ],
   "source": [
    "# Your code for Activity 12 goes here.\n",
    "# tuned gamma for better accuracy.\n",
    "library(\"e1071\")\n",
    "glass_svm_fit = svm(Type ~ ., data=glass_train_data, kernel=\"radial\",gamma = 2)\n",
    "summary(glass_svm_fit)"
   ]
  },
  {
   "cell_type": "markdown",
   "metadata": {},
   "source": [
    "**Activity 13: ** Predict the glass type in glass_test_data using the SVM model glass_svm_fit built above. Use the confusionmatrix function of caret package to find the accuracy of the model."
   ]
  },
  {
   "cell_type": "code",
   "execution_count": 148,
   "metadata": {
    "collapsed": false
   },
   "outputs": [
    {
     "data": {
      "text/plain": [
       "       class\n",
       "predict  1  2  3  5  6  7\n",
       "      1 41  2  6  0  0  0\n",
       "      2  3 50  0  0  0  0\n",
       "      3  1  0  9  0  0  0\n",
       "      5  0  0  0  9  0  0\n",
       "      6  0  0  0  0  6  0\n",
       "      7  0  0  0  0  0 22"
      ]
     },
     "metadata": {},
     "output_type": "display_data"
    }
   ],
   "source": [
    "# Your code for Activity 13 goes here.\n",
    "library(caret)\n",
    "pred2=predict(glass_svm_fit, glass_test_data)\n",
    "conftable2=table(predict=pred2, class=glass_test_data$Type)\n",
    "conftable2"
   ]
  },
  {
   "cell_type": "code",
   "execution_count": 149,
   "metadata": {
    "collapsed": false
   },
   "outputs": [
    {
     "data": {
      "text/html": [
       "'accuracy: 0.919463087248322'"
      ],
      "text/latex": [
       "'accuracy: 0.919463087248322'"
      ],
      "text/markdown": [
       "'accuracy: 0.919463087248322'"
      ],
      "text/plain": [
       "[1] \"accuracy: 0.919463087248322\""
      ]
     },
     "metadata": {},
     "output_type": "display_data"
    }
   ],
   "source": [
    "paste('accuracy:',mean(pred2 == glass_test_data$Type))"
   ]
  }
 ],
 "metadata": {
  "kernelspec": {
   "display_name": "R",
   "language": "R",
   "name": "ir"
  },
  "language_info": {
   "codemirror_mode": "r",
   "file_extension": ".r",
   "mimetype": "text/x-r-source",
   "name": "R",
   "pygments_lexer": "r",
   "version": "3.3.1"
  }
 },
 "nbformat": 4,
 "nbformat_minor": 0
}
