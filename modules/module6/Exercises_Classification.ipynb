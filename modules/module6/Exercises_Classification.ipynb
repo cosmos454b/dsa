{
 "cells": [
  {
   "cell_type": "markdown",
   "metadata": {},
   "source": [
    "## Module 6 - Classification Exercises\n",
    "\n",
    "We saw why linear regression is not an ideal choice for classification. We audited some of the classification algorithms logistic regression, LDA and SVM which are widely used for data analysis. \n",
    "\n",
    "Apply this classification algorithms you came across in lab and practice notebooks on songs and glass datasets. The songs dataset captures details about a song year when it is released, title, artist name, loudness pitch, tempo, timbre values etc. All this independent values are used to predict if the song has made it to the top 10 list. Apply a logistic regression model to this dataset."
   ]
  },
  {
   "cell_type": "markdown",
   "metadata": {},
   "source": [
    "Reading the data from dataset located at /datasets/songs/songs.csv"
   ]
  },
  {
   "cell_type": "code",
   "execution_count": null,
   "metadata": {
    "collapsed": false
   },
   "outputs": [],
   "source": [
    "songs_data = read.csv(\"../../../datasets/songs/songs.csv\")\n",
    "head(songs_data)"
   ]
  },
  {
   "cell_type": "code",
   "execution_count": null,
   "metadata": {
    "collapsed": false
   },
   "outputs": [],
   "source": [
    "str(songs_data)\n",
    "table(songs_data$year)"
   ]
  },
  {
   "cell_type": "markdown",
   "metadata": {},
   "source": [
    "**Activity 1: ** Split the songs_data dataframe into train and test sets. Use subset function to create songs_traindata and songs_testdata subsets. songs_traindata should contain songs with year less than or equal to (<=) 2009 and songs_testdata should contain songs from year 2010."
   ]
  },
  {
   "cell_type": "code",
   "execution_count": null,
   "metadata": {
    "collapsed": true
   },
   "outputs": [],
   "source": [
    "# Your code for Activity 1 goes here\n",
    "\n",
    "#split the data into train and test sets\n"
   ]
  },
  {
   "cell_type": "markdown",
   "metadata": {},
   "source": [
    "**Activity 2: ** Remove the following independent variables (\"year\", \"songtitle\", \"artistname\", \"songID\", and \"artistID\") from songs_traindata and songs_testdata."
   ]
  },
  {
   "cell_type": "code",
   "execution_count": null,
   "metadata": {
    "collapsed": true
   },
   "outputs": [],
   "source": [
    "# Your code for Activity 2 goes here\n",
    "\n"
   ]
  },
  {
   "cell_type": "code",
   "execution_count": null,
   "metadata": {
    "collapsed": false
   },
   "outputs": [],
   "source": [
    "# Use ggplot to pLot the the variables loudness and energy of songs_traindata with Top10 supplied to color and shape parameters.\n",
    "library(ggplot2)\n",
    "songs_plot <- ggplot(songs_traindata, aes(loudness, energy)) + geom_point(aes(colour=factor(Top10),shape=factor(Top10))) \n",
    "songs_plot"
   ]
  },
  {
   "cell_type": "markdown",
   "metadata": {},
   "source": [
    "According to above graph, there is not a clear linear boundary to separate the songs that made it to Top10 and those not."
   ]
  },
  {
   "cell_type": "markdown",
   "metadata": {},
   "source": [
    "**Activity 3: ** Fit a logistic regression model to predict Top10 using all the independent variables. Name this model songsLog1."
   ]
  },
  {
   "cell_type": "code",
   "execution_count": null,
   "metadata": {
    "collapsed": true
   },
   "outputs": [],
   "source": [
    "# Your code for Activity 3 goes here\n",
    "\n"
   ]
  },
  {
   "cell_type": "code",
   "execution_count": null,
   "metadata": {
    "collapsed": false
   },
   "outputs": [],
   "source": [
    "summary(songsLog1)"
   ]
  },
  {
   "cell_type": "markdown",
   "metadata": {},
   "source": [
    "**Activity 4: ** Make predictions on the test set using songsLog1 model."
   ]
  },
  {
   "cell_type": "code",
   "execution_count": null,
   "metadata": {
    "collapsed": true
   },
   "outputs": [],
   "source": [
    "# Your code for Activity 4 goes here\n"
   ]
  },
  {
   "cell_type": "markdown",
   "metadata": {},
   "source": [
    "**Activity 5: ** What is the accuracy of model 'songsLog1' on the test set, using a threshold of 0.5? (Compute the accuracy as a number between 0 and 1.)"
   ]
  },
  {
   "cell_type": "code",
   "execution_count": null,
   "metadata": {
    "collapsed": false
   },
   "outputs": [],
   "source": [
    "# Your code for Activity 5 goes here\n",
    "\n"
   ]
  },
  {
   "cell_type": "code",
   "execution_count": null,
   "metadata": {
    "collapsed": false
   },
   "outputs": [],
   "source": [
    "# Activity 5\n",
    "# Calculate the accuracy of the model here. R can do the math for you.\n",
    "\n"
   ]
  },
  {
   "cell_type": "markdown",
   "metadata": {},
   "source": [
    "**Activity 6**:  Calculate baseline model accuracy."
   ]
  },
  {
   "cell_type": "code",
   "execution_count": null,
   "metadata": {
    "collapsed": false
   },
   "outputs": [],
   "source": [
    "# Your answer for Activity 6 goes here. Just do the math needed to calculate accuracy.\n",
    "\n"
   ]
  },
  {
   "cell_type": "markdown",
   "metadata": {},
   "source": [
    "### LDA and SVM\n",
    "\n",
    "Apply LDA and SVM algorithms on glass dataset. The dependent variable in the dataset Type has 6 different classes. \n",
    "\n",
    "Load the glass dataset from /datasets/glass/glass.csv. Apply LDA on the dataset to determine the type of glass."
   ]
  },
  {
   "cell_type": "code",
   "execution_count": null,
   "metadata": {
    "collapsed": false
   },
   "outputs": [],
   "source": [
    "glass_data = read.csv(\"../../../datasets/glass/glass.txt\",header=FALSE,sep=',')\n",
    "head(glass_data)"
   ]
  },
  {
   "cell_type": "code",
   "execution_count": null,
   "metadata": {
    "collapsed": false
   },
   "outputs": [],
   "source": [
    "# The data file doesn't have headers. So read the column names into a vector and add column names to the glass dataset.\n",
    "header = c(\"Id\", \"Refractive_Index\",\"Sodium\",\"Magnesium\",\"Aluminium\",\"Silicon\",\"Potassium\",\"Calcium\",\"Barium\",\"Iron\",\"Type\")\n",
    "names(glass_data)=header"
   ]
  },
  {
   "cell_type": "code",
   "execution_count": null,
   "metadata": {
    "collapsed": false
   },
   "outputs": [],
   "source": [
    "head(glass_data)"
   ]
  },
  {
   "cell_type": "code",
   "execution_count": null,
   "metadata": {
    "collapsed": false
   },
   "outputs": [],
   "source": [
    "# Convert Type variable to factor type. \n",
    "glass_data$Type=as.factor(glass_data$Type)\n",
    "str(glass_data)"
   ]
  },
  {
   "cell_type": "markdown",
   "metadata": {},
   "source": [
    "**Activity 7: ** Use ggplot to plot the variables Refrective_Index and Sodium of glass_data with Type variable supplied to color and shape parameters."
   ]
  },
  {
   "cell_type": "code",
   "execution_count": null,
   "metadata": {
    "collapsed": false
   },
   "outputs": [],
   "source": [
    "# Your code for Activity 7 goes here.\n",
    "\n"
   ]
  },
  {
   "cell_type": "markdown",
   "metadata": {},
   "source": [
    "**Activity 8: ** Split the glass_data into train and test subsets. glass_train_data should have 70% data and glass_test_data should have rest 30% of data. Set seed as 123."
   ]
  },
  {
   "cell_type": "code",
   "execution_count": null,
   "metadata": {
    "collapsed": true
   },
   "outputs": [],
   "source": [
    "# Your code for Activity 8 goes here.\n",
    "\n",
    "library(caTools)\n",
    "set.seed(123) # set.seed() will help us to reproduce the results.\n",
    "\n",
    "# Train data will have the rest 70% of data\n",
    "glass_train_data  = \n",
    "\n",
    "# Test data will have the rest 30% of data\n",
    "glass_test_data  = "
   ]
  },
  {
   "cell_type": "markdown",
   "metadata": {},
   "source": [
    "**Activity 9: ** Fit a Linear Discriminant Analysis model on glass_train_data using all independent variables except Id to predict Type variable. Name this model glass_lda_fit."
   ]
  },
  {
   "cell_type": "code",
   "execution_count": null,
   "metadata": {
    "collapsed": false
   },
   "outputs": [],
   "source": [
    "# Your code for Activity 9 goes here.\n",
    "\n",
    "library(MASS)\n"
   ]
  },
  {
   "cell_type": "code",
   "execution_count": null,
   "metadata": {
    "collapsed": false
   },
   "outputs": [],
   "source": [
    "# <lda_model>$count will give the counts for each class in the data\n",
    "glass_lda_fit$count"
   ]
  },
  {
   "cell_type": "code",
   "execution_count": null,
   "metadata": {
    "collapsed": false
   },
   "outputs": [],
   "source": [
    "# the singular values (svd) gives the ratio of the between and within-group standard deviations of the linear \n",
    "# discriminant variables.\n",
    "glass_lda_fit$svd"
   ]
  },
  {
   "cell_type": "code",
   "execution_count": null,
   "metadata": {
    "collapsed": false
   },
   "outputs": [],
   "source": [
    "# normalized proportions.\n",
    "prop = glass_lda_fit$svd^2/sum(glass_lda_fit$svd^2)\n",
    "prop\n",
    "\n",
    "# Based on values displayed below, 1st LDA can explain more than 79% percent of between-group variance in this dataset."
   ]
  },
  {
   "cell_type": "markdown",
   "metadata": {},
   "source": [
    "**Activity 10: ** Predict the glass type in glass_test_data using the model glass_lda_fit built above."
   ]
  },
  {
   "cell_type": "code",
   "execution_count": null,
   "metadata": {
    "collapsed": true
   },
   "outputs": [],
   "source": [
    "# Your code for Activity 10 goes here.\n",
    "\n",
    "\n"
   ]
  },
  {
   "cell_type": "markdown",
   "metadata": {},
   "source": [
    "**Activity 11: ** Calculate the accuracy of the model using the confusion matrix. "
   ]
  },
  {
   "cell_type": "code",
   "execution_count": null,
   "metadata": {
    "collapsed": false
   },
   "outputs": [],
   "source": [
    "# Your code for Activity 11 goes here.\n",
    "\n",
    "# Build a confusion matrix using 2-way table."
   ]
  },
  {
   "cell_type": "code",
   "execution_count": null,
   "metadata": {
    "collapsed": false
   },
   "outputs": [],
   "source": [
    "# Accuracy of the model. \n"
   ]
  },
  {
   "cell_type": "markdown",
   "metadata": {},
   "source": [
    "LDA did not do a decent job in classifying glass types. Apply SVM on the same data to see if there would be any improvement in the classification accuracy.\n",
    "\n",
    "**Activity 12: ** Fit a SVM model on glass_train_data using all independent variables except Id to predict Type variable. Name this model glass_svm_fit. Make sure to use a nonlinear kernel."
   ]
  },
  {
   "cell_type": "code",
   "execution_count": 217,
   "metadata": {
    "collapsed": false
   },
   "outputs": [],
   "source": [
    "# Your code for Activity 12 goes here.\n",
    "\n",
    "library(\"e1071\")\n"
   ]
  },
  {
   "cell_type": "markdown",
   "metadata": {},
   "source": [
    "**Activity 13: ** Predict the glass type in glass_test_data using the SVM model glass_svm_fit built above. Use the confusionmatrix function of caret package to find the accuracy of the model."
   ]
  },
  {
   "cell_type": "code",
   "execution_count": null,
   "metadata": {
    "collapsed": false
   },
   "outputs": [],
   "source": [
    "# Your code for Activity 13 goes here.\n",
    "\n",
    "library(caret)\n",
    "\n",
    "# show the confusion matrix\n"
   ]
  }
 ],
 "metadata": {
  "kernelspec": {
   "display_name": "R",
   "language": "R",
   "name": "ir"
  },
  "language_info": {
   "codemirror_mode": "r",
   "file_extension": ".r",
   "mimetype": "text/x-r-source",
   "name": "R",
   "pygments_lexer": "r",
   "version": "3.3.1"
  }
 },
 "nbformat": 4,
 "nbformat_minor": 0
}
