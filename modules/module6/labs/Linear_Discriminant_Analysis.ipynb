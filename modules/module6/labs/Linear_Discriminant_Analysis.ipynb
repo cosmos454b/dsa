{
 "cells": [
  {
   "cell_type": "markdown",
   "metadata": {
    "collapsed": true
   },
   "source": [
    "## Linear Discriminant Analysis(LDA)"
   ]
  },
  {
   "cell_type": "markdown",
   "metadata": {
    "collapsed": true
   },
   "source": [
    "Linear Discriminant Analysis or LDA is a technique to classify an object into one of two or more groups depending on a set of features that describes that object. It does so by assigning the object to the group with the highest conditional probability. Remember Bayes Rule? This is exactly that.\n",
    "\n",
    "LDA is an extension to logistic regression. Here the distribution of the predictors X is modeled separately in each of the\n",
    "response classes (i.e. given Y), and then Bayes’ theorem is used to flip these observations around into estimates for $Pr(Y = k\\ |\\ X = x)$.\n",
    "\n",
    "\n",
    "**Using Bayes’ Theorem for Classification**\n",
    "\n",
    "Suppose there are k(k>=2) classesk>=2 such that we want an observation to be classified into. The response variable Y can take on K possible distinct and unordered values. Let $π_k$ represent the prior probability that a randomly chosen observation comes from the kth class. This is the probability that a given observation is associated with the $k_{th}$ category of the response variable Y . Let $f_k(X) ≡ Pr(X = x|Y = k)$ denote the density function of $X$ for an observation that comes from the $k_{th}$ class. In other words, $f_k(x)$ is relatively large if there is a high probability that an observation in the $k_{th}$ class has X ≈ x, and fk(x) is small if it is very unlikely that an observation in the kth class has X ≈ x. Then Bayes’ theorem states that\n",
    "\n",
    "$$ Pr(Y = k\\ |\\ X = x) = \\frac{π_k f_k(x)}{\\sum_{l=1}^{K} π_l f_l(x)}$$\n",
    "\n",
    "If the above equation is represented using the notation used for logistic regression we will get something like $p_k(X) = Pr(Y = k\\ |\\ X)$. This means instead of directly computing $p_k(X)$, we can simply plug in estimates of $π_k$ and $f_k(X)$ into above complicated looking equation. Estimating $π_k$ is easy if we have a random sample of Ys from the population. We compute the fraction of the training observations that belong to the kth class. \n",
    "\n",
    "Estimating $f_k(X)$ is a bit more challenging, $p_k(x)$ is the posterior probability that an observation $X\\ =\\ x$ belongs to the $k_{th}$ class. That is, it is the probability that the observation belongs to the $k_{th}$ class, given the predictor value for that observation. Bayes classifier, classifies an observation to the class for which $p_k(X)$ is largest, has the lowest possible error rate out of all classifiers.\n"
   ]
  },
  {
   "cell_type": "markdown",
   "metadata": {
    "collapsed": true
   },
   "source": [
    "----\n",
    "We will evaluate the performance of LDA over logistic regression. Use Smarket dataset again to predict Direction. Fit a LDA model using the lda() function, which is part of the MASS library. Notice that the lda() syntax for the lda() function is identical to that of lm(), and to that of glm() except for the absence of the family option. \n",
    "\n",
    "We are going to train the model on those observations that occurred before the year 2005, and predict for those observations during 2005.\n"
   ]
  },
  {
   "cell_type": "code",
   "execution_count": 3,
   "metadata": {
    "collapsed": false
   },
   "outputs": [
    {
     "name": "stderr",
     "output_type": "stream",
     "text": [
      "The following objects are masked from Smarket (pos = 3):\n",
      "\n",
      "    Direction, Lag1, Lag2, Lag3, Lag4, Lag5, Today, Volume, Year\n",
      "\n",
      "The following objects are masked from Smarket (pos = 4):\n",
      "\n",
      "    Direction, Lag1, Lag2, Lag3, Lag4, Lag5, Today, Volume, Year\n",
      "\n"
     ]
    },
    {
     "data": {
      "text/html": [
       "<table>\n",
       "<thead><tr><th scope=col>Year</th><th scope=col>Lag1</th><th scope=col>Lag2</th><th scope=col>Lag3</th><th scope=col>Lag4</th><th scope=col>Lag5</th><th scope=col>Volume</th><th scope=col>Today</th><th scope=col>Direction</th></tr></thead>\n",
       "<tbody>\n",
       "\t<tr><td>2001  </td><td> 0.381</td><td>-0.192</td><td>-2.624</td><td>-1.055</td><td> 5.010</td><td>1.1913</td><td> 0.959</td><td>Up    </td></tr>\n",
       "\t<tr><td>2001  </td><td> 0.959</td><td> 0.381</td><td>-0.192</td><td>-2.624</td><td>-1.055</td><td>1.2965</td><td> 1.032</td><td>Up    </td></tr>\n",
       "\t<tr><td>2001  </td><td> 1.032</td><td> 0.959</td><td> 0.381</td><td>-0.192</td><td>-2.624</td><td>1.4112</td><td>-0.623</td><td>Down  </td></tr>\n",
       "\t<tr><td>2001  </td><td>-0.623</td><td> 1.032</td><td> 0.959</td><td> 0.381</td><td>-0.192</td><td>1.2760</td><td> 0.614</td><td>Up    </td></tr>\n",
       "\t<tr><td>2001  </td><td> 0.614</td><td>-0.623</td><td> 1.032</td><td> 0.959</td><td> 0.381</td><td>1.2057</td><td> 0.213</td><td>Up    </td></tr>\n",
       "\t<tr><td>2001  </td><td> 0.213</td><td> 0.614</td><td>-0.623</td><td> 1.032</td><td> 0.959</td><td>1.3491</td><td> 1.392</td><td>Up    </td></tr>\n",
       "</tbody>\n",
       "</table>\n"
      ],
      "text/latex": [
       "\\begin{tabular}{r|lllllllll}\n",
       " Year & Lag1 & Lag2 & Lag3 & Lag4 & Lag5 & Volume & Today & Direction\\\\\n",
       "\\hline\n",
       "\t 2001   &  0.381 & -0.192 & -2.624 & -1.055 &  5.010 & 1.1913 &  0.959 & Up    \\\\\n",
       "\t 2001   &  0.959 &  0.381 & -0.192 & -2.624 & -1.055 & 1.2965 &  1.032 & Up    \\\\\n",
       "\t 2001   &  1.032 &  0.959 &  0.381 & -0.192 & -2.624 & 1.4112 & -0.623 & Down  \\\\\n",
       "\t 2001   & -0.623 &  1.032 &  0.959 &  0.381 & -0.192 & 1.2760 &  0.614 & Up    \\\\\n",
       "\t 2001   &  0.614 & -0.623 &  1.032 &  0.959 &  0.381 & 1.2057 &  0.213 & Up    \\\\\n",
       "\t 2001   &  0.213 &  0.614 & -0.623 &  1.032 &  0.959 & 1.3491 &  1.392 & Up    \\\\\n",
       "\\end{tabular}\n"
      ],
      "text/plain": [
       "  Year Lag1   Lag2   Lag3   Lag4   Lag5   Volume Today  Direction\n",
       "1 2001  0.381 -0.192 -2.624 -1.055  5.010 1.1913  0.959 Up       \n",
       "2 2001  0.959  0.381 -0.192 -2.624 -1.055 1.2965  1.032 Up       \n",
       "3 2001  1.032  0.959  0.381 -0.192 -2.624 1.4112 -0.623 Down     \n",
       "4 2001 -0.623  1.032  0.959  0.381 -0.192 1.2760  0.614 Up       \n",
       "5 2001  0.614 -0.623  1.032  0.959  0.381 1.2057  0.213 Up       \n",
       "6 2001  0.213  0.614 -0.623  1.032  0.959 1.3491  1.392 Up       "
      ]
     },
     "metadata": {},
     "output_type": "display_data"
    },
    {
     "data": {
      "text/html": [
       "<ol class=list-inline>\n",
       "\t<li>252</li>\n",
       "\t<li>9</li>\n",
       "</ol>\n"
      ],
      "text/latex": [
       "\\begin{enumerate*}\n",
       "\\item 252\n",
       "\\item 9\n",
       "\\end{enumerate*}\n"
      ],
      "text/markdown": [
       "1. 252\n",
       "2. 9\n",
       "\n",
       "\n"
      ],
      "text/plain": [
       "[1] 252   9"
      ]
     },
     "metadata": {},
     "output_type": "display_data"
    }
   ],
   "source": [
    "library(ISLR)\n",
    "attach(Smarket)\n",
    "head(Smarket)\n",
    "# The object train is a vector of 1,250 elements, corresponding to the observations in our data set. The elements of the \n",
    "# vector that correspond to observations that occurred before 2005 are set to TRUE as they satisfy the condition. \n",
    "# whereas those that correspond to observations in 2005 are set to FALSE. \n",
    "train = Year<2005\n",
    "\n",
    "# train is a Boolean vector, since its elements are TRUE and FALSE. So the TRUE and FALSE values corresponding to each row\n",
    "# will let you subset rows or columns of a matrix. For instance, the command Smarket[!train,] would pick out a submatrix of the\n",
    "# stock market dataset, corresponding to dates in 2005, since those are the ones for which the elements of train are FALSE and \n",
    "# `!` operator will reverse the elements of train vector.\n",
    "Smarket.2005= Smarket[!train,]\n",
    "\n",
    "# Check the dimensions of Smarket.2005\n",
    "dim(Smarket.2005)\n",
    "\n",
    "# Save the Direction values corresponding to 2005 dates.\n",
    "Direction.2005 = Direction[!train]"
   ]
  },
  {
   "cell_type": "code",
   "execution_count": 5,
   "metadata": {
    "collapsed": false
   },
   "outputs": [
    {
     "data": {
      "text/plain": [
       "Call:\n",
       "lda(Direction ~ Lag1 + Lag2, data = Smarket, subset = train)\n",
       "\n",
       "Prior probabilities of groups:\n",
       "    Down       Up \n",
       "0.491984 0.508016 \n",
       "\n",
       "Group means:\n",
       "            Lag1        Lag2\n",
       "Down  0.04279022  0.03389409\n",
       "Up   -0.03954635 -0.03132544\n",
       "\n",
       "Coefficients of linear discriminants:\n",
       "            LD1\n",
       "Lag1 -0.6420190\n",
       "Lag2 -0.5135293"
      ]
     },
     "metadata": {},
     "output_type": "display_data"
    }
   ],
   "source": [
    "library(MASS)\n",
    "lda.fit=lda(Direction~Lag1+Lag2 ,data=Smarket ,subset=train)\n",
    "lda.fit"
   ]
  },
  {
   "cell_type": "markdown",
   "metadata": {
    "collapsed": true
   },
   "source": [
    "The model output indicates that $\\hat{π}_1$ = 0.492 and $\\hat{π}_2$ = 0.508 i'e 49.2% of the observations correspond to days during which the market went down. These are the average probabilities of each predictor within each class, and are used by LDA as estimates of μk. \n",
    "\n",
    "The probabilities suggest there is a tendency for the last 2 days’ returns to be negative on days when the market increases and a tendency for the last 2 days’ returns to be positive on days when the market declines. The coefficients of linear discriminants output are used to form the LDA decision rule. If −0.642×Lag1−0.514×Lag2 is large, then the LDA classifier will predict a market increase, and if it is small, then the LDA classifier will predict a market decline. The plot() function produces plots of the linear discriminants, obtained by computing −0.642 × Lag1 − 0.514 × Lag2 for each of the training observations."
   ]
  },
  {
   "cell_type": "code",
   "execution_count": 6,
   "metadata": {
    "collapsed": false
   },
   "outputs": [
    {
     "data": {
      "image/png": "[encoded data removed]",
      "text/plain": [
       "plot without title"
      ]
     },
     "metadata": {},
     "output_type": "display_data"
    }
   ],
   "source": [
    "plot(lda.fit)"
   ]
  },
  {
   "cell_type": "markdown",
   "metadata": {},
   "source": [
    "The predict() function returns a list with three elements. The first element, class, contains LDA’s predictions about the movement of the market. The second element, posterior, is a matrix whose kth column contains the posterior probability that the corresponding observation belongs to the kth class. Finally, x contains the linear discriminants."
   ]
  },
  {
   "cell_type": "code",
   "execution_count": 12,
   "metadata": {
    "collapsed": false
   },
   "outputs": [
    {
     "data": {
      "text/html": [
       "<ol class=list-inline>\n",
       "\t<li>'class'</li>\n",
       "\t<li>'posterior'</li>\n",
       "\t<li>'x'</li>\n",
       "</ol>\n"
      ],
      "text/latex": [
       "\\begin{enumerate*}\n",
       "\\item 'class'\n",
       "\\item 'posterior'\n",
       "\\item 'x'\n",
       "\\end{enumerate*}\n"
      ],
      "text/markdown": [
       "1. 'class'\n",
       "2. 'posterior'\n",
       "3. 'x'\n",
       "\n",
       "\n"
      ],
      "text/plain": [
       "[1] \"class\"     \"posterior\" \"x\"        "
      ]
     },
     "metadata": {},
     "output_type": "display_data"
    }
   ],
   "source": [
    "lda.pred=predict(lda.fit, Smarket.2005)\n",
    "names(lda.pred)"
   ]
  },
  {
   "cell_type": "code",
   "execution_count": 13,
   "metadata": {
    "collapsed": false
   },
   "outputs": [
    {
     "data": {
      "text/plain": [
       "         Direction.2005\n",
       "lda.class Down  Up\n",
       "     Down   35  35\n",
       "     Up     76 106"
      ]
     },
     "metadata": {},
     "output_type": "display_data"
    },
    {
     "data": {
      "text/html": [
       "0.55952380952381"
      ],
      "text/latex": [
       "0.55952380952381"
      ],
      "text/markdown": [
       "0.55952380952381"
      ],
      "text/plain": [
       "[1] 0.5595238"
      ]
     },
     "metadata": {},
     "output_type": "display_data"
    }
   ],
   "source": [
    "lda.class =lda.pred$class\n",
    "table(lda.class ,Direction.2005)\n",
    "\n",
    "mean(lda.class == Direction.2005)"
   ]
  },
  {
   "cell_type": "markdown",
   "metadata": {},
   "source": [
    "Applying a 50% threshold to the posterior probabilities allows us to recreate the predictions contained in lda.pred$class"
   ]
  },
  {
   "cell_type": "code",
   "execution_count": 14,
   "metadata": {
    "collapsed": false
   },
   "outputs": [
    {
     "data": {
      "text/html": [
       "70"
      ],
      "text/latex": [
       "70"
      ],
      "text/markdown": [
       "70"
      ],
      "text/plain": [
       "[1] 70"
      ]
     },
     "metadata": {},
     "output_type": "display_data"
    },
    {
     "data": {
      "text/html": [
       "182"
      ],
      "text/latex": [
       "182"
      ],
      "text/markdown": [
       "182"
      ],
      "text/plain": [
       "[1] 182"
      ]
     },
     "metadata": {},
     "output_type": "display_data"
    }
   ],
   "source": [
    "sum(lda.pred$posterior[ ,1]>=0.5)\n",
    "\n",
    "sum(lda.pred$posterior[,1]<0.5)"
   ]
  },
  {
   "cell_type": "code",
   "execution_count": 15,
   "metadata": {
    "collapsed": false
   },
   "outputs": [
    {
     "data": {
      "text/html": [
       "<dl class=dl-horizontal>\n",
       "\t<dt>999</dt>\n",
       "\t\t<dd>0.490179249818258</dd>\n",
       "\t<dt>1000</dt>\n",
       "\t\t<dd>0.479218499099683</dd>\n",
       "\t<dt>1001</dt>\n",
       "\t\t<dd>0.466818479852065</dd>\n",
       "\t<dt>1002</dt>\n",
       "\t\t<dd>0.474001069455248</dd>\n",
       "\t<dt>1003</dt>\n",
       "\t\t<dd>0.492787663967445</dd>\n",
       "\t<dt>1004</dt>\n",
       "\t\t<dd>0.493856154997504</dd>\n",
       "\t<dt>1005</dt>\n",
       "\t\t<dd>0.495101564646223</dd>\n",
       "\t<dt>1006</dt>\n",
       "\t\t<dd>0.487286099421815</dd>\n",
       "\t<dt>1007</dt>\n",
       "\t\t<dd>0.490701348960405</dd>\n",
       "\t<dt>1008</dt>\n",
       "\t\t<dd>0.484402624071869</dd>\n",
       "\t<dt>1009</dt>\n",
       "\t\t<dd>0.490696276120968</dd>\n",
       "\t<dt>1010</dt>\n",
       "\t\t<dd>0.511998846261919</dd>\n",
       "\t<dt>1011</dt>\n",
       "\t\t<dd>0.489515226936648</dd>\n",
       "\t<dt>1012</dt>\n",
       "\t\t<dd>0.470676122211879</dd>\n",
       "\t<dt>1013</dt>\n",
       "\t\t<dd>0.474459285611829</dd>\n",
       "\t<dt>1014</dt>\n",
       "\t\t<dd>0.479958339148108</dd>\n",
       "\t<dt>1015</dt>\n",
       "\t\t<dd>0.493577529465861</dd>\n",
       "\t<dt>1016</dt>\n",
       "\t\t<dd>0.503089377118306</dd>\n",
       "\t<dt>1017</dt>\n",
       "\t\t<dd>0.497880612141404</dd>\n",
       "\t<dt>1018</dt>\n",
       "\t\t<dd>0.488633086516518</dd>\n",
       "</dl>\n"
      ],
      "text/latex": [
       "\\begin{description*}\n",
       "\\item[999] 0.490179249818258\n",
       "\\item[1000] 0.479218499099683\n",
       "\\item[1001] 0.466818479852065\n",
       "\\item[1002] 0.474001069455248\n",
       "\\item[1003] 0.492787663967445\n",
       "\\item[1004] 0.493856154997504\n",
       "\\item[1005] 0.495101564646223\n",
       "\\item[1006] 0.487286099421815\n",
       "\\item[1007] 0.490701348960405\n",
       "\\item[1008] 0.484402624071869\n",
       "\\item[1009] 0.490696276120968\n",
       "\\item[1010] 0.511998846261919\n",
       "\\item[1011] 0.489515226936648\n",
       "\\item[1012] 0.470676122211879\n",
       "\\item[1013] 0.474459285611829\n",
       "\\item[1014] 0.479958339148108\n",
       "\\item[1015] 0.493577529465861\n",
       "\\item[1016] 0.503089377118306\n",
       "\\item[1017] 0.497880612141404\n",
       "\\item[1018] 0.488633086516518\n",
       "\\end{description*}\n"
      ],
      "text/markdown": [
       "999\n",
       ":   0.4901792498182581000\n",
       ":   0.4792184990996831001\n",
       ":   0.4668184798520651002\n",
       ":   0.4740010694552481003\n",
       ":   0.4927876639674451004\n",
       ":   0.4938561549975041005\n",
       ":   0.4951015646462231006\n",
       ":   0.4872860994218151007\n",
       ":   0.4907013489604051008\n",
       ":   0.4844026240718691009\n",
       ":   0.4906962761209681010\n",
       ":   0.5119988462619191011\n",
       ":   0.4895152269366481012\n",
       ":   0.4706761222118791013\n",
       ":   0.4744592856118291014\n",
       ":   0.4799583391481081015\n",
       ":   0.4935775294658611016\n",
       ":   0.5030893771183061017\n",
       ":   0.4978806121414041018\n",
       ":   0.488633086516518\n",
       "\n"
      ],
      "text/plain": [
       "      999      1000      1001      1002      1003      1004      1005      1006 \n",
       "0.4901792 0.4792185 0.4668185 0.4740011 0.4927877 0.4938562 0.4951016 0.4872861 \n",
       "     1007      1008      1009      1010      1011      1012      1013      1014 \n",
       "0.4907013 0.4844026 0.4906963 0.5119988 0.4895152 0.4706761 0.4744593 0.4799583 \n",
       "     1015      1016      1017      1018 \n",
       "0.4935775 0.5030894 0.4978806 0.4886331 "
      ]
     },
     "metadata": {},
     "output_type": "display_data"
    },
    {
     "data": {
      "text/html": [
       "<ol class=list-inline>\n",
       "\t<li>Up</li>\n",
       "\t<li>Up</li>\n",
       "\t<li>Up</li>\n",
       "\t<li>Up</li>\n",
       "\t<li>Up</li>\n",
       "\t<li>Up</li>\n",
       "\t<li>Up</li>\n",
       "\t<li>Up</li>\n",
       "\t<li>Up</li>\n",
       "\t<li>Up</li>\n",
       "\t<li>Up</li>\n",
       "\t<li>Down</li>\n",
       "\t<li>Up</li>\n",
       "\t<li>Up</li>\n",
       "\t<li>Up</li>\n",
       "\t<li>Up</li>\n",
       "\t<li>Up</li>\n",
       "\t<li>Down</li>\n",
       "\t<li>Up</li>\n",
       "\t<li>Up</li>\n",
       "</ol>\n"
      ],
      "text/latex": [
       "\\begin{enumerate*}\n",
       "\\item Up\n",
       "\\item Up\n",
       "\\item Up\n",
       "\\item Up\n",
       "\\item Up\n",
       "\\item Up\n",
       "\\item Up\n",
       "\\item Up\n",
       "\\item Up\n",
       "\\item Up\n",
       "\\item Up\n",
       "\\item Down\n",
       "\\item Up\n",
       "\\item Up\n",
       "\\item Up\n",
       "\\item Up\n",
       "\\item Up\n",
       "\\item Down\n",
       "\\item Up\n",
       "\\item Up\n",
       "\\end{enumerate*}\n"
      ],
      "text/markdown": [
       "1. Up\n",
       "2. Up\n",
       "3. Up\n",
       "4. Up\n",
       "5. Up\n",
       "6. Up\n",
       "7. Up\n",
       "8. Up\n",
       "9. Up\n",
       "10. Up\n",
       "11. Up\n",
       "12. Down\n",
       "13. Up\n",
       "14. Up\n",
       "15. Up\n",
       "16. Up\n",
       "17. Up\n",
       "18. Down\n",
       "19. Up\n",
       "20. Up\n",
       "\n",
       "\n"
      ],
      "text/plain": [
       " [1] Up   Up   Up   Up   Up   Up   Up   Up   Up   Up   Up   Down Up   Up   Up  \n",
       "[16] Up   Up   Down Up   Up  \n",
       "Levels: Down Up"
      ]
     },
     "metadata": {},
     "output_type": "display_data"
    }
   ],
   "source": [
    "lda.pred$posterior[1:20 ,1]\n",
    "lda.class[1:20]"
   ]
  },
  {
   "cell_type": "markdown",
   "metadata": {},
   "source": [
    "If we wanted to use a posterior probability threshold other than 50% in order to make predictions, then we could easily do so. For instance, suppose that we wish to predict a market decrease only if we are very certain that the market will indeed decrease on that day—say, if the posterior probability is at least 90%."
   ]
  },
  {
   "cell_type": "code",
   "execution_count": 16,
   "metadata": {
    "collapsed": false
   },
   "outputs": [
    {
     "data": {
      "text/html": [
       "0"
      ],
      "text/latex": [
       "0"
      ],
      "text/markdown": [
       "0"
      ],
      "text/plain": [
       "[1] 0"
      ]
     },
     "metadata": {},
     "output_type": "display_data"
    }
   ],
   "source": [
    "sum(lda.pred$posterior[,1]>.9)"
   ]
  },
  {
   "cell_type": "markdown",
   "metadata": {},
   "source": [
    "No days in 2005 meet that threshold! In fact, the greatest posterior probability of decrease in all of 2005 was 52.02%."
   ]
  },
  {
   "cell_type": "code",
   "execution_count": null,
   "metadata": {
    "collapsed": true
   },
   "outputs": [],
   "source": []
  }
 ],
 "metadata": {
  "kernelspec": {
   "display_name": "R",
   "language": "R",
   "name": "ir"
  },
  "language_info": {
   "codemirror_mode": "r",
   "file_extension": ".r",
   "mimetype": "text/x-r-source",
   "name": "R",
   "pygments_lexer": "r",
   "version": "3.3.1"
  }
 },
 "nbformat": 4,
 "nbformat_minor": 0
}
