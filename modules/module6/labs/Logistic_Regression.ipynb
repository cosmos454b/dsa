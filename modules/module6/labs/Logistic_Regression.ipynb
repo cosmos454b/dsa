{
 "cells": [
  {
   "cell_type": "markdown",
   "metadata": {},
   "source": [
    "## Logistic Regression Revisited"
   ]
  },
  {
   "cell_type": "markdown",
   "metadata": {},
   "source": [
    "The linear regression model discussed in module 5 assumes that the response variable $Y$ is quantitative (continous numerical value). However, what happens if the response variable is qualitative (categorical). For example, eye color is qualitative, taking values blue, brown, or green. The process of predicting qualitative responses is known as **classification**.\n",
    "\n",
    "Often the methods used for classification first predict the probability of each of the categories of a qualitative variable, as the basis for making the classification. In this sense, they also behave like regression methods.\n",
    "\n",
    "An example classification problem could be, an online banking service must be able to determine whether or not a transaction being performed on the site is fraudulent, on the basis of the user’s IP address, past transaction history etc. In this notebook we will continue our discussion on Logistic Regression using the `Default` data set. We are interested in predicting whether an individual will default on his or her credit card payment, on the basis of annual income and monthly credit card balance."
   ]
  },
  {
   "cell_type": "markdown",
   "metadata": {},
   "source": [
    "### Why not Linear Regression"
   ]
  },
  {
   "cell_type": "markdown",
   "metadata": {
    "collapsed": true
   },
   "source": [
    "It is stated Linear Regression is not an ideal choice predicting a categorical variable. Suppose that we are trying to predict the medical condition of a patient in the emergency room on the basis of her symptoms. There are three possible diagnoses: stroke, drug overdose, and epileptic seizure. We could consider encoding these values as a quantitative response variable, $Y$ , as follows:\n",
    "\n",
    "$$Y=\\begin{gather*}\n",
    "\\begin{cases}\n",
    "1,\\ if\\ Stroke;\\\\\n",
    "2,\\ if\\ Drug\\ Overdose;\\\\\n",
    "3,\\ if\\ Epileptic\\ Seizure.\\\\\n",
    "\\end{cases}\n",
    "\\end{gather*}$$\n",
    "\n",
    "Using this coding, least squares could be used to fit a linear regression model to predict Y on the basis of a set of predictors $X_1, . . .,X_p$. Unfortunately, this coding implies an ordering on the outcomes, putting drug overdose in between stroke and epileptic seizure, and insisting that the difference between stroke and drug overdose is the same as the difference between drug overdose and epileptic seizure. In practice there is no particular reason that this needs to be the case. For instance, one could choose an equally reasonable coding,\n",
    "\n",
    "$$Y=\\begin{gather*}\n",
    "\\begin{cases}\n",
    "1,\\ if\\ Epileptic\\ Seizure.\\\\\n",
    "2,\\ if\\ Stroke;\\\\\n",
    "3,\\ if\\ Drug\\ Overdose;\\\\\n",
    "\\end{cases}\n",
    "\\end{gather*}$$\n",
    "\n",
    "which would imply a totally different relationship among the three conditions. Each of these codings would produce fundamentally different linear models that would ultimately lead to different sets of predictions on test observations. In general there is no natural way to convert a qualitative response variable with more than two levels into a quantitative response that is ready for linear regression.\n",
    "\n",
    "If there are only two possibilities for the patient’s medical condition: stroke and drug overdose. We could then potentially use the dummy variable approach to code the response as follows:\n",
    "\n",
    "$$Y=\\begin{gather*}\n",
    "\\begin{cases}\n",
    "1,\\ if\\ Stroke;\\\\\n",
    "2,\\ if\\ Drug\\ Overdose;\\\\\n",
    "\\end{cases}\n",
    "\\end{gather*}$$\n",
    "\n",
    "We could then fit a linear regression to this binary response, and predict drug overdose if $\\hat{Y}$ >0.5 and stroke otherwise. In the binary case it is not hard to show that even if we flip the above coding, linear regression will produce the same final predictions. For a binary response with a 0/1 coding as above, regression by least squares does make sense.\n",
    "\n",
    "#### Below is a pictorial illustration of why linear regression is a bad choice for categorical variables. \n",
    "\n",
    "<img src=\"../images/linear_vs_logistic_regression.JPG\">\n",
    "\n",
    "Looking at the picture, left picture is the estimated probability of default using linear regression. Some estimated probabilities are negative! The orange ticks indicate the 0/1 values coded for default(No or Yes). Right picture is the predicted probabilities of default using logistic regression. All probabilities lie between 0 and 1.\n",
    "\n",
    "Considering the Default data set, the response default will be either Yes or No. Rather than modeling this response Y directly, logistic regression models the probability that Y belongs to a particular category. For example, the probability of default given balance can be written as\n",
    "\n",
    "$$Pr(default = Yes\\ |\\ balance).$$\n",
    "\n",
    "The values of Pr(default = Yes | balance), which we abbreviate P(balance), will range between 0 and 1. Then for any given value of balance, a prediction can be made for default."
   ]
  },
  {
   "cell_type": "markdown",
   "metadata": {},
   "source": [
    "### Logistic Model"
   ]
  },
  {
   "cell_type": "markdown",
   "metadata": {},
   "source": [
    "The relationship we are interested in here is between $p(X) = Pr(Y = 1\\ |\\ X)$ and X?(predict Y=1 for a given value of X). The problem in using linear regression equation $p(X) = β_0 + β_1 X$, approach is for balances close to zero we predict a negative probability of default. If we were to predict for very large balances, we would get values bigger than 1. The predictions are not sensible, since true probability must fall between 0 and 1.\n",
    "\n",
    "To avoid this problem, we must model p(X) using a function that gives outputs between 0 and 1 for all values of X. Maximum likelihood is used in fitting a logistic regression model. The logistic function,\n",
    "\n",
    "$$p(X) = \\frac{e^{β_0+β_1X}}{1 + e^{β_0+β_1X}}$$\n",
    "\n",
    "Doing some mathematical derivations we arrive at below logistic function, for low balances we now predict the probability of default as close to, but never below, zero. Likewise, for high balances we predict a default probability close to, but never above, one. Above equation can also be written as \n",
    "\n",
    "$$\\frac{p(X)}{1 − p(X)} = e^{β_0+β_1X}$$\n",
    "\n",
    "The quantity $\\frac{p(X)}{[1−p(X)]}$is called the odds, and can take on any value between 0 and ∞. Values of the odds close to 0 and ∞ indicate very low and very high probabilities of default, respectively. By taking the logarithm of both sides of above equation, we arrive at \n",
    "\n",
    "$$log(\\frac{p(X)}{1 − p(X)}) = β_0 + β_1X$$\n",
    "\n",
    "The left-hand side is called the log-odds or logit. In a linear regression model, β1 gives the average change in Y associated with a one-unit increase in X. In contrast, in a logistic regression model, increasing X by one unit changes the log odds\n",
    "by $β_1$, or equivalently it multiplies the odds by ${e^{β_1}}$"
   ]
  },
  {
   "cell_type": "markdown",
   "metadata": {},
   "source": [
    "### Estimating the Regression Coefficients"
   ]
  },
  {
   "cell_type": "markdown",
   "metadata": {},
   "source": [
    "Maximum likelihood is used to estimate coefficients. We seek estimates for β0 and β1 such that the predicted probability $p(x_i)$ of default for each individual, corresponds as closely as possible to the individual’s observed default status. In other words, we try to find $β_0$ and $β_1$ such that plugging these estimates into the model for p(X), i'e \n",
    "\n",
    "$$p(X) = \\frac{e^{β_0+β_1X}}{1 + e^{β_0+β_1X}}$$\n",
    "\n",
    "yields a number close to one for all individuals who defaulted, and a number close to zero for all individuals who did not.  \n",
    "\n",
    "Below table shows the coefficient estimates and related information that result from fitting a logistic regression model on the Default data in order to predict the probability of default=Yes using balance.\n",
    "\n",
    "|          |  Coefficient Std.| error   |Z-statistic |P-value  |\n",
    "|----------|------------------|---------|------------|---------|          \n",
    "|Intercept |−10.6513          |  0.3612 |−29.5       |  <0.0001|\n",
    "|balance   |0.0055            |  0.0002 | 24.9       |  <0.0001|\n",
    "\n",
    "We see that $\\hat{β_1} = 0.0055$ this indicates that an increase in balance is associated with an increase in the probability of default. To be precise, a one-unit increase in balance is associated with an increase in the log odds of default by 0.0055\n",
    "units."
   ]
  },
  {
   "cell_type": "markdown",
   "metadata": {},
   "source": [
    "### Making Predictions\n",
    "\n",
    "Once the coefficients have been estimated, you compute the probability of default for any given credit card balance. For example, using the coefficient estimates given in above table, we predict that the default probability for an individual with a balance of $1, 000 is \n",
    "\n",
    "$$p(X) = \\frac{e^{β_0+β_1X}}{1 + e^{β_0+β_1X}} = \\frac{e^{-10.6513+0.0055*1000}}{1 + e^{-10.6513+0.0055*1000}} = 0.00576$$\n",
    "\n",
    "which is below $1%$. In contrast, the predicted probability of default for an individual with a balance of $2, 000 is much higher, and equals 0.586 or 58.6%."
   ]
  },
  {
   "cell_type": "markdown",
   "metadata": {},
   "source": [
    "### Multiple Logistic Regression"
   ]
  },
  {
   "cell_type": "markdown",
   "metadata": {},
   "source": [
    "We now consider the problem of predicting a binary response using multiple predictors. By analogy with the extension from simple to multiple linear regression in Chapter 3, we can generalize (4.4) as follows:\n",
    "\n",
    "$$log(\\frac{p(X)}{1 − p(X)}) = β_0 + β_1X_1 + · · · + β_pX_p$$, where X = (X1, . . .,Xp) are p predictors\n",
    "\n",
    "Above equation can be written as \n",
    "\n",
    "$$p(X) = \\frac{e^{β_0+β_1X_1+···+β_pX_p}}{1 + e^{β_0+β_1X_1+···+β_pX_p}}$$"
   ]
  },
  {
   "cell_type": "markdown",
   "metadata": {},
   "source": [
    "### Logistic Regression for >2 Response Classes"
   ]
  },
  {
   "cell_type": "markdown",
   "metadata": {},
   "source": [
    "When the response variable has multiple categories like the medical condition example with levels stroke, drug overdose, epileptic seizure we would like to model both Pr(Y = stroke|X) and Pr(Y = drug overdose|X), with the remaining Pr(Y = epileptic seizure|X) = 1 − Pr(Y = stroke|X) − Pr(Y = drug overdose|X). The logistic regression model discussed before have multiple-class extensions, but in practice they are not used often for multiple class situation. The reason being there are other popular approaches for multiple-class classification like Linear Discriminnet Analysis(LDA). We will look more into LDA soon. "
   ]
  },
  {
   "cell_type": "markdown",
   "metadata": {},
   "source": [
    "### Fitting a logistic regression model"
   ]
  },
  {
   "cell_type": "markdown",
   "metadata": {},
   "source": [
    "Fit a logistic regression model on Stock Market Data in ISLR package. This data set consists of percentage returns for the S&P 500 stock index over 1,250 days, from the beginning of 2001 until the end of 2005. For each date, the percentage returns for each of the five previous trading days, Lag1 through Lag5 are recorded. The Volume (the number of shares traded on the previous day, in billions), Today (the percentage return on the date in question) and Direction (whether the market was Up or Down on this date) are also recorded."
   ]
  },
  {
   "cell_type": "code",
   "execution_count": 1,
   "metadata": {
    "collapsed": false
   },
   "outputs": [
    {
     "data": {
      "text/html": [
       "<ol class=list-inline>\n",
       "\t<li>'Year'</li>\n",
       "\t<li>'Lag1'</li>\n",
       "\t<li>'Lag2'</li>\n",
       "\t<li>'Lag3'</li>\n",
       "\t<li>'Lag4'</li>\n",
       "\t<li>'Lag5'</li>\n",
       "\t<li>'Volume'</li>\n",
       "\t<li>'Today'</li>\n",
       "\t<li>'Direction'</li>\n",
       "</ol>\n"
      ],
      "text/latex": [
       "\\begin{enumerate*}\n",
       "\\item 'Year'\n",
       "\\item 'Lag1'\n",
       "\\item 'Lag2'\n",
       "\\item 'Lag3'\n",
       "\\item 'Lag4'\n",
       "\\item 'Lag5'\n",
       "\\item 'Volume'\n",
       "\\item 'Today'\n",
       "\\item 'Direction'\n",
       "\\end{enumerate*}\n"
      ],
      "text/markdown": [
       "1. 'Year'\n",
       "2. 'Lag1'\n",
       "3. 'Lag2'\n",
       "4. 'Lag3'\n",
       "5. 'Lag4'\n",
       "6. 'Lag5'\n",
       "7. 'Volume'\n",
       "8. 'Today'\n",
       "9. 'Direction'\n",
       "\n",
       "\n"
      ],
      "text/plain": [
       "[1] \"Year\"      \"Lag1\"      \"Lag2\"      \"Lag3\"      \"Lag4\"      \"Lag5\"     \n",
       "[7] \"Volume\"    \"Today\"     \"Direction\""
      ]
     },
     "metadata": {},
     "output_type": "display_data"
    }
   ],
   "source": [
    "# install.packages(\"ISLR\", repo=\"https://cran.fhcrc.org/\")\n",
    "library(ISLR)\n",
    "\n",
    "# Check the names of columns present in the dataset.\n",
    "names(Smarket)"
   ]
  },
  {
   "cell_type": "code",
   "execution_count": 2,
   "metadata": {
    "collapsed": false
   },
   "outputs": [
    {
     "data": {
      "text/html": [
       "<ol class=list-inline>\n",
       "\t<li>1250</li>\n",
       "\t<li>9</li>\n",
       "</ol>\n"
      ],
      "text/latex": [
       "\\begin{enumerate*}\n",
       "\\item 1250\n",
       "\\item 9\n",
       "\\end{enumerate*}\n"
      ],
      "text/markdown": [
       "1. 1250\n",
       "2. 9\n",
       "\n",
       "\n"
      ],
      "text/plain": [
       "[1] 1250    9"
      ]
     },
     "metadata": {},
     "output_type": "display_data"
    }
   ],
   "source": [
    "# Check the dimensions of the data.\n",
    "dim(Smarket)"
   ]
  },
  {
   "cell_type": "code",
   "execution_count": 3,
   "metadata": {
    "collapsed": false
   },
   "outputs": [
    {
     "data": {
      "text/plain": [
       "      Year           Lag1                Lag2                Lag3          \n",
       " Min.   :2001   Min.   :-4.922000   Min.   :-4.922000   Min.   :-4.922000  \n",
       " 1st Qu.:2002   1st Qu.:-0.639500   1st Qu.:-0.639500   1st Qu.:-0.640000  \n",
       " Median :2003   Median : 0.039000   Median : 0.039000   Median : 0.038500  \n",
       " Mean   :2003   Mean   : 0.003834   Mean   : 0.003919   Mean   : 0.001716  \n",
       " 3rd Qu.:2004   3rd Qu.: 0.596750   3rd Qu.: 0.596750   3rd Qu.: 0.596750  \n",
       " Max.   :2005   Max.   : 5.733000   Max.   : 5.733000   Max.   : 5.733000  \n",
       "      Lag4                Lag5              Volume           Today          \n",
       " Min.   :-4.922000   Min.   :-4.92200   Min.   :0.3561   Min.   :-4.922000  \n",
       " 1st Qu.:-0.640000   1st Qu.:-0.64000   1st Qu.:1.2574   1st Qu.:-0.639500  \n",
       " Median : 0.038500   Median : 0.03850   Median :1.4229   Median : 0.038500  \n",
       " Mean   : 0.001636   Mean   : 0.00561   Mean   :1.4783   Mean   : 0.003138  \n",
       " 3rd Qu.: 0.596750   3rd Qu.: 0.59700   3rd Qu.:1.6417   3rd Qu.: 0.596750  \n",
       " Max.   : 5.733000   Max.   : 5.73300   Max.   :3.1525   Max.   : 5.733000  \n",
       " Direction \n",
       " Down:602  \n",
       " Up  :648  \n",
       "           \n",
       "           \n",
       "           \n",
       "           "
      ]
     },
     "metadata": {},
     "output_type": "display_data"
    }
   ],
   "source": [
    "summary(Smarket)"
   ]
  },
  {
   "cell_type": "code",
   "execution_count": 4,
   "metadata": {
    "collapsed": false
   },
   "outputs": [
    {
     "data": {
      "text/html": [
       "<table>\n",
       "<thead><tr><th></th><th scope=col>Year</th><th scope=col>Lag1</th><th scope=col>Lag2</th><th scope=col>Lag3</th><th scope=col>Lag4</th><th scope=col>Lag5</th><th scope=col>Volume</th><th scope=col>Today</th></tr></thead>\n",
       "<tbody>\n",
       "\t<tr><th scope=row>Year</th><td>1.00000000  </td><td> 0.029699649</td><td> 0.030596422</td><td> 0.033194581</td><td> 0.035688718</td><td> 0.029787995</td><td> 0.53900647 </td><td> 0.030095229</td></tr>\n",
       "\t<tr><th scope=row>Lag1</th><td>0.02969965  </td><td> 1.000000000</td><td>-0.026294328</td><td>-0.010803402</td><td>-0.002985911</td><td>-0.005674606</td><td> 0.04090991 </td><td>-0.026155045</td></tr>\n",
       "\t<tr><th scope=row>Lag2</th><td>0.03059642  </td><td>-0.026294328</td><td> 1.000000000</td><td>-0.025896670</td><td>-0.010853533</td><td>-0.003557949</td><td>-0.04338321 </td><td>-0.010250033</td></tr>\n",
       "\t<tr><th scope=row>Lag3</th><td>0.03319458  </td><td>-0.010803402</td><td>-0.025896670</td><td> 1.000000000</td><td>-0.024051036</td><td>-0.018808338</td><td>-0.04182369 </td><td>-0.002447647</td></tr>\n",
       "\t<tr><th scope=row>Lag4</th><td>0.03568872  </td><td>-0.002985911</td><td>-0.010853533</td><td>-0.024051036</td><td> 1.000000000</td><td>-0.027083641</td><td>-0.04841425 </td><td>-0.006899527</td></tr>\n",
       "\t<tr><th scope=row>Lag5</th><td>0.02978799  </td><td>-0.005674606</td><td>-0.003557949</td><td>-0.018808338</td><td>-0.027083641</td><td> 1.000000000</td><td>-0.02200231 </td><td>-0.034860083</td></tr>\n",
       "\t<tr><th scope=row>Volume</th><td>0.53900647  </td><td> 0.040909908</td><td>-0.043383215</td><td>-0.041823686</td><td>-0.048414246</td><td>-0.022002315</td><td> 1.00000000 </td><td> 0.014591823</td></tr>\n",
       "\t<tr><th scope=row>Today</th><td>0.03009523  </td><td>-0.026155045</td><td>-0.010250033</td><td>-0.002447647</td><td>-0.006899527</td><td>-0.034860083</td><td> 0.01459182 </td><td> 1.000000000</td></tr>\n",
       "</tbody>\n",
       "</table>\n"
      ],
      "text/latex": [
       "\\begin{tabular}{r|llllllll}\n",
       "  & Year & Lag1 & Lag2 & Lag3 & Lag4 & Lag5 & Volume & Today\\\\\n",
       "\\hline\n",
       "\tYear & 1.00000000   &  0.029699649 &  0.030596422 &  0.033194581 &  0.035688718 &  0.029787995 &  0.53900647  &  0.030095229\\\\\n",
       "\tLag1 & 0.02969965   &  1.000000000 & -0.026294328 & -0.010803402 & -0.002985911 & -0.005674606 &  0.04090991  & -0.026155045\\\\\n",
       "\tLag2 & 0.03059642   & -0.026294328 &  1.000000000 & -0.025896670 & -0.010853533 & -0.003557949 & -0.04338321  & -0.010250033\\\\\n",
       "\tLag3 & 0.03319458   & -0.010803402 & -0.025896670 &  1.000000000 & -0.024051036 & -0.018808338 & -0.04182369  & -0.002447647\\\\\n",
       "\tLag4 & 0.03568872   & -0.002985911 & -0.010853533 & -0.024051036 &  1.000000000 & -0.027083641 & -0.04841425  & -0.006899527\\\\\n",
       "\tLag5 & 0.02978799   & -0.005674606 & -0.003557949 & -0.018808338 & -0.027083641 &  1.000000000 & -0.02200231  & -0.034860083\\\\\n",
       "\tVolume & 0.53900647   &  0.040909908 & -0.043383215 & -0.041823686 & -0.048414246 & -0.022002315 &  1.00000000  &  0.014591823\\\\\n",
       "\tToday & 0.03009523   & -0.026155045 & -0.010250033 & -0.002447647 & -0.006899527 & -0.034860083 &  0.01459182  &  1.000000000\\\\\n",
       "\\end{tabular}\n"
      ],
      "text/markdown": [
       "1. 1\n",
       "2. 0.0296996489336681\n",
       "3. 0.0305964219467273\n",
       "4. 0.0331945811312732\n",
       "5. 0.035688717504179\n",
       "6. 0.0297879946915544\n",
       "7. 0.539006466139725\n",
       "8. 0.0300952289285662\n",
       "9. 0.0296996489336681\n",
       "10. 1\n",
       "11. -0.0262943281497368\n",
       "12. -0.0108034017048983\n",
       "13. -0.00298591069972252\n",
       "14. -0.00567460623886654\n",
       "15. 0.0409099080674081\n",
       "16. -0.0261550454324453\n",
       "17. 0.0305964219467273\n",
       "18. -0.0262943281497368\n",
       "19. 1\n",
       "20. -0.0258966698133637\n",
       "21. -0.0108535330014052\n",
       "22. -0.00355794947755706\n",
       "23. -0.0433832146417925\n",
       "24. -0.0102500334032285\n",
       "25. 0.0331945811312732\n",
       "26. -0.0108034017048983\n",
       "27. -0.0258966698133637\n",
       "28. 1\n",
       "29. -0.0240510363774598\n",
       "30. -0.0188083375821421\n",
       "31. -0.0418236862753175\n",
       "32. -0.00244764711652429\n",
       "33. 0.035688717504179\n",
       "34. -0.00298591069972252\n",
       "35. -0.0108535330014052\n",
       "36. -0.0240510363774598\n",
       "37. 1\n",
       "38. -0.0270836407690075\n",
       "39. -0.0484142462396156\n",
       "40. -0.00689952693824739\n",
       "41. 0.0297879946915544\n",
       "42. -0.00567460623886654\n",
       "43. -0.00355794947755706\n",
       "44. -0.0188083375821421\n",
       "45. -0.0270836407690075\n",
       "46. 1\n",
       "47. -0.0220023148718058\n",
       "48. -0.0348600827872702\n",
       "49. 0.539006466139725\n",
       "50. 0.0409099080674081\n",
       "51. -0.0433832146417925\n",
       "52. -0.0418236862753175\n",
       "53. -0.0484142462396156\n",
       "54. -0.0220023148718058\n",
       "55. 1\n",
       "56. 0.0145918232591566\n",
       "57. 0.0300952289285662\n",
       "58. -0.0261550454324453\n",
       "59. -0.0102500334032285\n",
       "60. -0.00244764711652429\n",
       "61. -0.00689952693824739\n",
       "62. -0.0348600827872702\n",
       "63. 0.0145918232591566\n",
       "64. 1\n",
       "\n",
       "\n"
      ],
      "text/plain": [
       "       Year       Lag1         Lag2         Lag3         Lag4        \n",
       "Year   1.00000000  0.029699649  0.030596422  0.033194581  0.035688718\n",
       "Lag1   0.02969965  1.000000000 -0.026294328 -0.010803402 -0.002985911\n",
       "Lag2   0.03059642 -0.026294328  1.000000000 -0.025896670 -0.010853533\n",
       "Lag3   0.03319458 -0.010803402 -0.025896670  1.000000000 -0.024051036\n",
       "Lag4   0.03568872 -0.002985911 -0.010853533 -0.024051036  1.000000000\n",
       "Lag5   0.02978799 -0.005674606 -0.003557949 -0.018808338 -0.027083641\n",
       "Volume 0.53900647  0.040909908 -0.043383215 -0.041823686 -0.048414246\n",
       "Today  0.03009523 -0.026155045 -0.010250033 -0.002447647 -0.006899527\n",
       "       Lag5         Volume      Today       \n",
       "Year    0.029787995  0.53900647  0.030095229\n",
       "Lag1   -0.005674606  0.04090991 -0.026155045\n",
       "Lag2   -0.003557949 -0.04338321 -0.010250033\n",
       "Lag3   -0.018808338 -0.04182369 -0.002447647\n",
       "Lag4   -0.027083641 -0.04841425 -0.006899527\n",
       "Lag5    1.000000000 -0.02200231 -0.034860083\n",
       "Volume -0.022002315  1.00000000  0.014591823\n",
       "Today  -0.034860083  0.01459182  1.000000000"
      ]
     },
     "metadata": {},
     "output_type": "display_data"
    }
   ],
   "source": [
    "# The Direction variable is qualitative. cor() accepts numeric values only. So exclude Direction from the input to cor function\n",
    "cor(Smarket[,-9])"
   ]
  },
  {
   "cell_type": "markdown",
   "metadata": {},
   "source": [
    "The correlations between the lag variables and today’s returns are close to zero. In other words, there appears to be little\n",
    "correlation between today’s returns and previous days’ returns. The only substantial correlation is between Year and Volume. By plotting the data we see that Volume is increasing over time. In other words, the average number of shares traded daily increased from 2001 to 2005."
   ]
  },
  {
   "cell_type": "code",
   "execution_count": 5,
   "metadata": {
    "collapsed": false
   },
   "outputs": [
    {
     "data": {
      "image/png": "[encoded data removed]",
      "text/plain": [
       "plot without title"
      ]
     },
     "metadata": {},
     "output_type": "display_data"
    }
   ],
   "source": [
    "# Telling R that we are going to use Smarket dataset in this data. You can refer to columns in Smarket without referring to the\n",
    "# Smarket everytime.\n",
    "attach(Smarket)\n",
    "plot(Smarket$Volume)"
   ]
  },
  {
   "cell_type": "markdown",
   "metadata": {},
   "source": [
    "Smarket has data spanning across 2001 to 2005. Subset the data into training and testing sets. Create a vector corresponding to the observations from 2001 through 2004. Use this vector to create two datasets of observations one with data from 2001 to 2004 and the other one containing 2005 data."
   ]
  },
  {
   "cell_type": "code",
   "execution_count": 16,
   "metadata": {
    "collapsed": false
   },
   "outputs": [
    {
     "data": {
      "text/html": [
       "<ol class=list-inline>\n",
       "\t<li>252</li>\n",
       "\t<li>9</li>\n",
       "</ol>\n"
      ],
      "text/latex": [
       "\\begin{enumerate*}\n",
       "\\item 252\n",
       "\\item 9\n",
       "\\end{enumerate*}\n"
      ],
      "text/markdown": [
       "1. 252\n",
       "2. 9\n",
       "\n",
       "\n"
      ],
      "text/plain": [
       "[1] 252   9"
      ]
     },
     "metadata": {},
     "output_type": "display_data"
    }
   ],
   "source": [
    "# The object train is a vector of 1,250 elements, corresponding to the observations in our data set. The elements of the \n",
    "# vector that correspond to observations that occurred before 2005 are set to TRUE as they satisfy the condition. \n",
    "# whereas those that correspond to observations in 2005 are set to FALSE. \n",
    "train = Year<2005\n",
    "\n",
    "# train is a Boolean vector, since its elements are TRUE and FALSE. So the TRUE and FALSE values corresponding to each row\n",
    "# will let you subset rows or columns of a matrix. For instance, the command Smarket[!train,] would pick out a submatrix of the\n",
    "# stock market dataset, corresponding to dates in 2005, since those are the ones for which the elements of train are FALSE and \n",
    "# `!` operator will reverse the elements of train vector.\n",
    "Smarket.2005= Smarket[!train,]\n",
    "\n",
    "# Check the dimensions of Smarket.2005\n",
    "dim(Smarket.2005)\n",
    "\n",
    "# Save the Direction values corresponding to 2005 dates.\n",
    "Direction.2005 = Direction[!train]"
   ]
  },
  {
   "cell_type": "markdown",
   "metadata": {},
   "source": [
    "Fit a logistic regression model using only the subset of the observations that correspond to dates before 2005, using the subset argument."
   ]
  },
  {
   "cell_type": "code",
   "execution_count": 17,
   "metadata": {
    "collapsed": false
   },
   "outputs": [],
   "source": [
    "# subset argument below is providing the condition for what data to be selected from Smarket. If you are not sure whats \n",
    "# happening run below table command. \n",
    "glm.fit = glm(Direction~Lag1+Lag2+Lag3+Lag4+Lag5+Volume, data=Smarket, family=binomial, subset=train)\n",
    "\n",
    "# Predicted probabilities of the stock market for each of the days in the test set that is, for the days in 2005\n",
    "glm.probs = predict(glm.fit, Smarket.2005, type=\"response\")"
   ]
  },
  {
   "cell_type": "code",
   "execution_count": 18,
   "metadata": {
    "collapsed": false
   },
   "outputs": [
    {
     "data": {
      "text/plain": [
       "\n",
       "2001 2002 2003 2004 \n",
       " 242  252  252  252 "
      ]
     },
     "metadata": {},
     "output_type": "display_data"
    }
   ],
   "source": [
    "# Subset the data for years from 2001 through 2004 using train vector. Use table function to see distribution of Year values\n",
    "# in the subset.\n",
    "table(subset(Smarket,train)$Year)"
   ]
  },
  {
   "cell_type": "markdown",
   "metadata": {},
   "source": [
    "We trained the model using only the dates before 2005, and fitted model is test on data with dates in 2005. The predictions for 2005 are in glm.probs. Compare them to the actual movements of the market over that time period."
   ]
  },
  {
   "cell_type": "code",
   "execution_count": 9,
   "metadata": {
    "collapsed": false
   },
   "outputs": [
    {
     "data": {
      "text/plain": [
       "        Direction.2005\n",
       "glm.pred Down Up\n",
       "     Up    34 44\n",
       "    Down   77 97"
      ]
     },
     "metadata": {},
     "output_type": "display_data"
    }
   ],
   "source": [
    "# Create a vector glm.pred of size 252 to store the predictions. Assign the value `down` initially for entire vector \n",
    "glm.pred=rep(\"Down\" ,252)\n",
    "\n",
    "# Update the predictions in glm.pred to 'up' if predicted probability is greater than 0.5\n",
    "glm.pred[glm.probs >0.5]=\" Up\"\n",
    "\n",
    "# table() function can be used to produce a confusion matrix in order to determine how many observations were correctly or \n",
    "# incorrectly classified.\n",
    "table(glm.pred, Direction.2005)"
   ]
  },
  {
   "cell_type": "markdown",
   "metadata": {},
   "source": [
    "use the names() function in order to find out what other pieces of information are stored in glm.fit."
   ]
  },
  {
   "cell_type": "code",
   "execution_count": 10,
   "metadata": {
    "collapsed": false
   },
   "outputs": [
    {
     "data": {
      "text/html": [
       "<ol class=list-inline>\n",
       "\t<li>'coefficients'</li>\n",
       "\t<li>'residuals'</li>\n",
       "\t<li>'fitted.values'</li>\n",
       "\t<li>'effects'</li>\n",
       "\t<li>'R'</li>\n",
       "\t<li>'rank'</li>\n",
       "\t<li>'qr'</li>\n",
       "\t<li>'family'</li>\n",
       "\t<li>'linear.predictors'</li>\n",
       "\t<li>'deviance'</li>\n",
       "\t<li>'aic'</li>\n",
       "\t<li>'null.deviance'</li>\n",
       "\t<li>'iter'</li>\n",
       "\t<li>'weights'</li>\n",
       "\t<li>'prior.weights'</li>\n",
       "\t<li>'df.residual'</li>\n",
       "\t<li>'df.null'</li>\n",
       "\t<li>'y'</li>\n",
       "\t<li>'converged'</li>\n",
       "\t<li>'boundary'</li>\n",
       "\t<li>'model'</li>\n",
       "\t<li>'call'</li>\n",
       "\t<li>'formula'</li>\n",
       "\t<li>'terms'</li>\n",
       "\t<li>'data'</li>\n",
       "\t<li>'offset'</li>\n",
       "\t<li>'control'</li>\n",
       "\t<li>'method'</li>\n",
       "\t<li>'contrasts'</li>\n",
       "\t<li>'xlevels'</li>\n",
       "</ol>\n"
      ],
      "text/latex": [
       "\\begin{enumerate*}\n",
       "\\item 'coefficients'\n",
       "\\item 'residuals'\n",
       "\\item 'fitted.values'\n",
       "\\item 'effects'\n",
       "\\item 'R'\n",
       "\\item 'rank'\n",
       "\\item 'qr'\n",
       "\\item 'family'\n",
       "\\item 'linear.predictors'\n",
       "\\item 'deviance'\n",
       "\\item 'aic'\n",
       "\\item 'null.deviance'\n",
       "\\item 'iter'\n",
       "\\item 'weights'\n",
       "\\item 'prior.weights'\n",
       "\\item 'df.residual'\n",
       "\\item 'df.null'\n",
       "\\item 'y'\n",
       "\\item 'converged'\n",
       "\\item 'boundary'\n",
       "\\item 'model'\n",
       "\\item 'call'\n",
       "\\item 'formula'\n",
       "\\item 'terms'\n",
       "\\item 'data'\n",
       "\\item 'offset'\n",
       "\\item 'control'\n",
       "\\item 'method'\n",
       "\\item 'contrasts'\n",
       "\\item 'xlevels'\n",
       "\\end{enumerate*}\n"
      ],
      "text/markdown": [
       "1. 'coefficients'\n",
       "2. 'residuals'\n",
       "3. 'fitted.values'\n",
       "4. 'effects'\n",
       "5. 'R'\n",
       "6. 'rank'\n",
       "7. 'qr'\n",
       "8. 'family'\n",
       "9. 'linear.predictors'\n",
       "10. 'deviance'\n",
       "11. 'aic'\n",
       "12. 'null.deviance'\n",
       "13. 'iter'\n",
       "14. 'weights'\n",
       "15. 'prior.weights'\n",
       "16. 'df.residual'\n",
       "17. 'df.null'\n",
       "18. 'y'\n",
       "19. 'converged'\n",
       "20. 'boundary'\n",
       "21. 'model'\n",
       "22. 'call'\n",
       "23. 'formula'\n",
       "24. 'terms'\n",
       "25. 'data'\n",
       "26. 'offset'\n",
       "27. 'control'\n",
       "28. 'method'\n",
       "29. 'contrasts'\n",
       "30. 'xlevels'\n",
       "\n",
       "\n"
      ],
      "text/plain": [
       " [1] \"coefficients\"      \"residuals\"         \"fitted.values\"    \n",
       " [4] \"effects\"           \"R\"                 \"rank\"             \n",
       " [7] \"qr\"                \"family\"            \"linear.predictors\"\n",
       "[10] \"deviance\"          \"aic\"               \"null.deviance\"    \n",
       "[13] \"iter\"              \"weights\"           \"prior.weights\"    \n",
       "[16] \"df.residual\"       \"df.null\"           \"y\"                \n",
       "[19] \"converged\"         \"boundary\"          \"model\"            \n",
       "[22] \"call\"              \"formula\"           \"terms\"            \n",
       "[25] \"data\"              \"offset\"            \"control\"          \n",
       "[28] \"method\"            \"contrasts\"         \"xlevels\"          "
      ]
     },
     "metadata": {},
     "output_type": "display_data"
    }
   ],
   "source": [
    "names(glm.fit)"
   ]
  },
  {
   "cell_type": "code",
   "execution_count": 11,
   "metadata": {
    "collapsed": false
   },
   "outputs": [
    {
     "data": {
      "text/html": [
       "<dl class=dl-horizontal>\n",
       "\t<dt>(Intercept)</dt>\n",
       "\t\t<dd>0.19121262095807</dd>\n",
       "\t<dt>Lag1</dt>\n",
       "\t\t<dd>-0.0541782916586356</dd>\n",
       "\t<dt>Lag2</dt>\n",
       "\t\t<dd>-0.0458053340263535</dd>\n",
       "\t<dt>Lag3</dt>\n",
       "\t\t<dd>0.00720011794755054</dd>\n",
       "\t<dt>Lag4</dt>\n",
       "\t\t<dd>0.00644087521838716</dd>\n",
       "\t<dt>Lag5</dt>\n",
       "\t\t<dd>-0.00422267216734059</dd>\n",
       "\t<dt>Volume</dt>\n",
       "\t\t<dd>-0.116256960117209</dd>\n",
       "</dl>\n"
      ],
      "text/latex": [
       "\\begin{description*}\n",
       "\\item[(Intercept)] 0.19121262095807\n",
       "\\item[Lag1] -0.0541782916586356\n",
       "\\item[Lag2] -0.0458053340263535\n",
       "\\item[Lag3] 0.00720011794755054\n",
       "\\item[Lag4] 0.00644087521838716\n",
       "\\item[Lag5] -0.00422267216734059\n",
       "\\item[Volume] -0.116256960117209\n",
       "\\end{description*}\n"
      ],
      "text/markdown": [
       "(Intercept)\n",
       ":   0.19121262095807Lag1\n",
       ":   -0.0541782916586356Lag2\n",
       ":   -0.0458053340263535Lag3\n",
       ":   0.00720011794755054Lag4\n",
       ":   0.00644087521838716Lag5\n",
       ":   -0.00422267216734059Volume\n",
       ":   -0.116256960117209\n",
       "\n"
      ],
      "text/plain": [
       " (Intercept)         Lag1         Lag2         Lag3         Lag4         Lag5 \n",
       " 0.191212621 -0.054178292 -0.045805334  0.007200118  0.006440875 -0.004222672 \n",
       "      Volume \n",
       "-0.116256960 "
      ]
     },
     "metadata": {},
     "output_type": "display_data"
    }
   ],
   "source": [
    "# Use the coef() function in order to access just the coefficients for this fitted model\n",
    "coef(glm.fit)"
   ]
  },
  {
   "cell_type": "code",
   "execution_count": 12,
   "metadata": {
    "collapsed": false
   },
   "outputs": [
    {
     "name": "stderr",
     "output_type": "stream",
     "text": [
      "Waiting for profiling to be done...\n"
     ]
    },
    {
     "data": {
      "text/html": [
       "<table>\n",
       "<thead><tr><th></th><th scope=col>2.5 %</th><th scope=col>97.5 %</th></tr></thead>\n",
       "<tbody>\n",
       "\t<tr><th scope=row>(Intercept)</th><td>-0.46299074</td><td>0.84720504 </td></tr>\n",
       "\t<tr><th scope=row>Lag1</th><td>-0.15617317</td><td>0.04713105 </td></tr>\n",
       "\t<tr><th scope=row>Lag2</th><td>-0.14777249</td><td>0.05558532 </td></tr>\n",
       "\t<tr><th scope=row>Lag3</th><td>-0.09416336</td><td>0.10859586 </td></tr>\n",
       "\t<tr><th scope=row>Lag4</th><td>-0.09506013</td><td>0.10793957 </td></tr>\n",
       "\t<tr><th scope=row>Lag5</th><td>-0.10464869</td><td>0.09612802 </td></tr>\n",
       "\t<tr><th scope=row>Volume</th><td>-0.58733257</td><td>0.35363815 </td></tr>\n",
       "</tbody>\n",
       "</table>\n"
      ],
      "text/latex": [
       "\\begin{tabular}{r|ll}\n",
       "  & 2.5 \\% & 97.5 \\%\\\\\n",
       "\\hline\n",
       "\t(Intercept) & -0.46299074 & 0.84720504 \\\\\n",
       "\tLag1 & -0.15617317 & 0.04713105 \\\\\n",
       "\tLag2 & -0.14777249 & 0.05558532 \\\\\n",
       "\tLag3 & -0.09416336 & 0.10859586 \\\\\n",
       "\tLag4 & -0.09506013 & 0.10793957 \\\\\n",
       "\tLag5 & -0.10464869 & 0.09612802 \\\\\n",
       "\tVolume & -0.58733257 & 0.35363815 \\\\\n",
       "\\end{tabular}\n"
      ],
      "text/markdown": [
       "1. -0.46299074291189\n",
       "2. -0.156173166661438\n",
       "3. -0.147772489447662\n",
       "4. -0.0941633649731847\n",
       "5. -0.09506012869894\n",
       "6. -0.104648694965973\n",
       "7. -0.587332566772171\n",
       "8. 0.84720504467719\n",
       "9. 0.0471310478039569\n",
       "10. 0.0555853161119744\n",
       "11. 0.108595862331793\n",
       "12. 0.107939566886734\n",
       "13. 0.09612802200249\n",
       "14. 0.35363815174464\n",
       "\n",
       "\n"
      ],
      "text/plain": [
       "            2.5 %       97.5 %    \n",
       "(Intercept) -0.46299074 0.84720504\n",
       "Lag1        -0.15617317 0.04713105\n",
       "Lag2        -0.14777249 0.05558532\n",
       "Lag3        -0.09416336 0.10859586\n",
       "Lag4        -0.09506013 0.10793957\n",
       "Lag5        -0.10464869 0.09612802\n",
       "Volume      -0.58733257 0.35363815"
      ]
     },
     "metadata": {},
     "output_type": "display_data"
    }
   ],
   "source": [
    "confint(glm.fit)"
   ]
  },
  {
   "cell_type": "code",
   "execution_count": 19,
   "metadata": {
    "collapsed": false
   },
   "outputs": [
    {
     "data": {
      "text/html": [
       "0.55952380952381"
      ],
      "text/latex": [
       "0.55952380952381"
      ],
      "text/markdown": [
       "0.55952380952381"
      ],
      "text/plain": [
       "[1] 0.5595238"
      ]
     },
     "metadata": {},
     "output_type": "display_data"
    },
    {
     "data": {
      "text/html": [
       "0.44047619047619"
      ],
      "text/latex": [
       "0.44047619047619"
      ],
      "text/markdown": [
       "0.44047619047619"
      ],
      "text/plain": [
       "[1] 0.4404762"
      ]
     },
     "metadata": {},
     "output_type": "display_data"
    }
   ],
   "source": [
    "mean(glm.pred==Direction.2005)\n",
    "mean(glm.pred!= Direction.2005)"
   ]
  },
  {
   "cell_type": "markdown",
   "metadata": {},
   "source": [
    "The != notation means not equal to and so the last command computes the test set error rate. The test error rate is 69%, which is worse than random guessing. Remove the variables that appear not to be helpful in predicting Direction. Using predictors that have no relationship with the response tends to cause a deterioration in the test error rate, since such predictors cause an increase in variance without a corresponding decrease in bias.\n",
    "\n",
    "Refit the logistic regression using just Lag1 and Lag2"
   ]
  },
  {
   "cell_type": "code",
   "execution_count": 20,
   "metadata": {
    "collapsed": false
   },
   "outputs": [
    {
     "data": {
      "text/plain": [
       "        Direction.2005\n",
       "glm.pred Down  Up\n",
       "    Down   35  35\n",
       "    Up     76 106"
      ]
     },
     "metadata": {},
     "output_type": "display_data"
    }
   ],
   "source": [
    "glm.fit=glm(Direction~Lag1+Lag2, data=Smarket, family=binomial, subset =train)\n",
    "glm.probs = predict(glm.fit, Smarket.2005, type=\"response\")\n",
    "\n",
    "glm.pred=rep(\"Down\", 252)\n",
    "glm.pred[glm.probs >0.5]=\"Up\"\n",
    "\n",
    "table(glm.pred, Direction.2005)"
   ]
  },
  {
   "cell_type": "code",
   "execution_count": 21,
   "metadata": {
    "collapsed": false
   },
   "outputs": [
    {
     "data": {
      "text/html": [
       "0.55952380952381"
      ],
      "text/latex": [
       "0.55952380952381"
      ],
      "text/markdown": [
       "0.55952380952381"
      ],
      "text/plain": [
       "[1] 0.5595238"
      ]
     },
     "metadata": {},
     "output_type": "display_data"
    }
   ],
   "source": [
    "mean(glm.pred == Direction.2005)"
   ]
  },
  {
   "cell_type": "code",
   "execution_count": 22,
   "metadata": {
    "collapsed": false
   },
   "outputs": [
    {
     "data": {
      "text/html": [
       "0.582417582417582"
      ],
      "text/latex": [
       "0.582417582417582"
      ],
      "text/markdown": [
       "0.582417582417582"
      ],
      "text/plain": [
       "[1] 0.5824176"
      ]
     },
     "metadata": {},
     "output_type": "display_data"
    }
   ],
   "source": [
    "106/(106+76)"
   ]
  },
  {
   "cell_type": "markdown",
   "metadata": {},
   "source": [
    "Results look good compared to previous model. Now 56% of the daily movements have been correctly predicted. The confusion matrix suggests that on days when logistic regression predicts that the market will decline, it is only correct 50% of the time. However, on days when it predicts an increase in the market, it has a 58% accuracy rate."
   ]
  },
  {
   "cell_type": "code",
   "execution_count": null,
   "metadata": {
    "collapsed": true
   },
   "outputs": [],
   "source": []
  }
 ],
 "metadata": {
  "kernelspec": {
   "display_name": "R",
   "language": "R",
   "name": "ir"
  },
  "language_info": {
   "codemirror_mode": "r",
   "file_extension": ".r",
   "mimetype": "text/x-r-source",
   "name": "R",
   "pygments_lexer": "r",
   "version": "3.3.1"
  }
 },
 "nbformat": 4,
 "nbformat_minor": 0
}
