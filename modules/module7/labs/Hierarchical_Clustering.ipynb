{
 "cells": [
  {
   "cell_type": "markdown",
   "metadata": {
    "collapsed": true
   },
   "source": [
    "## Hierarchical clustering\n",
    "\n",
    "Here, we do not know in advance how many clusters we want. Once the algorithm is run, we end up with a tree-like visual representation of the observations, called a dendrogram, that allows us to view at once the clusterings obtained for each possible number of clusters, from 1 to n.\n",
    "\n",
    "K-means clustering requires us to pre-specify the number of clusters K which is not a requirement for Hierarchical clustering. Also, it has an added advantage that it results in an attractive tree-based representation of the observations at different scales of clustering, called a dendrogram. \n",
    "\n",
    "Bottom-up or agglomerative clustering is the most common type of hierarchical clustering, and refers to the fact that a dendrogram is built starting from the leaves and combining clusters up to the trunk. \n",
    "\n",
    "\n",
    "In the image shown below, each leaf of the dendrogram represents an observation. As we move up the tree, some leaves begin to fuse into branches. These correspond to observations that are similar to each other. For any two observations, we can look for the point in the tree where branches containing those two observations are first fused. The height of this fusion, as measured on the vertical axis, indicates how different the two observations are. Thus, observations that fuse at the very bottom of the tree are quite similar to each other, whereas observations that fuse close to the top of the tree will tend to be quite different. \n",
    "\n",
    "<img src=\"../images/dendogram.JPG\">\n",
    "\n",
    "The dashed line represents the cut. The left image is not cut which gives us one cluster for all observations. The middle image is cut in such a way that two clusters are generated. The cut on right image generates 3 clusters. \n",
    "\n",
    "## Hierarchical Clustering Algorithm\n",
    "\n",
    "A dissimilarity measure, most often Euclidean distance, is used between each pair of observations. Starting out at the bottom of the dendrogram, each of the n observations is treated as its own cluster. The two clusters that are most similar to each other are then fused so that there are now n−1 clusters. Next, the two clusters that are most similar to each other are fused again, so that there are now n−2 clusters. The algorithm proceeds in this fashion until all of the observations belong to one single cluster, and the dendrogram is complete.\n",
    "\n",
    "The concept of dissimilarity between a pair of observations needs to be extended to a pair of groups of observations. This extension is achieved by developing the notion of linkage, which defines the dissimilarity between two groups of observations. The four most common types of linkage are complete, average, single, and centroid. "
   ]
  },
  {
   "cell_type": "markdown",
   "metadata": {},
   "source": [
    "----\n",
    "Generate the data to perform hierarchical clustering"
   ]
  },
  {
   "cell_type": "code",
   "execution_count": 19,
   "metadata": {
    "collapsed": false
   },
   "outputs": [
    {
     "data": {
      "text/html": [
       "<table>\n",
       "<tbody>\n",
       "\t<tr><td> 3.21675486</td><td>-4.66374314</td></tr>\n",
       "\t<tr><td> 2.45750743</td><td>-4.62372649</td></tr>\n",
       "\t<tr><td> 3.89114465</td><td>-4.07963243</td></tr>\n",
       "\t<tr><td> 3.59598058</td><td>-3.56437524</td></tr>\n",
       "\t<tr><td> 4.63561800</td><td>-2.02909903</td></tr>\n",
       "\t<tr><td> 3.68927544</td><td>-4.59675867</td></tr>\n",
       "\t<tr><td> 1.71875337</td><td>-4.55250721</td></tr>\n",
       "\t<tr><td> 2.78685548</td><td>-3.30403337</td></tr>\n",
       "\t<tr><td> 4.89653987</td><td>-4.15566396</td></tr>\n",
       "\t<tr><td> 4.77686321</td><td>-2.65110180</td></tr>\n",
       "\t<tr><td> 3.56660450</td><td>-5.06852307</td></tr>\n",
       "\t<tr><td> 3.01571945</td><td>-2.93554925</td></tr>\n",
       "\t<tr><td> 3.38305734</td><td>-5.31272176</td></tr>\n",
       "\t<tr><td> 2.95486288</td><td>-1.93630530</td></tr>\n",
       "\t<tr><td> 3.03435191</td><td>-3.86861699</td></tr>\n",
       "\t<tr><td> 3.16902677</td><td>-4.23168845</td></tr>\n",
       "\t<tr><td> 4.16502684</td><td>-4.39735552</td></tr>\n",
       "\t<tr><td> 2.95579600</td><td>-3.11056792</td></tr>\n",
       "\t<tr><td> 2.89963156</td><td>-3.47383096</td></tr>\n",
       "\t<tr><td> 2.71655543</td><td>-4.17127324</td></tr>\n",
       "\t<tr><td> 4.54081498</td><td>-3.84132310</td></tr>\n",
       "\t<tr><td> 3.16516902</td><td>-4.48566507</td></tr>\n",
       "\t<tr><td> 4.30762236</td><td>-4.95890607</td></tr>\n",
       "\t<tr><td> 4.28825688</td><td>-3.81948271</td></tr>\n",
       "\t<tr><td> 3.59289694</td><td>-3.27826572</td></tr>\n",
       "\t<tr><td>-0.28294368</td><td>-0.36954048</td></tr>\n",
       "\t<tr><td> 1.25588403</td><td> 0.23753831</td></tr>\n",
       "\t<tr><td> 0.90983915</td><td>-0.66592211</td></tr>\n",
       "\t<tr><td>-0.92802811</td><td>-0.79680751</td></tr>\n",
       "\t<tr><td> 1.24018084</td><td>-0.05169693</td></tr>\n",
       "\t<tr><td> 0.15346418</td><td> 1.28692833</td></tr>\n",
       "\t<tr><td> 1.05193258</td><td>-0.21414966</td></tr>\n",
       "\t<tr><td>-0.75421121</td><td>-0.57474546</td></tr>\n",
       "\t<tr><td>-1.48218912</td><td>-1.47072704</td></tr>\n",
       "\t<tr><td> 0.86113187</td><td>-1.03273843</td></tr>\n",
       "\t<tr><td>-0.40451983</td><td>-1.30652486</td></tr>\n",
       "\t<tr><td>-0.22740542</td><td>-0.83825241</td></tr>\n",
       "\t<tr><td> 0.93409617</td><td>-1.13065368</td></tr>\n",
       "\t<tr><td>-0.46589588</td><td> 0.36874818</td></tr>\n",
       "\t<tr><td>-0.63754350</td><td>-0.20180302</td></tr>\n",
       "\t<tr><td> 1.34370863</td><td>-1.27765990</td></tr>\n",
       "\t<tr><td> 0.18153538</td><td>-0.79801248</td></tr>\n",
       "\t<tr><td> 1.29251234</td><td> 0.15908242</td></tr>\n",
       "\t<tr><td>-1.68804858</td><td> 0.61479763</td></tr>\n",
       "\t<tr><td>-0.82099358</td><td> 0.68794796</td></tr>\n",
       "\t<tr><td>-0.86214614</td><td>-0.04705101</td></tr>\n",
       "\t<tr><td> 0.09884369</td><td> 2.33032168</td></tr>\n",
       "\t<tr><td>-0.37565514</td><td>-0.57756599</td></tr>\n",
       "\t<tr><td> 0.72390416</td><td> 0.96847913</td></tr>\n",
       "\t<tr><td>-1.79738202</td><td>-0.27753563</td></tr>\n",
       "</tbody>\n",
       "</table>\n"
      ],
      "text/latex": [
       "\\begin{tabular}{ll}\n",
       "\t  3.21675486 & -4.66374314\\\\\n",
       "\t  2.45750743 & -4.62372649\\\\\n",
       "\t  3.89114465 & -4.07963243\\\\\n",
       "\t  3.59598058 & -3.56437524\\\\\n",
       "\t  4.63561800 & -2.02909903\\\\\n",
       "\t  3.68927544 & -4.59675867\\\\\n",
       "\t  1.71875337 & -4.55250721\\\\\n",
       "\t  2.78685548 & -3.30403337\\\\\n",
       "\t  4.89653987 & -4.15566396\\\\\n",
       "\t  4.77686321 & -2.65110180\\\\\n",
       "\t  3.56660450 & -5.06852307\\\\\n",
       "\t  3.01571945 & -2.93554925\\\\\n",
       "\t  3.38305734 & -5.31272176\\\\\n",
       "\t  2.95486288 & -1.93630530\\\\\n",
       "\t  3.03435191 & -3.86861699\\\\\n",
       "\t  3.16902677 & -4.23168845\\\\\n",
       "\t  4.16502684 & -4.39735552\\\\\n",
       "\t  2.95579600 & -3.11056792\\\\\n",
       "\t  2.89963156 & -3.47383096\\\\\n",
       "\t  2.71655543 & -4.17127324\\\\\n",
       "\t  4.54081498 & -3.84132310\\\\\n",
       "\t  3.16516902 & -4.48566507\\\\\n",
       "\t  4.30762236 & -4.95890607\\\\\n",
       "\t  4.28825688 & -3.81948271\\\\\n",
       "\t  3.59289694 & -3.27826572\\\\\n",
       "\t -0.28294368 & -0.36954048\\\\\n",
       "\t  1.25588403 &  0.23753831\\\\\n",
       "\t  0.90983915 & -0.66592211\\\\\n",
       "\t -0.92802811 & -0.79680751\\\\\n",
       "\t  1.24018084 & -0.05169693\\\\\n",
       "\t  0.15346418 &  1.28692833\\\\\n",
       "\t  1.05193258 & -0.21414966\\\\\n",
       "\t -0.75421121 & -0.57474546\\\\\n",
       "\t -1.48218912 & -1.47072704\\\\\n",
       "\t  0.86113187 & -1.03273843\\\\\n",
       "\t -0.40451983 & -1.30652486\\\\\n",
       "\t -0.22740542 & -0.83825241\\\\\n",
       "\t  0.93409617 & -1.13065368\\\\\n",
       "\t -0.46589588 &  0.36874818\\\\\n",
       "\t -0.63754350 & -0.20180302\\\\\n",
       "\t  1.34370863 & -1.27765990\\\\\n",
       "\t  0.18153538 & -0.79801248\\\\\n",
       "\t  1.29251234 &  0.15908242\\\\\n",
       "\t -1.68804858 &  0.61479763\\\\\n",
       "\t -0.82099358 &  0.68794796\\\\\n",
       "\t -0.86214614 & -0.04705101\\\\\n",
       "\t  0.09884369 &  2.33032168\\\\\n",
       "\t -0.37565514 & -0.57756599\\\\\n",
       "\t  0.72390416 &  0.96847913\\\\\n",
       "\t -1.79738202 & -0.27753563\\\\\n",
       "\\end{tabular}\n"
      ],
      "text/markdown": [
       "1. 3.21675486286358\n",
       "2. 2.45750742773657\n",
       "3. 3.89114464507233\n",
       "4. 3.59598057718747\n",
       "5. 4.63561800111297\n",
       "6. 3.68927544191972\n",
       "7. 1.71875336989884\n",
       "8. 2.78685548072164\n",
       "9. 4.89653987190927\n",
       "10. 4.77686321368272\n",
       "11. 3.56660449818032\n",
       "12. 3.01571945400457\n",
       "13. 3.38305733851715\n",
       "14. 2.95486288408669\n",
       "15. 3.03435190739699\n",
       "16. 3.16902677421831\n",
       "17. 4.16502683902767\n",
       "18. 2.95579600274791\n",
       "19. 2.8996315574141\n",
       "20. 2.71655543112641\n",
       "21. 4.54081498087098\n",
       "22. 3.16516901970992\n",
       "23. 4.30762236025457\n",
       "24. 4.28825687792158\n",
       "25. 3.59289694064803\n",
       "26. -0.282943684322266\n",
       "27. 1.25588402559985\n",
       "28. 0.909839151228625\n",
       "29. -0.92802810507435\n",
       "30. 1.24018083800314\n",
       "31. 0.153464179554629\n",
       "32. 1.05193257898961\n",
       "33. -0.754211212817517\n",
       "34. -1.48218911965123\n",
       "35. 0.861131872497717\n",
       "36. -0.404519830756996\n",
       "37. -0.227405417273616\n",
       "38. 0.934096170862491\n",
       "39. -0.465895879790951\n",
       "40. -0.637543498570216\n",
       "41. 1.34370862619937\n",
       "42. 0.181535384597938\n",
       "43. 1.29251233641714\n",
       "44. -1.68804857586479\n",
       "45. -0.820993577630954\n",
       "46. -0.862146144099767\n",
       "47. 0.0988436891379549\n",
       "48. -0.375655144198359\n",
       "49. 0.723904155284259\n",
       "50. -1.79738201857254\n",
       "51. -4.66374314157622\n",
       "52. -4.62372648872918\n",
       "53. -4.07963243183816\n",
       "54. -3.56437523717059\n",
       "55. -2.02909903027576\n",
       "56. -4.59675867250913\n",
       "57. -4.55250721160896\n",
       "58. -3.30403336629889\n",
       "59. -4.15566396460799\n",
       "60. -2.65110180480227\n",
       "61. -5.06852307048677\n",
       "62. -2.93554925319587\n",
       "63. -5.31272176453748\n",
       "64. -1.9363052977481\n",
       "65. -3.86861698933732\n",
       "66. -4.23168844891494\n",
       "67. -4.39735552297346\n",
       "68. -3.11056791771863\n",
       "69. -3.47383096050327\n",
       "70. -4.17127324296262\n",
       "71. -3.84132310255674\n",
       "72. -4.48566506617243\n",
       "73. -4.95890607499921\n",
       "74. -3.81948270789294\n",
       "75. -3.27826571718108\n",
       "76. -0.369540478120798\n",
       "77. 0.237538312539657\n",
       "78. -0.665922112414915\n",
       "79. -0.796807509842757\n",
       "80. -0.0516969313113834\n",
       "81. 1.28692833329751\n",
       "82. -0.21414966273839\n",
       "83. -0.574745464301402\n",
       "84. -1.47072704429233\n",
       "85. -1.0327384328225\n",
       "86. -1.30652485523967\n",
       "87. -0.838252407319143\n",
       "88. -1.13065368102478\n",
       "89. 0.368748175283016\n",
       "90. -0.201803020330878\n",
       "91. -1.27765990277316\n",
       "92. -0.798012480668575\n",
       "93. 0.159082422945998\n",
       "94. 0.614797633143453\n",
       "95. 0.687947962386413\n",
       "96. -0.0470510110562396\n",
       "97. 2.33032167829949\n",
       "98. -0.577565990980993\n",
       "99. 0.968479134291847\n",
       "100. -0.277535627462324\n",
       "\n",
       "\n"
      ],
      "text/plain": [
       "      [,1]        [,2]       \n",
       " [1,]  3.21675486 -4.66374314\n",
       " [2,]  2.45750743 -4.62372649\n",
       " [3,]  3.89114465 -4.07963243\n",
       " [4,]  3.59598058 -3.56437524\n",
       " [5,]  4.63561800 -2.02909903\n",
       " [6,]  3.68927544 -4.59675867\n",
       " [7,]  1.71875337 -4.55250721\n",
       " [8,]  2.78685548 -3.30403337\n",
       " [9,]  4.89653987 -4.15566396\n",
       "[10,]  4.77686321 -2.65110180\n",
       "[11,]  3.56660450 -5.06852307\n",
       "[12,]  3.01571945 -2.93554925\n",
       "[13,]  3.38305734 -5.31272176\n",
       "[14,]  2.95486288 -1.93630530\n",
       "[15,]  3.03435191 -3.86861699\n",
       "[16,]  3.16902677 -4.23168845\n",
       "[17,]  4.16502684 -4.39735552\n",
       "[18,]  2.95579600 -3.11056792\n",
       "[19,]  2.89963156 -3.47383096\n",
       "[20,]  2.71655543 -4.17127324\n",
       "[21,]  4.54081498 -3.84132310\n",
       "[22,]  3.16516902 -4.48566507\n",
       "[23,]  4.30762236 -4.95890607\n",
       "[24,]  4.28825688 -3.81948271\n",
       "[25,]  3.59289694 -3.27826572\n",
       "[26,] -0.28294368 -0.36954048\n",
       "[27,]  1.25588403  0.23753831\n",
       "[28,]  0.90983915 -0.66592211\n",
       "[29,] -0.92802811 -0.79680751\n",
       "[30,]  1.24018084 -0.05169693\n",
       "[31,]  0.15346418  1.28692833\n",
       "[32,]  1.05193258 -0.21414966\n",
       "[33,] -0.75421121 -0.57474546\n",
       "[34,] -1.48218912 -1.47072704\n",
       "[35,]  0.86113187 -1.03273843\n",
       "[36,] -0.40451983 -1.30652486\n",
       "[37,] -0.22740542 -0.83825241\n",
       "[38,]  0.93409617 -1.13065368\n",
       "[39,] -0.46589588  0.36874818\n",
       "[40,] -0.63754350 -0.20180302\n",
       "[41,]  1.34370863 -1.27765990\n",
       "[42,]  0.18153538 -0.79801248\n",
       "[43,]  1.29251234  0.15908242\n",
       "[44,] -1.68804858  0.61479763\n",
       "[45,] -0.82099358  0.68794796\n",
       "[46,] -0.86214614 -0.04705101\n",
       "[47,]  0.09884369  2.33032168\n",
       "[48,] -0.37565514 -0.57756599\n",
       "[49,]  0.72390416  0.96847913\n",
       "[50,] -1.79738202 -0.27753563"
      ]
     },
     "metadata": {},
     "output_type": "display_data"
    }
   ],
   "source": [
    "# Set the seed to reproduce the results\n",
    "set.seed(4)\n",
    "\n",
    "# Generate a random normal distribution of 100 values. Generate a matrix out of this normal distribution.\n",
    "x=matrix(rnorm(50*2), ncol=2)\n",
    "\n",
    "# Add 3 to rows 1 to 25 in first column of the matrix\n",
    "x[1:25, 1]=x[1:25, 1] + 3\n",
    "\n",
    "# Subtract 4 from rows 1 to 25 in second column of the matrix\n",
    "x[1:25, 2]=x[1:25, 2] - 4\n",
    "x"
   ]
  },
  {
   "cell_type": "markdown",
   "metadata": {},
   "source": [
    "----\n",
    "\n",
    "The hclust() function is used to implement hierarchical clustering in R. Create matrix x similar to K-Means lab. Use that data to plot the hierarchical clustering dendrogram using complete, single, and average linkage clustering, with Euclidean distance as the dissimilarity measure. \n",
    "\n",
    "|        |Linkage Description|\n",
    "|--------|---------------------------------------------------------------------------------------------------------------------|\n",
    "|**Complete**|Maximal intercluster dissimilarity. Compute all pairwise dissimilarities between the observations in cluster A and the observations in cluster B, and record the largest of these dissimilarities.                                                    |\n",
    "|**Single**  |Minimal intercluster dissimilarity. Compute all pairwise dissimilarities between the observations in cluster A and the observations in cluster B, and record the smallest of these dissimilarities. Single linkage can result in extended, trailing clusters in which single observations are fused one-at-a-time.                                                                 |\n",
    "|**Average** |Mean intercluster dissimilarity. Compute all pairwise dissimilarities between the observations in cluster A and the observations in cluster B, and record the average of these dissimilarities.                                                    |\n",
    "|**Centroid**|Dissimilarity between the centroid for cluster A (a mean vector of length p) and the centroid for cluster B. Centroid linkage can result in undesirable inversions.                                                                                  |\n",
    "\n",
    "\n",
    "Begin by clustering observations using complete linkage. Use dist() function to compute the 50 × 50 inter-observation Euclidean distance matrix."
   ]
  },
  {
   "cell_type": "code",
   "execution_count": 20,
   "metadata": {
    "collapsed": false
   },
   "outputs": [
    {
     "data": {
      "text/plain": [
       "\n",
       "Call:\n",
       "hclust(d = dist(x), method = \"complete\")\n",
       "\n",
       "Cluster method   : complete \n",
       "Distance         : euclidean \n",
       "Number of objects: 50 \n"
      ]
     },
     "metadata": {},
     "output_type": "display_data"
    }
   ],
   "source": [
    "# \n",
    "hc.complete = hclust(dist(x), method=\"complete\")\n",
    "hc.complete"
   ]
  },
  {
   "cell_type": "markdown",
   "metadata": {},
   "source": [
    "Perform hierarchical clustering with average and single linkage"
   ]
  },
  {
   "cell_type": "code",
   "execution_count": 3,
   "metadata": {
    "collapsed": true
   },
   "outputs": [],
   "source": [
    "hc.average = hclust(dist(x), method =\"average\")\n",
    "hc.single = hclust(dist(x), method =\"single\")"
   ]
  },
  {
   "cell_type": "markdown",
   "metadata": {},
   "source": [
    "plot the dendrograms obtained using the plot() function. The numbers at the bottom of the plot identify each observation."
   ]
  },
  {
   "cell_type": "code",
   "execution_count": 4,
   "metadata": {
    "collapsed": false
   },
   "outputs": [
    {
     "data": {
      "image/png": "[encoded data removed]",
      "text/plain": [
       "Plot with title “ Single Linkage ”"
      ]
     },
     "metadata": {},
     "output_type": "display_data"
    }
   ],
   "source": [
    "# Arrange 3 plots in a row\n",
    "par(mfrow =c(1,3))\n",
    "\n",
    "# Plot all the 3 dendograms generated using different linkage schemes.\n",
    "plot(hc.complete ,main =\" Complete Linkage \", xlab=\"\", sub =\"\", cex =.9)\n",
    "plot(hc.average , main =\" Average Linkage \", xlab=\"\", sub =\"\", cex =.9)\n",
    "plot(hc.single , main=\" Single Linkage \", xlab=\"\", sub =\"\", cex =.9)"
   ]
  },
  {
   "cell_type": "markdown",
   "metadata": {},
   "source": [
    "To determine the cluster labels for each observation associated with a given cut of the dendrogram, we can use the cutree() function as shown below."
   ]
  },
  {
   "cell_type": "code",
   "execution_count": 5,
   "metadata": {
    "collapsed": false
   },
   "outputs": [
    {
     "data": {
      "text/html": [
       "<ol class=list-inline>\n",
       "\t<li>1</li>\n",
       "\t<li>1</li>\n",
       "\t<li>1</li>\n",
       "\t<li>1</li>\n",
       "\t<li>1</li>\n",
       "\t<li>1</li>\n",
       "\t<li>1</li>\n",
       "\t<li>1</li>\n",
       "\t<li>1</li>\n",
       "\t<li>1</li>\n",
       "\t<li>1</li>\n",
       "\t<li>1</li>\n",
       "\t<li>1</li>\n",
       "\t<li>1</li>\n",
       "\t<li>1</li>\n",
       "\t<li>1</li>\n",
       "\t<li>1</li>\n",
       "\t<li>1</li>\n",
       "\t<li>1</li>\n",
       "\t<li>1</li>\n",
       "\t<li>1</li>\n",
       "\t<li>1</li>\n",
       "\t<li>1</li>\n",
       "\t<li>1</li>\n",
       "\t<li>1</li>\n",
       "\t<li>2</li>\n",
       "\t<li>2</li>\n",
       "\t<li>2</li>\n",
       "\t<li>2</li>\n",
       "\t<li>2</li>\n",
       "\t<li>2</li>\n",
       "\t<li>2</li>\n",
       "\t<li>2</li>\n",
       "\t<li>2</li>\n",
       "\t<li>2</li>\n",
       "\t<li>2</li>\n",
       "\t<li>2</li>\n",
       "\t<li>2</li>\n",
       "\t<li>2</li>\n",
       "\t<li>2</li>\n",
       "\t<li>2</li>\n",
       "\t<li>2</li>\n",
       "\t<li>2</li>\n",
       "\t<li>2</li>\n",
       "\t<li>2</li>\n",
       "\t<li>2</li>\n",
       "\t<li>2</li>\n",
       "\t<li>2</li>\n",
       "\t<li>2</li>\n",
       "\t<li>2</li>\n",
       "</ol>\n"
      ],
      "text/latex": [
       "\\begin{enumerate*}\n",
       "\\item 1\n",
       "\\item 1\n",
       "\\item 1\n",
       "\\item 1\n",
       "\\item 1\n",
       "\\item 1\n",
       "\\item 1\n",
       "\\item 1\n",
       "\\item 1\n",
       "\\item 1\n",
       "\\item 1\n",
       "\\item 1\n",
       "\\item 1\n",
       "\\item 1\n",
       "\\item 1\n",
       "\\item 1\n",
       "\\item 1\n",
       "\\item 1\n",
       "\\item 1\n",
       "\\item 1\n",
       "\\item 1\n",
       "\\item 1\n",
       "\\item 1\n",
       "\\item 1\n",
       "\\item 1\n",
       "\\item 2\n",
       "\\item 2\n",
       "\\item 2\n",
       "\\item 2\n",
       "\\item 2\n",
       "\\item 2\n",
       "\\item 2\n",
       "\\item 2\n",
       "\\item 2\n",
       "\\item 2\n",
       "\\item 2\n",
       "\\item 2\n",
       "\\item 2\n",
       "\\item 2\n",
       "\\item 2\n",
       "\\item 2\n",
       "\\item 2\n",
       "\\item 2\n",
       "\\item 2\n",
       "\\item 2\n",
       "\\item 2\n",
       "\\item 2\n",
       "\\item 2\n",
       "\\item 2\n",
       "\\item 2\n",
       "\\end{enumerate*}\n"
      ],
      "text/markdown": [
       "1. 1\n",
       "2. 1\n",
       "3. 1\n",
       "4. 1\n",
       "5. 1\n",
       "6. 1\n",
       "7. 1\n",
       "8. 1\n",
       "9. 1\n",
       "10. 1\n",
       "11. 1\n",
       "12. 1\n",
       "13. 1\n",
       "14. 1\n",
       "15. 1\n",
       "16. 1\n",
       "17. 1\n",
       "18. 1\n",
       "19. 1\n",
       "20. 1\n",
       "21. 1\n",
       "22. 1\n",
       "23. 1\n",
       "24. 1\n",
       "25. 1\n",
       "26. 2\n",
       "27. 2\n",
       "28. 2\n",
       "29. 2\n",
       "30. 2\n",
       "31. 2\n",
       "32. 2\n",
       "33. 2\n",
       "34. 2\n",
       "35. 2\n",
       "36. 2\n",
       "37. 2\n",
       "38. 2\n",
       "39. 2\n",
       "40. 2\n",
       "41. 2\n",
       "42. 2\n",
       "43. 2\n",
       "44. 2\n",
       "45. 2\n",
       "46. 2\n",
       "47. 2\n",
       "48. 2\n",
       "49. 2\n",
       "50. 2\n",
       "\n",
       "\n"
      ],
      "text/plain": [
       " [1] 1 1 1 1 1 1 1 1 1 1 1 1 1 1 1 1 1 1 1 1 1 1 1 1 1 2 2 2 2 2 2 2 2 2 2 2 2 2\n",
       "[39] 2 2 2 2 2 2 2 2 2 2 2 2"
      ]
     },
     "metadata": {},
     "output_type": "display_data"
    }
   ],
   "source": [
    "cutree(hc.complete, 2)"
   ]
  },
  {
   "cell_type": "code",
   "execution_count": 6,
   "metadata": {
    "collapsed": false
   },
   "outputs": [
    {
     "data": {
      "text/html": [
       "<ol class=list-inline>\n",
       "\t<li>1</li>\n",
       "\t<li>1</li>\n",
       "\t<li>1</li>\n",
       "\t<li>1</li>\n",
       "\t<li>1</li>\n",
       "\t<li>1</li>\n",
       "\t<li>1</li>\n",
       "\t<li>1</li>\n",
       "\t<li>1</li>\n",
       "\t<li>1</li>\n",
       "\t<li>1</li>\n",
       "\t<li>1</li>\n",
       "\t<li>1</li>\n",
       "\t<li>1</li>\n",
       "\t<li>1</li>\n",
       "\t<li>1</li>\n",
       "\t<li>1</li>\n",
       "\t<li>1</li>\n",
       "\t<li>1</li>\n",
       "\t<li>1</li>\n",
       "\t<li>1</li>\n",
       "\t<li>1</li>\n",
       "\t<li>1</li>\n",
       "\t<li>1</li>\n",
       "\t<li>1</li>\n",
       "\t<li>2</li>\n",
       "\t<li>2</li>\n",
       "\t<li>2</li>\n",
       "\t<li>2</li>\n",
       "\t<li>2</li>\n",
       "\t<li>2</li>\n",
       "\t<li>2</li>\n",
       "\t<li>2</li>\n",
       "\t<li>2</li>\n",
       "\t<li>2</li>\n",
       "\t<li>2</li>\n",
       "\t<li>2</li>\n",
       "\t<li>2</li>\n",
       "\t<li>2</li>\n",
       "\t<li>2</li>\n",
       "\t<li>2</li>\n",
       "\t<li>2</li>\n",
       "\t<li>2</li>\n",
       "\t<li>2</li>\n",
       "\t<li>2</li>\n",
       "\t<li>2</li>\n",
       "\t<li>2</li>\n",
       "\t<li>2</li>\n",
       "\t<li>2</li>\n",
       "\t<li>2</li>\n",
       "</ol>\n"
      ],
      "text/latex": [
       "\\begin{enumerate*}\n",
       "\\item 1\n",
       "\\item 1\n",
       "\\item 1\n",
       "\\item 1\n",
       "\\item 1\n",
       "\\item 1\n",
       "\\item 1\n",
       "\\item 1\n",
       "\\item 1\n",
       "\\item 1\n",
       "\\item 1\n",
       "\\item 1\n",
       "\\item 1\n",
       "\\item 1\n",
       "\\item 1\n",
       "\\item 1\n",
       "\\item 1\n",
       "\\item 1\n",
       "\\item 1\n",
       "\\item 1\n",
       "\\item 1\n",
       "\\item 1\n",
       "\\item 1\n",
       "\\item 1\n",
       "\\item 1\n",
       "\\item 2\n",
       "\\item 2\n",
       "\\item 2\n",
       "\\item 2\n",
       "\\item 2\n",
       "\\item 2\n",
       "\\item 2\n",
       "\\item 2\n",
       "\\item 2\n",
       "\\item 2\n",
       "\\item 2\n",
       "\\item 2\n",
       "\\item 2\n",
       "\\item 2\n",
       "\\item 2\n",
       "\\item 2\n",
       "\\item 2\n",
       "\\item 2\n",
       "\\item 2\n",
       "\\item 2\n",
       "\\item 2\n",
       "\\item 2\n",
       "\\item 2\n",
       "\\item 2\n",
       "\\item 2\n",
       "\\end{enumerate*}\n"
      ],
      "text/markdown": [
       "1. 1\n",
       "2. 1\n",
       "3. 1\n",
       "4. 1\n",
       "5. 1\n",
       "6. 1\n",
       "7. 1\n",
       "8. 1\n",
       "9. 1\n",
       "10. 1\n",
       "11. 1\n",
       "12. 1\n",
       "13. 1\n",
       "14. 1\n",
       "15. 1\n",
       "16. 1\n",
       "17. 1\n",
       "18. 1\n",
       "19. 1\n",
       "20. 1\n",
       "21. 1\n",
       "22. 1\n",
       "23. 1\n",
       "24. 1\n",
       "25. 1\n",
       "26. 2\n",
       "27. 2\n",
       "28. 2\n",
       "29. 2\n",
       "30. 2\n",
       "31. 2\n",
       "32. 2\n",
       "33. 2\n",
       "34. 2\n",
       "35. 2\n",
       "36. 2\n",
       "37. 2\n",
       "38. 2\n",
       "39. 2\n",
       "40. 2\n",
       "41. 2\n",
       "42. 2\n",
       "43. 2\n",
       "44. 2\n",
       "45. 2\n",
       "46. 2\n",
       "47. 2\n",
       "48. 2\n",
       "49. 2\n",
       "50. 2\n",
       "\n",
       "\n"
      ],
      "text/plain": [
       " [1] 1 1 1 1 1 1 1 1 1 1 1 1 1 1 1 1 1 1 1 1 1 1 1 1 1 2 2 2 2 2 2 2 2 2 2 2 2 2\n",
       "[39] 2 2 2 2 2 2 2 2 2 2 2 2"
      ]
     },
     "metadata": {},
     "output_type": "display_data"
    }
   ],
   "source": [
    "cutree(hc.average, 2)"
   ]
  },
  {
   "cell_type": "code",
   "execution_count": 7,
   "metadata": {
    "collapsed": false
   },
   "outputs": [
    {
     "data": {
      "text/html": [
       "<ol class=list-inline>\n",
       "\t<li>1</li>\n",
       "\t<li>1</li>\n",
       "\t<li>1</li>\n",
       "\t<li>1</li>\n",
       "\t<li>1</li>\n",
       "\t<li>1</li>\n",
       "\t<li>1</li>\n",
       "\t<li>1</li>\n",
       "\t<li>1</li>\n",
       "\t<li>1</li>\n",
       "\t<li>1</li>\n",
       "\t<li>1</li>\n",
       "\t<li>1</li>\n",
       "\t<li>1</li>\n",
       "\t<li>1</li>\n",
       "\t<li>1</li>\n",
       "\t<li>1</li>\n",
       "\t<li>1</li>\n",
       "\t<li>1</li>\n",
       "\t<li>1</li>\n",
       "\t<li>1</li>\n",
       "\t<li>1</li>\n",
       "\t<li>1</li>\n",
       "\t<li>1</li>\n",
       "\t<li>1</li>\n",
       "\t<li>2</li>\n",
       "\t<li>2</li>\n",
       "\t<li>2</li>\n",
       "\t<li>2</li>\n",
       "\t<li>2</li>\n",
       "\t<li>2</li>\n",
       "\t<li>2</li>\n",
       "\t<li>2</li>\n",
       "\t<li>2</li>\n",
       "\t<li>2</li>\n",
       "\t<li>2</li>\n",
       "\t<li>2</li>\n",
       "\t<li>2</li>\n",
       "\t<li>2</li>\n",
       "\t<li>2</li>\n",
       "\t<li>2</li>\n",
       "\t<li>2</li>\n",
       "\t<li>2</li>\n",
       "\t<li>2</li>\n",
       "\t<li>2</li>\n",
       "\t<li>2</li>\n",
       "\t<li>2</li>\n",
       "\t<li>2</li>\n",
       "\t<li>2</li>\n",
       "\t<li>2</li>\n",
       "</ol>\n"
      ],
      "text/latex": [
       "\\begin{enumerate*}\n",
       "\\item 1\n",
       "\\item 1\n",
       "\\item 1\n",
       "\\item 1\n",
       "\\item 1\n",
       "\\item 1\n",
       "\\item 1\n",
       "\\item 1\n",
       "\\item 1\n",
       "\\item 1\n",
       "\\item 1\n",
       "\\item 1\n",
       "\\item 1\n",
       "\\item 1\n",
       "\\item 1\n",
       "\\item 1\n",
       "\\item 1\n",
       "\\item 1\n",
       "\\item 1\n",
       "\\item 1\n",
       "\\item 1\n",
       "\\item 1\n",
       "\\item 1\n",
       "\\item 1\n",
       "\\item 1\n",
       "\\item 2\n",
       "\\item 2\n",
       "\\item 2\n",
       "\\item 2\n",
       "\\item 2\n",
       "\\item 2\n",
       "\\item 2\n",
       "\\item 2\n",
       "\\item 2\n",
       "\\item 2\n",
       "\\item 2\n",
       "\\item 2\n",
       "\\item 2\n",
       "\\item 2\n",
       "\\item 2\n",
       "\\item 2\n",
       "\\item 2\n",
       "\\item 2\n",
       "\\item 2\n",
       "\\item 2\n",
       "\\item 2\n",
       "\\item 2\n",
       "\\item 2\n",
       "\\item 2\n",
       "\\item 2\n",
       "\\end{enumerate*}\n"
      ],
      "text/markdown": [
       "1. 1\n",
       "2. 1\n",
       "3. 1\n",
       "4. 1\n",
       "5. 1\n",
       "6. 1\n",
       "7. 1\n",
       "8. 1\n",
       "9. 1\n",
       "10. 1\n",
       "11. 1\n",
       "12. 1\n",
       "13. 1\n",
       "14. 1\n",
       "15. 1\n",
       "16. 1\n",
       "17. 1\n",
       "18. 1\n",
       "19. 1\n",
       "20. 1\n",
       "21. 1\n",
       "22. 1\n",
       "23. 1\n",
       "24. 1\n",
       "25. 1\n",
       "26. 2\n",
       "27. 2\n",
       "28. 2\n",
       "29. 2\n",
       "30. 2\n",
       "31. 2\n",
       "32. 2\n",
       "33. 2\n",
       "34. 2\n",
       "35. 2\n",
       "36. 2\n",
       "37. 2\n",
       "38. 2\n",
       "39. 2\n",
       "40. 2\n",
       "41. 2\n",
       "42. 2\n",
       "43. 2\n",
       "44. 2\n",
       "45. 2\n",
       "46. 2\n",
       "47. 2\n",
       "48. 2\n",
       "49. 2\n",
       "50. 2\n",
       "\n",
       "\n"
      ],
      "text/plain": [
       " [1] 1 1 1 1 1 1 1 1 1 1 1 1 1 1 1 1 1 1 1 1 1 1 1 1 1 2 2 2 2 2 2 2 2 2 2 2 2 2\n",
       "[39] 2 2 2 2 2 2 2 2 2 2 2 2"
      ]
     },
     "metadata": {},
     "output_type": "display_data"
    }
   ],
   "source": [
    "cutree(hc.single, 2)"
   ]
  },
  {
   "cell_type": "markdown",
   "metadata": {},
   "source": [
    "To scale the variables before performing hierarchical clustering of the observations, we use the scale() function."
   ]
  },
  {
   "cell_type": "code",
   "execution_count": 8,
   "metadata": {
    "collapsed": false
   },
   "outputs": [
    {
     "data": {
      "image/png": "[encoded data removed]",
      "text/plain": [
       "Plot with title “ Hierarchical Clustering with Scaled Features ”"
      ]
     },
     "metadata": {},
     "output_type": "display_data"
    }
   ],
   "source": [
    "xsc=scale(x)\n",
    "plot(hclust(dist(xsc), method=\"complete\"), main =\" Hierarchical Clustering with Scaled Features \")"
   ]
  },
  {
   "cell_type": "markdown",
   "metadata": {},
   "source": [
    "Correlation-based distance can be computed using the as.dist() function, which converts an arbitrary square symmetric matrix into a form that the hclust() function recognizes as a distance matrix. However, this only makes sense for data with at least three features since the absolute correlation between any two observations with measurements on two features is always 1. Hence, we will cluster a three-dimensional data set."
   ]
  },
  {
   "cell_type": "code",
   "execution_count": 9,
   "metadata": {
    "collapsed": false
   },
   "outputs": [
    {
     "data": {
      "image/png": "[encoded data removed]",
      "text/plain": [
       "Plot with title “Complete Linkage with Correlation -Based Distance ”"
      ]
     },
     "metadata": {},
     "output_type": "display_data"
    }
   ],
   "source": [
    "x=matrix(rnorm(30*3), ncol=3)\n",
    "dd=as.dist(1-cor(t(x)))\n",
    "plot(hclust(dd, method=\"complete\"), main=\"Complete Linkage with Correlation -Based Distance \", xlab=\"\", sub =\"\")"
   ]
  },
  {
   "cell_type": "markdown",
   "metadata": {},
   "source": [
    "### Divisive Clustering\n"
   ]
  },
  {
   "cell_type": "code",
   "execution_count": 10,
   "metadata": {
    "collapsed": false
   },
   "outputs": [],
   "source": [
    "#install.packages(\"cluster\",repo=\"https://cran.mtu.edu/\")\n",
    "library(cluster)"
   ]
  },
  {
   "cell_type": "code",
   "execution_count": 15,
   "metadata": {
    "collapsed": false
   },
   "outputs": [
    {
     "name": "stdout",
     "output_type": "stream",
     "text": [
      "Merge:\n",
      "      [,1] [,2]\n",
      " [1,]  -27  -43\n",
      " [2,]  -35  -38\n",
      " [3,]  -12  -18\n",
      " [4,]   -1  -22\n",
      " [5,]   -8  -19\n",
      " [6,]  -26  -48\n",
      " [7,]  -30  -32\n",
      " [8,]  -21  -24\n",
      " [9,]  -40  -46\n",
      "[10,]  -29  -33\n",
      "[11,]   -4  -25\n",
      "[12,]  -11  -13\n",
      "[13,]  -37  -42\n",
      "[14,]   -3  -17\n",
      "[15,]    4  -16\n",
      "[16,]  -28    2\n",
      "[17,]  -39  -45\n",
      "[18,]    1    7\n",
      "[19,]   -2  -20\n",
      "[20,]    5    3\n",
      "[21,]   15   -6\n",
      "[22,]   -5  -10\n",
      "[23,]  -31  -49\n",
      "[24,]   -9    8\n",
      "[25,]   16  -41\n",
      "[26,]    6   10\n",
      "[27,]  -44  -50\n",
      "[28,]   17    9\n",
      "[29,]   20  -15\n",
      "[30,]   11   29\n",
      "[31,]   14   24\n",
      "[32,]   19   -7\n",
      "[33,]   21   12\n",
      "[34,]   13  -36\n",
      "[35,]   26   34\n",
      "[36,]   33  -23\n",
      "[37,]   28   27\n",
      "[38,]   23  -47\n",
      "[39,]   18   25\n",
      "[40,]   35  -34\n",
      "[41,]   22  -14\n",
      "[42,]   31   30\n",
      "[43,]   36   32\n",
      "[44,]   43   42\n",
      "[45,]   38   37\n",
      "[46,]   40   39\n",
      "[47,]   44   41\n",
      "[48,]   46   45\n",
      "[49,]   47   48\n",
      "Order of objects:\n",
      " [1]  1 22 16  6 11 13 23  2 20  7  3 17  9 21 24  4 25  8 19 12 18 15  5 10 14\n",
      "[26] 26 48 29 33 37 42 36 34 27 43 30 32 28 35 38 41 31 49 47 39 45 40 46 44 50\n",
      "Height:\n",
      " [1] 0.18539930 0.43468290 0.63555877 1.10201729 0.30548742 1.35101643\n",
      " [7] 2.62057297 0.52136341 1.06815181 3.20246961 0.41947517 1.00826601\n",
      "[13] 0.69500075 0.25350069 2.27509185 0.28612614 0.93325375 0.20383735\n",
      "[19] 0.55065742 0.18499285 0.93325375 3.85690136 0.63783827 1.95719678\n",
      "[25] 8.41704575 0.22774993 0.77375127 0.28199976 1.10956414 0.41091584\n",
      "[31] 1.10956414 1.79458188 3.22726123 0.08658499 0.49559885 0.24865296\n",
      "[37] 1.51774135 0.46536419 0.12211136 0.74997723 4.11675068 0.65330824\n",
      "[43] 1.49843775 3.22437462 0.47747553 0.90846615 0.27275361 1.48004665\n",
      "[49] 0.89900637\n",
      "Divisive coefficient:\n",
      "[1] 0.9381019\n",
      "\n",
      "Available components:\n",
      "[1] \"order\"  \"height\" \"dc\"     \"merge\"  \"diss\"   \"call\"   \"data\"  \n"
     ]
    },
    {
     "data": {
      "image/png": "[encoded data removed]",
      "text/plain": [
       "Plot with title “Dendrogram of diana”"
      ]
     },
     "metadata": {},
     "output_type": "display_data"
    }
   ],
   "source": [
    "# Compute diana()\n",
    "# x : could be matrix or data frame, or dissimilarity matrix or object.\n",
    "# metric: character string specifying the metric to be used for calculating dissimilarities between observations.\n",
    "# The currently available options are \"euclidean\" and \"manhattan\"\n",
    "\n",
    "res_diana <- diana(x, metric = \"euclidean\", stand = FALSE)\n",
    "print(res_diana)\n",
    "# Plot the tree\n",
    "pltree(res_diana, cex = 0.6, hang = -1, main = \"Dendrogram of diana\")"
   ]
  },
  {
   "cell_type": "code",
   "execution_count": 17,
   "metadata": {
    "collapsed": false
   },
   "outputs": [
    {
     "data": {
      "text/plain": [
       "diana2\n",
       " 1  2 \n",
       "25 25 "
      ]
     },
     "metadata": {},
     "output_type": "display_data"
    },
    {
     "data": {
      "text/plain": [
       "NULL"
      ]
     },
     "metadata": {},
     "output_type": "display_data"
    }
   ],
   "source": [
    "## Cut into 2 groups:\n",
    "diana2 <- cutree(as.hclust(res_diana), k = 2)\n",
    "\n",
    "table(diana2) # 8 and 42 group members\n",
    "\n",
    "rownames(x)[diana2 == 1]"
   ]
  },
  {
   "cell_type": "code",
   "execution_count": 18,
   "metadata": {
    "collapsed": false
   },
   "outputs": [
    {
     "data": {
      "text/html": [
       "0.938101929025751"
      ],
      "text/latex": [
       "0.938101929025751"
      ],
      "text/markdown": [
       "0.938101929025751"
      ],
      "text/plain": [
       "[1] 0.9381019"
      ]
     },
     "metadata": {},
     "output_type": "display_data"
    }
   ],
   "source": [
    "# Divise coefficient; amount of clustering structure found\n",
    "res_diana$dc"
   ]
  },
  {
   "cell_type": "code",
   "execution_count": null,
   "metadata": {
    "collapsed": true
   },
   "outputs": [],
   "source": []
  }
 ],
 "metadata": {
  "kernelspec": {
   "display_name": "R",
   "language": "R",
   "name": "ir"
  },
  "language_info": {
   "codemirror_mode": "r",
   "file_extension": ".r",
   "mimetype": "text/x-r-source",
   "name": "R",
   "pygments_lexer": "r",
   "version": "3.3.1"
  }
 },
 "nbformat": 4,
 "nbformat_minor": 0
}
