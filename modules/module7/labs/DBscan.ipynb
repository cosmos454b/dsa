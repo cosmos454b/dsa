{
 "cells": [
  {
   "cell_type": "markdown",
   "metadata": {
    "collapsed": true
   },
   "source": [
    "## Density-based Cluster\n",
    "\n",
    "The key idea is that for each point of a cluster, the neighborhood of a given radius has to contain at least a minimum number of points. There are two importantparameters, \"eps\" defines the radius of neighborhood of each point and \"minpts\" is the number of neighbors within any \"eps\" radius. The algorithm works as below.\n",
    "\n",
    "* First scan: For each point, compute the distance with all other points. Increment a neighbor count if the distance is smaller than \"eps\".\n",
    "\n",
    "* Second scan: For each point, mark it as a core point if its neighbor count is greater than \"minpts\"\n",
    "\n",
    "* Third scan: For each core point, if it is not already assigned a cluster, create a new cluster and assign that to this core point as well as all of its neighbors within \"eps\" radius.\n",
    "\n",
    "Unlike other cluster, density based cluster can have some outliers (data points that doesn't belong to any clusters). On the other hand, it can detect clusters of arbitrary shapes. Clusters doesn't have to be circular at all. \n",
    "\n",
    "The figure below shows the different types of points (core, border and outlier points) using MinPts = 6. Here x is a core point because neighboursϵ(x)=6neighboursϵ(x)=6, y is a border point because neighboursϵ(y)<MinPtsneighboursϵ(y)<MinPts, but it belongs to the ϵϵ-neighborhood of the core point x. Finally, z is a noise point.\n",
    "\n",
    "<img src=\"../images/dbscan-principle.png\">"
   ]
  },
  {
   "cell_type": "code",
   "execution_count": null,
   "metadata": {
    "collapsed": false
   },
   "outputs": [],
   "source": [
    "# The function dbscan() in fpc package can be used to perform density based clustering\n",
    "# Load the data \n",
    "\n",
    "data(\"multishapes\", package = \"factoextra\")\n",
    "df <- multishapes[, 1:2]"
   ]
  },
  {
   "cell_type": "code",
   "execution_count": null,
   "metadata": {
    "collapsed": false
   },
   "outputs": [],
   "source": [
    "library(\"fpc\")\n",
    "# Compute DBSCAN using fpc package\n",
    "set.seed(123)\n",
    "# eps is the radius of the boundary around each core point. MinPts defines number of elements that should be \n",
    "# within this boundary for a core point\n",
    "db <- dbscan(df, eps = 0.15, MinPts = 5)\n",
    "# Plot DBSCAN results\n",
    "plot(db, df, main = \"DBSCAN\", frame = FALSE)"
   ]
  },
  {
   "cell_type": "code",
   "execution_count": null,
   "metadata": {
    "collapsed": false
   },
   "outputs": [],
   "source": [
    "# Apply kmeans clustering algorithm on df using a number of clusters as 6.\n",
    "km.fit = kmeans(df,6,nstart = 20)\n",
    "\n",
    "# Clustering results\n",
    "km.fit"
   ]
  },
  {
   "cell_type": "code",
   "execution_count": null,
   "metadata": {
    "collapsed": false
   },
   "outputs": [],
   "source": [
    "plot(df, col=(km.fit$cluster+1), main=\"K-Means Clustering Results with K=6\", xlab =\"\", ylab=\"\", pch =20, cex =2)"
   ]
  },
  {
   "cell_type": "markdown",
   "metadata": {},
   "source": [
    "Compare the results of clustering with K-means and dbscan. You can see from below image that DBSCAN performs better for the dataset and can identify the correct set of clusters compared to k-means algorithms.\n",
    "\n",
    "<img src=\"../images/kmeans_and_dbscan.JPG\">"
   ]
  },
  {
   "cell_type": "code",
   "execution_count": null,
   "metadata": {
    "collapsed": false
   },
   "outputs": [],
   "source": [
    "# Print DBSCAN\n",
    "print(db)"
   ]
  },
  {
   "cell_type": "markdown",
   "metadata": {},
   "source": [
    "In the table above, column names represent the cluster number. Cluster 0 corresponds to outliers whioch are denoted using hollow circles in DBscab graph.\n",
    "\n",
    "DBSCAN requires the user to specify the optimal values for eps and MinPts parameters. The values used for eps(0.15) and MinPts(5) depends on user. The choice of **ϵ** could be a disadvantage for DBSCAN as it is sensitive to **ϵ** when clusters have different densities. If **ϵ** is too small, sparser clusters will be defined as noise. If **ϵ** is too large, denser clusters may be merged together. So if there are clusters with different local densities, then a single **ϵ** value will not give good results."
   ]
  },
  {
   "cell_type": "markdown",
   "metadata": {},
   "source": [
    "#### Determine the optimal eps value\n",
    "\n",
    "The k-nearest neighbor distances for the matrix of points are calculated where the idea is to calculate, the average of the distances of every point to its k nearest neighbors. The value of k depends upon the user and corresponds to MinPts.\n",
    "\n",
    "These k-distances are plotted in an ascending order to determine the optimal eps parameter. The function kNNdistplot() in dbscan package is used to draw the k-distance plot."
   ]
  },
  {
   "cell_type": "code",
   "execution_count": null,
   "metadata": {
    "collapsed": true
   },
   "outputs": [],
   "source": [
    "library(dbscan)"
   ]
  },
  {
   "cell_type": "code",
   "execution_count": null,
   "metadata": {
    "collapsed": false
   },
   "outputs": [],
   "source": [
    "dbscan::kNNdistplot(df, k =  5)\n",
    "abline(h = 0.15, lty = 2)"
   ]
  },
  {
   "cell_type": "markdown",
   "metadata": {},
   "source": [
    "It can be seen that the optimal eps value is around a distance of 0.15."
   ]
  }
 ],
 "metadata": {
  "kernelspec": {
   "display_name": "R",
   "language": "R",
   "name": "ir"
  },
  "language_info": {
   "codemirror_mode": "r",
   "file_extension": ".r",
   "mimetype": "text/x-r-source",
   "name": "R",
   "pygments_lexer": "r",
   "version": "3.3.1"
  }
 },
 "nbformat": 4,
 "nbformat_minor": 1
}
