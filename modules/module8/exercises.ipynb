{
 "cells": [
  {
   "cell_type": "markdown",
   "metadata": {},
   "source": [
    "## Module 8 - Variance Across Groups Exercises\n",
    "\n",
    "There are many ways of doing feature reduction/extraction. We have seen how correlation between two variables can be used to exclude the features from a model. Highly correlated variables contribute less in explaining the variation in data because they vary in similar fashion; they more or less behave like same features. We have seen whether two features are independent or not using chi square test to see if the data in one feature is affecting how the data will be in other feature. We have seen how PCA tried to compress the data so that maximum variation in data is explained using minimal number of dimensions.\n",
    "\n",
    "This module tried to explain the variation of data within a feature and between features by analyzing variance. This techniques will help you analyze variables at individual scale how different they are in different groups. Random forests helped determine the importance of variables for fitting the model.\n",
    "\n",
    "Use the techniques of module 8 and previous labs to predict the forest cover type. Some of the exercises are partially complete. You have to complete the code or modify the code in order to get the desired output. Some of the exercises may be challenging as they might not be discussed in the lab or practice notebooks. Sufficient guidance and hints are provided for you to look up for the functions or the description is provided on how to solve the problem. Use this guidance for answering the questions. \n",
    "\n",
    "\n",
    "The study area includes four wilderness areas located in the Roosevelt National Forest of northern Colorado. Each observation is a 30m x 30m patch. You are asked to predict an integer classification for the forest cover type. The seven types are:\n",
    "\n",
    "\n",
    "### Forest cover types\n",
    "\n",
    "* Spruce/Fir\n",
    "* Lodgepole Pine\n",
    "* Ponderosa Pine\n",
    "* Cottonwood/Willow\n",
    "* Aspen\n",
    "* Douglas-fir\n",
    "* Krummholz\n",
    "\n",
    "### Data Fields\n",
    "\n",
    "* Elevation - Elevation in meters\n",
    "* Aspect - Aspect in degrees azimuth\n",
    "* lope - Slope in degrees\n",
    "* Horizontal_Distance_To_Hydrology - Horz Dist to nearest surface water features\n",
    "* Vertical_Distance_To_Hydrology - Vert Dist to nearest surface water features\n",
    "* Horizontal_Distance_To_Roadways - Horz Dist to nearest roadway\n",
    "* Hillshade_9am (0 to 255 index) - Hillshade index at 9am, summer solstice\n",
    "* Hillshade_Noon (0 to 255 index) - Hillshade index at noon, summer solstice\n",
    "* Hillshade_3pm (0 to 255 index) - Hillshade index at 3pm, summer solstice\n",
    "* Horizontal_Distance_To_Fire_Points - Horz Dist to nearest wildfire ignition points\n",
    "* Wilderness_Area (4 binary columns, 0 = absence or 1 = presence) - Wilderness area designation\n",
    "* Soil_Type (40 binary columns, 0 = absence or 1 = presence) - Soil Type designation\n",
    "* Cover_Type (7 types, integers 1 to 7) - Forest Cover Type designation\n",
    "\n",
    "### The wilderness areas are:\n",
    "\n",
    "* Rawah Wilderness Area\n",
    "* Neota Wilderness Area\n",
    "* Comanche Peak Wilderness Area\n",
    "* Cache la Poudre Wilderness Area\n",
    "\n",
    "From [kaggle.com](https://www.kaggle.com/c/forest-cover-type-prediction/data)"
   ]
  },
  {
   "cell_type": "markdown",
   "metadata": {},
   "source": [
    "Load the dataset from ~/datasets/Forest/"
   ]
  },
  {
   "cell_type": "code",
   "execution_count": 59,
   "metadata": {
    "collapsed": false
   },
   "outputs": [
    {
     "data": {
      "text/html": [
       "<table>\n",
       "<thead><tr><th scope=col>Id</th><th scope=col>Elevation</th><th scope=col>Aspect</th><th scope=col>Slope</th><th scope=col>Horizontal_Distance_To_Hydrology</th><th scope=col>Vertical_Distance_To_Hydrology</th><th scope=col>Horizontal_Distance_To_Roadways</th><th scope=col>Hillshade_9am</th><th scope=col>Hillshade_Noon</th><th scope=col>Hillshade_3pm</th><th scope=col>⋯</th><th scope=col>Soil_Type32</th><th scope=col>Soil_Type33</th><th scope=col>Soil_Type34</th><th scope=col>Soil_Type35</th><th scope=col>Soil_Type36</th><th scope=col>Soil_Type37</th><th scope=col>Soil_Type38</th><th scope=col>Soil_Type39</th><th scope=col>Soil_Type40</th><th scope=col>Cover_Type</th></tr></thead>\n",
       "<tbody>\n",
       "\t<tr><td>1   </td><td>2596</td><td> 51 </td><td> 3  </td><td>258 </td><td>  0 </td><td> 510</td><td>221 </td><td>232 </td><td>148 </td><td>⋯   </td><td>0   </td><td>0   </td><td>0   </td><td>0   </td><td>0   </td><td>0   </td><td>0   </td><td>0   </td><td>0   </td><td>5   </td></tr>\n",
       "\t<tr><td>2   </td><td>2590</td><td> 56 </td><td> 2  </td><td>212 </td><td> -6 </td><td> 390</td><td>220 </td><td>235 </td><td>151 </td><td>⋯   </td><td>0   </td><td>0   </td><td>0   </td><td>0   </td><td>0   </td><td>0   </td><td>0   </td><td>0   </td><td>0   </td><td>5   </td></tr>\n",
       "\t<tr><td>3   </td><td>2804</td><td>139 </td><td> 9  </td><td>268 </td><td> 65 </td><td>3180</td><td>234 </td><td>238 </td><td>135 </td><td>⋯   </td><td>0   </td><td>0   </td><td>0   </td><td>0   </td><td>0   </td><td>0   </td><td>0   </td><td>0   </td><td>0   </td><td>2   </td></tr>\n",
       "\t<tr><td>4   </td><td>2785</td><td>155 </td><td>18  </td><td>242 </td><td>118 </td><td>3090</td><td>238 </td><td>238 </td><td>122 </td><td>⋯   </td><td>0   </td><td>0   </td><td>0   </td><td>0   </td><td>0   </td><td>0   </td><td>0   </td><td>0   </td><td>0   </td><td>2   </td></tr>\n",
       "\t<tr><td>5   </td><td>2595</td><td> 45 </td><td> 2  </td><td>153 </td><td> -1 </td><td> 391</td><td>220 </td><td>234 </td><td>150 </td><td>⋯   </td><td>0   </td><td>0   </td><td>0   </td><td>0   </td><td>0   </td><td>0   </td><td>0   </td><td>0   </td><td>0   </td><td>5   </td></tr>\n",
       "\t<tr><td>6   </td><td>2579</td><td>132 </td><td> 6  </td><td>300 </td><td>-15 </td><td>  67</td><td>230 </td><td>237 </td><td>140 </td><td>⋯   </td><td>0   </td><td>0   </td><td>0   </td><td>0   </td><td>0   </td><td>0   </td><td>0   </td><td>0   </td><td>0   </td><td>2   </td></tr>\n",
       "</tbody>\n",
       "</table>\n"
      ],
      "text/latex": [
       "\\begin{tabular}{r|llllllllllllllllllllllllllllllllllllllllllllllllllllllll}\n",
       " Id & Elevation & Aspect & Slope & Horizontal\\_Distance\\_To\\_Hydrology & Vertical\\_Distance\\_To\\_Hydrology & Horizontal\\_Distance\\_To\\_Roadways & Hillshade\\_9am & Hillshade\\_Noon & Hillshade\\_3pm & ⋯ & Soil\\_Type32 & Soil\\_Type33 & Soil\\_Type34 & Soil\\_Type35 & Soil\\_Type36 & Soil\\_Type37 & Soil\\_Type38 & Soil\\_Type39 & Soil\\_Type40 & Cover\\_Type\\\\\n",
       "\\hline\n",
       "\t 1    & 2596 &  51  &  3   & 258  &   0  &  510 & 221  & 232  & 148  & ⋯    & 0    & 0    & 0    & 0    & 0    & 0    & 0    & 0    & 0    & 5   \\\\\n",
       "\t 2    & 2590 &  56  &  2   & 212  &  -6  &  390 & 220  & 235  & 151  & ⋯    & 0    & 0    & 0    & 0    & 0    & 0    & 0    & 0    & 0    & 5   \\\\\n",
       "\t 3    & 2804 & 139  &  9   & 268  &  65  & 3180 & 234  & 238  & 135  & ⋯    & 0    & 0    & 0    & 0    & 0    & 0    & 0    & 0    & 0    & 2   \\\\\n",
       "\t 4    & 2785 & 155  & 18   & 242  & 118  & 3090 & 238  & 238  & 122  & ⋯    & 0    & 0    & 0    & 0    & 0    & 0    & 0    & 0    & 0    & 2   \\\\\n",
       "\t 5    & 2595 &  45  &  2   & 153  &  -1  &  391 & 220  & 234  & 150  & ⋯    & 0    & 0    & 0    & 0    & 0    & 0    & 0    & 0    & 0    & 5   \\\\\n",
       "\t 6    & 2579 & 132  &  6   & 300  & -15  &   67 & 230  & 237  & 140  & ⋯    & 0    & 0    & 0    & 0    & 0    & 0    & 0    & 0    & 0    & 2   \\\\\n",
       "\\end{tabular}\n"
      ],
      "text/plain": [
       "  Id Elevation Aspect Slope Horizontal_Distance_To_Hydrology\n",
       "1 1  2596       51     3    258                             \n",
       "2 2  2590       56     2    212                             \n",
       "3 3  2804      139     9    268                             \n",
       "4 4  2785      155    18    242                             \n",
       "5 5  2595       45     2    153                             \n",
       "6 6  2579      132     6    300                             \n",
       "  Vertical_Distance_To_Hydrology Horizontal_Distance_To_Roadways Hillshade_9am\n",
       "1   0                             510                            221          \n",
       "2  -6                             390                            220          \n",
       "3  65                            3180                            234          \n",
       "4 118                            3090                            238          \n",
       "5  -1                             391                            220          \n",
       "6 -15                              67                            230          \n",
       "  Hillshade_Noon Hillshade_3pm ⋯ Soil_Type32 Soil_Type33 Soil_Type34\n",
       "1 232            148           ⋯ 0           0           0          \n",
       "2 235            151           ⋯ 0           0           0          \n",
       "3 238            135           ⋯ 0           0           0          \n",
       "4 238            122           ⋯ 0           0           0          \n",
       "5 234            150           ⋯ 0           0           0          \n",
       "6 237            140           ⋯ 0           0           0          \n",
       "  Soil_Type35 Soil_Type36 Soil_Type37 Soil_Type38 Soil_Type39 Soil_Type40\n",
       "1 0           0           0           0           0           0          \n",
       "2 0           0           0           0           0           0          \n",
       "3 0           0           0           0           0           0          \n",
       "4 0           0           0           0           0           0          \n",
       "5 0           0           0           0           0           0          \n",
       "6 0           0           0           0           0           0          \n",
       "  Cover_Type\n",
       "1 5         \n",
       "2 5         \n",
       "3 2         \n",
       "4 2         \n",
       "5 5         \n",
       "6 2         "
      ]
     },
     "metadata": {},
     "output_type": "display_data"
    }
   ],
   "source": [
    "forest_cover = read.csv(\"../../datasets/Forest/forest_cover.csv\")\n",
    "head(forest_cover)"
   ]
  },
  {
   "cell_type": "code",
   "execution_count": 60,
   "metadata": {
    "collapsed": false
   },
   "outputs": [
    {
     "name": "stdout",
     "output_type": "stream",
     "text": [
      "'data.frame':\t15120 obs. of  56 variables:\n",
      " $ Id                                : int  1 2 3 4 5 6 7 8 9 10 ...\n",
      " $ Elevation                         : int  2596 2590 2804 2785 2595 2579 2606 2605 2617 2612 ...\n",
      " $ Aspect                            : int  51 56 139 155 45 132 45 49 45 59 ...\n",
      " $ Slope                             : int  3 2 9 18 2 6 7 4 9 10 ...\n",
      " $ Horizontal_Distance_To_Hydrology  : int  258 212 268 242 153 300 270 234 240 247 ...\n",
      " $ Vertical_Distance_To_Hydrology    : int  0 -6 65 118 -1 -15 5 7 56 11 ...\n",
      " $ Horizontal_Distance_To_Roadways   : int  510 390 3180 3090 391 67 633 573 666 636 ...\n",
      " $ Hillshade_9am                     : int  221 220 234 238 220 230 222 222 223 228 ...\n",
      " $ Hillshade_Noon                    : int  232 235 238 238 234 237 225 230 221 219 ...\n",
      " $ Hillshade_3pm                     : int  148 151 135 122 150 140 138 144 133 124 ...\n",
      " $ Horizontal_Distance_To_Fire_Points: int  6279 6225 6121 6211 6172 6031 6256 6228 6244 6230 ...\n",
      " $ Wilderness_Area1                  : int  1 1 1 1 1 1 1 1 1 1 ...\n",
      " $ Wilderness_Area2                  : int  0 0 0 0 0 0 0 0 0 0 ...\n",
      " $ Wilderness_Area3                  : int  0 0 0 0 0 0 0 0 0 0 ...\n",
      " $ Wilderness_Area4                  : int  0 0 0 0 0 0 0 0 0 0 ...\n",
      " $ Soil_Type1                        : int  0 0 0 0 0 0 0 0 0 0 ...\n",
      " $ Soil_Type2                        : int  0 0 0 0 0 0 0 0 0 0 ...\n",
      " $ Soil_Type3                        : int  0 0 0 0 0 0 0 0 0 0 ...\n",
      " $ Soil_Type4                        : int  0 0 0 0 0 0 0 0 0 0 ...\n",
      " $ Soil_Type5                        : int  0 0 0 0 0 0 0 0 0 0 ...\n",
      " $ Soil_Type6                        : int  0 0 0 0 0 0 0 0 0 0 ...\n",
      " $ Soil_Type7                        : int  0 0 0 0 0 0 0 0 0 0 ...\n",
      " $ Soil_Type8                        : int  0 0 0 0 0 0 0 0 0 0 ...\n",
      " $ Soil_Type9                        : int  0 0 0 0 0 0 0 0 0 0 ...\n",
      " $ Soil_Type10                       : int  0 0 0 0 0 0 0 0 0 0 ...\n",
      " $ Soil_Type11                       : int  0 0 0 0 0 0 0 0 0 0 ...\n",
      " $ Soil_Type12                       : int  0 0 1 0 0 0 0 0 0 0 ...\n",
      " $ Soil_Type13                       : int  0 0 0 0 0 0 0 0 0 0 ...\n",
      " $ Soil_Type14                       : int  0 0 0 0 0 0 0 0 0 0 ...\n",
      " $ Soil_Type15                       : int  0 0 0 0 0 0 0 0 0 0 ...\n",
      " $ Soil_Type16                       : int  0 0 0 0 0 0 0 0 0 0 ...\n",
      " $ Soil_Type17                       : int  0 0 0 0 0 0 0 0 0 0 ...\n",
      " $ Soil_Type18                       : int  0 0 0 0 0 0 0 0 0 0 ...\n",
      " $ Soil_Type19                       : int  0 0 0 0 0 0 0 0 0 0 ...\n",
      " $ Soil_Type20                       : int  0 0 0 0 0 0 0 0 0 0 ...\n",
      " $ Soil_Type21                       : int  0 0 0 0 0 0 0 0 0 0 ...\n",
      " $ Soil_Type22                       : int  0 0 0 0 0 0 0 0 0 0 ...\n",
      " $ Soil_Type23                       : int  0 0 0 0 0 0 0 0 0 0 ...\n",
      " $ Soil_Type24                       : int  0 0 0 0 0 0 0 0 0 0 ...\n",
      " $ Soil_Type25                       : int  0 0 0 0 0 0 0 0 0 0 ...\n",
      " $ Soil_Type26                       : int  0 0 0 0 0 0 0 0 0 0 ...\n",
      " $ Soil_Type27                       : int  0 0 0 0 0 0 0 0 0 0 ...\n",
      " $ Soil_Type28                       : int  0 0 0 0 0 0 0 0 0 0 ...\n",
      " $ Soil_Type29                       : int  1 1 0 0 1 1 1 1 1 1 ...\n",
      " $ Soil_Type30                       : int  0 0 0 1 0 0 0 0 0 0 ...\n",
      " $ Soil_Type31                       : int  0 0 0 0 0 0 0 0 0 0 ...\n",
      " $ Soil_Type32                       : int  0 0 0 0 0 0 0 0 0 0 ...\n",
      " $ Soil_Type33                       : int  0 0 0 0 0 0 0 0 0 0 ...\n",
      " $ Soil_Type34                       : int  0 0 0 0 0 0 0 0 0 0 ...\n",
      " $ Soil_Type35                       : int  0 0 0 0 0 0 0 0 0 0 ...\n",
      " $ Soil_Type36                       : int  0 0 0 0 0 0 0 0 0 0 ...\n",
      " $ Soil_Type37                       : int  0 0 0 0 0 0 0 0 0 0 ...\n",
      " $ Soil_Type38                       : int  0 0 0 0 0 0 0 0 0 0 ...\n",
      " $ Soil_Type39                       : int  0 0 0 0 0 0 0 0 0 0 ...\n",
      " $ Soil_Type40                       : int  0 0 0 0 0 0 0 0 0 0 ...\n",
      " $ Cover_Type                        : int  5 5 2 2 5 2 5 5 5 5 ...\n"
     ]
    }
   ],
   "source": [
    "str(forest_cover)"
   ]
  },
  {
   "cell_type": "markdown",
   "metadata": {},
   "source": [
    "The Cover_Type variables has 7 different classes of vegetation. Encode the coverType variable to replace the old values (1,2,3,4,5,6,7) with corresponding labels \n",
    "\n",
    "\n",
    "* 1.SpruceFir\n",
    "* 2.LodgepolePine\n",
    "* 3.PonderosaPine\n",
    "* 4.Cottonwood-Willow\n",
    "* 5.Aspen\n",
    "* 6.Douglas-fir\n",
    "* 7.Krummholz\n",
    "\n",
    "Also the columns Wilderness_Area1 through Wilderness_Area4 are mutually exclusive. They contain binary values, 1 if the row belongs to certain wilderness type or 0 otherwise. Like wise the variables soil_Type1 through soil_Type40 are mutually exclusive containing binary values. The column will have a 1 if soil_Type of certain type or 0 otherwise.  "
   ]
  },
  {
   "cell_type": "markdown",
   "metadata": {},
   "source": [
    "**Activity 1:  ** Encode the Cover_Type variable to replace the old values (1,2,3,4,5,6,7) with corresponding labels using mapvalues() function in plyr package."
   ]
  },
  {
   "cell_type": "code",
   "execution_count": 61,
   "metadata": {
    "collapsed": false
   },
   "outputs": [],
   "source": [
    "# Your code for activity 1 goes here..\n",
    "require(plyr) # Always load plyr package first if you have to use both plyr and dplyr. Because\n",
    "              # dplyr package will mask some of the functions in plyr.\n",
    "require(dplyr)  #Use require as it will give an error message if the package doesn't exist\n",
    "require(lubridate)\n",
    "forest_cover$Cover_Type <- mapvalues(forest_cover$Cover_Type, from = c(1,2,3,4,5,6,7), \n",
    "to = c(\"1.SpruceFir\",\"2.LodgepolePine\",\"3.PonderosaPine\",\"4.Cottonwood-Willow\",\"5.Aspen\",\"6.Douglas-fir\",\"7.Krummholz\"))"
   ]
  },
  {
   "cell_type": "markdown",
   "metadata": {},
   "source": [
    "mapvalues() with map the values in from i'e 1,2,3... to corresponding values in to i'e 1.SpruceFir, 2.LodgepolePine,...\n",
    "\n",
    "**Reference: **[mapvalues()](https://www.rdocumentation.org/packages/plyr/versions/1.8.4/topics/mapvalues)"
   ]
  },
  {
   "cell_type": "code",
   "execution_count": 4,
   "metadata": {
    "collapsed": true
   },
   "outputs": [],
   "source": [
    "# Run below commands for a quick brief info on the libraries on what they do.\n",
    "\n",
    "#help(lubridate)\n",
    "#help(plyr)\n",
    "help(dplyr)"
   ]
  },
  {
   "cell_type": "markdown",
   "metadata": {},
   "source": [
    "**Activity 2: ** Plot a bar graph for the observations of each Cover_Type. Use dplyr to first get the count of 7 cover types and normalize the count by dividing it by total rows in forest_cover dataset."
   ]
  },
  {
   "cell_type": "code",
   "execution_count": 62,
   "metadata": {
    "collapsed": false
   },
   "outputs": [
    {
     "data": {
      "text/html": [
       "<table>\n",
       "<thead><tr><th scope=col>Cover_Type</th><th scope=col>count</th><th scope=col>cover_type_ratio</th></tr></thead>\n",
       "<tbody>\n",
       "\t<tr><td>1.SpruceFir        </td><td>2160               </td><td>0.1428571          </td></tr>\n",
       "\t<tr><td>2.LodgepolePine    </td><td>2160               </td><td>0.1428571          </td></tr>\n",
       "\t<tr><td>3.PonderosaPine    </td><td>2160               </td><td>0.1428571          </td></tr>\n",
       "\t<tr><td>4.Cottonwood-Willow</td><td>2160               </td><td>0.1428571          </td></tr>\n",
       "\t<tr><td>5.Aspen            </td><td>2160               </td><td>0.1428571          </td></tr>\n",
       "\t<tr><td>6.Douglas-fir      </td><td>2160               </td><td>0.1428571          </td></tr>\n",
       "\t<tr><td>7.Krummholz        </td><td>2160               </td><td>0.1428571          </td></tr>\n",
       "</tbody>\n",
       "</table>\n"
      ],
      "text/latex": [
       "\\begin{tabular}{r|lll}\n",
       " Cover\\_Type & count & cover\\_type\\_ratio\\\\\n",
       "\\hline\n",
       "\t 1.SpruceFir         & 2160                & 0.1428571          \\\\\n",
       "\t 2.LodgepolePine     & 2160                & 0.1428571          \\\\\n",
       "\t 3.PonderosaPine     & 2160                & 0.1428571          \\\\\n",
       "\t 4.Cottonwood-Willow & 2160                & 0.1428571          \\\\\n",
       "\t 5.Aspen             & 2160                & 0.1428571          \\\\\n",
       "\t 6.Douglas-fir       & 2160                & 0.1428571          \\\\\n",
       "\t 7.Krummholz         & 2160                & 0.1428571          \\\\\n",
       "\\end{tabular}\n"
      ],
      "text/plain": [
       "  Cover_Type          count cover_type_ratio\n",
       "1 1.SpruceFir         2160  0.1428571       \n",
       "2 2.LodgepolePine     2160  0.1428571       \n",
       "3 3.PonderosaPine     2160  0.1428571       \n",
       "4 4.Cottonwood-Willow 2160  0.1428571       \n",
       "5 5.Aspen             2160  0.1428571       \n",
       "6 6.Douglas-fir       2160  0.1428571       \n",
       "7 7.Krummholz         2160  0.1428571       "
      ]
     },
     "metadata": {},
     "output_type": "display_data"
    }
   ],
   "source": [
    "# # Code for activity 2 goes here...\n",
    "library(ggplot2)\n",
    "# # forest_cover data is supplied to group_by() function to group the data based on Cover_Type. \n",
    "# # This 7 groups of data formed above is supplied as input to summarize() where we are getting the \n",
    "# # count of observations stored in the variable count. cover_type_ratio is created to store the \n",
    "# # ratio of cover type. \n",
    "\n",
    "coverType_count = forest_cover %>%  \n",
    "  group_by(Cover_Type) %>%    # data is grouped according to labels (1,2,3,4,5,6,7) of cover type\n",
    "  dplyr::summarize(count = n()) %>%  # count the number of observations in each group\n",
    "  mutate(cover_type_ratio=count/sum(count)) # divide the counts obtained in above step to get the ratio.\n",
    "                                           \n",
    "# # Display the contents of the variable coverType_count\n",
    "coverType_count"
   ]
  },
  {
   "cell_type": "code",
   "execution_count": 63,
   "metadata": {
    "collapsed": false
   },
   "outputs": [
    {
     "data": {},
     "metadata": {},
     "output_type": "display_data"
    },
    {
     "data": {
      "image/png": "[encoded data removed]",
      "text/plain": [
       "plot without title"
      ]
     },
     "metadata": {},
     "output_type": "display_data"
    }
   ],
   "source": [
    "# Code for activity 2 continues here.\n",
    "\n",
    "# plot the distribution of cover type using the dataframe \"coverType_count\" created above. \n",
    "plot<-ggplot(coverType_count, aes(Cover_Type, count)) +   \n",
    "  geom_bar(stat=\"identity\") + # plot a bar graph \n",
    "  scale_y_continuous() + \n",
    "  geom_text(data=coverType_count, aes(label=count,y=count),size=4) + # Display the count for each category \n",
    "                    # at y position \"count(2160)+100\". This will display the value right above the bars.\n",
    "  geom_text(data=coverType_count, aes(label=round(cover_type_ratio,digits = 3),y=count+200),size=4)+\n",
    "                    # Display the count percentage rounded to one decimal place at y position \"count(2160)+200\". This  \n",
    "                    # will display the ratios right above the counts printed in previous steps.          \n",
    "                    # You should convert the ratio 0.1428571 to 14.3% for printing in above step.\n",
    "  theme(axis.text.x=element_text(angle=30,hjust=1,size=8))+ # code to adjust the indices on x-axis \n",
    "                                                            # tilted. Play with the code to see what each parameter is doing.\n",
    "  ggtitle('Cover Type Distribution')\n",
    "\n",
    "plot"
   ]
  },
  {
   "cell_type": "markdown",
   "metadata": {},
   "source": [
    "The forest cover is equally distributed with 7 different types as evident from above plot. "
   ]
  },
  {
   "cell_type": "markdown",
   "metadata": {},
   "source": [
    "**Activity 3: ** The names of some of the variables are too long. Modify the column names as listed."
   ]
  },
  {
   "cell_type": "code",
   "execution_count": 64,
   "metadata": {
    "collapsed": false
   },
   "outputs": [],
   "source": [
    "oldnames<-c(\"Elevation\",\"Aspect\",\"Slope\",\"Horizontal_Distance_To_Hydrology\",\"Vertical_Distance_To_Hydrology\",\n",
    "                  \"Horizontal_Distance_To_Roadways\",\"Horizontal_Distance_To_Fire_Points\",\"Hillshade_9am\",\n",
    "                  \"Hillshade_Noon\",\"Hillshade_3pm\")\n",
    "newnames<-c(\"Elevation\",\"Aspect\",\"Slope\",\"HD.Hydro\",\"VD.Hydro\",\"HD.Road\",\"HD.Fire\",\"HS.9am\",\"HS.noon\",\"HS.3pm\")\n",
    "library(data.table)\n",
    "# Your code for activity 3 goes here.\n",
    "setnames(forest_cover,oldnames,newnames)"
   ]
  },
  {
   "cell_type": "markdown",
   "metadata": {},
   "source": [
    "**Activity 4: **Create box plots for each of the variables listed above in activity 3. \n",
    "\n",
    "\n",
    "`Follow the partial code below to complete it`: \n",
    "\n",
    "The code may look little dense but its because of the for loop we are running. The loop will capture each plot in an array. Ignore the for loop for some time and look at the code inside. It's a regular simple box plot. \n",
    "\n",
    "Use aes_string(y=newnames[i],x=\"Cover_Type\") inside ggplot(). It means, x axis will be Cover_type and y-axis will be the variable in the list \"newnames\". The for loop will repeat 10 times for the 10 variables in the list to produce 10 box plots. \n",
    "\n",
    "$1^{st}$ box plot would be between Elevation and Cover_Type\n",
    "\n",
    "$2^{st}$ box plot would be between Aspect and Cover_Type and so on"
   ]
  },
  {
   "cell_type": "code",
   "execution_count": 65,
   "metadata": {
    "collapsed": false
   },
   "outputs": [
    {
     "data": {
      "image/png": "[encoded data removed]",
      "text/plain": [
       "plot without title"
      ]
     },
     "metadata": {},
     "output_type": "display_data"
    }
   ],
   "source": [
    "# Your code for activity 4 goes here....\n",
    "\n",
    "p=list()\n",
    "for(i in 1:length(newnames)){\n",
    "  p[[i]] <- ggplot(forest_cover, aes_string(y=newnames[i],x=\"Cover_Type\")) + \n",
    "              geom_boxplot() + \n",
    "              theme(axis.text.x=element_blank(),axis.title.x=element_blank()) # This line will keep the\n",
    "               # x-axis label and title of each plot empty.\n",
    "  }\n",
    "\n",
    "# Arrange the plots in a grid using grid.arrange() in grid.Extra package. Arrange 2 plots in a row.\n",
    "library(gridExtra)\n",
    "grid.arrange(p[[1]],p[[2]],p[[3]],p[[4]],p[[5]],p[[6]],p[[7]],p[[8]],p[[9]],p[[10]],\n",
    "    ncol=2) # ncol will arrange two plots in each row."
   ]
  },
  {
   "cell_type": "markdown",
   "metadata": {},
   "source": [
    "**Activity 5: ** Find correlation between the columns 2 to 10 in forest_cover. The first column is ID. So ignore it. The rest of the columns have binary values. Use ggcorr() function in GGally package. \n",
    "\n",
    "**Reference: **[ggcorr()](https://briatte.github.io/ggcorr/)"
   ]
  },
  {
   "cell_type": "code",
   "execution_count": 66,
   "metadata": {
    "collapsed": false
   },
   "outputs": [
    {
     "data": {},
     "metadata": {},
     "output_type": "display_data"
    },
    {
     "data": {
      "image/png": "[encoded data removed]",
      "text/plain": [
       "plot without title"
      ]
     },
     "metadata": {},
     "output_type": "display_data"
    }
   ],
   "source": [
    "# Your code for activity 5 goes here....\n",
    "\n",
    "library(GGally)\n",
    "corr_plot<-ggcorr(forest_cover[,2:10],label = TRUE,label_size=3,label_round=2,label_alpha = TRUE,hjust=1,size=4,layout.exp=5) \n",
    "                           # Run help(ggcorr) for documentation\n",
    "    \n",
    "# label indicates to add correlation coefficients to the plot.\n",
    "\n",
    "# label_size indicates size of the correlation coefficients\n",
    "\n",
    "# label_round : indicates how many decimals the correlation coefficiens should be rounded\n",
    "\n",
    "# label_alpha: indicates whether the correlation coefficients be made increasingly transparent as they \n",
    "# come close to 0. \n",
    "\n",
    "# hjust: will adjust the position of labels Elevation , Aspect etc horizontally from the plot. \n",
    "# Change the value to 0 and 4 to understand how it works.\n",
    "\n",
    "# size: indicates size of the labels Elevation, Aspect etc. Change the number to 10 to see how it works.\n",
    "\n",
    "# layout.exp: Its a multiplier to expand the horizontal axis to the left if variable names get clipped. \n",
    "\n",
    "# Plot the correlation plot created above.\n",
    "corr_plot"
   ]
  },
  {
   "cell_type": "code",
   "execution_count": 10,
   "metadata": {
    "collapsed": true
   },
   "outputs": [],
   "source": [
    "# Uncomment and run the cell to learn more about the ggcorr() function parameters.\n",
    "help(ggcorr)"
   ]
  },
  {
   "cell_type": "markdown",
   "metadata": {},
   "source": [
    "**Activity 6: ** Identify the pairs of variables which have a correlation of greater than 0.5 and less than -0.5 using above correlation plot and draw scatter plots for each pair of variables. "
   ]
  },
  {
   "cell_type": "code",
   "execution_count": 67,
   "metadata": {
    "collapsed": false
   },
   "outputs": [
    {
     "data": {
      "image/png": "[encoded data removed]",
      "text/plain": [
       "plot without title"
      ]
     },
     "metadata": {},
     "output_type": "display_data"
    }
   ],
   "source": [
    "# Your code for activity 6 goes here....\n",
    "\n",
    "# For example HS.noon is correlated with HS.3pm\n",
    "corrFeature1<-c('HS.noon','HS.9am','HD.Hydro','Slope','Aspect','Aspect','Elevation') # So you will include HS.noon in this list\n",
    "corrFeature2<-c('HS.3pm','HS.3pm','VD.Hydro','HS.noon','HS.9am','HS.3pm','HD.Road') # Corresponding feature HS.3pm is included in the list \n",
    "                                                                        # in the same position as one to one mapping.\n",
    "\n",
    "# scatterTemp<-sample_n(forest_cover,10000)\n",
    "\n",
    "p=list()\n",
    "for(i in 1:length(corrFeature1)){\n",
    "  p[[i]] <- ggplot(forest_cover, aes_string(x=corrFeature1[i], y=corrFeature2[i])) +\n",
    "              geom_point(alpha=1/10)\n",
    "  }\n",
    "\n",
    "# Arrange the plots in a grid using grid.arrange() in grid.Extra package. Arrange 2 plots in a row.\n",
    "library(gridExtra)\n",
    "grid.arrange(p[[1]],p[[2]],p[[3]],p[[4]],p[[5]],p[[6]],p[[7]],\n",
    "    ncol=2) # ncol=2 will arrange two plots in each row.\n"
   ]
  },
  {
   "cell_type": "markdown",
   "metadata": {
    "collapsed": true
   },
   "source": [
    "The columns Wilderness_Area1, Wilderness_Area2, Wilderness_Area3, Wilderness_Area4 are mutually exclusive. That means we can fuse these columns into one column. \n",
    "\n",
    "Combine the 4 columns listed above into one single column called wildernessArea. Assign the labels Rawah, Neota, ComanchePeak, CachePoudre for each row of wildernessArea where the row belongs to one of the 4 categories."
   ]
  },
  {
   "cell_type": "code",
   "execution_count": 68,
   "metadata": {
    "collapsed": false
   },
   "outputs": [
    {
     "data": {
      "text/html": [
       "TRUE"
      ],
      "text/latex": [
       "TRUE"
      ],
      "text/markdown": [
       "TRUE"
      ],
      "text/plain": [
       "[1] TRUE"
      ]
     },
     "metadata": {},
     "output_type": "display_data"
    }
   ],
   "source": [
    "# Recode the Lables for the \"wildernessArea\" to one column. \n",
    "\n",
    "# Existing column names. These 4 columns have to be fused into one column called wildernessArea\n",
    "oldCols <- c(\"Wilderness_Area1\",\"Wilderness_Area2\",\"Wilderness_Area3\",\"Wilderness_Area4\")\n",
    "\n",
    "# New labels that are to be assigned to each row in wildernessArea corresponding to the category \n",
    "# of wilderness_Area it belongs\n",
    "newLabels <- c(\"Rawah\",\"Neota\",\"ComanchePeak\",\"CachePoudre\")\n",
    "\n",
    "# forest_cover is a dataframe. Convert it into a data.table to assign values using := operator.\n",
    "forest_cover=data.table(forest_cover)\n",
    "is.data.table(forest_cover) # make sure forest_cover is a data.table. \n",
    "\n",
    "for(i in 1:length(newLabels)) { # Loop for 4 times. length(newLabels) is 4. \n",
    "   refColumn<-oldCols[i] # Take the name in vector oldCols according to the loop count. oldCols[1] \n",
    "                         # will give Wilderness_Area1.\n",
    "   refValue<-newLabels[i]  # Take the name in vector newLabels according to the loop count. \n",
    "                         # newLabels[1] will give Rawah\n",
    "    \n",
    "   forest_cover<-forest_cover[get(refColumn)==1,wildernessArea:=refValue]\n",
    "}\n",
    "# get(refColumn) will return the column. For example get(refColumn) returned Wilderness_Area1.\n",
    "    # Then for every value 1 in Wilderness_Area1, wildernessArea will be assigned the value Rawah.\n",
    "    \n",
    "    # Or if get(refColumn) returned Wilderness_Area2.\n",
    "    # Then for every value 1 in Wilderness_Area2, wildernessArea will be assigned the value Neota. \n",
    "    # This will continue for remaining two columns. \n",
    "    # Finally one fused column wildernessArea with recoded values Rawah, Neota etc is formed."
   ]
  },
  {
   "cell_type": "code",
   "execution_count": 69,
   "metadata": {
    "collapsed": true
   },
   "outputs": [],
   "source": [
    "# Run the cell to understand how assignment operator(:=) works.\n",
    "help(\":=\")"
   ]
  },
  {
   "cell_type": "markdown",
   "metadata": {},
   "source": [
    "Repeat the same thing for columns Soil_Type1, Soi_Type2 and so on until Soil_Type40. Even these columns are mutually exclusive. That means we can fuse these columns into one column without losing any data. \n",
    "\n",
    "Combine the into one single column called soilType. Assign the new labels for each row of soilType where the row belongs to one of the 40 categories."
   ]
  },
  {
   "cell_type": "code",
   "execution_count": 70,
   "metadata": {
    "collapsed": false
   },
   "outputs": [],
   "source": [
    "#Recode the Lables for the \"Soil_Type\" to one column called soilType. \n",
    "newLabels<-c('Cathedral','Vanet','Haploborolis','Ratake','Vanet1','Vanet2','Gothic','Supervisor',\n",
    "             'Troutville','Bullwark1','Bullwark2','Legault','Catamount1','Pachic','unspecified',\n",
    "             'Cryaquolis','Gateview','Rogert','Typic1','Typic2','Typic3','Leighcan1','Leighcan2',\n",
    "             'Leighcan3','Leighcan4','Granile','Leighcan5','Leighcan6','Como1','Como2','Leighcan7',\n",
    "             'Catamount2','Leighcan8','Cryorthents','Cryumbrepts','Bross','Rock','Leighcan9','Moran1',\n",
    "             'Moran2')\n",
    "\n",
    "oldCols <- c(\"Soil_Type1\",\"Soil_Type2\",\"Soil_Type3\",\"Soil_Type4\",\"Soil_Type5\",\"Soil_Type6\",\"Soil_Type7\",\"Soil_Type8\",\n",
    "\"Soil_Type9\",\"Soil_Type10\",\"Soil_Type11\",\"Soil_Type12\",\"Soil_Type13\",\"Soil_Type14\",\"Soil_Type15\",\"Soil_Type16\",\n",
    "\"Soil_Type17\",\"Soil_Type18\",\"Soil_Type19\",\"Soil_Type20\",\"Soil_Type21\",\"Soil_Type22\",\"Soil_Type23\",\"Soil_Type24\",\n",
    "\"Soil_Type25\",\"Soil_Type26\",\"Soil_Type27\",\"Soil_Type28\",\"Soil_Type29\",\"Soil_Type30\",\"Soil_Type31\",\"Soil_Type32\",\n",
    "\"Soil_Type33\",\"Soil_Type34\",\"Soil_Type35\",\"Soil_Type36\",\"Soil_Type37\",\"Soil_Type38\",\"Soil_Type39\",\"Soil_Type40\")\n",
    "\n",
    "# The following code is same as previous cell.\n",
    "for(i in 1:length(newLabels)) {\n",
    "   refColumn<-oldCols[i]\n",
    "   refValue<-newLabels[i]\n",
    "   forest_cover<-forest_cover[get(refColumn)==1,soilType:=refValue]\n",
    "}\n",
    "\n",
    "\n",
    "# Remove the binary columns Wilderness_Area1, Wilderness_Area2, Wilderness_Area3, Wilderness_Area4 and \n",
    "# other 40 columns of soil type. These binary column span from 12 through 55 columns. \n",
    "# Assign the these columns to NULL to delete them.\n",
    "\n",
    "forest_cover <- forest_cover[ , colnames(forest_cover[,12:55,with=FALSE]):=NULL]\n",
    "\n",
    "# In following line of code, colnames(forest_cover[,12:55,with=FALSE]):=NULL all columns 12 through 55 are\n",
    "# assigned to NULL to delete them.\n",
    "\n",
    "# with = FALSE, means the columns 12:55 will be a character vector of column names or a numeric vector \n",
    "# of column positions to select, and the value returned is always a data.table. "
   ]
  },
  {
   "cell_type": "code",
   "execution_count": 71,
   "metadata": {
    "collapsed": false
   },
   "outputs": [
    {
     "data": {
      "text/plain": [
       "NULL"
      ]
     },
     "metadata": {},
     "output_type": "display_data"
    },
    {
     "data": {
      "text/html": [
       "<ol class=list-inline>\n",
       "\t<li>'Id'</li>\n",
       "\t<li>'Elevation'</li>\n",
       "\t<li>'Aspect'</li>\n",
       "\t<li>'Slope'</li>\n",
       "\t<li>'HD.Hydro'</li>\n",
       "</ol>\n"
      ],
      "text/latex": [
       "\\begin{enumerate*}\n",
       "\\item 'Id'\n",
       "\\item 'Elevation'\n",
       "\\item 'Aspect'\n",
       "\\item 'Slope'\n",
       "\\item 'HD.Hydro'\n",
       "\\end{enumerate*}\n"
      ],
      "text/markdown": [
       "1. 'Id'\n",
       "2. 'Elevation'\n",
       "3. 'Aspect'\n",
       "4. 'Slope'\n",
       "5. 'HD.Hydro'\n",
       "\n",
       "\n"
      ],
      "text/plain": [
       "[1] \"Id\"        \"Elevation\" \"Aspect\"    \"Slope\"     \"HD.Hydro\" "
      ]
     },
     "metadata": {},
     "output_type": "display_data"
    }
   ],
   "source": [
    "# Understand the difference between with=TRUE and with=FALSE by looking at the output of the cell. Run help(data.table) to know \n",
    "# more about with operator and data.table\n",
    "temp <- forest_cover[ , colnames(forest_cover[,1:5,with=TRUE])]\n",
    "dim(temp)\n",
    "\n",
    "temp <- forest_cover[ , colnames(forest_cover[,1:5,with=FALSE])]\n",
    "(temp)"
   ]
  },
  {
   "cell_type": "code",
   "execution_count": 72,
   "metadata": {
    "collapsed": false
   },
   "outputs": [],
   "source": [
    "# Run the cell to learn more about how data.table is different from dataframe.\n",
    "help(data.table)"
   ]
  },
  {
   "cell_type": "code",
   "execution_count": 73,
   "metadata": {
    "collapsed": false
   },
   "outputs": [
    {
     "name": "stdout",
     "output_type": "stream",
     "text": [
      "Classes ‘data.table’ and 'data.frame':\t15120 obs. of  14 variables:\n",
      " $ Id            : int  1 2 3 4 5 6 7 8 9 10 ...\n",
      " $ Elevation     : int  2596 2590 2804 2785 2595 2579 2606 2605 2617 2612 ...\n",
      " $ Aspect        : int  51 56 139 155 45 132 45 49 45 59 ...\n",
      " $ Slope         : int  3 2 9 18 2 6 7 4 9 10 ...\n",
      " $ HD.Hydro      : int  258 212 268 242 153 300 270 234 240 247 ...\n",
      " $ VD.Hydro      : int  0 -6 65 118 -1 -15 5 7 56 11 ...\n",
      " $ HD.Road       : int  510 390 3180 3090 391 67 633 573 666 636 ...\n",
      " $ HS.9am        : int  221 220 234 238 220 230 222 222 223 228 ...\n",
      " $ HS.noon       : int  232 235 238 238 234 237 225 230 221 219 ...\n",
      " $ HS.3pm        : int  148 151 135 122 150 140 138 144 133 124 ...\n",
      " $ HD.Fire       : int  6279 6225 6121 6211 6172 6031 6256 6228 6244 6230 ...\n",
      " $ Cover_Type    : chr  \"5.Aspen\" \"5.Aspen\" \"2.LodgepolePine\" \"2.LodgepolePine\" ...\n",
      " $ wildernessArea: chr  \"Rawah\" \"Rawah\" \"Rawah\" \"Rawah\" ...\n",
      " $ soilType      : chr  \"Como1\" \"Como1\" \"Legault\" \"Como2\" ...\n",
      " - attr(*, \".internal.selfref\")=<externalptr> \n"
     ]
    }
   ],
   "source": [
    "# Run str() to verify Wilderness_Area columns and soil_Type columns are merged and all those binary columns are deleted.\n",
    "str(forest_cover)"
   ]
  },
  {
   "cell_type": "markdown",
   "metadata": {},
   "source": [
    "The forest_cover is ready for fitting a model on it. The binary columns are removed and converted into \n",
    "factor types. "
   ]
  },
  {
   "cell_type": "code",
   "execution_count": 74,
   "metadata": {
    "collapsed": false
   },
   "outputs": [],
   "source": [
    "# Use setcolorder() function to reorder the columns in a dataset.\n",
    "colOrder<-c(\"Id\",\"Elevation\",\"Aspect\",\"Slope\",\"HD.Hydro\",\"VD.Hydro\",\"HD.Road\",\"HD.Fire\",\"HS.9am\",\"HS.noon\",\"HS.3pm\",\"Cover_Type\",\"wildernessArea\",\"soilType\")\n",
    "\n",
    "# Rearrange the columns of forest_cover according to above order.\n",
    "setcolorder(forest_cover, colOrder)\n",
    "\n",
    "# Shorten the names of columns for readability.\n",
    "setnames(forest_cover,colOrder)\n",
    "\n",
    "# Remove the Id column from forest_cover.\n",
    "forest_cover$Id=NULL"
   ]
  },
  {
   "cell_type": "markdown",
   "metadata": {},
   "source": [
    "**Reference: **\n",
    "\n",
    "* [setcolorder()](https://www.rdocumentation.org/packages/data.table/versions/1.9.6/topics/setcolorder) : orders the columns of data.table, by reference, to the new order provided.\n",
    "\n",
    "* [setnames](https://stat.ethz.ch/R-manual/R-devel/library/stats/html/setNames.html): This is a convenience function that sets the names on an object and returns the object."
   ]
  },
  {
   "cell_type": "markdown",
   "metadata": {},
   "source": [
    "**Activity 7: ** Calculate feature importance of the variables in forest_cover using chi.squared() and random.forest.importance() functions. "
   ]
  },
  {
   "cell_type": "code",
   "execution_count": 76,
   "metadata": {
    "collapsed": false
   },
   "outputs": [],
   "source": [
    "# Your code for activity 7 goes here...\n",
    "\n",
    "require('FSelector')\n",
    "#Calculate chi-squared values.\n",
    "chiSquare <- chi.squared(Cover_Type~.,forest_cover) # chi.squared value is calculated for every variable against Cover_Type\n",
    "                                                     # The value is assigned to variable called chiSquare.\n",
    "chiSquare$chiSquare_features <- row.names(chiSquare) # create a new variable chiSquare$chiSquare_features in chiSquare dataframe \n",
    "                                                     # with row nmaes of chiSquare. Row names contain columns of forest_cover.\n",
    "colnames(chiSquare)[1] =\"chi.square\"    # Name the column with chi.squared values as 'chi.square'\n",
    "chiSquare$chi.square <- round(chiSquare$chi.square, digits=3) # Round the values in chi.square to 3 decimal places\n",
    "chiSquare <- chiSquare[with(chiSquare,order(chiSquare$chi.square,decreasing=T)), ] \n",
    "                            # Sort the rows in chiSquare dataframe in decreasing order of chi.square values"
   ]
  },
  {
   "cell_type": "code",
   "execution_count": 78,
   "metadata": {
    "collapsed": false
   },
   "outputs": [],
   "source": [
    "# Code for activity 7 continues here...\n",
    "require('caret')\n",
    "# Calculate feature importance(weights of features) of variables using random.forest.importance()\n",
    "RF_Importance<- random.forest.importance(Cover_Type~.,forest_cover, importance.type = 1) \n",
    "                # importance.type=1: mean decrease in accuracy, \n",
    "                #                =2: mean decrease in node impurity\n",
    "                                                                               \n",
    "RF_Importance$RF_features <- row.names(RF_Importance)  # create a new variable called RF_features with row names names of \n",
    "                                                        # RF_Importance as its values. \n",
    "colnames(RF_Importance)[1] = \"Var_Importance\"   # (RF_Importance)[1] is the column with feature weights. Name this column\n",
    "                                                    # as 'Var_Importance'\n",
    "RF_Importance$Var_Importance <- round(RF_Importance$Var_Importance/100,3)  # Round the importance values to 3 decimal places\n",
    "RF_Importance <- RF_Importance[with(RF_Importance,order(RF_Importance$Var_Importance,decreasing=T)),] \n",
    "combined_features<-bind_cols(chiSquare,RF_Importance) "
   ]
  },
  {
   "cell_type": "code",
   "execution_count": 53,
   "metadata": {
    "collapsed": true
   },
   "outputs": [],
   "source": [
    "help(random.forest.importance)"
   ]
  },
  {
   "cell_type": "code",
   "execution_count": 54,
   "metadata": {
    "collapsed": true
   },
   "outputs": [],
   "source": [
    "help(bind_cols)"
   ]
  },
  {
   "cell_type": "markdown",
   "metadata": {},
   "source": [
    "#### Feature Importance\n",
    "\n",
    "The feature importance of the 13 columns, with respect to Cover_Type variable is calculated above. The table is presented below with importance of each variable calculated using chi square value and random forest importance function.\n",
    "\n",
    "Elevation is the top feature using both methods. Although there are differences in the importance assigned to variables random forest might have done better job at assesing variable importance. It's rigorous."
   ]
  },
  {
   "cell_type": "code",
   "execution_count": 79,
   "metadata": {
    "collapsed": false
   },
   "outputs": [
    {
     "data": {
      "text/html": [
       "<table>\n",
       "<thead><tr><th scope=col>chiSquare_features</th><th scope=col>chi.square</th><th scope=col>RF_features</th><th scope=col>Var_Importance</th></tr></thead>\n",
       "<tbody>\n",
       "\t<tr><td>Elevation     </td><td>0.613         </td><td>Elevation     </td><td>1.021         </td></tr>\n",
       "\t<tr><td>soilType      </td><td>0.600         </td><td>HD.Hydro      </td><td>0.700         </td></tr>\n",
       "\t<tr><td>wildernessArea</td><td>0.521         </td><td>HD.Road       </td><td>0.620         </td></tr>\n",
       "\t<tr><td>HD.Road       </td><td>0.301         </td><td>HD.Fire       </td><td>0.596         </td></tr>\n",
       "\t<tr><td>HD.Fire       </td><td>0.257         </td><td>wildernessArea</td><td>0.574         </td></tr>\n",
       "\t<tr><td>HD.Hydro      </td><td>0.223         </td><td>HS.noon       </td><td>0.567         </td></tr>\n",
       "\t<tr><td>HS.9am        </td><td>0.200         </td><td>HS.9am        </td><td>0.522         </td></tr>\n",
       "\t<tr><td>VD.Hydro      </td><td>0.185         </td><td>VD.Hydro      </td><td>0.510         </td></tr>\n",
       "\t<tr><td>Slope         </td><td>0.161         </td><td>HS.3pm        </td><td>0.488         </td></tr>\n",
       "\t<tr><td>HS.3pm        </td><td>0.156         </td><td>Aspect        </td><td>0.473         </td></tr>\n",
       "\t<tr><td>Aspect        </td><td>0.155         </td><td>Slope         </td><td>0.360         </td></tr>\n",
       "\t<tr><td>HS.noon       </td><td>0.120         </td><td>soilType      </td><td>0.077         </td></tr>\n",
       "</tbody>\n",
       "</table>\n"
      ],
      "text/latex": [
       "\\begin{tabular}{r|llll}\n",
       " chiSquare\\_features & chi.square & RF\\_features & Var\\_Importance\\\\\n",
       "\\hline\n",
       "\t Elevation      & 0.613          & Elevation      & 1.021         \\\\\n",
       "\t soilType       & 0.600          & HD.Hydro       & 0.700         \\\\\n",
       "\t wildernessArea & 0.521          & HD.Road        & 0.620         \\\\\n",
       "\t HD.Road        & 0.301          & HD.Fire        & 0.596         \\\\\n",
       "\t HD.Fire        & 0.257          & wildernessArea & 0.574         \\\\\n",
       "\t HD.Hydro       & 0.223          & HS.noon        & 0.567         \\\\\n",
       "\t HS.9am         & 0.200          & HS.9am         & 0.522         \\\\\n",
       "\t VD.Hydro       & 0.185          & VD.Hydro       & 0.510         \\\\\n",
       "\t Slope          & 0.161          & HS.3pm         & 0.488         \\\\\n",
       "\t HS.3pm         & 0.156          & Aspect         & 0.473         \\\\\n",
       "\t Aspect         & 0.155          & Slope          & 0.360         \\\\\n",
       "\t HS.noon        & 0.120          & soilType       & 0.077         \\\\\n",
       "\\end{tabular}\n"
      ],
      "text/plain": [
       "   chiSquare_features chi.square RF_features    Var_Importance\n",
       "1  Elevation          0.613      Elevation      1.021         \n",
       "2  soilType           0.600      HD.Hydro       0.700         \n",
       "3  wildernessArea     0.521      HD.Road        0.620         \n",
       "4  HD.Road            0.301      HD.Fire        0.596         \n",
       "5  HD.Fire            0.257      wildernessArea 0.574         \n",
       "6  HD.Hydro           0.223      HS.noon        0.567         \n",
       "7  HS.9am             0.200      HS.9am         0.522         \n",
       "8  VD.Hydro           0.185      VD.Hydro       0.510         \n",
       "9  Slope              0.161      HS.3pm         0.488         \n",
       "10 HS.3pm             0.156      Aspect         0.473         \n",
       "11 Aspect             0.155      Slope          0.360         \n",
       "12 HS.noon            0.120      soilType       0.077         "
      ]
     },
     "metadata": {},
     "output_type": "display_data"
    }
   ],
   "source": [
    "colOrder<-c(\"chiSquare_features\",\"chi.square\",\"RF_features\",\"Var_Importance\") \n",
    "table=setcolorder(combined_features, colOrder) # reorder the columns of combined_features according to the names in colOrder\n",
    "table"
   ]
  },
  {
   "cell_type": "markdown",
   "metadata": {},
   "source": [
    "**Reference: **[FSelector](https://cran.r-project.org/web/packages/FSelector/FSelector.pdf)"
   ]
  },
  {
   "cell_type": "markdown",
   "metadata": {},
   "source": [
    "**Activity 8: ** Split the data into training and testing sets. Put 70% of data in \"Forestcover_train\" dataframe and rest in \"Forestcover_test\" dataframe. Use the seed as 100 to reproduce test results for evaluation. \n",
    "\n",
    "Testing set will be used to evaluate the predictive capability of the model."
   ]
  },
  {
   "cell_type": "code",
   "execution_count": 80,
   "metadata": {
    "collapsed": false
   },
   "outputs": [
    {
     "data": {
      "text/html": [
       "<table>\n",
       "<thead><tr><th scope=col>Elevation</th><th scope=col>Aspect</th><th scope=col>Slope</th><th scope=col>HD.Hydro</th><th scope=col>VD.Hydro</th><th scope=col>HD.Road</th><th scope=col>HD.Fire</th><th scope=col>HS.9am</th><th scope=col>HS.noon</th><th scope=col>HS.3pm</th><th scope=col>Cover_Type</th><th scope=col>wildernessArea</th><th scope=col>soilType</th></tr></thead>\n",
       "<tbody>\n",
       "\t<tr><td>2596           </td><td> 51            </td><td> 3             </td><td>258            </td><td>  0            </td><td> 510           </td><td>6279           </td><td>221            </td><td>232            </td><td>148            </td><td>5.Aspen        </td><td>Rawah          </td><td>Como1          </td></tr>\n",
       "\t<tr><td>2590           </td><td> 56            </td><td> 2             </td><td>212            </td><td> -6            </td><td> 390           </td><td>6225           </td><td>220            </td><td>235            </td><td>151            </td><td>5.Aspen        </td><td>Rawah          </td><td>Como1          </td></tr>\n",
       "\t<tr><td>2804           </td><td>139            </td><td> 9             </td><td>268            </td><td> 65            </td><td>3180           </td><td>6121           </td><td>234            </td><td>238            </td><td>135            </td><td>2.LodgepolePine</td><td>Rawah          </td><td>Legault        </td></tr>\n",
       "\t<tr><td>2785           </td><td>155            </td><td>18             </td><td>242            </td><td>118            </td><td>3090           </td><td>6211           </td><td>238            </td><td>238            </td><td>122            </td><td>2.LodgepolePine</td><td>Rawah          </td><td>Como2          </td></tr>\n",
       "\t<tr><td>2595           </td><td> 45            </td><td> 2             </td><td>153            </td><td> -1            </td><td> 391           </td><td>6172           </td><td>220            </td><td>234            </td><td>150            </td><td>5.Aspen        </td><td>Rawah          </td><td>Como1          </td></tr>\n",
       "\t<tr><td>2579           </td><td>132            </td><td> 6             </td><td>300            </td><td>-15            </td><td>  67           </td><td>6031           </td><td>230            </td><td>237            </td><td>140            </td><td>2.LodgepolePine</td><td>Rawah          </td><td>Como1          </td></tr>\n",
       "</tbody>\n",
       "</table>\n"
      ],
      "text/latex": [
       "\\begin{tabular}{r|lllllllllllll}\n",
       " Elevation & Aspect & Slope & HD.Hydro & VD.Hydro & HD.Road & HD.Fire & HS.9am & HS.noon & HS.3pm & Cover\\_Type & wildernessArea & soilType\\\\\n",
       "\\hline\n",
       "\t 2596            &  51             &  3              & 258             &   0             &  510            & 6279            & 221             & 232             & 148             & 5.Aspen         & Rawah           & Como1          \\\\\n",
       "\t 2590            &  56             &  2              & 212             &  -6             &  390            & 6225            & 220             & 235             & 151             & 5.Aspen         & Rawah           & Como1          \\\\\n",
       "\t 2804            & 139             &  9              & 268             &  65             & 3180            & 6121            & 234             & 238             & 135             & 2.LodgepolePine & Rawah           & Legault        \\\\\n",
       "\t 2785            & 155             & 18              & 242             & 118             & 3090            & 6211            & 238             & 238             & 122             & 2.LodgepolePine & Rawah           & Como2          \\\\\n",
       "\t 2595            &  45             &  2              & 153             &  -1             &  391            & 6172            & 220             & 234             & 150             & 5.Aspen         & Rawah           & Como1          \\\\\n",
       "\t 2579            & 132             &  6              & 300             & -15             &   67            & 6031            & 230             & 237             & 140             & 2.LodgepolePine & Rawah           & Como1          \\\\\n",
       "\\end{tabular}\n"
      ],
      "text/plain": [
       "  Elevation Aspect Slope HD.Hydro VD.Hydro HD.Road HD.Fire HS.9am HS.noon\n",
       "1 2596       51     3    258        0       510    6279    221    232    \n",
       "2 2590       56     2    212       -6       390    6225    220    235    \n",
       "3 2804      139     9    268       65      3180    6121    234    238    \n",
       "4 2785      155    18    242      118      3090    6211    238    238    \n",
       "5 2595       45     2    153       -1       391    6172    220    234    \n",
       "6 2579      132     6    300      -15        67    6031    230    237    \n",
       "  HS.3pm Cover_Type      wildernessArea soilType\n",
       "1 148    5.Aspen         Rawah          Como1   \n",
       "2 151    5.Aspen         Rawah          Como1   \n",
       "3 135    2.LodgepolePine Rawah          Legault \n",
       "4 122    2.LodgepolePine Rawah          Como2   \n",
       "5 150    5.Aspen         Rawah          Como1   \n",
       "6 140    2.LodgepolePine Rawah          Como1   "
      ]
     },
     "metadata": {},
     "output_type": "display_data"
    }
   ],
   "source": [
    "# Your code for activity 8 goes here. \n",
    "# Be care ful in splitting the data. Set the seed as 100 for consistency in the results across everyone's notebooks. \n",
    "# use sample.split() function for splitting the data into 70% in training and rest in testing sets.\n",
    "# Split the data on forest_cover$Cover_Type not on forest_cover.\n",
    "library(caTools)\n",
    "set.seed(100) # set.seed() will help us to reproduce the results.\n",
    "split = sample.split(forest_cover$Cover_Type, SplitRatio=0.7) \n",
    "Forestcover_train = subset(forest_cover, split == TRUE)\n",
    "Forestcover_test  = subset(forest_cover, split == FALSE)\n",
    "head(Forestcover_train)"
   ]
  },
  {
   "cell_type": "markdown",
   "metadata": {},
   "source": [
    "Using this importance information of the variables, choose to include between variables while fiting the model. Fit a classification model using LDA or SVC. Start with LDA. Cover_Type is character type. Convert the variable to factor with levels (1,2,3,4,5,6,7). "
   ]
  },
  {
   "cell_type": "code",
   "execution_count": 81,
   "metadata": {
    "collapsed": false
   },
   "outputs": [
    {
     "data": {
      "text/html": [
       "'character'"
      ],
      "text/latex": [
       "'character'"
      ],
      "text/markdown": [
       "'character'"
      ],
      "text/plain": [
       "[1] \"character\""
      ]
     },
     "metadata": {},
     "output_type": "display_data"
    }
   ],
   "source": [
    "class(Forestcover_train$Cover_Type)"
   ]
  },
  {
   "cell_type": "markdown",
   "metadata": {},
   "source": [
    "Convert the Cover_Type from character to factor type in both training and testing sets. Substitue the labels from names of Cover_Type to numbers (1,2,3,4,5,6,7) for fitting the model. \n",
    "\n",
    "Do the same thing for soilType. Convert the variable from character to factor type. Substitue soil type names with intergers 1:40."
   ]
  },
  {
   "cell_type": "code",
   "execution_count": 82,
   "metadata": {
    "collapsed": false
   },
   "outputs": [],
   "source": [
    "Forestcover_train$Cover_Type <- factor(Forestcover_train$Cover_Type,\n",
    "levels = c(\"1.SpruceFir\",\"2.LodgepolePine\",\"3.PonderosaPine\",\"4.Cottonwood-Willow\",\"5.Aspen\",\"6.Douglas-fir\",\"7.Krummholz\"),\n",
    "labels = c(1,2,3,4,5,6,7))\n",
    "\n",
    "Forestcover_test$Cover_Type <- factor(Forestcover_test$Cover_Type,\n",
    "levels = c(\"1.SpruceFir\",\"2.LodgepolePine\",\"3.PonderosaPine\",\"4.Cottonwood-Willow\",\"5.Aspen\",\"6.Douglas-fir\",\"7.Krummholz\"),\n",
    "labels = c(1,2,3,4,5,6,7))\n",
    "\n",
    "Forestcover_train$soilType <- factor(Forestcover_train$soilType,\n",
    "levels = c('Cathedral','Vanet','Haploborolis','Ratake','Vanet1','Vanet2','Gothic','Supervisor',\n",
    "             'Troutville','Bullwark1','Bullwark2','Legault','Catamount1','Pachic','unspecified',\n",
    "             'Cryaquolis','Gateview','Rogert','Typic1','Typic2','Typic3','Leighcan1','Leighcan2',\n",
    "             'Leighcan3','Leighcan4','Granile','Leighcan5','Leighcan6','Como1','Como2','Leighcan7',\n",
    "             'Catamount2','Leighcan8','Cryorthents','Cryumbrepts','Bross','Rock','Leighcan9','Moran1',\n",
    "             'Moran2'),\n",
    "labels = c(1:40))\n",
    "\n",
    "Forestcover_test$soilType <- factor(Forestcover_test$soilType,\n",
    "levels = c('Cathedral','Vanet','Haploborolis','Ratake','Vanet1','Vanet2','Gothic','Supervisor',\n",
    "             'Troutville','Bullwark1','Bullwark2','Legault','Catamount1','Pachic','unspecified',\n",
    "             'Cryaquolis','Gateview','Rogert','Typic1','Typic2','Typic3','Leighcan1','Leighcan2',\n",
    "             'Leighcan3','Leighcan4','Granile','Leighcan5','Leighcan6','Como1','Como2','Leighcan7',\n",
    "             'Catamount2','Leighcan8','Cryorthents','Cryumbrepts','Bross','Rock','Leighcan9','Moran1',\n",
    "             'Moran2'),\n",
    "labels = c(1:40))"
   ]
  },
  {
   "cell_type": "markdown",
   "metadata": {},
   "source": [
    "**Activity 8.a: ** Convert the variable wildernessArea into a factor with labels 1,2,3,4. Perform anova between variables \n",
    "wildernessArea and first 5 important features according to random forest importance."
   ]
  },
  {
   "cell_type": "code",
   "execution_count": 83,
   "metadata": {
    "collapsed": false
   },
   "outputs": [],
   "source": [
    "Forestcover_train$wildernessArea <- factor(Forestcover_train$wildernessArea,\n",
    "levels = c(\"Rawah\",\"Neota\",\"ComanchePeak\",\"CachePoudre\"),\n",
    "labels = c(1,2,3,4))\n",
    "Forestcover_test$wildernessArea <- factor(Forestcover_test$wildernessArea,\n",
    "levels = c(\"Rawah\",\"Neota\",\"ComanchePeak\",\"CachePoudre\"),\n",
    "labels = c(1,2,3,4))"
   ]
  },
  {
   "cell_type": "markdown",
   "metadata": {},
   "source": [
    "**Activity 8.b: ** Perform manova first 5 important features according to random forest importance against wildernessArea."
   ]
  },
  {
   "cell_type": "code",
   "execution_count": 21,
   "metadata": {
    "collapsed": false
   },
   "outputs": [
    {
     "data": {
      "text/plain": [
       "                  Df Hotelling-Lawley approx F num Df den Df    Pr(>F)    \n",
       "wildernessArea     3           2.3205   2337.6     15  45332 < 2.2e-16 ***\n",
       "Residuals      15116                                                      \n",
       "---\n",
       "Signif. codes:  0 ‘***’ 0.001 ‘**’ 0.01 ‘*’ 0.05 ‘.’ 0.1 ‘ ’ 1"
      ]
     },
     "metadata": {},
     "output_type": "display_data"
    }
   ],
   "source": [
    "summary(manova(cbind(Elevation, HD.Hydro,HD.Road,HD.Fire,HS.noon) ~ wildernessArea, data = forest_cover), test = \"Hotelling-Lawley\")"
   ]
  },
  {
   "cell_type": "markdown",
   "metadata": {},
   "source": [
    "**Activity 9: ** Fit a LDA model on Forestcover_train to predict Cover_Type using all independent variables except soilType. Name this model as Forestcover_lda."
   ]
  },
  {
   "cell_type": "code",
   "execution_count": 27,
   "metadata": {
    "collapsed": false
   },
   "outputs": [
    {
     "data": {
      "text/plain": [
       "Call:\n",
       "lda(Cover_Type ~ Elevation + Aspect + Slope + HD.Hydro + VD.Hydro + \n",
       "    HD.Road + HD.Fire + HS.9am + HS.noon + HS.3pm + wildernessArea, \n",
       "    data = Forestcover_train)\n",
       "\n",
       "Prior probabilities of groups:\n",
       "        1         2         3         4         5         6         7 \n",
       "0.1428571 0.1428571 0.1428571 0.1428571 0.1428571 0.1428571 0.1428571 \n",
       "\n",
       "Group means:\n",
       "  Elevation   Aspect    Slope HD.Hydro VD.Hydro   HD.Road   HD.Fire   HS.9am\n",
       "1  3127.023 159.4140 13.26653 268.9279 40.70503 2549.8519 1995.3988 211.2963\n",
       "2  2922.884 151.9015 13.60582 285.7083 47.89484 2436.9220 2155.3373 213.6991\n",
       "3  2402.894 171.7407 20.48214 211.3485 63.91336  996.7937  929.0939 202.3320\n",
       "4  2222.927 139.4993 18.69246 106.3274 40.87500  919.7328  852.4610 228.1693\n",
       "5  2784.754 139.0648 16.71032 205.0946 49.54034 1335.2447 1526.2255 222.6878\n",
       "6  2424.968 179.9854 18.91601 159.6475 44.04167 1079.6601 1071.7784 193.8763\n",
       "7  3364.399 154.6772 14.07474 352.1759 70.48611 2705.8095 2053.1356 216.9742\n",
       "   HS.noon   HS.3pm wildernessArea2 wildernessArea3 wildernessArea4\n",
       "1 223.0886 144.2652      0.08134921       0.4358466     0.000000000\n",
       "2 225.4782 143.3108      0.02843915       0.4378307     0.009259259\n",
       "3 217.0026 141.2619      0.00000000       0.4113757     0.588624339\n",
       "4 216.8022 111.2315      0.00000000       0.0000000     1.000000000\n",
       "5 218.5364 122.4292      0.00000000       0.6097884     0.000000000\n",
       "6 210.0516 147.4530      0.00000000       0.4616402     0.538359788\n",
       "7 222.4914 135.9067      0.11838624       0.6349206     0.000000000\n",
       "\n",
       "Coefficients of linear discriminants:\n",
       "                          LD1           LD2           LD3           LD4\n",
       "Elevation       -7.171578e-03 -3.846075e-03  7.521776e-04  0.0016878460\n",
       "Aspect           5.283094e-04 -1.653539e-04 -9.450311e-04  0.0016306214\n",
       "Slope            2.007792e-02  1.360706e-02  8.813445e-03  0.0196101059\n",
       "HD.Hydro         2.793183e-04  9.600834e-04 -9.229570e-05 -0.0024043005\n",
       "VD.Hydro         2.313551e-03  1.133488e-03 -6.296303e-04  0.0077111319\n",
       "HD.Road          9.711908e-05 -1.686273e-04 -2.356665e-05 -0.0005797269\n",
       "HD.Fire         -6.073965e-05 -4.990563e-05 -2.656937e-05 -0.0001251111\n",
       "HS.9am           2.267422e-02  1.361903e-02  1.085491e-02  0.0022186106\n",
       "HS.noon         -5.158815e-03 -2.391900e-02 -5.397566e-02  0.0133999714\n",
       "HS.3pm           1.204168e-02  2.211414e-02  3.282489e-02 -0.0119030747\n",
       "wildernessArea2  1.006956e+00 -1.240364e+00  1.026214e+00 -0.7956027210\n",
       "wildernessArea3  6.593580e-01 -1.006456e+00  1.482487e+00  0.9247014433\n",
       "wildernessArea4  4.673655e-01 -5.176239e+00  1.308172e+00  0.2412924233\n",
       "                          LD5           LD6\n",
       "Elevation       -7.939731e-04  0.0012300348\n",
       "Aspect          -3.320803e-03 -0.0015000695\n",
       "Slope            8.680368e-03 -0.0208087144\n",
       "HD.Hydro         2.459453e-03 -0.0004122475\n",
       "VD.Hydro         3.838716e-03 -0.0043737777\n",
       "HD.Road          1.487032e-04 -0.0001451153\n",
       "HD.Fire          4.812164e-05 -0.0007149672\n",
       "HS.9am          -9.379018e-02 -0.0910678153\n",
       "HS.noon          1.089702e-01  0.0812031188\n",
       "HS.3pm          -7.243510e-02 -0.0640292960\n",
       "wildernessArea2  5.819880e-01 -0.3377021687\n",
       "wildernessArea3  1.912976e-01 -1.5073765459\n",
       "wildernessArea4 -7.088187e-02 -0.8987505947\n",
       "\n",
       "Proportion of trace:\n",
       "   LD1    LD2    LD3    LD4    LD5    LD6 \n",
       "0.8684 0.0884 0.0234 0.0133 0.0050 0.0014 "
      ]
     },
     "metadata": {},
     "output_type": "display_data"
    }
   ],
   "source": [
    "# Your code for activity 9 goes here....\n",
    "library(MASS)\n",
    "Forestcover_lda =lda(Cover_Type~Elevation+Aspect+Slope+HD.Hydro+VD.Hydro+HD.Road+HD.Fire+HS.9am+HS.noon+HS.3pm+wildernessArea ,data=Forestcover_train)\n",
    "Forestcover_lda"
   ]
  },
  {
   "cell_type": "markdown",
   "metadata": {},
   "source": [
    "#### Asses the model accuracy\n",
    "\n",
    "**Activity 10: ** Predict the forest cover type on Forestcover_test using the model Forestcover_lda built above. Build a confusion matrix to asses the performance of the model on test set and find the accuracy of predictions. "
   ]
  },
  {
   "cell_type": "code",
   "execution_count": 34,
   "metadata": {
    "collapsed": false
   },
   "outputs": [
    {
     "data": {
      "text/plain": [
       "   \n",
       "      1   2   3   4   5   6   7\n",
       "  1 374 147   0   0   1   0  80\n",
       "  2  89 256   2   0  74   0   0\n",
       "  3   0   3 217  15   1  99   0\n",
       "  4   0   3 175 610   0 135   0\n",
       "  5  48 199  76   0 554  88   3\n",
       "  6   2  15 178  23  18 326   0\n",
       "  7 135  25   0   0   0   0 565"
      ]
     },
     "metadata": {},
     "output_type": "display_data"
    },
    {
     "data": {
      "text/html": [
       "'accuracy: 0.639770723104056'"
      ],
      "text/latex": [
       "'accuracy: 0.639770723104056'"
      ],
      "text/markdown": [
       "'accuracy: 0.639770723104056'"
      ],
      "text/plain": [
       "[1] \"accuracy: 0.639770723104056\""
      ]
     },
     "metadata": {},
     "output_type": "display_data"
    }
   ],
   "source": [
    "# Your code for Activity 10 goes here.\n",
    "Forestcover_pred=predict(Forestcover_lda,Forestcover_test)\n",
    "conftable1 <- table(Forestcover_pred$class, Forestcover_test$Cover_Type)\n",
    "conftable1\n",
    "paste('accuracy:',mean(Forestcover_pred$class == Forestcover_test$Cover_Type))"
   ]
  },
  {
   "cell_type": "markdown",
   "metadata": {
    "collapsed": true
   },
   "source": [
    "**Activity 11: ** Fit a LDA model on Forestcover_train to predict Cover_Type using Elevation, HD.Hydro, HD.Road and HD.Fire. Name this model as Forestcover_lda1."
   ]
  },
  {
   "cell_type": "code",
   "execution_count": 35,
   "metadata": {
    "collapsed": false
   },
   "outputs": [
    {
     "data": {
      "text/plain": [
       "Call:\n",
       "lda(Cover_Type ~ Elevation + Aspect + Slope + HD.Hydro + VD.Hydro + \n",
       "    HD.Road + HD.Fire + HS.9am + HS.noon + HS.3pm + wildernessArea, \n",
       "    data = Forestcover_train)\n",
       "\n",
       "Prior probabilities of groups:\n",
       "        1         2         3         4         5         6         7 \n",
       "0.1428571 0.1428571 0.1428571 0.1428571 0.1428571 0.1428571 0.1428571 \n",
       "\n",
       "Group means:\n",
       "  Elevation   Aspect    Slope HD.Hydro VD.Hydro   HD.Road   HD.Fire   HS.9am\n",
       "1  3127.023 159.4140 13.26653 268.9279 40.70503 2549.8519 1995.3988 211.2963\n",
       "2  2922.884 151.9015 13.60582 285.7083 47.89484 2436.9220 2155.3373 213.6991\n",
       "3  2402.894 171.7407 20.48214 211.3485 63.91336  996.7937  929.0939 202.3320\n",
       "4  2222.927 139.4993 18.69246 106.3274 40.87500  919.7328  852.4610 228.1693\n",
       "5  2784.754 139.0648 16.71032 205.0946 49.54034 1335.2447 1526.2255 222.6878\n",
       "6  2424.968 179.9854 18.91601 159.6475 44.04167 1079.6601 1071.7784 193.8763\n",
       "7  3364.399 154.6772 14.07474 352.1759 70.48611 2705.8095 2053.1356 216.9742\n",
       "   HS.noon   HS.3pm wildernessArea2 wildernessArea3 wildernessArea4\n",
       "1 223.0886 144.2652      0.08134921       0.4358466     0.000000000\n",
       "2 225.4782 143.3108      0.02843915       0.4378307     0.009259259\n",
       "3 217.0026 141.2619      0.00000000       0.4113757     0.588624339\n",
       "4 216.8022 111.2315      0.00000000       0.0000000     1.000000000\n",
       "5 218.5364 122.4292      0.00000000       0.6097884     0.000000000\n",
       "6 210.0516 147.4530      0.00000000       0.4616402     0.538359788\n",
       "7 222.4914 135.9067      0.11838624       0.6349206     0.000000000\n",
       "\n",
       "Coefficients of linear discriminants:\n",
       "                          LD1           LD2           LD3           LD4\n",
       "Elevation       -7.171578e-03 -3.846075e-03  7.521776e-04  0.0016878460\n",
       "Aspect           5.283094e-04 -1.653539e-04 -9.450311e-04  0.0016306214\n",
       "Slope            2.007792e-02  1.360706e-02  8.813445e-03  0.0196101059\n",
       "HD.Hydro         2.793183e-04  9.600834e-04 -9.229570e-05 -0.0024043005\n",
       "VD.Hydro         2.313551e-03  1.133488e-03 -6.296303e-04  0.0077111319\n",
       "HD.Road          9.711908e-05 -1.686273e-04 -2.356665e-05 -0.0005797269\n",
       "HD.Fire         -6.073965e-05 -4.990563e-05 -2.656937e-05 -0.0001251111\n",
       "HS.9am           2.267422e-02  1.361903e-02  1.085491e-02  0.0022186106\n",
       "HS.noon         -5.158815e-03 -2.391900e-02 -5.397566e-02  0.0133999714\n",
       "HS.3pm           1.204168e-02  2.211414e-02  3.282489e-02 -0.0119030747\n",
       "wildernessArea2  1.006956e+00 -1.240364e+00  1.026214e+00 -0.7956027210\n",
       "wildernessArea3  6.593580e-01 -1.006456e+00  1.482487e+00  0.9247014433\n",
       "wildernessArea4  4.673655e-01 -5.176239e+00  1.308172e+00  0.2412924233\n",
       "                          LD5           LD6\n",
       "Elevation       -7.939731e-04  0.0012300348\n",
       "Aspect          -3.320803e-03 -0.0015000695\n",
       "Slope            8.680368e-03 -0.0208087144\n",
       "HD.Hydro         2.459453e-03 -0.0004122475\n",
       "VD.Hydro         3.838716e-03 -0.0043737777\n",
       "HD.Road          1.487032e-04 -0.0001451153\n",
       "HD.Fire          4.812164e-05 -0.0007149672\n",
       "HS.9am          -9.379018e-02 -0.0910678153\n",
       "HS.noon          1.089702e-01  0.0812031188\n",
       "HS.3pm          -7.243510e-02 -0.0640292960\n",
       "wildernessArea2  5.819880e-01 -0.3377021687\n",
       "wildernessArea3  1.912976e-01 -1.5073765459\n",
       "wildernessArea4 -7.088187e-02 -0.8987505947\n",
       "\n",
       "Proportion of trace:\n",
       "   LD1    LD2    LD3    LD4    LD5    LD6 \n",
       "0.8684 0.0884 0.0234 0.0133 0.0050 0.0014 "
      ]
     },
     "metadata": {},
     "output_type": "display_data"
    }
   ],
   "source": [
    "Forestcover_lda1 =lda(Cover_Type~Elevation+HD.Hydro+HD.Road+HD.Fire,data=Forestcover_train)\n",
    "Forestcover_lda"
   ]
  },
  {
   "cell_type": "markdown",
   "metadata": {},
   "source": [
    "**Activity 12: ** Predict the forest cover type on Forestcover_test using the model Forestcover_lda1. Build a confusion matrix to asses the performance of the model on test set and find the accuracy of predictions. "
   ]
  },
  {
   "cell_type": "code",
   "execution_count": 36,
   "metadata": {
    "collapsed": false
   },
   "outputs": [
    {
     "data": {
      "text/plain": [
       "   \n",
       "      1   2   3   4   5   6   7\n",
       "  1 344 139   0   0   2   0  72\n",
       "  2 112 255  11   0 106   3   3\n",
       "  3   1   6 187 110   7 155   0\n",
       "  4   0   3 201 475   0 157   0\n",
       "  5  48 183  64   0 518  95   0\n",
       "  6   1  31 185  63  15 238   0\n",
       "  7 142  31   0   0   0   0 573"
      ]
     },
     "metadata": {},
     "output_type": "display_data"
    },
    {
     "data": {
      "text/html": [
       "'accuracy: 0.570987654320988'"
      ],
      "text/latex": [
       "'accuracy: 0.570987654320988'"
      ],
      "text/markdown": [
       "'accuracy: 0.570987654320988'"
      ],
      "text/plain": [
       "[1] \"accuracy: 0.570987654320988\""
      ]
     },
     "metadata": {},
     "output_type": "display_data"
    }
   ],
   "source": [
    "Forestcover_pred1=predict(Forestcover_lda1,Forestcover_test)\n",
    "conftable2 <- table(Forestcover_pred1$class, Forestcover_test$Cover_Type)\n",
    "conftable2\n",
    "paste('accuracy:',mean(Forestcover_pred1$class == Forestcover_test$Cover_Type))"
   ]
  },
  {
   "cell_type": "markdown",
   "metadata": {},
   "source": [
    "### SVM"
   ]
  },
  {
   "cell_type": "markdown",
   "metadata": {},
   "source": [
    "**Activity 13: ** Fit a SVM model on Forestcover_train to predict Cover_Type using all independent variables. Use different non linear kernels like polynomial, radial, sigmoid, etc. to find the best fit. Name this model as forestcover_svmfit. "
   ]
  },
  {
   "cell_type": "code",
   "execution_count": 54,
   "metadata": {
    "collapsed": false
   },
   "outputs": [
    {
     "data": {
      "text/plain": [
       "\n",
       "Call:\n",
       "svm(formula = Cover_Type ~ ., data = Forestcover_train, kernel = \"radial\")\n",
       "\n",
       "\n",
       "Parameters:\n",
       "   SVM-Type:  C-classification \n",
       " SVM-Kernel:  radial \n",
       "       cost:  1 \n",
       "      gamma:  0.01886792 \n",
       "\n",
       "Number of Support Vectors:  7439\n",
       "\n",
       " ( 1086 1333 1300 587 1280 1241 612 )\n",
       "\n",
       "\n",
       "Number of Classes:  7 \n",
       "\n",
       "Levels: \n",
       " 1 2 3 4 5 6 7\n",
       "\n",
       "\n"
      ]
     },
     "metadata": {},
     "output_type": "display_data"
    }
   ],
   "source": [
    "library(\"e1071\")\n",
    "forestcover_svmfit <- svm(Cover_Type ~ ., data=Forestcover_train, kernel=\"radial\")\n",
    "summary(forestcover_svmfit)"
   ]
  },
  {
   "cell_type": "markdown",
   "metadata": {},
   "source": [
    "**Activity 14: ** Predict the forest cover type on Forestcover_test using the model Forestcover_svmfit. Build a confusion matrix to asses the performance of the model on test set and find the accuracy of predictions. "
   ]
  },
  {
   "cell_type": "code",
   "execution_count": 55,
   "metadata": {
    "collapsed": false
   },
   "outputs": [
    {
     "data": {
      "text/plain": [
       "       class\n",
       "predict   1   2   3   4   5   6   7\n",
       "      1 448 150   0   0  11   0  86\n",
       "      2 114 343   0   0  68   7   0\n",
       "      3   0  18 367  28  20 131   0\n",
       "      4   0   0 102 599   0  64   0\n",
       "      5  29 104  21   0 526  15   3\n",
       "      6   2  28 158  21  23 431   0\n",
       "      7  55   5   0   0   0   0 559"
      ]
     },
     "metadata": {},
     "output_type": "display_data"
    },
    {
     "data": {
      "text/html": [
       "'accuracy: 0.721560846560847'"
      ],
      "text/latex": [
       "'accuracy: 0.721560846560847'"
      ],
      "text/markdown": [
       "'accuracy: 0.721560846560847'"
      ],
      "text/plain": [
       "[1] \"accuracy: 0.721560846560847\""
      ]
     },
     "metadata": {},
     "output_type": "display_data"
    }
   ],
   "source": [
    "Forestcover_pred3=predict(forestcover_svmfit,Forestcover_test)\n",
    "conftable2=table(predict=Forestcover_pred3, class=Forestcover_test$Cover_Type)\n",
    "conftable2\n",
    "paste('accuracy:',mean(Forestcover_pred3 == Forestcover_test$Cover_Type))\n"
   ]
  },
  {
   "cell_type": "markdown",
   "metadata": {},
   "source": [
    "**Activity 15: ** Fit a SVM model on Forestcover_train to predict Cover_Type using Elevation, HD.Hydro, HD.Road and HD.Fire and soilType. Name this model as Forestcover_svmfit1. "
   ]
  },
  {
   "cell_type": "code",
   "execution_count": 57,
   "metadata": {
    "collapsed": false
   },
   "outputs": [
    {
     "data": {
      "text/plain": [
       "\n",
       "Call:\n",
       "svm(formula = Cover_Type ~ Elevation + HD.Hydro + HD.Road + HD.Fire + \n",
       "    soilType, data = Forestcover_train, kernel = \"radial\")\n",
       "\n",
       "\n",
       "Parameters:\n",
       "   SVM-Type:  C-classification \n",
       " SVM-Kernel:  radial \n",
       "       cost:  1 \n",
       "      gamma:  0.02272727 \n",
       "\n",
       "Number of Support Vectors:  7837\n",
       "\n",
       " ( 1158 1354 1295 549 1360 1323 798 )\n",
       "\n",
       "\n",
       "Number of Classes:  7 \n",
       "\n",
       "Levels: \n",
       " 1 2 3 4 5 6 7\n",
       "\n",
       "\n"
      ]
     },
     "metadata": {},
     "output_type": "display_data"
    }
   ],
   "source": [
    "forestcover_svmfit1 <- svm(Cover_Type ~ Elevation+HD.Hydro+HD.Road+HD.Fire+soilType, data=Forestcover_train, kernel=\"radial\")\n",
    "summary(forestcover_svmfit1)"
   ]
  },
  {
   "cell_type": "markdown",
   "metadata": {},
   "source": [
    "**Activity 16: ** Predict the forest cover type on Forestcover_test using the model Forestcover_svmfit1. Build a confusion matrix to asses the performance of the model on test set and find the accuracy of predictions. "
   ]
  },
  {
   "cell_type": "code",
   "execution_count": 58,
   "metadata": {
    "collapsed": false
   },
   "outputs": [
    {
     "data": {
      "text/plain": [
       "       class\n",
       "predict   1   2   3   4   5   6   7\n",
       "      1 426 148   0   0  10   0  93\n",
       "      2 131 326   1   0  80   4   0\n",
       "      3   0  15 297  90  24 142   0\n",
       "      4   0   0  87 500   0  49   0\n",
       "      5  32 133  26   0 515  31   3\n",
       "      6   2  23 237  58  19 422   0\n",
       "      7  57   3   0   0   0   0 552"
      ]
     },
     "metadata": {},
     "output_type": "display_data"
    },
    {
     "data": {
      "text/html": [
       "'accuracy: 0.669753086419753'"
      ],
      "text/latex": [
       "'accuracy: 0.669753086419753'"
      ],
      "text/markdown": [
       "'accuracy: 0.669753086419753'"
      ],
      "text/plain": [
       "[1] \"accuracy: 0.669753086419753\""
      ]
     },
     "metadata": {},
     "output_type": "display_data"
    }
   ],
   "source": [
    "Forestcover_pred4=predict(forestcover_svmfit1,Forestcover_test)\n",
    "conftable4=table(predict=Forestcover_pred4, class=Forestcover_test$Cover_Type)\n",
    "conftable4\n",
    "paste('accuracy:',mean(Forestcover_pred4 == Forestcover_test$Cover_Type))"
   ]
  },
  {
   "cell_type": "code",
   "execution_count": null,
   "metadata": {
    "collapsed": true
   },
   "outputs": [],
   "source": []
  }
 ],
 "metadata": {
  "kernelspec": {
   "display_name": "R",
   "language": "R",
   "name": "ir"
  },
  "language_info": {
   "codemirror_mode": "r",
   "file_extension": ".r",
   "mimetype": "text/x-r-source",
   "name": "R",
   "pygments_lexer": "r",
   "version": "3.3.1"
  }
 },
 "nbformat": 4,
 "nbformat_minor": 0
}
