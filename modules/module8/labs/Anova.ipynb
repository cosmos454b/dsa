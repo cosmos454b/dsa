{
 "cells": [
  {
   "cell_type": "markdown",
   "metadata": {},
   "source": [
    "## Anova(Analysis of Variance)\n",
    "\n",
    "ANOVA is a statistical method for making multiple group comparisons. Its provides an easy way to eliminate variables that contribute little in predicting the dependent variable. ANOVA tests the features in general rather than specific differences in mean of features. In this notebook, we will focus on one way ANOVA. In one way ANOVA, we will focus we compare effects of a single independent variable. \n",
    "\n",
    "It is called analysis of variance because it involves taking the entire variance in a dataset and divides the source of variance into different components. Each individual score is the product of the mean of the population, the effects of the independent variable and random error.\n",
    "\n",
    "There are three components of variance. Total variance is the variance of all subjects regardless of the group to which they belong. Total variance is further partitioned in to between-groups variance and within-groups variance. Between-groups variance is the index of differences among group means due to the effects of the independent variable and random error. It represents the variance between the group’s means. Within-groups variance represents the differences among subjects in groups due to random error. It represents the variance among subjects within each group of the experiment. The source for the variance both between-groups and within-groups is their sum of squares. \n",
    "\n",
    "The F-ratio metric determines if differences among group means is due to random variation or if the differences are due to nonchnace. It is expressed as\n",
    "\n",
    "$$F = \\frac{between-group variance}{within-group variance}$$\n",
    "\n",
    "Anova helps to determine whether the means from more than two populations or groups are equal or not. In another words whether the difference in means is statistically significant or not. If the ANOVA F-test shows there is a significant difference in\n",
    "means between the groups we may want to perform multiple comparisons between all pair-wise means to determine how they differ.\n",
    "\n",
    "Analyze the auto miles per gallon dataset to find how variables are similar are dissimilar to each other."
   ]
  },
  {
   "cell_type": "markdown",
   "metadata": {},
   "source": [
    "Load the auto-mpg dataset from ~/datasets/auto-mpg/"
   ]
  },
  {
   "cell_type": "code",
   "execution_count": 1,
   "metadata": {
    "collapsed": false
   },
   "outputs": [
    {
     "data": {
      "text/html": [
       "<table>\n",
       "<thead><tr><th scope=col>mpg</th><th scope=col>cylinders</th><th scope=col>displacement</th><th scope=col>horsepower</th><th scope=col>weight</th><th scope=col>acceleration</th><th scope=col>model.year</th><th scope=col>origin</th><th scope=col>car.name</th></tr></thead>\n",
       "<tbody>\n",
       "\t<tr><td>18                       </td><td>8                        </td><td>307                      </td><td>130.0                    </td><td>3504                     </td><td>12.0                     </td><td>70                       </td><td>1                        </td><td>chevrolet chevelle malibu</td></tr>\n",
       "\t<tr><td>15                       </td><td>8                        </td><td>350                      </td><td>165.0                    </td><td>3693                     </td><td>11.5                     </td><td>70                       </td><td>1                        </td><td>buick skylark 320        </td></tr>\n",
       "\t<tr><td>18                       </td><td>8                        </td><td>318                      </td><td>150.0                    </td><td>3436                     </td><td>11.0                     </td><td>70                       </td><td>1                        </td><td>plymouth satellite       </td></tr>\n",
       "\t<tr><td>16                       </td><td>8                        </td><td>304                      </td><td>150.0                    </td><td>3433                     </td><td>12.0                     </td><td>70                       </td><td>1                        </td><td>amc rebel sst            </td></tr>\n",
       "\t<tr><td>17                       </td><td>8                        </td><td>302                      </td><td>140.0                    </td><td>3449                     </td><td>10.5                     </td><td>70                       </td><td>1                        </td><td>ford torino              </td></tr>\n",
       "\t<tr><td>15                       </td><td>8                        </td><td>429                      </td><td>198.0                    </td><td>4341                     </td><td>10.0                     </td><td>70                       </td><td>1                        </td><td>ford galaxie 500         </td></tr>\n",
       "</tbody>\n",
       "</table>\n"
      ],
      "text/latex": [
       "\\begin{tabular}{r|lllllllll}\n",
       " mpg & cylinders & displacement & horsepower & weight & acceleration & model.year & origin & car.name\\\\\n",
       "\\hline\n",
       "\t 18                        & 8                         & 307                       & 130.0                     & 3504                      & 12.0                      & 70                        & 1                         & chevrolet chevelle malibu\\\\\n",
       "\t 15                        & 8                         & 350                       & 165.0                     & 3693                      & 11.5                      & 70                        & 1                         & buick skylark 320        \\\\\n",
       "\t 18                        & 8                         & 318                       & 150.0                     & 3436                      & 11.0                      & 70                        & 1                         & plymouth satellite       \\\\\n",
       "\t 16                        & 8                         & 304                       & 150.0                     & 3433                      & 12.0                      & 70                        & 1                         & amc rebel sst            \\\\\n",
       "\t 17                        & 8                         & 302                       & 140.0                     & 3449                      & 10.5                      & 70                        & 1                         & ford torino              \\\\\n",
       "\t 15                        & 8                         & 429                       & 198.0                     & 4341                      & 10.0                      & 70                        & 1                         & ford galaxie 500         \\\\\n",
       "\\end{tabular}\n"
      ],
      "text/plain": [
       "  mpg cylinders displacement horsepower weight acceleration model.year origin\n",
       "1 18  8         307          130.0      3504   12.0         70         1     \n",
       "2 15  8         350          165.0      3693   11.5         70         1     \n",
       "3 18  8         318          150.0      3436   11.0         70         1     \n",
       "4 16  8         304          150.0      3433   12.0         70         1     \n",
       "5 17  8         302          140.0      3449   10.5         70         1     \n",
       "6 15  8         429          198.0      4341   10.0         70         1     \n",
       "  car.name                 \n",
       "1 chevrolet chevelle malibu\n",
       "2 buick skylark 320        \n",
       "3 plymouth satellite       \n",
       "4 amc rebel sst            \n",
       "5 ford torino              \n",
       "6 ford galaxie 500         "
      ]
     },
     "metadata": {},
     "output_type": "display_data"
    }
   ],
   "source": [
    "auto_data=read.csv(\"../../../datasets/auto-mpg/auto-mpg.csv\")\n",
    "head(auto_data)"
   ]
  },
  {
   "cell_type": "code",
   "execution_count": 2,
   "metadata": {
    "collapsed": false
   },
   "outputs": [
    {
     "name": "stdout",
     "output_type": "stream",
     "text": [
      "'data.frame':\t398 obs. of  9 variables:\n",
      " $ mpg         : num  18 15 18 16 17 15 14 14 14 15 ...\n",
      " $ cylinders   : int  8 8 8 8 8 8 8 8 8 8 ...\n",
      " $ displacement: num  307 350 318 304 302 429 454 440 455 390 ...\n",
      " $ horsepower  : Factor w/ 94 levels \"?    \",\"100.0\",..: 17 35 29 29 24 42 47 46 48 40 ...\n",
      " $ weight      : int  3504 3693 3436 3433 3449 4341 4354 4312 4425 3850 ...\n",
      " $ acceleration: num  12 11.5 11 12 10.5 10 9 8.5 10 8.5 ...\n",
      " $ model.year  : int  70 70 70 70 70 70 70 70 70 70 ...\n",
      " $ origin      : int  1 1 1 1 1 1 1 1 1 1 ...\n",
      " $ car.name    : Factor w/ 305 levels \"amc ambassador brougham\",..: 50 37 232 15 162 142 55 224 242 2 ...\n"
     ]
    }
   ],
   "source": [
    "str(auto_data)"
   ]
  },
  {
   "cell_type": "markdown",
   "metadata": {},
   "source": [
    "### One way between ANOVA"
   ]
  },
  {
   "cell_type": "markdown",
   "metadata": {},
   "source": [
    "Frame null hypothesis as\n",
    "\n",
    "$H_o: $ No significant difference exist in miles per gallon among vehicles of different origin\n",
    "\n",
    "$H_1: $ Significant difference exist in miles per gallon among vehicles of different origin\n",
    "\n",
    "Use aov() function in R to test the null hypothesis whether to reject or fail to reject the null hypothesis."
   ]
  },
  {
   "cell_type": "markdown",
   "metadata": {},
   "source": [
    "Plot a graph to compare the means of mpg across groups. The independent variable should be a factor to create group wise plots. So convert the variable origin into a factor. "
   ]
  },
  {
   "cell_type": "code",
   "execution_count": 3,
   "metadata": {
    "collapsed": true
   },
   "outputs": [],
   "source": [
    "auto_data$origin=as.factor(auto_data$origin)"
   ]
  },
  {
   "cell_type": "code",
   "execution_count": 4,
   "metadata": {
    "collapsed": false
   },
   "outputs": [
    {
     "data": {},
     "metadata": {},
     "output_type": "display_data"
    },
    {
     "data": {
      "image/png": "[encoded data removed]",
      "text/plain": [
       "plot without title"
      ]
     },
     "metadata": {},
     "output_type": "display_data"
    }
   ],
   "source": [
    "library(ggplot2)\n",
    "ggplot(auto_data,aes(origin,mpg))+geom_boxplot()"
   ]
  },
  {
   "cell_type": "markdown",
   "metadata": {},
   "source": [
    "From the plot it appears average mpg for vehicles from origin 3 is higher compared to other origins and origin 1 has least average mpg."
   ]
  },
  {
   "cell_type": "code",
   "execution_count": 5,
   "metadata": {
    "collapsed": false
   },
   "outputs": [
    {
     "data": {
      "text/plain": [
       "             Df Sum Sq Mean Sq F value Pr(>F)    \n",
       "origin        2   8073    4036   98.54 <2e-16 ***\n",
       "Residuals   395  16180      41                   \n",
       "---\n",
       "Signif. codes:  0 ‘***’ 0.001 ‘**’ 0.01 ‘*’ 0.05 ‘.’ 0.1 ‘ ’ 1"
      ]
     },
     "metadata": {},
     "output_type": "display_data"
    }
   ],
   "source": [
    "# General form for aov() is aov(response ~ factor, data=data_name)\n",
    "# where response represents the response variable and factor the variable that separates the data into groups. \n",
    "# Both variables should be contained in the dataframe called data_name.\n",
    "\n",
    "fit <- aov(mpg ~ origin, data=auto_data)\n",
    "summary(fit)"
   ]
  },
  {
   "cell_type": "markdown",
   "metadata": {},
   "source": [
    "According to above results the F-statistic is 98.54 with a p-value almost equal to 0. Null hypothesis that there is no difference in smoking habits of males and females can be clearly rejected."
   ]
  },
  {
   "cell_type": "code",
   "execution_count": 6,
   "metadata": {
    "collapsed": false
   },
   "outputs": [
    {
     "data": {
      "text/plain": [
       "Tables of means\n",
       "Grand mean\n",
       "         \n",
       "23.51457 \n",
       "\n",
       " origin \n",
       "         1     2     3\n",
       "     20.08 27.89 30.45\n",
       "rep 249.00 70.00 79.00"
      ]
     },
     "metadata": {},
     "output_type": "display_data"
    }
   ],
   "source": [
    "# Show the means\n",
    "# model.tables() computes summary tables for model fits, especially complex aov fits.\n",
    "# type = \"means\" give tables of the mean response for each combinations of levels of the factors in a term.\n",
    "model.tables(fit, \"means\")"
   ]
  },
  {
   "cell_type": "markdown",
   "metadata": {},
   "source": [
    "Above function gave average mpg for 3 groups"
   ]
  },
  {
   "cell_type": "markdown",
   "metadata": {},
   "source": [
    "**Reference: **[model.tables](https://stat.ethz.ch/R-manual/R-devel/library/stats/html/model.tables.html)"
   ]
  },
  {
   "cell_type": "markdown",
   "metadata": {},
   "source": [
    "### Two way between ANOVA\n",
    "\n",
    "mpg is explained by origin, horsepower and also by the interaction between them."
   ]
  },
  {
   "cell_type": "code",
   "execution_count": 7,
   "metadata": {
    "collapsed": false
   },
   "outputs": [
    {
     "data": {
      "text/plain": [
       "                   Df Sum Sq Mean Sq F value  Pr(>F)    \n",
       "origin              2   8073    4036 312.257 < 2e-16 ***\n",
       "horsepower         93  11854     127   9.861 < 2e-16 ***\n",
       "origin:horsepower  38    913      24   1.858 0.00273 ** \n",
       "Residuals         264   3413      13                    \n",
       "---\n",
       "Signif. codes:  0 ‘***’ 0.001 ‘**’ 0.01 ‘*’ 0.05 ‘.’ 0.1 ‘ ’ 1"
      ]
     },
     "metadata": {},
     "output_type": "display_data"
    }
   ],
   "source": [
    "# Two Way Factorial Design \n",
    "\n",
    "# Independent variable: origin\n",
    "# Independent variable: horsepower\n",
    "# Dependent variable: mpg\n",
    "\n",
    "# There are two different ways of performing 2-way anova. Below two calls are equivalent\n",
    "fit2 <- aov(mpg ~ origin*horsepower, data=auto_data)\n",
    "summary(fit2)"
   ]
  },
  {
   "cell_type": "markdown",
   "metadata": {},
   "source": [
    "### Multiple comparisons"
   ]
  },
  {
   "cell_type": "markdown",
   "metadata": {},
   "source": [
    "The ANOVA F-test tells whether there are significant differences in the K population means. It does not tell us anything about  how they differ. pairwise.t.test function computes the pair-wise comparisons between group means with corrections for multiple testing. Its Usage is : \n",
    "\n",
    "**pairwise.t.test(reponse, factor, p.adjust = method, alternative = c(\"two.sided\",\"less\", \"greater\"))**\n",
    "\n",
    "\n",
    "Here, p.adjust is the correction method (e.g., “Bonferroni”).\n",
    "\n",
    "**Reference: **[pairwise.t.test](http://stat.ethz.ch/R-manual/R-devel/library/stats/html/pairwise.t.test.html)"
   ]
  },
  {
   "cell_type": "code",
   "execution_count": 8,
   "metadata": {
    "collapsed": false
   },
   "outputs": [
    {
     "name": "stdout",
     "output_type": "stream",
     "text": [
      "'data.frame':\t398 obs. of  9 variables:\n",
      " $ mpg         : num  18 15 18 16 17 15 14 14 14 15 ...\n",
      " $ cylinders   : int  8 8 8 8 8 8 8 8 8 8 ...\n",
      " $ displacement: num  307 350 318 304 302 429 454 440 455 390 ...\n",
      " $ horsepower  : Factor w/ 94 levels \"?    \",\"100.0\",..: 17 35 29 29 24 42 47 46 48 40 ...\n",
      " $ weight      : int  3504 3693 3436 3433 3449 4341 4354 4312 4425 3850 ...\n",
      " $ acceleration: num  12 11.5 11 12 10.5 10 9 8.5 10 8.5 ...\n",
      " $ model.year  : int  70 70 70 70 70 70 70 70 70 70 ...\n",
      " $ origin      : Factor w/ 3 levels \"1\",\"2\",\"3\": 1 1 1 1 1 1 1 1 1 1 ...\n",
      " $ car.name    : Factor w/ 305 levels \"amc ambassador brougham\",..: 50 37 232 15 162 142 55 224 242 2 ...\n"
     ]
    }
   ],
   "source": [
    "str(auto_data)"
   ]
  },
  {
   "cell_type": "code",
   "execution_count": 9,
   "metadata": {
    "collapsed": false
   },
   "outputs": [
    {
     "data": {
      "text/plain": [
       "\n",
       "\tPairwise comparisons using t tests with pooled SD \n",
       "\n",
       "data:  auto_data$mpg and auto_data$origin \n",
       "\n",
       "  1      2    \n",
       "2 <2e-16 -    \n",
       "3 <2e-16 0.046\n",
       "\n",
       "P value adjustment method: bonferroni "
      ]
     },
     "metadata": {},
     "output_type": "display_data"
    }
   ],
   "source": [
    "pairwise.t.test(auto_data$mpg, auto_data$origin,p.adjust=\"bonferroni\")"
   ]
  },
  {
   "cell_type": "markdown",
   "metadata": {},
   "source": [
    "The above table shows there is a good difference in means between origins 2 and 3 with a p-value of 0.046., but both are significantly different from origin 1 with p-values almost equal to 0. We can confidently say that the average mpg is significantly different for origin 1."
   ]
  },
  {
   "cell_type": "markdown",
   "metadata": {
    "collapsed": true
   },
   "source": [
    "Tukey's method also known as Tukey's Honest Significance Test is another multiple comparisons procedure. TukeyHSD() creates a set of confidence intervals on the differences between means with the specified family-wise probability of coverage. The general form is **TukeyHSD(x, conf.level = 0.95)** where **x** is a fitted model object."
   ]
  },
  {
   "cell_type": "code",
   "execution_count": 10,
   "metadata": {
    "collapsed": false
   },
   "outputs": [
    {
     "data": {
      "text/plain": [
       "  Tukey multiple comparisons of means\n",
       "    95% family-wise confidence level\n",
       "\n",
       "Fit: aov(formula = mpg ~ origin, data = auto_data)\n",
       "\n",
       "$origin\n",
       "         diff        lwr       upr     p adj\n",
       "2-1  7.807894 5.77095169  9.844837 0.0000000\n",
       "3-1 10.367099 8.42283190 12.311366 0.0000000\n",
       "3-2  2.559204 0.08769223  5.030716 0.0404341\n"
      ]
     },
     "metadata": {},
     "output_type": "display_data"
    }
   ],
   "source": [
    "Tukey = TukeyHSD(fit, conf.level = 0.95)\n",
    "Tukey"
   ]
  },
  {
   "cell_type": "code",
   "execution_count": 11,
   "metadata": {
    "collapsed": false
   },
   "outputs": [
    {
     "data": {
      "image/png": "[encoded data removed]",
      "text/plain": [
       "Plot with title “95% family-wise confidence level\n",
       "”"
      ]
     },
     "metadata": {},
     "output_type": "display_data"
    }
   ],
   "source": [
    "#  graphical representation of the multiple confidence intervals\n",
    "plot(Tukey)"
   ]
  },
  {
   "cell_type": "markdown",
   "metadata": {},
   "source": [
    "The above results show that 2-1 and 3-1 differences are significant with p values equal to zero, while 3-2 difference is large with p=0.04."
   ]
  },
  {
   "cell_type": "markdown",
   "metadata": {},
   "source": [
    "### ANOVAs with within-subjects variables\n",
    "\n",
    "\n",
    "#### One-way within ANOVA"
   ]
  },
  {
   "cell_type": "markdown",
   "metadata": {},
   "source": [
    "Generate test data for testing within subjects anova"
   ]
  },
  {
   "cell_type": "code",
   "execution_count": 12,
   "metadata": {
    "collapsed": true
   },
   "outputs": [],
   "source": [
    "groceries = read.table(header=TRUE,text='\n",
    "subject            storeA  storeB  storeC  storeD\n",
    "lettuce              1.17    1.78    1.29    1.29\n",
    "potatoes             1.77    1.98    1.99    1.99\n",
    "milk                 1.49    1.69    1.79    1.59\n",
    "eggs                 0.65    0.99    0.69    1.09\n",
    "bread                1.58    1.70    1.89    1.89\n",
    "cereal               3.13    3.15    2.99    3.09\n",
    "ground.beef          2.09    1.88    2.09    2.49\n",
    "tomato.soup          0.62    0.65    0.65    0.69\n",
    "laundry.detergent    5.89    5.99    5.99    6.99\n",
    "aspirin              4.46    4.84    4.99    5.15')"
   ]
  },
  {
   "cell_type": "code",
   "execution_count": 13,
   "metadata": {
    "collapsed": false
   },
   "outputs": [
    {
     "data": {
      "text/html": [
       "<table>\n",
       "<thead><tr><th scope=col>subject</th><th scope=col>storeA</th><th scope=col>storeB</th><th scope=col>storeC</th><th scope=col>storeD</th></tr></thead>\n",
       "<tbody>\n",
       "\t<tr><td>lettuce </td><td>1.17    </td><td>1.78    </td><td>1.29    </td><td>1.29    </td></tr>\n",
       "\t<tr><td>potatoes</td><td>1.77    </td><td>1.98    </td><td>1.99    </td><td>1.99    </td></tr>\n",
       "\t<tr><td>milk    </td><td>1.49    </td><td>1.69    </td><td>1.79    </td><td>1.59    </td></tr>\n",
       "\t<tr><td>eggs    </td><td>0.65    </td><td>0.99    </td><td>0.69    </td><td>1.09    </td></tr>\n",
       "\t<tr><td>bread   </td><td>1.58    </td><td>1.70    </td><td>1.89    </td><td>1.89    </td></tr>\n",
       "\t<tr><td>cereal  </td><td>3.13    </td><td>3.15    </td><td>2.99    </td><td>3.09    </td></tr>\n",
       "</tbody>\n",
       "</table>\n"
      ],
      "text/latex": [
       "\\begin{tabular}{r|lllll}\n",
       " subject & storeA & storeB & storeC & storeD\\\\\n",
       "\\hline\n",
       "\t lettuce  & 1.17     & 1.78     & 1.29     & 1.29    \\\\\n",
       "\t potatoes & 1.77     & 1.98     & 1.99     & 1.99    \\\\\n",
       "\t milk     & 1.49     & 1.69     & 1.79     & 1.59    \\\\\n",
       "\t eggs     & 0.65     & 0.99     & 0.69     & 1.09    \\\\\n",
       "\t bread    & 1.58     & 1.70     & 1.89     & 1.89    \\\\\n",
       "\t cereal   & 3.13     & 3.15     & 2.99     & 3.09    \\\\\n",
       "\\end{tabular}\n"
      ],
      "text/plain": [
       "  subject  storeA storeB storeC storeD\n",
       "1 lettuce  1.17   1.78   1.29   1.29  \n",
       "2 potatoes 1.77   1.98   1.99   1.99  \n",
       "3 milk     1.49   1.69   1.79   1.59  \n",
       "4 eggs     0.65   0.99   0.69   1.09  \n",
       "5 bread    1.58   1.70   1.89   1.89  \n",
       "6 cereal   3.13   3.15   2.99   3.09  "
      ]
     },
     "metadata": {},
     "output_type": "display_data"
    }
   ],
   "source": [
    "head(groceries)"
   ]
  },
  {
   "cell_type": "code",
   "execution_count": 14,
   "metadata": {
    "collapsed": false
   },
   "outputs": [
    {
     "name": "stdout",
     "output_type": "stream",
     "text": [
      "'data.frame':\t10 obs. of  5 variables:\n",
      " $ subject: Factor w/ 10 levels \"aspirin\",\"bread\",..: 7 9 8 4 2 3 5 10 6 1\n",
      " $ storeA : num  1.17 1.77 1.49 0.65 1.58 3.13 2.09 0.62 5.89 4.46\n",
      " $ storeB : num  1.78 1.98 1.69 0.99 1.7 3.15 1.88 0.65 5.99 4.84\n",
      " $ storeC : num  1.29 1.99 1.79 0.69 1.89 2.99 2.09 0.65 5.99 4.99\n",
      " $ storeD : num  1.29 1.99 1.59 1.09 1.89 3.09 2.49 0.69 6.99 5.15\n"
     ]
    }
   ],
   "source": [
    "str(groceries)"
   ]
  },
  {
   "cell_type": "markdown",
   "metadata": {
    "collapsed": true
   },
   "source": [
    "For performing within-subjects ANOVA with a variable, the data should be in long format, why?\n",
    "\n",
    "Because the response variable in this case is the price of the items which is listed in four columns(**wide format**). Each of this variables needs to be in ONE column(**long format**) of the data frame in order to use the aov() function.\n",
    "\n",
    "Above data is in wide format. We have to convert it to long format first. Also, for there must be an identifier column for within subjects ANOVA. In this case, it is subject. This identifier variable must be a factor."
   ]
  },
  {
   "cell_type": "code",
   "execution_count": 15,
   "metadata": {
    "collapsed": false
   },
   "outputs": [
    {
     "name": "stderr",
     "output_type": "stream",
     "text": [
      "Warning message in stack.data.frame(groceries):\n",
      "“non-vector columns will be ignored”"
     ]
    }
   ],
   "source": [
    "groceries_stacked = stack(groceries)     # Stack the variables StoreA, storeB, storeC and store D\n",
    "groceries_stacked$subject = rep(rownames(groceries), 4)    # create the \"subject\" variable and repeat the names of groceries\n",
    "                                                           # 4 times for 4 store variables stacked.\n",
    "groceries_stacked$subject = factor(groceries_stacked$subject)            # Convert subject variable to a factor.\n",
    "colnames(groceries_stacked) = c(\"price\", \"store\", \"subject\")  # Gives names to the columns of dataframe groceries_stacked "
   ]
  },
  {
   "cell_type": "markdown",
   "metadata": {},
   "source": [
    "**Reference: **[stack() to stack data](https://stat.ethz.ch/R-manual/R-devel/library/utils/html/stack.html)"
   ]
  },
  {
   "cell_type": "code",
   "execution_count": 16,
   "metadata": {
    "collapsed": false
   },
   "outputs": [
    {
     "data": {
      "text/html": [
       "<table>\n",
       "<thead><tr><th scope=col>price</th><th scope=col>store</th><th scope=col>subject</th></tr></thead>\n",
       "<tbody>\n",
       "\t<tr><td>1.17  </td><td>storeA</td><td>1     </td></tr>\n",
       "\t<tr><td>1.77  </td><td>storeA</td><td>2     </td></tr>\n",
       "\t<tr><td>1.49  </td><td>storeA</td><td>3     </td></tr>\n",
       "\t<tr><td>0.65  </td><td>storeA</td><td>4     </td></tr>\n",
       "\t<tr><td>1.58  </td><td>storeA</td><td>5     </td></tr>\n",
       "\t<tr><td>3.13  </td><td>storeA</td><td>6     </td></tr>\n",
       "</tbody>\n",
       "</table>\n"
      ],
      "text/latex": [
       "\\begin{tabular}{r|lll}\n",
       " price & store & subject\\\\\n",
       "\\hline\n",
       "\t 1.17   & storeA & 1     \\\\\n",
       "\t 1.77   & storeA & 2     \\\\\n",
       "\t 1.49   & storeA & 3     \\\\\n",
       "\t 0.65   & storeA & 4     \\\\\n",
       "\t 1.58   & storeA & 5     \\\\\n",
       "\t 3.13   & storeA & 6     \\\\\n",
       "\\end{tabular}\n"
      ],
      "text/plain": [
       "  price store  subject\n",
       "1 1.17  storeA 1      \n",
       "2 1.77  storeA 2      \n",
       "3 1.49  storeA 3      \n",
       "4 0.65  storeA 4      \n",
       "5 1.58  storeA 5      \n",
       "6 3.13  storeA 6      "
      ]
     },
     "metadata": {},
     "output_type": "display_data"
    }
   ],
   "source": [
    "head(groceries_stacked)"
   ]
  },
  {
   "cell_type": "markdown",
   "metadata": {
    "collapsed": true
   },
   "source": [
    "Now that we have the prices of all groceries stacked in a column, we can answer the question which store should we shop at."
   ]
  },
  {
   "cell_type": "code",
   "execution_count": 17,
   "metadata": {
    "collapsed": false
   },
   "outputs": [
    {
     "data": {
      "text/html": [
       "<table>\n",
       "<thead><tr><th scope=col>storeA</th><th scope=col>storeB</th><th scope=col>storeC</th><th scope=col>storeD</th></tr></thead>\n",
       "<tbody>\n",
       "\t<tr><td>22.85</td><td>24.65</td><td>24.36</td><td>26.26</td></tr>\n",
       "</tbody>\n",
       "</table>\n"
      ],
      "text/latex": [
       "\\begin{tabular}{llll}\n",
       " storeA & storeB & storeC & storeD\\\\\n",
       "\\hline\n",
       "\t 22.85 & 24.65 & 24.36 & 26.26\\\\\n",
       "\\end{tabular}\n"
      ],
      "text/markdown": [
       "1. 22.85\n",
       "2. 24.65\n",
       "3. 24.36\n",
       "4. 26.26\n",
       "\n",
       "\n"
      ],
      "text/plain": [
       "     storeA storeB storeC storeD\n",
       "[1,] 22.85  24.65  24.36  26.26 "
      ]
     },
     "metadata": {},
     "output_type": "display_data"
    }
   ],
   "source": [
    "with(groceries_stacked, t(tapply(price, store, sum)))"
   ]
  },
  {
   "cell_type": "markdown",
   "metadata": {},
   "source": [
    "For the items in the sample, storeA had the lowest prices. We have to generalize our assertion that this prices difference from storeA holds up in general. An Error term should be supplied, that reflects the fact that the \"treatments are nested within subjects.\", that is the \"store\" effect within each and every \"subject\" (grocery item) can be seen."
   ]
  },
  {
   "cell_type": "code",
   "execution_count": 18,
   "metadata": {
    "collapsed": false
   },
   "outputs": [
    {
     "data": {
      "text/plain": [
       "\n",
       "Error: subject\n",
       "          Df Sum Sq Mean Sq F value Pr(>F)\n",
       "Residuals  9  115.2    12.8               \n",
       "\n",
       "Error: subject:store\n",
       "          Df Sum Sq Mean Sq F value Pr(>F)  \n",
       "store      3 0.5859 0.19529   4.344 0.0127 *\n",
       "Residuals 27 1.2137 0.04495                 \n",
       "---\n",
       "Signif. codes:  0 ‘***’ 0.001 ‘**’ 0.01 ‘*’ 0.05 ‘.’ 0.1 ‘ ’ 1"
      ]
     },
     "metadata": {},
     "output_type": "display_data"
    }
   ],
   "source": [
    "aov_within = aov(price ~ store + Error(subject/store), data=groceries_stacked)\n",
    "summary(aov_within)"
   ]
  },
  {
   "cell_type": "markdown",
   "metadata": {
    "collapsed": true
   },
   "source": [
    "The p-value of 0.0127 suggests the prices in stores are different. Store and subject are the sources of variability. We are interested in the effect of \"store\". This variable effect is visible within each subject i.e., nested within each subject. So the Error term is \"subject/store\", which is read as \"store within subject.\" Once all the \"subject\" variability is taken out, we are left with the main effect that is from \"store\"."
   ]
  },
  {
   "cell_type": "code",
   "execution_count": 19,
   "metadata": {
    "collapsed": false
   },
   "outputs": [
    {
     "data": {
      "text/plain": [
       "\n",
       "\tPairwise comparisons using paired t tests \n",
       "\n",
       "data:  price and store \n",
       "\n",
       "       storeA storeB storeC\n",
       "storeB 0.033  -      -     \n",
       "storeC 0.035  0.695  -     \n",
       "storeD 0.012  0.245  0.110 \n",
       "\n",
       "P value adjustment method: none "
      ]
     },
     "metadata": {},
     "output_type": "display_data"
    }
   ],
   "source": [
    "with(groceries_stacked, pairwise.t.test(x=price, g=store, p.adjust.method=\"none\", paired=T))"
   ]
  },
  {
   "cell_type": "markdown",
   "metadata": {},
   "source": [
    "Pairwise.t.test suggests all stores have different prices and show some variation in the data. "
   ]
  }
 ],
 "metadata": {
  "kernelspec": {
   "display_name": "R",
   "language": "R",
   "name": "ir"
  },
  "language_info": {
   "codemirror_mode": "r",
   "file_extension": ".r",
   "mimetype": "text/x-r-source",
   "name": "R",
   "pygments_lexer": "r",
   "version": "3.3.1"
  }
 },
 "nbformat": 4,
 "nbformat_minor": 0
}
