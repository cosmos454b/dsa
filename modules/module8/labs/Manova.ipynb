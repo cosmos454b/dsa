{
 "cells": [
  {
   "cell_type": "markdown",
   "metadata": {},
   "source": [
    "## Manova\n",
    "\n",
    "The difference between ANOVA and MANOVA(Multivariate Analysis of Variance) is that MANOVA deals with more than two or more dependent variables for variance analysis. Like ANOVA, MANOVA has both a one-way and a two-way analysis. The number of factor variables involved distinguish a one-way MANOVA from a two-way MANOVA. "
   ]
  },
  {
   "cell_type": "markdown",
   "metadata": {},
   "source": [
    "In below example, the Null hypothesis is that the two-dimensional mean-vector of water hardness and mortality is the same for cities in the North and the South. It can be tested by Hotelling-Lawley test in MANOVA. The R function manova can be used to fit such a model. The corresponding summary method performs the test specified by the test argument. "
   ]
  },
  {
   "cell_type": "markdown",
   "metadata": {},
   "source": [
    "The water hardness and mortality data for 61 large towns in England and Wales can be obtained from HSAUR package in R."
   ]
  },
  {
   "cell_type": "code",
   "execution_count": 1,
   "metadata": {
    "collapsed": false
   },
   "outputs": [
    {
     "ename": "ERROR",
     "evalue": "Error in library(HSAUR): there is no package called ‘HSAUR’\n",
     "output_type": "error",
     "traceback": [
      "Error in library(HSAUR): there is no package called ‘HSAUR’\nTraceback:\n",
      "1. library(HSAUR)",
      "2. stop(txt, domain = NA)"
     ]
    }
   ],
   "source": [
    "library(HSAUR)\n",
    "data(\"water\", package = \"HSAUR\")\n",
    "head(water)\n",
    "str(water)"
   ]
  },
  {
   "cell_type": "code",
   "execution_count": null,
   "metadata": {
    "collapsed": false
   },
   "outputs": [],
   "source": [
    "summary(manova(cbind(hardness, mortality) ~ location, data = water), test = \"Hotelling-Lawley\")"
   ]
  },
  {
   "cell_type": "markdown",
   "metadata": {},
   "source": [
    "The cbind statement combines hardness and mortality into a multivariate response variable to be modelled. The p-value associated with the Hotelling-Lawley statistic is very small. It indicates a strong evidence that the mean vectors of the two variables are not the same in the two regions."
   ]
  },
  {
   "cell_type": "code",
   "execution_count": null,
   "metadata": {
    "collapsed": false
   },
   "outputs": [],
   "source": [
    "t(tapply(water$hardness, water$location, mean))"
   ]
  },
  {
   "cell_type": "code",
   "execution_count": null,
   "metadata": {
    "collapsed": false
   },
   "outputs": [],
   "source": [
    "t(tapply(water$mortality, water$location, mean))"
   ]
  },
  {
   "cell_type": "markdown",
   "metadata": {},
   "source": [
    "There is large differences in the two regions in both water hardness and mortality, where low mortality is associated with hard water in the South and high mortality with soft water in the North"
   ]
  },
  {
   "cell_type": "code",
   "execution_count": null,
   "metadata": {
    "collapsed": false
   },
   "outputs": [],
   "source": [
    "summary(manova(cbind(hardness, mortality) ~ location+town, data = water), test = \"Hotelling-Lawley\")"
   ]
  },
  {
   "cell_type": "code",
   "execution_count": null,
   "metadata": {
    "collapsed": false
   },
   "outputs": [],
   "source": [
    "auto_data=read.csv(\"../../../datasets/auto-mpg/auto-mpg.csv\")\n",
    "head(auto_data)"
   ]
  },
  {
   "cell_type": "code",
   "execution_count": null,
   "metadata": {
    "collapsed": false
   },
   "outputs": [],
   "source": [
    "str(auto_data)\n",
    "auto_data$origin = factor(auto_data$origin)"
   ]
  },
  {
   "cell_type": "code",
   "execution_count": null,
   "metadata": {
    "collapsed": false
   },
   "outputs": [],
   "source": [
    "summary(manova(cbind(mpg, cylinders, displacement,weight,acceleration) ~ origin * horsepower, \n",
    "               data = auto_data), test = \"Hotelling-Lawley\")"
   ]
  },
  {
   "cell_type": "markdown",
   "metadata": {},
   "source": [
    "Again the p-values indicates the mean values of the groups formed by the factors origin and horsepower are different. There is large differences in the two regions in both water hardness and mortality, where low mortality is associated with hard water in the South and high mortality with soft water in the North"
   ]
  },
  {
   "cell_type": "code",
   "execution_count": null,
   "metadata": {
    "collapsed": false
   },
   "outputs": [],
   "source": [
    "print('mpg vs origin')\n",
    "t(tapply(auto_data$mpg, auto_data$origin, mean))\n",
    "\n",
    "print('cylinders vs origin')\n",
    "t(tapply(auto_data$cylinders, auto_data$origin, mean))\n",
    "\n",
    "print('displacement vs origin')\n",
    "t(tapply(auto_data$displacement, auto_data$origin, mean))\n",
    "\n",
    "print('weight vs origin')\n",
    "t(tapply(auto_data$weight, auto_data$origin, mean))\n",
    "\n",
    "print('acceleration vs origin')\n",
    "t(tapply(auto_data$acceleration, auto_data$origin, mean))"
   ]
  },
  {
   "cell_type": "markdown",
   "metadata": {},
   "source": [
    "The mean values of each group corresponding to 3 origins are different in most of the cases. They vary a lot in mpg, displacement, weight and acceleration. origin 1 vehicles are significantly different than origin 2 and 3 vehicles w.r.t to cylinders but vehicles from origin 2 and 3 have similar mean value. \n",
    "\n",
    "All variables look significant in this dataset since all variables have variation in the data. All variables can be used when building a model on this dataset. ANOVA and MANOVA will help you make this decision by analyzing the amount of variation that exists in a variable. If there is no variation in variable data it is essentially not contributing anything when predicting the dependent variable. So it cant be excluded from model fitting. "
   ]
  }
 ],
 "metadata": {
  "kernelspec": {
   "display_name": "R",
   "language": "R",
   "name": "ir"
  },
  "language_info": {
   "codemirror_mode": "r",
   "file_extension": ".r",
   "mimetype": "text/x-r-source",
   "name": "R",
   "pygments_lexer": "r",
   "version": "3.3.1"
  }
 },
 "nbformat": 4,
 "nbformat_minor": 0
}
