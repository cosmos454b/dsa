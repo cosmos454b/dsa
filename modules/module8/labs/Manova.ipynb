{
 "cells": [
  {
   "cell_type": "markdown",
   "metadata": {},
   "source": [
    "## Manova\n",
    "\n",
    "The difference between ANOVA and MANOVA(Multivariate Analysis of Variance) is that MANOVA deals with more than two or more dependent variables for variance analysis. Like ANOVA, MANOVA has both a one-way and a two-way analysis. The number of factor variables involved distinguish a one-way MANOVA from a two-way MANOVA. "
   ]
  },
  {
   "cell_type": "markdown",
   "metadata": {},
   "source": [
    "In below example, the Null hypothesis is that the two-dimensional mean-vector of water hardness and mortality is the same for cities in the North and the South. It can be tested by Hotelling-Lawley test in MANOVA. The R function manova can be used to fit such a model. The corresponding summary method performs the test specified by the test argument. "
   ]
  },
  {
   "cell_type": "markdown",
   "metadata": {},
   "source": [
    "The water hardness and mortality data for 61 large towns in England and Wales can be obtained from HSAUR package in R."
   ]
  },
  {
   "cell_type": "code",
   "execution_count": 1,
   "metadata": {
    "collapsed": false
   },
   "outputs": [
    {
     "name": "stderr",
     "output_type": "stream",
     "text": [
      "Loading required package: tools\n"
     ]
    },
    {
     "data": {
      "text/html": [
       "<table>\n",
       "<thead><tr><th scope=col>location</th><th scope=col>town</th><th scope=col>mortality</th><th scope=col>hardness</th></tr></thead>\n",
       "<tbody>\n",
       "\t<tr><td>South     </td><td>Bath      </td><td>1247      </td><td>105       </td></tr>\n",
       "\t<tr><td>North     </td><td>Birkenhead</td><td>1668      </td><td> 17       </td></tr>\n",
       "\t<tr><td>South     </td><td>Birmingham</td><td>1466      </td><td>  5       </td></tr>\n",
       "\t<tr><td>North     </td><td>Blackburn </td><td>1800      </td><td> 14       </td></tr>\n",
       "\t<tr><td>North     </td><td>Blackpool </td><td>1609      </td><td> 18       </td></tr>\n",
       "\t<tr><td>North     </td><td>Bolton    </td><td>1558      </td><td> 10       </td></tr>\n",
       "</tbody>\n",
       "</table>\n"
      ],
      "text/latex": [
       "\\begin{tabular}{r|llll}\n",
       " location & town & mortality & hardness\\\\\n",
       "\\hline\n",
       "\t South      & Bath       & 1247       & 105       \\\\\n",
       "\t North      & Birkenhead & 1668       &  17       \\\\\n",
       "\t South      & Birmingham & 1466       &   5       \\\\\n",
       "\t North      & Blackburn  & 1800       &  14       \\\\\n",
       "\t North      & Blackpool  & 1609       &  18       \\\\\n",
       "\t North      & Bolton     & 1558       &  10       \\\\\n",
       "\\end{tabular}\n"
      ],
      "text/plain": [
       "  location town       mortality hardness\n",
       "1 South    Bath       1247      105     \n",
       "2 North    Birkenhead 1668       17     \n",
       "3 South    Birmingham 1466        5     \n",
       "4 North    Blackburn  1800       14     \n",
       "5 North    Blackpool  1609       18     \n",
       "6 North    Bolton     1558       10     "
      ]
     },
     "metadata": {},
     "output_type": "display_data"
    },
    {
     "name": "stdout",
     "output_type": "stream",
     "text": [
      "'data.frame':\t61 obs. of  4 variables:\n",
      " $ location : Factor w/ 2 levels \"North\",\"South\": 2 1 2 1 1 1 1 2 1 2 ...\n",
      " $ town     : chr  \"Bath\" \"Birkenhead\" \"Birmingham\" \"Blackburn\" ...\n",
      " $ mortality: int  1247 1668 1466 1800 1609 1558 1807 1299 1637 1359 ...\n",
      " $ hardness : int  105 17 5 14 18 10 15 78 10 84 ...\n"
     ]
    }
   ],
   "source": [
    "library(HSAUR)\n",
    "data(\"water\", package = \"HSAUR\")\n",
    "head(water)\n",
    "str(water)"
   ]
  },
  {
   "cell_type": "code",
   "execution_count": 2,
   "metadata": {
    "collapsed": false
   },
   "outputs": [
    {
     "data": {
      "text/plain": [
       "          Df Hotelling-Lawley approx F num Df den Df    Pr(>F)    \n",
       "location   1          0.90021   26.106      2     58 8.217e-09 ***\n",
       "Residuals 59                                                      \n",
       "---\n",
       "Signif. codes:  0 ‘***’ 0.001 ‘**’ 0.01 ‘*’ 0.05 ‘.’ 0.1 ‘ ’ 1"
      ]
     },
     "metadata": {},
     "output_type": "display_data"
    }
   ],
   "source": [
    "summary(manova(cbind(hardness, mortality) ~ location, data = water), test = \"Hotelling-Lawley\")"
   ]
  },
  {
   "cell_type": "markdown",
   "metadata": {},
   "source": [
    "The cbind statement combines hardness and mortality into a multivariate response variable to be modelled. The p-value associated with the Hotelling-Lawley statistic is very small. It indicates a strong evidence that the mean vectors of the two variables are not the same in the two regions."
   ]
  },
  {
   "cell_type": "code",
   "execution_count": 3,
   "metadata": {
    "collapsed": false
   },
   "outputs": [
    {
     "data": {
      "text/html": [
       "<table>\n",
       "<thead><tr><th scope=col>North</th><th scope=col>South</th></tr></thead>\n",
       "<tbody>\n",
       "\t<tr><td>30.4    </td><td>69.76923</td></tr>\n",
       "</tbody>\n",
       "</table>\n"
      ],
      "text/latex": [
       "\\begin{tabular}{ll}\n",
       " North & South\\\\\n",
       "\\hline\n",
       "\t 30.4     & 69.76923\\\\\n",
       "\\end{tabular}\n"
      ],
      "text/markdown": [
       "1. 30.4\n",
       "2. 69.7692307692308\n",
       "\n",
       "\n"
      ],
      "text/plain": [
       "     North South   \n",
       "[1,] 30.4  69.76923"
      ]
     },
     "metadata": {},
     "output_type": "display_data"
    }
   ],
   "source": [
    "t(tapply(water$hardness, water$location, mean))"
   ]
  },
  {
   "cell_type": "code",
   "execution_count": 4,
   "metadata": {
    "collapsed": false
   },
   "outputs": [
    {
     "data": {
      "text/html": [
       "<table>\n",
       "<thead><tr><th scope=col>North</th><th scope=col>South</th></tr></thead>\n",
       "<tbody>\n",
       "\t<tr><td>1633.6  </td><td>1376.808</td></tr>\n",
       "</tbody>\n",
       "</table>\n"
      ],
      "text/latex": [
       "\\begin{tabular}{ll}\n",
       " North & South\\\\\n",
       "\\hline\n",
       "\t 1633.6   & 1376.808\\\\\n",
       "\\end{tabular}\n"
      ],
      "text/markdown": [
       "1. 1633.6\n",
       "2. 1376.80769230769\n",
       "\n",
       "\n"
      ],
      "text/plain": [
       "     North  South   \n",
       "[1,] 1633.6 1376.808"
      ]
     },
     "metadata": {},
     "output_type": "display_data"
    }
   ],
   "source": [
    "t(tapply(water$mortality, water$location, mean))"
   ]
  },
  {
   "cell_type": "markdown",
   "metadata": {},
   "source": [
    "There is large differences in the two regions in both water hardness and mortality, where low mortality is associated with hard water in the South and high mortality with soft water in the North"
   ]
  },
  {
   "cell_type": "code",
   "execution_count": 5,
   "metadata": {
    "collapsed": false
   },
   "outputs": [
    {
     "data": {
      "text/plain": [
       "No error degrees of freedom\n",
       "\n",
       "         Df\n",
       "location  1\n",
       "town     59"
      ]
     },
     "metadata": {},
     "output_type": "display_data"
    }
   ],
   "source": [
    "summary(manova(cbind(hardness, mortality) ~ location+town, data = water), test = \"Hotelling-Lawley\")"
   ]
  },
  {
   "cell_type": "code",
   "execution_count": null,
   "metadata": {
    "collapsed": false
   },
   "outputs": [],
   "source": [
    "auto_data=read.csv(\"../../../datasets/auto-mpg/auto-mpg.csv\")\n",
    "head(auto_data)"
   ]
  },
  {
   "cell_type": "code",
   "execution_count": null,
   "metadata": {
    "collapsed": false
   },
   "outputs": [],
   "source": [
    "str(auto_data)\n",
    "auto_data$origin = factor(auto_data$origin)"
   ]
  },
  {
   "cell_type": "code",
   "execution_count": null,
   "metadata": {
    "collapsed": false
   },
   "outputs": [],
   "source": [
    "summary(manova(cbind(mpg, cylinders, displacement,weight,acceleration) ~ origin * horsepower, \n",
    "               data = auto_data), test = \"Hotelling-Lawley\")"
   ]
  },
  {
   "cell_type": "markdown",
   "metadata": {},
   "source": [
    "Again the p-values indicates the mean values of the groups formed by the factors origin and horsepower are different. There is large differences in the two regions in both water hardness and mortality, where low mortality is associated with hard water in the South and high mortality with soft water in the North"
   ]
  },
  {
   "cell_type": "code",
   "execution_count": null,
   "metadata": {
    "collapsed": false
   },
   "outputs": [],
   "source": [
    "print('mpg vs origin')\n",
    "t(tapply(auto_data$mpg, auto_data$origin, mean))\n",
    "\n",
    "print('cylinders vs origin')\n",
    "t(tapply(auto_data$cylinders, auto_data$origin, mean))\n",
    "\n",
    "print('displacement vs origin')\n",
    "t(tapply(auto_data$displacement, auto_data$origin, mean))\n",
    "\n",
    "print('weight vs origin')\n",
    "t(tapply(auto_data$weight, auto_data$origin, mean))\n",
    "\n",
    "print('acceleration vs origin')\n",
    "t(tapply(auto_data$acceleration, auto_data$origin, mean))"
   ]
  },
  {
   "cell_type": "markdown",
   "metadata": {},
   "source": [
    "The mean values of each group corresponding to 3 origins are different in most of the cases. They vary a lot in mpg, displacement, weight and acceleration. origin 1 vehicles are significantly different than origin 2 and 3 vehicles w.r.t to cylinders but vehicles from origin 2 and 3 have similar mean value. \n",
    "\n",
    "All variables look significant in this dataset since all variables have variation in the data. All variables can be used when building a model on this dataset. ANOVA and MANOVA will help you make this decision by analyzing the amount of variation that exists in a variable. If there is no variation in variable data it is essentially not contributing anything when predicting the dependent variable. So it cant be excluded from model fitting. "
   ]
  }
 ],
 "metadata": {
  "kernelspec": {
   "display_name": "R",
   "language": "R",
   "name": "ir"
  },
  "language_info": {
   "codemirror_mode": "r",
   "file_extension": ".r",
   "mimetype": "text/x-r-source",
   "name": "R",
   "pygments_lexer": "r",
   "version": "3.3.1"
  }
 },
 "nbformat": 4,
 "nbformat_minor": 0
}
