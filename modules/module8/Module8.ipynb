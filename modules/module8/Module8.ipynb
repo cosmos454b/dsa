{
 "cells": [
  {
   "cell_type": "markdown",
   "metadata": {},
   "source": [
    "# Module 8: Variance between Groups\n",
    "\n",
    "\n",
    "## Topics covered\n",
    "\n",
    "\n",
    "* Module 8 : Anova and Manova\n",
    "    * ANOVA testing ([ch 15 of ItS book](http://onlinestatbook.com/2/analysis_of_variance/ANOVA.html))\n",
    "        * Intro\n",
    "        * Analysis of variance designs\n",
    "        * Between- and within-subject factors\n",
    "        * One factor ANOVA (between subjects)\n",
    "        * Multi-factor between subjects designs\n",
    "        * Tests supplementing ANOVA\n",
    "        * within-subjects ANOVA\n",
    "    * MANOVA (Multivariate ANOVA)\n",
    "\n",
    "\n",
    "## References\n",
    "\n",
    " - [Random Forests explained](http://www.listendata.com/2014/11/random-forest-with-r.html)\n",
    " - [Decision trees vs Random Forests](https://www.analyticsvidhya.com/blog/2016/04/complete-tutorial-tree-based-modeling-scratch-in-python/)\n",
    "    \n"
   ]
  },
  {
   "cell_type": "markdown",
   "metadata": {},
   "source": [
    "## Video topics\n",
    "  - **Concept Video**: Anova vs Manova\n",
    "  - **Concept Video**: Feature Extraction using Random Forests\n",
    "  \n",
    "  \n",
    "## Labs\n",
    "  - [Anova](./labs/Anova.ipynb)\n",
    "  - [Manova](./labs/Manova.ipynb)\n",
    "  - [Random_Forests](./labs/Random_Forests.ipynb)\n",
    "\n",
    "\n",
    "## Practice Examples\n",
    "  - [Anova and Manova](./practices/ANOVA_MANOVA.ipynb)\n",
    "\n",
    "\n",
    "## Exercises\n",
    "  - [Exercises](./exercises/Exercises.ipynb)"
   ]
  },
  {
   "cell_type": "markdown",
   "metadata": {},
   "source": [
    "## Data Sets\n",
    "Path: `../../datasets/`\n",
    "\n",
    "Folder Name            | File\n",
    "-----------------------|------------\n",
    "auto-mpg               |auto-mpg.csv\n",
    "weight                 |weight.csv\n",
    "\n",
    "\n",
    "\n",
    "## Suggested Schedule\n",
    "\n",
    "### Monday\n",
    "  - **Concept Video**: Anova vs Manova\n",
    "  - **Concept Video**: Feature extraction/reduction using Random Forests\n",
    "  \n",
    "\n",
    "### Tuesday\n",
    "  - **Lab Notebooks**: \n",
    "      - Anova\n",
    "      - Manova\n",
    "      - Random_Forests\n",
    "     \n",
    "     \n",
    "  - **Practice Notebooks**: \n",
    "      - Anova\n",
    "      - Manova\n",
    "      \n",
    "\n",
    "\n",
    "### Wednesday\n",
    "  - Discussion Anova_Manova\n",
    "\n",
    "### Thursday\n",
    "  - Discussion Responses\n",
    "\n",
    "### Friday/Saturday/Sunday\n",
    "  - **Exercise**: Feature extraction/reduction using ANOVA,MANOVA and Random Forests\n"
   ]
  }
 ],
 "metadata": {
  "kernelspec": {
   "display_name": "Python 3",
   "language": "python",
   "name": "python3"
  },
  "language_info": {
   "codemirror_mode": {
    "name": "ipython",
    "version": 3
   },
   "file_extension": ".py",
   "mimetype": "text/x-python",
   "name": "python",
   "nbconvert_exporter": "python",
   "pygments_lexer": "ipython3",
   "version": "3.4.3"
  }
 },
 "nbformat": 4,
 "nbformat_minor": 1
}
