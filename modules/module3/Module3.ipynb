{
 "cells": [
  {
   "cell_type": "markdown",
   "metadata": {},
   "source": [
    "# Module 3: Multivariate Data Exploration\n",
    "\n",
    "\n",
    "## Topics covered\n",
    "\n",
    "- What happens after 3D plot with colors?  5 dimesions, etc.\n",
    "- Dimensionality Reduction\n",
    "- Feature extraction\n",
    "- Principal Component Analysis\n",
    "- Factor Analysis\n",
    "- Feature selection\n",
    "- Down selecting for visual exploration\n",
    "\n",
    "\n",
    "## Readings\n",
    "The following are the suggested readings for each topic.\n",
    "\n",
    "- [Principal Components](http://www.sthda.com/english/wiki/principal-component-analysis-the-basics-you-should-read-r-software-and-data-mining)\n",
    "- [Factor Analysis](https://www.r-bloggers.com/basic-factor-analysis-in-r/)\n",
    "- [R Tools for Multivariate Visualization, sect. Visualising multivariate data](https://cran.r-project.org/web/views/Multivariate.html)\n"
   ]
  },
  {
   "cell_type": "markdown",
   "metadata": {},
   "source": [
    "\n",
    "\n",
    "## Video topics\n",
    "  - **Concept Video**: PCA: Capturing variance in reduced dimensions\n",
    "  - **Tools Video**: Feature Reduction - PCA\n",
    "  - **Tools Video**: Feature Reduction - FA\n",
    "  \n",
    "\n",
    "## Lecture Notebooks\n",
    "  - [Multivariate Dimension Reduction](./lectures/Dimension_Reduction.ipynb)\n",
    "\n",
    "## Labs\n",
    "  - [Multivariate Visualization](./labs/Multivariate_Visualization.ipynb)\n",
    "  - [Extra R summary functions](./labs/Extra_r_summary_functions.ipynb)\n",
    "  - [Dimensionality Reduction](./labs/Dimensionality_Reduction.ipynb)\n",
    "\n",
    "\n",
    "## Practice Examples  \n",
    "  - [Multivariate Exploration](./practices/Practice_Multivariate_Exploration.ipynb)\n",
    "  - [Multivariate Reduction](./practices/Practice_Multivariate_Reduction.ipynb)\n",
    "\n",
    "## Exercises\n",
    "  - [Exercises](./exercises/Exercises.ipynb)\n",
    "  "
   ]
  },
  {
   "cell_type": "markdown",
   "metadata": {},
   "source": [
    "\n",
    "## Data Sets\n",
    "Path: `../../datasets/`\n",
    "\n",
    "Dataset Name            | File\n",
    "------------------------|------------\n",
    "crimee                  |`crime/communities_and_crime.txt`\n",
    "bikeshare               |`bikeshare/hour.csv`\n",
    "housing data            |`housing/housing.txt`\n",
    "\n",
    "\n",
    "## Suggested Schedule\n",
    "\n",
    "### Monday\n",
    "  - **Concept Video**: Challenges : Plotting above 3D\n",
    "  - **Concept Video**: Capturing variance in reduced dimensions\n",
    "  - **Concept Video**: Discovering hiden features\n",
    "  - **Concept Video**: Feature Selection\n",
    "  - **Tools Video**: 3D Plotting\n",
    "  - **Tools Video**: Feature Reduction\n",
    "  - **Tools Video**: Feature Selection\n",
    "  - Lecture Notebook : Multivariate Exploration\n",
    "\n",
    "\n",
    "### Tuesday\n",
    "  - **Lab Notebook**: Multivariate Exploration in R\n",
    "  - **Practice Notebook**: Multivariate Exploration in R Practice\n",
    "\n",
    "\n",
    "### Wednesday\n",
    "  - Discussion in the Intro Course\n",
    "\n",
    "### Thursday\n",
    "  - Discussion Responses\n",
    "\n",
    "### Friday/Saturday/Sunday\n",
    "  - **Exercise**: Multivariate data exploration Exercises\n"
   ]
  }
 ],
 "metadata": {
  "kernelspec": {
   "display_name": "Python 3",
   "language": "python",
   "name": "python3"
  },
  "language_info": {
   "codemirror_mode": {
    "name": "ipython",
    "version": 3
   },
   "file_extension": ".py",
   "mimetype": "text/x-python",
   "name": "python",
   "nbconvert_exporter": "python",
   "pygments_lexer": "ipython3",
   "version": "3.4.3"
  }
 },
 "nbformat": 4,
 "nbformat_minor": 1
}
