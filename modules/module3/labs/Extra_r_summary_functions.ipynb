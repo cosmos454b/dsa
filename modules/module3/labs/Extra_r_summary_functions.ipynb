{
 "cells": [
  {
   "cell_type": "markdown",
   "metadata": {},
   "source": [
    "# Lab 3 - Extra ways to summarize data with R\n"
   ]
  },
  {
   "cell_type": "markdown",
   "metadata": {},
   "source": [
    "## Summarizing vectors\n",
    "\n",
    "As we have seen in modules 1 and 2, vectors are summarized using measures of central tendency and variability. \n",
    "We will look into other descriptive statistics for summarizing the vectors. \n",
    "We will work with the same kings county housing porices dataset."
   ]
  },
  {
   "cell_type": "code",
   "execution_count": null,
   "metadata": {
    "collapsed": true
   },
   "outputs": [],
   "source": [
    "housing_prices <- read.csv(\"../../../datasets/house_sales_in_king_county/kc_house_data.csv\")"
   ]
  },
  {
   "cell_type": "markdown",
   "metadata": {},
   "source": [
    "apply(), lapply(), sapply(), tapply(), ddply() are some of the summarizing functions you can use to apply functions on columns.\n",
    "Let's look into each of them. "
   ]
  },
  {
   "cell_type": "code",
   "execution_count": null,
   "metadata": {
    "collapsed": false
   },
   "outputs": [],
   "source": [
    "#Apply function used to apply a function to the rows or columns of a matrix. It collapses either a row or column. \n",
    "apply(housing_prices[,!names(housing_prices) %in% c('date','colors')], 2, mean)\n",
    "\n",
    "# colMeans, rowMeans, colSums, rowSums are functions you can use if you want to do averages on a matrix columns or rows. \n",
    "# It is much quicker using this functions."
   ]
  },
  {
   "cell_type": "code",
   "execution_count": null,
   "metadata": {
    "collapsed": false
   },
   "outputs": [],
   "source": [
    "head(housing_prices)"
   ]
  },
  {
   "cell_type": "code",
   "execution_count": null,
   "metadata": {
    "collapsed": true
   },
   "outputs": [],
   "source": [
    "#Lets create a list using variables bedrooms and bathrooms of housing_prices dataset.\n",
    "x=list(housing_prices$bedrooms,housing_prices$bathrooms)"
   ]
  },
  {
   "cell_type": "code",
   "execution_count": null,
   "metadata": {
    "collapsed": false
   },
   "outputs": [],
   "source": [
    "#lapply() is used When you want to apply a function to each element of a list. A list of values is returned back for every \n",
    "#element of the list\n",
    "lapply(x, FUN = mean)"
   ]
  },
  {
   "cell_type": "code",
   "execution_count": null,
   "metadata": {
    "collapsed": false
   },
   "outputs": [],
   "source": [
    "#sapply() is used When you want to apply a function to each element of a list. In return you will get a vector rather than a list\n",
    "    \n",
    "#Since date is a factor variable. You cannot apply mean() on it. We have to exclude it from dataframe.\n",
    "sapply(housing_prices[,!names(housing_prices) %in% c('date','colors')], mean)"
   ]
  },
  {
   "cell_type": "code",
   "execution_count": null,
   "metadata": {
    "collapsed": false
   },
   "outputs": [],
   "source": [
    "#mapply() - when we have several data structures (e.g. vectors, lists) and we want to apply a function to the 1st \n",
    "#elements of each, and then the 2nd elements of each, etc.. The result is coerced into a vector/array as in sapply.\n",
    "\n",
    "#For example in our dataset we want there are different variables measuring different areas like sqft_living, sqft_lot, \n",
    "#sqft_above,sqft_basement, sqft_living15, sqft_lot15. If we want to find total area then we can use this function.\n",
    "\n",
    "result = mapply(sum, housing_prices$sqft_living, housing_prices$sqft_lot,housing_prices$sqft_above,housing_prices$sqft_basement, \n",
    "       housing_prices$sqft_living15, housing_prices$sqft_lot15)\n",
    "head(result)"
   ]
  },
  {
   "cell_type": "markdown",
   "metadata": {},
   "source": [
    "If you are confused how these values are generated, look at below cells couple of rows are worked for you. So the values of the six variables are added for each row. "
   ]
  },
  {
   "cell_type": "code",
   "execution_count": null,
   "metadata": {
    "collapsed": false
   },
   "outputs": [],
   "source": [
    "head(housing_prices)"
   ]
  },
  {
   "cell_type": "code",
   "execution_count": null,
   "metadata": {
    "collapsed": false
   },
   "outputs": [],
   "source": [
    "#If you sum up the \n",
    "1180+5650+1180+0+1340+5650\n",
    "2570+7242+2170+400+1690+7639"
   ]
  },
  {
   "cell_type": "code",
   "execution_count": null,
   "metadata": {
    "collapsed": false
   },
   "outputs": [],
   "source": [
    "#tapply() - You should be familiar with tapply by now. You will this function when you want to apply a function to subsets \n",
    "#of a vector and the subsets are defined by some other vector, usually a factor.\n",
    "\n",
    "#For example, we want to know the average price of homes for each number of bedrooms in the house.\n",
    "t(tapply(housing_prices$price,housing_prices$bedrooms,mean))"
   ]
  },
  {
   "cell_type": "markdown",
   "metadata": {},
   "source": [
    "#### By\n",
    "------\n",
    "tapply can be used to summarize one variable based on another variable. But what if we want to summarize many variables. By is like an extended version of tapply() command.\n"
   ]
  },
  {
   "cell_type": "code",
   "execution_count": null,
   "metadata": {
    "collapsed": false
   },
   "outputs": [],
   "source": [
    "byviews <- by(housing_prices[,c('price','sqft_living')], housing_prices$view, summary)\n",
    "byviews"
   ]
  },
  {
   "cell_type": "markdown",
   "metadata": {},
   "source": [
    "### 2-way tables\n",
    "------\n",
    "2-way tables are very informative. In above table, we have the distribution of bathrooms for every count of bedrooms. It is very detailed and the sums of columns and rows are displayed which indicate number of bedrooms or bathrooms with a specific number. "
   ]
  },
  {
   "cell_type": "code",
   "execution_count": null,
   "metadata": {
    "collapsed": false,
    "scrolled": true
   },
   "outputs": [],
   "source": [
    "#Below command will produce a 2-way table with distribution count of every combination between bedrooms and bathrooms. \n",
    "#addmargins() will give the summary or sum of this counts at the end of both x and y axis.\n",
    "bed_vs_bath = table(housing_prices$bedrooms,housing_prices$bathrooms)\n",
    "addmargins(bed_vs_bath)"
   ]
  },
  {
   "cell_type": "markdown",
   "metadata": {},
   "source": [
    "Down below is an extended version of table command adding 3rd dimension to 2-way table. We can see same information as above but for every kind of view(0,1,2,3,4)"
   ]
  },
  {
   "cell_type": "code",
   "execution_count": null,
   "metadata": {
    "collapsed": false
   },
   "outputs": [],
   "source": [
    "bed_bath_view <- xtabs(~bedrooms+bathrooms+view, data=housing_prices)\n",
    "bed_bath_view"
   ]
  },
  {
   "cell_type": "code",
   "execution_count": null,
   "metadata": {
    "collapsed": false
   },
   "outputs": [],
   "source": [
    "#The stat.desc() function gives an elaborate descriptive statistics of input object. Most of the statistics are commonly used ones\n",
    "library(pastecs)\n",
    "options(scipen=999)\n",
    "stat.desc(housing_prices)"
   ]
  },
  {
   "cell_type": "code",
   "execution_count": null,
   "metadata": {
    "collapsed": false
   },
   "outputs": [],
   "source": [
    "#Aggregate works just like groupby in sql. Here we are grouping data based on bedrooms. WE are interested in columns price, \n",
    "#bathrooms and  sqft_living. Finally applying mean function on this subset of data for every group of data(i'e number of bedrooms)\n",
    "\n",
    "aggregate(housing_prices[c(\"price\",\"bathrooms\",\"sqft_living\")],by=list(bedrooms=housing_prices$bedrooms), mean)"
   ]
  }
 ],
 "metadata": {
  "kernelspec": {
   "display_name": "R",
   "language": "R",
   "name": "ir"
  },
  "language_info": {
   "codemirror_mode": "r",
   "file_extension": ".r",
   "mimetype": "text/x-r-source",
   "name": "R",
   "pygments_lexer": "r",
   "version": "3.3.1"
  }
 },
 "nbformat": 4,
 "nbformat_minor": 0
}
