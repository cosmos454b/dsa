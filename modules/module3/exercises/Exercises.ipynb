{
 "cells": [
  {
   "cell_type": "markdown",
   "metadata": {},
   "source": [
    "## Module 3 Exercises\n",
    "\n",
    "We will work with auto-mpg dataset in this exercises notebook. Most of the exercises will be similar to what you have seen in lab and practice notebooks. You may have to look up for a function or a concept to solve one or two problems in the notebook. But all questions are closed book questions which do not ask beyond what you learned in the class."
   ]
  },
  {
   "cell_type": "code",
   "execution_count": null,
   "metadata": {
    "collapsed": true
   },
   "outputs": [],
   "source": [
    "Load the data `\\datasets\\auto-mpg\\auto-mpg.csv` into R and name the dataframe as `auto_data`"
   ]
  },
  {
   "cell_type": "code",
   "execution_count": null,
   "metadata": {
    "collapsed": false
   },
   "outputs": [],
   "source": [
    "auto_data <- read.csv(\"../../../datasets/auto-mpg/auto-mpg.csv\",header=TRUE,sep=',')\n",
    "head(auto_data)"
   ]
  },
  {
   "cell_type": "code",
   "execution_count": null,
   "metadata": {
    "collapsed": false
   },
   "outputs": [],
   "source": [
    "str(auto_data)"
   ]
  },
  {
   "cell_type": "markdown",
   "metadata": {},
   "source": [
    "**Question 1: ** Display first 10 rows of data for columns mpg, horsepower and car.name"
   ]
  },
  {
   "cell_type": "code",
   "execution_count": 1,
   "metadata": {
    "collapsed": false
   },
   "outputs": [],
   "source": [
    "#Code for question 1 goes here----\n"
   ]
  },
  {
   "cell_type": "markdown",
   "metadata": {},
   "source": [
    "**Question 2: ** Use factor() fucntion to convert the labels of origin column in auto_data from (1,2,3) to (america,europe and asia)"
   ]
  },
  {
   "cell_type": "code",
   "execution_count": 2,
   "metadata": {
    "collapsed": false
   },
   "outputs": [],
   "source": [
    "#Code for question 2 goes here----\n"
   ]
  },
  {
   "cell_type": "markdown",
   "metadata": {},
   "source": [
    "**Question 3: ** Create a subset called mpg_data of auto_data to include rows which have mpg >= 12 and <= 15. Select columns cylinders, weight, acceleration, car.name to include in the subset. "
   ]
  },
  {
   "cell_type": "code",
   "execution_count": 3,
   "metadata": {
    "collapsed": false
   },
   "outputs": [],
   "source": [
    "#Code for question 3 goes here----\n"
   ]
  },
  {
   "cell_type": "markdown",
   "metadata": {},
   "source": [
    "**Question 4: ** Create a two-way table called \"cars_by_origin\" for origin and cylinders columns of auto_data. Add rows and columns using addmargins() function."
   ]
  },
  {
   "cell_type": "code",
   "execution_count": 4,
   "metadata": {
    "collapsed": false
   },
   "outputs": [],
   "source": [
    "#Code for question 4 goes here----\n",
    "\n",
    "# Two-way table\n",
    "\n",
    "# Adding row/col margins"
   ]
  },
  {
   "cell_type": "markdown",
   "metadata": {},
   "source": [
    "**Question 5** Perform chi-squared test for origin and cylinders using the two way table \"cars_by_origin\" we created above. "
   ]
  },
  {
   "cell_type": "code",
   "execution_count": 5,
   "metadata": {
    "collapsed": false
   },
   "outputs": [],
   "source": [
    "#Code for question 5 goes here----\n"
   ]
  },
  {
   "cell_type": "markdown",
   "metadata": {},
   "source": [
    "**Question 6: ** Use prop.table function on two way table \"cars_by_origin\" to find column wise proportion of cars in percentages. "
   ]
  },
  {
   "cell_type": "code",
   "execution_count": 6,
   "metadata": {
    "collapsed": false
   },
   "outputs": [],
   "source": [
    "#Code for question 6 goes here----\n"
   ]
  },
  {
   "cell_type": "markdown",
   "metadata": {},
   "source": [
    "**Question 7.a: ** Create a subset from auto_data which includes columns of non factor type. Assign the result to a variable called \"less_data\""
   ]
  },
  {
   "cell_type": "code",
   "execution_count": 7,
   "metadata": {
    "collapsed": true
   },
   "outputs": [],
   "source": [
    "#Code for question 7.a goes here----\n"
   ]
  },
  {
   "cell_type": "markdown",
   "metadata": {},
   "source": [
    "**Question 7.b: ** Find standard deviation of columns in less_data. Use apply() function to find standard deviation of all columns."
   ]
  },
  {
   "cell_type": "code",
   "execution_count": 8,
   "metadata": {
    "collapsed": false
   },
   "outputs": [],
   "source": [
    "#Code for question 7.b goes here----\n"
   ]
  },
  {
   "cell_type": "markdown",
   "metadata": {
    "collapsed": true
   },
   "source": [
    "**Question 8: ** Generate a correlation plot for less_data using corrplot() function in corrplot library(). "
   ]
  },
  {
   "cell_type": "code",
   "execution_count": 9,
   "metadata": {
    "collapsed": false
   },
   "outputs": [],
   "source": [
    "library('corrplot') #package corrplot\n",
    "\n",
    "#Code for question 8 goes here----\n",
    "\n",
    "# get the correlations\n",
    "\n",
    "#plot the matrix"
   ]
  },
  {
   "cell_type": "markdown",
   "metadata": {},
   "source": [
    "**Question 9: **Use the information.gain function in FSelector package to find the information again for `\"mpg\"` variable in auto_data against all other variables in dataset."
   ]
  },
  {
   "cell_type": "code",
   "execution_count": null,
   "metadata": {
    "collapsed": false
   },
   "outputs": [],
   "source": [
    "library(FSelector)\n",
    "\n",
    "#Code for question 9 goes here----"
   ]
  },
  {
   "cell_type": "markdown",
   "metadata": {
    "collapsed": true
   },
   "source": [
    "**Question 10.a: ** Run princomp() function on less_data and assign the result to less_data_pca. Run summary() on the result."
   ]
  },
  {
   "cell_type": "code",
   "execution_count": 10,
   "metadata": {
    "collapsed": false
   },
   "outputs": [],
   "source": [
    "#Code for question 10 goes here----\n"
   ]
  },
  {
   "cell_type": "markdown",
   "metadata": {},
   "source": [
    "**Question 10.b: ** How many principal components are enough to explain 99% of variance in the data. "
   ]
  },
  {
   "cell_type": "markdown",
   "metadata": {},
   "source": [
    "````\n",
    "        Answer for question 10.b goes here \n",
    "\n",
    "````"
   ]
  },
  {
   "cell_type": "markdown",
   "metadata": {},
   "source": [
    "**Question 11:** Fit a linear regression model to predict mpg using principal component 1 generated above. name the model as model1 "
   ]
  },
  {
   "cell_type": "code",
   "execution_count": null,
   "metadata": {
    "collapsed": false
   },
   "outputs": [],
   "source": [
    "#Code for question 11 goes here----\n",
    "model1 <- "
   ]
  },
  {
   "cell_type": "markdown",
   "metadata": {},
   "source": [
    "**Question 12.a:** Fit a linear regression model to predict mpg using principal components 1 and 2 generated above. Name the model as model2"
   ]
  },
  {
   "cell_type": "code",
   "execution_count": null,
   "metadata": {
    "collapsed": false
   },
   "outputs": [],
   "source": [
    "#Code for question 12 goes here----\n",
    "model2 <- "
   ]
  },
  {
   "cell_type": "markdown",
   "metadata": {},
   "source": [
    "**Question 12.b** Compare model1 and model2 and write few words about your observations on improvement in model accuracy $R^2$"
   ]
  },
  {
   "cell_type": "markdown",
   "metadata": {},
   "source": [
    "````\n",
    "        Answer for 12.b goes here\n",
    "\n",
    "````"
   ]
  }
 ],
 "metadata": {
  "kernelspec": {
   "display_name": "R",
   "language": "R",
   "name": "ir"
  },
  "language_info": {
   "codemirror_mode": "r",
   "file_extension": ".r",
   "mimetype": "text/x-r-source",
   "name": "R",
   "pygments_lexer": "r",
   "version": "3.3.1"
  }
 },
 "nbformat": 4,
 "nbformat_minor": 0
}
