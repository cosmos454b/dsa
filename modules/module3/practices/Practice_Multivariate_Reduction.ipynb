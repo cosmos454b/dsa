{
 "cells": [
  {
   "cell_type": "markdown",
   "metadata": {},
   "source": [
    "## Multivariate Reduction Practice\n",
    "\n",
    "Lets continue our discussion with multivariate data reduction. We will focus on dimensionality reduction mainly on principal component analysis. The questions are partially complete. You may have to debug/modify/complete the code to generate the desired output. "
   ]
  },
  {
   "cell_type": "markdown",
   "metadata": {},
   "source": [
    "**Load the data** into movies_data dataframe."
   ]
  },
  {
   "cell_type": "code",
   "execution_count": null,
   "metadata": {
    "collapsed": false
   },
   "outputs": [],
   "source": [
    "movies_data <- read.csv(\"../../../datasets/movies/movie_metadata.csv\", header = T, sep=\",\")\n",
    "head(movies_data)"
   ]
  },
  {
   "cell_type": "markdown",
   "metadata": {},
   "source": [
    "Remove the rows that contain any NA values."
   ]
  },
  {
   "cell_type": "code",
   "execution_count": null,
   "metadata": {
    "collapsed": false
   },
   "outputs": [],
   "source": [
    "#count number of rows in the dataset\n",
    "nrow(movies_data)\n",
    "#Omit rows from  the dataset that contain NA values\n",
    "movies_data=na.omit(movies_data)\n",
    "#count number of rows again in the dataset\n",
    "nrow(movies_data)\n",
    "\n",
    "#Form a new dataframe called less_data excluding all rows from movies_data that contain NA values \n",
    "less_data=movies_data[!sapply(movies_data,class) %in% c(\"factor\")]"
   ]
  },
  {
   "cell_type": "code",
   "execution_count": null,
   "metadata": {
    "collapsed": false
   },
   "outputs": [],
   "source": [
    "cor(less_data)"
   ]
  },
  {
   "cell_type": "markdown",
   "metadata": {},
   "source": [
    "#### Correlation Plot\n",
    "\n",
    "__Reference__: https://cran.r-project.org/web/packages/corrplot/vignettes/corrplot-intro.html"
   ]
  },
  {
   "cell_type": "code",
   "execution_count": null,
   "metadata": {
    "collapsed": false
   },
   "outputs": [],
   "source": [
    "# install.packages('corrplot',repos='http://cran.us.r-project.org')\n",
    "library('corrplot') #package corrplot\n",
    "cors <- cor(less_data) # get the correlations for less_data\n",
    "#The output of the function cor() is the correlation coefficients between each and every variable combination in the dataset. \n",
    "#correlation to itself is always 1.\n",
    "\n",
    "corrplot(cors, method = \"number\",number.cex=0.75) #plot the correlation of variables in the form of a matrix\n",
    "# method takes different inputs like \"number\", \"circle\", \"ellipse\" etc. We chose number here, as we want to see correlation \n",
    "#between each variable."
   ]
  },
  {
   "cell_type": "markdown",
   "metadata": {},
   "source": [
    "Variables movie_facebook_likes, num_user_for_reviews, num_voted_users, num_critic_for_reviews and duration are the relatively most correlated with imdb_score. \n",
    "\n",
    "* The \"cast_total_facebook_likes\" has a strong positive correlation with the \"actor_1_facebook_likes\", and has smaller positive correlation with both \"actor_2_facebook_likes\" and \"actor_3_facebook_likes\"\n",
    "\n",
    "* The \"movie_facebook_likes\" has strong correlation with \"num_critic_for_reviews\", meaning that the popularity of a movie in social network can be largely affected by the critics\n",
    "\n",
    "* The \"movie_facebook_likes\" has decent amount of correlation with the \"num_voted_users\"\n",
    "\n",
    "* The movie \"gross\" has strong positive correlation with the \"num_voted_users\"\n",
    "\n",
    "##### Contradicting correlations\n",
    "---------------------------\n",
    "\n",
    "* The \"imdb_score\" has very small positive correlation with \"director_facebook_likes\". So we cant guarantee a popular director's movie will be great.\n",
    "\n",
    "* The \"imdb_score\" has very small positive correlation with the \"actor_1_facebook_likes\". Just like a famous director, we cant guarantee a popular actor's movie will be great.\n",
    "\n",
    "* The \"imdb_score\" has a small but positive correlation with \"duration\". Highly rated movies tend to be longer in duration.\n",
    "\n",
    "* The variables num_voted_users, num_user_for_reviews have small positive correlation. May be more reviews are made on good movies.\n",
    "\n",
    "* The \"imdb_score\" has almost no correlation with \"budget\". Big budget movies will not necessarily turn out great"
   ]
  },
  {
   "cell_type": "markdown",
   "metadata": {},
   "source": [
    "**Question 1.a: **Use the information.gain function in FSelector package to find the information again for all variables in movies_data dataset. \n",
    "\n",
    "**Question 1.b: **Identify the variables which have an information gain of 0.7"
   ]
  },
  {
   "cell_type": "markdown",
   "metadata": {
    "collapsed": true
   },
   "source": [
    "### Feature Selection"
   ]
  },
  {
   "cell_type": "code",
   "execution_count": null,
   "metadata": {
    "collapsed": false
   },
   "outputs": [],
   "source": [
    "# # install.packages(\"FSelector\",repo=\"http://cran.uk.r-project.org\")\n",
    "library(FSelector)\n",
    "weight_gains <- information.gain(<what goes in here>~., movies_data)\n",
    "\n",
    "print(weight_gains)\n",
    "\n",
    "subset <- cutoff.k(weight_gains, 6)\n",
    "\n",
    "formula <- as.simple.formula(subset, \"Prices\")\n",
    "\n",
    "print(formula)"
   ]
  },
  {
   "cell_type": "markdown",
   "metadata": {},
   "source": [
    "From information gain function, \n",
    "````\n",
    "        Answer for 1.b\n",
    "        \"Write the variable names identified here\"\n",
    "````\n",
    "\n",
    "variables have information gain of over 0.77. "
   ]
  },
  {
   "cell_type": "markdown",
   "metadata": {},
   "source": [
    "But we see completely different set of variables movie_facebook_likes, num_user_for_reviews, num_voted_users, num_critic_for_reviews and duration as the most correlated from cor() function."
   ]
  },
  {
   "cell_type": "markdown",
   "metadata": {},
   "source": [
    "Lets continue our discussion with PCA. As we have seen in lab notebook we have to standardize the variables. "
   ]
  },
  {
   "cell_type": "markdown",
   "metadata": {},
   "source": [
    "**Question 2: ** Use scale() function to standardize the numeric variables in movies_data and assign the new data to a variable called standard_vars."
   ]
  },
  {
   "cell_type": "code",
   "execution_count": null,
   "metadata": {
    "collapsed": false
   },
   "outputs": [],
   "source": [
    "standard_vars <- as.data.frame(<what goes in here>(less_data))\n",
    "dim(standard_vars)\n",
    "head(standard_vars)"
   ]
  },
  {
   "cell_type": "markdown",
   "metadata": {},
   "source": [
    "**Question 3: ** Run prcomp() function on standard_vars created above and assign the result to movies_data_pca "
   ]
  },
  {
   "cell_type": "code",
   "execution_count": null,
   "metadata": {
    "collapsed": false
   },
   "outputs": [],
   "source": [
    "# Compute the Principal Components. Run prcomp() function on standardardized variables created above.\n",
    "movies_data_pca <- <what goes in here>(<what goes in here>)"
   ]
  },
  {
   "cell_type": "markdown",
   "metadata": {},
   "source": [
    "**If you go to the help page for `prcomp` you will find,**\n",
    "\n",
    "`The calculation is done by a singular value decomposition of the (centered and scaled which is what we are doing above standardizing the variables) data matrix, not by using eigen on the covariance matrix. This is generally the preferred method for numerical accuracy.`\n",
    "\n",
    "For `princomp()` you will see,\n",
    "\n",
    "`The calculation is done using eigen on the correlation or covariance matrix, as determined by cor. This is done for compatibility with the S-PLUS result. A preferred method of calculation is to use svd on x, as is done in prcomp.\"`"
   ]
  },
  {
   "cell_type": "code",
   "execution_count": null,
   "metadata": {
    "collapsed": false
   },
   "outputs": [],
   "source": [
    "summary(movies_data_pca)"
   ]
  },
  {
   "cell_type": "code",
   "execution_count": null,
   "metadata": {
    "collapsed": false
   },
   "outputs": [],
   "source": [
    "screeplot(movies_data_pca, type=\"lines\")"
   ]
  },
  {
   "cell_type": "markdown",
   "metadata": {},
   "source": [
    "**Question 4: **What are your observations from the plot. Write a few words below. "
   ]
  },
  {
   "cell_type": "code",
   "execution_count": null,
   "metadata": {
    "collapsed": false
   },
   "outputs": [],
   "source": [
    "biplot(movies_data_pca) "
   ]
  },
  {
   "cell_type": "markdown",
   "metadata": {},
   "source": [
    "````\n",
    "\n",
    "        Answer for question 4 goes here\n",
    "\n",
    "````"
   ]
  },
  {
   "cell_type": "markdown",
   "metadata": {},
   "source": [
    "Look at the dimensions of the PCA we ran. We are interested in the x part of crime_train_data_pca for the dimensions."
   ]
  },
  {
   "cell_type": "code",
   "execution_count": null,
   "metadata": {
    "collapsed": false
   },
   "outputs": [],
   "source": [
    "dim(movies_data_pca$x)"
   ]
  },
  {
   "cell_type": "markdown",
   "metadata": {},
   "source": [
    "**Question 5: ** Fit a multiple regression model to predict imdb_score in movies_data using the first 4 principal components created above. "
   ]
  },
  {
   "cell_type": "code",
   "execution_count": null,
   "metadata": {
    "collapsed": false
   },
   "outputs": [],
   "source": [
    "#movies_data_pca$x is a list that contains all the principal components. You can access components using subscripts 1,2,3..so on\n",
    "fit = lm(<what goes in here>~movies_data_pca$x[,1]+movies_data_pca$x[,2]+movies_data_pca$x[,3]+movies_data_pca$x[,4])\n",
    "summary(fit)"
   ]
  },
  {
   "cell_type": "markdown",
   "metadata": {},
   "source": [
    "**Question 6: ** Plot a ggplot for principal components 1 and 2."
   ]
  },
  {
   "cell_type": "markdown",
   "metadata": {},
   "source": [
    "#### Scatter plots of Principal components"
   ]
  },
  {
   "cell_type": "code",
   "execution_count": null,
   "metadata": {
    "collapsed": false
   },
   "outputs": [],
   "source": [
    "library(ggplot2)\n",
    "pca_comp1_comp2 <- ggplot(<what goes in here>, aes(x=<what goes in here>,y=<what goes in here>))\n",
    "\n",
    "pca_comp1_comp2+geom_point(alpha = 0.8)"
   ]
  },
  {
   "cell_type": "markdown",
   "metadata": {
    "collapsed": true
   },
   "source": [
    "Lets try to fit a linear multiple regression model using the most correlated variables we found."
   ]
  },
  {
   "cell_type": "markdown",
   "metadata": {},
   "source": [
    "**Question 7.a: ** Fit a multiple regression model to predict movies_data using variables movie_facebook_likes+ num_user_for_reviews+ num_voted_users+ num_critic_for_reviews+ duration"
   ]
  },
  {
   "cell_type": "code",
   "execution_count": null,
   "metadata": {
    "collapsed": false
   },
   "outputs": [],
   "source": [
    "fit1=lm(<what goes in here>~<what goes in here>+ <what goes in here>+ <what goes in here>+ <what goes in here>+ <what goes in here>,\n",
    "       data=movies_data)\n",
    "summary(fit1)"
   ]
  },
  {
   "cell_type": "markdown",
   "metadata": {},
   "source": [
    "**Question 7.b: ** Compare the $R^2$ value for models fit1 and fit. Write your opinion about the models in a line."
   ]
  },
  {
   "cell_type": "markdown",
   "metadata": {},
   "source": [
    "````\n",
    "\n",
    "        Answer for question 7.b goes here\n",
    "\n",
    "````"
   ]
  },
  {
   "cell_type": "markdown",
   "metadata": {},
   "source": [
    "**Question 8: ** Build a model to predict imdb_score using all the independent features of movies_data."
   ]
  },
  {
   "cell_type": "code",
   "execution_count": null,
   "metadata": {
    "collapsed": false
   },
   "outputs": [],
   "source": [
    "fit2=lm(imdb_score~ <what goes in here>, data=less_data)\n",
    "summary(fit2)"
   ]
  },
  {
   "cell_type": "markdown",
   "metadata": {},
   "source": [
    "This looks really significant when you compare the $R^2$ of model built using all 16 numeric variables in the dataset compared to model built using principal components. "
   ]
  },
  {
   "cell_type": "markdown",
   "metadata": {},
   "source": [
    "**Question 9: ** Run factanal() function to generate 2 factors for less_data.  "
   ]
  },
  {
   "cell_type": "code",
   "execution_count": null,
   "metadata": {
    "collapsed": false
   },
   "outputs": [],
   "source": [
    "factors <- factanal(less_data, <what goes in here>, rotation=<what goes in here>)\n",
    "print(factors, digits=2, cutoff=0.3, sort=TRUE)"
   ]
  },
  {
   "cell_type": "markdown",
   "metadata": {},
   "source": [
    "Reference: [Factor Analysis](http://www.statpower.net/Content/312/R%20Stuff/Exploratory%20Factor%20Analysis%20with%20R.pdf)"
   ]
  },
  {
   "cell_type": "markdown",
   "metadata": {},
   "source": [
    "# SAVE YOUR NOTEBOOK"
   ]
  },
  {
   "cell_type": "code",
   "execution_count": null,
   "metadata": {
    "collapsed": true
   },
   "outputs": [],
   "source": [
    "# Add code here to save your work in to the version control\n",
    "# Hint: The file name is \"Practice_Multivariate_Reduction.ipynb\"\n",
    "\n"
   ]
  }
 ],
 "metadata": {
  "kernelspec": {
   "display_name": "R",
   "language": "R",
   "name": "ir"
  },
  "language_info": {
   "codemirror_mode": "r",
   "file_extension": ".r",
   "mimetype": "text/x-r-source",
   "name": "R",
   "pygments_lexer": "r",
   "version": "3.3.1"
  }
 },
 "nbformat": 4,
 "nbformat_minor": 0
}
