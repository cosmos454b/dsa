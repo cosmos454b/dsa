{
 "cells": [
  {
   "cell_type": "markdown",
   "metadata": {},
   "source": [
    "## Multivariate Exploration Practice\n",
    "\n",
    "We are going to use movies dataset for illustrating multivariate data exploration. \n",
    "The dataset is a result of scrapping 5000+ movies from the International Movie Database (IMDB) website using a Python library called __scrapy__. \n",
    "It has 28 variables for 5043 movies, spanning across 100 years in 66 countries. \n",
    "There are 2399 unique director names, and thousands of actors/actresses."
   ]
  },
  {
   "cell_type": "markdown",
   "metadata": {},
   "source": [
    "### Loading data\n",
    "\n",
    "Load the data `\\datasets\\movies\\movie_metadata.csv` into R and name the dataframe as `movies_data`"
   ]
  },
  {
   "cell_type": "code",
   "execution_count": null,
   "metadata": {
    "collapsed": false
   },
   "outputs": [],
   "source": [
    "movies_data <- read.csv(\"../../../datasets/movies/movie_metadata.csv\", header = T, sep=\",\")"
   ]
  },
  {
   "cell_type": "markdown",
   "metadata": {},
   "source": [
    "As usual lets take a quick look at the data, if we read the data correctly into the dataframe."
   ]
  },
  {
   "cell_type": "code",
   "execution_count": null,
   "metadata": {
    "collapsed": false
   },
   "outputs": [],
   "source": [
    "head(movies_data)"
   ]
  },
  {
   "cell_type": "code",
   "execution_count": null,
   "metadata": {
    "collapsed": false
   },
   "outputs": [],
   "source": [
    "#The structure of the dataframe as follows\n",
    "str(movies_data)"
   ]
  },
  {
   "cell_type": "markdown",
   "metadata": {},
   "source": [
    "Now we have an overall sense of the dataset what it contains. Let's start with multivariate data analysis to gain insights from the data."
   ]
  },
  {
   "cell_type": "markdown",
   "metadata": {},
   "source": [
    "**Question 1.a: ** What are the different categories of movies based on the color attribute?"
   ]
  },
  {
   "cell_type": "code",
   "execution_count": null,
   "metadata": {
    "collapsed": false
   },
   "outputs": [],
   "source": [
    "<what goes in here>(movies_data$<what goes in here>)"
   ]
  },
  {
   "cell_type": "markdown",
   "metadata": {},
   "source": [
    "There are 19 movies with no information for color of the movie. "
   ]
  },
  {
   "cell_type": "code",
   "execution_count": null,
   "metadata": {
    "collapsed": false
   },
   "outputs": [],
   "source": [
    "summary(movies_data)"
   ]
  },
  {
   "cell_type": "markdown",
   "metadata": {},
   "source": [
    "Looking at the summary of all variables, values are missing for variables director_name and color in many rows. \n",
    "Also NA values exist for multiple variables. \n",
    "NA values can be treated in multiple ways. \n",
    "One way is to replace NA values with the average value of that column. \n",
    "Second approach is to remove the rows with NA values. \n",
    "\n",
    "The choice of which approach is often driven by your goals and how you feel about approximating the column value versus removing data for your task at hand."
   ]
  },
  {
   "cell_type": "markdown",
   "metadata": {},
   "source": [
    "----\n",
    "Lets see how many missing values are present per row and column. \n",
    "R has built in command row sums that perform sum of values in a row and column. \n",
    "**is.na()** will return logical values 0 or 1 for TRUE and FALSE when checking if a column in a row has NA value. \n",
    "**rowSums()** will sum up all this 1's and 0's in a row. \n",
    "**colSums()** will sum up all 1's and 0's in a column.\n",
    "\n",
    "**Reference:** [colSums()](https://stat.ethz.ch/R-manual/R-devel/library/base/html/colSums.html)\n",
    "\n",
    "**Reference:** [rowSums()](https://stat.ethz.ch/R-manual/R-devel/library/base/html/rowsum.html)"
   ]
  },
  {
   "cell_type": "code",
   "execution_count": null,
   "metadata": {
    "collapsed": false
   },
   "outputs": [],
   "source": [
    "rowSums(is.na(movies_data))"
   ]
  },
  {
   "cell_type": "code",
   "execution_count": null,
   "metadata": {
    "collapsed": false
   },
   "outputs": [],
   "source": [
    "colSums(is.na(movies_data))"
   ]
  },
  {
   "cell_type": "code",
   "execution_count": null,
   "metadata": {
    "collapsed": false
   },
   "outputs": [],
   "source": [
    "# Use factor() for nominal data to convert their labels\n",
    "movies_data$color <- factor(movies_data$color, levels = c(\"\",\" Black and White\",\"Color\"), labels = c(1,2,3)) \n",
    "head(movies_data)"
   ]
  },
  {
   "cell_type": "markdown",
   "metadata": {},
   "source": [
    "**Reference: ** [factor()](https://www.r-bloggers.com/data-types-part-3-factors/)\n",
    "\n",
    "Lets convert the labels of color column back to original values"
   ]
  },
  {
   "cell_type": "code",
   "execution_count": null,
   "metadata": {
    "collapsed": true
   },
   "outputs": [],
   "source": [
    "movies_data$color <- factor(movies_data$color, levels = c(1,2,3), labels = c(\"\",\" Black and White\",\"Color\")) "
   ]
  },
  {
   "cell_type": "markdown",
   "metadata": {},
   "source": [
    "Lets generate a two way table for color and language variables. Calculate proportions of the movies made in different languages by the picture color. "
   ]
  },
  {
   "cell_type": "code",
   "execution_count": null,
   "metadata": {
    "collapsed": false
   },
   "outputs": [],
   "source": [
    "movies_by_country_color <- table(movies_data$color,movies_data$language)\n",
    "# Row proportions after rounding the values to two decimal levels\n",
    "#round() will round the values that given as input according to given level. In our example we are rounding columns of \n",
    "#movies_by_country_color table to 2 decimals\n",
    "\n",
    "#prop.table simply generates proprotions of values. Coverting frequency counts into probabilities.\n",
    "#prop.table(movies_by_country_color,1) - 1 represents rows and 2 represents columns in prop.table() function. If you want column \n",
    "#wise proportions use 2 instead of 1.\n",
    "\n",
    "round(prop.table(movies_by_country_color,1),2)"
   ]
  },
  {
   "cell_type": "markdown",
   "metadata": {},
   "source": [
    "**Reference: ** [table()](http://www.cyclismo.org/tutorial/R/tables.html)\n",
    "\n",
    "----\n",
    "If you want to convert above proportions in to percentages, simply multiply the values with 100 as shown below."
   ]
  },
  {
   "cell_type": "code",
   "execution_count": null,
   "metadata": {
    "collapsed": false
   },
   "outputs": [],
   "source": [
    "round(100*prop.table(movies_by_country_color,1),2)"
   ]
  },
  {
   "cell_type": "markdown",
   "metadata": {},
   "source": [
    "**Question 1.b** Perform chi-squared test for language and color variables using the two way table \"movies_by_country_color\" we created above. "
   ]
  },
  {
   "cell_type": "code",
   "execution_count": null,
   "metadata": {
    "collapsed": true
   },
   "outputs": [],
   "source": [
    "chisq.test(<what goes in here>)"
   ]
  },
  {
   "cell_type": "markdown",
   "metadata": {},
   "source": [
    "**Question 2.a: ** subset the movies_data dataset based on NA value for `gross` in the dataset. Name the subset as `na_data` that should contain all rows which have `gross` as NA value."
   ]
  },
  {
   "cell_type": "code",
   "execution_count": null,
   "metadata": {
    "collapsed": false
   },
   "outputs": [],
   "source": [
    "na_data=movies_data[<what goes in here>(movies_data$gross),]"
   ]
  },
  {
   "cell_type": "markdown",
   "metadata": {},
   "source": [
    "**Question 2.b: ** What is the distribution of 'NA' values in the `budget` variable in the na_data dataframe. "
   ]
  },
  {
   "cell_type": "code",
   "execution_count": null,
   "metadata": {
    "collapsed": false
   },
   "outputs": [],
   "source": [
    "table(<what goes in here>(na_data$budget))"
   ]
  },
  {
   "cell_type": "markdown",
   "metadata": {},
   "source": [
    "For our analysis lets go ahead and remove the rows that contain any NA values."
   ]
  },
  {
   "cell_type": "code",
   "execution_count": null,
   "metadata": {
    "collapsed": false
   },
   "outputs": [],
   "source": [
    "nrow(movies_data)\n",
    "movies_data=na.omit(movies_data)\n",
    "nrow(movies_data)"
   ]
  },
  {
   "cell_type": "markdown",
   "metadata": {},
   "source": [
    "The number of rows reduced from 5043 to 3801 when excluding all NA values fom the dataset. \n",
    "We lost more than 20% of the data after removing those rows. "
   ]
  },
  {
   "cell_type": "code",
   "execution_count": null,
   "metadata": {
    "collapsed": false
   },
   "outputs": [],
   "source": [
    "require(gridExtra)\n",
    "require(ggplot2)\n",
    "\n",
    "## grid.arrange(x1,x2,x3...xn,ncol=x,nrow=y)\n",
    "## The command will arrange the plots x1,x2....xn in the desired outlet of specified rows and columns\n",
    "\n",
    "# The number of bins should be chosen as appropriate. If you are not sure then trial and error is the best way to figure the \n",
    "# right number of bins. Each bin will have number of observations equal to bin size. \n",
    "\n",
    "grid.arrange(qplot(movies_data$duration,bins = 100,xlab='Movie duration'),\n",
    "             qplot(movies_data$director_facebook_likes,bins = 50,xlab='director facebook likes'),\n",
    "             qplot(movies_data$actor_3_facebook_likes,bins = 50,xlab='actor_3_facebook_likes'),\n",
    "             qplot(movies_data$actor_1_facebook_likes,bins = 50,xlab='actor_1_facebook_likes'),\n",
    "             qplot(movies_data$gross,bins = 50,xlab='gross'),\n",
    "             qplot(movies_data$cast_total_facebook_likes,bins = 50,xlab='cast_total_facebook_likes'),\n",
    "             qplot(movies_data$budget,bins = 50,xlab='budget'),\n",
    "             qplot(movies_data$actor_2_facebook_likes,bins = 50,xlab='actor_2_facebook_likes'),\n",
    "             qplot(movies_data$movie_facebook_likes,bins = 50,xlab='movie_facebook_likes'),\n",
    "             ncol = 3)"
   ]
  },
  {
   "cell_type": "markdown",
   "metadata": {
    "collapsed": false
   },
   "source": [
    "Looking at the histograms, most of the variables are positively skewed except for movie duration which looks normally distributed. Maximum durartion of a movie is 511, which is weird. It will be an 8 hours 30 minutes movie. The extreme values in rest of the variables dont seem to be outliers, as some of the movies, directors or actors are very famous compared to rest all movies. A box plot might give us more information about these variables.  \n",
    "\n",
    "Lets plot box plots for these variables."
   ]
  },
  {
   "cell_type": "code",
   "execution_count": null,
   "metadata": {
    "collapsed": false
   },
   "outputs": [],
   "source": [
    "# library(ggplot2)\n",
    "# require(gridExtra)\n",
    "\n",
    "grid.arrange(qplot(y=movies_data$duration, x= 1, geom = \"boxplot\",ylab='Duration'),\n",
    "             qplot(y=movies_data$budget, x= 1, geom = \"boxplot\",ylab='Budget'),\n",
    "             qplot(y=movies_data$gross, x= 1, geom = \"boxplot\",ylab='Gross'),\n",
    "             qplot(y=movies_data$director_facebook_likes, x= 1, geom = \"boxplot\",ylab='Director fb likes'),\n",
    "             qplot(y=movies_data$actor_1_facebook_likes, x= 1, geom = \"boxplot\",ylab='actor 1 fb likes'),\n",
    "             qplot(y=movies_data$actor_2_facebook_likes, x= 1, geom = \"boxplot\",ylab='actor 2 fb likes'),\n",
    "             qplot(y=movies_data$actor_3_facebook_likes, x= 1, geom = \"boxplot\",ylab='actor 3 fb likes'),\n",
    "             qplot(y=movies_data$cast_total_facebook_likes, x= 1, geom = \"boxplot\",ylab='cast fb likes'),\n",
    "             qplot(y=movies_data$movie_facebook_likes, x= 1, geom = \"boxplot\",ylab='movie fb likes'),\n",
    "             ncol=3,nrow=3)"
   ]
  },
  {
   "cell_type": "markdown",
   "metadata": {},
   "source": [
    "Above box plots do not show any interesting patterns. Data has extreme outliers so the plots are not very telling. The only column in the dataset which tells us if a movie is good or not is the imdb_score. \n",
    "\n",
    "Movies with higher rating anything above 8 will end up in IMDB top 250. They are considered as good by the critics. Movies with rating 7 to 8 are probably still good movies. Movies with rating 6 to 7 can be ok to watch but viewers may not gain anything from them. At last, movies with ratings 1 to 5 are generally considered as bad movies."
   ]
  },
  {
   "cell_type": "markdown",
   "metadata": {},
   "source": [
    "**Question 3: ** Add the values in the columns director_facebook_likes, actor_3_facebook_likes,actor_1_facebook_likes,cast_total_facebook_likes, actor_2_facebook_likes, movie_facebook_likes for every row in the dataset to find the total facebook likes a movie can claim.  \n",
    "\n",
    "Hint: Use the appropriate apply() function to add the values."
   ]
  },
  {
   "cell_type": "code",
   "execution_count": null,
   "metadata": {
    "collapsed": false
   },
   "outputs": [],
   "source": [
    "result = <what goes in here>(sum, movies_data$director_facebook_likes, movies_data$actor_3_facebook_likes,\n",
    "                movies_data$actor_1_facebook_likes,movies_data$cast_total_facebook_likes, \n",
    "       movies_data$actor_2_facebook_likes, movies_data$movie_facebook_likes)\n",
    "head(result)"
   ]
  },
  {
   "cell_type": "markdown",
   "metadata": {},
   "source": [
    "**Question 4: ** Summarize the data for columns country and color using a 2-way table. Add row and column sums at the end using addmargins() function. "
   ]
  },
  {
   "cell_type": "code",
   "execution_count": null,
   "metadata": {
    "collapsed": false
   },
   "outputs": [],
   "source": [
    "color_country <- table(<what goes in here>,<what goes in here>)\n",
    "addmargins(<what goes in here>)"
   ]
  },
  {
   "cell_type": "markdown",
   "metadata": {},
   "source": [
    "**Question 5: ** Find correlation of all variables in movies_data dataframe by excluding all the factor variables in the dataset."
   ]
  },
  {
   "cell_type": "code",
   "execution_count": null,
   "metadata": {
    "collapsed": false
   },
   "outputs": [],
   "source": [
    "#Create a dataframe excluding all factor variables in movies_data.\n",
    "#sapply() will generate column types for each column. %in% will check each column type with \"factor\" and returns TRUE or FALSE.\n",
    "#TRUE or FALSE will determine which rows to select and which not when assigning movies_data to less_data\n",
    "less_data=movies_data[!<what goes in here>(movies_data,class) %<what goes in here>% c(\"<what goes in here>\")]\n",
    "cor(less_data)"
   ]
  },
  {
   "cell_type": "markdown",
   "metadata": {},
   "source": [
    "Imdb score is the variable of interest in our movies dataset. Above correlation matrix tells us none of the continous variables are highly correlated with imdb_score. Following table shows how different variables are correlated with imdb_score. \n",
    "\n",
    "|Feature |imdb_score for population|\n",
    "|-|-------------------------|\n",
    "|num_critic_for_reviews|0.3438808|\n",
    "|duration|0.36612369|\n",
    "|director_facebook_likes|0.19083814|\n",
    "|actor_3_facebook_likes|0.06497354|\n",
    "|actor_1_facebook_likes|0.09313142|\n",
    "|gross|0.21212439|\n",
    "|num_voted_users|0.47791732|\n",
    "|cast_total_facebook_likes|0.1062587|\n",
    "|num_user_for_reviews|0.32252237|\n",
    "|budget|0.02904057|\n",
    "|title_year|-0.12926516|\n",
    "|actor_2_facebook_likes|0.10206038|\n",
    "|aspect_ratio|0.02845372|\n",
    "|movie_facebook_likes|0.2794777|\n",
    "\n",
    "With a 0.2 threshold for correlation, the 6 variables num_critic_for_reviews, duration, gross, num_voted_users, num_user_for_reviews and movie_facebook_likes looks promising predictors of imdb_score."
   ]
  },
  {
   "cell_type": "markdown",
   "metadata": {},
   "source": [
    "**Question 6: **Draw a plot with imdb_score on x-axis, num_voted_users on y-axis for movies_data dataset. Use color variable for color parameter and duration for size parameter. "
   ]
  },
  {
   "cell_type": "code",
   "execution_count": null,
   "metadata": {
    "collapsed": false
   },
   "outputs": [],
   "source": [
    "options(scipen=999)  \n",
    "\n",
    "ggplot(movies_data,\n",
    "       aes(x=imdb_score,        # independet variable, feature 1\n",
    "           y=num_voted_users,              # dependent variable, feature 2\n",
    "           color=<what goes in here>,  # independet variable, feature 3\n",
    "           size=duration),      # independet variable, feature 4\n",
    "       xlab(\"IMDB Score\"),\n",
    "       ylab(\"Number of voted users\"),\n",
    "       main(\"IMDB rating vs No. of voted users\")\n",
    "      ) + <what goes in here>"
   ]
  },
  {
   "cell_type": "markdown",
   "metadata": {},
   "source": [
    "**Question 7: **Draw a plot with imdb_score on x-axis, director_facebook_likes on y-axis for movies_data dataset. Use color variable for color parameter and gross for size parameter. Debug/modify the code to generate the plot."
   ]
  },
  {
   "cell_type": "code",
   "execution_count": null,
   "metadata": {
    "collapsed": false
   },
   "outputs": [],
   "source": [
    "options(scipen=999)  \n",
    "library(ggplot2)\n",
    "ggplot(movies_data,\n",
    "       aes(x=imdb_score,        # independet variable, feature 1\n",
    "           y=director_facebook_likes,              # dependent variable, feature 2\n",
    "           color=<what goes in here>,  # independet variable, feature 3\n",
    "           size=<what goes in here>)  +    # independet variable, feature 4\n",
    "       xlab(\"IMDB Score\") +\n",
    "       ylab(\"Director fb likes\")+\n",
    "       labs(title=\"IMDB rating vs Director fb likes\")\n",
    "       +geom_point()"
   ]
  },
  {
   "cell_type": "markdown",
   "metadata": {},
   "source": [
    "**Question 8.a: **Draw a plot with imdb_score on x-axis, director_facebook_likes on y-axis for movies_data dataset. Use movie_facebook_likes variable for color parameter and gross for size parameter. "
   ]
  },
  {
   "cell_type": "code",
   "execution_count": null,
   "metadata": {
    "collapsed": false
   },
   "outputs": [],
   "source": [
    "options(scipen=999)  \n",
    "library(ggplot2)\n",
    "ggplot(movies_data,\n",
    "       aes(x=imdb_score,        # independet variable, feature 1\n",
    "           y=<what goes in here>,              # dependent variable, feature 2\n",
    "           <what goes in here>=movie_facebook_likes,  # independet variable, feature 3\n",
    "           size=gross)+      # independet variable, feature 4\n",
    "       xlab(\"IMDB Score\")+\n",
    "       ylab(\"Director fb likes\")+\n",
    "       main(\"IMDB rating vs Director fb likes\")\n",
    "      ) +geom_point()"
   ]
  },
  {
   "cell_type": "markdown",
   "metadata": {},
   "source": [
    "**Question 8.b: ** Write in a few words about your observations about the plot."
   ]
  },
  {
   "cell_type": "markdown",
   "metadata": {},
   "source": [
    "````\n",
    "\n",
    "        Write your answer for 8.b here\n",
    "\n",
    "````"
   ]
  },
  {
   "cell_type": "markdown",
   "metadata": {},
   "source": [
    "**Question 9.a: **Draw a plot with imdb_score on x-axis, num_voted_users on y-axis for movies_data dataset. Use num_user_for_reviews variable for color parameter and gross for size parameter, color variable for shape parameter. "
   ]
  },
  {
   "cell_type": "code",
   "execution_count": null,
   "metadata": {
    "collapsed": false
   },
   "outputs": [],
   "source": [
    "options(scipen=999)  \n",
    "library(ggplot2)\n",
    "ggplot(movies_data,\n",
    "       aes(x=imdb_score,        # independet variable, feature 1\n",
    "           y=num_voted_users,              # dependent variable, feature 2\n",
    "           color=num_user_for_reviews,  # independet variable, feature 3\n",
    "           size=gross,                  # independet variable, feature 4\n",
    "          <what goes in here>=<what goes in here>),      # independet variable, feature 5\n",
    "       xlab(\"IMDB Score\"),\n",
    "       ylab(\"Director fb likes\"),\n",
    "       main(\"IMDB rating vs No of voted users\")\n",
    "      ) +geom_point()"
   ]
  },
  {
   "cell_type": "markdown",
   "metadata": {},
   "source": [
    "**Question 9.b: ** Write in a few words about your observations about the plot."
   ]
  },
  {
   "cell_type": "markdown",
   "metadata": {},
   "source": [
    "````\n",
    "\n",
    "        Write your answer for 9.b here\n",
    "\n",
    "````"
   ]
  },
  {
   "cell_type": "markdown",
   "metadata": {},
   "source": [
    "**Question 10.a: **Draw a 3d scatterplot with imdb_score on x-axis, num_voted_users on y-axis and num_user_for_reviews on z-axis for movies_data dataset. Use imdb_score variable variable for color parameter. Modify/complete the code to generate the plot."
   ]
  },
  {
   "cell_type": "code",
   "execution_count": null,
   "metadata": {
    "collapsed": false
   },
   "outputs": [],
   "source": [
    "library(scatterplot3d)\n",
    "#Assigning a color to ranges of bathrooms\n",
    "movies_data$colors[movies_data$imdb_score<=2] <- \"green\"\n",
    "movies_data$colors[movies_data$imdb_score>=3 & movies_data$imdb_score<4] <- \"magenta\"\n",
    "movies_data$colors[movies_data$imdb_score>=4 & movies_data$imdb_score<5] <- \"red\"\n",
    "movies_data$colors[movies_data$imdb_score>=5 & movies_data$imdb_score<6] <- \"blue\"\n",
    "movies_data$colors[movies_data$imdb_score>=6 & movies_data$imdb_score<7] <- \"orange\"\n",
    "movies_data$colors[movies_data$imdb_score>=7 & movies_data$imdb_score<8] <- \"cyan\"\n",
    "movies_data$colors[movies_data$imdb_score>=8 & movies_data$imdb_score<9] <- \"purple\"\n",
    "movies_data$colors[movies_data$imdb_score>=9 & movies_data$imdb_score<10] <- \"black\"\n",
    "\n",
    "\n",
    "<what goes in here>(movies_data, {\n",
    "   # The scatter plot 3D was introduced in the extra / optional notebooks last week.\n",
    "   # This function produces a three dimensional plot of points using 3 variables for position, instead of just 2.\n",
    "                 #   x,        y,   and    z axis\n",
    "   scatterplot3d(imdb_score, num_voted_users, num_user_for_reviews,       \n",
    "                 <what goes in here>=<what goes in here>,             # put lines on the horizontal plane\n",
    "                 angle = 45,           # angle=45 denotes how graph is oriented,\n",
    "                 pch = 16,             # pch=16 denotes shape used to denote points on the plot\n",
    "                 color=colors,         #color=colors suggests to colors variable created above\n",
    "                 main=\"IMDB score vs user votes & reviews\",        \n",
    "                 xlab=\"IMDB Score\",\n",
    "                 ylab=\"No. of voted users\",\n",
    "                 zlab=\"No of user reviews\")\n",
    "\n",
    "legend(\"topleft\", inset=.05,      # location where the legend should be positioned on the graph\n",
    "    bty=\"n\", cex=.5,              # suppress legend box, shrink text 50%\n",
    "    title=\"IMDB score\", \n",
    "    c(\"<2\", \"3 - 3.9\", \"4 - 4.9\", \"5 - 5.9\", \"6 - 6.9\", \"7 - 7.9\", \"8 - 8.9\", \"9 - 9.9\"), \n",
    "       fill=c(\"green\", \"magenta\", \"red\", \"blue\", \"orange\", \"cyan\", \"purple\", \"black\"))\n",
    "}) # ends the context of the with()"
   ]
  },
  {
   "cell_type": "markdown",
   "metadata": {},
   "source": [
    "**Question 10.b: ** Write in a few words about your observations about the plot."
   ]
  },
  {
   "cell_type": "markdown",
   "metadata": {},
   "source": [
    "````\n",
    "\n",
    "        Write your answer for 10.b here\n",
    "\n",
    "````"
   ]
  },
  {
   "cell_type": "markdown",
   "metadata": {},
   "source": [
    "# SAVE YOUR NOTEBOOK"
   ]
  },
  {
   "cell_type": "code",
   "execution_count": null,
   "metadata": {
    "collapsed": true
   },
   "outputs": [],
   "source": [
    "# Add code here to save your work in to the version control\n",
    "# Hint: The file name is \"multivariate_exploration.ipynb\"\n",
    "\n"
   ]
  }
 ],
 "metadata": {
  "kernelspec": {
   "display_name": "R",
   "language": "R",
   "name": "ir"
  },
  "language_info": {
   "codemirror_mode": "r",
   "file_extension": ".r",
   "mimetype": "text/x-r-source",
   "name": "R",
   "pygments_lexer": "r",
   "version": "3.3.1"
  }
 },
 "nbformat": 4,
 "nbformat_minor": 0
}
