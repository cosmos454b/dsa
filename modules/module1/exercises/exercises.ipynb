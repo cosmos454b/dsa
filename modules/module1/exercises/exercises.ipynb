{
 "cells": [
  {
   "cell_type": "markdown",
   "metadata": {},
   "source": [
    "# Intro to statistics with `R`\n",
    "\n",
    "This is your first exercise notebook. \n",
    "The exercises are similar to what you have seen in lab and practice notebook with a few exercises designed to be a bit challenging. \n",
    "You should explore and find commands to solve the exercises.   \n",
    "\n",
    "Again much of the content will be similar to your lab, [Lab1_Histograms_and_Zscore](../labs/lab1_intro_to_stats.ipynb) and other practice book,[Traditional statistics practice with R](../practices/practice_wine.ipynb). \n",
    "Both notebooks will help you as a guide post in working out the solutions. \n",
    "\n",
    "As an added bonus, within this notebook we provide sample R code that commits your work to version control system (VCS).\n",
    "We will discuss this VCS later.\n",
    "Basically, you will create point-in-time saved versions of your notebook."
   ]
  },
  {
   "cell_type": "markdown",
   "metadata": {},
   "source": [
    "## Read in the Data\n",
    "\n",
    "For this exercise we will use some Bike Share data."
   ]
  },
  {
   "cell_type": "code",
   "execution_count": 16,
   "metadata": {
    "collapsed": false
   },
   "outputs": [
    {
     "data": {
      "text/html": [
       "<table>\n",
       "<thead><tr><th scope=col>instant</th><th scope=col>dteday</th><th scope=col>season</th><th scope=col>yr</th><th scope=col>mnth</th><th scope=col>hr</th><th scope=col>holiday</th><th scope=col>weekday</th><th scope=col>workingday</th><th scope=col>weathersit</th><th scope=col>temp</th><th scope=col>atemp</th><th scope=col>hum</th><th scope=col>windspeed</th><th scope=col>casual</th><th scope=col>registered</th><th scope=col>cnt</th></tr></thead>\n",
       "<tbody>\n",
       "\t<tr><td>1         </td><td>2011-01-01</td><td>1         </td><td>0         </td><td>1         </td><td>0         </td><td>0         </td><td>6         </td><td>0         </td><td>1         </td><td>0.24      </td><td>0.2879    </td><td>0.81      </td><td>0.0000    </td><td>3         </td><td>13        </td><td>16        </td></tr>\n",
       "\t<tr><td>2         </td><td>2011-01-01</td><td>1         </td><td>0         </td><td>1         </td><td>1         </td><td>0         </td><td>6         </td><td>0         </td><td>1         </td><td>0.22      </td><td>0.2727    </td><td>0.80      </td><td>0.0000    </td><td>8         </td><td>32        </td><td>40        </td></tr>\n",
       "\t<tr><td>3         </td><td>2011-01-01</td><td>1         </td><td>0         </td><td>1         </td><td>2         </td><td>0         </td><td>6         </td><td>0         </td><td>1         </td><td>0.22      </td><td>0.2727    </td><td>0.80      </td><td>0.0000    </td><td>5         </td><td>27        </td><td>32        </td></tr>\n",
       "\t<tr><td>4         </td><td>2011-01-01</td><td>1         </td><td>0         </td><td>1         </td><td>3         </td><td>0         </td><td>6         </td><td>0         </td><td>1         </td><td>0.24      </td><td>0.2879    </td><td>0.75      </td><td>0.0000    </td><td>3         </td><td>10        </td><td>13        </td></tr>\n",
       "\t<tr><td>5         </td><td>2011-01-01</td><td>1         </td><td>0         </td><td>1         </td><td>4         </td><td>0         </td><td>6         </td><td>0         </td><td>1         </td><td>0.24      </td><td>0.2879    </td><td>0.75      </td><td>0.0000    </td><td>0         </td><td> 1        </td><td> 1        </td></tr>\n",
       "\t<tr><td>6         </td><td>2011-01-01</td><td>1         </td><td>0         </td><td>1         </td><td>5         </td><td>0         </td><td>6         </td><td>0         </td><td>2         </td><td>0.24      </td><td>0.2576    </td><td>0.75      </td><td>0.0896    </td><td>0         </td><td> 1        </td><td> 1        </td></tr>\n",
       "</tbody>\n",
       "</table>\n"
      ],
      "text/latex": [
       "\\begin{tabular}{r|lllllllllllllllll}\n",
       " instant & dteday & season & yr & mnth & hr & holiday & weekday & workingday & weathersit & temp & atemp & hum & windspeed & casual & registered & cnt\\\\\n",
       "\\hline\n",
       "\t 1          & 2011-01-01 & 1          & 0          & 1          & 0          & 0          & 6          & 0          & 1          & 0.24       & 0.2879     & 0.81       & 0.0000     & 3          & 13         & 16        \\\\\n",
       "\t 2          & 2011-01-01 & 1          & 0          & 1          & 1          & 0          & 6          & 0          & 1          & 0.22       & 0.2727     & 0.80       & 0.0000     & 8          & 32         & 40        \\\\\n",
       "\t 3          & 2011-01-01 & 1          & 0          & 1          & 2          & 0          & 6          & 0          & 1          & 0.22       & 0.2727     & 0.80       & 0.0000     & 5          & 27         & 32        \\\\\n",
       "\t 4          & 2011-01-01 & 1          & 0          & 1          & 3          & 0          & 6          & 0          & 1          & 0.24       & 0.2879     & 0.75       & 0.0000     & 3          & 10         & 13        \\\\\n",
       "\t 5          & 2011-01-01 & 1          & 0          & 1          & 4          & 0          & 6          & 0          & 1          & 0.24       & 0.2879     & 0.75       & 0.0000     & 0          &  1         &  1        \\\\\n",
       "\t 6          & 2011-01-01 & 1          & 0          & 1          & 5          & 0          & 6          & 0          & 2          & 0.24       & 0.2576     & 0.75       & 0.0896     & 0          &  1         &  1        \\\\\n",
       "\\end{tabular}\n"
      ],
      "text/plain": [
       "  instant dteday     season yr mnth hr holiday weekday workingday weathersit\n",
       "1 1       2011-01-01 1      0  1    0  0       6       0          1         \n",
       "2 2       2011-01-01 1      0  1    1  0       6       0          1         \n",
       "3 3       2011-01-01 1      0  1    2  0       6       0          1         \n",
       "4 4       2011-01-01 1      0  1    3  0       6       0          1         \n",
       "5 5       2011-01-01 1      0  1    4  0       6       0          1         \n",
       "6 6       2011-01-01 1      0  1    5  0       6       0          2         \n",
       "  temp atemp  hum  windspeed casual registered cnt\n",
       "1 0.24 0.2879 0.81 0.0000    3      13         16 \n",
       "2 0.22 0.2727 0.80 0.0000    8      32         40 \n",
       "3 0.22 0.2727 0.80 0.0000    5      27         32 \n",
       "4 0.24 0.2879 0.75 0.0000    3      10         13 \n",
       "5 0.24 0.2879 0.75 0.0000    0       1          1 \n",
       "6 0.24 0.2576 0.75 0.0896    0       1          1 "
      ]
     },
     "metadata": {},
     "output_type": "display_data"
    },
    {
     "data": {
      "text/html": [
       "<ol class=list-inline>\n",
       "\t<li>'instant'</li>\n",
       "\t<li>'dteday'</li>\n",
       "\t<li>'season'</li>\n",
       "\t<li>'yr'</li>\n",
       "\t<li>'mnth'</li>\n",
       "\t<li>'hr'</li>\n",
       "\t<li>'holiday'</li>\n",
       "\t<li>'weekday'</li>\n",
       "\t<li>'workingday'</li>\n",
       "\t<li>'weathersit'</li>\n",
       "\t<li>'temp'</li>\n",
       "\t<li>'atemp'</li>\n",
       "\t<li>'hum'</li>\n",
       "\t<li>'windspeed'</li>\n",
       "\t<li>'casual'</li>\n",
       "\t<li>'registered'</li>\n",
       "\t<li>'cnt'</li>\n",
       "</ol>\n"
      ],
      "text/latex": [
       "\\begin{enumerate*}\n",
       "\\item 'instant'\n",
       "\\item 'dteday'\n",
       "\\item 'season'\n",
       "\\item 'yr'\n",
       "\\item 'mnth'\n",
       "\\item 'hr'\n",
       "\\item 'holiday'\n",
       "\\item 'weekday'\n",
       "\\item 'workingday'\n",
       "\\item 'weathersit'\n",
       "\\item 'temp'\n",
       "\\item 'atemp'\n",
       "\\item 'hum'\n",
       "\\item 'windspeed'\n",
       "\\item 'casual'\n",
       "\\item 'registered'\n",
       "\\item 'cnt'\n",
       "\\end{enumerate*}\n"
      ],
      "text/markdown": [
       "1. 'instant'\n",
       "2. 'dteday'\n",
       "3. 'season'\n",
       "4. 'yr'\n",
       "5. 'mnth'\n",
       "6. 'hr'\n",
       "7. 'holiday'\n",
       "8. 'weekday'\n",
       "9. 'workingday'\n",
       "10. 'weathersit'\n",
       "11. 'temp'\n",
       "12. 'atemp'\n",
       "13. 'hum'\n",
       "14. 'windspeed'\n",
       "15. 'casual'\n",
       "16. 'registered'\n",
       "17. 'cnt'\n",
       "\n",
       "\n"
      ],
      "text/plain": [
       " [1] \"instant\"    \"dteday\"     \"season\"     \"yr\"         \"mnth\"      \n",
       " [6] \"hr\"         \"holiday\"    \"weekday\"    \"workingday\" \"weathersit\"\n",
       "[11] \"temp\"       \"atemp\"      \"hum\"        \"windspeed\"  \"casual\"    \n",
       "[16] \"registered\" \"cnt\"       "
      ]
     },
     "metadata": {},
     "output_type": "display_data"
    }
   ],
   "source": [
    "bikeshare_hour <- read.csv('../../../datasets/bikeshare/hour.csv')\n",
    "head(bikeshare_hour)\n",
    "names(bikeshare_hour)"
   ]
  },
  {
   "cell_type": "markdown",
   "metadata": {},
   "source": [
    "**Activity 1**: Find the dimensions (the number of rows and columns) of the data frame."
   ]
  },
  {
   "cell_type": "code",
   "execution_count": 5,
   "metadata": {
    "collapsed": false
   },
   "outputs": [
    {
     "data": {
      "text/html": [
       "<ol class=list-inline>\n",
       "\t<li>17379</li>\n",
       "\t<li>17</li>\n",
       "</ol>\n"
      ],
      "text/latex": [
       "\\begin{enumerate*}\n",
       "\\item 17379\n",
       "\\item 17\n",
       "\\end{enumerate*}\n"
      ],
      "text/markdown": [
       "1. 17379\n",
       "2. 17\n",
       "\n",
       "\n"
      ],
      "text/plain": [
       "[1] 17379    17"
      ]
     },
     "metadata": {},
     "output_type": "display_data"
    }
   ],
   "source": [
    "dim(bikeshare_hour)"
   ]
  },
  {
   "cell_type": "markdown",
   "metadata": {},
   "source": [
    "**Activity 2**: Display the ***last*** 10 columns of the data frame."
   ]
  },
  {
   "cell_type": "code",
   "execution_count": 12,
   "metadata": {
    "collapsed": false
   },
   "outputs": [
    {
     "data": {
      "text/html": [
       "<table>\n",
       "<thead><tr><th scope=col>weekday</th><th scope=col>workingday</th><th scope=col>weathersit</th><th scope=col>temp</th><th scope=col>atemp</th><th scope=col>hum</th><th scope=col>windspeed</th><th scope=col>casual</th><th scope=col>registered</th><th scope=col>cnt</th></tr></thead>\n",
       "<tbody>\n",
       "\t<tr><td>6     </td><td>0     </td><td>1     </td><td>0.24  </td><td>0.2879</td><td>0.81  </td><td>0.0000</td><td> 3    </td><td>13    </td><td> 16   </td></tr>\n",
       "\t<tr><td>6     </td><td>0     </td><td>1     </td><td>0.22  </td><td>0.2727</td><td>0.80  </td><td>0.0000</td><td> 8    </td><td>32    </td><td> 40   </td></tr>\n",
       "\t<tr><td>6     </td><td>0     </td><td>1     </td><td>0.22  </td><td>0.2727</td><td>0.80  </td><td>0.0000</td><td> 5    </td><td>27    </td><td> 32   </td></tr>\n",
       "\t<tr><td>6     </td><td>0     </td><td>1     </td><td>0.24  </td><td>0.2879</td><td>0.75  </td><td>0.0000</td><td> 3    </td><td>10    </td><td> 13   </td></tr>\n",
       "\t<tr><td>6     </td><td>0     </td><td>1     </td><td>0.24  </td><td>0.2879</td><td>0.75  </td><td>0.0000</td><td> 0    </td><td> 1    </td><td>  1   </td></tr>\n",
       "\t<tr><td>6     </td><td>0     </td><td>2     </td><td>0.24  </td><td>0.2576</td><td>0.75  </td><td>0.0896</td><td> 0    </td><td> 1    </td><td>  1   </td></tr>\n",
       "\t<tr><td>6     </td><td>0     </td><td>1     </td><td>0.22  </td><td>0.2727</td><td>0.80  </td><td>0.0000</td><td> 2    </td><td> 0    </td><td>  2   </td></tr>\n",
       "\t<tr><td>6     </td><td>0     </td><td>1     </td><td>0.20  </td><td>0.2576</td><td>0.86  </td><td>0.0000</td><td> 1    </td><td> 2    </td><td>  3   </td></tr>\n",
       "\t<tr><td>6     </td><td>0     </td><td>1     </td><td>0.24  </td><td>0.2879</td><td>0.75  </td><td>0.0000</td><td> 1    </td><td> 7    </td><td>  8   </td></tr>\n",
       "\t<tr><td>6     </td><td>0     </td><td>1     </td><td>0.32  </td><td>0.3485</td><td>0.76  </td><td>0.0000</td><td> 8    </td><td> 6    </td><td> 14   </td></tr>\n",
       "\t<tr><td>6     </td><td>0     </td><td>1     </td><td>0.38  </td><td>0.3939</td><td>0.76  </td><td>0.2537</td><td>12    </td><td>24    </td><td> 36   </td></tr>\n",
       "\t<tr><td>6     </td><td>0     </td><td>1     </td><td>0.36  </td><td>0.3333</td><td>0.81  </td><td>0.2836</td><td>26    </td><td>30    </td><td> 56   </td></tr>\n",
       "\t<tr><td>6     </td><td>0     </td><td>1     </td><td>0.42  </td><td>0.4242</td><td>0.77  </td><td>0.2836</td><td>29    </td><td>55    </td><td> 84   </td></tr>\n",
       "\t<tr><td>6     </td><td>0     </td><td>2     </td><td>0.46  </td><td>0.4545</td><td>0.72  </td><td>0.2985</td><td>47    </td><td>47    </td><td> 94   </td></tr>\n",
       "\t<tr><td>6     </td><td>0     </td><td>2     </td><td>0.46  </td><td>0.4545</td><td>0.72  </td><td>0.2836</td><td>35    </td><td>71    </td><td>106   </td></tr>\n",
       "\t<tr><td>6     </td><td>0     </td><td>2     </td><td>0.44  </td><td>0.4394</td><td>0.77  </td><td>0.2985</td><td>40    </td><td>70    </td><td>110   </td></tr>\n",
       "\t<tr><td>6     </td><td>0     </td><td>2     </td><td>0.42  </td><td>0.4242</td><td>0.82  </td><td>0.2985</td><td>41    </td><td>52    </td><td> 93   </td></tr>\n",
       "\t<tr><td>6     </td><td>0     </td><td>2     </td><td>0.44  </td><td>0.4394</td><td>0.82  </td><td>0.2836</td><td>15    </td><td>52    </td><td> 67   </td></tr>\n",
       "\t<tr><td>6     </td><td>0     </td><td>3     </td><td>0.42  </td><td>0.4242</td><td>0.88  </td><td>0.2537</td><td> 9    </td><td>26    </td><td> 35   </td></tr>\n",
       "\t<tr><td>6     </td><td>0     </td><td>3     </td><td>0.42  </td><td>0.4242</td><td>0.88  </td><td>0.2537</td><td> 6    </td><td>31    </td><td> 37   </td></tr>\n",
       "\t<tr><td>6     </td><td>0     </td><td>2     </td><td>0.40  </td><td>0.4091</td><td>0.87  </td><td>0.2537</td><td>11    </td><td>25    </td><td> 36   </td></tr>\n",
       "\t<tr><td>6     </td><td>0     </td><td>2     </td><td>0.40  </td><td>0.4091</td><td>0.87  </td><td>0.1940</td><td> 3    </td><td>31    </td><td> 34   </td></tr>\n",
       "\t<tr><td>6     </td><td>0     </td><td>2     </td><td>0.40  </td><td>0.4091</td><td>0.94  </td><td>0.2239</td><td>11    </td><td>17    </td><td> 28   </td></tr>\n",
       "\t<tr><td>6     </td><td>0     </td><td>2     </td><td>0.46  </td><td>0.4545</td><td>0.88  </td><td>0.2985</td><td>15    </td><td>24    </td><td> 39   </td></tr>\n",
       "\t<tr><td>0     </td><td>0     </td><td>2     </td><td>0.46  </td><td>0.4545</td><td>0.88  </td><td>0.2985</td><td> 4    </td><td>13    </td><td> 17   </td></tr>\n",
       "\t<tr><td>0     </td><td>0     </td><td>2     </td><td>0.44  </td><td>0.4394</td><td>0.94  </td><td>0.2537</td><td> 1    </td><td>16    </td><td> 17   </td></tr>\n",
       "\t<tr><td>0     </td><td>0     </td><td>2     </td><td>0.42  </td><td>0.4242</td><td>1.00  </td><td>0.2836</td><td> 1    </td><td> 8    </td><td>  9   </td></tr>\n",
       "\t<tr><td>0     </td><td>0     </td><td>2     </td><td>0.46  </td><td>0.4545</td><td>0.94  </td><td>0.1940</td><td> 2    </td><td> 4    </td><td>  6   </td></tr>\n",
       "\t<tr><td>0     </td><td>0     </td><td>2     </td><td>0.46  </td><td>0.4545</td><td>0.94  </td><td>0.1940</td><td> 2    </td><td> 1    </td><td>  3   </td></tr>\n",
       "\t<tr><td>0     </td><td>0     </td><td>3     </td><td>0.42  </td><td>0.4242</td><td>0.77  </td><td>0.2985</td><td> 0    </td><td> 2    </td><td>  2   </td></tr>\n",
       "\t<tr><td>⋮</td><td>⋮</td><td>⋮</td><td>⋮</td><td>⋮</td><td>⋮</td><td>⋮</td><td>⋮</td><td>⋮</td><td>⋮</td></tr>\n",
       "\t<tr><td>0     </td><td>0     </td><td>2     </td><td>0.24  </td><td>0.2121</td><td>0.44  </td><td>0.2985</td><td>12    </td><td>113   </td><td>125   </td></tr>\n",
       "\t<tr><td>0     </td><td>0     </td><td>1     </td><td>0.34  </td><td>0.3636</td><td>0.61  </td><td>0.0000</td><td>16    </td><td> 86   </td><td>102   </td></tr>\n",
       "\t<tr><td>0     </td><td>0     </td><td>1     </td><td>0.22  </td><td>0.1970</td><td>0.47  </td><td>0.3284</td><td> 9    </td><td> 63   </td><td> 72   </td></tr>\n",
       "\t<tr><td>0     </td><td>0     </td><td>1     </td><td>0.20  </td><td>0.2121</td><td>0.51  </td><td>0.1642</td><td> 5    </td><td> 42   </td><td> 47   </td></tr>\n",
       "\t<tr><td>0     </td><td>0     </td><td>1     </td><td>0.20  </td><td>0.1970</td><td>0.55  </td><td>0.1940</td><td> 6    </td><td> 30   </td><td> 36   </td></tr>\n",
       "\t<tr><td>0     </td><td>0     </td><td>1     </td><td>0.20  </td><td>0.1970</td><td>0.51  </td><td>0.2239</td><td>10    </td><td> 39   </td><td> 49   </td></tr>\n",
       "\t<tr><td>1     </td><td>1     </td><td>1     </td><td>0.18  </td><td>0.1818</td><td>0.55  </td><td>0.1940</td><td> 4    </td><td> 30   </td><td> 34   </td></tr>\n",
       "\t<tr><td>1     </td><td>1     </td><td>1     </td><td>0.18  </td><td>0.1818</td><td>0.55  </td><td>0.1940</td><td> 6    </td><td> 13   </td><td> 19   </td></tr>\n",
       "\t<tr><td>1     </td><td>1     </td><td>1     </td><td>0.16  </td><td>0.1667</td><td>0.59  </td><td>0.1642</td><td> 3    </td><td>  8   </td><td> 11   </td></tr>\n",
       "\t<tr><td>1     </td><td>1     </td><td>1     </td><td>0.16  </td><td>0.1818</td><td>0.59  </td><td>0.1045</td><td> 0    </td><td>  1   </td><td>  1   </td></tr>\n",
       "\t<tr><td>1     </td><td>1     </td><td>1     </td><td>0.14  </td><td>0.1667</td><td>0.69  </td><td>0.1045</td><td> 0    </td><td>  3   </td><td>  3   </td></tr>\n",
       "\t<tr><td>1     </td><td>1     </td><td>1     </td><td>0.16  </td><td>0.1515</td><td>0.64  </td><td>0.1940</td><td> 0    </td><td>  9   </td><td>  9   </td></tr>\n",
       "\t<tr><td>1     </td><td>1     </td><td>1     </td><td>0.16  </td><td>0.1667</td><td>0.64  </td><td>0.1642</td><td> 0    </td><td> 40   </td><td> 40   </td></tr>\n",
       "\t<tr><td>1     </td><td>1     </td><td>1     </td><td>0.16  </td><td>0.1818</td><td>0.64  </td><td>0.1343</td><td> 2    </td><td> 83   </td><td> 85   </td></tr>\n",
       "\t<tr><td>1     </td><td>1     </td><td>1     </td><td>0.14  </td><td>0.1515</td><td>0.69  </td><td>0.1343</td><td> 9    </td><td>187   </td><td>196   </td></tr>\n",
       "\t<tr><td>1     </td><td>1     </td><td>2     </td><td>0.18  </td><td>0.2121</td><td>0.64  </td><td>0.1045</td><td>13    </td><td>144   </td><td>157   </td></tr>\n",
       "\t<tr><td>1     </td><td>1     </td><td>2     </td><td>0.20  </td><td>0.2121</td><td>0.69  </td><td>0.1343</td><td>33    </td><td> 87   </td><td>120   </td></tr>\n",
       "\t<tr><td>1     </td><td>1     </td><td>2     </td><td>0.22  </td><td>0.2273</td><td>0.60  </td><td>0.1940</td><td>43    </td><td>114   </td><td>157   </td></tr>\n",
       "\t<tr><td>1     </td><td>1     </td><td>2     </td><td>0.24  </td><td>0.2273</td><td>0.56  </td><td>0.1940</td><td>52    </td><td>172   </td><td>224   </td></tr>\n",
       "\t<tr><td>1     </td><td>1     </td><td>2     </td><td>0.26  </td><td>0.2576</td><td>0.44  </td><td>0.1642</td><td>38    </td><td>165   </td><td>203   </td></tr>\n",
       "\t<tr><td>1     </td><td>1     </td><td>2     </td><td>0.28  </td><td>0.2727</td><td>0.45  </td><td>0.2239</td><td>62    </td><td>185   </td><td>247   </td></tr>\n",
       "\t<tr><td>1     </td><td>1     </td><td>2     </td><td>0.28  </td><td>0.2879</td><td>0.45  </td><td>0.1343</td><td>69    </td><td>246   </td><td>315   </td></tr>\n",
       "\t<tr><td>1     </td><td>1     </td><td>2     </td><td>0.26  </td><td>0.2576</td><td>0.48  </td><td>0.1940</td><td>30    </td><td>184   </td><td>214   </td></tr>\n",
       "\t<tr><td>1     </td><td>1     </td><td>2     </td><td>0.26  </td><td>0.2879</td><td>0.48  </td><td>0.0896</td><td>14    </td><td>150   </td><td>164   </td></tr>\n",
       "\t<tr><td>1     </td><td>1     </td><td>2     </td><td>0.26  </td><td>0.2727</td><td>0.48  </td><td>0.1343</td><td>10    </td><td>112   </td><td>122   </td></tr>\n",
       "\t<tr><td>1     </td><td>1     </td><td>2     </td><td>0.26  </td><td>0.2576</td><td>0.60  </td><td>0.1642</td><td>11    </td><td>108   </td><td>119   </td></tr>\n",
       "\t<tr><td>1     </td><td>1     </td><td>2     </td><td>0.26  </td><td>0.2576</td><td>0.60  </td><td>0.1642</td><td> 8    </td><td> 81   </td><td> 89   </td></tr>\n",
       "\t<tr><td>1     </td><td>1     </td><td>1     </td><td>0.26  </td><td>0.2576</td><td>0.60  </td><td>0.1642</td><td> 7    </td><td> 83   </td><td> 90   </td></tr>\n",
       "\t<tr><td>1     </td><td>1     </td><td>1     </td><td>0.26  </td><td>0.2727</td><td>0.56  </td><td>0.1343</td><td>13    </td><td> 48   </td><td> 61   </td></tr>\n",
       "\t<tr><td>1     </td><td>1     </td><td>1     </td><td>0.26  </td><td>0.2727</td><td>0.65  </td><td>0.1343</td><td>12    </td><td> 37   </td><td> 49   </td></tr>\n",
       "</tbody>\n",
       "</table>\n"
      ],
      "text/latex": [
       "\\begin{tabular}{r|llllllllll}\n",
       " weekday & workingday & weathersit & temp & atemp & hum & windspeed & casual & registered & cnt\\\\\n",
       "\\hline\n",
       "\t 6      & 0      & 1      & 0.24   & 0.2879 & 0.81   & 0.0000 &  3     & 13     &  16   \\\\\n",
       "\t 6      & 0      & 1      & 0.22   & 0.2727 & 0.80   & 0.0000 &  8     & 32     &  40   \\\\\n",
       "\t 6      & 0      & 1      & 0.22   & 0.2727 & 0.80   & 0.0000 &  5     & 27     &  32   \\\\\n",
       "\t 6      & 0      & 1      & 0.24   & 0.2879 & 0.75   & 0.0000 &  3     & 10     &  13   \\\\\n",
       "\t 6      & 0      & 1      & 0.24   & 0.2879 & 0.75   & 0.0000 &  0     &  1     &   1   \\\\\n",
       "\t 6      & 0      & 2      & 0.24   & 0.2576 & 0.75   & 0.0896 &  0     &  1     &   1   \\\\\n",
       "\t 6      & 0      & 1      & 0.22   & 0.2727 & 0.80   & 0.0000 &  2     &  0     &   2   \\\\\n",
       "\t 6      & 0      & 1      & 0.20   & 0.2576 & 0.86   & 0.0000 &  1     &  2     &   3   \\\\\n",
       "\t 6      & 0      & 1      & 0.24   & 0.2879 & 0.75   & 0.0000 &  1     &  7     &   8   \\\\\n",
       "\t 6      & 0      & 1      & 0.32   & 0.3485 & 0.76   & 0.0000 &  8     &  6     &  14   \\\\\n",
       "\t 6      & 0      & 1      & 0.38   & 0.3939 & 0.76   & 0.2537 & 12     & 24     &  36   \\\\\n",
       "\t 6      & 0      & 1      & 0.36   & 0.3333 & 0.81   & 0.2836 & 26     & 30     &  56   \\\\\n",
       "\t 6      & 0      & 1      & 0.42   & 0.4242 & 0.77   & 0.2836 & 29     & 55     &  84   \\\\\n",
       "\t 6      & 0      & 2      & 0.46   & 0.4545 & 0.72   & 0.2985 & 47     & 47     &  94   \\\\\n",
       "\t 6      & 0      & 2      & 0.46   & 0.4545 & 0.72   & 0.2836 & 35     & 71     & 106   \\\\\n",
       "\t 6      & 0      & 2      & 0.44   & 0.4394 & 0.77   & 0.2985 & 40     & 70     & 110   \\\\\n",
       "\t 6      & 0      & 2      & 0.42   & 0.4242 & 0.82   & 0.2985 & 41     & 52     &  93   \\\\\n",
       "\t 6      & 0      & 2      & 0.44   & 0.4394 & 0.82   & 0.2836 & 15     & 52     &  67   \\\\\n",
       "\t 6      & 0      & 3      & 0.42   & 0.4242 & 0.88   & 0.2537 &  9     & 26     &  35   \\\\\n",
       "\t 6      & 0      & 3      & 0.42   & 0.4242 & 0.88   & 0.2537 &  6     & 31     &  37   \\\\\n",
       "\t 6      & 0      & 2      & 0.40   & 0.4091 & 0.87   & 0.2537 & 11     & 25     &  36   \\\\\n",
       "\t 6      & 0      & 2      & 0.40   & 0.4091 & 0.87   & 0.1940 &  3     & 31     &  34   \\\\\n",
       "\t 6      & 0      & 2      & 0.40   & 0.4091 & 0.94   & 0.2239 & 11     & 17     &  28   \\\\\n",
       "\t 6      & 0      & 2      & 0.46   & 0.4545 & 0.88   & 0.2985 & 15     & 24     &  39   \\\\\n",
       "\t 0      & 0      & 2      & 0.46   & 0.4545 & 0.88   & 0.2985 &  4     & 13     &  17   \\\\\n",
       "\t 0      & 0      & 2      & 0.44   & 0.4394 & 0.94   & 0.2537 &  1     & 16     &  17   \\\\\n",
       "\t 0      & 0      & 2      & 0.42   & 0.4242 & 1.00   & 0.2836 &  1     &  8     &   9   \\\\\n",
       "\t 0      & 0      & 2      & 0.46   & 0.4545 & 0.94   & 0.1940 &  2     &  4     &   6   \\\\\n",
       "\t 0      & 0      & 2      & 0.46   & 0.4545 & 0.94   & 0.1940 &  2     &  1     &   3   \\\\\n",
       "\t 0      & 0      & 3      & 0.42   & 0.4242 & 0.77   & 0.2985 &  0     &  2     &   2   \\\\\n",
       "\t ⋮ & ⋮ & ⋮ & ⋮ & ⋮ & ⋮ & ⋮ & ⋮ & ⋮ & ⋮\\\\\n",
       "\t 0      & 0      & 2      & 0.24   & 0.2121 & 0.44   & 0.2985 & 12     & 113    & 125   \\\\\n",
       "\t 0      & 0      & 1      & 0.34   & 0.3636 & 0.61   & 0.0000 & 16     &  86    & 102   \\\\\n",
       "\t 0      & 0      & 1      & 0.22   & 0.1970 & 0.47   & 0.3284 &  9     &  63    &  72   \\\\\n",
       "\t 0      & 0      & 1      & 0.20   & 0.2121 & 0.51   & 0.1642 &  5     &  42    &  47   \\\\\n",
       "\t 0      & 0      & 1      & 0.20   & 0.1970 & 0.55   & 0.1940 &  6     &  30    &  36   \\\\\n",
       "\t 0      & 0      & 1      & 0.20   & 0.1970 & 0.51   & 0.2239 & 10     &  39    &  49   \\\\\n",
       "\t 1      & 1      & 1      & 0.18   & 0.1818 & 0.55   & 0.1940 &  4     &  30    &  34   \\\\\n",
       "\t 1      & 1      & 1      & 0.18   & 0.1818 & 0.55   & 0.1940 &  6     &  13    &  19   \\\\\n",
       "\t 1      & 1      & 1      & 0.16   & 0.1667 & 0.59   & 0.1642 &  3     &   8    &  11   \\\\\n",
       "\t 1      & 1      & 1      & 0.16   & 0.1818 & 0.59   & 0.1045 &  0     &   1    &   1   \\\\\n",
       "\t 1      & 1      & 1      & 0.14   & 0.1667 & 0.69   & 0.1045 &  0     &   3    &   3   \\\\\n",
       "\t 1      & 1      & 1      & 0.16   & 0.1515 & 0.64   & 0.1940 &  0     &   9    &   9   \\\\\n",
       "\t 1      & 1      & 1      & 0.16   & 0.1667 & 0.64   & 0.1642 &  0     &  40    &  40   \\\\\n",
       "\t 1      & 1      & 1      & 0.16   & 0.1818 & 0.64   & 0.1343 &  2     &  83    &  85   \\\\\n",
       "\t 1      & 1      & 1      & 0.14   & 0.1515 & 0.69   & 0.1343 &  9     & 187    & 196   \\\\\n",
       "\t 1      & 1      & 2      & 0.18   & 0.2121 & 0.64   & 0.1045 & 13     & 144    & 157   \\\\\n",
       "\t 1      & 1      & 2      & 0.20   & 0.2121 & 0.69   & 0.1343 & 33     &  87    & 120   \\\\\n",
       "\t 1      & 1      & 2      & 0.22   & 0.2273 & 0.60   & 0.1940 & 43     & 114    & 157   \\\\\n",
       "\t 1      & 1      & 2      & 0.24   & 0.2273 & 0.56   & 0.1940 & 52     & 172    & 224   \\\\\n",
       "\t 1      & 1      & 2      & 0.26   & 0.2576 & 0.44   & 0.1642 & 38     & 165    & 203   \\\\\n",
       "\t 1      & 1      & 2      & 0.28   & 0.2727 & 0.45   & 0.2239 & 62     & 185    & 247   \\\\\n",
       "\t 1      & 1      & 2      & 0.28   & 0.2879 & 0.45   & 0.1343 & 69     & 246    & 315   \\\\\n",
       "\t 1      & 1      & 2      & 0.26   & 0.2576 & 0.48   & 0.1940 & 30     & 184    & 214   \\\\\n",
       "\t 1      & 1      & 2      & 0.26   & 0.2879 & 0.48   & 0.0896 & 14     & 150    & 164   \\\\\n",
       "\t 1      & 1      & 2      & 0.26   & 0.2727 & 0.48   & 0.1343 & 10     & 112    & 122   \\\\\n",
       "\t 1      & 1      & 2      & 0.26   & 0.2576 & 0.60   & 0.1642 & 11     & 108    & 119   \\\\\n",
       "\t 1      & 1      & 2      & 0.26   & 0.2576 & 0.60   & 0.1642 &  8     &  81    &  89   \\\\\n",
       "\t 1      & 1      & 1      & 0.26   & 0.2576 & 0.60   & 0.1642 &  7     &  83    &  90   \\\\\n",
       "\t 1      & 1      & 1      & 0.26   & 0.2727 & 0.56   & 0.1343 & 13     &  48    &  61   \\\\\n",
       "\t 1      & 1      & 1      & 0.26   & 0.2727 & 0.65   & 0.1343 & 12     &  37    &  49   \\\\\n",
       "\\end{tabular}\n"
      ],
      "text/plain": [
       "      weekday workingday weathersit temp atemp  hum  windspeed casual\n",
       "1     6       0          1          0.24 0.2879 0.81 0.0000     3    \n",
       "2     6       0          1          0.22 0.2727 0.80 0.0000     8    \n",
       "3     6       0          1          0.22 0.2727 0.80 0.0000     5    \n",
       "4     6       0          1          0.24 0.2879 0.75 0.0000     3    \n",
       "5     6       0          1          0.24 0.2879 0.75 0.0000     0    \n",
       "6     6       0          2          0.24 0.2576 0.75 0.0896     0    \n",
       "7     6       0          1          0.22 0.2727 0.80 0.0000     2    \n",
       "8     6       0          1          0.20 0.2576 0.86 0.0000     1    \n",
       "9     6       0          1          0.24 0.2879 0.75 0.0000     1    \n",
       "10    6       0          1          0.32 0.3485 0.76 0.0000     8    \n",
       "11    6       0          1          0.38 0.3939 0.76 0.2537    12    \n",
       "12    6       0          1          0.36 0.3333 0.81 0.2836    26    \n",
       "13    6       0          1          0.42 0.4242 0.77 0.2836    29    \n",
       "14    6       0          2          0.46 0.4545 0.72 0.2985    47    \n",
       "15    6       0          2          0.46 0.4545 0.72 0.2836    35    \n",
       "16    6       0          2          0.44 0.4394 0.77 0.2985    40    \n",
       "17    6       0          2          0.42 0.4242 0.82 0.2985    41    \n",
       "18    6       0          2          0.44 0.4394 0.82 0.2836    15    \n",
       "19    6       0          3          0.42 0.4242 0.88 0.2537     9    \n",
       "20    6       0          3          0.42 0.4242 0.88 0.2537     6    \n",
       "21    6       0          2          0.40 0.4091 0.87 0.2537    11    \n",
       "22    6       0          2          0.40 0.4091 0.87 0.1940     3    \n",
       "23    6       0          2          0.40 0.4091 0.94 0.2239    11    \n",
       "24    6       0          2          0.46 0.4545 0.88 0.2985    15    \n",
       "25    0       0          2          0.46 0.4545 0.88 0.2985     4    \n",
       "26    0       0          2          0.44 0.4394 0.94 0.2537     1    \n",
       "27    0       0          2          0.42 0.4242 1.00 0.2836     1    \n",
       "28    0       0          2          0.46 0.4545 0.94 0.1940     2    \n",
       "29    0       0          2          0.46 0.4545 0.94 0.1940     2    \n",
       "30    0       0          3          0.42 0.4242 0.77 0.2985     0    \n",
       "⋮     ⋮       ⋮          ⋮          ⋮    ⋮      ⋮    ⋮         ⋮     \n",
       "17350 0       0          2          0.24 0.2121 0.44 0.2985    12    \n",
       "17351 0       0          1          0.34 0.3636 0.61 0.0000    16    \n",
       "17352 0       0          1          0.22 0.1970 0.47 0.3284     9    \n",
       "17353 0       0          1          0.20 0.2121 0.51 0.1642     5    \n",
       "17354 0       0          1          0.20 0.1970 0.55 0.1940     6    \n",
       "17355 0       0          1          0.20 0.1970 0.51 0.2239    10    \n",
       "17356 1       1          1          0.18 0.1818 0.55 0.1940     4    \n",
       "17357 1       1          1          0.18 0.1818 0.55 0.1940     6    \n",
       "17358 1       1          1          0.16 0.1667 0.59 0.1642     3    \n",
       "17359 1       1          1          0.16 0.1818 0.59 0.1045     0    \n",
       "17360 1       1          1          0.14 0.1667 0.69 0.1045     0    \n",
       "17361 1       1          1          0.16 0.1515 0.64 0.1940     0    \n",
       "17362 1       1          1          0.16 0.1667 0.64 0.1642     0    \n",
       "17363 1       1          1          0.16 0.1818 0.64 0.1343     2    \n",
       "17364 1       1          1          0.14 0.1515 0.69 0.1343     9    \n",
       "17365 1       1          2          0.18 0.2121 0.64 0.1045    13    \n",
       "17366 1       1          2          0.20 0.2121 0.69 0.1343    33    \n",
       "17367 1       1          2          0.22 0.2273 0.60 0.1940    43    \n",
       "17368 1       1          2          0.24 0.2273 0.56 0.1940    52    \n",
       "17369 1       1          2          0.26 0.2576 0.44 0.1642    38    \n",
       "17370 1       1          2          0.28 0.2727 0.45 0.2239    62    \n",
       "17371 1       1          2          0.28 0.2879 0.45 0.1343    69    \n",
       "17372 1       1          2          0.26 0.2576 0.48 0.1940    30    \n",
       "17373 1       1          2          0.26 0.2879 0.48 0.0896    14    \n",
       "17374 1       1          2          0.26 0.2727 0.48 0.1343    10    \n",
       "17375 1       1          2          0.26 0.2576 0.60 0.1642    11    \n",
       "17376 1       1          2          0.26 0.2576 0.60 0.1642     8    \n",
       "17377 1       1          1          0.26 0.2576 0.60 0.1642     7    \n",
       "17378 1       1          1          0.26 0.2727 0.56 0.1343    13    \n",
       "17379 1       1          1          0.26 0.2727 0.65 0.1343    12    \n",
       "      registered cnt\n",
       "1     13          16\n",
       "2     32          40\n",
       "3     27          32\n",
       "4     10          13\n",
       "5      1           1\n",
       "6      1           1\n",
       "7      0           2\n",
       "8      2           3\n",
       "9      7           8\n",
       "10     6          14\n",
       "11    24          36\n",
       "12    30          56\n",
       "13    55          84\n",
       "14    47          94\n",
       "15    71         106\n",
       "16    70         110\n",
       "17    52          93\n",
       "18    52          67\n",
       "19    26          35\n",
       "20    31          37\n",
       "21    25          36\n",
       "22    31          34\n",
       "23    17          28\n",
       "24    24          39\n",
       "25    13          17\n",
       "26    16          17\n",
       "27     8           9\n",
       "28     4           6\n",
       "29     1           3\n",
       "30     2           2\n",
       "⋮     ⋮          ⋮  \n",
       "17350 113        125\n",
       "17351  86        102\n",
       "17352  63         72\n",
       "17353  42         47\n",
       "17354  30         36\n",
       "17355  39         49\n",
       "17356  30         34\n",
       "17357  13         19\n",
       "17358   8         11\n",
       "17359   1          1\n",
       "17360   3          3\n",
       "17361   9          9\n",
       "17362  40         40\n",
       "17363  83         85\n",
       "17364 187        196\n",
       "17365 144        157\n",
       "17366  87        120\n",
       "17367 114        157\n",
       "17368 172        224\n",
       "17369 165        203\n",
       "17370 185        247\n",
       "17371 246        315\n",
       "17372 184        214\n",
       "17373 150        164\n",
       "17374 112        122\n",
       "17375 108        119\n",
       "17376  81         89\n",
       "17377  83         90\n",
       "17378  48         61\n",
       "17379  37         49"
      ]
     },
     "metadata": {},
     "output_type": "display_data"
    }
   ],
   "source": [
    "bikeshare_hour[tail(seq_along(bikeshare_hour),10)]"
   ]
  },
  {
   "cell_type": "markdown",
   "metadata": {},
   "source": [
    "**Activity 3**: Run summary command learnt in lab and identify each variable if its categorical or numerical."
   ]
  },
  {
   "cell_type": "code",
   "execution_count": 14,
   "metadata": {
    "collapsed": false
   },
   "outputs": [
    {
     "data": {
      "text/plain": [
       "    instant             dteday          season            yr        \n",
       " Min.   :    1   2011-01-01:   24   Min.   :1.000   Min.   :0.0000  \n",
       " 1st Qu.: 4346   2011-01-08:   24   1st Qu.:2.000   1st Qu.:0.0000  \n",
       " Median : 8690   2011-01-09:   24   Median :3.000   Median :1.0000  \n",
       " Mean   : 8690   2011-01-10:   24   Mean   :2.502   Mean   :0.5026  \n",
       " 3rd Qu.:13034   2011-01-13:   24   3rd Qu.:3.000   3rd Qu.:1.0000  \n",
       " Max.   :17379   2011-01-15:   24   Max.   :4.000   Max.   :1.0000  \n",
       "                 (Other)   :17235                                   \n",
       "      mnth              hr           holiday           weekday     \n",
       " Min.   : 1.000   Min.   : 0.00   Min.   :0.00000   Min.   :0.000  \n",
       " 1st Qu.: 4.000   1st Qu.: 6.00   1st Qu.:0.00000   1st Qu.:1.000  \n",
       " Median : 7.000   Median :12.00   Median :0.00000   Median :3.000  \n",
       " Mean   : 6.538   Mean   :11.55   Mean   :0.02877   Mean   :3.004  \n",
       " 3rd Qu.:10.000   3rd Qu.:18.00   3rd Qu.:0.00000   3rd Qu.:5.000  \n",
       " Max.   :12.000   Max.   :23.00   Max.   :1.00000   Max.   :6.000  \n",
       "                                                                   \n",
       "   workingday       weathersit         temp           atemp       \n",
       " Min.   :0.0000   Min.   :1.000   Min.   :0.020   Min.   :0.0000  \n",
       " 1st Qu.:0.0000   1st Qu.:1.000   1st Qu.:0.340   1st Qu.:0.3333  \n",
       " Median :1.0000   Median :1.000   Median :0.500   Median :0.4848  \n",
       " Mean   :0.6827   Mean   :1.425   Mean   :0.497   Mean   :0.4758  \n",
       " 3rd Qu.:1.0000   3rd Qu.:2.000   3rd Qu.:0.660   3rd Qu.:0.6212  \n",
       " Max.   :1.0000   Max.   :4.000   Max.   :1.000   Max.   :1.0000  \n",
       "                                                                  \n",
       "      hum           windspeed          casual         registered   \n",
       " Min.   :0.0000   Min.   :0.0000   Min.   :  0.00   Min.   :  0.0  \n",
       " 1st Qu.:0.4800   1st Qu.:0.1045   1st Qu.:  4.00   1st Qu.: 34.0  \n",
       " Median :0.6300   Median :0.1940   Median : 17.00   Median :115.0  \n",
       " Mean   :0.6272   Mean   :0.1901   Mean   : 35.68   Mean   :153.8  \n",
       " 3rd Qu.:0.7800   3rd Qu.:0.2537   3rd Qu.: 48.00   3rd Qu.:220.0  \n",
       " Max.   :1.0000   Max.   :0.8507   Max.   :367.00   Max.   :886.0  \n",
       "                                                                   \n",
       "      cnt       \n",
       " Min.   :  1.0  \n",
       " 1st Qu.: 40.0  \n",
       " Median :142.0  \n",
       " Mean   :189.5  \n",
       " 3rd Qu.:281.0  \n",
       " Max.   :977.0  \n",
       "                "
      ]
     },
     "metadata": {},
     "output_type": "display_data"
    },
    {
     "name": "stdout",
     "output_type": "stream",
     "text": [
      "'data.frame':\t17379 obs. of  17 variables:\n",
      " $ instant   : int  1 2 3 4 5 6 7 8 9 10 ...\n",
      " $ dteday    : Factor w/ 731 levels \"2011-01-01\",\"2011-01-02\",..: 1 1 1 1 1 1 1 1 1 1 ...\n",
      " $ season    : int  1 1 1 1 1 1 1 1 1 1 ...\n",
      " $ yr        : int  0 0 0 0 0 0 0 0 0 0 ...\n",
      " $ mnth      : int  1 1 1 1 1 1 1 1 1 1 ...\n",
      " $ hr        : int  0 1 2 3 4 5 6 7 8 9 ...\n",
      " $ holiday   : int  0 0 0 0 0 0 0 0 0 0 ...\n",
      " $ weekday   : int  6 6 6 6 6 6 6 6 6 6 ...\n",
      " $ workingday: int  0 0 0 0 0 0 0 0 0 0 ...\n",
      " $ weathersit: int  1 1 1 1 1 2 1 1 1 1 ...\n",
      " $ temp      : num  0.24 0.22 0.22 0.24 0.24 0.24 0.22 0.2 0.24 0.32 ...\n",
      " $ atemp     : num  0.288 0.273 0.273 0.288 0.288 ...\n",
      " $ hum       : num  0.81 0.8 0.8 0.75 0.75 0.75 0.8 0.86 0.75 0.76 ...\n",
      " $ windspeed : num  0 0 0 0 0 0.0896 0 0 0 0 ...\n",
      " $ casual    : int  3 8 5 3 0 0 2 1 1 8 ...\n",
      " $ registered: int  13 32 27 10 1 1 0 2 7 6 ...\n",
      " $ cnt       : int  16 40 32 13 1 1 2 3 8 14 ...\n"
     ]
    }
   ],
   "source": [
    "# Code for Activity 3 goes here -----------------------\n",
    "summary(bikeshare_hour)\n",
    "str(bikeshare_hour)"
   ]
  },
  {
   "cell_type": "markdown",
   "metadata": {},
   "source": [
    "'''\n",
    "All variables are numerical except dteday , which is a factor.\n",
    "'''"
   ]
  },
  {
   "cell_type": "markdown",
   "metadata": {},
   "source": [
    "# Bonus material: Using Version Control to Snapshot our Work\n",
    "\n",
    "The commands below will interface to the underlying version control system (VCS).\n",
    "In the DSA program we use Git.\n",
    "\n",
    "** Save your notebook **"
   ]
  },
  {
   "cell_type": "code",
   "execution_count": 15,
   "metadata": {
    "collapsed": false
   },
   "outputs": [
    {
     "data": {
      "text/plain": [
       "[44f1991] 2016-10-02: This is my first commit, Activities 1-3"
      ]
     },
     "metadata": {},
     "output_type": "display_data"
    }
   ],
   "source": [
    "# JUST RUN ME ... and Read\n",
    "# Load the library interfcae\n",
    "library(git2r)\n",
    "\n",
    "# Get the repository as an Object in R.  The '..' elements mean parent directory. \n",
    "# Note '.' represents the current directory \"exercises\"\n",
    "# So, relative to this file: StatMath/modules/module1/exercises/exercises.ipynb\n",
    "#       .. = DSA-8610_<your_id>/modules/module1\n",
    "#    ../.. = DSA-8610_<your_id>/modules\n",
    "# ../../.. = DSA-8610_<your_id>/\n",
    "repo <- repository('../../..')\n",
    "\n",
    "# Add this file to be tracked for changes\n",
    "# The first parameter is the Repository object created in the above command\n",
    "# The second parameter is the file we want to record history of changes for\n",
    "add(repo, 'exercises.ipynb')\n",
    "\n",
    "# Write a snapshot of any files we are currently tracking into the VCS\n",
    "# The first parameter is the Repository object created in the above command\n",
    "# The second parameter is the brief message\n",
    "commit(repo,\"This is my first commit, Activities 1-3\")"
   ]
  },
  {
   "cell_type": "markdown",
   "metadata": {},
   "source": [
    "\n",
    "When ever you see the cells with library(git2r) in your exercises, you can just run them.\n",
    "\n",
    "---\n",
    "** Back to Exercises **\n",
    "\n",
    "So what is the most common type of weather that happens?\n",
    "\n",
    "**Activity 4**: Find out the most common type of weather that occurs in the dataset."
   ]
  },
  {
   "cell_type": "code",
   "execution_count": 17,
   "metadata": {
    "collapsed": false
   },
   "outputs": [
    {
     "data": {
      "text/html": [
       "'1'"
      ],
      "text/latex": [
       "'1'"
      ],
      "text/markdown": [
       "'1'"
      ],
      "text/plain": [
       "[1] \"1\""
      ]
     },
     "metadata": {},
     "output_type": "display_data"
    }
   ],
   "source": [
    "names(which.max(table(bikeshare_hour$weathersit)))"
   ]
  },
  {
   "cell_type": "markdown",
   "metadata": {},
   "source": [
    "We have seen how to calculate z-score in the lab and how to use it in testing a hypothesis. Let’s say, we want to check the significance of variable weekday for hypothesis testing. Assume that monday(weekday 1) has more bike shares than average population bike shares on any other day\n",
    "\n",
    "So our null hypothesis H0 is, there is no significant difference in the number of bike shares for any day of the week\n",
    "\n",
    "Our alternate hypothesis H1 is, there is a better chance of monday having more bike shares than average bike shares on other days\n",
    "\n",
    "**Activity 5.a**: Calculate the z-score."
   ]
  },
  {
   "cell_type": "code",
   "execution_count": 39,
   "metadata": {
    "collapsed": false
   },
   "outputs": [
    {
     "name": "stdout",
     "output_type": "stream",
     "text": [
      "Sample mean:  183.7447 \n",
      "Population mean: 189.4631 \n",
      "Standard deviation: 181.3876 \n",
      "Z-score: -0.03152604"
     ]
    }
   ],
   "source": [
    "monday <- subset(bikeshare_hour, weekday == 1)\n",
    "sample_mean = mean(monday$cnt)\n",
    "cat(\"Sample mean: \", sample_mean,\"\\n\")\n",
    "pop_mean = mean(bikeshare_hour$cnt)\n",
    "cat(\"Population mean:\",pop_mean,\"\\n\")\n",
    "pop_var = var(bikeshare_hour$cnt)\n",
    "cat(\"Standard deviation:\",sqrt(pop_var),\"\\n\")\n",
    "zscore = (sample_mean - pop_mean) / (sqrt(pop_var))\n",
    "cat(\"Z-score:\",zscore)"
   ]
  },
  {
   "cell_type": "markdown",
   "metadata": {},
   "source": [
    "**Activity 5.b**: Test the null hypothesis H0, if its true or not. Explain why it is true or false."
   ]
  },
  {
   "cell_type": "markdown",
   "metadata": {},
   "source": [
    "````\n",
    "\n",
    "the null hypothesis is not true. The difference between sample mean for monday and population mean along with high standard deviation indicates skew in bike shares.\n",
    "    \n",
    "----\n",
    "\n",
    "````"
   ]
  },
  {
   "cell_type": "markdown",
   "metadata": {},
   "source": [
    "Let's say we were interested in analyzing patters on weekdays and weekends. \n",
    "\n",
    "**Activity 6**: subset the data set into two different subsets for rows where the weekday = 1,2,3,4,5 for weekday and 0,6 for weekend."
   ]
  },
  {
   "cell_type": "code",
   "execution_count": 40,
   "metadata": {
    "collapsed": false
   },
   "outputs": [],
   "source": [
    "weekday <- subset(bikeshare_hour, weekday == 1 | weekday == 2 |weekday == 3 | weekday == 4 | weekday == 5)\n",
    "weekend <- subset(bikeshare_hour, weekday == 0 | weekday == 6)"
   ]
  },
  {
   "cell_type": "code",
   "execution_count": 41,
   "metadata": {
    "collapsed": false
   },
   "outputs": [
    {
     "data": {
      "text/plain": [
       "[76d0f3a] 2016-10-02: This is my second commit, Activities 4-6"
      ]
     },
     "metadata": {},
     "output_type": "display_data"
    }
   ],
   "source": [
    "# SAVE NOTEBOOK BEFORE RUNNING CELL\n",
    "library(git2r)\n",
    "repo <- repository('../../..')\n",
    "add(repo, 'exercises.ipynb')   # Yes we add it again... we have another round of changes to record\n",
    "commit(repo,\"This is my second commit, Activities 4-6\")"
   ]
  },
  {
   "cell_type": "markdown",
   "metadata": {},
   "source": [
    "Let's say we were interested in analyzing distribution of data whether its a workday or not and the weather situation on that day. \n",
    "\n",
    "**Activity 7**: Find the distribution of data based on workday or not and kind of weather for the day. HInt: Look at table() command."
   ]
  },
  {
   "cell_type": "code",
   "execution_count": 43,
   "metadata": {
    "collapsed": false
   },
   "outputs": [
    {
     "data": {
      "text/plain": [
       "\n",
       "   1    2    3    4 \n",
       "7973 3328 1062    2 "
      ]
     },
     "metadata": {},
     "output_type": "display_data"
    },
    {
     "data": {
      "text/plain": [
       "\n",
       "   1    2    3    4 \n",
       "3440 1216  357    1 "
      ]
     },
     "metadata": {},
     "output_type": "display_data"
    }
   ],
   "source": [
    "table(weekday$weathersit)\n",
    "table(weekend$weathersit)"
   ]
  },
  {
   "cell_type": "markdown",
   "metadata": {},
   "source": [
    "** Activity 8**: Identify the datatype of each variable in dataframe by applying class function to all variables."
   ]
  },
  {
   "cell_type": "code",
   "execution_count": 77,
   "metadata": {
    "collapsed": false
   },
   "outputs": [
    {
     "name": "stdout",
     "output_type": "stream",
     "text": [
      "instant : integer \n",
      "dteday : factor \n",
      "season : integer \n",
      "yr : integer \n",
      "mnth : integer \n",
      "hr : integer \n",
      "holiday : integer \n",
      "weekday : integer \n",
      "workingday : integer \n",
      "weathersit : integer \n",
      "temp : numeric \n",
      "atemp : numeric \n",
      "hum : numeric \n",
      "windspeed : numeric \n",
      "casual : integer \n",
      "registered : integer \n",
      "cnt : integer \n"
     ]
    }
   ],
   "source": [
    "columns = names(bikeshare_hour)\n",
    "for (i in 1:dim(bikeshare_hour)[2]){\n",
    "    cat(columns[i],\":\",class(bikeshare_hour[[columns[i]]]),\"\\n\")\n",
    "}"
   ]
  },
  {
   "cell_type": "markdown",
   "metadata": {},
   "source": [
    "instant : integer \n",
    "dteday : factor \n",
    "season : integer \n",
    "yr : integer \n",
    "mnth : integer \n",
    "hr : integer \n",
    "holiday : integer \n",
    "weekday : integer \n",
    "workingday : integer \n",
    "weathersit : integer \n",
    "temp : numeric \n",
    "atemp : numeric \n",
    "hum : numeric \n",
    "windspeed : numeric \n",
    "casual : integer \n",
    "registered : integer \n",
    "cnt : integer "
   ]
  },
  {
   "cell_type": "markdown",
   "metadata": {},
   "source": [
    "**Activity 9**: Check the structure of the dataframe. You have to look up for this command. This command will give you the dimensions of dataframe, type of each variable and intial first 10 values of the variable."
   ]
  },
  {
   "cell_type": "code",
   "execution_count": 78,
   "metadata": {
    "collapsed": false
   },
   "outputs": [
    {
     "name": "stdout",
     "output_type": "stream",
     "text": [
      "'data.frame':\t17379 obs. of  17 variables:\n",
      " $ instant   : int  1 2 3 4 5 6 7 8 9 10 ...\n",
      " $ dteday    : Factor w/ 731 levels \"2011-01-01\",\"2011-01-02\",..: 1 1 1 1 1 1 1 1 1 1 ...\n",
      " $ season    : int  1 1 1 1 1 1 1 1 1 1 ...\n",
      " $ yr        : int  0 0 0 0 0 0 0 0 0 0 ...\n",
      " $ mnth      : int  1 1 1 1 1 1 1 1 1 1 ...\n",
      " $ hr        : int  0 1 2 3 4 5 6 7 8 9 ...\n",
      " $ holiday   : int  0 0 0 0 0 0 0 0 0 0 ...\n",
      " $ weekday   : int  6 6 6 6 6 6 6 6 6 6 ...\n",
      " $ workingday: int  0 0 0 0 0 0 0 0 0 0 ...\n",
      " $ weathersit: int  1 1 1 1 1 2 1 1 1 1 ...\n",
      " $ temp      : num  0.24 0.22 0.22 0.24 0.24 0.24 0.22 0.2 0.24 0.32 ...\n",
      " $ atemp     : num  0.288 0.273 0.273 0.288 0.288 ...\n",
      " $ hum       : num  0.81 0.8 0.8 0.75 0.75 0.75 0.8 0.86 0.75 0.76 ...\n",
      " $ windspeed : num  0 0 0 0 0 0.0896 0 0 0 0 ...\n",
      " $ casual    : int  3 8 5 3 0 0 2 1 1 8 ...\n",
      " $ registered: int  13 32 27 10 1 1 0 2 7 6 ...\n",
      " $ cnt       : int  16 40 32 13 1 1 2 3 8 14 ...\n"
     ]
    }
   ],
   "source": [
    "str(bikeshare_hour)"
   ]
  },
  {
   "cell_type": "markdown",
   "metadata": {},
   "source": [
    "Let's see if people are more interested in riding the bike on weekdays or weekends. \n",
    "\n",
    "**Activity 10: ** Find out if people are more interested in riding the bike on weekdays or weekends. Find the average number of instances for weekdays and weekends."
   ]
  },
  {
   "cell_type": "code",
   "execution_count": 79,
   "metadata": {
    "collapsed": false
   },
   "outputs": [
    {
     "data": {
      "text/html": [
       "191.738374443995"
      ],
      "text/latex": [
       "191.738374443995"
      ],
      "text/markdown": [
       "191.738374443995"
      ],
      "text/plain": [
       "[1] 191.7384"
      ]
     },
     "metadata": {},
     "output_type": "display_data"
    },
    {
     "data": {
      "text/html": [
       "183.852014359793"
      ],
      "text/latex": [
       "183.852014359793"
      ],
      "text/markdown": [
       "183.852014359793"
      ],
      "text/plain": [
       "[1] 183.852"
      ]
     },
     "metadata": {},
     "output_type": "display_data"
    }
   ],
   "source": [
    "mean(weekday$cnt)\n",
    "mean(weekend$cnt)\n",
    "\n"
   ]
  },
  {
   "cell_type": "code",
   "execution_count": 80,
   "metadata": {
    "collapsed": false
   },
   "outputs": [
    {
     "data": {
      "text/plain": [
       "[0d18f35] 2016-10-02: Activities 7-10"
      ]
     },
     "metadata": {},
     "output_type": "display_data"
    }
   ],
   "source": [
    "# SAVE NOTEBOOK BEFORE RUNNING CELL\n",
    "library(git2r)\n",
    "repo <- repository('../../..')\n",
    "add(repo, 'exercises.ipynb')   # Yes we add it again... we have another round of changes to record\n",
    "commit(repo,\"Activities 7-10\")"
   ]
  },
  {
   "cell_type": "markdown",
   "metadata": {},
   "source": [
    "**Activity 11: ** Find out the day and hour when the maximum number of bikes were shared"
   ]
  },
  {
   "cell_type": "code",
   "execution_count": 104,
   "metadata": {
    "collapsed": false
   },
   "outputs": [
    {
     "data": {
      "text/html": [
       "<table>\n",
       "<thead><tr><th></th><th scope=col>dteday</th><th scope=col>hr</th></tr></thead>\n",
       "<tbody>\n",
       "\t<tr><th scope=row>14774</th><td>2012-09-12</td><td>18        </td></tr>\n",
       "</tbody>\n",
       "</table>\n"
      ],
      "text/latex": [
       "\\begin{tabular}{r|ll}\n",
       "  & dteday & hr\\\\\n",
       "\\hline\n",
       "\t14774 & 2012-09-12 & 18        \\\\\n",
       "\\end{tabular}\n"
      ],
      "text/plain": [
       "      dteday     hr\n",
       "14774 2012-09-12 18"
      ]
     },
     "metadata": {},
     "output_type": "display_data"
    }
   ],
   "source": [
    "bikeshare_hour[which.max(bikeshare_hour$cnt),][c(\"dteday\",\"hr\")]"
   ]
  },
  {
   "cell_type": "markdown",
   "metadata": {},
   "source": [
    "Lets do some data cleaning for taking up the next activity"
   ]
  },
  {
   "cell_type": "code",
   "execution_count": 105,
   "metadata": {
    "collapsed": false
   },
   "outputs": [],
   "source": [
    "#First get the count of total bike shares based on each hour of the day and weekday. Run the code below\n",
    "hour_sums=t(tapply(bikeshare_hour$cnt, bikeshare_hour$hr,sum))\n",
    "day_sums=t(tapply(bikeshare_hour$cnt, bikeshare_hour$weekday,sum))"
   ]
  },
  {
   "cell_type": "markdown",
   "metadata": {},
   "source": [
    "tapply() definition from R-manual: Apply a function to each cell of a ragged array, that is to each (non-empty) group of values given by a unique combination of the levels of certain factors.\n",
    "\n",
    "Suggested reading: [tapply()](https://www.r-bloggers.com/r-function-of-the-day-tapply-2/)\n",
    "\n",
    "Simply put, in our example of hour_sums variable, the data is partitioned based on the second parameter, `bikeshare_hour$hr.` So 24 subsets are created for each hour(0 to 23). The 3rd argument can be any function(sum,mean,median etc) which is applied on the first parameter of tapply function. Since now we have 24 subsets, we are performing sum(bikeshare_hour$cnt) on this 24 subsets of data for each hour.\n",
    "\n",
    "\n",
    "The t() is used to return transpose input dataframe or matrix. Jupyter has issues rendering tapply() output, so t() is a workaround to display the output correctly.`\n",
    "\n",
    "More information on [t()](https://stat.ethz.ch/R-manual/R-devel/library/base/html/t.html)\n",
    "\n",
    "If you check the dimensions of hour_sums and day_sums variables they are dataframes. But we want the output in the form of a vector. So how can we convert a dataframe to a vector?"
   ]
  },
  {
   "cell_type": "code",
   "execution_count": 106,
   "metadata": {
    "collapsed": false
   },
   "outputs": [
    {
     "data": {
      "text/html": [
       "<ol class=list-inline>\n",
       "\t<li>1</li>\n",
       "\t<li>24</li>\n",
       "</ol>\n"
      ],
      "text/latex": [
       "\\begin{enumerate*}\n",
       "\\item 1\n",
       "\\item 24\n",
       "\\end{enumerate*}\n"
      ],
      "text/markdown": [
       "1. 1\n",
       "2. 24\n",
       "\n",
       "\n"
      ],
      "text/plain": [
       "[1]  1 24"
      ]
     },
     "metadata": {},
     "output_type": "display_data"
    },
    {
     "data": {
      "text/html": [
       "<ol class=list-inline>\n",
       "\t<li>1</li>\n",
       "\t<li>7</li>\n",
       "</ol>\n"
      ],
      "text/latex": [
       "\\begin{enumerate*}\n",
       "\\item 1\n",
       "\\item 7\n",
       "\\end{enumerate*}\n"
      ],
      "text/markdown": [
       "1. 1\n",
       "2. 7\n",
       "\n",
       "\n"
      ],
      "text/plain": [
       "[1] 1 7"
      ]
     },
     "metadata": {},
     "output_type": "display_data"
    },
    {
     "data": {
      "text/html": [
       "'matrix'"
      ],
      "text/latex": [
       "'matrix'"
      ],
      "text/markdown": [
       "'matrix'"
      ],
      "text/plain": [
       "[1] \"matrix\""
      ]
     },
     "metadata": {},
     "output_type": "display_data"
    },
    {
     "data": {
      "text/html": [
       "'matrix'"
      ],
      "text/latex": [
       "'matrix'"
      ],
      "text/markdown": [
       "'matrix'"
      ],
      "text/plain": [
       "[1] \"matrix\""
      ]
     },
     "metadata": {},
     "output_type": "display_data"
    }
   ],
   "source": [
    "#The above piece of code returns dataframes as output. Check the dimensions and class to verify. Run the code below.\n",
    "dim(hour_sums)\n",
    "dim(day_sums)\n",
    "class(hour_sums)\n",
    "class(day_sums)"
   ]
  },
  {
   "cell_type": "markdown",
   "metadata": {},
   "source": [
    "R has builtin function to convert data format between dataframes,matrices and vectors. You can change the data type and also check if certain object is actually a dataframe or matrix or a vector using functions like is.dataframe() etc."
   ]
  },
  {
   "cell_type": "code",
   "execution_count": 107,
   "metadata": {
    "collapsed": false
   },
   "outputs": [
    {
     "data": {
      "text/html": [
       "<ol class=list-inline>\n",
       "\t<li>39130</li>\n",
       "\t<li>24164</li>\n",
       "\t<li>16352</li>\n",
       "\t<li>8174</li>\n",
       "\t<li>4428</li>\n",
       "\t<li>14261</li>\n",
       "\t<li>55132</li>\n",
       "\t<li>154171</li>\n",
       "\t<li>261001</li>\n",
       "\t<li>159438</li>\n",
       "\t<li>126257</li>\n",
       "\t<li>151320</li>\n",
       "\t<li>184414</li>\n",
       "\t<li>184919</li>\n",
       "\t<li>175652</li>\n",
       "\t<li>183149</li>\n",
       "\t<li>227748</li>\n",
       "\t<li>336860</li>\n",
       "\t<li>309772</li>\n",
       "\t<li>226789</li>\n",
       "\t<li>164550</li>\n",
       "\t<li>125445</li>\n",
       "\t<li>95612</li>\n",
       "\t<li>63941</li>\n",
       "</ol>\n"
      ],
      "text/latex": [
       "\\begin{enumerate*}\n",
       "\\item 39130\n",
       "\\item 24164\n",
       "\\item 16352\n",
       "\\item 8174\n",
       "\\item 4428\n",
       "\\item 14261\n",
       "\\item 55132\n",
       "\\item 154171\n",
       "\\item 261001\n",
       "\\item 159438\n",
       "\\item 126257\n",
       "\\item 151320\n",
       "\\item 184414\n",
       "\\item 184919\n",
       "\\item 175652\n",
       "\\item 183149\n",
       "\\item 227748\n",
       "\\item 336860\n",
       "\\item 309772\n",
       "\\item 226789\n",
       "\\item 164550\n",
       "\\item 125445\n",
       "\\item 95612\n",
       "\\item 63941\n",
       "\\end{enumerate*}\n"
      ],
      "text/markdown": [
       "1. 39130\n",
       "2. 24164\n",
       "3. 16352\n",
       "4. 8174\n",
       "5. 4428\n",
       "6. 14261\n",
       "7. 55132\n",
       "8. 154171\n",
       "9. 261001\n",
       "10. 159438\n",
       "11. 126257\n",
       "12. 151320\n",
       "13. 184414\n",
       "14. 184919\n",
       "15. 175652\n",
       "16. 183149\n",
       "17. 227748\n",
       "18. 336860\n",
       "19. 309772\n",
       "20. 226789\n",
       "21. 164550\n",
       "22. 125445\n",
       "23. 95612\n",
       "24. 63941\n",
       "\n",
       "\n"
      ],
      "text/plain": [
       " [1]  39130  24164  16352   8174   4428  14261  55132 154171 261001 159438\n",
       "[11] 126257 151320 184414 184919 175652 183149 227748 336860 309772 226789\n",
       "[21] 164550 125445  95612  63941"
      ]
     },
     "metadata": {},
     "output_type": "display_data"
    },
    {
     "data": {
      "text/html": [
       "<ol class=list-inline>\n",
       "\t<li>444027</li>\n",
       "\t<li>455503</li>\n",
       "\t<li>469109</li>\n",
       "\t<li>473048</li>\n",
       "\t<li>485395</li>\n",
       "\t<li>487790</li>\n",
       "\t<li>477807</li>\n",
       "</ol>\n"
      ],
      "text/latex": [
       "\\begin{enumerate*}\n",
       "\\item 444027\n",
       "\\item 455503\n",
       "\\item 469109\n",
       "\\item 473048\n",
       "\\item 485395\n",
       "\\item 487790\n",
       "\\item 477807\n",
       "\\end{enumerate*}\n"
      ],
      "text/markdown": [
       "1. 444027\n",
       "2. 455503\n",
       "3. 469109\n",
       "4. 473048\n",
       "5. 485395\n",
       "6. 487790\n",
       "7. 477807\n",
       "\n",
       "\n"
      ],
      "text/plain": [
       "[1] 444027 455503 469109 473048 485395 487790 477807"
      ]
     },
     "metadata": {},
     "output_type": "display_data"
    }
   ],
   "source": [
    "#Convert the dataframes hour_sums, day_sums into a matrix and then into arrays. Run the code below.\n",
    "hour_sums=as.vector(as.matrix(hour_sums))\n",
    "day_sums=as.vector(as.matrix(day_sums))\n",
    "hour_sums\n",
    "day_sums"
   ]
  },
  {
   "cell_type": "markdown",
   "metadata": {},
   "source": [
    "## Distributions\n",
    "\n",
    "\n",
    "Lets peek into the distribution of different variables and see how they are distributed.\n",
    "\n",
    "** Activity 12: ** Plot a bar plot for bike shares for each hour of the day and weekday. Use hour_sums and day_sums vectors we created above to plot the graphs. Combine this plots using the par() or layout() command for analyzing them easily."
   ]
  },
  {
   "cell_type": "code",
   "execution_count": 119,
   "metadata": {
    "collapsed": true
   },
   "outputs": [
    {
     "data": {
      "image/png": "[encoded data removed]",
      "text/plain": [
       "Plot with title “Daywise distribution”"
      ]
     },
     "metadata": {},
     "output_type": "display_data"
    }
   ],
   "source": [
    "par(mfrow=c(1,2))\n",
    "barplot(hour_sums, main=\"Hourly Distribution\",xlab=\"Hour\")\n",
    "barplot(day_sums, main=\"Daywise distribution\",xlab=\"Day\")"
   ]
  },
  {
   "cell_type": "markdown",
   "metadata": {},
   "source": [
    "The plots clearly tell, The peak hour of bike shares is 17 and 18 hours every day. While, thurdays and fridays are popular for bike shares in a week. This is contradicting with what we saw in activity 10 where average number of instances of bike shares are more on weekends. Lets see the average number of users who rent the bike on each week of the day."
   ]
  },
  {
   "cell_type": "code",
   "execution_count": 113,
   "metadata": {
    "collapsed": false
   },
   "outputs": [
    {
     "data": {
      "text/html": [
       "<ol class=list-inline>\n",
       "\t<li>444027</li>\n",
       "\t<li>455503</li>\n",
       "\t<li>469109</li>\n",
       "\t<li>473048</li>\n",
       "\t<li>485395</li>\n",
       "\t<li>487790</li>\n",
       "\t<li>477807</li>\n",
       "</ol>\n"
      ],
      "text/latex": [
       "\\begin{enumerate*}\n",
       "\\item 444027\n",
       "\\item 455503\n",
       "\\item 469109\n",
       "\\item 473048\n",
       "\\item 485395\n",
       "\\item 487790\n",
       "\\item 477807\n",
       "\\end{enumerate*}\n"
      ],
      "text/markdown": [
       "1. 444027\n",
       "2. 455503\n",
       "3. 469109\n",
       "4. 473048\n",
       "5. 485395\n",
       "6. 487790\n",
       "7. 477807\n",
       "\n",
       "\n"
      ],
      "text/plain": [
       "[1] 444027 455503 469109 473048 485395 487790 477807"
      ]
     },
     "metadata": {},
     "output_type": "display_data"
    }
   ],
   "source": [
    "day_sums"
   ]
  },
  {
   "cell_type": "markdown",
   "metadata": {},
   "source": [
    "**Activity 13: ** Plot a boxplot for `cnt` against each weekday"
   ]
  },
  {
   "cell_type": "code",
   "execution_count": 123,
   "metadata": {
    "collapsed": false
   },
   "outputs": [
    {
     "data": {
      "image/png": "[encoded data removed]",
      "text/plain": [
       "Plot with title “Counts Per Weekday”"
      ]
     },
     "metadata": {},
     "output_type": "display_data"
    }
   ],
   "source": [
    "boxplot(bikeshare_hour$cnt~bikeshare_hour$weekday,data=bikeshare_hour, main=\"Counts Per Weekday\", xlab=\"Weekday\", ylab=\"Counts\")\n"
   ]
  },
  {
   "cell_type": "markdown",
   "metadata": {},
   "source": [
    "** Activity 14: ** Plot histograms for variables `casual`, `registered` and `cnt` variables and see how they are distributed.  \n",
    "Plot mean and median on the histograms. "
   ]
  },
  {
   "cell_type": "code",
   "execution_count": 134,
   "metadata": {
    "collapsed": false
   },
   "outputs": [
    {
     "data": {
      "image/png": "[encoded data removed]",
      "text/plain": [
       "Plot with title “cnt”"
      ]
     },
     "metadata": {},
     "output_type": "display_data"
    }
   ],
   "source": [
    "par(mfrow=c(1,3))\n",
    "#casual\n",
    "casual_mean <- mean(bikeshare_hour$casual)\n",
    "casual_sd   <- sd(bikeshare_hour$casual)\n",
    "hist(bikeshare_hour$casual,prob=TRUE,main=\"casual\")\n",
    "x <- 0:400\n",
    "y <- dnorm(x = x, mean = casual_mean, sd = casual_sd)\n",
    "lines(x = x, y = y, col = \"blue\")\n",
    "abline(v = casual_mean, col = \"blue\", lwd = 2)\n",
    "\n",
    "\n",
    "#registered\n",
    "registered_mean <- mean(bikeshare_hour$registered)\n",
    "registered_sd   <- sd(bikeshare_hour$registered)\n",
    "hist(bikeshare_hour$registered,prob=TRUE,main=\"registered\")\n",
    "x <- 0:1000\n",
    "y <- dnorm(x = x, mean = registered_mean, sd = registered_sd)\n",
    "lines(x = x, y = y, col = \"blue\")\n",
    "abline(v = registered_mean, col = \"blue\", lwd = 2)\n",
    "\n",
    "\n",
    "#cnt\n",
    "cnt_mean <- mean(bikeshare_hour$cnt)\n",
    "cnt_sd   <- sd(bikeshare_hour$cnt)\n",
    "hist(bikeshare_hour$cnt,prob=TRUE,main=\"cnt\")\n",
    "x <- 0:1000\n",
    "y <- dnorm(x = x, mean = cnt_mean, sd = cnt_sd)\n",
    "lines(x = x, y = y, col = \"blue\")\n",
    "abline(v = cnt_mean, col = \"blue\", lwd = 2)\n"
   ]
  },
  {
   "cell_type": "markdown",
   "metadata": {},
   "source": [
    "# SAVE YOUR NOTEBOOK\n",
    "\n",
    "The next cell is the final commit of work!"
   ]
  },
  {
   "cell_type": "code",
   "execution_count": 135,
   "metadata": {
    "collapsed": false
   },
   "outputs": [
    {
     "data": {
      "text/plain": [
       "[8ebc2c3] 2016-10-02: Activities 11-14"
      ]
     },
     "metadata": {},
     "output_type": "display_data"
    },
    {
     "name": "stdout",
     "output_type": "stream",
     "text": [
      "Local:    master /dsa/home/cssfm4/DSA-8610_cssfm4/\n",
      "Remote:   master @ origin (git@git.dsa.missouri.edu:dsa-8610f16/DSA-8610_cssfm4.git)\n",
      "Head:     [8ebc2c3] 2016-10-02: Activities 11-14\n",
      "\n",
      "Branches:         2\n",
      "Tags:             0\n",
      "Commits:         13\n",
      "Contributors:     2\n",
      "Stashes:          0\n",
      "Ignored files:    3\n",
      "Untracked files:  1\n",
      "Unstaged files:   2\n",
      "Staged files:     0\n",
      "\n",
      "Latest commits:\n",
      "[8ebc2c3] 2016-10-02: Activities 11-14\n",
      "[0d18f35] 2016-10-02: Activities 7-10\n",
      "[76d0f3a] 2016-10-02: This is my second commit, Activities 4-6\n",
      "[44f1991] 2016-10-02: This is my first commit, Activities 1-3\n",
      "[869baa8] 2016-09-29: adding exercises\n"
     ]
    }
   ],
   "source": [
    "# SAVE NOTEBOOK BEFORE RUNNING CELL\n",
    "library(git2r)\n",
    "repo <- repository('../../..')\n",
    "add(repo, 'exercises.ipynb')   # Yes we add it again... we have another round of changes to record\n",
    "commit(repo,\"Activities 11-14\")\n",
    "\n",
    "# Let's look at the history of our work\n",
    "summary(repo)"
   ]
  }
 ],
 "metadata": {
  "kernelspec": {
   "display_name": "R",
   "language": "R",
   "name": "ir"
  },
  "language_info": {
   "codemirror_mode": "r",
   "file_extension": ".r",
   "mimetype": "text/x-r-source",
   "name": "R",
   "pygments_lexer": "r",
   "version": "3.3.1"
  }
 },
 "nbformat": 4,
 "nbformat_minor": 0
}
