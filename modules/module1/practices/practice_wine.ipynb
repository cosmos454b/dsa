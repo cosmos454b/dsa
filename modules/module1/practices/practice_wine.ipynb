{
 "cells": [
  {
   "cell_type": "markdown",
   "metadata": {},
   "source": [
    "# Introduction to statistics with `R`\n",
    "\n",
    "This is your first practice notebook in this course. The purpose of this notebook is to apply the commands and knowledge aquired through the lab and videos. Some exercises might introduce new commands and packages to you. The notebook will be incomplete for you start writing the code to modify/produce output.\n",
    "\n",
    "We will be working with wine dataset. It has 6 independent variables and one dependent variable, price.\n",
    "\n",
    "Look in the code samples for\n",
    "```R\n",
    "<what goes in here>\n",
    "    or\n",
    "<replace ... >\n",
    "```\n",
    "This is where you should be modifying the code before running it."
   ]
  },
  {
   "cell_type": "markdown",
   "metadata": {},
   "source": [
    "## Read in the Data"
   ]
  },
  {
   "cell_type": "code",
   "execution_count": 5,
   "metadata": {
    "collapsed": false
   },
   "outputs": [
    {
     "data": {
      "text/html": [
       "<table>\n",
       "<thead><tr><th scope=col>Year</th><th scope=col>Price</th><th scope=col>WinterRain</th><th scope=col>AGST</th><th scope=col>HarvestRain</th><th scope=col>Age</th><th scope=col>FrancePop</th></tr></thead>\n",
       "<tbody>\n",
       "\t<tr><td>1952    </td><td>7.4950  </td><td>600     </td><td>17.1167 </td><td>160     </td><td>31      </td><td>43183.57</td></tr>\n",
       "\t<tr><td>1953    </td><td>8.0393  </td><td>690     </td><td>16.7333 </td><td> 80     </td><td>30      </td><td>43495.03</td></tr>\n",
       "\t<tr><td>1955    </td><td>7.6858  </td><td>502     </td><td>17.1500 </td><td>130     </td><td>28      </td><td>44217.86</td></tr>\n",
       "\t<tr><td>1957    </td><td>6.9845  </td><td>420     </td><td>16.1333 </td><td>110     </td><td>26      </td><td>45152.25</td></tr>\n",
       "\t<tr><td>1958    </td><td>6.7772  </td><td>582     </td><td>16.4167 </td><td>187     </td><td>25      </td><td>45653.81</td></tr>\n",
       "\t<tr><td>1959    </td><td>8.0757  </td><td>485     </td><td>17.4833 </td><td>187     </td><td>24      </td><td>46128.64</td></tr>\n",
       "</tbody>\n",
       "</table>\n"
      ],
      "text/latex": [
       "\\begin{tabular}{r|lllllll}\n",
       " Year & Price & WinterRain & AGST & HarvestRain & Age & FrancePop\\\\\n",
       "\\hline\n",
       "\t 1952     & 7.4950   & 600      & 17.1167  & 160      & 31       & 43183.57\\\\\n",
       "\t 1953     & 8.0393   & 690      & 16.7333  &  80      & 30       & 43495.03\\\\\n",
       "\t 1955     & 7.6858   & 502      & 17.1500  & 130      & 28       & 44217.86\\\\\n",
       "\t 1957     & 6.9845   & 420      & 16.1333  & 110      & 26       & 45152.25\\\\\n",
       "\t 1958     & 6.7772   & 582      & 16.4167  & 187      & 25       & 45653.81\\\\\n",
       "\t 1959     & 8.0757   & 485      & 17.4833  & 187      & 24       & 46128.64\\\\\n",
       "\\end{tabular}\n"
      ],
      "text/plain": [
       "  Year Price  WinterRain AGST    HarvestRain Age FrancePop\n",
       "1 1952 7.4950 600        17.1167 160         31  43183.57 \n",
       "2 1953 8.0393 690        16.7333  80         30  43495.03 \n",
       "3 1955 7.6858 502        17.1500 130         28  44217.86 \n",
       "4 1957 6.9845 420        16.1333 110         26  45152.25 \n",
       "5 1958 6.7772 582        16.4167 187         25  45653.81 \n",
       "6 1959 8.0757 485        17.4833 187         24  46128.64 "
      ]
     },
     "metadata": {},
     "output_type": "display_data"
    }
   ],
   "source": [
    "wine_data <- read.csv('../../../datasets/wine price/wine.csv')\n",
    "head(wine_data)"
   ]
  },
  {
   "cell_type": "markdown",
   "metadata": {},
   "source": [
    "Now that the data is read in, how would you remove the `Id` column from the dataframe in `R`. Remember, `R` is very flexible so there are several ways to remove columns. Do the following:\n",
    "\n",
    "**Activity 1**: Find the dimensions (the number of rows and columns) of the data frame. *Hint: You will have to look up the function to do this as it was not mentioned in the lab*. "
   ]
  },
  {
   "cell_type": "code",
   "execution_count": 6,
   "metadata": {
    "collapsed": false
   },
   "outputs": [
    {
     "data": {
      "text/html": [
       "<ol class=list-inline>\n",
       "\t<li>25</li>\n",
       "\t<li>7</li>\n",
       "</ol>\n"
      ],
      "text/latex": [
       "\\begin{enumerate*}\n",
       "\\item 25\n",
       "\\item 7\n",
       "\\end{enumerate*}\n"
      ],
      "text/markdown": [
       "1. 25\n",
       "2. 7\n",
       "\n",
       "\n"
      ],
      "text/plain": [
       "[1] 25  7"
      ]
     },
     "metadata": {},
     "output_type": "display_data"
    }
   ],
   "source": [
    "# Code for Activity 1 goes here -----------------------\n",
    "dim(wine_data)"
   ]
  },
  {
   "cell_type": "markdown",
   "metadata": {},
   "source": [
    "Below is one of the ways that you can subset a data frame based on a condition. Run the code below to see what it returns."
   ]
  },
  {
   "cell_type": "code",
   "execution_count": null,
   "metadata": {
    "collapsed": false
   },
   "outputs": [],
   "source": [
    "head(wine_data[wine_data$Year > 1970,])"
   ]
  },
  {
   "cell_type": "markdown",
   "metadata": {},
   "source": [
    "**Activity 2**: Subset the wine_data into two dataframes based on the year. Named these dataframes group1 and group2 where group 1 contains data for years less than or equal to 1960 and group2 contains data with year greater than 1960."
   ]
  },
  {
   "cell_type": "code",
   "execution_count": null,
   "metadata": {
    "collapsed": false
   },
   "outputs": [],
   "source": [
    "#2 Code for Activity 2 goes here -----------------------\n",
    "group1 = subset(wine_data[<what goes in here>])\n",
    "group2 = subset(wine_data[<what goes in here>])"
   ]
  },
  {
   "cell_type": "markdown",
   "metadata": {},
   "source": [
    "**Activity 3**: Run summary command and identify each variable if its qualitative or quantitative(continous or discrete)."
   ]
  },
  {
   "cell_type": "code",
   "execution_count": null,
   "metadata": {
    "collapsed": false
   },
   "outputs": [],
   "source": [
    "# Code for Activity 3 goes here -----------------------\n",
    "summary(wine_data)"
   ]
  },
  {
   "cell_type": "markdown",
   "metadata": {
    "collapsed": false
   },
   "source": [
    "````\n",
    "\n",
    "    **Answer for Activity 3 goes here \n",
    "    \n",
    "----\n",
    "\n",
    "````\n"
   ]
  },
  {
   "cell_type": "markdown",
   "metadata": {},
   "source": [
    "**Activity 4**: *Find out the number of rows where the `Price` is greater than 7."
   ]
  },
  {
   "cell_type": "code",
   "execution_count": null,
   "metadata": {
    "collapsed": false
   },
   "outputs": [],
   "source": [
    "# Code for Activity 4 goes here -----------------------\n",
    "nrow(<what goes in here>)"
   ]
  },
  {
   "cell_type": "markdown",
   "metadata": {},
   "source": [
    "Let's say we want to know average Age of the wine. \n",
    "\n",
    "**Activity 5**: Apply mean() function on the Age variable"
   ]
  },
  {
   "cell_type": "code",
   "execution_count": null,
   "metadata": {
    "collapsed": false
   },
   "outputs": [],
   "source": [
    "# Code for Activity 5 goes here -----------------------\n",
    "mean(<what goes in here>)"
   ]
  },
  {
   "cell_type": "markdown",
   "metadata": {},
   "source": [
    "We want to know the year which has recorded highest price for the wine.\n",
    "\n",
    "**Activity 6**: Find the maximum price that is recorded in wine dataset and year for the corresponding row. You will have to look up the command. Hint: try which(). "
   ]
  },
  {
   "cell_type": "code",
   "execution_count": null,
   "metadata": {
    "collapsed": false
   },
   "outputs": [],
   "source": [
    "#' Code for Activity 6 goes here -----------------------\n",
    "wine$Year[which.<what goes in here>]"
   ]
  },
  {
   "cell_type": "markdown",
   "metadata": {},
   "source": [
    "** Activity 7**: Identify the datatype of each variable in dataframe. You were introduced to this command in Intro to Data Science course or you can look up for this command."
   ]
  },
  {
   "cell_type": "code",
   "execution_count": null,
   "metadata": {
    "collapsed": false
   },
   "outputs": [],
   "source": [
    "# Code for Activity 7 goes here -----------------------\n",
    "sapply(wine_data,<what goes in here>)"
   ]
  },
  {
   "cell_type": "markdown",
   "metadata": {},
   "source": [
    "**Activity 8**: Check the structure of the dataframe. You have to look up for this command. This command will give you the dimensions of dataframe, type of each variable and intial first 10 values of the variable. Its a very useful command to get a quick overview of dataframe. "
   ]
  },
  {
   "cell_type": "code",
   "execution_count": null,
   "metadata": {
    "collapsed": false
   },
   "outputs": [],
   "source": [
    "# Code for Activity 8 goes here -----------------------\n"
   ]
  },
  {
   "cell_type": "markdown",
   "metadata": {},
   "source": [
    "Lets see how WinterRain variable data is distributed \n",
    "\n",
    "**Activity 9**: Plot the distribution of WinterRain variable using a histogram with bin sise of 20. PLot a density curve on top of the histogram."
   ]
  },
  {
   "cell_type": "code",
   "execution_count": null,
   "metadata": {
    "collapsed": false
   },
   "outputs": [],
   "source": [
    "# Code for Activity 9 goes here -----------------------\n",
    "\n",
    "library(ggplot2)\n",
    "plot = ggplot(data=wine, aes(<what goes in here>)) + \n",
    "  geom_histogram(aes(y =<what goes in here>), \n",
    "                 breaks=seq(360, 850,<what goes in here>), \n",
    "                 col=\"green\", \n",
    "                 fill=\"orange\", \n",
    "                 alpha = .5) + \n",
    "  geom_density(col=2) + \n",
    "  \n",
    "  labs(title=\"Histogram for Winter Rain\") +\n",
    "  labs(x=\"Amount of Rain\", y=\"Count\")\n",
    "plot"
   ]
  },
  {
   "cell_type": "markdown",
   "metadata": {},
   "source": [
    "**Activity 10: ** Draw vertical lines for mean and median of WinterRain in avove plot. You can use the same `plot` object to draw the lines."
   ]
  },
  {
   "cell_type": "code",
   "execution_count": null,
   "metadata": {
    "collapsed": true
   },
   "outputs": [],
   "source": [
    "# Code for Activity 10 goes here -----------------------\n",
    "mean_WinterRain <- mean(wine$WinterRain)\n",
    "median_WinterRain = median(wine$WinterRain)\n",
    "\n",
    "plot + geom_vline(<what goes in here>,<replace with color attribute for line>)+\n",
    "       geom_vline(<what goes in here>,<replace with color attribute for line>)"
   ]
  },
  {
   "cell_type": "markdown",
   "metadata": {},
   "source": [
    "Is the WinterRain data skewed.\n",
    "\n",
    "**Activity 11: ** Find the skewness of WinterRain variable."
   ]
  },
  {
   "cell_type": "code",
   "execution_count": null,
   "metadata": {
    "collapsed": true
   },
   "outputs": [],
   "source": [
    "# Code for Activity 11 goes here -----------------------\n",
    "library(moments)\n",
    "skewness(<what goes in here>)"
   ]
  },
  {
   "cell_type": "markdown",
   "metadata": {},
   "source": [
    "# Save your notebook!"
   ]
  }
 ],
 "metadata": {
  "kernelspec": {
   "display_name": "R",
   "language": "R",
   "name": "ir"
  },
  "language_info": {
   "codemirror_mode": "r",
   "file_extension": ".r",
   "mimetype": "text/x-r-source",
   "name": "R",
   "pygments_lexer": "r",
   "version": "3.3.1"
  }
 },
 "nbformat": 4,
 "nbformat_minor": 0
}
