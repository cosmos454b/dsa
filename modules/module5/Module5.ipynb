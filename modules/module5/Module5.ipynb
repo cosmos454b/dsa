{
 "cells": [
  {
   "cell_type": "markdown",
   "metadata": {},
   "source": [
    "# Module 5: Regression\n",
    "\n",
    "\n",
    "## Topics covered\n",
    "\n",
    "\n",
    "* Linear Regression (ch 14 of ItS book)\n",
    "    * Introduction\n",
    "    * Partitioning the Sums of Squares\n",
    "    * Standard Error of the Estimate\n",
    "    * Inferential Statistics for b and r\n",
    "    * Influential Observations\n",
    "    * Regression Towards the Mean\n",
    "* Intro to Multiple Regression\n",
    "* Logistic Regression\n",
    "* Multivariate Regression\n",
    "    * Multivariate vs Multiple\n",
    "\n",
    "\n",
    "## Readings\n",
    "The following is the suggested reading for above topic.\n",
    "\n",
    "- [Regression Chapter: Online Stats Book](http://onlinestatbook.com/2/regression/regression.pdf)\n",
    "- [Multiple Regression](http://onlinestatbook.com/2/regression/multiple_regression.html) \n",
    "- [Logistic Regression](https://en.wikipedia.org/wiki/Logistic_regression#Fields_and_example_applications)\n",
    "- [Multivariate Regression](https://www.ncbi.nlm.nih.gov/pmc/articles/PMC3518362/)\n"
   ]
  },
  {
   "cell_type": "markdown",
   "metadata": {},
   "source": [
    "## Video topics\n",
    "  - **Concept Video**: Linear and Multiple Regression\n",
    "  - **Concept Video**: Logistic Regression\n",
    "  - **Concept Video**: Multivariate vs Multiple Regression\n",
    "  \n",
    "## Labs\n",
    "  - [Linear_and_Multiple_Regression](./labs/Linear_and_Multiple_Regression.ipynb)\n",
    "  - [Logistic_Regression](./labs/Logistic_Regression.ipynb)\n",
    "  - [Multivariate_Regression](./labs/Multivariate_Regression.ipynb)\n",
    "\n",
    "\n",
    "## Practice Examples  \n",
    "  - [Simple_Linear_Regression](./practices/Simple_Linear_Regression.ipynb)\n",
    "  - [Multiple_Linear_Regression](./practices/Multiple_Linear_Regression.ipynb)\n",
    "  - [Logistic_Regression](./practices/Logistic_Regression.ipynb)\n",
    "  - [Multivariate_Regression](./practices/Multivariate_Regression.ipynb)\n",
    "\n",
    "## Exercises\n",
    "  - [Exercises](./exercises/Exercises.ipynb)"
   ]
  },
  {
   "cell_type": "markdown",
   "metadata": {},
   "source": [
    "## Data Sets\n",
    "Path: `../../datasets/`\n",
    "\n",
    "Dataset Name            | File\n",
    "------------------------|------------\n",
    "wine                    |wine.csv\n",
    "framingham              |framingham.csv\n",
    "energy                  |ENB2012_data.csv\n",
    "wine quality            |winequality-white.csv\n",
    "\n",
    "\n",
    "## Suggested Schedule\n",
    "\n",
    "### Monday\n",
    "  - **Concept Video**: Linear and Multiple Regression\n",
    "  - **Concept Video**: Logistic Regression\n",
    "  - **Concept Video**: Multivariate vs Multiple Regression\n",
    "  \n",
    "\n",
    "### Tuesday\n",
    "  - **Lab Notebooks**: \n",
    "     1. Linear_and_Multiple_Regression\n",
    "     1. Logistic_Regression\n",
    "     1. Multivariate_Regression\n",
    "     \n",
    "     \n",
    "  - **Practice Notebooks**: \n",
    "     1. Simple_Linear_Regression\n",
    "     1. Multiple_Regression\n",
    "     1. Logistic_Regression\n",
    "     1. Multivariate_Regression\n",
    "\n",
    "\n",
    "### Wednesday\n",
    "  - Discussion Regression\n",
    "\n",
    "### Thursday\n",
    "  - Discussion Responses\n",
    "\n",
    "### Friday/Saturday/Sunday\n",
    "  - **Exercise**: Linear, Multiple and Logistic Regression\n"
   ]
  }
 ],
 "metadata": {
  "kernelspec": {
   "display_name": "Python 3",
   "language": "python",
   "name": "python3"
  },
  "language_info": {
   "codemirror_mode": {
    "name": "ipython",
    "version": 3
   },
   "file_extension": ".py",
   "mimetype": "text/x-python",
   "name": "python",
   "nbconvert_exporter": "python",
   "pygments_lexer": "ipython3",
   "version": "3.4.3"
  }
 },
 "nbformat": 4,
 "nbformat_minor": 1
}
