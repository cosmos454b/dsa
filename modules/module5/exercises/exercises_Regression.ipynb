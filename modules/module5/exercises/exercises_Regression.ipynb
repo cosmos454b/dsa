{
 "cells": [
  {
   "cell_type": "markdown",
   "metadata": {},
   "source": [
    "## Regression exercises\n",
    "\n",
    "Linear regression is one of the most important modelling techniques. We looked into some of the important concepts like fitting a linear model, how variation os explained by the models, error of the estimates and little bit of multiple and multivariate regression. \n",
    "\n",
    "In this exercise we will work with online news popularity dataset. The dataset has 61 attributes: 58 predictive attributes, 2 non-predictive, 1 response variable. We have to predict the number of shares for the news article using rest of the predictor variables. Lets start by reading the data into a datframe called cpu_data."
   ]
  },
  {
   "cell_type": "code",
   "execution_count": 1,
   "metadata": {
    "collapsed": false
   },
   "outputs": [
    {
     "data": {
      "text/html": [
       "<table>\n",
       "<thead><tr><th></th><th scope=col>adviser</th><th scope=col>X32.60</th><th scope=col>X125</th><th scope=col>X256</th><th scope=col>X6000</th><th scope=col>X256.1</th><th scope=col>X16</th><th scope=col>X128</th><th scope=col>X198</th><th scope=col>X199</th></tr></thead>\n",
       "<tbody>\n",
       "\t<tr><th scope=row>1</th><td>amdahl</td><td>470v/7</td><td>29    </td><td>8000  </td><td>32000 </td><td>32    </td><td>8     </td><td>32    </td><td>269   </td><td>253   </td></tr>\n",
       "\t<tr><th scope=row>2</th><td>amdahl </td><td>470v/7a</td><td>29     </td><td>8000   </td><td>32000  </td><td>32     </td><td>8      </td><td>32     </td><td>220    </td><td>253    </td></tr>\n",
       "\t<tr><th scope=row>3</th><td>amdahl </td><td>470v/7b</td><td>29     </td><td>8000   </td><td>32000  </td><td>32     </td><td>8      </td><td>32     </td><td>172    </td><td>253    </td></tr>\n",
       "\t<tr><th scope=row>4</th><td>amdahl </td><td>470v/7c</td><td>29     </td><td>8000   </td><td>16000  </td><td>32     </td><td>8      </td><td>16     </td><td>132    </td><td>132    </td></tr>\n",
       "\t<tr><th scope=row>5</th><td>amdahl</td><td>470v/b</td><td>26    </td><td>8000  </td><td>32000 </td><td>64    </td><td>8     </td><td>32    </td><td>318   </td><td>290   </td></tr>\n",
       "\t<tr><th scope=row>6</th><td>amdahl  </td><td>580-5840</td><td>23      </td><td>16000   </td><td>32000   </td><td>64      </td><td>16      </td><td>32      </td><td>367     </td><td>381     </td></tr>\n",
       "</tbody>\n",
       "</table>\n"
      ],
      "text/latex": [
       "\\begin{tabular}{r|llllllllll}\n",
       "  & adviser & X32.60 & X125 & X256 & X6000 & X256.1 & X16 & X128 & X198 & X199\\\\\n",
       "\\hline\n",
       "\t1 & amdahl & 470v/7 & 29     & 8000   & 32000  & 32     & 8      & 32     & 269    & 253   \\\\\n",
       "\t2 & amdahl  & 470v/7a & 29      & 8000    & 32000   & 32      & 8       & 32      & 220     & 253    \\\\\n",
       "\t3 & amdahl  & 470v/7b & 29      & 8000    & 32000   & 32      & 8       & 32      & 172     & 253    \\\\\n",
       "\t4 & amdahl  & 470v/7c & 29      & 8000    & 16000   & 32      & 8       & 16      & 132     & 132    \\\\\n",
       "\t5 & amdahl & 470v/b & 26     & 8000   & 32000  & 64     & 8      & 32     & 318    & 290   \\\\\n",
       "\t6 & amdahl   & 580-5840 & 23       & 16000    & 32000    & 64       & 16       & 32       & 367      & 381     \\\\\n",
       "\\end{tabular}\n"
      ],
      "text/plain": [
       "  adviser   X32.60 X125  X256 X6000 X256.1 X16 X128 X198 X199\n",
       "1  amdahl   470v/7   29  8000 32000     32   8   32  269  253\n",
       "2  amdahl  470v/7a   29  8000 32000     32   8   32  220  253\n",
       "3  amdahl  470v/7b   29  8000 32000     32   8   32  172  253\n",
       "4  amdahl  470v/7c   29  8000 16000     32   8   16  132  132\n",
       "5  amdahl   470v/b   26  8000 32000     64   8   32  318  290\n",
       "6  amdahl 580-5840   23 16000 32000     64  16   32  367  381"
      ]
     },
     "metadata": {},
     "output_type": "display_data"
    }
   ],
   "source": [
    "cpu_data = read.csv(\"../../../datasets/cpu performance/performance_data.txt\")\n",
    "head(cpu_data)"
   ]
  },
  {
   "cell_type": "markdown",
   "metadata": {},
   "source": [
    "The input dataset does not have headers. \n",
    "\n",
    "**Activity 1: ** Grab the headers information from readme file and assign them to column sof cpu_data "
   ]
  },
  {
   "cell_type": "code",
   "execution_count": 3,
   "metadata": {
    "collapsed": false
   },
   "outputs": [
    {
     "data": {
      "text/html": [
       "<table>\n",
       "<thead><tr><th></th><th scope=col>vendor_name</th><th scope=col>Model_Name</th><th scope=col>MYCT</th><th scope=col>MMIN</th><th scope=col>MMAX</th><th scope=col>CACH</th><th scope=col>CHMIN</th><th scope=col>CHMAX</th><th scope=col>PRP</th><th scope=col>ERP</th></tr></thead>\n",
       "<tbody>\n",
       "\t<tr><th scope=row>1</th><td>amdahl</td><td>470v/7</td><td>29    </td><td>8000  </td><td>32000 </td><td>32    </td><td>8     </td><td>32    </td><td>269   </td><td>253   </td></tr>\n",
       "\t<tr><th scope=row>2</th><td>amdahl </td><td>470v/7a</td><td>29     </td><td>8000   </td><td>32000  </td><td>32     </td><td>8      </td><td>32     </td><td>220    </td><td>253    </td></tr>\n",
       "\t<tr><th scope=row>3</th><td>amdahl </td><td>470v/7b</td><td>29     </td><td>8000   </td><td>32000  </td><td>32     </td><td>8      </td><td>32     </td><td>172    </td><td>253    </td></tr>\n",
       "\t<tr><th scope=row>4</th><td>amdahl </td><td>470v/7c</td><td>29     </td><td>8000   </td><td>16000  </td><td>32     </td><td>8      </td><td>16     </td><td>132    </td><td>132    </td></tr>\n",
       "\t<tr><th scope=row>5</th><td>amdahl</td><td>470v/b</td><td>26    </td><td>8000  </td><td>32000 </td><td>64    </td><td>8     </td><td>32    </td><td>318   </td><td>290   </td></tr>\n",
       "\t<tr><th scope=row>6</th><td>amdahl  </td><td>580-5840</td><td>23      </td><td>16000   </td><td>32000   </td><td>64      </td><td>16      </td><td>32      </td><td>367     </td><td>381     </td></tr>\n",
       "</tbody>\n",
       "</table>\n"
      ],
      "text/latex": [
       "\\begin{tabular}{r|llllllllll}\n",
       "  & vendor\\_name & Model\\_Name & MYCT & MMIN & MMAX & CACH & CHMIN & CHMAX & PRP & ERP\\\\\n",
       "\\hline\n",
       "\t1 & amdahl & 470v/7 & 29     & 8000   & 32000  & 32     & 8      & 32     & 269    & 253   \\\\\n",
       "\t2 & amdahl  & 470v/7a & 29      & 8000    & 32000   & 32      & 8       & 32      & 220     & 253    \\\\\n",
       "\t3 & amdahl  & 470v/7b & 29      & 8000    & 32000   & 32      & 8       & 32      & 172     & 253    \\\\\n",
       "\t4 & amdahl  & 470v/7c & 29      & 8000    & 16000   & 32      & 8       & 16      & 132     & 132    \\\\\n",
       "\t5 & amdahl & 470v/b & 26     & 8000   & 32000  & 64     & 8      & 32     & 318    & 290   \\\\\n",
       "\t6 & amdahl   & 580-5840 & 23       & 16000    & 32000    & 64       & 16       & 32       & 367      & 381     \\\\\n",
       "\\end{tabular}\n"
      ],
      "text/plain": [
       "  vendor_name Model_Name MYCT  MMIN  MMAX CACH CHMIN CHMAX PRP ERP\n",
       "1      amdahl     470v/7   29  8000 32000   32     8    32 269 253\n",
       "2      amdahl    470v/7a   29  8000 32000   32     8    32 220 253\n",
       "3      amdahl    470v/7b   29  8000 32000   32     8    32 172 253\n",
       "4      amdahl    470v/7c   29  8000 16000   32     8    16 132 132\n",
       "5      amdahl     470v/b   26  8000 32000   64     8    32 318 290\n",
       "6      amdahl   580-5840   23 16000 32000   64    16    32 367 381"
      ]
     },
     "metadata": {},
     "output_type": "display_data"
    }
   ],
   "source": [
    "names=c(\"vendor_name\",\"Model_Name\",\"MYCT\",\"MMIN\",\"MMAX\",\"CACH\",\"CHMIN\",\"CHMAX\",\"PRP\",\"ERP\")\n",
    "names(cpu_data)=names\n",
    "head(cpu_data)"
   ]
  },
  {
   "cell_type": "markdown",
   "metadata": {},
   "source": [
    "The variable of interest here is `ERP`(estimated relative performance). Lets how the data is distributed in the dataset.  "
   ]
  },
  {
   "cell_type": "code",
   "execution_count": 4,
   "metadata": {
    "collapsed": false
   },
   "outputs": [
    {
     "data": {
      "text/plain": [
       "    vendor_name       Model_Name       MYCT             MMIN      \n",
       " ibm      : 32   100       :  1   Min.   :  17.0   Min.   :   64  \n",
       " nas      : 19   1100/61-h1:  1   1st Qu.:  50.0   1st Qu.:  768  \n",
       " honeywell: 13   1100/81   :  1   Median : 110.0   Median : 2000  \n",
       " ncr      : 13   1100/82   :  1   Mean   : 204.2   Mean   : 2881  \n",
       " sperry   : 13   1100/83   :  1   3rd Qu.: 225.0   3rd Qu.: 4000  \n",
       " siemens  : 12   1100/84   :  1   Max.   :1500.0   Max.   :32000  \n",
       " (Other)  :106   (Other)   :202                                   \n",
       "      MMAX            CACH           CHMIN            CHMAX       \n",
       " Min.   :   64   Min.   :  0.0   Min.   : 0.000   Min.   :  0.00  \n",
       " 1st Qu.: 4000   1st Qu.:  0.0   1st Qu.: 1.000   1st Qu.:  5.00  \n",
       " Median : 8000   Median :  8.0   Median : 2.000   Median :  8.00  \n",
       " Mean   :11824   Mean   : 24.1   Mean   : 4.644   Mean   : 17.74  \n",
       " 3rd Qu.:16000   3rd Qu.: 32.0   3rd Qu.: 6.000   3rd Qu.: 24.00  \n",
       " Max.   :64000   Max.   :256.0   Max.   :52.000   Max.   :176.00  \n",
       "                                                                  \n",
       "      PRP              ERP         \n",
       " Min.   :   6.0   Min.   :  15.00  \n",
       " 1st Qu.:  27.0   1st Qu.:  28.00  \n",
       " Median :  49.5   Median :  45.00  \n",
       " Mean   : 105.2   Mean   :  98.85  \n",
       " 3rd Qu.: 111.5   3rd Qu.:  99.50  \n",
       " Max.   :1150.0   Max.   :1238.00  \n",
       "                                   "
      ]
     },
     "metadata": {},
     "output_type": "display_data"
    }
   ],
   "source": [
    "summary(cpu_data)"
   ]
  },
  {
   "cell_type": "markdown",
   "metadata": {},
   "source": [
    "Some of the variables seems to have skewed distribution. Lets check using skewness function in 'e1071' package."
   ]
  },
  {
   "cell_type": "code",
   "execution_count": 73,
   "metadata": {
    "collapsed": false
   },
   "outputs": [
    {
     "data": {
      "text/html": [
       "2.49911588160533"
      ],
      "text/latex": [
       "2.49911588160533"
      ],
      "text/markdown": [
       "2.49911588160533"
      ],
      "text/plain": [
       "[1] 2.499116"
      ]
     },
     "metadata": {},
     "output_type": "display_data"
    },
    {
     "data": {
      "text/html": [
       "3.4604064086248"
      ],
      "text/latex": [
       "3.4604064086248"
      ],
      "text/markdown": [
       "3.4604064086248"
      ],
      "text/plain": [
       "[1] 3.460406"
      ]
     },
     "metadata": {},
     "output_type": "display_data"
    },
    {
     "data": {
      "text/html": [
       "2.1021338920697"
      ],
      "text/latex": [
       "2.1021338920697"
      ],
      "text/markdown": [
       "2.1021338920697"
      ],
      "text/plain": [
       "[1] 2.102134"
      ]
     },
     "metadata": {},
     "output_type": "display_data"
    },
    {
     "data": {
      "text/html": [
       "2.5419110645427"
      ],
      "text/latex": [
       "2.5419110645427"
      ],
      "text/markdown": [
       "2.5419110645427"
      ],
      "text/plain": [
       "[1] 2.541911"
      ]
     },
     "metadata": {},
     "output_type": "display_data"
    },
    {
     "data": {
      "text/html": [
       "4.04198212002466"
      ],
      "text/latex": [
       "4.04198212002466"
      ],
      "text/markdown": [
       "4.04198212002466"
      ],
      "text/plain": [
       "[1] 4.041982"
      ]
     },
     "metadata": {},
     "output_type": "display_data"
    },
    {
     "data": {
      "text/html": [
       "3.69930217276186"
      ],
      "text/latex": [
       "3.69930217276186"
      ],
      "text/markdown": [
       "3.69930217276186"
      ],
      "text/plain": [
       "[1] 3.699302"
      ]
     },
     "metadata": {},
     "output_type": "display_data"
    },
    {
     "data": {
      "text/html": [
       "3.84428503501403"
      ],
      "text/latex": [
       "3.84428503501403"
      ],
      "text/markdown": [
       "3.84428503501403"
      ],
      "text/plain": [
       "[1] 3.844285"
      ]
     },
     "metadata": {},
     "output_type": "display_data"
    }
   ],
   "source": [
    "library(e1071)\n",
    "skewness(cpu_data$MYCT)\n",
    "skewness(cpu_data$MMIN)\n",
    "skewness(cpu_data$MMAX)\n",
    "skewness(cpu_data$CACH)\n",
    "skewness(cpu_data$CHMIN)\n",
    "skewness(cpu_data$CHMAX)\n",
    "skewness(cpu_data$PRP)"
   ]
  },
  {
   "cell_type": "markdown",
   "metadata": {},
   "source": [
    "All the variables have large positive skews. We will plot the same and visually inspect the skewed nature of data. "
   ]
  },
  {
   "cell_type": "code",
   "execution_count": 75,
   "metadata": {
    "collapsed": false
   },
   "outputs": [
    {
     "ename": "ERROR",
     "evalue": "Error in cor(cpu_data): 'x' must be numeric\n",
     "output_type": "error",
     "traceback": [
      "Error in cor(cpu_data): 'x' must be numeric\nTraceback:\n",
      "1. cor(cpu_data)",
      "2. stop(\"'x' must be numeric\")"
     ]
    }
   ],
   "source": [
    "# temp=subset(cpu_data,select=c(3:10))\n",
    "# temp$MYCT=as.numeric(temp$MYCT)\n",
    "# temp$MMIN=as.numeric(temp$MMIN)\n",
    "# temp$MMAX=as.numeric(temp$MMAX)\n",
    "# temp$CACH=as.numeric(temp$CACH)\n",
    "# temp$CHMIN=as.numeric(temp$CHMIN)\n",
    "# temp$CHMAX=as.numeric(temp$CHMAX)\n",
    "# temp$PRP=as.numeric(temp$PRP)\n",
    "# temp$ERP=as.numeric(temp$ERP)\n",
    "\n",
    "# sapply(cpu_data,class)\n",
    "# head(temp)\n",
    "cor(cpu_data)"
   ]
  },
  {
   "cell_type": "code",
   "execution_count": 77,
   "metadata": {
    "collapsed": false
   },
   "outputs": [],
   "source": [
    "# library(gridExtra)\n",
    "# library(ggplot2)\n",
    "# grid.arrange(\n",
    "# qplot(cpu_data$MYCT,geom=\"histogram\",bins=25),\n",
    "# qplot(cpu_data$MMIN,geom=\"histogram\",bins=30),\n",
    "# qplot(cpu_data$MMAX,geom=\"histogram\",bins=25),\n",
    "# # qplot(cpu_data$CACH,geom=\"histogram\",bins=25),\n",
    "#     qplot(cpu_data$CHMIN,geom=\"histogram\",bins=25),\n",
    "#     qplot(cpu_data$CHMAX,geom=\"histogram\",bins=25),\n",
    "#     qplot(cpu_data$PRP,geom=\"histogram\",bins=25),\n",
    "# nrow=3,ncol=3)"
   ]
  },
  {
   "cell_type": "markdown",
   "metadata": {},
   "source": [
    "We can see all the variables have a positively skewed distribution. We can transform the data to handle the skewness. It’s generally a good idea to log transform data when values range over several orders of magnitude. Also, modeling techniques often have a difficult time with very wide data ranges. Taking the logarithm only works if the data is non-negative. If you go through the summary of cpu_data all the variables have positive values. \n",
    "\n",
    "So lets apply log transformations to data to normalize it and plot the histograms."
   ]
  },
  {
   "cell_type": "code",
   "execution_count": 33,
   "metadata": {
    "collapsed": false
   },
   "outputs": [
    {
     "data": {
      "text/plain": [
       "NULL"
      ]
     },
     "metadata": {},
     "output_type": "display_data"
    },
    {
     "ename": "ERROR",
     "evalue": "Error in data.frame(vendor_name = cpu_data$vendor_name, Model_Name = cpu_data$Model_Name, : arguments imply differing number of rows: 208, 0\n",
     "output_type": "error",
     "traceback": [
      "Error in data.frame(vendor_name = cpu_data$vendor_name, Model_Name = cpu_data$Model_Name, : arguments imply differing number of rows: 208, 0\nTraceback:\n",
      "1. data.frame(vendor_name = cpu_data$vendor_name, Model_Name = cpu_data$Model_Name, \n .     MYCT = log_MYCT, MMIN = log_MMIN, MMAX = log_MMAX, CACH = log_CACH, \n .     PRP = log_PRP, ERP = cpu_data$ERP)",
      "2. stop(gettextf(\"arguments imply differing number of rows: %s\", \n .     paste(unique(nrows), collapse = \", \")), domain = NA)"
     ]
    }
   ],
   "source": [
    "x=cpu_data$CACH\n",
    "log_CACH <- function(x) { asinh(x/2)/log(10) }\n",
    "nrow(log_CACH)\n",
    "log_MYCT=log(cpu_data$MYCT)\n",
    "log_MMIN=log(cpu_data$MMIN)\n",
    "log_MMAX=log(cpu_data$MMAX)\n",
    "# log_CACH=log(cpu_data$CACH)\n",
    "# log_CHMIN=log(cpu_data$CHMIN)\n",
    "# log_CHMAX=log(cpu_data$CHMAX)\n",
    "log_PRP=log(cpu_data$PRP)\n",
    "log_data=data.frame(\"vendor_name\"=cpu_data$vendor_name,\"Model_Name\"=cpu_data$Model_Name,\"MYCT\"=log_MYCT,\"MMIN\"=log_MMIN,\n",
    "                    \"MMAX\"=log_MMAX,\"CACH\"=log_CACH,\"PRP\"=log_PRP,\"ERP\"=cpu_data$ERP)\n",
    "# ,\"CHMIN\"=log_CHMIN,\"CHMAX\"=log_CHMAX\n",
    "grid.arrange(\n",
    "    qplot(log_MYCT,geom=\"histogram\",bins=25),\n",
    "    qplot(log_MMIN,geom=\"histogram\",bins=25),\n",
    "    qplot(log_MMAX,geom=\"histogram\",bins=25),\n",
    "    qplot(log_CACH,geom=\"histogram\",bins=25),\n",
    "    qplot(log_CHMIN,geom=\"histogram\",bins=25),\n",
    "    qplot(log_CHMAX,geom=\"histogram\",bins=25),\n",
    "    qplot(log_PRP,geom=\"histogram\",bins=25),\n",
    "    nrow=3,ncol=3)\n",
    "\n",
    "# head(log_MYCT,50)"
   ]
  },
  {
   "cell_type": "code",
   "execution_count": 25,
   "metadata": {
    "collapsed": false
   },
   "outputs": [
    {
     "data": {
      "text/plain": [
       "    vendor_name       Model_Name       MYCT            MMIN       \n",
       " ibm      : 32   100       :  1   Min.   :2.833   Min.   : 4.159  \n",
       " nas      : 19   1100/61-h1:  1   1st Qu.:3.912   1st Qu.: 6.644  \n",
       " honeywell: 13   1100/81   :  1   Median :4.700   Median : 7.601  \n",
       " ncr      : 13   1100/82   :  1   Mean   :4.747   Mean   : 7.369  \n",
       " sperry   : 13   1100/83   :  1   3rd Qu.:5.416   3rd Qu.: 8.294  \n",
       " siemens  : 12   1100/84   :  1   Max.   :7.313   Max.   :10.373  \n",
       " (Other)  :106   (Other)   :202                                   \n",
       "      MMAX             CACH           CHMIN            CHMAX      \n",
       " Min.   : 4.159   Min.   : -Inf   Min.   :  -Inf   Min.   : -Inf  \n",
       " 1st Qu.: 8.294   1st Qu.: -Inf   1st Qu.:0.0000   1st Qu.:1.609  \n",
       " Median : 8.987   Median :2.079   Median :0.6931   Median :2.079  \n",
       " Mean   : 8.923   Mean   : -Inf   Mean   :  -Inf   Mean   : -Inf  \n",
       " 3rd Qu.: 9.680   3rd Qu.:3.466   3rd Qu.:1.7918   3rd Qu.:3.178  \n",
       " Max.   :11.067   Max.   :5.545   Max.   :3.9512   Max.   :5.170  \n",
       "                                                                  \n",
       "      PRP             ERP         \n",
       " Min.   :1.792   Min.   :  15.00  \n",
       " 1st Qu.:3.296   1st Qu.:  28.00  \n",
       " Median :3.902   Median :  45.00  \n",
       " Mean   :4.031   Mean   :  98.85  \n",
       " 3rd Qu.:4.714   3rd Qu.:  99.50  \n",
       " Max.   :7.048   Max.   :1238.00  \n",
       "                                  "
      ]
     },
     "metadata": {},
     "output_type": "display_data"
    }
   ],
   "source": [
    "summary(log_data)"
   ]
  },
  {
   "cell_type": "code",
   "execution_count": 45,
   "metadata": {
    "collapsed": false
   },
   "outputs": [
    {
     "data": {
      "text/plain": [
       "\n",
       "Call:\n",
       "lm(formula = ERP ~ . - vendor_name - Model_Name, data = cpu_data)\n",
       "\n",
       "Residuals:\n",
       "     Min       1Q   Median       3Q      Max \n",
       "-115.703   -9.687    2.698   15.075  180.069 \n",
       "\n",
       "Coefficients:\n",
       "              Estimate Std. Error t value Pr(>|t|)    \n",
       "(Intercept) -3.392e+01  4.763e+00  -7.121 1.89e-11 ***\n",
       "MYCT         3.728e-02  9.478e-03   3.933 0.000116 ***\n",
       "MMIN         5.450e-03  1.123e-03   4.853 2.45e-06 ***\n",
       "MMAX         3.400e-03  3.997e-04   8.505 4.22e-15 ***\n",
       "CACH         9.648e-02  8.862e-02   1.089 0.277597    \n",
       "CHMIN        1.894e-02  4.561e-01   0.042 0.966919    \n",
       "CHMAX        3.180e-01  1.357e-01   2.343 0.020124 *  \n",
       "PRP          5.819e-01  3.798e-02  15.321  < 2e-16 ***\n",
       "---\n",
       "Signif. codes:  0 '***' 0.001 '**' 0.01 '*' 0.05 '.' 0.1 ' ' 1\n",
       "\n",
       "Residual standard error: 31.75 on 200 degrees of freedom\n",
       "Multiple R-squared:  0.9595,\tAdjusted R-squared:  0.958 \n",
       "F-statistic: 676.2 on 7 and 200 DF,  p-value: < 2.2e-16\n"
      ]
     },
     "metadata": {},
     "output_type": "display_data"
    }
   ],
   "source": [
    "cpu_reg=lm(ERP ~ . -vendor_name -Model_Name, data=cpu_data)\n",
    "summary(cpu_reg)"
   ]
  },
  {
   "cell_type": "code",
   "execution_count": 29,
   "metadata": {
    "collapsed": false
   },
   "outputs": [
    {
     "data": {
      "text/html": [
       "-2.30258509299405"
      ],
      "text/latex": [
       "-2.30258509299405"
      ],
      "text/markdown": [
       "-2.30258509299405"
      ],
      "text/plain": [
       "[1] -2.302585"
      ]
     },
     "metadata": {},
     "output_type": "display_data"
    }
   ],
   "source": [
    "log(0.1)"
   ]
  },
  {
   "cell_type": "code",
   "execution_count": null,
   "metadata": {
    "collapsed": true
   },
   "outputs": [],
   "source": []
  },
  {
   "cell_type": "code",
   "execution_count": null,
   "metadata": {
    "collapsed": true
   },
   "outputs": [],
   "source": []
  }
 ],
 "metadata": {
  "kernelspec": {
   "display_name": "R",
   "language": "R",
   "name": "ir"
  },
  "language_info": {
   "codemirror_mode": "r",
   "file_extension": ".r",
   "mimetype": "text/x-r-source",
   "name": "R",
   "pygments_lexer": "r",
   "version": "3.3.1"
  }
 },
 "nbformat": 4,
 "nbformat_minor": 0
}
