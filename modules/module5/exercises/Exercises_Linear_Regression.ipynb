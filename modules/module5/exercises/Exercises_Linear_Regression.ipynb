{
 "cells": [
  {
   "cell_type": "markdown",
   "metadata": {},
   "source": [
    "## Module 5 - Linear and Multiple Regression exercises\n",
    "\n",
    "Linear regression is one of the important modelling techniques. We looked into some of the important concepts like fitting a linear model, how variation in the data is explained by the model, error of the estimates, multiple and multivariate regression. \n",
    "\n",
    "We will apply the knowledge gained in lab and practice notebooks on a new dataset about concrete. The dataset source opinions, concrete compressive strength is a highly nonlinear function of age and ingredients. These ingredients include cement, blast furnace slag, fly ash, water, superplasticizer, coarse aggregate, and fine aggregate. We will fit a simple linear model for the response variable concrete compressive strength and extend it to multiple predictors to analyze and evaluate any improvement in the model."
   ]
  },
  {
   "cell_type": "markdown",
   "metadata": {},
   "source": [
    "Reading the data from dataset located at /datasets/concrete/Concrete_Data.csv"
   ]
  },
  {
   "cell_type": "code",
   "execution_count": 3,
   "metadata": {
    "collapsed": false
   },
   "outputs": [
    {
     "data": {
      "text/html": [
       "<table>\n",
       "<thead><tr><th></th><th scope=col>Cement..component.1..kg.in.a.m.3.mixture.</th><th scope=col>Blast.Furnace.Slag..component.2..kg.in.a.m.3.mixture.</th><th scope=col>Fly.Ash..component.3..kg.in.a.m.3.mixture.</th><th scope=col>Water...component.4..kg.in.a.m.3.mixture.</th><th scope=col>Superplasticizer..component.5..kg.in.a.m.3.mixture.</th><th scope=col>Coarse.Aggregate...component.6..kg.in.a.m.3.mixture.</th><th scope=col>Fine.Aggregate..component.7..kg.in.a.m.3.mixture.</th><th scope=col>Age..day.</th><th scope=col>Concrete.compressive.strength.MPa..megapascals..</th></tr></thead>\n",
       "<tbody>\n",
       "\t<tr><th scope=row>1</th><td> 540.00</td><td>   0.00</td><td>   0.00</td><td> 162.00</td><td>   2.50</td><td>1040.00</td><td> 676.00</td><td>  28.00</td><td>  79.99</td></tr>\n",
       "\t<tr><th scope=row>2</th><td> 540.00</td><td>   0.00</td><td>   0.00</td><td> 162.00</td><td>   2.50</td><td>1055.00</td><td> 676.00</td><td>  28.00</td><td>  61.89</td></tr>\n",
       "\t<tr><th scope=row>3</th><td>332.50</td><td>142.50</td><td>  0.00</td><td>228.00</td><td>  0.00</td><td>932.00</td><td>594.00</td><td>270.00</td><td> 40.27</td></tr>\n",
       "\t<tr><th scope=row>4</th><td>332.50</td><td>142.50</td><td>  0.00</td><td>228.00</td><td>  0.00</td><td>932.00</td><td>594.00</td><td>365.00</td><td> 41.05</td></tr>\n",
       "\t<tr><th scope=row>5</th><td>198.6</td><td>132.4</td><td>  0.0</td><td>192.0</td><td>  0.0</td><td>978.4</td><td>825.5</td><td>360.0</td><td> 44.3</td></tr>\n",
       "\t<tr><th scope=row>6</th><td>266.00</td><td>114.00</td><td>  0.00</td><td>228.00</td><td>  0.00</td><td>932.00</td><td>670.00</td><td> 90.00</td><td> 47.03</td></tr>\n",
       "</tbody>\n",
       "</table>\n"
      ],
      "text/latex": [
       "\\begin{tabular}{r|lllllllll}\n",
       "  & Cement..component.1..kg.in.a.m.3.mixture. & Blast.Furnace.Slag..component.2..kg.in.a.m.3.mixture. & Fly.Ash..component.3..kg.in.a.m.3.mixture. & Water...component.4..kg.in.a.m.3.mixture. & Superplasticizer..component.5..kg.in.a.m.3.mixture. & Coarse.Aggregate...component.6..kg.in.a.m.3.mixture. & Fine.Aggregate..component.7..kg.in.a.m.3.mixture. & Age..day. & Concrete.compressive.strength.MPa..megapascals..\\\\\n",
       "\\hline\n",
       "\t1 &  540.00 &    0.00 &    0.00 &  162.00 &    2.50 & 1040.00 &  676.00 &   28.00 &   79.99\\\\\n",
       "\t2 &  540.00 &    0.00 &    0.00 &  162.00 &    2.50 & 1055.00 &  676.00 &   28.00 &   61.89\\\\\n",
       "\t3 & 332.50 & 142.50 &   0.00 & 228.00 &   0.00 & 932.00 & 594.00 & 270.00 &  40.27\\\\\n",
       "\t4 & 332.50 & 142.50 &   0.00 & 228.00 &   0.00 & 932.00 & 594.00 & 365.00 &  41.05\\\\\n",
       "\t5 & 198.6 & 132.4 &   0.0 & 192.0 &   0.0 & 978.4 & 825.5 & 360.0 &  44.3\\\\\n",
       "\t6 & 266.00 & 114.00 &   0.00 & 228.00 &   0.00 & 932.00 & 670.00 &  90.00 &  47.03\\\\\n",
       "\\end{tabular}\n"
      ],
      "text/plain": [
       "  Cement..component.1..kg.in.a.m.3.mixture.\n",
       "1                                     540.0\n",
       "2                                     540.0\n",
       "3                                     332.5\n",
       "4                                     332.5\n",
       "5                                     198.6\n",
       "6                                     266.0\n",
       "  Blast.Furnace.Slag..component.2..kg.in.a.m.3.mixture.\n",
       "1                                                   0.0\n",
       "2                                                   0.0\n",
       "3                                                 142.5\n",
       "4                                                 142.5\n",
       "5                                                 132.4\n",
       "6                                                 114.0\n",
       "  Fly.Ash..component.3..kg.in.a.m.3.mixture.\n",
       "1                                          0\n",
       "2                                          0\n",
       "3                                          0\n",
       "4                                          0\n",
       "5                                          0\n",
       "6                                          0\n",
       "  Water...component.4..kg.in.a.m.3.mixture.\n",
       "1                                       162\n",
       "2                                       162\n",
       "3                                       228\n",
       "4                                       228\n",
       "5                                       192\n",
       "6                                       228\n",
       "  Superplasticizer..component.5..kg.in.a.m.3.mixture.\n",
       "1                                                 2.5\n",
       "2                                                 2.5\n",
       "3                                                 0.0\n",
       "4                                                 0.0\n",
       "5                                                 0.0\n",
       "6                                                 0.0\n",
       "  Coarse.Aggregate...component.6..kg.in.a.m.3.mixture.\n",
       "1                                               1040.0\n",
       "2                                               1055.0\n",
       "3                                                932.0\n",
       "4                                                932.0\n",
       "5                                                978.4\n",
       "6                                                932.0\n",
       "  Fine.Aggregate..component.7..kg.in.a.m.3.mixture. Age..day.\n",
       "1                                             676.0        28\n",
       "2                                             676.0        28\n",
       "3                                             594.0       270\n",
       "4                                             594.0       365\n",
       "5                                             825.5       360\n",
       "6                                             670.0        90\n",
       "  Concrete.compressive.strength.MPa..megapascals..\n",
       "1                                            79.99\n",
       "2                                            61.89\n",
       "3                                            40.27\n",
       "4                                            41.05\n",
       "5                                            44.30\n",
       "6                                            47.03"
      ]
     },
     "metadata": {},
     "output_type": "display_data"
    }
   ],
   "source": [
    "concrete_data = read.csv(\"../../../datasets/concrete/Concrete_Data.csv\",header=TRUE)\n",
    "head(concrete_data)"
   ]
  },
  {
   "cell_type": "markdown",
   "metadata": {},
   "source": [
    "The column headers are not very aesthetic or readable. \n",
    "\n",
    "**Activity 1: **Modify the column names so that only the actual name of the column is used instead of all the unwanted description. \n",
    "\n",
    "The column names are present in a file called headers.txt in the directory /DSA-8610/datasets/concrete/. Read the data and extract the names into an array called headers."
   ]
  },
  {
   "cell_type": "code",
   "execution_count": 90,
   "metadata": {
    "collapsed": false
   },
   "outputs": [],
   "source": [
    "# Your code for activity 1 goes here..\n"
   ]
  },
  {
   "cell_type": "code",
   "execution_count": 80,
   "metadata": {
    "collapsed": false
   },
   "outputs": [
    {
     "data": {
      "text/plain": [
       "     Cement          Blast            Fly             Water      \n",
       " Min.   :102.0   Min.   :  0.0   Min.   :  0.00   Min.   :121.8  \n",
       " 1st Qu.:192.4   1st Qu.:  0.0   1st Qu.:  0.00   1st Qu.:164.9  \n",
       " Median :272.9   Median : 22.0   Median :  0.00   Median :185.0  \n",
       " Mean   :281.2   Mean   : 73.9   Mean   : 54.19   Mean   :181.6  \n",
       " 3rd Qu.:350.0   3rd Qu.:142.9   3rd Qu.:118.30   3rd Qu.:192.0  \n",
       " Max.   :540.0   Max.   :359.4   Max.   :200.10   Max.   :247.0  \n",
       " Superplasticizer     Coarse            Fine            Age        \n",
       " Min.   : 0.000   Min.   : 801.0   Min.   :594.0   Min.   :  1.00  \n",
       " 1st Qu.: 0.000   1st Qu.: 932.0   1st Qu.:731.0   1st Qu.:  7.00  \n",
       " Median : 6.400   Median : 968.0   Median :779.5   Median : 28.00  \n",
       " Mean   : 6.205   Mean   : 972.9   Mean   :773.6   Mean   : 45.66  \n",
       " 3rd Qu.:10.200   3rd Qu.:1029.4   3rd Qu.:824.0   3rd Qu.: 56.00  \n",
       " Max.   :32.200   Max.   :1145.0   Max.   :992.6   Max.   :365.00  \n",
       "    Concrete    \n",
       " Min.   : 2.33  \n",
       " 1st Qu.:23.71  \n",
       " Median :34.45  \n",
       " Mean   :35.82  \n",
       " 3rd Qu.:46.13  \n",
       " Max.   :82.60  "
      ]
     },
     "metadata": {},
     "output_type": "display_data"
    }
   ],
   "source": [
    "names(concrete_data)=headers\n",
    "summary(concrete_data)"
   ]
  },
  {
   "cell_type": "markdown",
   "metadata": {},
   "source": [
    "**Activity 2: ** Split the data into training and testing sets. Put 70% of data in \"train_data\" dataframe and rest in \"test_data\" dataframe. Use the seed as 1000 to reproduce test results for evaluation. \n",
    "\n",
    "We will evaluate the predictive capability of our model on test dataset. "
   ]
  },
  {
   "cell_type": "code",
   "execution_count": 60,
   "metadata": {
    "collapsed": true
   },
   "outputs": [],
   "source": [
    "library(caTools)\n",
    "set.seed(1000) # set.seed() will help us to reproduce the results.\n",
    "\n",
    "# Your code for activity 2 goes here..\n",
    "\n",
    "# Test data will have the rest 70% of data\n",
    "train_data  = \n",
    "\n",
    "# Test data will have the rest 30% of data\n",
    "test_data  = "
   ]
  },
  {
   "cell_type": "markdown",
   "metadata": {},
   "source": [
    "Check the correlation of independent variables with dependent variable Concrete. "
   ]
  },
  {
   "cell_type": "code",
   "execution_count": 66,
   "metadata": {
    "collapsed": false
   },
   "outputs": [
    {
     "data": {
      "text/html": [
       "<table>\n",
       "<thead><tr><th></th><th scope=col>Cement</th><th scope=col>Blast</th><th scope=col>Fly</th><th scope=col>Water</th><th scope=col>Superplasticizer</th><th scope=col>Coarse</th><th scope=col>Fine</th><th scope=col>Age</th><th scope=col>Concrete</th></tr></thead>\n",
       "<tbody>\n",
       "\t<tr><th scope=row>Cement</th><td> 1.00000000</td><td>-0.26450684</td><td>-0.40487256</td><td>-0.09100654</td><td> 0.10564721</td><td>-0.12518424</td><td>-0.20881391</td><td> 0.06162377</td><td> 0.51133578</td></tr>\n",
       "\t<tr><th scope=row>Blast</th><td>-0.26450684</td><td> 1.00000000</td><td>-0.33288939</td><td> 0.12028319</td><td> 0.04424920</td><td>-0.29407987</td><td>-0.29749125</td><td>-0.05270709</td><td> 0.10443017</td></tr>\n",
       "\t<tr><th scope=row>Fly</th><td>-0.404872562</td><td>-0.332889393</td><td> 1.000000000</td><td>-0.273908331</td><td> 0.377074412</td><td> 0.003019973</td><td> 0.090645433</td><td>-0.149915576</td><td>-0.114006273</td></tr>\n",
       "\t<tr><th scope=row>Water</th><td>-0.09100654</td><td> 0.12028319</td><td>-0.27390833</td><td> 1.00000000</td><td>-0.63762114</td><td>-0.17868967</td><td>-0.44383214</td><td> 0.29158177</td><td>-0.26783820</td></tr>\n",
       "\t<tr><th scope=row>Superplasticizer</th><td> 0.1056472</td><td> 0.0442492</td><td> 0.3770744</td><td>-0.6376211</td><td> 1.0000000</td><td>-0.2760172</td><td> 0.1886956</td><td>-0.2072650</td><td> 0.3465863</td></tr>\n",
       "\t<tr><th scope=row>Coarse</th><td>-0.125184235</td><td>-0.294079870</td><td> 0.003019973</td><td>-0.178689670</td><td>-0.276017172</td><td> 1.000000000</td><td>-0.165671411</td><td> 0.013560773</td><td>-0.173922425</td></tr>\n",
       "\t<tr><th scope=row>Fine</th><td>-0.20881391</td><td>-0.29749125</td><td> 0.09064543</td><td>-0.44383214</td><td> 0.18869564</td><td>-0.16567141</td><td> 1.00000000</td><td>-0.13718906</td><td>-0.15284656</td></tr>\n",
       "\t<tr><th scope=row>Age</th><td> 0.06162377</td><td>-0.05270709</td><td>-0.14991558</td><td> 0.29158177</td><td>-0.20726499</td><td> 0.01356077</td><td>-0.13718906</td><td> 1.00000000</td><td> 0.32604104</td></tr>\n",
       "\t<tr><th scope=row>Concrete</th><td> 0.5113358</td><td> 0.1044302</td><td>-0.1140063</td><td>-0.2678382</td><td> 0.3465863</td><td>-0.1739224</td><td>-0.1528466</td><td> 0.3260410</td><td> 1.0000000</td></tr>\n",
       "</tbody>\n",
       "</table>\n"
      ],
      "text/latex": [
       "\\begin{tabular}{r|lllllllll}\n",
       "  & Cement & Blast & Fly & Water & Superplasticizer & Coarse & Fine & Age & Concrete\\\\\n",
       "\\hline\n",
       "\tCement &  1.00000000 & -0.26450684 & -0.40487256 & -0.09100654 &  0.10564721 & -0.12518424 & -0.20881391 &  0.06162377 &  0.51133578\\\\\n",
       "\tBlast & -0.26450684 &  1.00000000 & -0.33288939 &  0.12028319 &  0.04424920 & -0.29407987 & -0.29749125 & -0.05270709 &  0.10443017\\\\\n",
       "\tFly & -0.404872562 & -0.332889393 &  1.000000000 & -0.273908331 &  0.377074412 &  0.003019973 &  0.090645433 & -0.149915576 & -0.114006273\\\\\n",
       "\tWater & -0.09100654 &  0.12028319 & -0.27390833 &  1.00000000 & -0.63762114 & -0.17868967 & -0.44383214 &  0.29158177 & -0.26783820\\\\\n",
       "\tSuperplasticizer &  0.1056472 &  0.0442492 &  0.3770744 & -0.6376211 &  1.0000000 & -0.2760172 &  0.1886956 & -0.2072650 &  0.3465863\\\\\n",
       "\tCoarse & -0.125184235 & -0.294079870 &  0.003019973 & -0.178689670 & -0.276017172 &  1.000000000 & -0.165671411 &  0.013560773 & -0.173922425\\\\\n",
       "\tFine & -0.20881391 & -0.29749125 &  0.09064543 & -0.44383214 &  0.18869564 & -0.16567141 &  1.00000000 & -0.13718906 & -0.15284656\\\\\n",
       "\tAge &  0.06162377 & -0.05270709 & -0.14991558 &  0.29158177 & -0.20726499 &  0.01356077 & -0.13718906 &  1.00000000 &  0.32604104\\\\\n",
       "\tConcrete &  0.5113358 &  0.1044302 & -0.1140063 & -0.2678382 &  0.3465863 & -0.1739224 & -0.1528466 &  0.3260410 &  1.0000000\\\\\n",
       "\\end{tabular}\n"
      ],
      "text/markdown": [
       "1. 1\n",
       "2. -0.264506842381091\n",
       "3. -0.404872562194098\n",
       "4. -0.0910065442501055\n",
       "5. 0.105647211786081\n",
       "6. -0.125184235296314\n",
       "7. -0.208813910880903\n",
       "8. 0.0616237735206903\n",
       "9. 0.511335782153693\n",
       "10. -0.264506842381091\n",
       "11. 1\n",
       "12. -0.332889393009182\n",
       "13. 0.120283190567986\n",
       "14. 0.0442492014172647\n",
       "15. -0.294079869841099\n",
       "16. -0.297491250920665\n",
       "17. -0.0527070911324292\n",
       "18. 0.104430165764539\n",
       "19. -0.404872562194098\n",
       "20. -0.332889393009182\n",
       "21. 1\n",
       "22. -0.273908331145875\n",
       "23. 0.377074411717625\n",
       "24. 0.0030199727121891\n",
       "25. 0.0906454334208296\n",
       "26. -0.149915576036174\n",
       "27. -0.114006273434656\n",
       "28. -0.0910065442501055\n",
       "29. 0.120283190567986\n",
       "30. -0.273908331145875\n",
       "31. 1\n",
       "32. -0.63762114075786\n",
       "33. -0.178689669690985\n",
       "34. -0.443832137112208\n",
       "35. 0.291581769095758\n",
       "36. -0.267838197644467\n",
       "37. 0.105647211786081\n",
       "38. 0.0442492014172647\n",
       "39. 0.377074411717625\n",
       "40. -0.63762114075786\n",
       "41. 1\n",
       "42. -0.276017171773506\n",
       "43. 0.188695637616381\n",
       "44. -0.207264992193955\n",
       "45. 0.346586310039904\n",
       "46. -0.125184235296314\n",
       "47. -0.294079869841099\n",
       "48. 0.0030199727121891\n",
       "49. -0.178689669690985\n",
       "50. -0.276017171773506\n",
       "51. 1\n",
       "52. -0.165671411404766\n",
       "53. 0.0135607725243819\n",
       "54. -0.17392242468684\n",
       "55. -0.208813910880903\n",
       "56. -0.297491250920665\n",
       "57. 0.0906454334208296\n",
       "58. -0.443832137112208\n",
       "59. 0.188695637616381\n",
       "60. -0.165671411404766\n",
       "61. 1\n",
       "62. -0.137189059514315\n",
       "63. -0.152846559537307\n",
       "64. 0.0616237735206903\n",
       "65. -0.0527070911324292\n",
       "66. -0.149915576036174\n",
       "67. 0.291581769095758\n",
       "68. -0.207264992193955\n",
       "69. 0.0135607725243819\n",
       "70. -0.137189059514315\n",
       "71. 1\n",
       "72. 0.326041038722341\n",
       "73. 0.511335782153693\n",
       "74. 0.104430165764539\n",
       "75. -0.114006273434656\n",
       "76. -0.267838197644467\n",
       "77. 0.346586310039904\n",
       "78. -0.17392242468684\n",
       "79. -0.152846559537307\n",
       "80. 0.326041038722341\n",
       "81. 1\n",
       "\n",
       "\n"
      ],
      "text/plain": [
       "                      Cement       Blast          Fly       Water\n",
       "Cement            1.00000000 -0.26450684 -0.404872562 -0.09100654\n",
       "Blast            -0.26450684  1.00000000 -0.332889393  0.12028319\n",
       "Fly              -0.40487256 -0.33288939  1.000000000 -0.27390833\n",
       "Water            -0.09100654  0.12028319 -0.273908331  1.00000000\n",
       "Superplasticizer  0.10564721  0.04424920  0.377074412 -0.63762114\n",
       "Coarse           -0.12518424 -0.29407987  0.003019973 -0.17868967\n",
       "Fine             -0.20881391 -0.29749125  0.090645433 -0.44383214\n",
       "Age               0.06162377 -0.05270709 -0.149915576  0.29158177\n",
       "Concrete          0.51133578  0.10443017 -0.114006273 -0.26783820\n",
       "                 Superplasticizer       Coarse        Fine         Age\n",
       "Cement                  0.1056472 -0.125184235 -0.20881391  0.06162377\n",
       "Blast                   0.0442492 -0.294079870 -0.29749125 -0.05270709\n",
       "Fly                     0.3770744  0.003019973  0.09064543 -0.14991558\n",
       "Water                  -0.6376211 -0.178689670 -0.44383214  0.29158177\n",
       "Superplasticizer        1.0000000 -0.276017172  0.18869564 -0.20726499\n",
       "Coarse                 -0.2760172  1.000000000 -0.16567141  0.01356077\n",
       "Fine                    0.1886956 -0.165671411  1.00000000 -0.13718906\n",
       "Age                    -0.2072650  0.013560773 -0.13718906  1.00000000\n",
       "Concrete                0.3465863 -0.173922425 -0.15284656  0.32604104\n",
       "                   Concrete\n",
       "Cement            0.5113358\n",
       "Blast             0.1044302\n",
       "Fly              -0.1140063\n",
       "Water            -0.2678382\n",
       "Superplasticizer  0.3465863\n",
       "Coarse           -0.1739224\n",
       "Fine             -0.1528466\n",
       "Age               0.3260410\n",
       "Concrete          1.0000000"
      ]
     },
     "metadata": {},
     "output_type": "display_data"
    }
   ],
   "source": [
    "cor(train_data)"
   ]
  },
  {
   "cell_type": "markdown",
   "metadata": {},
   "source": [
    "cement is highly correlated with concrete with a correlation of 0.51. "
   ]
  },
  {
   "cell_type": "markdown",
   "metadata": {},
   "source": [
    "**Activity 3: ** Fit a simple regression model to predict Concrete using Cement variable. Name this model \"concrete_cement_reg\". Use train_data as datasource."
   ]
  },
  {
   "cell_type": "code",
   "execution_count": 91,
   "metadata": {
    "collapsed": false
   },
   "outputs": [],
   "source": [
    "# Your code for activity 3 goes here..\n"
   ]
  },
  {
   "cell_type": "markdown",
   "metadata": {},
   "source": [
    "**Activity 4: ** Plot the regression line and residual errors for above model as shown in linear and multiple regression lab. "
   ]
  },
  {
   "cell_type": "code",
   "execution_count": 92,
   "metadata": {
    "collapsed": false
   },
   "outputs": [],
   "source": [
    "# Your code for activity 4 goes here..\n",
    "\n",
    "\n",
    "library(ggplot2)\n",
    "\n",
    "# The predicted values for dependent variable 'Concrete' can be accessed by referring to fitted.values of the model as shown below.\n",
    "pred_values<-concrete_cement_reg$fitted.values\n",
    "\n",
    "#plot the regression line and residual errors"
   ]
  },
  {
   "cell_type": "markdown",
   "metadata": {},
   "source": [
    "According to the R-squared value the variable Cement can only explain 26% of the variation in the data. Add next highly correlated variable to the model. Name this new model as  concrete_reg1"
   ]
  },
  {
   "cell_type": "markdown",
   "metadata": {},
   "source": [
    "**Activity 5: ** Calculate Sum of squared errors of above model where SSE = square of residual terms. You can access residuals vy accessing model like concrete_cement_reg$residuals.\n",
    " "
   ]
  },
  {
   "cell_type": "code",
   "execution_count": 93,
   "metadata": {
    "collapsed": false
   },
   "outputs": [],
   "source": [
    "# Your code for activity 5 goes here..\n",
    "\n"
   ]
  },
  {
   "cell_type": "markdown",
   "metadata": {},
   "source": [
    "We have seen Cement was a significant variable in predicting Concrete strength. Its the most correlated variable with Concrete. So we can confidently say no other variable in the dataset wil have better results in predicting Concrete strength if one variable linear regression mdoels are built. Move on to multiple regression and add more variables to the mdoel. We will keep adding variables until there is no significant increase in the R-squared value.\n",
    "\n",
    "**Activity 6: ** Add Superplasticizer along with Cement to the simple regression model fitted above and predict Concrete. Name this model \"concrete_reg1\". Use train_data as datasource."
   ]
  },
  {
   "cell_type": "code",
   "execution_count": 94,
   "metadata": {
    "collapsed": false
   },
   "outputs": [],
   "source": [
    "# Your code for activity 6 goes here..\n",
    "\n"
   ]
  },
  {
   "cell_type": "markdown",
   "metadata": {},
   "source": [
    "Superplasticizer has added value to the model. R-squared value increased from 0.25 to 0.35. Add next highly correlated variable Age to the model and call this model concrete_reg2."
   ]
  },
  {
   "cell_type": "markdown",
   "metadata": {},
   "source": [
    "**Activity 7: ** Add Age variable to concrete_reg1 model fitted above to predict Concrete. Name this model \"concrete_reg2\". Check for any improvement in the R-squared value. "
   ]
  },
  {
   "cell_type": "code",
   "execution_count": 95,
   "metadata": {
    "collapsed": false
   },
   "outputs": [],
   "source": [
    "# Your code for activity 7 goes here..\n",
    "\n"
   ]
  },
  {
   "cell_type": "markdown",
   "metadata": {},
   "source": [
    "The model is getting better with addition of new predictors. The latest model concrete_reg2 can explain more variation in the data. If we keep on adding the data at some point there would be an insignificant increase in the model R-squared value. Its better to exclude variables to avoid over fitting of models. The variables Coarse, Fine, Fly don't contribute much to the model to the model built with  Cement+Superplasticizer+Age+Blast+Water as predictos. \n",
    "\n",
    "We had to check each variable if it was adding any new information to the model. This can become time consuming when they are few 10's of variables in the model. Instead you can reverse engineer and build a model using all the independent variables and start selecting the variables which are singificant or exclude variables which are insignificant which ever works the best in a situation.  \n",
    "\n",
    "**Activity 8: ** Fit a multiple regression model using all the independent variables in concrete_data dataset to predict Concerte. Name this model concrete_reg3."
   ]
  },
  {
   "cell_type": "code",
   "execution_count": 96,
   "metadata": {
    "collapsed": false
   },
   "outputs": [],
   "source": [
    "# Your code for activity 8 goes here..\n",
    "\n"
   ]
  },
  {
   "cell_type": "markdown",
   "metadata": {},
   "source": [
    "**Activity 9: ** According to the summary of the model concrete_reg3 above remove the variables with p-value greater than 0.05 and from the model and rebuild the model with the rest variables. Name this model concrete_reg4."
   ]
  },
  {
   "cell_type": "code",
   "execution_count": 97,
   "metadata": {
    "collapsed": false
   },
   "outputs": [],
   "source": [
    "# Your code for activity 9 goes here..\n",
    "\n"
   ]
  },
  {
   "cell_type": "markdown",
   "metadata": {},
   "source": [
    "The R-squared value of above model concrete_reg4 is 0.59. This is the best model you can get without applying any more advanced techniques. You came to this point in two steps doing reverse engineering eliminating variables from the model. Above approach of including predictors one by one and checking R-squared value will make build eight different models adding eight variables to model one by one. So this second approach is the better one. This may not be the case in all situations but its a better approach when your data has amny predictos. "
   ]
  }
 ],
 "metadata": {
  "kernelspec": {
   "display_name": "R",
   "language": "R",
   "name": "ir"
  },
  "language_info": {
   "codemirror_mode": "r",
   "file_extension": ".r",
   "mimetype": "text/x-r-source",
   "name": "R",
   "pygments_lexer": "r",
   "version": "3.3.1"
  }
 },
 "nbformat": 4,
 "nbformat_minor": 0
}
