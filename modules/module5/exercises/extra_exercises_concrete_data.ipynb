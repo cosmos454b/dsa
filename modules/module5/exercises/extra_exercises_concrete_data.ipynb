{
 "cells": [
  {
   "cell_type": "markdown",
   "metadata": {},
   "source": [
    "## Regression exercises\n",
    "\n",
    "Linear regression is one of the most important modelling techniques. We looked into some of the important concepts like fitting a linear model, how variation os explained by the models, error of the estimates and little bit of multiple and multivariate regression. \n",
    "\n",
    "We will apply this knowledge gained in lab and practice notebooks on a new dataset about concrete. The dataset source says, concrete compressive strength is a highly nonlinear function of age and ingredients. These ingredients include cement, blast furnace slag, fly ash, water, superplasticizer, coarse aggregate, and fine aggregate. We will fit the model for the response variable concrete compressive strength and evaluate its relationship with other independent variables in the dataset."
   ]
  },
  {
   "cell_type": "markdown",
   "metadata": {},
   "source": [
    "Reading the data from dataset located at /datasets/concrete/Concrete_Data.csv"
   ]
  },
  {
   "cell_type": "code",
   "execution_count": 24,
   "metadata": {
    "collapsed": false
   },
   "outputs": [
    {
     "data": {
      "text/html": [
       "<table>\n",
       "<thead><tr><th></th><th scope=col>Cement..component.1..kg.in.a.m.3.mixture.</th><th scope=col>Blast.Furnace.Slag..component.2..kg.in.a.m.3.mixture.</th><th scope=col>Fly.Ash..component.3..kg.in.a.m.3.mixture.</th><th scope=col>Water...component.4..kg.in.a.m.3.mixture.</th><th scope=col>Superplasticizer..component.5..kg.in.a.m.3.mixture.</th><th scope=col>Coarse.Aggregate...component.6..kg.in.a.m.3.mixture.</th><th scope=col>Fine.Aggregate..component.7..kg.in.a.m.3.mixture.</th><th scope=col>Age..day.</th><th scope=col>Concrete.compressive.strength.MPa..megapascals..</th></tr></thead>\n",
       "<tbody>\n",
       "\t<tr><th scope=row>1</th><td> 540.00</td><td>   0.00</td><td>   0.00</td><td> 162.00</td><td>   2.50</td><td>1040.00</td><td> 676.00</td><td>  28.00</td><td>  79.99</td></tr>\n",
       "\t<tr><th scope=row>2</th><td> 540.00</td><td>   0.00</td><td>   0.00</td><td> 162.00</td><td>   2.50</td><td>1055.00</td><td> 676.00</td><td>  28.00</td><td>  61.89</td></tr>\n",
       "\t<tr><th scope=row>3</th><td>332.50</td><td>142.50</td><td>  0.00</td><td>228.00</td><td>  0.00</td><td>932.00</td><td>594.00</td><td>270.00</td><td> 40.27</td></tr>\n",
       "\t<tr><th scope=row>4</th><td>332.50</td><td>142.50</td><td>  0.00</td><td>228.00</td><td>  0.00</td><td>932.00</td><td>594.00</td><td>365.00</td><td> 41.05</td></tr>\n",
       "\t<tr><th scope=row>5</th><td>198.6</td><td>132.4</td><td>  0.0</td><td>192.0</td><td>  0.0</td><td>978.4</td><td>825.5</td><td>360.0</td><td> 44.3</td></tr>\n",
       "\t<tr><th scope=row>6</th><td>266.00</td><td>114.00</td><td>  0.00</td><td>228.00</td><td>  0.00</td><td>932.00</td><td>670.00</td><td> 90.00</td><td> 47.03</td></tr>\n",
       "</tbody>\n",
       "</table>\n"
      ],
      "text/latex": [
       "\\begin{tabular}{r|lllllllll}\n",
       "  & Cement..component.1..kg.in.a.m.3.mixture. & Blast.Furnace.Slag..component.2..kg.in.a.m.3.mixture. & Fly.Ash..component.3..kg.in.a.m.3.mixture. & Water...component.4..kg.in.a.m.3.mixture. & Superplasticizer..component.5..kg.in.a.m.3.mixture. & Coarse.Aggregate...component.6..kg.in.a.m.3.mixture. & Fine.Aggregate..component.7..kg.in.a.m.3.mixture. & Age..day. & Concrete.compressive.strength.MPa..megapascals..\\\\\n",
       "\\hline\n",
       "\t1 &  540.00 &    0.00 &    0.00 &  162.00 &    2.50 & 1040.00 &  676.00 &   28.00 &   79.99\\\\\n",
       "\t2 &  540.00 &    0.00 &    0.00 &  162.00 &    2.50 & 1055.00 &  676.00 &   28.00 &   61.89\\\\\n",
       "\t3 & 332.50 & 142.50 &   0.00 & 228.00 &   0.00 & 932.00 & 594.00 & 270.00 &  40.27\\\\\n",
       "\t4 & 332.50 & 142.50 &   0.00 & 228.00 &   0.00 & 932.00 & 594.00 & 365.00 &  41.05\\\\\n",
       "\t5 & 198.6 & 132.4 &   0.0 & 192.0 &   0.0 & 978.4 & 825.5 & 360.0 &  44.3\\\\\n",
       "\t6 & 266.00 & 114.00 &   0.00 & 228.00 &   0.00 & 932.00 & 670.00 &  90.00 &  47.03\\\\\n",
       "\\end{tabular}\n"
      ],
      "text/plain": [
       "  Cement..component.1..kg.in.a.m.3.mixture.\n",
       "1                                     540.0\n",
       "2                                     540.0\n",
       "3                                     332.5\n",
       "4                                     332.5\n",
       "5                                     198.6\n",
       "6                                     266.0\n",
       "  Blast.Furnace.Slag..component.2..kg.in.a.m.3.mixture.\n",
       "1                                                   0.0\n",
       "2                                                   0.0\n",
       "3                                                 142.5\n",
       "4                                                 142.5\n",
       "5                                                 132.4\n",
       "6                                                 114.0\n",
       "  Fly.Ash..component.3..kg.in.a.m.3.mixture.\n",
       "1                                          0\n",
       "2                                          0\n",
       "3                                          0\n",
       "4                                          0\n",
       "5                                          0\n",
       "6                                          0\n",
       "  Water...component.4..kg.in.a.m.3.mixture.\n",
       "1                                       162\n",
       "2                                       162\n",
       "3                                       228\n",
       "4                                       228\n",
       "5                                       192\n",
       "6                                       228\n",
       "  Superplasticizer..component.5..kg.in.a.m.3.mixture.\n",
       "1                                                 2.5\n",
       "2                                                 2.5\n",
       "3                                                 0.0\n",
       "4                                                 0.0\n",
       "5                                                 0.0\n",
       "6                                                 0.0\n",
       "  Coarse.Aggregate...component.6..kg.in.a.m.3.mixture.\n",
       "1                                               1040.0\n",
       "2                                               1055.0\n",
       "3                                                932.0\n",
       "4                                                932.0\n",
       "5                                                978.4\n",
       "6                                                932.0\n",
       "  Fine.Aggregate..component.7..kg.in.a.m.3.mixture. Age..day.\n",
       "1                                             676.0        28\n",
       "2                                             676.0        28\n",
       "3                                             594.0       270\n",
       "4                                             594.0       365\n",
       "5                                             825.5       360\n",
       "6                                             670.0        90\n",
       "  Concrete.compressive.strength.MPa..megapascals..\n",
       "1                                            79.99\n",
       "2                                            61.89\n",
       "3                                            40.27\n",
       "4                                            41.05\n",
       "5                                            44.30\n",
       "6                                            47.03"
      ]
     },
     "metadata": {},
     "output_type": "display_data"
    }
   ],
   "source": [
    "concrete_data = read.csv(\"../../../datasets/concrete/Concrete_Data.csv\",header=TRUE)\n",
    "head(concrete_data)"
   ]
  },
  {
   "cell_type": "markdown",
   "metadata": {},
   "source": [
    "The column headers are not very aesthetic or readable. \n",
    "\n",
    "**Activity 1: **Modify the column names so that only the actual name of the columnn is used instead of all the unwanted description. Hint you can read the names of the columns from a separate file and extract the names.  "
   ]
  },
  {
   "cell_type": "code",
   "execution_count": 44,
   "metadata": {
    "collapsed": false
   },
   "outputs": [
    {
     "data": {
      "text/html": [
       "\"character\""
      ],
      "text/latex": [
       "\"character\""
      ],
      "text/markdown": [
       "\"character\""
      ],
      "text/plain": [
       "[1] \"character\""
      ]
     },
     "metadata": {},
     "output_type": "display_data"
    }
   ],
   "source": [
    "names=read.csv(\"../../../datasets/concrete/headers.txt\",header = FALSE,sep=\"\")\n",
    "names=names[1]\n",
    "names=as.vector(t(names))"
   ]
  },
  {
   "cell_type": "code",
   "execution_count": 45,
   "metadata": {
    "collapsed": false
   },
   "outputs": [
    {
     "data": {
      "text/html": [
       "<table>\n",
       "<thead><tr><th></th><th scope=col>Cement</th><th scope=col>Blast</th><th scope=col>Fly</th><th scope=col>Water</th><th scope=col>Superplasticizer</th><th scope=col>Coarse</th><th scope=col>Fine</th><th scope=col>Age</th><th scope=col>Concrete</th></tr></thead>\n",
       "<tbody>\n",
       "\t<tr><th scope=row>1</th><td> 540.00</td><td>   0.00</td><td>   0.00</td><td> 162.00</td><td>   2.50</td><td>1040.00</td><td> 676.00</td><td>  28.00</td><td>  79.99</td></tr>\n",
       "\t<tr><th scope=row>2</th><td> 540.00</td><td>   0.00</td><td>   0.00</td><td> 162.00</td><td>   2.50</td><td>1055.00</td><td> 676.00</td><td>  28.00</td><td>  61.89</td></tr>\n",
       "\t<tr><th scope=row>3</th><td>332.50</td><td>142.50</td><td>  0.00</td><td>228.00</td><td>  0.00</td><td>932.00</td><td>594.00</td><td>270.00</td><td> 40.27</td></tr>\n",
       "\t<tr><th scope=row>4</th><td>332.50</td><td>142.50</td><td>  0.00</td><td>228.00</td><td>  0.00</td><td>932.00</td><td>594.00</td><td>365.00</td><td> 41.05</td></tr>\n",
       "\t<tr><th scope=row>5</th><td>198.6</td><td>132.4</td><td>  0.0</td><td>192.0</td><td>  0.0</td><td>978.4</td><td>825.5</td><td>360.0</td><td> 44.3</td></tr>\n",
       "\t<tr><th scope=row>6</th><td>266.00</td><td>114.00</td><td>  0.00</td><td>228.00</td><td>  0.00</td><td>932.00</td><td>670.00</td><td> 90.00</td><td> 47.03</td></tr>\n",
       "</tbody>\n",
       "</table>\n"
      ],
      "text/latex": [
       "\\begin{tabular}{r|lllllllll}\n",
       "  & Cement & Blast & Fly & Water & Superplasticizer & Coarse & Fine & Age & Concrete\\\\\n",
       "\\hline\n",
       "\t1 &  540.00 &    0.00 &    0.00 &  162.00 &    2.50 & 1040.00 &  676.00 &   28.00 &   79.99\\\\\n",
       "\t2 &  540.00 &    0.00 &    0.00 &  162.00 &    2.50 & 1055.00 &  676.00 &   28.00 &   61.89\\\\\n",
       "\t3 & 332.50 & 142.50 &   0.00 & 228.00 &   0.00 & 932.00 & 594.00 & 270.00 &  40.27\\\\\n",
       "\t4 & 332.50 & 142.50 &   0.00 & 228.00 &   0.00 & 932.00 & 594.00 & 365.00 &  41.05\\\\\n",
       "\t5 & 198.6 & 132.4 &   0.0 & 192.0 &   0.0 & 978.4 & 825.5 & 360.0 &  44.3\\\\\n",
       "\t6 & 266.00 & 114.00 &   0.00 & 228.00 &   0.00 & 932.00 & 670.00 &  90.00 &  47.03\\\\\n",
       "\\end{tabular}\n"
      ],
      "text/plain": [
       "  Cement Blast Fly Water Superplasticizer Coarse  Fine Age Concrete\n",
       "1  540.0   0.0   0   162              2.5 1040.0 676.0  28    79.99\n",
       "2  540.0   0.0   0   162              2.5 1055.0 676.0  28    61.89\n",
       "3  332.5 142.5   0   228              0.0  932.0 594.0 270    40.27\n",
       "4  332.5 142.5   0   228              0.0  932.0 594.0 365    41.05\n",
       "5  198.6 132.4   0   192              0.0  978.4 825.5 360    44.30\n",
       "6  266.0 114.0   0   228              0.0  932.0 670.0  90    47.03"
      ]
     },
     "metadata": {},
     "output_type": "display_data"
    }
   ],
   "source": [
    "# ncol(concrete_data)\n",
    "names(concrete_data)=names\n",
    "head(concrete_data)"
   ]
  },
  {
   "cell_type": "code",
   "execution_count": 46,
   "metadata": {
    "collapsed": false
   },
   "outputs": [
    {
     "data": {
      "text/html": [
       "1030"
      ],
      "text/latex": [
       "1030"
      ],
      "text/markdown": [
       "1030"
      ],
      "text/plain": [
       "[1] 1030"
      ]
     },
     "metadata": {},
     "output_type": "display_data"
    }
   ],
   "source": [
    "nrow(concrete_data)"
   ]
  },
  {
   "cell_type": "code",
   "execution_count": 47,
   "metadata": {
    "collapsed": false
   },
   "outputs": [
    {
     "data": {
      "text/plain": [
       "     Cement          Blast            Fly             Water      \n",
       " Min.   :102.0   Min.   :  0.0   Min.   :  0.00   Min.   :121.8  \n",
       " 1st Qu.:192.4   1st Qu.:  0.0   1st Qu.:  0.00   1st Qu.:164.9  \n",
       " Median :272.9   Median : 22.0   Median :  0.00   Median :185.0  \n",
       " Mean   :281.2   Mean   : 73.9   Mean   : 54.19   Mean   :181.6  \n",
       " 3rd Qu.:350.0   3rd Qu.:142.9   3rd Qu.:118.30   3rd Qu.:192.0  \n",
       " Max.   :540.0   Max.   :359.4   Max.   :200.10   Max.   :247.0  \n",
       " Superplasticizer     Coarse            Fine            Age        \n",
       " Min.   : 0.000   Min.   : 801.0   Min.   :594.0   Min.   :  1.00  \n",
       " 1st Qu.: 0.000   1st Qu.: 932.0   1st Qu.:731.0   1st Qu.:  7.00  \n",
       " Median : 6.400   Median : 968.0   Median :779.5   Median : 28.00  \n",
       " Mean   : 6.205   Mean   : 972.9   Mean   :773.6   Mean   : 45.66  \n",
       " 3rd Qu.:10.200   3rd Qu.:1029.4   3rd Qu.:824.0   3rd Qu.: 56.00  \n",
       " Max.   :32.200   Max.   :1145.0   Max.   :992.6   Max.   :365.00  \n",
       "    Concrete    \n",
       " Min.   : 2.33  \n",
       " 1st Qu.:23.71  \n",
       " Median :34.45  \n",
       " Mean   :35.82  \n",
       " 3rd Qu.:46.13  \n",
       " Max.   :82.60  "
      ]
     },
     "metadata": {},
     "output_type": "display_data"
    }
   ],
   "source": [
    "summary(concrete_data)"
   ]
  },
  {
   "cell_type": "markdown",
   "metadata": {},
   "source": [
    "The variables blast, Fly, Superplasticizer and Age appear to have skewed distributions. Lets check using skewness function in 'e1071' package."
   ]
  },
  {
   "cell_type": "code",
   "execution_count": 65,
   "metadata": {
    "collapsed": false
   },
   "outputs": [
    {
     "data": {
      "text/plain": [
       "\n",
       "    0    11  13.6    15  17.2  17.5  17.6    19    20    22    24    26    38 \n",
       "  471     4     5     5     1     1     1    10    12     8    14     8     4 \n",
       " 42.1  42.2  45.2  47.5    50  50.1  53.8  54.6  75.4    76    86  91.7    92 \n",
       "    5     5     5     6     1     5     5     5     5     5     1     1     1 \n",
       " 93.4  93.8  94.7    95    97  97.1  97.8  98.1  98.8    99   100 100.5 100.6 \n",
       "    5     5     5     6     1     6     5    10     1     1     1     1     1 \n",
       "  101   102   105 105.1 106.3 110.5   111   112 112.3   114 114.6   115   116 \n",
       "    1     4     2     1    20     1     3     1     1     5     1     1     7 \n",
       "116.8   117 117.2 117.6   118 118.8   119 119.7   120 120.5   121 122.6 124.1 \n",
       "    1     1     5     1     1     5     1     1     1     1     3     4     2 \n",
       "  128 128.5 128.9   129 129.8 129.9 132.4 132.6   133 133.7   134 135.7   136 \n",
       "    1     5     1     1     5     5     6     1     5     1     1     2     1 \n",
       "136.3   137 137.2   139 139.4 139.9   140 141.3 142.5 142.8   143   144 144.2 \n",
       "    1     2     1     1     1     1     1     4     6     2     2     1     1 \n",
       "144.7   145 145.3 147.2 148.6 148.9   149 151.2   153 155.5   156   157 158.8 \n",
       "    2    11     1     2     1     1     2     5     5     2     1     4     2 \n",
       "160.5   161 161.6   162 162.4   163 163.9   164 164.2   166 166.4 166.6 166.8 \n",
       "    1     1     1     1     4     1     1     2     1     1     1     1     4 \n",
       "  167   169 169.4 169.6   170 170.2 170.3 172.6   173   174   175 175.1   177 \n",
       "    1     1     1     1     2     1     2     1     5     1     1     1     5 \n",
       "  178 178.1   180 181.9   183 183.4 183.9   184 186.7   187   188   189 189.2 \n",
       "    2     1     2     2     2     2     5     1     1     4     2    30     5 \n",
       "  190 190.1   192 193.5   196   200 200.9 203.5 206.5   207   209 209.4   210 \n",
       "    7     1     4     2     1     5     5     6     1     2     1     6     1 \n",
       "210.2 210.7   212 212.5   214   230 230.5   236 236.8   237 237.5 238.2 238.7 \n",
       "    1     2     4     5     2     1     1     6     1     1     6     2     1 \n",
       "  239   243 243.5   250 250.2 259.7   260 262.2 272.8 282.8   288 290.2 305.3 \n",
       "    1     1     1     2     4     1     1     5     2     4     4     2     4 \n",
       "316.1 342.1 359.4 \n",
       "    2     2     2 "
      ]
     },
     "metadata": {},
     "output_type": "display_data"
    }
   ],
   "source": [
    "# concrete_data[concrete_data$Blast==0,]\n",
    "table(concrete_data$Blast)"
   ]
  },
  {
   "cell_type": "code",
   "execution_count": 52,
   "metadata": {
    "collapsed": false
   },
   "outputs": [
    {
     "data": {
      "text/html": [
       "0.798386219978284"
      ],
      "text/latex": [
       "0.798386219978284"
      ],
      "text/markdown": [
       "0.798386219978284"
      ],
      "text/plain": [
       "[1] 0.7983862"
      ]
     },
     "metadata": {},
     "output_type": "display_data"
    },
    {
     "data": {
      "text/html": [
       "0.535789810358356"
      ],
      "text/latex": [
       "0.535789810358356"
      ],
      "text/markdown": [
       "0.535789810358356"
      ],
      "text/plain": [
       "[1] 0.5357898"
      ]
     },
     "metadata": {},
     "output_type": "display_data"
    },
    {
     "data": {
      "text/html": [
       "0.904561947521417"
      ],
      "text/latex": [
       "0.904561947521417"
      ],
      "text/markdown": [
       "0.904561947521417"
      ],
      "text/plain": [
       "[1] 0.9045619"
      ]
     },
     "metadata": {},
     "output_type": "display_data"
    },
    {
     "data": {
      "text/html": [
       "3.2596616877369"
      ],
      "text/latex": [
       "3.2596616877369"
      ],
      "text/markdown": [
       "3.2596616877369"
      ],
      "text/plain": [
       "[1] 3.259662"
      ]
     },
     "metadata": {},
     "output_type": "display_data"
    }
   ],
   "source": [
    "library(e1071)\n",
    "skewness(concrete_data$Blast)\n",
    "skewness(concrete_data$Fly)\n",
    "skewness(concrete_data$Superplasticizer)\n",
    "skewness(concrete_data$Age)"
   ]
  },
  {
   "cell_type": "markdown",
   "metadata": {},
   "source": [
    "All the four variables has large positive skews. You can plot the same and visually inspect the skewed nature of data. "
   ]
  },
  {
   "cell_type": "code",
   "execution_count": 54,
   "metadata": {
    "collapsed": false
   },
   "outputs": [
    {
     "data": {
      "image/png": "[encoded data removed]",
      "text/plain": [
       "plot without title"
      ]
     },
     "metadata": {
      "image/svg+xml": {
       "isolated": true
      }
     },
     "output_type": "display_data"
    }
   ],
   "source": [
    "library(gridExtra)\n",
    "library(ggplot2)\n",
    "grid.arrange(\n",
    "qplot(concrete_data$Blast,geom=\"histogram\",bins=25),\n",
    "qplot(concrete_data$Fly,geom=\"histogram\",bins=30),\n",
    "qplot(concrete_data$Superplasticizer,geom=\"histogram\",bins=25),\n",
    "qplot(concrete_data$Age,geom=\"histogram\",bins=25),\n",
    "nrow=2,ncol=2)"
   ]
  },
  {
   "cell_type": "code",
   "execution_count": 59,
   "metadata": {
    "collapsed": false
   },
   "outputs": [
    {
     "data": {
      "text/plain": [
       "\n",
       "Call:\n",
       "lm(formula = Concrete ~ ., data = concrete_data)\n",
       "\n",
       "Residuals:\n",
       "    Min      1Q  Median      3Q     Max \n",
       "-28.654  -6.302   0.703   6.569  34.450 \n",
       "\n",
       "Coefficients:\n",
       "                   Estimate Std. Error t value Pr(>|t|)    \n",
       "(Intercept)      -23.331214  26.585504  -0.878 0.380372    \n",
       "Cement             0.119804   0.008489  14.113  < 2e-16 ***\n",
       "Blast              0.103866   0.010136  10.247  < 2e-16 ***\n",
       "Fly                0.087934   0.012583   6.988 5.02e-12 ***\n",
       "Water             -0.149918   0.040177  -3.731 0.000201 ***\n",
       "Superplasticizer   0.292225   0.093424   3.128 0.001810 ** \n",
       "Coarse             0.018086   0.009392   1.926 0.054425 .  \n",
       "Fine               0.020190   0.010702   1.887 0.059491 .  \n",
       "Age                0.114222   0.005427  21.046  < 2e-16 ***\n",
       "---\n",
       "Signif. codes:  0 '***' 0.001 '**' 0.01 '*' 0.05 '.' 0.1 ' ' 1\n",
       "\n",
       "Residual standard error: 10.4 on 1021 degrees of freedom\n",
       "Multiple R-squared:  0.6155,\tAdjusted R-squared:  0.6125 \n",
       "F-statistic: 204.3 on 8 and 1021 DF,  p-value: < 2.2e-16\n"
      ]
     },
     "metadata": {},
     "output_type": "display_data"
    }
   ],
   "source": [
    "concrete_reg=lm(Concrete ~ ., data=concrete_data)\n",
    "summary(concrete_reg)"
   ]
  },
  {
   "cell_type": "code",
   "execution_count": 67,
   "metadata": {
    "collapsed": false
   },
   "outputs": [
    {
     "data": {
      "text/plain": [
       "\n",
       "Call:\n",
       "lm(formula = Concrete ~ . - Fly, data = concrete_data)\n",
       "\n",
       "Residuals:\n",
       "    Min      1Q  Median      3Q     Max \n",
       "-30.901  -7.239   0.441   6.899  34.408 \n",
       "\n",
       "Coefficients:\n",
       "                   Estimate Std. Error t value Pr(>|t|)    \n",
       "(Intercept)      121.611036  17.015934   7.147 1.69e-12 ***\n",
       "Cement             0.067636   0.004135  16.357  < 2e-16 ***\n",
       "Blast              0.042550   0.005192   8.196 7.39e-16 ***\n",
       "Water             -0.323265   0.032336  -9.997  < 2e-16 ***\n",
       "Superplasticizer   0.371641   0.094876   3.917 9.56e-05 ***\n",
       "Coarse            -0.027502   0.006913  -3.978 7.44e-05 ***\n",
       "Fine              -0.038549   0.006777  -5.688 1.68e-08 ***\n",
       "Age                0.109746   0.005514  19.903  < 2e-16 ***\n",
       "---\n",
       "Signif. codes:  0 '***' 0.001 '**' 0.01 '*' 0.05 '.' 0.1 ' ' 1\n",
       "\n",
       "Residual standard error: 10.64 on 1022 degrees of freedom\n",
       "Multiple R-squared:  0.5971,\tAdjusted R-squared:  0.5944 \n",
       "F-statistic: 216.4 on 7 and 1022 DF,  p-value: < 2.2e-16\n"
      ]
     },
     "metadata": {},
     "output_type": "display_data"
    }
   ],
   "source": [
    "concrete_reg1=lm(Concrete ~ . - Fly, data=concrete_data)\n",
    "summary(concrete_reg1)"
   ]
  }
 ],
 "metadata": {
  "kernelspec": {
   "display_name": "R",
   "language": "R",
   "name": "ir"
  },
  "language_info": {
   "codemirror_mode": "r",
   "file_extension": ".r",
   "mimetype": "text/x-r-source",
   "name": "R",
   "pygments_lexer": "r",
   "version": "3.3.1"
  }
 },
 "nbformat": 4,
 "nbformat_minor": 0
}
