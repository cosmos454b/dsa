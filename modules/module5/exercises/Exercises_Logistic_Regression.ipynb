{
 "cells": [
  {
   "cell_type": "markdown",
   "metadata": {},
   "source": [
    "### Logistic regression - Exercises"
   ]
  },
  {
   "cell_type": "markdown",
   "metadata": {},
   "source": [
    "Loans data captured information on loan repayment by individuals. We have 13 independent variables and 1 dependent variable called not.fully.paid. Build a logistic regreession model to predict if an individual is a loan defaulter or not. \n",
    "\n",
    "Load the loans dataset from /datasets/loans/ directory into a dataframe called 'loans_data'."
   ]
  },
  {
   "cell_type": "code",
   "execution_count": 1,
   "metadata": {
    "collapsed": false
   },
   "outputs": [
    {
     "data": {
      "text/html": [
       "<table>\n",
       "<thead><tr><th scope=col>credit.policy</th><th scope=col>purpose</th><th scope=col>int.rate</th><th scope=col>installment</th><th scope=col>log.annual.inc</th><th scope=col>dti</th><th scope=col>fico</th><th scope=col>days.with.cr.line</th><th scope=col>revol.bal</th><th scope=col>revol.util</th><th scope=col>inq.last.6mths</th><th scope=col>delinq.2yrs</th><th scope=col>pub.rec</th><th scope=col>not.fully.paid</th></tr></thead>\n",
       "<tbody>\n",
       "\t<tr><td>1                 </td><td>debt_consolidation</td><td>0.1189            </td><td>829.10            </td><td>11.35041          </td><td>19.48             </td><td>737               </td><td>5639.958          </td><td>28854             </td><td>52.1              </td><td>0                 </td><td>0                 </td><td>0                 </td><td>0                 </td></tr>\n",
       "\t<tr><td>1                 </td><td>credit_card       </td><td>0.1071            </td><td>228.22            </td><td>11.08214          </td><td>14.29             </td><td>707               </td><td>2760.000          </td><td>33623             </td><td>76.7              </td><td>0                 </td><td>0                 </td><td>0                 </td><td>0                 </td></tr>\n",
       "\t<tr><td>1                 </td><td>debt_consolidation</td><td>0.1357            </td><td>366.86            </td><td>10.37349          </td><td>11.63             </td><td>682               </td><td>4710.000          </td><td> 3511             </td><td>25.6              </td><td>1                 </td><td>0                 </td><td>0                 </td><td>0                 </td></tr>\n",
       "\t<tr><td>1                 </td><td>debt_consolidation</td><td>0.1008            </td><td>162.34            </td><td>11.35041          </td><td> 8.10             </td><td>712               </td><td>2699.958          </td><td>33667             </td><td>73.2              </td><td>1                 </td><td>0                 </td><td>0                 </td><td>0                 </td></tr>\n",
       "\t<tr><td>1                 </td><td>credit_card       </td><td>0.1426            </td><td>102.92            </td><td>11.29973          </td><td>14.97             </td><td>667               </td><td>4066.000          </td><td> 4740             </td><td>39.5              </td><td>0                 </td><td>1                 </td><td>0                 </td><td>0                 </td></tr>\n",
       "\t<tr><td>1                 </td><td>credit_card       </td><td>0.0788            </td><td>125.13            </td><td>11.90497          </td><td>16.98             </td><td>727               </td><td>6120.042          </td><td>50807             </td><td>51.0              </td><td>0                 </td><td>0                 </td><td>0                 </td><td>0                 </td></tr>\n",
       "</tbody>\n",
       "</table>\n"
      ],
      "text/latex": [
       "\\begin{tabular}{r|llllllllllllll}\n",
       " credit.policy & purpose & int.rate & installment & log.annual.inc & dti & fico & days.with.cr.line & revol.bal & revol.util & inq.last.6mths & delinq.2yrs & pub.rec & not.fully.paid\\\\\n",
       "\\hline\n",
       "\t 1                    & debt\\_consolidation & 0.1189               & 829.10               & 11.35041             & 19.48                & 737                  & 5639.958             & 28854                & 52.1                 & 0                    & 0                    & 0                    & 0                   \\\\\n",
       "\t 1                    & credit\\_card        & 0.1071               & 228.22               & 11.08214             & 14.29                & 707                  & 2760.000             & 33623                & 76.7                 & 0                    & 0                    & 0                    & 0                   \\\\\n",
       "\t 1                    & debt\\_consolidation & 0.1357               & 366.86               & 10.37349             & 11.63                & 682                  & 4710.000             &  3511                & 25.6                 & 1                    & 0                    & 0                    & 0                   \\\\\n",
       "\t 1                    & debt\\_consolidation & 0.1008               & 162.34               & 11.35041             &  8.10                & 712                  & 2699.958             & 33667                & 73.2                 & 1                    & 0                    & 0                    & 0                   \\\\\n",
       "\t 1                    & credit\\_card        & 0.1426               & 102.92               & 11.29973             & 14.97                & 667                  & 4066.000             &  4740                & 39.5                 & 0                    & 1                    & 0                    & 0                   \\\\\n",
       "\t 1                    & credit\\_card        & 0.0788               & 125.13               & 11.90497             & 16.98                & 727                  & 6120.042             & 50807                & 51.0                 & 0                    & 0                    & 0                    & 0                   \\\\\n",
       "\\end{tabular}\n"
      ],
      "text/plain": [
       "  credit.policy purpose            int.rate installment log.annual.inc dti  \n",
       "1 1             debt_consolidation 0.1189   829.10      11.35041       19.48\n",
       "2 1             credit_card        0.1071   228.22      11.08214       14.29\n",
       "3 1             debt_consolidation 0.1357   366.86      10.37349       11.63\n",
       "4 1             debt_consolidation 0.1008   162.34      11.35041        8.10\n",
       "5 1             credit_card        0.1426   102.92      11.29973       14.97\n",
       "6 1             credit_card        0.0788   125.13      11.90497       16.98\n",
       "  fico days.with.cr.line revol.bal revol.util inq.last.6mths delinq.2yrs\n",
       "1 737  5639.958          28854     52.1       0              0          \n",
       "2 707  2760.000          33623     76.7       0              0          \n",
       "3 682  4710.000           3511     25.6       1              0          \n",
       "4 712  2699.958          33667     73.2       1              0          \n",
       "5 667  4066.000           4740     39.5       0              1          \n",
       "6 727  6120.042          50807     51.0       0              0          \n",
       "  pub.rec not.fully.paid\n",
       "1 0       0             \n",
       "2 0       0             \n",
       "3 0       0             \n",
       "4 0       0             \n",
       "5 0       0             \n",
       "6 0       0             "
      ]
     },
     "metadata": {},
     "output_type": "display_data"
    }
   ],
   "source": [
    "loans_data=read.csv(\"../../../datasets/loans/loans.csv\")\n",
    "head(loans_data)"
   ]
  },
  {
   "cell_type": "markdown",
   "metadata": {},
   "source": [
    "**Activity 1: ** What proportion of the loans in the dataset were not paid in full? Please input a number between 0 and 1."
   ]
  },
  {
   "cell_type": "code",
   "execution_count": 2,
   "metadata": {
    "collapsed": false
   },
   "outputs": [
    {
     "name": "stdout",
     "output_type": "stream",
     "text": [
      "fraction unpaid: 0.8399457"
     ]
    }
   ],
   "source": [
    "total = nrow(loans_data)\n",
    "not_paid = nrow(loans_data[loans_data$not.fully.paid==0,])\n",
    "cat('fraction unpaid:',not_paid/total)"
   ]
  },
  {
   "cell_type": "markdown",
   "metadata": {},
   "source": [
    "**Activity 2: ** split data into a training and testing set. Use the seed as 144. Put 70% data into train_data dataframe and 30% in test_data dataframe. "
   ]
  },
  {
   "cell_type": "code",
   "execution_count": 3,
   "metadata": {
    "collapsed": false
   },
   "outputs": [],
   "source": [
    "library(caTools)\n",
    "set.seed(144)\n",
    "split = sample.split(loans_data$credit.policy, SplitRatio=0.7) \n",
    "train_data  = subset(loans_data, split == TRUE)\n",
    "test_data  = subset(loans_data, split == FALSE)"
   ]
  },
  {
   "cell_type": "markdown",
   "metadata": {},
   "source": [
    "**Activity 3: ** Build a logistic regression model on train_data to predict not.fully.paid using all the independent variables."
   ]
  },
  {
   "cell_type": "code",
   "execution_count": 4,
   "metadata": {
    "collapsed": false
   },
   "outputs": [
    {
     "data": {
      "text/plain": [
       "\n",
       "Call:\n",
       "glm(formula = not.fully.paid ~ ., family = binomial, data = loans_data)\n",
       "\n",
       "Deviance Residuals: \n",
       "    Min       1Q   Median       3Q      Max  \n",
       "-2.2956  -0.6177  -0.4970  -0.3676   2.6118  \n",
       "\n",
       "Coefficients:\n",
       "                            Estimate Std. Error z value Pr(>|z|)    \n",
       "(Intercept)                8.588e+00  1.290e+00   6.657 2.79e-11 ***\n",
       "credit.policy             -3.289e-01  8.419e-02  -3.906 9.37e-05 ***\n",
       "purposecredit_card        -5.321e-01  1.092e-01  -4.871 1.11e-06 ***\n",
       "purposedebt_consolidation -3.372e-01  7.731e-02  -4.362 1.29e-05 ***\n",
       "purposeeducational         6.800e-02  1.519e-01   0.448  0.65450    \n",
       "purposehome_improvement    9.308e-02  1.263e-01   0.737  0.46123    \n",
       "purposemajor_purchase     -3.532e-01  1.661e-01  -2.126  0.03350 *  \n",
       "purposesmall_business      5.376e-01  1.169e-01   4.599 4.25e-06 ***\n",
       "int.rate                   1.534e+00  1.727e+00   0.888  0.37461    \n",
       "installment                1.208e-03  1.750e-04   6.900 5.18e-12 ***\n",
       "log.annual.inc            -4.093e-01  5.959e-02  -6.869 6.47e-12 ***\n",
       "dti                       -3.235e-04  4.579e-03  -0.071  0.94368    \n",
       "fico                      -9.002e-03  1.421e-03  -6.337 2.34e-10 ***\n",
       "days.with.cr.line          1.303e-05  1.330e-05   0.979  0.32735    \n",
       "revol.bal                  3.026e-06  9.505e-07   3.184  0.00145 ** \n",
       "revol.util                 2.401e-03  1.277e-03   1.880  0.06012 .  \n",
       "inq.last.6mths             8.662e-02  1.371e-02   6.316 2.69e-10 ***\n",
       "delinq.2yrs               -8.808e-02  5.552e-02  -1.586  0.11267    \n",
       "pub.rec                    2.469e-01  9.743e-02   2.534  0.01126 *  \n",
       "---\n",
       "Signif. codes:  0 ‘***’ 0.001 ‘**’ 0.01 ‘*’ 0.05 ‘.’ 0.1 ‘ ’ 1\n",
       "\n",
       "(Dispersion parameter for binomial family taken to be 1)\n",
       "\n",
       "    Null deviance: 8424.0  on 9577  degrees of freedom\n",
       "Residual deviance: 7852.6  on 9559  degrees of freedom\n",
       "AIC: 7890.6\n",
       "\n",
       "Number of Fisher Scoring iterations: 5\n"
      ]
     },
     "metadata": {},
     "output_type": "display_data"
    }
   ],
   "source": [
    "loan_log_1 = glm(not.fully.paid ~ ., data=loans_data, family=binomial)\n",
    "summary(loan_log_1)"
   ]
  },
  {
   "cell_type": "markdown",
   "metadata": {},
   "source": [
    "**Activity 4: ** Above model predict_train has some variables that are not significant. Remove the variables (purpose, int.rate, dti, days.with.cr.line, revol.util, delinq.2yrs) from the model and rebuild it. Name this new model predict_train1. Look for any change in teh AIC value. "
   ]
  },
  {
   "cell_type": "code",
   "execution_count": 5,
   "metadata": {
    "collapsed": false
   },
   "outputs": [
    {
     "data": {
      "text/plain": [
       "\n",
       "Call:\n",
       "glm(formula = not.fully.paid ~ credit.policy + installment + \n",
       "    log.annual.inc + fico + revol.bal + inq.last.6mths + pub.rec, \n",
       "    family = binomial, data = loans_data)\n",
       "\n",
       "Deviance Residuals: \n",
       "    Min       1Q   Median       3Q      Max  \n",
       "-2.1741  -0.6160  -0.5122  -0.3874   2.5330  \n",
       "\n",
       "Coefficients:\n",
       "                 Estimate Std. Error z value Pr(>|z|)    \n",
       "(Intercept)     8.638e+00  8.340e-01  10.357  < 2e-16 ***\n",
       "credit.policy  -3.270e-01  8.335e-02  -3.924 8.72e-05 ***\n",
       "installment     1.286e-03  1.545e-04   8.325  < 2e-16 ***\n",
       "log.annual.inc -3.940e-01  5.703e-02  -6.908 4.91e-12 ***\n",
       "fico           -9.115e-03  9.041e-04 -10.082  < 2e-16 ***\n",
       "revol.bal       3.653e-06  8.960e-07   4.077 4.57e-05 ***\n",
       "inq.last.6mths  9.514e-02  1.364e-02   6.973 3.10e-12 ***\n",
       "pub.rec         2.474e-01  9.617e-02   2.572   0.0101 *  \n",
       "---\n",
       "Signif. codes:  0 ‘***’ 0.001 ‘**’ 0.01 ‘*’ 0.05 ‘.’ 0.1 ‘ ’ 1\n",
       "\n",
       "(Dispersion parameter for binomial family taken to be 1)\n",
       "\n",
       "    Null deviance: 8424.0  on 9577  degrees of freedom\n",
       "Residual deviance: 7957.7  on 9570  degrees of freedom\n",
       "AIC: 7973.7\n",
       "\n",
       "Number of Fisher Scoring iterations: 5\n"
      ]
     },
     "metadata": {},
     "output_type": "display_data"
    }
   ],
   "source": [
    "predict_train1= glm(not.fully.paid ~ credit.policy+installment+log.annual.inc+fico+revol.bal+inq.last.6mths+pub.rec, data=loans_data, family=binomial)\n",
    "summary(predict_train1)"
   ]
  },
  {
   "cell_type": "markdown",
   "metadata": {},
   "source": [
    "The AIC value has increased from 5523 to 5568. A model with minimum AIC is the preferred one. So will stick with the model predict_train for doing predictions on test dataset. "
   ]
  },
  {
   "cell_type": "markdown",
   "metadata": {},
   "source": [
    "**Activity 5: ** Predict the probability of the test_data loans not being paid back in full. Remember type=\"response\" for the predict function. Store these predicted probabilities in a variable named predicted.risk and add it to your test_data."
   ]
  },
  {
   "cell_type": "code",
   "execution_count": 7,
   "metadata": {
    "collapsed": false
   },
   "outputs": [
    {
     "data": {
      "text/html": [
       "<table>\n",
       "<thead><tr><th></th><th scope=col>credit.policy</th><th scope=col>purpose</th><th scope=col>int.rate</th><th scope=col>installment</th><th scope=col>log.annual.inc</th><th scope=col>dti</th><th scope=col>fico</th><th scope=col>days.with.cr.line</th><th scope=col>revol.bal</th><th scope=col>revol.util</th><th scope=col>inq.last.6mths</th><th scope=col>delinq.2yrs</th><th scope=col>pub.rec</th><th scope=col>not.fully.paid</th></tr></thead>\n",
       "<tbody>\n",
       "\t<tr><th scope=row>2</th><td>1                 </td><td>credit_card       </td><td>0.1071            </td><td>228.22            </td><td>11.08214          </td><td>14.29             </td><td>707               </td><td>2760.000          </td><td>33623             </td><td>76.7              </td><td>0                 </td><td>0                 </td><td>0                 </td><td>0                 </td></tr>\n",
       "\t<tr><th scope=row>3</th><td>1                 </td><td>debt_consolidation</td><td>0.1357            </td><td>366.86            </td><td>10.37349          </td><td>11.63             </td><td>682               </td><td>4710.000          </td><td> 3511             </td><td>25.6              </td><td>1                 </td><td>0                 </td><td>0                 </td><td>0                 </td></tr>\n",
       "\t<tr><th scope=row>8</th><td>1                 </td><td>all_other         </td><td>0.1114            </td><td>131.22            </td><td>11.00210          </td><td>11.08             </td><td>722               </td><td>5116.000          </td><td>24220             </td><td>68.6              </td><td>0                 </td><td>0                 </td><td>0                 </td><td>1                 </td></tr>\n",
       "\t<tr><th scope=row>10</th><td>1                 </td><td>debt_consolidation</td><td>0.1221            </td><td> 84.12            </td><td>10.20359          </td><td>10.00             </td><td>707               </td><td>2730.042          </td><td> 5630             </td><td>23.0              </td><td>1                 </td><td>0                 </td><td>0                 </td><td>0                 </td></tr>\n",
       "\t<tr><th scope=row>19</th><td>1                 </td><td>debt_consolidation</td><td>0.1039            </td><td>584.12            </td><td>10.49127          </td><td> 3.80             </td><td>712               </td><td>2760.000          </td><td> 8311             </td><td>59.8              </td><td>0                 </td><td>0                 </td><td>0                 </td><td>0                 </td></tr>\n",
       "\t<tr><th scope=row>26</th><td>1                 </td><td>all_other         </td><td>0.0901            </td><td>159.03            </td><td>12.42922          </td><td>10.00             </td><td>712               </td><td>1553.958          </td><td>14354             </td><td>36.6              </td><td>0                 </td><td>2                 </td><td>0                 </td><td>0                 </td></tr>\n",
       "</tbody>\n",
       "</table>\n"
      ],
      "text/latex": [
       "\\begin{tabular}{r|llllllllllllll}\n",
       "  & credit.policy & purpose & int.rate & installment & log.annual.inc & dti & fico & days.with.cr.line & revol.bal & revol.util & inq.last.6mths & delinq.2yrs & pub.rec & not.fully.paid\\\\\n",
       "\\hline\n",
       "\t2 & 1                    & credit\\_card        & 0.1071               & 228.22               & 11.08214             & 14.29                & 707                  & 2760.000             & 33623                & 76.7                 & 0                    & 0                    & 0                    & 0                   \\\\\n",
       "\t3 & 1                    & debt\\_consolidation & 0.1357               & 366.86               & 10.37349             & 11.63                & 682                  & 4710.000             &  3511                & 25.6                 & 1                    & 0                    & 0                    & 0                   \\\\\n",
       "\t8 & 1                    & all\\_other          & 0.1114               & 131.22               & 11.00210             & 11.08                & 722                  & 5116.000             & 24220                & 68.6                 & 0                    & 0                    & 0                    & 1                   \\\\\n",
       "\t10 & 1                    & debt\\_consolidation & 0.1221               &  84.12               & 10.20359             & 10.00                & 707                  & 2730.042             &  5630                & 23.0                 & 1                    & 0                    & 0                    & 0                   \\\\\n",
       "\t19 & 1                    & debt\\_consolidation & 0.1039               & 584.12               & 10.49127             &  3.80                & 712                  & 2760.000             &  8311                & 59.8                 & 0                    & 0                    & 0                    & 0                   \\\\\n",
       "\t26 & 1                    & all\\_other          & 0.0901               & 159.03               & 12.42922             & 10.00                & 712                  & 1553.958             & 14354                & 36.6                 & 0                    & 2                    & 0                    & 0                   \\\\\n",
       "\\end{tabular}\n"
      ],
      "text/plain": [
       "   credit.policy purpose            int.rate installment log.annual.inc dti  \n",
       "2  1             credit_card        0.1071   228.22      11.08214       14.29\n",
       "3  1             debt_consolidation 0.1357   366.86      10.37349       11.63\n",
       "8  1             all_other          0.1114   131.22      11.00210       11.08\n",
       "10 1             debt_consolidation 0.1221    84.12      10.20359       10.00\n",
       "19 1             debt_consolidation 0.1039   584.12      10.49127        3.80\n",
       "26 1             all_other          0.0901   159.03      12.42922       10.00\n",
       "   fico days.with.cr.line revol.bal revol.util inq.last.6mths delinq.2yrs\n",
       "2  707  2760.000          33623     76.7       0              0          \n",
       "3  682  4710.000           3511     25.6       1              0          \n",
       "8  722  5116.000          24220     68.6       0              0          \n",
       "10 707  2730.042           5630     23.0       1              0          \n",
       "19 712  2760.000           8311     59.8       0              0          \n",
       "26 712  1553.958          14354     36.6       0              2          \n",
       "   pub.rec not.fully.paid\n",
       "2  0       0             \n",
       "3  0       0             \n",
       "8  0       1             \n",
       "10 0       0             \n",
       "19 0       0             \n",
       "26 0       0             "
      ]
     },
     "metadata": {},
     "output_type": "display_data"
    }
   ],
   "source": [
    "predicted.risk  = predict(loan_log_1, type = \"response\", newdata=test_data)\n",
    "head(test_data)"
   ]
  },
  {
   "cell_type": "markdown",
   "metadata": {},
   "source": [
    "**Activity 6: ** Compute the confusion matrix between variables not.fully.paid and predicted.risk in test_data using a threshold of 0.5"
   ]
  },
  {
   "cell_type": "code",
   "execution_count": 41,
   "metadata": {
    "collapsed": false
   },
   "outputs": [
    {
     "data": {
      "text/plain": [
       "   \n",
       "    FALSE TRUE\n",
       "  0  2405   13\n",
       "  1   442   13"
      ]
     },
     "metadata": {},
     "output_type": "display_data"
    }
   ],
   "source": [
    "table(test_data$not.fully.paid,predicted.risk>0.5)"
   ]
  },
  {
   "cell_type": "markdown",
   "metadata": {},
   "source": [
    "**Activity 7: ** What is the accuracy of the predict_train?"
   ]
  },
  {
   "cell_type": "code",
   "execution_count": 44,
   "metadata": {
    "collapsed": false
   },
   "outputs": [
    {
     "data": {
      "text/html": [
       "0.841628959276018"
      ],
      "text/latex": [
       "0.841628959276018"
      ],
      "text/markdown": [
       "0.841628959276018"
      ],
      "text/plain": [
       "[1] 0.841629"
      ]
     },
     "metadata": {},
     "output_type": "display_data"
    }
   ],
   "source": [
    "(2405+13)/(2405+13+442+13)"
   ]
  },
  {
   "cell_type": "markdown",
   "metadata": {},
   "source": [
    "**Activity 8: ** What is the accuracy of the baseline model?"
   ]
  },
  {
   "cell_type": "code",
   "execution_count": 45,
   "metadata": {
    "collapsed": false
   },
   "outputs": [
    {
     "data": {
      "text/html": [
       "0.841628959276018"
      ],
      "text/latex": [
       "0.841628959276018"
      ],
      "text/markdown": [
       "0.841628959276018"
      ],
      "text/plain": [
       "[1] 0.841629"
      ]
     },
     "metadata": {},
     "output_type": "display_data"
    }
   ],
   "source": [
    "(2405+13)/(2405+13+442+13)"
   ]
  },
  {
   "cell_type": "markdown",
   "metadata": {},
   "source": [
    "**Activity 9: ** Compute the AUC of the model using the ROCR package."
   ]
  },
  {
   "cell_type": "code",
   "execution_count": 47,
   "metadata": {
    "collapsed": false
   },
   "outputs": [
    {
     "data": {
      "text/html": [
       "0.679363564475217"
      ],
      "text/latex": [
       "0.679363564475217"
      ],
      "text/markdown": [
       "0.679363564475217"
      ],
      "text/plain": [
       "[1] 0.6793636"
      ]
     },
     "metadata": {},
     "output_type": "display_data"
    }
   ],
   "source": [
    "library(ROCR)\n",
    "ROCR_predictions = prediction(predicted.risk, test_data$not.fully.paid)\n",
    "as.numeric(performance(ROCR_predictions,\"auc\")@y.values)\n"
   ]
  },
  {
   "cell_type": "markdown",
   "metadata": {},
   "source": [
    "**Activity 10: ** Determine the 100th smallest predicted probability of not paying in full by sorting the predicted risks in increasing order and selecting the 100th element of this sorted list"
   ]
  },
  {
   "cell_type": "code",
   "execution_count": 59,
   "metadata": {
    "collapsed": false
   },
   "outputs": [
    {
     "name": "stdout",
     "output_type": "stream",
     "text": [
      "0.05013665"
     ]
    }
   ],
   "source": [
    "sorted = sort(predicted.risk)\n",
    "cat(sorted[100])\n"
   ]
  },
  {
   "cell_type": "code",
   "execution_count": null,
   "metadata": {
    "collapsed": true
   },
   "outputs": [],
   "source": []
  }
 ],
 "metadata": {
  "kernelspec": {
   "display_name": "R",
   "language": "R",
   "name": "ir"
  },
  "language_info": {
   "codemirror_mode": "r",
   "file_extension": ".r",
   "mimetype": "text/x-r-source",
   "name": "R",
   "pygments_lexer": "r",
   "version": "3.3.1"
  }
 },
 "nbformat": 4,
 "nbformat_minor": 0
}
