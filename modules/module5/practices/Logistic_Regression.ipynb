{
 "cells": [
  {
   "cell_type": "markdown",
   "metadata": {},
   "source": [
    "### Logistic Regression\n",
    "\n",
    "In this practice, we will use the white wine quality data set to create a model to predict the quality of the white wine based on the available variables. Let's read the data from 'wine quality/winequality-white.csv'."
   ]
  },
  {
   "cell_type": "code",
   "execution_count": null,
   "metadata": {
    "collapsed": false
   },
   "outputs": [],
   "source": [
    "wq <- read.csv(\"../../../datasets/wine quality/winequality-white.csv\",header=TRUE)\n",
    "head(wq)\n",
    "str(wq)"
   ]
  },
  {
   "cell_type": "markdown",
   "metadata": {},
   "source": [
    "Let's look at the distribution of the quality variable. "
   ]
  },
  {
   "cell_type": "code",
   "execution_count": null,
   "metadata": {
    "collapsed": false
   },
   "outputs": [],
   "source": [
    "# distribution of quality variable\n",
    "table(wq$quality)\n",
    "# or we can do the same like this (a bit fancier)\n",
    "library(plyr)\n",
    "freq = count(wq,'quality')\n",
    "freq"
   ]
  },
  {
   "cell_type": "markdown",
   "metadata": {},
   "source": [
    "As we can see, the value 6 for quality dominates the distribution; let's remove that value and label the rest as 'good' or 'bad' to create a binary variable for quality. If the quality is larger than 6, we'll call it 'good' wine, otherwise 'bad' wine. "
   ]
  },
  {
   "cell_type": "code",
   "execution_count": null,
   "metadata": {
    "collapsed": false
   },
   "outputs": [],
   "source": [
    "# remove 6: create subset that has quality values larger or smaller than (but not equal to) 6.\n",
    "wq_sub <- subset(wq, <what goes in here>)\n",
    "\n",
    "# Now create a new column named 'good' with initially all zeros. \n",
    "wq_sub$good <- 0\n",
    "\n",
    "# assign 1 to good if quality is larger than 5\n",
    "wq_sub$good[<what goes in here>] <- 1\n",
    "\n",
    "# Now remove the 'quality' column; we don't want that in the model any more.\n",
    "wq_sub$quality <- NULL\n",
    "str(wq_sub)\n",
    "table(wq_sub$good)"
   ]
  },
  {
   "cell_type": "markdown",
   "metadata": {},
   "source": [
    "So there are 1640 'bad' white wines and 1060 'good' white wines in the data set now. Let's fit a logistic regression model\n",
    "to predict the variable 'good'. Let's first start with the whole data. Later we'll split it into testing and training sets."
   ]
  },
  {
   "cell_type": "code",
   "execution_count": null,
   "metadata": {
    "collapsed": false,
    "scrolled": true
   },
   "outputs": [],
   "source": [
    "wq_log = glm(good ~ ., data=<what goes in here>, family=binomial)\n",
    "summary(wq_log)"
   ]
  },
  {
   "cell_type": "markdown",
   "metadata": {},
   "source": [
    "Most of the variables are useful to predict the quality of the wine except sulfur dioxide and citric acid. Let's see if we can create a model with good generalization. A model's generalization property refers to the ability to predict the outcome accurately for unseen data. We will now create\n",
    "    a training set to fit a model, and then test it on the testing data the model hasn't 'seen' yet."
   ]
  },
  {
   "cell_type": "code",
   "execution_count": null,
   "metadata": {
    "collapsed": false
   },
   "outputs": [],
   "source": [
    "library(caTools)\n",
    "set.seed(1000)\n",
    "split = sample.split(wq_sub$good, SplitRatio=0.7)\n",
    "train_data = subset(wq_sub, <what goes in here>)\n",
    "test_data  = subset(wq_sub, <what goes in here>)\n",
    "# Now fit a model to the training data\n",
    "wq_log2 =  glm(good ~ ., data=<what goes in here>, family=binomial)\n",
    "\n",
    "# now predict on the test data\n",
    "probs = predict(wq_log2, type = \"response\", newdata=<what goes in here>)\n",
    "\n",
    "# Now let's use a threshold of 0.5 to turn probablities into actual predictions\n",
    "preds <- ifelse(probs > 0.5,1,0)\n",
    "\n",
    "#Now, compare this to the correct values for 'good' and compute the accuracy.\n",
    "misClassificError <- mean (preds != test_data$good)\n",
    "print(paste('Accuracy',1-misClassificError))"
   ]
  },
  {
   "cell_type": "code",
   "execution_count": null,
   "metadata": {
    "collapsed": false
   },
   "outputs": [],
   "source": [
    "table(test_data$good,probs>0.5)"
   ]
  },
  {
   "cell_type": "markdown",
   "metadata": {},
   "source": [
    "Sensitivity = TP/(TP+FN)\n",
    "\n",
    "Specificity = TN/(TN+FP)\n",
    "\n"
   ]
  },
  {
   "cell_type": "code",
   "execution_count": null,
   "metadata": {
    "collapsed": false
   },
   "outputs": [],
   "source": [
    "print(paste('sens =', <what goes in here>))\n",
    "print(paste('spec =', <what goes in here>))\n",
    "\n",
    "#let's also find the baseline model accuracy.\n",
    "# 1640 'bad' wines, 1060 'good wines, so it should predict 'bad' all the time\n",
    "print(paste('baseline accuracy =', 1640/(1640+1060)))"
   ]
  },
  {
   "cell_type": "markdown",
   "metadata": {},
   "source": [
    "The accuracy of the model for unseen data is about 82%. It's pretty good. And the baseline is about 61% so we are doing a good job. \n",
    "\n",
    "Now find the accuracy of the first model, where we have used all the data to create the model. You'll see it's also about 82%. So our model can achieve the same level of accuracy on the unseen data which is pretty good."
   ]
  },
  {
   "cell_type": "code",
   "execution_count": null,
   "metadata": {
    "collapsed": false
   },
   "outputs": [],
   "source": [
    "# This is the accuracy for the first model where we have used all available data to fit.\n",
    "probs1 = predict(wq_log, type = \"response\", newdata=wq_sub)\n",
    "preds1 <- ifelse(probs1 > 0.5,1,0)\n",
    "misClassificError1 <- mean (preds1 != wq_sub$good)\n",
    "print(paste('Accuracy',1-misClassificError1))"
   ]
  }
 ],
 "metadata": {
  "kernelspec": {
   "display_name": "R",
   "language": "R",
   "name": "ir"
  },
  "language_info": {
   "codemirror_mode": "r",
   "file_extension": ".r",
   "mimetype": "text/x-r-source",
   "name": "R",
   "pygments_lexer": "r",
   "version": "3.3.1"
  }
 },
 "nbformat": 4,
 "nbformat_minor": 1
}
