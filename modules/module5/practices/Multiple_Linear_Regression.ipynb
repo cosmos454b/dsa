{
 "cells": [
  {
   "cell_type": "markdown",
   "metadata": {},
   "source": [
    "### Multiple Linear Regression\n",
    "\n",
    "In this practice, we will use the same data set as in simple linear regression practice. We will add more variables to models to see if we can have a better linear model. "
   ]
  },
  {
   "cell_type": "markdown",
   "metadata": {},
   "source": [
    "#### Read the data\n",
    "\n",
    "Load the framingham dataset in directory '/datasets/framingham/'. The following few lines are the same as in simple linear regression practice; we are creating the same data here. "
   ]
  },
  {
   "cell_type": "code",
   "execution_count": null,
   "metadata": {
    "collapsed": false
   },
   "outputs": [],
   "source": [
    "fr <- read.csv(\"../../../datasets/framingham/framingham.csv\")\n",
    "fr[\"pulseP\"] <- fr$sysBP - fr$diaBP\n",
    "fr_male   <- subset(fr, male==1 & age > 18 & BPMeds == 0, select=c(2,11:14,17))\n",
    "fr_female <- subset(fr, male==0 & age > 18 & BPMeds == 0, select=c(2,11:14,17))\n",
    "head(fr_male)"
   ]
  },
  {
   "cell_type": "markdown",
   "metadata": {},
   "source": [
    "**Activity 1:** Now, let's see if we can model pulse pressure with multiple independent variables. "
   ]
  },
  {
   "cell_type": "code",
   "execution_count": null,
   "metadata": {
    "collapsed": false
   },
   "outputs": [],
   "source": [
    "pp_female1 <- lm(pulseP ~ age, data=fr_female)\n",
    "summary(pp_female1)\n",
    "\n",
    "# add BMI to pp_female1 model\n",
    "pp_female2 <- lm(pulseP ~ <what goes in here>, data=fr_female)\n",
    "summary(pp_female2)\n",
    "\n",
    "# add heartRate to pp_female2 model\n",
    "pp_female3 <- lm(pulseP ~ <what goes in here>, data=fr_female)\n",
    "summary(pp_female3)"
   ]
  },
  {
   "cell_type": "markdown",
   "metadata": {},
   "source": [
    "As we can see, the $R^2$ slightly increases with adding a new variable to the model. Let's do the same for males. "
   ]
  },
  {
   "cell_type": "code",
   "execution_count": null,
   "metadata": {
    "collapsed": false
   },
   "outputs": [],
   "source": [
    "pp_male1 <- lm(pulseP ~ age, data=fr_male)\n",
    "summary(pp_male1)\n",
    "\n",
    "pp_male2 <- lm(pulseP ~ <what goes in here>, data=fr_male)\n",
    "summary(pp_male2)\n",
    "\n",
    "pp_male3 <- lm(pulseP ~ <what goes in here>, data=fr_male)\n",
    "summary(pp_male3)\n"
   ]
  },
  {
   "cell_type": "markdown",
   "metadata": {},
   "source": [
    "For males, we can not model the pulse pressure all that well, $R^2$ does not get any better."
   ]
  },
  {
   "cell_type": "markdown",
   "metadata": {},
   "source": [
    "#### House sales data\n",
    "Let's look at another data set: house sales in King county."
   ]
  },
  {
   "cell_type": "code",
   "execution_count": null,
   "metadata": {
    "collapsed": false
   },
   "outputs": [],
   "source": [
    "hs <- read.csv(\"../../../datasets/house_sales_in_king_county/kc_house_data.csv\",header=TRUE)\n",
    "head(hs)\n",
    "str(hs)"
   ]
  },
  {
   "cell_type": "markdown",
   "metadata": {},
   "source": [
    "Let's start modeling the sales price with the square footage of the house. "
   ]
  },
  {
   "cell_type": "code",
   "execution_count": null,
   "metadata": {
    "collapsed": false
   },
   "outputs": [],
   "source": [
    "# model the price given square footage of living space.\n",
    "hs_mreg1 <- lm(<what goes in here>, data=hs)\n",
    "summary(hs_mreg1)"
   ]
  },
  {
   "cell_type": "markdown",
   "metadata": {},
   "source": [
    "As we can see, sqft_living is a good predictor for the price. Let's see if we can improve this model with additional variables."
   ]
  },
  {
   "cell_type": "code",
   "execution_count": null,
   "metadata": {
    "collapsed": false
   },
   "outputs": [],
   "source": [
    "# add the second variable: bedrooms\n",
    "hs_mreg2 <- lm(price ~ <what goes in here>, data=hs)\n",
    "summary(hs_mreg2)\n",
    "\n",
    "# add the third variable: sqft_lot\n",
    "hs_mreg3 <- lm(price ~ <what goes in here>, data=hs)\n",
    "summary(hs_mreg3)\n",
    "\n",
    "# add the fourth variable: floors\n",
    "hs_mreg4 <- lm(price ~ <what goes in here>, data=hs)\n",
    "summary(hs_mreg4)\n",
    "\n",
    "# add the fifth variable: bathrooms\n",
    "hs_mreg5 <- lm(price ~ <what goes in here>, data=hs)\n",
    "summary(hs_mreg5)"
   ]
  },
  {
   "cell_type": "markdown",
   "metadata": {},
   "source": [
    "Adding number of bedrooms as another variable helped to improve the model, but other additional variables \n",
    "(lot's square footage, number of floors, number of bathrooms) did not improve the model at all. Let's try \n",
    " couple of variables that should make a real difference: waterfront and view."
   ]
  },
  {
   "cell_type": "code",
   "execution_count": null,
   "metadata": {
    "collapsed": false
   },
   "outputs": [],
   "source": [
    "hs_mreg6 <- lm(price ~ sqft_living + bedrooms + waterfront + view, data=hs)\n",
    "summary(hs_mreg6)"
   ]
  },
  {
   "cell_type": "markdown",
   "metadata": {},
   "source": [
    "$R^2$ jumped to **0.56**; this is a better model for price of the house. The other variables (lat, long, zip code, etc.) \n",
    "    are not really expected to make a difference because we don't expect a **linear** relationship between a house's \n",
    "    price and its zip code unless zip codes are demographically meaningful. Let's try and see."
   ]
  },
  {
   "cell_type": "code",
   "execution_count": null,
   "metadata": {
    "collapsed": false
   },
   "outputs": [],
   "source": [
    "# add zipcode to hs_mreg6\n",
    "hs_mreg7 <- lm(price ~ <what goes in here>, data=hs)\n",
    "summary(hs_mreg7)"
   ]
  },
  {
   "cell_type": "markdown",
   "metadata": {},
   "source": [
    "As we expected, zipcode does not make much of a difference. How about latitude or longitude ? Depending on the geographic location of the King county, it might make a difference. Let's see."
   ]
  },
  {
   "cell_type": "code",
   "execution_count": null,
   "metadata": {
    "collapsed": false
   },
   "outputs": [],
   "source": [
    "# add lat to the model hs_mreg6\n",
    "hs_mreg8 <- lm(price ~ <what goes in here>, data=hs)\n",
    "summary(hs_mreg8)\n",
    "\n",
    "# add long to the model hs_mreg6\n",
    "hs_mreg9 <- lm(price ~ <what goes in here>, data=hs)\n",
    "summary(hs_mreg9)"
   ]
  },
  {
   "cell_type": "markdown",
   "metadata": {},
   "source": [
    "Latitude made a big difference! $R^2$ is **0.63**. Let's find out why. Take a look at [King county map](https://www.google.com/maps/place/King+County,+WA/@47.4319563,-122.3574591,9z/data=!3m1!4b1!4m5!3m4!1s0x54905c8c832d7837:0xe280ab6b8b64e03e!8m2!3d47.5480339!4d-121.9836029).\n",
    "Now it should be clear why an east-to-west change in location has an effect on the house price."
   ]
  }
 ],
 "metadata": {
  "kernelspec": {
   "display_name": "R",
   "language": "R",
   "name": "ir"
  },
  "language_info": {
   "codemirror_mode": "r",
   "file_extension": ".r",
   "mimetype": "text/x-r-source",
   "name": "R",
   "pygments_lexer": "r",
   "version": "3.3.1"
  }
 },
 "nbformat": 4,
 "nbformat_minor": 1
}
