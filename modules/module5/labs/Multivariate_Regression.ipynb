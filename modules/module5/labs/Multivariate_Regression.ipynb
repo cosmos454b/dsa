{
 "cells": [
  {
   "cell_type": "markdown",
   "metadata": {},
   "source": [
    "### Multivariate and Multiple regression\n",
    "\n",
    "Multivariate regression deals with the case where there are more than one response variables that you want to regress over one or more predictors. On the other hand, multiple regression deals with the case where there is one dependent variable but more than one independent variable.\n",
    "\n",
    "For example, consider a doctor has collected data on cholesterol, blood pressure, and weight of different patients.  He also collected data on the eating habits of the subjects like the amount of vegetables included in the diet, how many ounces of red meat, dairy products, chocolate consumed per week etc. He wants to investigate the relationship between the three measures of health and four measures of eating habits. Multivariate Regression is the solution to solve this kind of problems.\n",
    "\n",
    "The dataset used in this notebook is about energy analysis using 12 different simulated building shapes. The buildings differ with respect to the glazing area, the glazing area distribution, and the orientation, amongst other parameters. Dataset has 768 samples and 8 features. There are two response variables Heating load and Cooling load which are predicted using eight independent variables. "
   ]
  },
  {
   "cell_type": "markdown",
   "metadata": {},
   "source": [
    "Start with loading the data from in /datasets/energy efficiency folder"
   ]
  },
  {
   "cell_type": "code",
   "execution_count": null,
   "metadata": {
    "collapsed": false
   },
   "outputs": [],
   "source": [
    "energy=read.csv(\"../../../datasets/energy efficiency/ENB2012_data.csv\")\n",
    "head(energy)\n",
    "dim(energy)"
   ]
  },
  {
   "cell_type": "code",
   "execution_count": null,
   "metadata": {
    "collapsed": false
   },
   "outputs": [],
   "source": [
    "summary(energy)"
   ]
  },
  {
   "cell_type": "markdown",
   "metadata": {},
   "source": [
    "We dont need the last two columns as they are junk data with all NA values. Exclude them from the dataset. "
   ]
  },
  {
   "cell_type": "code",
   "execution_count": null,
   "metadata": {
    "collapsed": false
   },
   "outputs": [],
   "source": [
    "energy = energy[, !(colnames(energy) %in% c(\"X\",\"X.1\"))]\n",
    "head(energy)"
   ]
  },
  {
   "cell_type": "markdown",
   "metadata": {},
   "source": [
    "Use the readme.md file to get the attribute headers. The column names as per readme file are Relative_Compactness, Surface_Area, Wall_Area , Roof_Area, Overall_Height, Orientation, Glazing_Area, Glazing_Area_Distribution, Heating_Load, Cooling_Load."
   ]
  },
  {
   "cell_type": "code",
   "execution_count": null,
   "metadata": {
    "collapsed": false
   },
   "outputs": [],
   "source": [
    "names(energy) = c(\"Relative_Compactness\", \"Surface_Area\", \"Wall_Area\" , \"Roof_Area\", \"Overall_Height\", \"Orientation\", \"Glazing_Area\", \"Glazing_Area_Distribution\", \"Heating_Load\", \"Cooling_Load\")"
   ]
  },
  {
   "cell_type": "markdown",
   "metadata": {},
   "source": [
    "There are 528 NA values in every column of the dataset including the dependent variables Heating_load and Cooling_load. Omit this rows from the dataset."
   ]
  },
  {
   "cell_type": "code",
   "execution_count": null,
   "metadata": {
    "collapsed": false
   },
   "outputs": [],
   "source": [
    "energy = energy[complete.cases(energy),]\n",
    "# str(energy)\n",
    "summary(energy)"
   ]
  },
  {
   "cell_type": "markdown",
   "metadata": {},
   "source": [
    "See how the dependent and independent variables are correlated separately."
   ]
  },
  {
   "cell_type": "code",
   "execution_count": null,
   "metadata": {
    "collapsed": false
   },
   "outputs": [],
   "source": [
    "cor(energy)>0.6"
   ]
  },
  {
   "cell_type": "code",
   "execution_count": null,
   "metadata": {
    "collapsed": false
   },
   "outputs": [],
   "source": [
    "cor(energy[,9:10])"
   ]
  },
  {
   "cell_type": "markdown",
   "metadata": {},
   "source": [
    "So the dependent variables are highly correlated to each other. Relative_Compactness and Overall_Height are the only variables which have a positive correlation of over 0.6 with the dependent variables. Contruct the model to predict Heating_Load and Cooling_Load using rest of the variables. When doing multivariate regression all response variables should be combined into one single object/dataframe. You will realize why when we apply the model. Lets combine the response variables Heating_Load and Cooling_Load into a variable called 'load'."
   ]
  },
  {
   "cell_type": "code",
   "execution_count": null,
   "metadata": {
    "collapsed": true
   },
   "outputs": [],
   "source": [
    "#cbind() combines two variables column wise. Now load will be a dataframe with Heating_Load and Cooling_Load as columns.\n",
    "load  <- cbind(energy$Heating_Load, energy$Cooling_Load)"
   ]
  },
  {
   "cell_type": "code",
   "execution_count": null,
   "metadata": {
    "collapsed": false
   },
   "outputs": [],
   "source": [
    "# Build multivariate regression model to predict Heating_Load and Cooling_LOad using rest all independent variables.\n",
    "# Include all independent variables using notaion \" ~ .\"\n",
    "# Exclude variables Heating_Load  Cooling_Load as independent variables by\n",
    "# using minus operator ( - )\n",
    "\n",
    "# energy_reg is a linear model of load against all variables except Heating_Laod and Cooling_Load\n",
    "energy_reg <- lm(load ~ . -Heating_Load - Cooling_Load, data=energy)\n",
    "summary(energy_reg)"
   ]
  },
  {
   "cell_type": "code",
   "execution_count": null,
   "metadata": {
    "collapsed": false
   },
   "outputs": [],
   "source": [
    "## Give us a summary of the linear model constructed in the cell above\n",
    "\n",
    "summary(manova(energy_reg))\n",
    "\n",
    "## Summary shows that every variable EXCEPT Orientation has a significant effect on the energy model"
   ]
  },
  {
   "cell_type": "code",
   "execution_count": null,
   "metadata": {
    "collapsed": true
   },
   "outputs": [],
   "source": []
  }
 ],
 "metadata": {
  "kernelspec": {
   "display_name": "R",
   "language": "R",
   "name": "ir"
  },
  "language_info": {
   "codemirror_mode": "r",
   "file_extension": ".r",
   "mimetype": "text/x-r-source",
   "name": "R",
   "pygments_lexer": "r",
   "version": "3.3.1"
  }
 },
 "nbformat": 4,
 "nbformat_minor": 0
}
