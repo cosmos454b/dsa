{
 "cells": [
  {
   "cell_type": "markdown",
   "metadata": {},
   "source": [
    "### Multivariate and Multiple regression\n",
    "\n",
    "Multivariate regression deals with the case where there are more than one response variables that you want to regress over one or more predictors. On the other hand, multiple regression deals with the case where there is one dependent variable but more than one independent variable.\n",
    "\n",
    "For example, consider a doctor has collected data on cholesterol, blood pressure, and weight of different patients.  He also collected data on the eating habits of the subjects like the amount of vegetables included in the diet, how many ounces of red meat, dairy products, chocolate consumed per week etc. He wants to investigate the relationship between the three measures of health and four measures of eating habits. Multivariate Regression is the solution to solve this kind of problems.\n",
    "\n",
    "The dataset used in this notebook is about energy analysis using 12 different simulated building shapes. The buildings differ with respect to the glazing area, the glazing area distribution, and the orientation, amongst other parameters. Dataset has 768 samples and 8 features. There are two response variables Heating load and Cooling load which are predicted using eight independent variables. "
   ]
  },
  {
   "cell_type": "markdown",
   "metadata": {},
   "source": [
    "Start with loading the data from in /datasets/energy efficiency folder"
   ]
  },
  {
   "cell_type": "code",
   "execution_count": 1,
   "metadata": {
    "collapsed": false
   },
   "outputs": [
    {
     "data": {
      "text/html": [
       "<table>\n",
       "<thead><tr><th scope=col>X1</th><th scope=col>X2</th><th scope=col>X3</th><th scope=col>X4</th><th scope=col>X5</th><th scope=col>X6</th><th scope=col>X7</th><th scope=col>X8</th><th scope=col>Y1</th><th scope=col>Y2</th><th scope=col>X</th><th scope=col>X.1</th></tr></thead>\n",
       "<tbody>\n",
       "\t<tr><td>0.98  </td><td>514.5 </td><td>294.0 </td><td>110.25</td><td>7     </td><td>2     </td><td>0     </td><td>0     </td><td>15.55 </td><td>21.33 </td><td>NA    </td><td>NA    </td></tr>\n",
       "\t<tr><td>0.98  </td><td>514.5 </td><td>294.0 </td><td>110.25</td><td>7     </td><td>3     </td><td>0     </td><td>0     </td><td>15.55 </td><td>21.33 </td><td>NA    </td><td>NA    </td></tr>\n",
       "\t<tr><td>0.98  </td><td>514.5 </td><td>294.0 </td><td>110.25</td><td>7     </td><td>4     </td><td>0     </td><td>0     </td><td>15.55 </td><td>21.33 </td><td>NA    </td><td>NA    </td></tr>\n",
       "\t<tr><td>0.98  </td><td>514.5 </td><td>294.0 </td><td>110.25</td><td>7     </td><td>5     </td><td>0     </td><td>0     </td><td>15.55 </td><td>21.33 </td><td>NA    </td><td>NA    </td></tr>\n",
       "\t<tr><td>0.90  </td><td>563.5 </td><td>318.5 </td><td>122.50</td><td>7     </td><td>2     </td><td>0     </td><td>0     </td><td>20.84 </td><td>28.28 </td><td>NA    </td><td>NA    </td></tr>\n",
       "\t<tr><td>0.90  </td><td>563.5 </td><td>318.5 </td><td>122.50</td><td>7     </td><td>3     </td><td>0     </td><td>0     </td><td>21.46 </td><td>25.38 </td><td>NA    </td><td>NA    </td></tr>\n",
       "</tbody>\n",
       "</table>\n"
      ],
      "text/latex": [
       "\\begin{tabular}{r|llllllllllll}\n",
       " X1 & X2 & X3 & X4 & X5 & X6 & X7 & X8 & Y1 & Y2 & X & X.1\\\\\n",
       "\\hline\n",
       "\t 0.98   & 514.5  & 294.0  & 110.25 & 7      & 2      & 0      & 0      & 15.55  & 21.33  & NA     & NA    \\\\\n",
       "\t 0.98   & 514.5  & 294.0  & 110.25 & 7      & 3      & 0      & 0      & 15.55  & 21.33  & NA     & NA    \\\\\n",
       "\t 0.98   & 514.5  & 294.0  & 110.25 & 7      & 4      & 0      & 0      & 15.55  & 21.33  & NA     & NA    \\\\\n",
       "\t 0.98   & 514.5  & 294.0  & 110.25 & 7      & 5      & 0      & 0      & 15.55  & 21.33  & NA     & NA    \\\\\n",
       "\t 0.90   & 563.5  & 318.5  & 122.50 & 7      & 2      & 0      & 0      & 20.84  & 28.28  & NA     & NA    \\\\\n",
       "\t 0.90   & 563.5  & 318.5  & 122.50 & 7      & 3      & 0      & 0      & 21.46  & 25.38  & NA     & NA    \\\\\n",
       "\\end{tabular}\n"
      ],
      "text/plain": [
       "  X1   X2    X3    X4     X5 X6 X7 X8 Y1    Y2    X  X.1\n",
       "1 0.98 514.5 294.0 110.25 7  2  0  0  15.55 21.33 NA NA \n",
       "2 0.98 514.5 294.0 110.25 7  3  0  0  15.55 21.33 NA NA \n",
       "3 0.98 514.5 294.0 110.25 7  4  0  0  15.55 21.33 NA NA \n",
       "4 0.98 514.5 294.0 110.25 7  5  0  0  15.55 21.33 NA NA \n",
       "5 0.90 563.5 318.5 122.50 7  2  0  0  20.84 28.28 NA NA \n",
       "6 0.90 563.5 318.5 122.50 7  3  0  0  21.46 25.38 NA NA "
      ]
     },
     "metadata": {},
     "output_type": "display_data"
    },
    {
     "data": {
      "text/html": [
       "<ol class=list-inline>\n",
       "\t<li>1296</li>\n",
       "\t<li>12</li>\n",
       "</ol>\n"
      ],
      "text/latex": [
       "\\begin{enumerate*}\n",
       "\\item 1296\n",
       "\\item 12\n",
       "\\end{enumerate*}\n"
      ],
      "text/markdown": [
       "1. 1296\n",
       "2. 12\n",
       "\n",
       "\n"
      ],
      "text/plain": [
       "[1] 1296   12"
      ]
     },
     "metadata": {},
     "output_type": "display_data"
    }
   ],
   "source": [
    "energy=read.csv(\"../../../datasets/energy efficiency/ENB2012_data.csv\")\n",
    "head(energy)\n",
    "dim(energy)"
   ]
  },
  {
   "cell_type": "code",
   "execution_count": 2,
   "metadata": {
    "collapsed": false
   },
   "outputs": [
    {
     "data": {
      "text/plain": [
       "       X1               X2              X3              X4       \n",
       " Min.   :0.6200   Min.   :514.5   Min.   :245.0   Min.   :110.2  \n",
       " 1st Qu.:0.6825   1st Qu.:606.4   1st Qu.:294.0   1st Qu.:140.9  \n",
       " Median :0.7500   Median :673.8   Median :318.5   Median :183.8  \n",
       " Mean   :0.7642   Mean   :671.7   Mean   :318.5   Mean   :176.6  \n",
       " 3rd Qu.:0.8300   3rd Qu.:741.1   3rd Qu.:343.0   3rd Qu.:220.5  \n",
       " Max.   :0.9800   Max.   :808.5   Max.   :416.5   Max.   :220.5  \n",
       " NA's   :528      NA's   :528     NA's   :528     NA's   :528    \n",
       "       X5             X6             X7               X8              Y1       \n",
       " Min.   :3.50   Min.   :2.00   Min.   :0.0000   Min.   :0.000   Min.   : 6.01  \n",
       " 1st Qu.:3.50   1st Qu.:2.75   1st Qu.:0.1000   1st Qu.:1.750   1st Qu.:12.99  \n",
       " Median :5.25   Median :3.50   Median :0.2500   Median :3.000   Median :18.95  \n",
       " Mean   :5.25   Mean   :3.50   Mean   :0.2344   Mean   :2.812   Mean   :22.31  \n",
       " 3rd Qu.:7.00   3rd Qu.:4.25   3rd Qu.:0.4000   3rd Qu.:4.000   3rd Qu.:31.67  \n",
       " Max.   :7.00   Max.   :5.00   Max.   :0.4000   Max.   :5.000   Max.   :43.10  \n",
       " NA's   :528    NA's   :528    NA's   :528      NA's   :528     NA's   :528    \n",
       "       Y2           X             X.1         \n",
       " Min.   :10.90   Mode:logical   Mode:logical  \n",
       " 1st Qu.:15.62   NA's:1296      NA's:1296     \n",
       " Median :22.08                                \n",
       " Mean   :24.59                                \n",
       " 3rd Qu.:33.13                                \n",
       " Max.   :48.03                                \n",
       " NA's   :528                                  "
      ]
     },
     "metadata": {},
     "output_type": "display_data"
    }
   ],
   "source": [
    "summary(energy)"
   ]
  },
  {
   "cell_type": "markdown",
   "metadata": {},
   "source": [
    "We dont need the last two columns as they are junk data with all NA values. Exclude them from the dataset. "
   ]
  },
  {
   "cell_type": "code",
   "execution_count": 3,
   "metadata": {
    "collapsed": false
   },
   "outputs": [
    {
     "data": {
      "text/html": [
       "<table>\n",
       "<thead><tr><th scope=col>X1</th><th scope=col>X2</th><th scope=col>X3</th><th scope=col>X4</th><th scope=col>X5</th><th scope=col>X6</th><th scope=col>X7</th><th scope=col>X8</th><th scope=col>Y1</th><th scope=col>Y2</th></tr></thead>\n",
       "<tbody>\n",
       "\t<tr><td>0.98  </td><td>514.5 </td><td>294.0 </td><td>110.25</td><td>7     </td><td>2     </td><td>0     </td><td>0     </td><td>15.55 </td><td>21.33 </td></tr>\n",
       "\t<tr><td>0.98  </td><td>514.5 </td><td>294.0 </td><td>110.25</td><td>7     </td><td>3     </td><td>0     </td><td>0     </td><td>15.55 </td><td>21.33 </td></tr>\n",
       "\t<tr><td>0.98  </td><td>514.5 </td><td>294.0 </td><td>110.25</td><td>7     </td><td>4     </td><td>0     </td><td>0     </td><td>15.55 </td><td>21.33 </td></tr>\n",
       "\t<tr><td>0.98  </td><td>514.5 </td><td>294.0 </td><td>110.25</td><td>7     </td><td>5     </td><td>0     </td><td>0     </td><td>15.55 </td><td>21.33 </td></tr>\n",
       "\t<tr><td>0.90  </td><td>563.5 </td><td>318.5 </td><td>122.50</td><td>7     </td><td>2     </td><td>0     </td><td>0     </td><td>20.84 </td><td>28.28 </td></tr>\n",
       "\t<tr><td>0.90  </td><td>563.5 </td><td>318.5 </td><td>122.50</td><td>7     </td><td>3     </td><td>0     </td><td>0     </td><td>21.46 </td><td>25.38 </td></tr>\n",
       "</tbody>\n",
       "</table>\n"
      ],
      "text/latex": [
       "\\begin{tabular}{r|llllllllll}\n",
       " X1 & X2 & X3 & X4 & X5 & X6 & X7 & X8 & Y1 & Y2\\\\\n",
       "\\hline\n",
       "\t 0.98   & 514.5  & 294.0  & 110.25 & 7      & 2      & 0      & 0      & 15.55  & 21.33 \\\\\n",
       "\t 0.98   & 514.5  & 294.0  & 110.25 & 7      & 3      & 0      & 0      & 15.55  & 21.33 \\\\\n",
       "\t 0.98   & 514.5  & 294.0  & 110.25 & 7      & 4      & 0      & 0      & 15.55  & 21.33 \\\\\n",
       "\t 0.98   & 514.5  & 294.0  & 110.25 & 7      & 5      & 0      & 0      & 15.55  & 21.33 \\\\\n",
       "\t 0.90   & 563.5  & 318.5  & 122.50 & 7      & 2      & 0      & 0      & 20.84  & 28.28 \\\\\n",
       "\t 0.90   & 563.5  & 318.5  & 122.50 & 7      & 3      & 0      & 0      & 21.46  & 25.38 \\\\\n",
       "\\end{tabular}\n"
      ],
      "text/plain": [
       "  X1   X2    X3    X4     X5 X6 X7 X8 Y1    Y2   \n",
       "1 0.98 514.5 294.0 110.25 7  2  0  0  15.55 21.33\n",
       "2 0.98 514.5 294.0 110.25 7  3  0  0  15.55 21.33\n",
       "3 0.98 514.5 294.0 110.25 7  4  0  0  15.55 21.33\n",
       "4 0.98 514.5 294.0 110.25 7  5  0  0  15.55 21.33\n",
       "5 0.90 563.5 318.5 122.50 7  2  0  0  20.84 28.28\n",
       "6 0.90 563.5 318.5 122.50 7  3  0  0  21.46 25.38"
      ]
     },
     "metadata": {},
     "output_type": "display_data"
    }
   ],
   "source": [
    "energy = energy[, !(colnames(energy) %in% c(\"X\",\"X.1\"))]\n",
    "head(energy)"
   ]
  },
  {
   "cell_type": "markdown",
   "metadata": {},
   "source": [
    "Use the readme.md file to get the attribute headers. The column names as per readme file are Relative_Compactness, Surface_Area, Wall_Area , Roof_Area, Overall_Height, Orientation, Glazing_Area, Glazing_Area_Distribution, Heating_Load, Cooling_Load."
   ]
  },
  {
   "cell_type": "code",
   "execution_count": 4,
   "metadata": {
    "collapsed": false
   },
   "outputs": [],
   "source": [
    "names(energy) = c(\"Relative_Compactness\", \"Surface_Area\", \"Wall_Area\" , \"Roof_Area\", \"Overall_Height\", \"Orientation\", \"Glazing_Area\", \"Glazing_Area_Distribution\", \"Heating_Load\", \"Cooling_Load\")"
   ]
  },
  {
   "cell_type": "markdown",
   "metadata": {},
   "source": [
    "There are 528 NA values in every column of the dataset including the dependent variables Heating_load and Cooling_load. Omit this rows from the dataset."
   ]
  },
  {
   "cell_type": "code",
   "execution_count": 5,
   "metadata": {
    "collapsed": false
   },
   "outputs": [
    {
     "data": {
      "text/plain": [
       " Relative_Compactness  Surface_Area     Wall_Area       Roof_Area    \n",
       " Min.   :0.6200       Min.   :514.5   Min.   :245.0   Min.   :110.2  \n",
       " 1st Qu.:0.6825       1st Qu.:606.4   1st Qu.:294.0   1st Qu.:140.9  \n",
       " Median :0.7500       Median :673.8   Median :318.5   Median :183.8  \n",
       " Mean   :0.7642       Mean   :671.7   Mean   :318.5   Mean   :176.6  \n",
       " 3rd Qu.:0.8300       3rd Qu.:741.1   3rd Qu.:343.0   3rd Qu.:220.5  \n",
       " Max.   :0.9800       Max.   :808.5   Max.   :416.5   Max.   :220.5  \n",
       " Overall_Height  Orientation    Glazing_Area    Glazing_Area_Distribution\n",
       " Min.   :3.50   Min.   :2.00   Min.   :0.0000   Min.   :0.000            \n",
       " 1st Qu.:3.50   1st Qu.:2.75   1st Qu.:0.1000   1st Qu.:1.750            \n",
       " Median :5.25   Median :3.50   Median :0.2500   Median :3.000            \n",
       " Mean   :5.25   Mean   :3.50   Mean   :0.2344   Mean   :2.812            \n",
       " 3rd Qu.:7.00   3rd Qu.:4.25   3rd Qu.:0.4000   3rd Qu.:4.000            \n",
       " Max.   :7.00   Max.   :5.00   Max.   :0.4000   Max.   :5.000            \n",
       "  Heating_Load    Cooling_Load  \n",
       " Min.   : 6.01   Min.   :10.90  \n",
       " 1st Qu.:12.99   1st Qu.:15.62  \n",
       " Median :18.95   Median :22.08  \n",
       " Mean   :22.31   Mean   :24.59  \n",
       " 3rd Qu.:31.67   3rd Qu.:33.13  \n",
       " Max.   :43.10   Max.   :48.03  "
      ]
     },
     "metadata": {},
     "output_type": "display_data"
    }
   ],
   "source": [
    "energy = energy[complete.cases(energy),]\n",
    "# str(energy)\n",
    "summary(energy)"
   ]
  },
  {
   "cell_type": "markdown",
   "metadata": {},
   "source": [
    "See how the dependent and independent variables are correlated separately."
   ]
  },
  {
   "cell_type": "code",
   "execution_count": 8,
   "metadata": {
    "collapsed": false
   },
   "outputs": [
    {
     "data": {
      "text/html": [
       "<table>\n",
       "<thead><tr><th></th><th scope=col>Relative_Compactness</th><th scope=col>Surface_Area</th><th scope=col>Wall_Area</th><th scope=col>Roof_Area</th><th scope=col>Overall_Height</th><th scope=col>Orientation</th><th scope=col>Glazing_Area</th><th scope=col>Glazing_Area_Distribution</th><th scope=col>Heating_Load</th><th scope=col>Cooling_Load</th></tr></thead>\n",
       "<tbody>\n",
       "\t<tr><th scope=row>Relative_Compactness</th><td> TRUE</td><td>FALSE</td><td>FALSE</td><td>FALSE</td><td> TRUE</td><td>FALSE</td><td>FALSE</td><td>FALSE</td><td> TRUE</td><td> TRUE</td></tr>\n",
       "\t<tr><th scope=row>Surface_Area</th><td>FALSE</td><td> TRUE</td><td>FALSE</td><td> TRUE</td><td>FALSE</td><td>FALSE</td><td>FALSE</td><td>FALSE</td><td>FALSE</td><td>FALSE</td></tr>\n",
       "\t<tr><th scope=row>Wall_Area</th><td>FALSE</td><td>FALSE</td><td> TRUE</td><td>FALSE</td><td>FALSE</td><td>FALSE</td><td>FALSE</td><td>FALSE</td><td>FALSE</td><td>FALSE</td></tr>\n",
       "\t<tr><th scope=row>Roof_Area</th><td>FALSE</td><td> TRUE</td><td>FALSE</td><td> TRUE</td><td>FALSE</td><td>FALSE</td><td>FALSE</td><td>FALSE</td><td>FALSE</td><td>FALSE</td></tr>\n",
       "\t<tr><th scope=row>Overall_Height</th><td> TRUE</td><td>FALSE</td><td>FALSE</td><td>FALSE</td><td> TRUE</td><td>FALSE</td><td>FALSE</td><td>FALSE</td><td> TRUE</td><td> TRUE</td></tr>\n",
       "\t<tr><th scope=row>Orientation</th><td>FALSE</td><td>FALSE</td><td>FALSE</td><td>FALSE</td><td>FALSE</td><td> TRUE</td><td>FALSE</td><td>FALSE</td><td>FALSE</td><td>FALSE</td></tr>\n",
       "\t<tr><th scope=row>Glazing_Area</th><td>FALSE</td><td>FALSE</td><td>FALSE</td><td>FALSE</td><td>FALSE</td><td>FALSE</td><td> TRUE</td><td>FALSE</td><td>FALSE</td><td>FALSE</td></tr>\n",
       "\t<tr><th scope=row>Glazing_Area_Distribution</th><td>FALSE</td><td>FALSE</td><td>FALSE</td><td>FALSE</td><td>FALSE</td><td>FALSE</td><td>FALSE</td><td> TRUE</td><td>FALSE</td><td>FALSE</td></tr>\n",
       "\t<tr><th scope=row>Heating_Load</th><td> TRUE</td><td>FALSE</td><td>FALSE</td><td>FALSE</td><td> TRUE</td><td>FALSE</td><td>FALSE</td><td>FALSE</td><td> TRUE</td><td> TRUE</td></tr>\n",
       "\t<tr><th scope=row>Cooling_Load</th><td> TRUE</td><td>FALSE</td><td>FALSE</td><td>FALSE</td><td> TRUE</td><td>FALSE</td><td>FALSE</td><td>FALSE</td><td> TRUE</td><td> TRUE</td></tr>\n",
       "</tbody>\n",
       "</table>\n"
      ],
      "text/latex": [
       "\\begin{tabular}{r|llllllllll}\n",
       "  & Relative\\_Compactness & Surface\\_Area & Wall\\_Area & Roof\\_Area & Overall\\_Height & Orientation & Glazing\\_Area & Glazing\\_Area\\_Distribution & Heating\\_Load & Cooling\\_Load\\\\\n",
       "\\hline\n",
       "\tRelative\\_Compactness &  TRUE & FALSE & FALSE & FALSE &  TRUE & FALSE & FALSE & FALSE &  TRUE &  TRUE\\\\\n",
       "\tSurface\\_Area & FALSE &  TRUE & FALSE &  TRUE & FALSE & FALSE & FALSE & FALSE & FALSE & FALSE\\\\\n",
       "\tWall\\_Area & FALSE & FALSE &  TRUE & FALSE & FALSE & FALSE & FALSE & FALSE & FALSE & FALSE\\\\\n",
       "\tRoof\\_Area & FALSE &  TRUE & FALSE &  TRUE & FALSE & FALSE & FALSE & FALSE & FALSE & FALSE\\\\\n",
       "\tOverall\\_Height &  TRUE & FALSE & FALSE & FALSE &  TRUE & FALSE & FALSE & FALSE &  TRUE &  TRUE\\\\\n",
       "\tOrientation & FALSE & FALSE & FALSE & FALSE & FALSE &  TRUE & FALSE & FALSE & FALSE & FALSE\\\\\n",
       "\tGlazing\\_Area & FALSE & FALSE & FALSE & FALSE & FALSE & FALSE &  TRUE & FALSE & FALSE & FALSE\\\\\n",
       "\tGlazing\\_Area\\_Distribution & FALSE & FALSE & FALSE & FALSE & FALSE & FALSE & FALSE &  TRUE & FALSE & FALSE\\\\\n",
       "\tHeating\\_Load &  TRUE & FALSE & FALSE & FALSE &  TRUE & FALSE & FALSE & FALSE &  TRUE &  TRUE\\\\\n",
       "\tCooling\\_Load &  TRUE & FALSE & FALSE & FALSE &  TRUE & FALSE & FALSE & FALSE &  TRUE &  TRUE\\\\\n",
       "\\end{tabular}\n"
      ],
      "text/markdown": [
       "1. TRUE\n",
       "2. FALSE\n",
       "3. FALSE\n",
       "4. FALSE\n",
       "5. TRUE\n",
       "6. FALSE\n",
       "7. FALSE\n",
       "8. FALSE\n",
       "9. TRUE\n",
       "10. TRUE\n",
       "11. FALSE\n",
       "12. TRUE\n",
       "13. FALSE\n",
       "14. TRUE\n",
       "15. FALSE\n",
       "16. FALSE\n",
       "17. FALSE\n",
       "18. FALSE\n",
       "19. FALSE\n",
       "20. FALSE\n",
       "21. FALSE\n",
       "22. FALSE\n",
       "23. TRUE\n",
       "24. FALSE\n",
       "25. FALSE\n",
       "26. FALSE\n",
       "27. FALSE\n",
       "28. FALSE\n",
       "29. FALSE\n",
       "30. FALSE\n",
       "31. FALSE\n",
       "32. TRUE\n",
       "33. FALSE\n",
       "34. TRUE\n",
       "35. FALSE\n",
       "36. FALSE\n",
       "37. FALSE\n",
       "38. FALSE\n",
       "39. FALSE\n",
       "40. FALSE\n",
       "41. TRUE\n",
       "42. FALSE\n",
       "43. FALSE\n",
       "44. FALSE\n",
       "45. TRUE\n",
       "46. FALSE\n",
       "47. FALSE\n",
       "48. FALSE\n",
       "49. TRUE\n",
       "50. TRUE\n",
       "51. FALSE\n",
       "52. FALSE\n",
       "53. FALSE\n",
       "54. FALSE\n",
       "55. FALSE\n",
       "56. TRUE\n",
       "57. FALSE\n",
       "58. FALSE\n",
       "59. FALSE\n",
       "60. FALSE\n",
       "61. FALSE\n",
       "62. FALSE\n",
       "63. FALSE\n",
       "64. FALSE\n",
       "65. FALSE\n",
       "66. FALSE\n",
       "67. TRUE\n",
       "68. FALSE\n",
       "69. FALSE\n",
       "70. FALSE\n",
       "71. FALSE\n",
       "72. FALSE\n",
       "73. FALSE\n",
       "74. FALSE\n",
       "75. FALSE\n",
       "76. FALSE\n",
       "77. FALSE\n",
       "78. TRUE\n",
       "79. FALSE\n",
       "80. FALSE\n",
       "81. TRUE\n",
       "82. FALSE\n",
       "83. FALSE\n",
       "84. FALSE\n",
       "85. TRUE\n",
       "86. FALSE\n",
       "87. FALSE\n",
       "88. FALSE\n",
       "89. TRUE\n",
       "90. TRUE\n",
       "91. TRUE\n",
       "92. FALSE\n",
       "93. FALSE\n",
       "94. FALSE\n",
       "95. TRUE\n",
       "96. FALSE\n",
       "97. FALSE\n",
       "98. FALSE\n",
       "99. TRUE\n",
       "100. TRUE\n",
       "\n",
       "\n"
      ],
      "text/plain": [
       "                          Relative_Compactness Surface_Area Wall_Area Roof_Area\n",
       "Relative_Compactness       TRUE                FALSE        FALSE     FALSE    \n",
       "Surface_Area              FALSE                 TRUE        FALSE      TRUE    \n",
       "Wall_Area                 FALSE                FALSE         TRUE     FALSE    \n",
       "Roof_Area                 FALSE                 TRUE        FALSE      TRUE    \n",
       "Overall_Height             TRUE                FALSE        FALSE     FALSE    \n",
       "Orientation               FALSE                FALSE        FALSE     FALSE    \n",
       "Glazing_Area              FALSE                FALSE        FALSE     FALSE    \n",
       "Glazing_Area_Distribution FALSE                FALSE        FALSE     FALSE    \n",
       "Heating_Load               TRUE                FALSE        FALSE     FALSE    \n",
       "Cooling_Load               TRUE                FALSE        FALSE     FALSE    \n",
       "                          Overall_Height Orientation Glazing_Area\n",
       "Relative_Compactness       TRUE          FALSE       FALSE       \n",
       "Surface_Area              FALSE          FALSE       FALSE       \n",
       "Wall_Area                 FALSE          FALSE       FALSE       \n",
       "Roof_Area                 FALSE          FALSE       FALSE       \n",
       "Overall_Height             TRUE          FALSE       FALSE       \n",
       "Orientation               FALSE           TRUE       FALSE       \n",
       "Glazing_Area              FALSE          FALSE        TRUE       \n",
       "Glazing_Area_Distribution FALSE          FALSE       FALSE       \n",
       "Heating_Load               TRUE          FALSE       FALSE       \n",
       "Cooling_Load               TRUE          FALSE       FALSE       \n",
       "                          Glazing_Area_Distribution Heating_Load Cooling_Load\n",
       "Relative_Compactness      FALSE                      TRUE         TRUE       \n",
       "Surface_Area              FALSE                     FALSE        FALSE       \n",
       "Wall_Area                 FALSE                     FALSE        FALSE       \n",
       "Roof_Area                 FALSE                     FALSE        FALSE       \n",
       "Overall_Height            FALSE                      TRUE         TRUE       \n",
       "Orientation               FALSE                     FALSE        FALSE       \n",
       "Glazing_Area              FALSE                     FALSE        FALSE       \n",
       "Glazing_Area_Distribution  TRUE                     FALSE        FALSE       \n",
       "Heating_Load              FALSE                      TRUE         TRUE       \n",
       "Cooling_Load              FALSE                      TRUE         TRUE       "
      ]
     },
     "metadata": {},
     "output_type": "display_data"
    }
   ],
   "source": [
    "cor(energy)>0.6"
   ]
  },
  {
   "cell_type": "code",
   "execution_count": 9,
   "metadata": {
    "collapsed": false
   },
   "outputs": [
    {
     "data": {
      "text/html": [
       "<table>\n",
       "<thead><tr><th></th><th scope=col>Heating_Load</th><th scope=col>Cooling_Load</th></tr></thead>\n",
       "<tbody>\n",
       "\t<tr><th scope=row>Heating_Load</th><td>1.0000000</td><td>0.9758618</td></tr>\n",
       "\t<tr><th scope=row>Cooling_Load</th><td>0.9758618</td><td>1.0000000</td></tr>\n",
       "</tbody>\n",
       "</table>\n"
      ],
      "text/latex": [
       "\\begin{tabular}{r|ll}\n",
       "  & Heating\\_Load & Cooling\\_Load\\\\\n",
       "\\hline\n",
       "\tHeating\\_Load & 1.0000000 & 0.9758618\\\\\n",
       "\tCooling\\_Load & 0.9758618 & 1.0000000\\\\\n",
       "\\end{tabular}\n"
      ],
      "text/markdown": [
       "1. 1\n",
       "2. 0.975861813432858\n",
       "3. 0.975861813432858\n",
       "4. 1\n",
       "\n",
       "\n"
      ],
      "text/plain": [
       "             Heating_Load Cooling_Load\n",
       "Heating_Load 1.0000000    0.9758618   \n",
       "Cooling_Load 0.9758618    1.0000000   "
      ]
     },
     "metadata": {},
     "output_type": "display_data"
    }
   ],
   "source": [
    "cor(energy[,9:10])"
   ]
  },
  {
   "cell_type": "markdown",
   "metadata": {},
   "source": [
    "So the dependent variables are highly correlated to each other. Relative_Compactness and Overall_Height are the only variables which have a positive correlation of over 0.6 with the dependent variables. Contruct the model to predict Heating_Load and Cooling_Load using rest of the variables. When doing multivariate regression all response variables should be combined into one single object/dataframe. You will realize why when we apply the model. Lets combine the response variables Heating_Load and Cooling_Load into a variable called 'load'."
   ]
  },
  {
   "cell_type": "code",
   "execution_count": 10,
   "metadata": {
    "collapsed": true
   },
   "outputs": [],
   "source": [
    "#cbind() combines two variables column wise. Now load will be a dataframe with Heating_Load and Cooling_Load as columns.\n",
    "load  <- cbind(energy$Heating_Load, energy$Cooling_Load)"
   ]
  },
  {
   "cell_type": "code",
   "execution_count": 11,
   "metadata": {
    "collapsed": false
   },
   "outputs": [
    {
     "data": {
      "text/plain": [
       "Response Y1 :\n",
       "\n",
       "Call:\n",
       "lm(formula = Y1 ~ (Relative_Compactness + Surface_Area + Wall_Area + \n",
       "    Roof_Area + Overall_Height + Orientation + Glazing_Area + \n",
       "    Glazing_Area_Distribution + Heating_Load + Cooling_Load) - \n",
       "    Heating_Load - Cooling_Load, data = energy)\n",
       "\n",
       "Residuals:\n",
       "    Min      1Q  Median      3Q     Max \n",
       "-9.8965 -1.3196 -0.0252  1.3532  7.7052 \n",
       "\n",
       "Coefficients: (1 not defined because of singularities)\n",
       "                            Estimate Std. Error t value Pr(>|t|)    \n",
       "(Intercept)                84.014521  19.033607   4.414 1.16e-05 ***\n",
       "Relative_Compactness      -64.773991  10.289445  -6.295 5.19e-10 ***\n",
       "Surface_Area               -0.087290   0.017075  -5.112 4.04e-07 ***\n",
       "Wall_Area                   0.060813   0.006648   9.148  < 2e-16 ***\n",
       "Roof_Area                         NA         NA      NA       NA    \n",
       "Overall_Height              4.169939   0.337990  12.337  < 2e-16 ***\n",
       "Orientation                -0.023328   0.094705  -0.246  0.80550    \n",
       "Glazing_Area               19.932680   0.813986  24.488  < 2e-16 ***\n",
       "Glazing_Area_Distribution   0.203772   0.069918   2.914  0.00367 ** \n",
       "---\n",
       "Signif. codes:  0 ‘***’ 0.001 ‘**’ 0.01 ‘*’ 0.05 ‘.’ 0.1 ‘ ’ 1\n",
       "\n",
       "Residual standard error: 2.934 on 760 degrees of freedom\n",
       "Multiple R-squared:  0.9162,\tAdjusted R-squared:  0.9154 \n",
       "F-statistic:  1187 on 7 and 760 DF,  p-value: < 2.2e-16\n",
       "\n",
       "\n",
       "Response Y2 :\n",
       "\n",
       "Call:\n",
       "lm(formula = Y2 ~ (Relative_Compactness + Surface_Area + Wall_Area + \n",
       "    Roof_Area + Overall_Height + Orientation + Glazing_Area + \n",
       "    Glazing_Area_Distribution + Heating_Load + Cooling_Load) - \n",
       "    Heating_Load - Cooling_Load, data = energy)\n",
       "\n",
       "Residuals:\n",
       "    Min      1Q  Median      3Q     Max \n",
       "-8.6940 -1.5606 -0.2668  1.3968 11.1775 \n",
       "\n",
       "Coefficients: (1 not defined because of singularities)\n",
       "                            Estimate Std. Error t value Pr(>|t|)    \n",
       "(Intercept)                97.245749  20.764711   4.683 3.34e-06 ***\n",
       "Relative_Compactness      -70.787707  11.225269  -6.306 4.85e-10 ***\n",
       "Surface_Area               -0.088245   0.018628  -4.737 2.59e-06 ***\n",
       "Wall_Area                   0.044682   0.007253   6.161 1.17e-09 ***\n",
       "Roof_Area                         NA         NA      NA       NA    \n",
       "Overall_Height              4.283843   0.368730  11.618  < 2e-16 ***\n",
       "Orientation                 0.121510   0.103318   1.176    0.240    \n",
       "Glazing_Area               14.717068   0.888018  16.573  < 2e-16 ***\n",
       "Glazing_Area_Distribution   0.040697   0.076277   0.534    0.594    \n",
       "---\n",
       "Signif. codes:  0 ‘***’ 0.001 ‘**’ 0.01 ‘*’ 0.05 ‘.’ 0.1 ‘ ’ 1\n",
       "\n",
       "Residual standard error: 3.201 on 760 degrees of freedom\n",
       "Multiple R-squared:  0.8878,\tAdjusted R-squared:  0.8868 \n",
       "F-statistic: 859.1 on 7 and 760 DF,  p-value: < 2.2e-16\n",
       "\n"
      ]
     },
     "metadata": {},
     "output_type": "display_data"
    }
   ],
   "source": [
    "# Build multivariate regression model to predict Heating_Load and Cooling_LOad using rest all independent variables.\n",
    "# Include all independent variables using notaion \" ~ .\"\n",
    "# Exclude variables Heating_Load  Cooling_Load as independent variables by\n",
    "# using minus operator ( - )\n",
    "\n",
    "# energy_reg is a linear model of load against all variables except Heating_Laod and Cooling_Load\n",
    "energy_reg <- lm(load ~ . -Heating_Load - Cooling_Load, data=energy)\n",
    "summary(energy_reg)"
   ]
  },
  {
   "cell_type": "code",
   "execution_count": 12,
   "metadata": {
    "collapsed": false
   },
   "outputs": [
    {
     "data": {
      "text/plain": [
       "                           Df  Pillai approx F num Df den Df    Pr(>F)    \n",
       "Relative_Compactness        1 0.82502  1789.27      2    759 < 2.2e-16 ***\n",
       "Surface_Area                1 0.56418   491.28      2    759 < 2.2e-16 ***\n",
       "Wall_Area                   1 0.80016  1519.50      2    759 < 2.2e-16 ***\n",
       "Overall_Height              1 0.17495    80.47      2    759 < 2.2e-16 ***\n",
       "Orientation                 1 0.00675     2.58      2    759 0.0766512 .  \n",
       "Glazing_Area                1 0.47606   344.82      2    759 < 2.2e-16 ***\n",
       "Glazing_Area_Distribution   1 0.02200     8.54      2    759 0.0002153 ***\n",
       "Residuals                 760                                             \n",
       "---\n",
       "Signif. codes:  0 ‘***’ 0.001 ‘**’ 0.01 ‘*’ 0.05 ‘.’ 0.1 ‘ ’ 1"
      ]
     },
     "metadata": {},
     "output_type": "display_data"
    }
   ],
   "source": [
    "## Give us a summary of the linear model constructed in the cell above\n",
    "\n",
    "summary(manova(energy_reg))\n",
    "\n",
    "## Summary shows that every variable EXCEPT Orientation has a significant effect on the energy model"
   ]
  },
  {
   "cell_type": "code",
   "execution_count": null,
   "metadata": {
    "collapsed": true
   },
   "outputs": [],
   "source": []
  }
 ],
 "metadata": {
  "kernelspec": {
   "display_name": "R",
   "language": "R",
   "name": "ir"
  },
  "language_info": {
   "codemirror_mode": "r",
   "file_extension": ".r",
   "mimetype": "text/x-r-source",
   "name": "R",
   "pygments_lexer": "r",
   "version": "3.3.1"
  }
 },
 "nbformat": 4,
 "nbformat_minor": 0
}
