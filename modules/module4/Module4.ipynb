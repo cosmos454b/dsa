{
 "cells": [
  {
   "cell_type": "markdown",
   "metadata": {},
   "source": [
    "# Module 4: Probability\n",
    "\n",
    "\n",
    "## Topics covered\n",
    "\n",
    "* Probability \n",
    "  * Basic Probabilities\n",
    "    * Independent vs Dependent Events\n",
    "    * Conditional Probabilities\n",
    "  * Permutations and Combinations\n",
    "* Extensions of Probability to Multivariate Data\n",
    "* Conditional Probabilities and Bayesian Statistics\n",
    "* Multivariate Distributions\n",
    "  * Normal Distributions (ch 7 of ItS book)\n",
    "    * Mathematical Definition of Normal Distribution\n",
    "    * Measuring the Area Under Normal Distribution\n",
    "    * Normal Distribution as an Approximation for the Binomial Distribution\n",
    "  * Binomial Distribution \n",
    "  * Poisson Distribution \n",
    "  * Multinomial Distribution\n",
    "\n",
    "\n",
    "## Readings\n",
    "The following is the suggested reading for above topic.\n",
    "\n",
    "- [Probability Chapter: Online Stats Book](http://onlinestatbook.com/2/probability/probability.pdf)\n"
   ]
  },
  {
   "cell_type": "markdown",
   "metadata": {},
   "source": [
    "## Video topics\n",
    "  - **Concept Video**: Probabilities\n",
    "  - **Concept Video**: Conditional Probabilities\n",
    "  - **Tools Video**: ?\n",
    "  \n",
    "## Labs\n",
    "  - [Conditional Probability](./labs/Conditional_Probability.ipynb)\n",
    "  - [Other Distributions](./labs/Other_Distributions.ipynb)\n",
    "  - [Bayes](./labs/Bayes.ipynb)\n",
    "\n",
    "\n",
    "## Practice Examples  \n",
    "  - [Conditional Probability](./practices/Conditional_Probability.ipynb)\n",
    "  - [Bayes](./practices/Bayes.ipynb)\n",
    "\n",
    "## Exercises\n",
    "  - [Exercises](./exercises/Exercises.ipynb)"
   ]
  },
  {
   "cell_type": "markdown",
   "metadata": {},
   "source": [
    "\n",
    "## Data Sets\n",
    "Path: `../../datasets/`\n",
    "\n",
    "Dataset Name            | File\n",
    "------------------------|------------\n",
    "motor vehicle thefts    |mvt.csv\n",
    "pulse                   |pulseNew.csv\n",
    "movie lens              |u.data, u.item\n",
    "\n",
    "\n",
    "## Suggested Schedule\n",
    "\n",
    "### Monday\n",
    "  - **Concept Video**: Probabilities\n",
    "  - **Concept Video**: Conditional Probabilities\n",
    "\n",
    "  - Lecture Notebook : Probabilities\n",
    "\n",
    "\n",
    "### Tuesday\n",
    "  - **Lab Notebook**: \n",
    "     1. Data distributions\n",
    "     1. Conditional Probabilities\n",
    "     1. Bayes\n",
    "  - **Practice Notebook**: \n",
    "     1. Conditional Probabilities\n",
    "     1. Bayes\n",
    "\n",
    "\n",
    "### Wednesday\n",
    "  - Discussion Conditional Probabilities\n",
    "\n",
    "### Thursday\n",
    "  - Discussion Responses\n",
    "\n",
    "### Friday/Saturday/Sunday\n",
    "  - **Exercise**: Probabilities & Bayes\n"
   ]
  },
  {
   "cell_type": "code",
   "execution_count": null,
   "metadata": {
    "collapsed": true
   },
   "outputs": [],
   "source": []
  }
 ],
 "metadata": {
  "kernelspec": {
   "display_name": "Python 3",
   "language": "python",
   "name": "python3"
  },
  "language_info": {
   "codemirror_mode": {
    "name": "ipython",
    "version": 3
   },
   "file_extension": ".py",
   "mimetype": "text/x-python",
   "name": "python",
   "nbconvert_exporter": "python",
   "pygments_lexer": "ipython3",
   "version": "3.4.3"
  }
 },
 "nbformat": 4,
 "nbformat_minor": 1
}
