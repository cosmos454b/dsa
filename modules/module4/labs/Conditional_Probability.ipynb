{
 "cells": [
  {
   "cell_type": "markdown",
   "metadata": {
    "collapsed": true
   },
   "source": [
    "# Conditional Probability\n",
    "\n",
    "In this lab notebook We will be looking into Independent and dependent events, concepts of conditional probablity, permutations and combinations. \n",
    "\n",
    "Independent and Dependent events follow from their names. Independent events are those whose occurence is wholly independent of another event; or at least the events we are calculating probabilities for. Dependent events exist in a space where the likliehood of one event depends on or is influenced by the occurence of the other. We express this below mathematically. \n",
    "\n",
    "Conditional probability is the probability of seeing some event knowing that some other event has actually occurred. For example, Weather forecasting is based on conditional probabilities. When the forecast says that there is a 30% chance of rain, that probability is based on all the information that the meteorologists know up until that point.\n",
    "\n",
    "Lets look into what independent and dependent events are. "
   ]
  },
  {
   "cell_type": "markdown",
   "metadata": {},
   "source": [
    "### Independent and Dependent Events\n",
    "\n",
    "\n",
    "**Independent: ** Events A and B are said to be independent if\n",
    "\n",
    "            (A ∩ B) = (A).(B)\n",
    "\n",
    "Otherwise, the events are said to be **dependent**.\n",
    "    \n",
    "                                                   P(A ∩ B)     P(A).P(B)\n",
    "          when P(B) > 0  we can write,    P(A|B) = --------  =  --------- = P(A)\n",
    "                                                     P(B)          P(B)\n",
    "                                                     \n",
    "\n",
    "When A and B are independent, the numerator of the fraction factors so that (B) cancels with the result:\n",
    " \n",
    "            P(A|B) = P(A) when A, B are independent\n",
    "\n",
    "\n",
    "\n",
    "    Lets consider the example of tossing ten coins to illustrate the nature of independent events. So, what is the probability of observing at least one Head? \n",
    "\n",
    "Considering we are tossing the coins in such a way, that they do not interfere with each other i'e they are independent events. \n",
    "\n",
    "The only way there will not be at least one Head is if all tosses are Tails. Therefore,\n",
    "         \n",
    "         P(at least one H) = 1 − P(all T),\n",
    "\n",
    "\n",
    "                             1 - (1/2)^10"
   ]
  },
  {
   "cell_type": "code",
   "execution_count": null,
   "metadata": {
    "collapsed": false
   },
   "outputs": [],
   "source": [
    "#Lets try to do the same thing in R\n",
    "library(prob)\n",
    "Space <- tosscoin(10, makespace = TRUE)\n",
    "\n",
    "#The isrep function in the prob package, will test each row of Space to see whether the value T appears 10 times ans returns \n",
    "#true or false for each row it checks. The subset function is logical, so makes a subset with the rows which are true.\n",
    "A <- subset(Space, isrep(Space, vals = \"T\", nrep = 10))\n",
    "1 - Prob(A)"
   ]
  },
  {
   "cell_type": "markdown",
   "metadata": {},
   "source": [
    "#### Repeated Experiments with Independent Events\n",
    "\n",
    "Experiments are repeated when we want to discern the probability of two events occuring more reliably. Often, a single experiment does not yield sufficient data. Therefore, it is common to repeat a certain experiment multiple times under identical conditions and in an independent manner. Experiments like tossing a coin repeatedly, rolling a die or dice, etc are repreated experiments.\n",
    "\n",
    "The iidspace function in the \"prob\" Library in R (note \"*library(prob)* in the code above) implements repeated experiments. It takes three arguments: x, which is a vector of outcomes, ntrials, which is an integer telling how many times to repeat the experiment, and probs to specify the probabilities of the outcomes of x in a single trial."
   ]
  },
  {
   "cell_type": "code",
   "execution_count": null,
   "metadata": {
    "collapsed": false
   },
   "outputs": [],
   "source": [
    "iidspace(c(\"H\",\"T\"), ntrials = 3, probs = c(0.7, 0.3))"
   ]
  },
  {
   "cell_type": "markdown",
   "metadata": {},
   "source": [
    "### Dependent Events / Conditional Probability"
   ]
  },
  {
   "cell_type": "markdown",
   "metadata": {},
   "source": [
    "Conditional probabilities only exist for dependent events. Consider why: If event's are independent, then their occurence probabilities cannot be expressed together in an equation. If events are *dependent*, then their probabilities can be expressed as one depending on the other; or in an expression of mutual dependence. \n",
    "\n",
    "Consider an example of drawing cards from a full deck of 52 standard playing cards as an example of *dependent events* and *conditional probablity*. Select two cards from the deck, in succession. \n",
    "\n",
    "    Let A = {first card drawn is an Ace} and B = {second card drawn is an Ace}. \n",
    "\n",
    "Since there are four Aces in the deck, it is natural to assign P(A) = 4/52. Lets unpack how this probability changes after the first card is played; because after the first card, there are only 51 cards remaining. \n",
    "\n",
    "Suppose we looked at the first card. What is the probability of B now? The answer depends on the value of the first card. If the first card is an Ace, then the probability that the second also is an Ace should be 3/51, but if the first card is not an Ace, then the probability that the second is an Ace should be 4/51. \n",
    "\n",
    "Mathematically, for these two situations we write\n",
    "    \n",
    "    P(B|A) = 3/51, P(A) = 4/52\n",
    "    \n",
    "    The probability of B being an Ace, if A was an Ace is 3/51. The probability of A being an Ace is 4/52, because no cards have been drawn yet. \n",
    "    \n",
    "Definition: The conditional probability of B given A, denoted P(B|A), is defined by\n",
    "    \n",
    "    \n",
    "              P(A ∩ B)\n",
    "    P(B|A) =  --------\n",
    "                P(A)\n",
    "                \n",
    "    P(A ∩ B) means that A & B intersect. They intersect if they are the same card (in this case, an Ace). \n",
    "    P(A) means the probabilty of A being an Ace\n",
    "    \n",
    "              P(A ∩ B)                                  3      4\n",
    "    P(B|A) =  -------- => P(A ∩ B) => P(B|A) * P(A) => --- *  --- => 0.0045\n",
    "                P(A)                                    51     52"
   ]
  },
  {
   "cell_type": "code",
   "execution_count": null,
   "metadata": {
    "collapsed": false
   },
   "outputs": [],
   "source": [
    "(3/51)*(4/52)"
   ]
  },
  {
   "cell_type": "markdown",
   "metadata": {},
   "source": [
    "**Example: **Lets workout an example. Toss a six-sided die twice. The sample space consists of all ordered pairs (i, j)\n",
    "\n",
    "of the numbers 1, 2, . . . , 6, that is, S = {(1, 1), (1, 2), . . . ,(6, 6)}. \n",
    "\n",
    "Essentially, \"i\" is one die and \"j\" is another die. \n",
    "\n",
    "Let A = {outcomes match} and B = {sum of outcomes at least 8}."
   ]
  },
  {
   "cell_type": "code",
   "execution_count": null,
   "metadata": {
    "collapsed": false
   },
   "outputs": [],
   "source": [
    "# The first thing to do is set up the probability space with the \n",
    "# rolldie function inside the prob library. \n",
    "# So, \"S\" is the probability space\n",
    "# \"rolldie\" is the function\n",
    "# 2 is the number of die\n",
    "# makespace is \"make the space? Yes or no?\"\n",
    "S <- rolldie(2, makespace = TRUE)\n",
    "#S contains all the all 36 possible outcomes {(1,1),(1,2)....(6,6)} with \n",
    "# each outcome having an identical probability of 0.02777778\n",
    "head(S)"
   ]
  },
  {
   "cell_type": "code",
   "execution_count": null,
   "metadata": {
    "collapsed": false
   },
   "outputs": [],
   "source": [
    "# Subsetting sample space S, for outcomes matching event A(outcomes match). \n",
    "# This results in a set where both die are the same (i & j are the same)\n",
    "A <- subset(S, X1 == X2)\n",
    "A"
   ]
  },
  {
   "cell_type": "code",
   "execution_count": null,
   "metadata": {
    "collapsed": false
   },
   "outputs": [],
   "source": [
    "# Subsetting sample space S, \n",
    "# for outcomes matching event B(sum of outcomes at least 8). \n",
    "# The die total must be 8 or more\n",
    "B <- subset(S, X1 + X2 >= 8)\n",
    "B"
   ]
  },
  {
   "cell_type": "code",
   "execution_count": null,
   "metadata": {
    "collapsed": false
   },
   "outputs": [],
   "source": [
    "# When calculating conditional probability, we should use the \n",
    "# \"given\" argument of the prob function as shown below:\n",
    "# A is the event of getting same outcome {{1,1},{2,2}...{6,6}}\n",
    "# B is the event of getting the outcomes with sum of >=8 {{2,6},{3,6},{4,6},{5,6},{6,6},{3,5}...{6,6}}\n",
    "paste('P(A/B): ',Prob(A, given = B))\n",
    "\n",
    "paste('P(B/A): ',Prob(B, given = A))\n",
    "\n",
    "# Instead of defining events A and B you can directly do conditional probability, if we reference the original \n",
    "# probability space S as the first argument of the prob calculation as shown below:\n",
    "paste('P(A/B): ',Prob(S, X1==X2, given = (X1 + X2 >= 8) ))\n",
    "\n",
    "paste('P(B/A): ',Prob(S, X1+X2 >= 8, given = (X1==X2) ))"
   ]
  },
  {
   "cell_type": "markdown",
   "metadata": {},
   "source": [
    "The above examples shown are simple applications of conditional probability on a dice. `Prob` package can be extended to multivariate datasets where events can be defined on columns and supplied as arguments just like how dice events we created."
   ]
  },
  {
   "cell_type": "markdown",
   "metadata": {},
   "source": [
    "### Permutations and Combinations\n",
    "\n",
    "The main difference between combinations and permutations is, a combination does not take into account the order, whereas a permutation does.\n",
    "\n",
    "Consider a simple example from [mathisfun](http://www.mathsisfun.com/combinatorics/combinations-permutations.html). When we say \"My fruit salad is a **combination** of apples, grapes and bananas\", We are least bothered about what order the fruits are in. No matter in which order you mention the fruits, its the same fruit salad.\n",
    "\n",
    "But when we say \"You need the combination 123 to open the safe\". We care about the order of numbers here. No other combination will work to open the safe. It has to be exactly 1-2-3. This is a **permutation**.\n",
    "\n",
    "\t* When the order doesn't matter, it is a Combination.\n",
    "\t\n",
    "    * When the order does matter it is a Permutation.\n",
    "    \n",
    "\n",
    "There are many ways you can create permutations and combinations in R. We will be using combinat package for this. "
   ]
  },
  {
   "cell_type": "markdown",
   "metadata": {},
   "source": [
    "**combn():** combn() is used to generate combinations. Its usage is illustrated below. \n",
    "\n",
    "`Usage`\n",
    "\n",
    "    combn(x, m, fun=NULL, simplify=TRUE, ...)\n",
    "\n",
    "\n",
    "`Arguments`\n",
    "\n",
    "    x         vector source for combinations i'e the vector of elements used to generate the combinations \n",
    "    m         number of elements in each combination. If you specify 2 as input, combinations of size two are generated.\n",
    "    fun       function to be applied to each combination (may be null). It can be any function like sum(), mean() etc.\n",
    "    simplify  logical, if FALSE, returns a list, otherwise returns vector or array. \n",
    "    ...       args to fun\n",
    "\n",
    "It generates all combinations of the elements of x taken m at a time. In below code snippet, we have given an input of 4 to x and 2 to m. So the function has to return combinations of size 2 using the numbers {1,2,3,4} like {{1,2},{1,3}....}. \n",
    "\n",
    "If argument FUN is not NULL, applies a function given by the argument to each point. We will supply sum() as the function. If simplify is FALSE, returns a list; otherwise returns an array, typically a matrix. ... are passed unchanged to the FUN function, if specified."
   ]
  },
  {
   "cell_type": "code",
   "execution_count": null,
   "metadata": {
    "collapsed": false
   },
   "outputs": [],
   "source": [
    "library(combinat)\n",
    "#Generate different possible combinations of size 2 using numbers {1,2,3,4}\n",
    "combn(4, 2)\n",
    "\n",
    "print(\"sum of elements of each combination \")\n",
    "#Generate different possible combinations of size 2 using numbers {1,2,3,4} and return their sums.\n",
    "combn(4, 2,sum)"
   ]
  },
  {
   "cell_type": "markdown",
   "metadata": {},
   "source": [
    "**permn(): ** permn() is used to generate permutations. \n",
    "\n",
    "`Usage`\n",
    "\n",
    "    permn(x, fun=NULL, ...)\n",
    "        \n",
    "        \n",
    "`Arguments`\n",
    "\n",
    "    x    vector source for permutations i'e the vector of elements used to generate the permutations \n",
    "    fun  if non.null, applied at each perm\n",
    "\n",
    "Generates all permutations of the elements of x. In below example we have given 3 as input to generate permutations of size 3 like {{1,2,3},{1,3,2},{2,1,3}...} etc. If argument \"fun\" is not null, applies a function given by the argument to each point. "
   ]
  },
  {
   "cell_type": "code",
   "execution_count": null,
   "metadata": {
    "collapsed": false
   },
   "outputs": [],
   "source": [
    "#Generate different possible permutations using numbers (1,2,3)\n",
    "permn(3)\n",
    "\n",
    "#Generate different possible permutations using numbers (1,2,3) and return standard deviation of permutations.\n",
    "permn(3,sd)"
   ]
  },
  {
   "cell_type": "code",
   "execution_count": null,
   "metadata": {
    "collapsed": false
   },
   "outputs": [],
   "source": [
    "# You can find the number of permutations generated using length function. \n",
    "length(permn(3))"
   ]
  },
  {
   "cell_type": "markdown",
   "metadata": {},
   "source": [
    "### Extensions of probability to multivariate data\n",
    "\n",
    "We have seen how conditional probability has been applied on simple dice events. Lets continue our discussion to multivariate data. We will work with motor vehicle thefts dataset. The data is a combination of both factor and continuous variables. table() command is used extensively when dealing with conditional probability.\n",
    "\n",
    "Load the dataset into a dataframe called `vehicle_thefts`. Dataset is located in '/datasets/motor vehicle thefts/' directory. "
   ]
  },
  {
   "cell_type": "code",
   "execution_count": null,
   "metadata": {
    "collapsed": false
   },
   "outputs": [],
   "source": [
    "vehicle_thefts <- read.csv(\"../../../datasets/motor vehicle thefts/mvt.csv\",header=TRUE)\n",
    "head(vehicle_thefts)"
   ]
  },
  {
   "cell_type": "code",
   "execution_count": null,
   "metadata": {
    "collapsed": false
   },
   "outputs": [],
   "source": [
    "# EXtract month hour values from date variable. Convert the format of date variable into a standard format so that day, month,\n",
    "#year etc values can be extrcated from a date.\n",
    "\n",
    "# strptime converts between character representations which is the input date here and objects of classes \"POSIXlt\" and \n",
    "# \"POSIXct\" representing calendar dates and times.\n",
    "\n",
    "# Here date is a character vector for strptime which is converted to \"POSIXlt\" object.\n",
    "DateConvert = strptime(vehicle_thefts$Date, \"%m/%d/%Y\")\n",
    "\n",
    "# Extract the month and the day of the week and add these variables to the data frame vehicle_thefts.\n",
    "# months() and weekdays() functions help you extract the values from a \"POSIXlt\" object\n",
    "vehicle_thefts$Month = months(DateConvert)\n",
    "vehicle_thefts$Weekday = weekdays(DateConvert)"
   ]
  },
  {
   "cell_type": "markdown",
   "metadata": {},
   "source": [
    "**Reference: ** [strptime()](http://rfunction.com/archives/1912)                \n",
    "**Reference: ** [format()](https://stat.ethz.ch/R-manual/R-devel/library/base/html/format.html)"
   ]
  },
  {
   "cell_type": "code",
   "execution_count": null,
   "metadata": {
    "collapsed": false
   },
   "outputs": [],
   "source": [
    "head(vehicle_thefts)"
   ]
  },
  {
   "cell_type": "code",
   "execution_count": null,
   "metadata": {
    "collapsed": false
   },
   "outputs": [],
   "source": [
    "# What is the probability that an arrest has happened for domestic motor vehicle theft. \n",
    "\n",
    "# We have to find the distribution of thefts based on if its domestic or not. we will use a 2-way table to generate this \n",
    "# frequencies and use these frequencies to come up with probabilities.\n",
    "# with() is used to avoid refering to dataframe everytime we refer to one of its variables in table command. \n",
    "with(vehicle_thefts,table(Arrest,Domestic))"
   ]
  },
  {
   "cell_type": "code",
   "execution_count": null,
   "metadata": {
    "collapsed": false
   },
   "outputs": [],
   "source": [
    "# We are trying to find out probability of arrest being happened given the theft is Domestic type. \n",
    "# Mathematically it is represented as P(Arrest|Domestic) = P( Arrest & Domestic)/P(Domestic)\n",
    "\n",
    "# P( Arrest & Domestic) = 65. Look at above table for value where arrest is TRUE an ddomestic is TRUE\n",
    "# P(Domestic) = 350. Look for value where Domestic is true in above table.\n",
    "65/(350+65)"
   ]
  },
  {
   "cell_type": "markdown",
   "metadata": {},
   "source": [
    "**Reference: ** [with()](http://www.statmethods.net/stats/withby.html). \n",
    "\n",
    "You can use attach() function as an alternative to with(). attach() is used to make objects within dataframes accessible in R with fewer keystrokes. Once you attach the dataframe you can refer to its variable without referring to dataframe.\n",
    "\n",
    "**Reference: ** [attach()](https://www.r-bloggers.com/to-attach-or-not-attach-that-is-the-question/)"
   ]
  },
  {
   "cell_type": "code",
   "execution_count": null,
   "metadata": {
    "collapsed": false
   },
   "outputs": [],
   "source": [
    "# what is the probability that an arrest has been made for motor thefts in the year 2001\n",
    "with(vehicle_thefts,table(Arrest, Year))"
   ]
  },
  {
   "cell_type": "code",
   "execution_count": null,
   "metadata": {
    "collapsed": false
   },
   "outputs": [],
   "source": [
    "# P(Arrest|Year==2001) = P(Arrest & Year==2001)/P(Year==2001)\n",
    "\n",
    "# P(Arrest being made & Year==2001) = 2152\n",
    "# P(Year==2001) = 2152 + 18517\n",
    "2152/(2152+18517)"
   ]
  },
  {
   "cell_type": "code",
   "execution_count": null,
   "metadata": {
    "collapsed": false
   },
   "outputs": [],
   "source": [
    "# There are different locations where the cars are being stolen from. Subset the data using top 5 locations in the order of \n",
    "#maximum number of thefts excluding the \"Other\" category.  Select bottom 5 of the following options.\n",
    "sort(table(vehicle_thefts$LocationDescription))"
   ]
  },
  {
   "cell_type": "code",
   "execution_count": null,
   "metadata": {
    "collapsed": false
   },
   "outputs": [],
   "source": [
    "# Create a subset of data, including observations for which the theft happened in one of the top five locations.  \n",
    "# Call this new data set \"Top5\".\n",
    "\n",
    "Top5 <- subset(vehicle_thefts, vehicle_thefts$LocationDescription==\"STREET\" | \n",
    "                               vehicle_thefts$LocationDescription==\"PARKING LOT/GARAGE(NON.RESID.)\" | \n",
    "                               vehicle_thefts$LocationDescription==\"ALLEY\" | \n",
    "                               vehicle_thefts$LocationDescription==\"DRIVEWAY - RESIDENTIAL\" | \n",
    "                               vehicle_thefts$LocationDescription==\"GAS STATION\")\n",
    "\n",
    "\n",
    "str(Top5)"
   ]
  },
  {
   "cell_type": "markdown",
   "metadata": {},
   "source": [
    "Take a look at the number of levels of **LocationDescription**. Ideally the new dataframe `Top5` should contain only five locations STREET, PARKING LOT/GARAGE(NON.RESID.), ALLEY, DRIVEWAY - RESIDENTIAL and GAS STATION. But str() says **LocationDescription** has 78 levels.\n",
    "\n",
    "So whats going on here..."
   ]
  },
  {
   "cell_type": "code",
   "execution_count": null,
   "metadata": {
    "collapsed": false
   },
   "outputs": [],
   "source": [
    "# R will remember the other categories of the LocationDescription variable from the original dataset 'vehicle_thefts'. \n",
    "# Therefore update the LocationDescription of Top5 dataframe according to new data. If you forget to update the \n",
    "# LocationDescription the Top5$LocationDescription will contain all 78 levels that you find in vehicle_thefts$LocationDescription.\n",
    "Top5$LocationDescription = factor(Top5$LocationDescription)\n",
    "\n",
    "str(Top5)"
   ]
  },
  {
   "cell_type": "code",
   "execution_count": null,
   "metadata": {
    "collapsed": false
   },
   "outputs": [],
   "source": [
    "# What is the probability that an arrest is made and the place is street.\n",
    "with(Top5,table(LocationDescription, Arrest))"
   ]
  },
  {
   "cell_type": "code",
   "execution_count": null,
   "metadata": {
    "collapsed": false
   },
   "outputs": [],
   "source": [
    "# P(arrest|LocationDescription==\"street\") = P( Arrest& street)/P(street)\n",
    "\n",
    "# P( Arrest being made & location is 'street') = 11595\n",
    "# P(street) = 11595 + 144969 \n",
    "(11595)/(144969+11595)"
   ]
  },
  {
   "cell_type": "code",
   "execution_count": null,
   "metadata": {
    "collapsed": false
   },
   "outputs": [],
   "source": [
    "# What is the probability that an arrest did not happen and weekday is monday\n",
    "with(Top5,table(Weekday, Arrest))"
   ]
  },
  {
   "cell_type": "code",
   "execution_count": null,
   "metadata": {
    "collapsed": false
   },
   "outputs": [],
   "source": [
    "# P(!Arrest|Weekday==\"monday\") = P( !Arrest& Weekday)/P(Weekday)\n",
    "\n",
    "# P( Arrest didn't happen & Weekday is 'monday') = 23334\n",
    "# P(Weekday  is 'monday') = 23334+1954\n",
    "23334/(23334+1954)"
   ]
  }
 ],
 "metadata": {
  "kernelspec": {
   "display_name": "R",
   "language": "R",
   "name": "ir"
  },
  "language_info": {
   "codemirror_mode": "r",
   "file_extension": ".r",
   "mimetype": "text/x-r-source",
   "name": "R",
   "pygments_lexer": "r",
   "version": "3.3.1"
  }
 },
 "nbformat": 4,
 "nbformat_minor": 0
}
