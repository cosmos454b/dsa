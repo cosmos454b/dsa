{
 "cells": [
  {
   "cell_type": "markdown",
   "metadata": {
    "collapsed": true
   },
   "source": [
    "# Conditional Probability\n",
    "\n",
    "In this lab notebook We will be looking into Independent and dependent events, concepts of conditional probablity, permutations and combinations. \n",
    "\n",
    "Independent and Dependent events follow from their names. Independent events are those whose occurence is wholly independent of another event; or at least the events we are calculating probabilities for. Dependent events exist in a space where the likliehood of one event depends on or is influenced by the occurence of the other. We express this below mathematically. \n",
    "\n",
    "Conditional probability is the probability of seeing some event knowing that some other event has actually occurred. For example, Weather forecasting is based on conditional probabilities. When the forecast says that there is a 30% chance of rain, that probability is based on all the information that the meteorologists know up until that point.\n",
    "\n",
    "Lets look into what independent and dependent events are. **Reference: ** [Elementary Probability and the prob Package](https://cran.r-project.org/web/packages/prob/vignettes/prob.pdf)"
   ]
  },
  {
   "cell_type": "markdown",
   "metadata": {},
   "source": [
    "### Independent and Dependent Events\n",
    "\n",
    "\n",
    "**Independent: ** Events A and B are said to be independent if\n",
    "\n",
    "            (A ∩ B) = (A).(B)\n",
    "\n",
    "Otherwise, the events are said to be **dependent**.\n",
    "    \n",
    "                                                   P(A ∩ B)     P(A).P(B)\n",
    "          when P(B) > 0  we can write,    P(A|B) = --------  =  --------- = P(A)\n",
    "                                                     P(B)          P(B)\n",
    "                                                     \n",
    "\n",
    "When A and B are independent, the numerator of the fraction factors so that (B) cancels with the result:\n",
    " \n",
    "            P(A|B) = P(A) when A, B are independent\n",
    "\n",
    "\n",
    "\n",
    "    Lets consider the example of tossing ten coins to illustrate the nature of independent events. So, what is the probability of observing at least one Head? \n",
    "\n",
    "Considering we are tossing the coins in such a way, that they do not interfere with each other i'e they are independent events. \n",
    "\n",
    "The only way there will not be at least one Head is if all tosses are Tails. Therefore,\n",
    "         \n",
    "         P(at least one H) = 1 − P(all T),\n",
    "\n",
    "\n",
    "                             1 - (1/2)^10"
   ]
  },
  {
   "cell_type": "code",
   "execution_count": 8,
   "metadata": {
    "collapsed": false
   },
   "outputs": [
    {
     "data": {
      "text/html": [
       "0.9990234375"
      ],
      "text/latex": [
       "0.9990234375"
      ],
      "text/markdown": [
       "0.9990234375"
      ],
      "text/plain": [
       "[1] 0.9990234"
      ]
     },
     "metadata": {},
     "output_type": "display_data"
    }
   ],
   "source": [
    "#Lets try to do the same thing in R\n",
    "library(prob)\n",
    "Space <- tosscoin(10, makespace = TRUE)\n",
    "\n",
    "#The isrep function in the prob package, will test each row of Space to see whether the value T appears 10 times ans returns \n",
    "#true or false for each row it checks. The subset function is logical, so makes a subset with the rows which are true.\n",
    "A <- subset(Space, isrep(Space, vals = \"T\", nrep = 10))\n",
    "1 - Prob(A)"
   ]
  },
  {
   "cell_type": "markdown",
   "metadata": {},
   "source": [
    "#### Repeated Experiments with Independent Events\n",
    "\n",
    "Experiments are repeated when we want to discern the probability of two events occuring more reliably. Often, a single experiment does not yield sufficient data. Therefore, it is common to repeat a certain experiment multiple times under identical conditions and in an independent manner. Experiments like tossing a coin repeatedly, rolling a die or dice, etc are repreated experiments.\n",
    "\n",
    "The iidspace function in the \"prob\" Library in R (note \"*library(prob)* in the code above) implements repeated experiments. It takes three arguments: x, which is a vector of outcomes, ntrials, which is an integer telling how many times to repeat the experiment, and probs to specify the probabilities of the outcomes of x in a single trial."
   ]
  },
  {
   "cell_type": "code",
   "execution_count": 9,
   "metadata": {
    "collapsed": false
   },
   "outputs": [
    {
     "data": {
      "text/html": [
       "<table>\n",
       "<thead><tr><th scope=col>X1</th><th scope=col>X2</th><th scope=col>X3</th><th scope=col>probs</th></tr></thead>\n",
       "<tbody>\n",
       "\t<tr><td>H    </td><td>H    </td><td>H    </td><td>0.125</td></tr>\n",
       "\t<tr><td>T    </td><td>H    </td><td>H    </td><td>0.125</td></tr>\n",
       "\t<tr><td>H    </td><td>T    </td><td>H    </td><td>0.125</td></tr>\n",
       "\t<tr><td>T    </td><td>T    </td><td>H    </td><td>0.125</td></tr>\n",
       "\t<tr><td>H    </td><td>H    </td><td>T    </td><td>0.125</td></tr>\n",
       "\t<tr><td>T    </td><td>H    </td><td>T    </td><td>0.125</td></tr>\n",
       "\t<tr><td>H    </td><td>T    </td><td>T    </td><td>0.125</td></tr>\n",
       "\t<tr><td>T    </td><td>T    </td><td>T    </td><td>0.125</td></tr>\n",
       "</tbody>\n",
       "</table>\n"
      ],
      "text/latex": [
       "\\begin{tabular}{r|llll}\n",
       " X1 & X2 & X3 & probs\\\\\n",
       "\\hline\n",
       "\t H     & H     & H     & 0.125\\\\\n",
       "\t T     & H     & H     & 0.125\\\\\n",
       "\t H     & T     & H     & 0.125\\\\\n",
       "\t T     & T     & H     & 0.125\\\\\n",
       "\t H     & H     & T     & 0.125\\\\\n",
       "\t T     & H     & T     & 0.125\\\\\n",
       "\t H     & T     & T     & 0.125\\\\\n",
       "\t T     & T     & T     & 0.125\\\\\n",
       "\\end{tabular}\n"
      ],
      "text/plain": [
       "  X1 X2 X3 probs\n",
       "1 H  H  H  0.125\n",
       "2 T  H  H  0.125\n",
       "3 H  T  H  0.125\n",
       "4 T  T  H  0.125\n",
       "5 H  H  T  0.125\n",
       "6 T  H  T  0.125\n",
       "7 H  T  T  0.125\n",
       "8 T  T  T  0.125"
      ]
     },
     "metadata": {},
     "output_type": "display_data"
    }
   ],
   "source": [
    "iidspace(c(\"H\",\"T\"), ntrials = 3, probs = c(0.5, 0.5))"
   ]
  },
  {
   "cell_type": "markdown",
   "metadata": {},
   "source": [
    "### Dependent Events / Conditional Probability"
   ]
  },
  {
   "cell_type": "markdown",
   "metadata": {},
   "source": [
    "Conditional probabilities only exist for dependent events. Consider why: If event's are independent, then their occurence probabilities cannot be expressed together in an equation. If events are *dependent*, then their probabilities can be expressed as one depending on the other; or in an expression of mutual dependence. \n",
    "\n",
    "Consider an example of drawing cards from a full deck of 52 standard playing cards as an example of *dependent events* and *conditional probablity*. Select two cards from the deck, in succession. \n",
    "\n",
    "    Let A = {first card drawn is an Ace} and B = {second card drawn is an Ace}. \n",
    "\n",
    "Since there are four Aces in the deck, it is natural to assign P(A) = 4/52. Lets unpack how this probability changes after the first card is played; because after the first card, there are only 51 cards remaining. \n",
    "\n",
    "Suppose we looked at the first card. What is the probability of B now? The answer depends on the value of the first card. If the first card is an Ace, then the probability that the second also is an Ace should be 3/51, but if the first card is not an Ace, then the probability that the second is an Ace should be 4/51. \n",
    "\n",
    "Mathematically, for these two situations we write\n",
    "    \n",
    "    P(B|A) = 3/51, P(A) = 4/52\n",
    "    \n",
    "    The probability of B being an Ace, if A was an Ace is 3/51. The probability of A being an Ace is 4/52, because no cards have been drawn yet. \n",
    "    \n",
    "Definition: The conditional probability of B given A, denoted P(B|A), is defined by\n",
    "    \n",
    "    \n",
    "              P(A ∩ B)\n",
    "    P(B|A) =  --------\n",
    "                P(A)\n",
    "                \n",
    "    P(A ∩ B) means that A & B intersect. They intersect if they are the same card (in this case, an Ace). \n",
    "    P(A) means the probabilty of A being an Ace\n",
    "    \n",
    "              P(A ∩ B)                                  3      4\n",
    "    P(B|A) =  -------- => P(A ∩ B) => P(B|A) * P(A) => --- *  --- => 0.0045\n",
    "                P(A)                                    51     52"
   ]
  },
  {
   "cell_type": "code",
   "execution_count": 10,
   "metadata": {
    "collapsed": false
   },
   "outputs": [
    {
     "data": {
      "text/html": [
       "0.00452488687782805"
      ],
      "text/latex": [
       "0.00452488687782805"
      ],
      "text/markdown": [
       "0.00452488687782805"
      ],
      "text/plain": [
       "[1] 0.004524887"
      ]
     },
     "metadata": {},
     "output_type": "display_data"
    }
   ],
   "source": [
    "(3/51)*(4/52)"
   ]
  },
  {
   "cell_type": "markdown",
   "metadata": {},
   "source": [
    "**Example: **Lets workout an example. Toss a six-sided die twice. The sample space consists of all ordered pairs (i, j)\n",
    "\n",
    "of the numbers 1, 2, . . . , 6, that is, S = {(1, 1), (1, 2), . . . ,(6, 6)}. \n",
    "\n",
    "Essentially, \"i\" is one die and \"j\" is another die. \n",
    "\n",
    "Let A = {outcomes match} and B = {sum of outcomes at least 8}."
   ]
  },
  {
   "cell_type": "code",
   "execution_count": 11,
   "metadata": {
    "collapsed": false
   },
   "outputs": [
    {
     "data": {
      "text/html": [
       "<table>\n",
       "<thead><tr><th scope=col>X1</th><th scope=col>X2</th><th scope=col>probs</th></tr></thead>\n",
       "<tbody>\n",
       "\t<tr><td>1         </td><td>1         </td><td>0.02777778</td></tr>\n",
       "\t<tr><td>2         </td><td>1         </td><td>0.02777778</td></tr>\n",
       "\t<tr><td>3         </td><td>1         </td><td>0.02777778</td></tr>\n",
       "\t<tr><td>4         </td><td>1         </td><td>0.02777778</td></tr>\n",
       "\t<tr><td>5         </td><td>1         </td><td>0.02777778</td></tr>\n",
       "\t<tr><td>6         </td><td>1         </td><td>0.02777778</td></tr>\n",
       "</tbody>\n",
       "</table>\n"
      ],
      "text/latex": [
       "\\begin{tabular}{r|lll}\n",
       " X1 & X2 & probs\\\\\n",
       "\\hline\n",
       "\t 1          & 1          & 0.02777778\\\\\n",
       "\t 2          & 1          & 0.02777778\\\\\n",
       "\t 3          & 1          & 0.02777778\\\\\n",
       "\t 4          & 1          & 0.02777778\\\\\n",
       "\t 5          & 1          & 0.02777778\\\\\n",
       "\t 6          & 1          & 0.02777778\\\\\n",
       "\\end{tabular}\n"
      ],
      "text/plain": [
       "  X1 X2 probs     \n",
       "1 1  1  0.02777778\n",
       "2 2  1  0.02777778\n",
       "3 3  1  0.02777778\n",
       "4 4  1  0.02777778\n",
       "5 5  1  0.02777778\n",
       "6 6  1  0.02777778"
      ]
     },
     "metadata": {},
     "output_type": "display_data"
    }
   ],
   "source": [
    "# The first thing to do is set up the probability space with the \n",
    "# rolldie function inside the prob library. \n",
    "# So, \"S\" is the probability space\n",
    "# \"rolldie\" is the function\n",
    "# 2 is the number of die\n",
    "# makespace is \"make the space? Yes or no?\"\n",
    "S <- rolldie(2, makespace = TRUE)\n",
    "#S contains all the all 36 possible outcomes {(1,1),(1,2)....(6,6)} with \n",
    "# each outcome having an identical probability of 0.02777778\n",
    "head(S)"
   ]
  },
  {
   "cell_type": "code",
   "execution_count": 12,
   "metadata": {
    "collapsed": false
   },
   "outputs": [
    {
     "data": {
      "text/html": [
       "<table>\n",
       "<thead><tr><th></th><th scope=col>X1</th><th scope=col>X2</th><th scope=col>probs</th></tr></thead>\n",
       "<tbody>\n",
       "\t<tr><th scope=row>1</th><td>1         </td><td>1         </td><td>0.02777778</td></tr>\n",
       "\t<tr><th scope=row>8</th><td>2         </td><td>2         </td><td>0.02777778</td></tr>\n",
       "\t<tr><th scope=row>15</th><td>3         </td><td>3         </td><td>0.02777778</td></tr>\n",
       "\t<tr><th scope=row>22</th><td>4         </td><td>4         </td><td>0.02777778</td></tr>\n",
       "\t<tr><th scope=row>29</th><td>5         </td><td>5         </td><td>0.02777778</td></tr>\n",
       "\t<tr><th scope=row>36</th><td>6         </td><td>6         </td><td>0.02777778</td></tr>\n",
       "</tbody>\n",
       "</table>\n"
      ],
      "text/latex": [
       "\\begin{tabular}{r|lll}\n",
       "  & X1 & X2 & probs\\\\\n",
       "\\hline\n",
       "\t1 & 1          & 1          & 0.02777778\\\\\n",
       "\t8 & 2          & 2          & 0.02777778\\\\\n",
       "\t15 & 3          & 3          & 0.02777778\\\\\n",
       "\t22 & 4          & 4          & 0.02777778\\\\\n",
       "\t29 & 5          & 5          & 0.02777778\\\\\n",
       "\t36 & 6          & 6          & 0.02777778\\\\\n",
       "\\end{tabular}\n"
      ],
      "text/plain": [
       "   X1 X2 probs     \n",
       "1  1  1  0.02777778\n",
       "8  2  2  0.02777778\n",
       "15 3  3  0.02777778\n",
       "22 4  4  0.02777778\n",
       "29 5  5  0.02777778\n",
       "36 6  6  0.02777778"
      ]
     },
     "metadata": {},
     "output_type": "display_data"
    }
   ],
   "source": [
    "# Subsetting sample space S, for outcomes matching event A(outcomes match). \n",
    "# This results in a set where both die are the same (i & j are the same)\n",
    "A <- subset(S, X1 == X2)\n",
    "A"
   ]
  },
  {
   "cell_type": "code",
   "execution_count": 13,
   "metadata": {
    "collapsed": false
   },
   "outputs": [
    {
     "data": {
      "text/html": [
       "<table>\n",
       "<thead><tr><th></th><th scope=col>X1</th><th scope=col>X2</th><th scope=col>probs</th></tr></thead>\n",
       "<tbody>\n",
       "\t<tr><th scope=row>12</th><td>6         </td><td>2         </td><td>0.02777778</td></tr>\n",
       "\t<tr><th scope=row>17</th><td>5         </td><td>3         </td><td>0.02777778</td></tr>\n",
       "\t<tr><th scope=row>18</th><td>6         </td><td>3         </td><td>0.02777778</td></tr>\n",
       "\t<tr><th scope=row>22</th><td>4         </td><td>4         </td><td>0.02777778</td></tr>\n",
       "\t<tr><th scope=row>23</th><td>5         </td><td>4         </td><td>0.02777778</td></tr>\n",
       "\t<tr><th scope=row>24</th><td>6         </td><td>4         </td><td>0.02777778</td></tr>\n",
       "\t<tr><th scope=row>27</th><td>3         </td><td>5         </td><td>0.02777778</td></tr>\n",
       "\t<tr><th scope=row>28</th><td>4         </td><td>5         </td><td>0.02777778</td></tr>\n",
       "\t<tr><th scope=row>29</th><td>5         </td><td>5         </td><td>0.02777778</td></tr>\n",
       "\t<tr><th scope=row>30</th><td>6         </td><td>5         </td><td>0.02777778</td></tr>\n",
       "\t<tr><th scope=row>32</th><td>2         </td><td>6         </td><td>0.02777778</td></tr>\n",
       "\t<tr><th scope=row>33</th><td>3         </td><td>6         </td><td>0.02777778</td></tr>\n",
       "\t<tr><th scope=row>34</th><td>4         </td><td>6         </td><td>0.02777778</td></tr>\n",
       "\t<tr><th scope=row>35</th><td>5         </td><td>6         </td><td>0.02777778</td></tr>\n",
       "\t<tr><th scope=row>36</th><td>6         </td><td>6         </td><td>0.02777778</td></tr>\n",
       "</tbody>\n",
       "</table>\n"
      ],
      "text/latex": [
       "\\begin{tabular}{r|lll}\n",
       "  & X1 & X2 & probs\\\\\n",
       "\\hline\n",
       "\t12 & 6          & 2          & 0.02777778\\\\\n",
       "\t17 & 5          & 3          & 0.02777778\\\\\n",
       "\t18 & 6          & 3          & 0.02777778\\\\\n",
       "\t22 & 4          & 4          & 0.02777778\\\\\n",
       "\t23 & 5          & 4          & 0.02777778\\\\\n",
       "\t24 & 6          & 4          & 0.02777778\\\\\n",
       "\t27 & 3          & 5          & 0.02777778\\\\\n",
       "\t28 & 4          & 5          & 0.02777778\\\\\n",
       "\t29 & 5          & 5          & 0.02777778\\\\\n",
       "\t30 & 6          & 5          & 0.02777778\\\\\n",
       "\t32 & 2          & 6          & 0.02777778\\\\\n",
       "\t33 & 3          & 6          & 0.02777778\\\\\n",
       "\t34 & 4          & 6          & 0.02777778\\\\\n",
       "\t35 & 5          & 6          & 0.02777778\\\\\n",
       "\t36 & 6          & 6          & 0.02777778\\\\\n",
       "\\end{tabular}\n"
      ],
      "text/plain": [
       "   X1 X2 probs     \n",
       "12 6  2  0.02777778\n",
       "17 5  3  0.02777778\n",
       "18 6  3  0.02777778\n",
       "22 4  4  0.02777778\n",
       "23 5  4  0.02777778\n",
       "24 6  4  0.02777778\n",
       "27 3  5  0.02777778\n",
       "28 4  5  0.02777778\n",
       "29 5  5  0.02777778\n",
       "30 6  5  0.02777778\n",
       "32 2  6  0.02777778\n",
       "33 3  6  0.02777778\n",
       "34 4  6  0.02777778\n",
       "35 5  6  0.02777778\n",
       "36 6  6  0.02777778"
      ]
     },
     "metadata": {},
     "output_type": "display_data"
    }
   ],
   "source": [
    "# Subsetting sample space S, \n",
    "# for outcomes matching event B(sum of outcomes at least 8). \n",
    "# The die total must be 8 or more\n",
    "B <- subset(S, X1 + X2 >= 8)\n",
    "B"
   ]
  },
  {
   "cell_type": "code",
   "execution_count": 14,
   "metadata": {
    "collapsed": false
   },
   "outputs": [
    {
     "data": {
      "text/html": [
       "<span style=white-space:pre-wrap>'P(A/B):  0.2'</span>"
      ],
      "text/latex": [
       "'P(A/B):  0.2'"
      ],
      "text/markdown": [
       "<span style=white-space:pre-wrap>'P(A/B):  0.2'</span>"
      ],
      "text/plain": [
       "[1] \"P(A/B):  0.2\""
      ]
     },
     "metadata": {},
     "output_type": "display_data"
    },
    {
     "data": {
      "text/html": [
       "<span style=white-space:pre-wrap>'P(B/A):  0.5'</span>"
      ],
      "text/latex": [
       "'P(B/A):  0.5'"
      ],
      "text/markdown": [
       "<span style=white-space:pre-wrap>'P(B/A):  0.5'</span>"
      ],
      "text/plain": [
       "[1] \"P(B/A):  0.5\""
      ]
     },
     "metadata": {},
     "output_type": "display_data"
    },
    {
     "data": {
      "text/html": [
       "<span style=white-space:pre-wrap>'P(A/B):  0.2'</span>"
      ],
      "text/latex": [
       "'P(A/B):  0.2'"
      ],
      "text/markdown": [
       "<span style=white-space:pre-wrap>'P(A/B):  0.2'</span>"
      ],
      "text/plain": [
       "[1] \"P(A/B):  0.2\""
      ]
     },
     "metadata": {},
     "output_type": "display_data"
    },
    {
     "data": {
      "text/html": [
       "<span style=white-space:pre-wrap>'P(B/A):  0.5'</span>"
      ],
      "text/latex": [
       "'P(B/A):  0.5'"
      ],
      "text/markdown": [
       "<span style=white-space:pre-wrap>'P(B/A):  0.5'</span>"
      ],
      "text/plain": [
       "[1] \"P(B/A):  0.5\""
      ]
     },
     "metadata": {},
     "output_type": "display_data"
    }
   ],
   "source": [
    "# When calculating conditional probability, we should use the \n",
    "# \"given\" argument of the prob function as shown below:\n",
    "# A is the event of getting same outcome {{1,1},{2,2}...{6,6}}\n",
    "# B is the event of getting the outcomes with sum of >=8 {{2,6},{3,6},{4,6},{5,6},{6,6},{3,5}...{6,6}}\n",
    "paste('P(A/B): ',Prob(A, given = B))\n",
    "\n",
    "paste('P(B/A): ',Prob(B, given = A))\n",
    "\n",
    "# Instead of defining events A and B you can directly do conditional probability, if we reference the original \n",
    "# probability space S as the first argument of the prob calculation as shown below:\n",
    "paste('P(A/B): ',Prob(S, X1==X2, given = (X1 + X2 >= 8) ))\n",
    "\n",
    "paste('P(B/A): ',Prob(S, X1+X2 >= 8, given = (X1==X2) ))"
   ]
  },
  {
   "cell_type": "markdown",
   "metadata": {},
   "source": [
    "The above examples shown are simple applications of conditional probability on a dice. `Prob` package can be extended to multivariate datasets where events can be defined on columns and supplied as arguments just like how dice events we created."
   ]
  },
  {
   "cell_type": "markdown",
   "metadata": {},
   "source": [
    "### Permutations and Combinations\n",
    "\n",
    "The main difference between combinations and permutations is, a combination does not take into account the order, whereas a permutation does.\n",
    "\n",
    "Consider a simple example from [mathisfun](http://www.mathsisfun.com/combinatorics/combinations-permutations.html). When we say \"My fruit salad is a **combination** of apples, grapes and bananas\", We are least bothered about what order the fruits are in. No matter in which order you mention the fruits, its the same fruit salad.\n",
    "\n",
    "But when we say \"You need the combination 123 to open the safe\". We care about the order of numbers here. No other combination will work to open the safe. It has to be exactly 1-2-3. This is a **permutation**.\n",
    "\n",
    "\t* When the order doesn't matter, it is a Combination.\n",
    "\t\n",
    "    * When the order does matter it is a Permutation.\n",
    "    \n",
    "\n",
    "There are many ways you can create permutations and combinations in R. We will be using combinat package for this. "
   ]
  },
  {
   "cell_type": "markdown",
   "metadata": {},
   "source": [
    "**combn():** combn() is used to generate combinations. Its usage is illustrated below. \n",
    "\n",
    "`Usage`\n",
    "\n",
    "    combn(x, m, fun=NULL, simplify=TRUE, ...)\n",
    "\n",
    "\n",
    "`Arguments`\n",
    "\n",
    "    x         vector source for combinations i'e the vector of elements used to generate the combinations \n",
    "    m         number of elements in each combination. If you specify 2 as input, combinations of size two are generated.\n",
    "    fun       function to be applied to each combination (may be null). It can be any function like sum(), mean() etc.\n",
    "    simplify  logical, if FALSE, returns a list, otherwise returns vector or array. \n",
    "    ...       args to fun\n",
    "\n",
    "It generates all combinations of the elements of x taken m at a time. In below code snippet, we have given an input of 4 to x and 2 to m. So the function has to return combinations of size 2 using the numbers {1,2,3,4} like {{1,2},{1,3}....}. \n",
    "\n",
    "If argument FUN is not NULL, applies a function given by the argument to each point. We will supply sum() as the function. If simplify is FALSE, returns a list; otherwise returns an array, typically a matrix. ... are passed unchanged to the FUN function, if specified."
   ]
  },
  {
   "cell_type": "code",
   "execution_count": 15,
   "metadata": {
    "collapsed": false
   },
   "outputs": [
    {
     "data": {
      "text/html": [
       "<table>\n",
       "<tbody>\n",
       "\t<tr><td>1</td><td>1</td><td>1</td><td>2</td><td>2</td><td>3</td></tr>\n",
       "\t<tr><td>2</td><td>3</td><td>4</td><td>3</td><td>4</td><td>4</td></tr>\n",
       "</tbody>\n",
       "</table>\n"
      ],
      "text/latex": [
       "\\begin{tabular}{llllll}\n",
       "\t 1 & 1 & 1 & 2 & 2 & 3\\\\\n",
       "\t 2 & 3 & 4 & 3 & 4 & 4\\\\\n",
       "\\end{tabular}\n"
      ],
      "text/markdown": [
       "1. 1\n",
       "2. 2\n",
       "3. 1\n",
       "4. 3\n",
       "5. 1\n",
       "6. 4\n",
       "7. 2\n",
       "8. 3\n",
       "9. 2\n",
       "10. 4\n",
       "11. 3\n",
       "12. 4\n",
       "\n",
       "\n"
      ],
      "text/plain": [
       "     [,1] [,2] [,3] [,4] [,5] [,6]\n",
       "[1,] 1    1    1    2    2    3   \n",
       "[2,] 2    3    4    3    4    4   "
      ]
     },
     "metadata": {},
     "output_type": "display_data"
    },
    {
     "name": "stdout",
     "output_type": "stream",
     "text": [
      "[1] \"sum of elements of each combination \"\n"
     ]
    },
    {
     "data": {
      "text/html": [
       "<ol class=list-inline>\n",
       "\t<li>3</li>\n",
       "\t<li>4</li>\n",
       "\t<li>5</li>\n",
       "\t<li>5</li>\n",
       "\t<li>6</li>\n",
       "\t<li>7</li>\n",
       "</ol>\n"
      ],
      "text/latex": [
       "\\begin{enumerate*}\n",
       "\\item 3\n",
       "\\item 4\n",
       "\\item 5\n",
       "\\item 5\n",
       "\\item 6\n",
       "\\item 7\n",
       "\\end{enumerate*}\n"
      ],
      "text/markdown": [
       "1. 3\n",
       "2. 4\n",
       "3. 5\n",
       "4. 5\n",
       "5. 6\n",
       "6. 7\n",
       "\n",
       "\n"
      ],
      "text/plain": [
       "[1] 3 4 5 5 6 7"
      ]
     },
     "metadata": {},
     "output_type": "display_data"
    }
   ],
   "source": [
    "library(combinat)\n",
    "#Generate different possible combinations of size 2 using numbers {1,2,3,4}\n",
    "combn(4, 2)\n",
    "\n",
    "print(\"sum of elements of each combination \")\n",
    "#Generate different possible combinations of size 2 using numbers {1,2,3,4} and return their sums.\n",
    "combn(4, 2,sum)"
   ]
  },
  {
   "cell_type": "markdown",
   "metadata": {},
   "source": [
    "**permn(): ** permn() is used to generate permutations. \n",
    "\n",
    "`Usage`\n",
    "\n",
    "    permn(x, fun=NULL, ...)\n",
    "        \n",
    "        \n",
    "`Arguments`\n",
    "\n",
    "    x    vector source for permutations i'e the vector of elements used to generate the permutations \n",
    "    fun  if non.null, applied at each perm\n",
    "\n",
    "Generates all permutations of the elements of x. In below example we have given 3 as input to generate permutations of size 3 like {{1,2,3},{1,3,2},{2,1,3}...} etc. If argument \"fun\" is not null, applies a function given by the argument to each point. "
   ]
  },
  {
   "cell_type": "code",
   "execution_count": 16,
   "metadata": {
    "collapsed": false
   },
   "outputs": [
    {
     "data": {
      "text/html": [
       "<ol>\n",
       "\t<li><ol class=list-inline>\n",
       "\t<li>1</li>\n",
       "\t<li>2</li>\n",
       "\t<li>3</li>\n",
       "</ol>\n",
       "</li>\n",
       "\t<li><ol class=list-inline>\n",
       "\t<li>1</li>\n",
       "\t<li>3</li>\n",
       "\t<li>2</li>\n",
       "</ol>\n",
       "</li>\n",
       "\t<li><ol class=list-inline>\n",
       "\t<li>3</li>\n",
       "\t<li>1</li>\n",
       "\t<li>2</li>\n",
       "</ol>\n",
       "</li>\n",
       "\t<li><ol class=list-inline>\n",
       "\t<li>3</li>\n",
       "\t<li>2</li>\n",
       "\t<li>1</li>\n",
       "</ol>\n",
       "</li>\n",
       "\t<li><ol class=list-inline>\n",
       "\t<li>2</li>\n",
       "\t<li>3</li>\n",
       "\t<li>1</li>\n",
       "</ol>\n",
       "</li>\n",
       "\t<li><ol class=list-inline>\n",
       "\t<li>2</li>\n",
       "\t<li>1</li>\n",
       "\t<li>3</li>\n",
       "</ol>\n",
       "</li>\n",
       "</ol>\n"
      ],
      "text/latex": [
       "\\begin{enumerate}\n",
       "\\item \\begin{enumerate*}\n",
       "\\item 1\n",
       "\\item 2\n",
       "\\item 3\n",
       "\\end{enumerate*}\n",
       "\n",
       "\\item \\begin{enumerate*}\n",
       "\\item 1\n",
       "\\item 3\n",
       "\\item 2\n",
       "\\end{enumerate*}\n",
       "\n",
       "\\item \\begin{enumerate*}\n",
       "\\item 3\n",
       "\\item 1\n",
       "\\item 2\n",
       "\\end{enumerate*}\n",
       "\n",
       "\\item \\begin{enumerate*}\n",
       "\\item 3\n",
       "\\item 2\n",
       "\\item 1\n",
       "\\end{enumerate*}\n",
       "\n",
       "\\item \\begin{enumerate*}\n",
       "\\item 2\n",
       "\\item 3\n",
       "\\item 1\n",
       "\\end{enumerate*}\n",
       "\n",
       "\\item \\begin{enumerate*}\n",
       "\\item 2\n",
       "\\item 1\n",
       "\\item 3\n",
       "\\end{enumerate*}\n",
       "\n",
       "\\end{enumerate}\n"
      ],
      "text/markdown": [
       "1. 1. 1\n",
       "2. 2\n",
       "3. 3\n",
       "\n",
       "\n",
       "\n",
       "2. 1. 1\n",
       "2. 3\n",
       "3. 2\n",
       "\n",
       "\n",
       "\n",
       "3. 1. 3\n",
       "2. 1\n",
       "3. 2\n",
       "\n",
       "\n",
       "\n",
       "4. 1. 3\n",
       "2. 2\n",
       "3. 1\n",
       "\n",
       "\n",
       "\n",
       "5. 1. 2\n",
       "2. 3\n",
       "3. 1\n",
       "\n",
       "\n",
       "\n",
       "6. 1. 2\n",
       "2. 1\n",
       "3. 3\n",
       "\n",
       "\n",
       "\n",
       "\n",
       "\n"
      ],
      "text/plain": [
       "[[1]]\n",
       "[1] 1 2 3\n",
       "\n",
       "[[2]]\n",
       "[1] 1 3 2\n",
       "\n",
       "[[3]]\n",
       "[1] 3 1 2\n",
       "\n",
       "[[4]]\n",
       "[1] 3 2 1\n",
       "\n",
       "[[5]]\n",
       "[1] 2 3 1\n",
       "\n",
       "[[6]]\n",
       "[1] 2 1 3\n"
      ]
     },
     "metadata": {},
     "output_type": "display_data"
    },
    {
     "data": {
      "text/html": [
       "<ol>\n",
       "\t<li>1</li>\n",
       "\t<li>1</li>\n",
       "\t<li>1</li>\n",
       "\t<li>1</li>\n",
       "\t<li>1</li>\n",
       "\t<li>1</li>\n",
       "</ol>\n"
      ],
      "text/latex": [
       "\\begin{enumerate}\n",
       "\\item 1\n",
       "\\item 1\n",
       "\\item 1\n",
       "\\item 1\n",
       "\\item 1\n",
       "\\item 1\n",
       "\\end{enumerate}\n"
      ],
      "text/markdown": [
       "1. 1\n",
       "2. 1\n",
       "3. 1\n",
       "4. 1\n",
       "5. 1\n",
       "6. 1\n",
       "\n",
       "\n"
      ],
      "text/plain": [
       "[[1]]\n",
       "[1] 1\n",
       "\n",
       "[[2]]\n",
       "[1] 1\n",
       "\n",
       "[[3]]\n",
       "[1] 1\n",
       "\n",
       "[[4]]\n",
       "[1] 1\n",
       "\n",
       "[[5]]\n",
       "[1] 1\n",
       "\n",
       "[[6]]\n",
       "[1] 1\n"
      ]
     },
     "metadata": {},
     "output_type": "display_data"
    }
   ],
   "source": [
    "#Generate different possible permutations using numbers (1,2,3)\n",
    "permn(3)\n",
    "\n",
    "#Generate different possible permutations using numbers (1,2,3) and return standard deviation of permutations.\n",
    "permn(3,sd)"
   ]
  },
  {
   "cell_type": "code",
   "execution_count": 17,
   "metadata": {
    "collapsed": false
   },
   "outputs": [
    {
     "data": {
      "text/html": [
       "6"
      ],
      "text/latex": [
       "6"
      ],
      "text/markdown": [
       "6"
      ],
      "text/plain": [
       "[1] 6"
      ]
     },
     "metadata": {},
     "output_type": "display_data"
    }
   ],
   "source": [
    "# You can find the number of permutations generated using length function. \n",
    "length(permn(3))"
   ]
  },
  {
   "cell_type": "markdown",
   "metadata": {},
   "source": [
    "### Extensions of probability to multivariate data\n",
    "\n",
    "We have seen how conditional probability has been applied on simple dice events. Lets continue our discussion to multivariate data. We will work with motor vehicle thefts dataset. The data is a combination of both factor and continuous variables. table() command is used extensively when dealing with conditional probability.\n",
    "\n",
    "Load the dataset into a dataframe called `vehicle_thefts`. Dataset is located in '/datasets/motor vehicle thefts/' directory. "
   ]
  },
  {
   "cell_type": "code",
   "execution_count": 18,
   "metadata": {
    "collapsed": false
   },
   "outputs": [
    {
     "data": {
      "text/html": [
       "<table>\n",
       "<thead><tr><th scope=col>ID</th><th scope=col>Date</th><th scope=col>LocationDescription</th><th scope=col>Arrest</th><th scope=col>Domestic</th><th scope=col>Beat</th><th scope=col>District</th><th scope=col>CommunityArea</th><th scope=col>Year</th><th scope=col>Latitude</th><th scope=col>Longitude</th></tr></thead>\n",
       "<tbody>\n",
       "\t<tr><td>8951354                      </td><td>12/31/2012 23:15             </td><td>STREET                       </td><td>FALSE                        </td><td>FALSE                        </td><td> 623                         </td><td> 6                           </td><td>69                           </td><td>2012                         </td><td>41.75628                     </td><td>-87.62164                    </td></tr>\n",
       "\t<tr><td>8951141                      </td><td>12/31/2012 22:00             </td><td>STREET                       </td><td>FALSE                        </td><td>FALSE                        </td><td>1213                         </td><td>12                           </td><td>24                           </td><td>2012                         </td><td>41.89879                     </td><td>-87.66130                    </td></tr>\n",
       "\t<tr><td>8952745                      </td><td>12/31/2012 22:00             </td><td>RESIDENTIAL YARD (FRONT/BACK)</td><td>FALSE                        </td><td>FALSE                        </td><td>1622                         </td><td>16                           </td><td>11                           </td><td>2012                         </td><td>41.96919                     </td><td>-87.76767                    </td></tr>\n",
       "\t<tr><td>8952223                      </td><td>12/31/2012 22:00             </td><td>STREET                       </td><td>FALSE                        </td><td>FALSE                        </td><td> 724                         </td><td> 7                           </td><td>67                           </td><td>2012                         </td><td>41.76933                     </td><td>-87.65773                    </td></tr>\n",
       "\t<tr><td>8951608                      </td><td>12/31/2012 21:30             </td><td>STREET                       </td><td>FALSE                        </td><td>FALSE                        </td><td> 211                         </td><td> 2                           </td><td>35                           </td><td>2012                         </td><td>41.83757                     </td><td>-87.62176                    </td></tr>\n",
       "\t<tr><td>8950793                      </td><td>12/31/2012 20:30             </td><td>STREET                       </td><td> TRUE                        </td><td>FALSE                        </td><td>2521                         </td><td>25                           </td><td>19                           </td><td>2012                         </td><td>41.92856                     </td><td>-87.75400                    </td></tr>\n",
       "</tbody>\n",
       "</table>\n"
      ],
      "text/latex": [
       "\\begin{tabular}{r|lllllllllll}\n",
       " ID & Date & LocationDescription & Arrest & Domestic & Beat & District & CommunityArea & Year & Latitude & Longitude\\\\\n",
       "\\hline\n",
       "\t 8951354                       & 12/31/2012 23:15              & STREET                        & FALSE                         & FALSE                         &  623                          &  6                            & 69                            & 2012                          & 41.75628                      & -87.62164                    \\\\\n",
       "\t 8951141                       & 12/31/2012 22:00              & STREET                        & FALSE                         & FALSE                         & 1213                          & 12                            & 24                            & 2012                          & 41.89879                      & -87.66130                    \\\\\n",
       "\t 8952745                       & 12/31/2012 22:00              & RESIDENTIAL YARD (FRONT/BACK) & FALSE                         & FALSE                         & 1622                          & 16                            & 11                            & 2012                          & 41.96919                      & -87.76767                    \\\\\n",
       "\t 8952223                       & 12/31/2012 22:00              & STREET                        & FALSE                         & FALSE                         &  724                          &  7                            & 67                            & 2012                          & 41.76933                      & -87.65773                    \\\\\n",
       "\t 8951608                       & 12/31/2012 21:30              & STREET                        & FALSE                         & FALSE                         &  211                          &  2                            & 35                            & 2012                          & 41.83757                      & -87.62176                    \\\\\n",
       "\t 8950793                       & 12/31/2012 20:30              & STREET                        &  TRUE                         & FALSE                         & 2521                          & 25                            & 19                            & 2012                          & 41.92856                      & -87.75400                    \\\\\n",
       "\\end{tabular}\n"
      ],
      "text/plain": [
       "  ID      Date             LocationDescription           Arrest Domestic Beat\n",
       "1 8951354 12/31/2012 23:15 STREET                        FALSE  FALSE     623\n",
       "2 8951141 12/31/2012 22:00 STREET                        FALSE  FALSE    1213\n",
       "3 8952745 12/31/2012 22:00 RESIDENTIAL YARD (FRONT/BACK) FALSE  FALSE    1622\n",
       "4 8952223 12/31/2012 22:00 STREET                        FALSE  FALSE     724\n",
       "5 8951608 12/31/2012 21:30 STREET                        FALSE  FALSE     211\n",
       "6 8950793 12/31/2012 20:30 STREET                         TRUE  FALSE    2521\n",
       "  District CommunityArea Year Latitude Longitude\n",
       "1  6       69            2012 41.75628 -87.62164\n",
       "2 12       24            2012 41.89879 -87.66130\n",
       "3 16       11            2012 41.96919 -87.76767\n",
       "4  7       67            2012 41.76933 -87.65773\n",
       "5  2       35            2012 41.83757 -87.62176\n",
       "6 25       19            2012 41.92856 -87.75400"
      ]
     },
     "metadata": {},
     "output_type": "display_data"
    }
   ],
   "source": [
    "vehicle_thefts <- read.csv(\"../../../datasets/motor vehicle thefts/mvt.csv\",header=TRUE)\n",
    "head(vehicle_thefts)"
   ]
  },
  {
   "cell_type": "code",
   "execution_count": 19,
   "metadata": {
    "collapsed": false
   },
   "outputs": [],
   "source": [
    "# Extract month, weekday,hour etc values from a date variable. Convert the format of date variable into a standard format so that day, month,\n",
    "#year etc values can be extrcated from a date.\n",
    "\n",
    "# strptime converts between character representations which is the input date here and objects of classes \"POSIXlt\" and \n",
    "# \"POSIXct\" representing calendar dates and times.\n",
    "\n",
    "# Here date is a character vector input for strptime which is converted to \"POSIXlt\" object.\n",
    "DateConvert = strptime(vehicle_thefts$Date, \"%m/%d/%Y\")\n",
    "\n",
    "# Extract the month and the day of the week and add these variables to the data frame vehicle_thefts.\n",
    "# months() and weekdays() functions help you extract the values from a \"POSIXlt\" object\n",
    "vehicle_thefts$Month = months(DateConvert)\n",
    "vehicle_thefts$Weekday = weekdays(DateConvert)"
   ]
  },
  {
   "cell_type": "markdown",
   "metadata": {},
   "source": [
    "**Reference: ** [strptime()](http://rfunction.com/archives/1912)                \n",
    "**Reference: ** [format()](https://stat.ethz.ch/R-manual/R-devel/library/base/html/format.html)"
   ]
  },
  {
   "cell_type": "code",
   "execution_count": 22,
   "metadata": {
    "collapsed": false
   },
   "outputs": [
    {
     "data": {
      "text/html": [
       "<table>\n",
       "<thead><tr><th scope=col>ID</th><th scope=col>Date</th><th scope=col>LocationDescription</th><th scope=col>Arrest</th><th scope=col>Domestic</th><th scope=col>Beat</th><th scope=col>District</th><th scope=col>CommunityArea</th><th scope=col>Year</th><th scope=col>Latitude</th><th scope=col>Longitude</th><th scope=col>Month</th><th scope=col>Weekday</th></tr></thead>\n",
       "<tbody>\n",
       "\t<tr><td>8951354                      </td><td>12/31/2012 23:15             </td><td>STREET                       </td><td>FALSE                        </td><td>FALSE                        </td><td> 623                         </td><td> 6                           </td><td>69                           </td><td>2012                         </td><td>41.75628                     </td><td>-87.62164                    </td><td>December                     </td><td>Monday                       </td></tr>\n",
       "\t<tr><td>8951141                      </td><td>12/31/2012 22:00             </td><td>STREET                       </td><td>FALSE                        </td><td>FALSE                        </td><td>1213                         </td><td>12                           </td><td>24                           </td><td>2012                         </td><td>41.89879                     </td><td>-87.66130                    </td><td>December                     </td><td>Monday                       </td></tr>\n",
       "\t<tr><td>8952745                      </td><td>12/31/2012 22:00             </td><td>RESIDENTIAL YARD (FRONT/BACK)</td><td>FALSE                        </td><td>FALSE                        </td><td>1622                         </td><td>16                           </td><td>11                           </td><td>2012                         </td><td>41.96919                     </td><td>-87.76767                    </td><td>December                     </td><td>Monday                       </td></tr>\n",
       "\t<tr><td>8952223                      </td><td>12/31/2012 22:00             </td><td>STREET                       </td><td>FALSE                        </td><td>FALSE                        </td><td> 724                         </td><td> 7                           </td><td>67                           </td><td>2012                         </td><td>41.76933                     </td><td>-87.65773                    </td><td>December                     </td><td>Monday                       </td></tr>\n",
       "\t<tr><td>8951608                      </td><td>12/31/2012 21:30             </td><td>STREET                       </td><td>FALSE                        </td><td>FALSE                        </td><td> 211                         </td><td> 2                           </td><td>35                           </td><td>2012                         </td><td>41.83757                     </td><td>-87.62176                    </td><td>December                     </td><td>Monday                       </td></tr>\n",
       "\t<tr><td>8950793                      </td><td>12/31/2012 20:30             </td><td>STREET                       </td><td> TRUE                        </td><td>FALSE                        </td><td>2521                         </td><td>25                           </td><td>19                           </td><td>2012                         </td><td>41.92856                     </td><td>-87.75400                    </td><td>December                     </td><td>Monday                       </td></tr>\n",
       "</tbody>\n",
       "</table>\n"
      ],
      "text/latex": [
       "\\begin{tabular}{r|lllllllllllll}\n",
       " ID & Date & LocationDescription & Arrest & Domestic & Beat & District & CommunityArea & Year & Latitude & Longitude & Month & Weekday\\\\\n",
       "\\hline\n",
       "\t 8951354                       & 12/31/2012 23:15              & STREET                        & FALSE                         & FALSE                         &  623                          &  6                            & 69                            & 2012                          & 41.75628                      & -87.62164                     & December                      & Monday                       \\\\\n",
       "\t 8951141                       & 12/31/2012 22:00              & STREET                        & FALSE                         & FALSE                         & 1213                          & 12                            & 24                            & 2012                          & 41.89879                      & -87.66130                     & December                      & Monday                       \\\\\n",
       "\t 8952745                       & 12/31/2012 22:00              & RESIDENTIAL YARD (FRONT/BACK) & FALSE                         & FALSE                         & 1622                          & 16                            & 11                            & 2012                          & 41.96919                      & -87.76767                     & December                      & Monday                       \\\\\n",
       "\t 8952223                       & 12/31/2012 22:00              & STREET                        & FALSE                         & FALSE                         &  724                          &  7                            & 67                            & 2012                          & 41.76933                      & -87.65773                     & December                      & Monday                       \\\\\n",
       "\t 8951608                       & 12/31/2012 21:30              & STREET                        & FALSE                         & FALSE                         &  211                          &  2                            & 35                            & 2012                          & 41.83757                      & -87.62176                     & December                      & Monday                       \\\\\n",
       "\t 8950793                       & 12/31/2012 20:30              & STREET                        &  TRUE                         & FALSE                         & 2521                          & 25                            & 19                            & 2012                          & 41.92856                      & -87.75400                     & December                      & Monday                       \\\\\n",
       "\\end{tabular}\n"
      ],
      "text/plain": [
       "  ID      Date             LocationDescription           Arrest Domestic Beat\n",
       "1 8951354 12/31/2012 23:15 STREET                        FALSE  FALSE     623\n",
       "2 8951141 12/31/2012 22:00 STREET                        FALSE  FALSE    1213\n",
       "3 8952745 12/31/2012 22:00 RESIDENTIAL YARD (FRONT/BACK) FALSE  FALSE    1622\n",
       "4 8952223 12/31/2012 22:00 STREET                        FALSE  FALSE     724\n",
       "5 8951608 12/31/2012 21:30 STREET                        FALSE  FALSE     211\n",
       "6 8950793 12/31/2012 20:30 STREET                         TRUE  FALSE    2521\n",
       "  District CommunityArea Year Latitude Longitude Month    Weekday\n",
       "1  6       69            2012 41.75628 -87.62164 December Monday \n",
       "2 12       24            2012 41.89879 -87.66130 December Monday \n",
       "3 16       11            2012 41.96919 -87.76767 December Monday \n",
       "4  7       67            2012 41.76933 -87.65773 December Monday \n",
       "5  2       35            2012 41.83757 -87.62176 December Monday \n",
       "6 25       19            2012 41.92856 -87.75400 December Monday "
      ]
     },
     "metadata": {},
     "output_type": "display_data"
    }
   ],
   "source": [
    "head(vehicle_thefts)"
   ]
  },
  {
   "cell_type": "code",
   "execution_count": 23,
   "metadata": {
    "collapsed": false
   },
   "outputs": [
    {
     "data": {
      "text/plain": [
       "       Domestic\n",
       "Arrest   FALSE   TRUE\n",
       "  FALSE 175755    350\n",
       "  TRUE   15471     65"
      ]
     },
     "metadata": {},
     "output_type": "display_data"
    }
   ],
   "source": [
    "# What is the probability that an arrest has happened for domestic motor vehicle theft. \n",
    "\n",
    "# We have to find the distribution of thefts based on if its domestic or not. we will use a 2-way table to generate this \n",
    "# frequencies and use these frequencies to come up with probabilities.\n",
    "# with() is used to avoid refering to dataframe everytime we refer to one of its variables in table command. \n",
    "with(vehicle_thefts,table(Arrest,Domestic))"
   ]
  },
  {
   "cell_type": "code",
   "execution_count": 24,
   "metadata": {
    "collapsed": false
   },
   "outputs": [
    {
     "data": {
      "text/html": [
       "0.156626506024096"
      ],
      "text/latex": [
       "0.156626506024096"
      ],
      "text/markdown": [
       "0.156626506024096"
      ],
      "text/plain": [
       "[1] 0.1566265"
      ]
     },
     "metadata": {},
     "output_type": "display_data"
    }
   ],
   "source": [
    "# We are trying to find out probability of arrest being happened given the theft is Domestic type. \n",
    "# Mathematically it is represented as P(Arrest|Domestic) = P( Arrest & Domestic)/P(Domestic)\n",
    "\n",
    "# P( Arrest & Domestic) = 65. Look at above table for value where arrest is TRUE an ddomestic is TRUE\n",
    "# P(Domestic) = 350. Look for value where Domestic is true in above table.\n",
    "65/(350+65)"
   ]
  },
  {
   "cell_type": "markdown",
   "metadata": {},
   "source": [
    "**Reference: ** [with()](http://www.statmethods.net/stats/withby.html). \n",
    "\n",
    "You can use attach() function as an alternative to with(). attach() is used to make objects within dataframes accessible in R with fewer keystrokes. Once you attach the dataframe you can refer to its variable without referring to dataframe.\n",
    "\n",
    "**Reference: ** [attach()](https://www.r-bloggers.com/to-attach-or-not-attach-that-is-the-question/)"
   ]
  },
  {
   "cell_type": "code",
   "execution_count": 25,
   "metadata": {
    "collapsed": false
   },
   "outputs": [
    {
     "data": {
      "text/plain": [
       "       Year\n",
       "Arrest   2001  2002  2003  2004  2005  2006  2007  2008  2009  2010  2011  2012\n",
       "  FALSE 18517 16638 14859 15169 14956 14796 13068 13425 11327 14796 15012 13542\n",
       "  TRUE   2152  2115  1798  1693  1528  1302  1212  1020   840   701   625   550"
      ]
     },
     "metadata": {},
     "output_type": "display_data"
    }
   ],
   "source": [
    "# what is the probability that an arrest has been made for motor thefts in the year 2001\n",
    "with(vehicle_thefts,table(Arrest, Year))"
   ]
  },
  {
   "cell_type": "code",
   "execution_count": 26,
   "metadata": {
    "collapsed": false
   },
   "outputs": [
    {
     "data": {
      "text/html": [
       "0.10411727708162"
      ],
      "text/latex": [
       "0.10411727708162"
      ],
      "text/markdown": [
       "0.10411727708162"
      ],
      "text/plain": [
       "[1] 0.1041173"
      ]
     },
     "metadata": {},
     "output_type": "display_data"
    }
   ],
   "source": [
    "# P(Arrest|Year==2001) = P(Arrest & Year==2001)/P(Year==2001)\n",
    "\n",
    "# P(Arrest being made & Year==2001) = 2152\n",
    "# P(Year==2001) = 2152 + 18517\n",
    "2152/(2152+18517)"
   ]
  },
  {
   "cell_type": "code",
   "execution_count": 27,
   "metadata": {
    "collapsed": false
   },
   "outputs": [
    {
     "data": {
      "text/plain": [
       "\n",
       "    AIRPORT BUILDING NON-TERMINAL - SECURE AREA \n",
       "                                              1 \n",
       "                 AIRPORT EXTERIOR - SECURE AREA \n",
       "                                              1 \n",
       "                                ANIMAL HOSPITAL \n",
       "                                              1 \n",
       "                                APPLIANCE STORE \n",
       "                                              1 \n",
       "                                      CTA TRAIN \n",
       "                                              1 \n",
       "                        JAIL / LOCK-UP FACILITY \n",
       "                                              1 \n",
       "                                      NEWSSTAND \n",
       "                                              1 \n",
       "                                         BRIDGE \n",
       "                                              2 \n",
       "              COLLEGE/UNIVERSITY RESIDENCE HALL \n",
       "                                              2 \n",
       "                              CURRENCY EXCHANGE \n",
       "                                              2 \n",
       "                                  BOWLING ALLEY \n",
       "                                              3 \n",
       "                                 CLEANING STORE \n",
       "                                              3 \n",
       "                          MEDICAL/DENTAL OFFICE \n",
       "                                              3 \n",
       "                             ABANDONED BUILDING \n",
       "                                              4 \n",
       "AIRPORT BUILDING NON-TERMINAL - NON-SECURE AREA \n",
       "                                              4 \n",
       "                                     BARBERSHOP \n",
       "                                              4 \n",
       "                 LAKEFRONT/WATERFRONT/RIVERBANK \n",
       "                                              4 \n",
       "                                        LIBRARY \n",
       "                                              4 \n",
       "                               SAVINGS AND LOAN \n",
       "                                              4 \n",
       " AIRPORT TERMINAL UPPER LEVEL - NON-SECURE AREA \n",
       "                                              5 \n",
       "                                  CHA APARTMENT \n",
       "                                              5 \n",
       "                                DAY CARE CENTER \n",
       "                                              5 \n",
       "                                   FIRE STATION \n",
       "                                              5 \n",
       "                                FOREST PRESERVE \n",
       "                                              6 \n",
       "                                           BANK \n",
       "                                              7 \n",
       "                              CONVENIENCE STORE \n",
       "                                              7 \n",
       "                                     DRUG STORE \n",
       "                                              8 \n",
       "                OTHER COMMERCIAL TRANSPORTATION \n",
       "                                              8 \n",
       "                                  ATHLETIC CLUB \n",
       "                                              9 \n",
       "                  AIRPORT VENDING ESTABLISHMENT \n",
       "                                             10 \n",
       "                            AIRPORT PARKING LOT \n",
       "                                             11 \n",
       "                      SCHOOL, PRIVATE, BUILDING \n",
       "                                             14 \n",
       "                            TAVERN/LIQUOR STORE \n",
       "                                             14 \n",
       "                 FACTORY/MANUFACTURING BUILDING \n",
       "                                             16 \n",
       "                                  BAR OR TAVERN \n",
       "                                             17 \n",
       "                                      WAREHOUSE \n",
       "                                             17 \n",
       "                            MOVIE HOUSE/THEATER \n",
       "                                             18 \n",
       "                        RESIDENCE PORCH/HALLWAY \n",
       "                                             18 \n",
       "                   NURSING HOME/RETIREMENT HOME \n",
       "                                             21 \n",
       "                                        TAXICAB \n",
       "                                             21 \n",
       "                               DEPARTMENT STORE \n",
       "                                             22 \n",
       "                             HIGHWAY/EXPRESSWAY \n",
       "                                             22 \n",
       "                       SCHOOL, PRIVATE, GROUNDS \n",
       "                                             23 \n",
       "                             VEHICLE-COMMERCIAL \n",
       "                                             23 \n",
       "             AIRPORT EXTERIOR - NON-SECURE AREA \n",
       "                                             24 \n",
       "              OTHER RAILROAD PROP / TRAIN DEPOT \n",
       "                                             28 \n",
       "                             SMALL RETAIL STORE \n",
       "                                             33 \n",
       "                              CONSTRUCTION SITE \n",
       "                                             35 \n",
       "                                       CAR WASH \n",
       "                                             44 \n",
       "                     COLLEGE/UNIVERSITY GROUNDS \n",
       "                                             47 \n",
       "                   GOVERNMENT BUILDING/PROPERTY \n",
       "                                             48 \n",
       "                                     RESTAURANT \n",
       "                                             49 \n",
       "              CHURCH/SYNAGOGUE/PLACE OF WORSHIP \n",
       "                                             56 \n",
       "                             GROCERY FOOD STORE \n",
       "                                             80 \n",
       "                      HOSPITAL BUILDING/GROUNDS \n",
       "                                            101 \n",
       "                       SCHOOL, PUBLIC, BUILDING \n",
       "                                            114 \n",
       "                                    HOTEL/MOTEL \n",
       "                                            124 \n",
       "                   COMMERCIAL / BUSINESS OFFICE \n",
       "                                            126 \n",
       "                    CTA GARAGE / OTHER PROPERTY \n",
       "                                            148 \n",
       "                           SPORTS ARENA/STADIUM \n",
       "                                            166 \n",
       "                                      APARTMENT \n",
       "                                            184 \n",
       "                        SCHOOL, PUBLIC, GROUNDS \n",
       "                                            206 \n",
       "                                  PARK PROPERTY \n",
       "                                            255 \n",
       "                POLICE FACILITY/VEH PARKING LOT \n",
       "                                            266 \n",
       "                               AIRPORT/AIRCRAFT \n",
       "                                            363 \n",
       "                        CHA PARKING LOT/GROUNDS \n",
       "                                            405 \n",
       "                                       SIDEWALK \n",
       "                                            462 \n",
       "                         VEHICLE NON-COMMERCIAL \n",
       "                                            817 \n",
       "                                VACANT LOT/LAND \n",
       "                                            985 \n",
       "                               RESIDENCE-GARAGE \n",
       "                                           1176 \n",
       "                                      RESIDENCE \n",
       "                                           1302 \n",
       "                  RESIDENTIAL YARD (FRONT/BACK) \n",
       "                                           1536 \n",
       "                         DRIVEWAY - RESIDENTIAL \n",
       "                                           1675 \n",
       "                                    GAS STATION \n",
       "                                           2111 \n",
       "                                          ALLEY \n",
       "                                           2308 \n",
       "                                          OTHER \n",
       "                                           4573 \n",
       "                 PARKING LOT/GARAGE(NON.RESID.) \n",
       "                                          14852 \n",
       "                                         STREET \n",
       "                                         156564 "
      ]
     },
     "metadata": {},
     "output_type": "display_data"
    }
   ],
   "source": [
    "# There are different locations where the cars are being stolen from. Subset the data using top 5 locations in the order of \n",
    "#maximum number of thefts excluding the \"Other\" category.  Select bottom 5 of the following options.\n",
    "sort(table(vehicle_thefts$LocationDescription))"
   ]
  },
  {
   "cell_type": "code",
   "execution_count": 28,
   "metadata": {
    "collapsed": false
   },
   "outputs": [
    {
     "name": "stdout",
     "output_type": "stream",
     "text": [
      "'data.frame':\t177510 obs. of  13 variables:\n",
      " $ ID                 : int  8951354 8951141 8952223 8951608 8950793 8950760 8951611 8951802 8950706 8951585 ...\n",
      " $ Date               : Factor w/ 131679 levels \"1/1/2001 0:01\",..: 42824 42823 42823 42822 42821 42820 42819 42817 42816 42816 ...\n",
      " $ LocationDescription: Factor w/ 78 levels \"ABANDONED BUILDING\",..: 72 72 72 72 72 72 72 72 72 72 ...\n",
      " $ Arrest             : logi  FALSE FALSE FALSE FALSE TRUE FALSE ...\n",
      " $ Domestic           : logi  FALSE FALSE FALSE FALSE FALSE FALSE ...\n",
      " $ Beat               : int  623 1213 724 211 2521 423 231 1021 1215 1011 ...\n",
      " $ District           : int  6 12 7 2 25 4 2 10 12 10 ...\n",
      " $ CommunityArea      : int  69 24 67 35 19 48 40 29 24 29 ...\n",
      " $ Year               : int  2012 2012 2012 2012 2012 2012 2012 2012 2012 2012 ...\n",
      " $ Latitude           : num  41.8 41.9 41.8 41.8 41.9 ...\n",
      " $ Longitude          : num  -87.6 -87.7 -87.7 -87.6 -87.8 ...\n",
      " $ Month              : chr  \"December\" \"December\" \"December\" \"December\" ...\n",
      " $ Weekday            : chr  \"Monday\" \"Monday\" \"Monday\" \"Monday\" ...\n"
     ]
    }
   ],
   "source": [
    "# Create a subset of data, including observations for which the theft happened in one of the top five locations.  \n",
    "# Call this new data set \"Top5\".\n",
    "\n",
    "Top5 <- subset(vehicle_thefts, vehicle_thefts$LocationDescription==\"STREET\" | \n",
    "                               vehicle_thefts$LocationDescription==\"PARKING LOT/GARAGE(NON.RESID.)\" | \n",
    "                               vehicle_thefts$LocationDescription==\"ALLEY\" | \n",
    "                               vehicle_thefts$LocationDescription==\"DRIVEWAY - RESIDENTIAL\" | \n",
    "                               vehicle_thefts$LocationDescription==\"GAS STATION\")\n",
    "\n",
    "\n",
    "str(Top5)"
   ]
  },
  {
   "cell_type": "markdown",
   "metadata": {},
   "source": [
    "Take a look at the number of levels of **LocationDescription**. Ideally the new dataframe `Top5` should contain only five locations STREET, PARKING LOT/GARAGE(NON.RESID.), ALLEY, DRIVEWAY - RESIDENTIAL and GAS STATION. But str() says **LocationDescription** has 78 levels.\n",
    "\n",
    "So whats going on here..."
   ]
  },
  {
   "cell_type": "code",
   "execution_count": 29,
   "metadata": {
    "collapsed": false
   },
   "outputs": [
    {
     "name": "stdout",
     "output_type": "stream",
     "text": [
      "'data.frame':\t177510 obs. of  13 variables:\n",
      " $ ID                 : int  8951354 8951141 8952223 8951608 8950793 8950760 8951611 8951802 8950706 8951585 ...\n",
      " $ Date               : Factor w/ 131679 levels \"1/1/2001 0:01\",..: 42824 42823 42823 42822 42821 42820 42819 42817 42816 42816 ...\n",
      " $ LocationDescription: Factor w/ 5 levels \"ALLEY\",\"DRIVEWAY - RESIDENTIAL\",..: 5 5 5 5 5 5 5 5 5 5 ...\n",
      " $ Arrest             : logi  FALSE FALSE FALSE FALSE TRUE FALSE ...\n",
      " $ Domestic           : logi  FALSE FALSE FALSE FALSE FALSE FALSE ...\n",
      " $ Beat               : int  623 1213 724 211 2521 423 231 1021 1215 1011 ...\n",
      " $ District           : int  6 12 7 2 25 4 2 10 12 10 ...\n",
      " $ CommunityArea      : int  69 24 67 35 19 48 40 29 24 29 ...\n",
      " $ Year               : int  2012 2012 2012 2012 2012 2012 2012 2012 2012 2012 ...\n",
      " $ Latitude           : num  41.8 41.9 41.8 41.8 41.9 ...\n",
      " $ Longitude          : num  -87.6 -87.7 -87.7 -87.6 -87.8 ...\n",
      " $ Month              : chr  \"December\" \"December\" \"December\" \"December\" ...\n",
      " $ Weekday            : chr  \"Monday\" \"Monday\" \"Monday\" \"Monday\" ...\n"
     ]
    }
   ],
   "source": [
    "# R will remember the other categories of the LocationDescription variable from the original dataset 'vehicle_thefts'. \n",
    "# Therefore update the LocationDescription of Top5 dataframe according to new data. If you forget to update the \n",
    "# LocationDescription the Top5$LocationDescription will contain all 78 levels that you find in vehicle_thefts$LocationDescription.\n",
    "Top5$LocationDescription = factor(Top5$LocationDescription)\n",
    "\n",
    "str(Top5)"
   ]
  },
  {
   "cell_type": "code",
   "execution_count": 30,
   "metadata": {
    "collapsed": false
   },
   "outputs": [
    {
     "data": {
      "text/plain": [
       "                                Arrest\n",
       "LocationDescription               FALSE   TRUE\n",
       "  ALLEY                            2059    249\n",
       "  DRIVEWAY - RESIDENTIAL           1543    132\n",
       "  GAS STATION                      1672    439\n",
       "  PARKING LOT/GARAGE(NON.RESID.)  13249   1603\n",
       "  STREET                         144969  11595"
      ]
     },
     "metadata": {},
     "output_type": "display_data"
    }
   ],
   "source": [
    "# What is the probability that an arrest is made and the place is street.\n",
    "with(Top5,table(LocationDescription, Arrest))"
   ]
  },
  {
   "cell_type": "code",
   "execution_count": 31,
   "metadata": {
    "collapsed": false
   },
   "outputs": [
    {
     "data": {
      "text/html": [
       "0.0740591706905802"
      ],
      "text/latex": [
       "0.0740591706905802"
      ],
      "text/markdown": [
       "0.0740591706905802"
      ],
      "text/plain": [
       "[1] 0.07405917"
      ]
     },
     "metadata": {},
     "output_type": "display_data"
    }
   ],
   "source": [
    "# P(arrest|LocationDescription==\"street\") = P( Arrest& street)/P(street)\n",
    "\n",
    "# P( Arrest being made & location is 'street') = 11595\n",
    "# P(street) = 11595 + 144969 \n",
    "(11595)/(144969+11595)"
   ]
  },
  {
   "cell_type": "code",
   "execution_count": 32,
   "metadata": {
    "collapsed": false
   },
   "outputs": [
    {
     "data": {
      "text/plain": [
       "           Arrest\n",
       "Weekday     FALSE  TRUE\n",
       "  Friday    24929  2149\n",
       "  Monday    23334  1954\n",
       "  Saturday  23213  2042\n",
       "  Sunday    22421  2135\n",
       "  Thursday  23374  1864\n",
       "  Tuesday   22917  1880\n",
       "  Wednesday 23304  1994"
      ]
     },
     "metadata": {},
     "output_type": "display_data"
    }
   ],
   "source": [
    "# What is the probability that an arrest did not happen and weekday is monday\n",
    "with(Top5,table(Weekday, Arrest))"
   ]
  },
  {
   "cell_type": "code",
   "execution_count": null,
   "metadata": {
    "collapsed": false
   },
   "outputs": [],
   "source": [
    "# P(!Arrest|Weekday==\"monday\") = P( !Arrest& Weekday)/P(Weekday)\n",
    "\n",
    "# P( Arrest didn't happen & Weekday is 'monday') = 23334\n",
    "# P(Weekday  is 'monday') = 23334+1954\n",
    "23334/(23334+1954)"
   ]
  },
  {
   "cell_type": "code",
   "execution_count": null,
   "metadata": {
    "collapsed": true
   },
   "outputs": [],
   "source": []
  }
 ],
 "metadata": {
  "kernelspec": {
   "display_name": "R",
   "language": "R",
   "name": "ir"
  },
  "language_info": {
   "codemirror_mode": "r",
   "file_extension": ".r",
   "mimetype": "text/x-r-source",
   "name": "R",
   "pygments_lexer": "r",
   "version": "3.3.1"
  }
 },
 "nbformat": 4,
 "nbformat_minor": 0
}
