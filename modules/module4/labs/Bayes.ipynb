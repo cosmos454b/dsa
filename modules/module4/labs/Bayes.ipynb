{
 "cells": [
  {
   "cell_type": "markdown",
   "metadata": {
    "collapsed": true
   },
   "source": [
    "### Bayesian Statistics with conditional probability\n",
    "\n",
    "\n",
    "People rely on the collective intelligence of previous experiences to protect themselves or take better decisions in future like save themselves from eating bad food at the wrong restaurant or avoid stunning flops at the theater etc. \n",
    "\n",
    "We discussed conditional probability of an event as the probability obtained using additional information that some other event has already occurred. We used the following formula for finding P(B|A):\n",
    "\n",
    "                                             P(A ∩ B)  \n",
    "                                    P(B|A) = --------  \n",
    "                                               P(A)\n",
    "\n",
    "Where occurance of event B is dependent on event A.    \n",
    "\n",
    "In this notebook we extend the discussion of conditional probability to applications of Bayes' theorem (or Bayes' rule). Bayes ruke is used to updates the prior probabilities based on additional information that is obtained later. Bayes theorem deals with sequence of events where each occurance of a subsequent event provides new information that is used to revise the probability of the previous event. The terms prior probability and posterior probability are the commonly appearing terms in Bayes theorem discussion.\n",
    "\n",
    "**prior probability** is an initial probability value originally obtained before any additional information is obtained.\n",
    "\n",
    "**posterior probability** is a probability value that has been revised by using additional information that is later obtained."
   ]
  },
  {
   "cell_type": "markdown",
   "metadata": {},
   "source": [
    "### Bayes' Theorem\n",
    "\n",
    "The probability of event A, given that event B has subsequently occurred, is mathematically represented as below\n",
    "\n",
    "                                             P(A) * P(B/A)\n",
    "                        P(A/B) = -------------------------------------\n",
    "                                  [P(A) * P(B/A)] + [ P(A') * P(B/A')]\n",
    "                                  \n",
    "\n",
    "Consider an example of conducting cancer test. Tests detect things that don’t exist (false positive), and miss things that do exist (false negative). People often consider the test results directly, without considering the errors in the tests. Bayes’ theorem converts the results from a test into the real probability of the event. \n",
    "\n",
    "**Correct for measurement errors.** If you know the real probabilities and the chance of a false positive and false negative, you can correct for measurement errors.\n",
    "\n",
    "**Relate the actual probability to the measured test probability.** Bayes’ theorem lets you relate Pr(A|X), the chance that an event A happened given the indicator X, and Pr(X|A), the chance the indicator X happened given that event A occurred. Given mammogram test results and known error rates, you can predict the actual chance of having cancer.\n",
    "\n",
    "Bayes’ Theorem. It lets you take the test results and correct for the “skew” introduced by false positives. Consider the example of cancer test again to illustrate what Bayes formula is doing.\n",
    "\n",
    "Let 'A' be the event of person having cancer.\n",
    "Let 'X' be the event of positive test\n",
    "\n",
    "Pr(A|X) = Chance of having cancer (A) given a positive test (X). This is what we want to know: How likely is it to have cancer with a positive result?\n",
    "\n",
    "Pr(X|A) = Chance of a positive test (X) given that you had cancer (A). This is the chance of a true positive.\n",
    "\n",
    "Pr(A) = Chance of having cancer.\n",
    "\n",
    "Pr(not A) = Chance of not having cancer.\n",
    "\n",
    "Pr(X|not A) = Chance of a positive test (X) given that you didn’t have cancer (~A). This is a false positive.\n",
    "\n",
    "It all comes down to the chance of a true positive result divided by the chance of any positive result. We can simplify the equation to:\n",
    "\n",
    "                      P(X/A) * P(A)\n",
    "            P(A/X) = ---------------\n",
    "                          P(X)\n",
    "\n",
    "Pr(X) is a normalizing constant and helps scale our equation. Pr(X) tells us the chance of getting any positive result, whether it’s a real positive in the cancer population or a false positive in the non-cancer population. It’s a bit like a weighted average, and helps us compare against the overall chance of a positive result.\n",
    "\n",
    "Below example illustrates the formula. "
   ]
  },
  {
   "cell_type": "markdown",
   "metadata": {},
   "source": [
    "----\n",
    "`1. Consider an example:` In Boone County, 51% of the adults are males. One adult is randomly selected for a survey involving credit card usage. What is the prior probability that the selected person is a male."
   ]
  },
  {
   "cell_type": "markdown",
   "metadata": {},
   "source": [
    "**Solution: ** Its given that 51% of the adults in the county are males. Consider 'm' as an event of selecting an adult. Then the probability of randomly selecting an adult and getting a male is given by P(m) = 0.51"
   ]
  },
  {
   "cell_type": "markdown",
   "metadata": {},
   "source": [
    "`2. Consider another example:` It is later learned that the selected survey subject was smoking a cigar. Also, 9.5% of males smoke cigars, whereas 1.7% of females smoke cigars (based on data from the Substance Abuse and Mental Health Services Administration). Use this additional information to find the probability that the selected subject is a male."
   ]
  },
  {
   "cell_type": "markdown",
   "metadata": {},
   "source": [
    "**Solution: ** Based on the additional given information, we have the following:\n",
    "    \n",
    "    Let c denote the event that the adult smokes cigar\n",
    "        \n",
    "    c' is compliment event of c that represents adult not smoking a cigar\n",
    "        \n",
    "    P(m) = 0.51 because 51% of the adults are males\n",
    "    \n",
    "    P(m') = 0.49 because 49% of the adults are females (not males)\n",
    "    \n",
    "    P(c|m) = 0.095 because 9.5% of the males smoke cigars (That is, the probability of getting someone who smokes cigars, given              that the person is a male, is 0.095.)\n",
    "\n",
    "    P(c|m') = 0.017 because 1.7% of the females smoke cigars (That is, the probability of getting someone who smokes cigars,                  given that the person is a female, is 0.017)\n",
    "\n",
    "Applying Bayes' theorem which outlined above, we get the following result:\n",
    "\n",
    "                                               p(m) * p(c/m)\n",
    "                        P(m | c) = --------------------------------------\n",
    "                                    [p(m) * p(c/m)] + [ p(m') * p(c/m')]\n",
    "                                    \n",
    "                                 =         0.51 * 0.095\n",
    "                                   -------------------------------\n",
    "                                   (0.51 * 0.095) + (0.49 * 0.017)\n",
    "                                   \n",
    "                                 =  0.853\n",
    "                                "
   ]
  },
  {
   "cell_type": "markdown",
   "metadata": {},
   "source": [
    "Before we knew that the survey subject smoked a cigar, there is a 0.51 probability that the survey subject is male. But after realizing that the subject smoked a cigar, the probability is revised to 0.853. There is a 0.853 probability that the cigar−smoking respondent is a male. The likelihood of a male increased dramatically with the additional information that the subject smokes cigars."
   ]
  },
  {
   "cell_type": "markdown",
   "metadata": {},
   "source": [
    "Lets apply Bayes theorem on a multivariate dataset to find insights. Load the framingham data from the directory '/datasets/framingham' ... This data is from the Framingham Heart Study : https://www.framinghamheartstudy.org"
   ]
  },
  {
   "cell_type": "code",
   "execution_count": 3,
   "metadata": {
    "collapsed": false
   },
   "outputs": [
    {
     "data": {
      "text/html": [
       "<table>\n",
       "<thead><tr><th scope=col>male</th><th scope=col>age</th><th scope=col>education</th><th scope=col>currentSmoker</th><th scope=col>cigsPerDay</th><th scope=col>BPMeds</th><th scope=col>prevalentStroke</th><th scope=col>prevalentHyp</th><th scope=col>diabetes</th><th scope=col>totChol</th><th scope=col>sysBP</th><th scope=col>diaBP</th><th scope=col>BMI</th><th scope=col>heartRate</th><th scope=col>glucose</th><th scope=col>TenYearCHD</th></tr></thead>\n",
       "<tbody>\n",
       "\t<tr><td>1    </td><td>39   </td><td>4    </td><td>0    </td><td> 0   </td><td>0    </td><td>0    </td><td>0    </td><td>0    </td><td>195  </td><td>106.0</td><td> 70  </td><td>26.97</td><td>80   </td><td> 77  </td><td>0    </td></tr>\n",
       "\t<tr><td>0    </td><td>46   </td><td>2    </td><td>0    </td><td> 0   </td><td>0    </td><td>0    </td><td>0    </td><td>0    </td><td>250  </td><td>121.0</td><td> 81  </td><td>28.73</td><td>95   </td><td> 76  </td><td>0    </td></tr>\n",
       "\t<tr><td>1    </td><td>48   </td><td>1    </td><td>1    </td><td>20   </td><td>0    </td><td>0    </td><td>0    </td><td>0    </td><td>245  </td><td>127.5</td><td> 80  </td><td>25.34</td><td>75   </td><td> 70  </td><td>0    </td></tr>\n",
       "\t<tr><td>0    </td><td>61   </td><td>3    </td><td>1    </td><td>30   </td><td>0    </td><td>0    </td><td>1    </td><td>0    </td><td>225  </td><td>150.0</td><td> 95  </td><td>28.58</td><td>65   </td><td>103  </td><td>1    </td></tr>\n",
       "\t<tr><td>0    </td><td>46   </td><td>3    </td><td>1    </td><td>23   </td><td>0    </td><td>0    </td><td>0    </td><td>0    </td><td>285  </td><td>130.0</td><td> 84  </td><td>23.10</td><td>85   </td><td> 85  </td><td>0    </td></tr>\n",
       "\t<tr><td>0    </td><td>43   </td><td>2    </td><td>0    </td><td> 0   </td><td>0    </td><td>0    </td><td>1    </td><td>0    </td><td>228  </td><td>180.0</td><td>110  </td><td>30.30</td><td>77   </td><td> 99  </td><td>0    </td></tr>\n",
       "</tbody>\n",
       "</table>\n"
      ],
      "text/latex": [
       "\\begin{tabular}{r|llllllllllllllll}\n",
       " male & age & education & currentSmoker & cigsPerDay & BPMeds & prevalentStroke & prevalentHyp & diabetes & totChol & sysBP & diaBP & BMI & heartRate & glucose & TenYearCHD\\\\\n",
       "\\hline\n",
       "\t 1     & 39    & 4     & 0     &  0    & 0     & 0     & 0     & 0     & 195   & 106.0 &  70   & 26.97 & 80    &  77   & 0    \\\\\n",
       "\t 0     & 46    & 2     & 0     &  0    & 0     & 0     & 0     & 0     & 250   & 121.0 &  81   & 28.73 & 95    &  76   & 0    \\\\\n",
       "\t 1     & 48    & 1     & 1     & 20    & 0     & 0     & 0     & 0     & 245   & 127.5 &  80   & 25.34 & 75    &  70   & 0    \\\\\n",
       "\t 0     & 61    & 3     & 1     & 30    & 0     & 0     & 1     & 0     & 225   & 150.0 &  95   & 28.58 & 65    & 103   & 1    \\\\\n",
       "\t 0     & 46    & 3     & 1     & 23    & 0     & 0     & 0     & 0     & 285   & 130.0 &  84   & 23.10 & 85    &  85   & 0    \\\\\n",
       "\t 0     & 43    & 2     & 0     &  0    & 0     & 0     & 1     & 0     & 228   & 180.0 & 110   & 30.30 & 77    &  99   & 0    \\\\\n",
       "\\end{tabular}\n"
      ],
      "text/plain": [
       "  male age education currentSmoker cigsPerDay BPMeds prevalentStroke\n",
       "1 1    39  4         0              0         0      0              \n",
       "2 0    46  2         0              0         0      0              \n",
       "3 1    48  1         1             20         0      0              \n",
       "4 0    61  3         1             30         0      0              \n",
       "5 0    46  3         1             23         0      0              \n",
       "6 0    43  2         0              0         0      0              \n",
       "  prevalentHyp diabetes totChol sysBP diaBP BMI   heartRate glucose TenYearCHD\n",
       "1 0            0        195     106.0  70   26.97 80         77     0         \n",
       "2 0            0        250     121.0  81   28.73 95         76     0         \n",
       "3 0            0        245     127.5  80   25.34 75         70     0         \n",
       "4 1            0        225     150.0  95   28.58 65        103     1         \n",
       "5 0            0        285     130.0  84   23.10 85         85     0         \n",
       "6 1            0        228     180.0 110   30.30 77         99     0         "
      ]
     },
     "metadata": {},
     "output_type": "display_data"
    }
   ],
   "source": [
    "framingham_data <- read.csv(\"../../../datasets/framingham/framingham.csv\")\n",
    "head(framingham_data)"
   ]
  },
  {
   "cell_type": "code",
   "execution_count": 8,
   "metadata": {
    "collapsed": false
   },
   "outputs": [
    {
     "data": {
      "text/plain": [
       "             TenYearCHD\n",
       "currentSmoker    0    1\n",
       "            0 1834  311\n",
       "            1 1762  333"
      ]
     },
     "metadata": {},
     "output_type": "display_data"
    }
   ],
   "source": [
    "with(framingham_data,table(currentSmoker,TenYearCHD))"
   ]
  },
  {
   "cell_type": "markdown",
   "metadata": {},
   "source": [
    "**Question: ** What is the probability for a person to have coronary heart disease condition who is a smoker?\n",
    "\n",
    "According to the Bayes theorem formula, lets define events.\n",
    "\n",
    "**Solution **: Let c be an event of selecting a current smoker and c' be event of selecting a non current smoker\n",
    "\n",
    "d be the event of person having risk of coronory heart disease and d' be event of person not having risk of coronory heart disease\n",
    "\n",
    "                    p(d) * p(c/d)\n",
    "     p(d/c) =  -------------------------------------\n",
    "               [p(d) * p(c/d)] + [ p(d') * p(c/d')]\n",
    "            \n",
    "\n",
    "Pr(d|c) = Chance of having coronary heart disease (d) given a person is a smoker (c). This is what we want to know: How likely is it to have heart disease if person smokes? \n",
    "\n",
    "Pr(c|d) = Chance of a person being a smoker (c) given that he has coronary heart disease (d). This is the chance of a true positive 0.517\n",
    "\n",
    "Pr(d) = Chance of having coronary heart disease (311+333)/(1762+333+1834+311)  = 644/4240 = 0.15\n",
    "\n",
    "Pr(d') = Chance of not having coronary heart disease (1834+1762)/(1762+333+1834+311) = 3596/4240 = 0.85\n",
    "\n",
    "Pr(c|not d) = Chance of person being smoker (c) given that he doesn't have the disease (d'). This is a false positive 0.49\n",
    "\n",
    "p(c)  = (1762+333)/(1762+333+1834+311)  = 2095/4240 = 0.4941\n",
    "\n",
    "\n",
    "              P(c ∩ d)      333\n",
    "    p(c/d) =  --------   = ----- = 0.517\n",
    "                p(d)        644\n",
    "\n",
    "\n",
    "                P(c ∩ d')       1762\n",
    "    p(c/d') =  -----------   = ------ = 0.49\n",
    "                 p(d')          3596\n",
    "\n",
    "                         p(d) * p(c/d)               \n",
    "    p(d/c) =   ---------------------------------------\n",
    "                    [p(d) * p(c/d)] + [ p(d') * p(c/d')]\n",
    "\n",
    "\n",
    "                     0.15 * 0.517            \n",
    "           =   -----------------------------------\n",
    "                  (0.15 * 0.517) + (0.85 * 0.49)\n",
    "         \n",
    "           =    0.1569\n",
    "        \n",
    "\n",
    "Use simplified version of Bayes rule and compare the result.\n",
    "\n",
    "                                      p(d) * p(c/d)\n",
    "                        P(d/c)  =  -------------------\n",
    "                                         p(c)\n",
    "                                         \n",
    "                                     0.15 * 0.517\n",
    "                                =  ---------------\n",
    "                                         0.4941\n",
    "                                         \n",
    "                                =  0.1569"
   ]
  }
 ],
 "metadata": {
  "kernelspec": {
   "display_name": "R",
   "language": "R",
   "name": "ir"
  },
  "language_info": {
   "codemirror_mode": "r",
   "file_extension": ".r",
   "mimetype": "text/x-r-source",
   "name": "R",
   "pygments_lexer": "r",
   "version": "3.3.1"
  }
 },
 "nbformat": 4,
 "nbformat_minor": 1
}
