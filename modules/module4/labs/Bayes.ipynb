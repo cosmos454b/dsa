{
 "cells": [
  {
   "cell_type": "markdown",
   "metadata": {
    "collapsed": true
   },
   "source": [
    "### Bayesian Statistics with conditional probability\n",
    "\n",
    "\n",
    "People rely on the collective intelligence of previous experiences to protect themselves or take better decisions in future like save themselves from eating bad food at the wrong restaurant or avoid stunning flops at the theater etc. \n",
    "\n",
    "We discussed conditional probability of an event as the probability obtained using additional information that some other event has already occurred. We used the following formula for finding P(B|A):\n",
    "\n",
    "                                             P(A ∩ B)  \n",
    "                                    P(B|A) = --------  \n",
    "                                               P(A)\n",
    "\n",
    "Where occurance of event B is dependent on event A.    \n",
    "\n",
    "In this notebook we extend the discussion of conditional probability to applications of Bayes' theorem (or Bayes' rule). Bayes ruke is used to updates the prior probabilities based on additional information that is obtained later. Bayes theorem deals with sequence of events where each occurance of a subsequent event provides new information that is used to revise the probability of the previous event. The terms prior probability and posterior probability are the commonly appearing terms in Bayes theorem discussion.\n",
    "\n",
    "**prior probability** is an initial probability value originally obtained before any additional information is obtained.\n",
    "\n",
    "**posterior probability** is a probability value that has been revised by using additional information that is later obtained."
   ]
  },
  {
   "cell_type": "markdown",
   "metadata": {},
   "source": [
    "### Bayes' Theorem\n",
    "\n",
    "The probability of event A, given that event B has subsequently occurred, is mathematically represented as below\n",
    "\n",
    "                                             P(A) * P(B/A)\n",
    "                        P(A/B) = -------------------------------------\n",
    "                                  [P(A) * P(B/A)] + [ P(A') * P(B/A')]\n",
    "                                  \n",
    "\n",
    "Consider an example of conducting cancer test. Tests detect things that don’t exist (false positive), and miss things that do exist (false negative). People often consider the test results directly, without considering the errors in the tests. Bayes’ theorem converts the results from a test into the real probability of the event. \n",
    "\n",
    "**Correct for measurement errors.** If you know the real probabilities and the chance of a false positive and false negative, you can correct for measurement errors.\n",
    "\n",
    "**Relate the actual probability to the measured test probability.** Bayes’ theorem lets you relate Pr(A|X), the chance that an event A happened given the indicator X, and Pr(X|A), the chance the indicator X happened given that event A occurred. Given mammogram test results and known error rates, you can predict the actual chance of having cancer.\n",
    "\n",
    "Bayes’ Theorem. It lets you take the test results and correct for the “skew” introduced by false positives. Consider the example of cancer test again to illustrate what Bayes formula is doing.\n",
    "\n",
    "Let 'A' be the event of person having cancer.\n",
    "Let 'X' be the event of positive test\n",
    "\n",
    "Pr(A|X) = Chance of having cancer (A) given a positive test (X). This is what we want to know: How likely is it to have cancer with a positive result?\n",
    "\n",
    "Pr(X|A) = Chance of a positive test (X) given that you had cancer (A). This is the chance of a true positive.\n",
    "\n",
    "Pr(A) = Chance of having cancer.\n",
    "\n",
    "Pr(not A) = Chance of not having cancer.\n",
    "\n",
    "Pr(X|not A) = Chance of a positive test (X) given that you didn’t have cancer (~A). This is a false positive.\n",
    "\n",
    "It all comes down to the chance of a true positive result divided by the chance of any positive result. We can simplify the equation to:\n",
    "\n",
    "                      P(X/A) * P(A)\n",
    "            P(A/X) = ---------------\n",
    "                          P(X)\n",
    "\n",
    "Pr(X) is a normalizing constant and helps scale our equation. Pr(X) tells us the chance of getting any positive result, whether it’s a real positive in the cancer population or a false positive in the non-cancer population. It’s a bit like a weighted average, and helps us compare against the overall chance of a positive result.\n",
    "\n",
    "Below example illustrates the formula. "
   ]
  },
  {
   "cell_type": "markdown",
   "metadata": {},
   "source": [
    "----\n",
    "`1. Consider an example:` In Boone County, 51% of the adults are males. One adult is randomly selected for a survey involving credit card usage. What is the prior probability that the selected person is a male."
   ]
  },
  {
   "cell_type": "markdown",
   "metadata": {},
   "source": [
    "**Solution: ** Its given that 51% of the adults in the county are males. Consider 'm' as an event of selecting an adult. Then the probability of randomly selecting an adult and getting a male is given by P(m) = 0.51"
   ]
  },
  {
   "cell_type": "markdown",
   "metadata": {},
   "source": [
    "`2. Consider another example:` It is later learned that the selected survey subject was smoking a cigar. Also, 9.5% of males smoke cigars, whereas 1.7% of females smoke cigars (based on data from the Substance Abuse and Mental Health Services Administration). Use this additional information to find the probability that the selected subject is a male."
   ]
  },
  {
   "cell_type": "markdown",
   "metadata": {},
   "source": [
    "**Solution: ** Based on the additional given information, we have the following:\n",
    "    \n",
    "    Let c denote the event that the adult smokes cigar\n",
    "        \n",
    "    c' is compliment event of c that represents adult not smoking a cigar\n",
    "        \n",
    "    P(m) = 0.51 because 51% of the adults are males\n",
    "    \n",
    "    P(m') = 0.49 because 49% of the adults are females (not males)\n",
    "    \n",
    "    P(c|m) = 0.095 because 9.5% of the males smoke cigars (That is, the probability of getting someone who smokes cigars, given              that the person is a male, is 0.095.)\n",
    "\n",
    "    P(c|m') = 0.017 because 1.7% of the females smoke cigars (That is, the probability of getting someone who smokes cigars,                  given that the person is a female, is 0.017)\n",
    "\n",
    "Applying Bayes' theorem which outlined above, we get the following result:\n",
    "\n",
    "                                               p(m) * p(c/m)\n",
    "                        P(m | c) = --------------------------------------\n",
    "                                    [p(m) * p(c/m)] + [ p(m') * p(c/m')]\n",
    "                                    \n",
    "                                 =         0.51 * 0.095\n",
    "                                   -------------------------------\n",
    "                                   (0.51 * 0.095) + (0.49 * 0.017)\n",
    "                                   \n",
    "                                 =  0.853\n",
    "                                "
   ]
  },
  {
   "cell_type": "markdown",
   "metadata": {},
   "source": [
    "Before we knew that the survey subject smoked a cigar, there is a 0.51 probability that the survey subject is male. But after realizing that the subject smoked a cigar, the probability is revised to 0.853. There is a 0.853 probability that the cigar−smoking respondent is a male. The likelihood of a male increased dramatically with the additional information that the subject smokes cigars."
   ]
  },
  {
   "cell_type": "markdown",
   "metadata": {},
   "source": [
    "Lets apply Bayes theorem on a multivariate dataset to find insights. Load the framingham data from the directory '/datasets/framingham' ... This data is from the Framingham Heart Study : https://www.framinghamheartstudy.org"
   ]
  },
  {
   "cell_type": "code",
   "execution_count": 3,
   "metadata": {
    "collapsed": false
   },
   "outputs": [
    {
     "data": {
      "text/html": [
       "<table>\n",
       "<thead><tr><th scope=col>male</th><th scope=col>age</th><th scope=col>education</th><th scope=col>currentSmoker</th><th scope=col>cigsPerDay</th><th scope=col>BPMeds</th><th scope=col>prevalentStroke</th><th scope=col>prevalentHyp</th><th scope=col>diabetes</th><th scope=col>totChol</th><th scope=col>sysBP</th><th scope=col>diaBP</th><th scope=col>BMI</th><th scope=col>heartRate</th><th scope=col>glucose</th><th scope=col>TenYearCHD</th></tr></thead>\n",
       "<tbody>\n",
       "\t<tr><td>1    </td><td>39   </td><td>4    </td><td>0    </td><td> 0   </td><td>0    </td><td>0    </td><td>0    </td><td>0    </td><td>195  </td><td>106.0</td><td> 70  </td><td>26.97</td><td>80   </td><td> 77  </td><td>0    </td></tr>\n",
       "\t<tr><td>0    </td><td>46   </td><td>2    </td><td>0    </td><td> 0   </td><td>0    </td><td>0    </td><td>0    </td><td>0    </td><td>250  </td><td>121.0</td><td> 81  </td><td>28.73</td><td>95   </td><td> 76  </td><td>0    </td></tr>\n",
       "\t<tr><td>1    </td><td>48   </td><td>1    </td><td>1    </td><td>20   </td><td>0    </td><td>0    </td><td>0    </td><td>0    </td><td>245  </td><td>127.5</td><td> 80  </td><td>25.34</td><td>75   </td><td> 70  </td><td>0    </td></tr>\n",
       "\t<tr><td>0    </td><td>61   </td><td>3    </td><td>1    </td><td>30   </td><td>0    </td><td>0    </td><td>1    </td><td>0    </td><td>225  </td><td>150.0</td><td> 95  </td><td>28.58</td><td>65   </td><td>103  </td><td>1    </td></tr>\n",
       "\t<tr><td>0    </td><td>46   </td><td>3    </td><td>1    </td><td>23   </td><td>0    </td><td>0    </td><td>0    </td><td>0    </td><td>285  </td><td>130.0</td><td> 84  </td><td>23.10</td><td>85   </td><td> 85  </td><td>0    </td></tr>\n",
       "\t<tr><td>0    </td><td>43   </td><td>2    </td><td>0    </td><td> 0   </td><td>0    </td><td>0    </td><td>1    </td><td>0    </td><td>228  </td><td>180.0</td><td>110  </td><td>30.30</td><td>77   </td><td> 99  </td><td>0    </td></tr>\n",
       "</tbody>\n",
       "</table>\n"
      ],
      "text/latex": [
       "\\begin{tabular}{r|llllllllllllllll}\n",
       " male & age & education & currentSmoker & cigsPerDay & BPMeds & prevalentStroke & prevalentHyp & diabetes & totChol & sysBP & diaBP & BMI & heartRate & glucose & TenYearCHD\\\\\n",
       "\\hline\n",
       "\t 1     & 39    & 4     & 0     &  0    & 0     & 0     & 0     & 0     & 195   & 106.0 &  70   & 26.97 & 80    &  77   & 0    \\\\\n",
       "\t 0     & 46    & 2     & 0     &  0    & 0     & 0     & 0     & 0     & 250   & 121.0 &  81   & 28.73 & 95    &  76   & 0    \\\\\n",
       "\t 1     & 48    & 1     & 1     & 20    & 0     & 0     & 0     & 0     & 245   & 127.5 &  80   & 25.34 & 75    &  70   & 0    \\\\\n",
       "\t 0     & 61    & 3     & 1     & 30    & 0     & 0     & 1     & 0     & 225   & 150.0 &  95   & 28.58 & 65    & 103   & 1    \\\\\n",
       "\t 0     & 46    & 3     & 1     & 23    & 0     & 0     & 0     & 0     & 285   & 130.0 &  84   & 23.10 & 85    &  85   & 0    \\\\\n",
       "\t 0     & 43    & 2     & 0     &  0    & 0     & 0     & 1     & 0     & 228   & 180.0 & 110   & 30.30 & 77    &  99   & 0    \\\\\n",
       "\\end{tabular}\n"
      ],
      "text/plain": [
       "  male age education currentSmoker cigsPerDay BPMeds prevalentStroke\n",
       "1 1    39  4         0              0         0      0              \n",
       "2 0    46  2         0              0         0      0              \n",
       "3 1    48  1         1             20         0      0              \n",
       "4 0    61  3         1             30         0      0              \n",
       "5 0    46  3         1             23         0      0              \n",
       "6 0    43  2         0              0         0      0              \n",
       "  prevalentHyp diabetes totChol sysBP diaBP BMI   heartRate glucose TenYearCHD\n",
       "1 0            0        195     106.0  70   26.97 80         77     0         \n",
       "2 0            0        250     121.0  81   28.73 95         76     0         \n",
       "3 0            0        245     127.5  80   25.34 75         70     0         \n",
       "4 1            0        225     150.0  95   28.58 65        103     1         \n",
       "5 0            0        285     130.0  84   23.10 85         85     0         \n",
       "6 1            0        228     180.0 110   30.30 77         99     0         "
      ]
     },
     "metadata": {},
     "output_type": "display_data"
    }
   ],
   "source": [
    "framingham_data <- read.csv(\"../../../datasets/framingham/framingham.csv\")\n",
    "head(framingham_data)"
   ]
  },
  {
   "cell_type": "code",
   "execution_count": 8,
   "metadata": {
    "collapsed": false
   },
   "outputs": [
    {
     "data": {
      "text/plain": [
       "             TenYearCHD\n",
       "currentSmoker    0    1\n",
       "            0 1834  311\n",
       "            1 1762  333"
      ]
     },
     "metadata": {},
     "output_type": "display_data"
    }
   ],
   "source": [
    "with(framingham_data,table(currentSmoker,TenYearCHD))"
   ]
  },
  {
   "cell_type": "markdown",
   "metadata": {},
   "source": [
    "**Question: ** What is the probability for a person to have coronary heart disease condition who is a smoker?\n",
    "\n",
    "According to the Bayes theorem formula, lets define events.\n",
    "\n",
    "**Solution **: Let c be an event of selecting a current smoker and c' be event of selecting a non current smoker\n",
    "\n",
    "d be the event of person having risk of coronory heart disease and d' be event of person not having risk of coronory heart disease\n",
    "\n",
    "                    p(d) * p(c/d)\n",
    "     p(d/c) =  -------------------------------------\n",
    "               [p(d) * p(c/d)] + [ p(d') * p(c/d')]\n",
    "            \n",
    "\n",
    "Pr(d|c) = Chance of having coronary heart disease (d) given a person is a smoker (c). This is what we want to know: How likely is it to have heart disease if person smokes? \n",
    "\n",
    "Pr(c|d) = Chance of a person being a smoker (c) given that he has coronary heart disease (d). This is the chance of a true positive 0.517\n",
    "\n",
    "Pr(d) = Chance of having coronary heart disease (311+333)/(1762+333+1834+311)  = 644/4240 = 0.15\n",
    "\n",
    "Pr(d') = Chance of not having coronary heart disease (1834+1762)/(1762+333+1834+311) = 3596/4240 = 0.85\n",
    "\n",
    "Pr(c|not d) = Chance of person being smoker (c) given that he doesn't have the disease (d'). This is a false positive 0.49\n",
    "\n",
    "p(c)  = (1762+333)/(1762+333+1834+311)  = 2095/4240 = 0.4941\n",
    "\n",
    "\n",
    "              P(c ∩ d)      333\n",
    "    p(c/d) =  --------   = ----- = 0.517\n",
    "                p(d)        644\n",
    "\n",
    "\n",
    "                P(c ∩ d')       1762\n",
    "    p(c/d') =  -----------   = ------ = 0.49\n",
    "                 p(d')          3596\n",
    "\n",
    "                         p(d) * p(c/d)               \n",
    "    p(d/c) =   ---------------------------------------\n",
    "                    [p(d) * p(c/d)] + [ p(d') * p(c/d')]\n",
    "\n",
    "\n",
    "                     0.15 * 0.517            \n",
    "           =   -----------------------------------\n",
    "                  (0.15 * 0.517) + (0.85 * 0.49)\n",
    "         \n",
    "           =    0.1569\n",
    "        \n",
    "\n",
    "Use simplified version of Bayes rule and compare the result.\n",
    "\n",
    "                                      p(d) * p(c/d)\n",
    "                        P(d/c)  =  -------------------\n",
    "                                         p(c)\n",
    "                                         \n",
    "                                     0.15 * 0.517\n",
    "                                =  ---------------\n",
    "                                         0.4941\n",
    "                                         \n",
    "                                =  0.1569"
   ]
  },
  {
   "cell_type": "markdown",
   "metadata": {},
   "source": [
    "**Example from: ** [IPSUR](https://cran.r-project.org/web/packages/IPSUR/vignettes/IPSUR.pdf)\n",
    "\n",
    "**Misfiling Assistants problem.** In this problem, there are three assistants working at a company: Moe, Larry, and Curly. Their primary job duty is to file paperwork in the filing cabinet when papers become available. The three assistants have different work schedules:\n",
    "\n",
    "|        |Moe |Larry |Curly\n",
    "|--------|----|------|-----\n",
    "|Workload|60% |30%   |10%\n",
    "\n",
    "That is, Moe works 60% of the time, Larry works 30% of the time, and Curly does the remaining 10%, and they file documents at approximately the same speed. Suppose a person were to select one of the documents from the cabinet at random. \n",
    "\n",
    "Let M be the event, M = {Moe filed the document}  and \n",
    "\n",
    "let L and C be the events that Larry and Curly, respectively, filed the document. \n",
    "\n",
    "What are these events’ respective probabilities? In the absence of additional information, reasonable prior probabilities would just be\n",
    "\n",
    "|        |Moe        |Larry      |Curly|\n",
    "|--------|-----------|-----------|-----------|\n",
    "|Workload|P(M) = 60% |P(L) = 30% | P(C) = 10%|\n",
    "\n",
    "Now, the boss comes in one day, opens up the file cabinet, and selects a file at random. The boss discovers that the file has been misplaced. The boss is so angry at the mistake that (s)he threatens to fire the one who erred. The question is: who misplaced the file?\n",
    "\n",
    "The boss decides to use probability to decide, and walks straight to the workload schedule. (S)he reasons that, since the three employees work at the same speed, the probability that a randomly selected file would have been filed by each one would be proportional to his workload. The boss notifies Moe that he has until the end of the day to empty his desk. But Moe argues in his defense that the boss has ignored additional information. Moe’s likelihood of having misfiled a document is smaller than Larry’s and Curly’s, since he is a diligent worker who pays close attention to his work. Moe admits that he works longer than the others, but he doesn’t make as many mistakes as they do. Thus, Moe recommends that – before making a decision – the boss should update the probability (initially based on workload alone) to incorporate the likelihood of having observed a misfiled document.\n",
    "\n",
    "And, as it turns out, the boss has information about Moe, Larry, and Curly’s filing accuracy in the past (due to historical performance evaluations). The performance information may be represented by the following table:\n",
    "\n",
    "|        |Moe |Larry |Curly\n",
    "|--------|----|------|-----\n",
    "|Workload|0.003| 0.007| 0.010\n",
    "\n",
    "\n",
    "In other words, on the average, Moe misfiles 0.3% of the documents he is supposed to file. Notice that Moe was correct: he is the most accurate filer, followed by Larry, and lastly Curly. If the boss were to make a decision based only on the worker’s overall accuracy, then Curly should get the axe. But Curly hears this and interjects that he only works a short period during the day, and consequently makes mistakes only very rarely; there is only the tiniest chance that he misfiled this particular document.\n",
    "\n",
    "The boss would like to use this updated information to update the probabilities for the three assistants, that is, (s)he wants to use the additional likelihood that the document was misfiled to update his/her beliefs about the likely culprit. Let A be the event that a document is misfiled. What the boss would like to know are the three probabilities\n",
    "\n",
    "            P(M|A), P(L|A), and P(C|A)\n",
    "            \n",
    "We will show the calculation for P(M|A), the other two cases being similar. We use Bayes’ Rule in the form\n",
    "\n",
    "                  P(M ∩ A)        \n",
    "        P(M|A) = ----------\n",
    "                    P(A)\n",
    "                    \n",
    "Let’s try to find P(M ∩ A), which is just P(M) · P(A|M) by the Multiplication Rule. We already know P(M) = 0.6 and P(A|M) is nothing more than Moe’s misfile rate, given above to be P(A|M) = 0.003. Thus, we compute\n",
    "\n",
    "        P(M ∩ A) = (0.6)(0.003) = 0.0018.\n",
    "\n",
    "        P(L ∩ A) = 0.0021 and P(C ∩ A) = 0.0010.\n",
    "\n",
    "Using the theorem of Total Probability we can write P(A) = P(A ∩ M) + P(A ∩ L) + P(A ∩ C).\n",
    "\n",
    "        P(A) = 0.0018 + 0.0021 + 0.0010 = 0.0049\n",
    "        \n",
    "                                         0.0018\n",
    "    According to Bayes' rule,  P(M|A) = --------  \n",
    "                                         0.0049\n",
    "\n",
    "                                       = 0.37\n",
    "\n",
    "The above last quantity is called the posterior probability that Moe misfiled the document. We can use the same argument to calculate\n",
    "\n",
    "\n",
    "|        |Moe        |Larry      |Curly|\n",
    "|--------|-----------|-----------|-----------|\n",
    "|Workload|P(M/A) = 0.37| P(L/A) = 0.43| P(C/A) = 0.20\n",
    "\n",
    "The conclusion: Larry gets the axe. What is happening is an intricate interplay between the time on the job and the misfile rate. It is not obvious who the winner (or in this case, loser) will be, and the statistician needs to consult Bayes’ Rule to determine the best course of action."
   ]
  },
  {
   "cell_type": "markdown",
   "metadata": {},
   "source": [
    "Lets try to implement the same thing in R. All the math in above problem in dealt in 4 simple steps. "
   ]
  },
  {
   "cell_type": "code",
   "execution_count": 2,
   "metadata": {
    "collapsed": false
   },
   "outputs": [
    {
     "data": {
      "text/html": [
       "<ol class=list-inline>\n",
       "\t<li>0.36734693877551</li>\n",
       "\t<li>0.428571428571429</li>\n",
       "\t<li>0.204081632653061</li>\n",
       "</ol>\n"
      ],
      "text/latex": [
       "\\begin{enumerate*}\n",
       "\\item 0.36734693877551\n",
       "\\item 0.428571428571429\n",
       "\\item 0.204081632653061\n",
       "\\end{enumerate*}\n"
      ],
      "text/markdown": [
       "1. 0.36734693877551\n",
       "2. 0.428571428571429\n",
       "3. 0.204081632653061\n",
       "\n",
       "\n"
      ],
      "text/plain": [
       "[1] 0.3673469 0.4285714 0.2040816"
      ]
     },
     "metadata": {},
     "output_type": "display_data"
    }
   ],
   "source": [
    "# prior_probs are the prior probabilities we assumed as below. These are assumed based on their working duration as we dont \n",
    "# have any prior\n",
    "prior_probs <- c(0.6, 0.3, 0.1)\n",
    "\n",
    "# Information about Moe, Larry, and Curly’s past historical performance evaluations considered as likelihood for them \n",
    "# to commit the misfiling.\n",
    "like <- c(0.003, 0.007, 0.01)\n",
    "\n",
    "# Generate posterior probabilities based on prior probability and likelihood of each event.\n",
    "post <- prior_probs * like\n",
    "post/sum(post)"
   ]
  }
 ],
 "metadata": {
  "kernelspec": {
   "display_name": "R",
   "language": "R",
   "name": "ir"
  },
  "language_info": {
   "codemirror_mode": "r",
   "file_extension": ".r",
   "mimetype": "text/x-r-source",
   "name": "R",
   "pygments_lexer": "r",
   "version": "3.3.1"
  }
 },
 "nbformat": 4,
 "nbformat_minor": 1
}
