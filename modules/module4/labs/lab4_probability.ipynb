{
 "cells": [
  {
   "cell_type": "markdown",
   "metadata": {},
   "source": [
    "# Lab 4\n",
    "\n",
    "Welcome to the lab 4 of the course. We will be looking into concepts of probablity programmatically using `R`. Some of the exercises are from [Introduction to Probability and Statistics using R](https://cran.r-project.org/web/packages/IPSUR/vignettes/IPSUR.pdf) book"
   ]
  },
  {
   "cell_type": "markdown",
   "metadata": {},
   "source": [
    "We will introduce soem of the basic terminology associated with probability and its properties. We will discuss conditional probability, independent events and Bayes’ Theorem."
   ]
  },
  {
   "cell_type": "markdown",
   "metadata": {},
   "source": [
    "Probability in its simplest terms is about an experiment, a sample space and the possible outcomes of experiment. There are basically teo types of experiments, deterministic and random. In a deterministic experiment, the outcome may be predicted with certainty beforehand for example, adding two numbers such as 1 + 2. On otherhand, a random experiment is one whose outcome is determined by chance, for example tossing a coin, rolling a dice. We cant predict the outcome beforehand. \n",
    "\n",
    "Lets begin with dealing samples spaces in R: \n",
    "\n",
    "### Sample Space\n",
    "\n",
    "For a random experiment E, the set of all possible outcomes of E is called the sample space and is denoted by the letter S . For a coin-toss experiment, S would be the results “Head” and “Tail”,which we may represent by S = {H, T}."
   ]
  },
  {
   "cell_type": "code",
   "execution_count": 2,
   "metadata": {
    "collapsed": false
   },
   "outputs": [
    {
     "data": {
      "text/html": [
       "<table>\n",
       "<thead><tr><th scope=col>days</th></tr></thead>\n",
       "<tbody>\n",
       "\t<tr><td>sunday   </td></tr>\n",
       "\t<tr><td>monday   </td></tr>\n",
       "\t<tr><td>tuesday  </td></tr>\n",
       "\t<tr><td>wednesday</td></tr>\n",
       "\t<tr><td>thursday </td></tr>\n",
       "\t<tr><td>friday   </td></tr>\n",
       "\t<tr><td>saturday </td></tr>\n",
       "</tbody>\n",
       "</table>\n"
      ],
      "text/latex": [
       "\\begin{tabular}{r|l}\n",
       " days\\\\\n",
       "\\hline\n",
       "\t sunday   \\\\\n",
       "\t monday   \\\\\n",
       "\t tuesday  \\\\\n",
       "\t wednesday\\\\\n",
       "\t thursday \\\\\n",
       "\t friday   \\\\\n",
       "\t saturday \\\\\n",
       "\\end{tabular}\n"
      ],
      "text/plain": [
       "  days     \n",
       "1 sunday   \n",
       "2 monday   \n",
       "3 tuesday  \n",
       "4 wednesday\n",
       "5 thursday \n",
       "6 friday   \n",
       "7 saturday "
      ]
     },
     "metadata": {},
     "output_type": "display_data"
    }
   ],
   "source": [
    "#Lets Experiment of selecting days of a week, Then its sample space could be as following...\n",
    "S <- data.frame(days = c(\"sunday\", \"monday\", \"tuesday\",\"wednesday\",\"thursday\",\"friday\",\"saturday\"))\n",
    "S"
   ]
  },
  {
   "cell_type": "markdown",
   "metadata": {},
   "source": [
    "This is when you want to create sample space for your experiment. But some sample spaces are so common that there are some libraries which does all the work for you like the expand.grid function in base package, combn in the combinat package etc. we will use this libraries later in the module. \n",
    "\n",
    "Lets say you want to set up the sample space for coin toss experiment. The outcomes are H and T. We can set up the sample space using the tosscoin function as follows"
   ]
  },
  {
   "cell_type": "code",
   "execution_count": 3,
   "metadata": {
    "collapsed": false
   },
   "outputs": [
    {
     "ename": "ERROR",
     "evalue": "Error in library(prob): there is no package called ‘prob’\n",
     "output_type": "error",
     "traceback": [
      "Error in library(prob): there is no package called ‘prob’\nTraceback:\n",
      "1. library(prob)",
      "2. stop(txt, domain = NA)"
     ]
    }
   ],
   "source": [
    "library(prob)\n",
    "tosscoin(1) #In built function to generate sample space for coin toss experiment for one time. "
   ]
  },
  {
   "cell_type": "markdown",
   "metadata": {
    "collapsed": true
   },
   "source": [
    "The input 1 to tosscoin() above tells the function, we only want to toss the coin once. We can toss the any times we want."
   ]
  },
  {
   "cell_type": "code",
   "execution_count": null,
   "metadata": {
    "collapsed": false
   },
   "outputs": [],
   "source": [
    "tosscoin(4)"
   ]
  },
  {
   "cell_type": "markdown",
   "metadata": {},
   "source": [
    "The rolldie() function works in similar lines. The input number you supply to the function determines how many tinmes you are rolling your die. If you supply `1` as input, you will get sample space, S={1,2,3,4,5,6}"
   ]
  },
  {
   "cell_type": "code",
   "execution_count": null,
   "metadata": {
    "collapsed": false
   },
   "outputs": [],
   "source": [
    "rolldie(1)"
   ]
  },
  {
   "cell_type": "markdown",
   "metadata": {
    "collapsed": false
   },
   "source": [
    "Another thing to note about rolldie function is it defaults to a 6-sided die. You can specify number of sides to the die by supplying the `nsides`. Example is shown below"
   ]
  },
  {
   "cell_type": "code",
   "execution_count": null,
   "metadata": {
    "collapsed": false
   },
   "outputs": [],
   "source": [
    "rolldie(1,nsides=4)"
   ]
  },
  {
   "cell_type": "markdown",
   "metadata": {},
   "source": [
    "Another most common experiment of probability, playing cards has default functions too. "
   ]
  },
  {
   "cell_type": "code",
   "execution_count": null,
   "metadata": {
    "collapsed": false
   },
   "outputs": [],
   "source": [
    "head(cards())"
   ]
  },
  {
   "cell_type": "markdown",
   "metadata": {},
   "source": [
    "#### Sampling from URN\n",
    "\n",
    "The prob package facilitates sampling from urns with the urnsamples function. It takes the arguments x, size, replace, and ordered. x represents the urn from which sampling is to be done. size tells how large the sample will be. The ordered and\n",
    "replace arguments are logical and specify how sampling will be performed."
   ]
  },
  {
   "cell_type": "code",
   "execution_count": null,
   "metadata": {
    "collapsed": false
   },
   "outputs": [],
   "source": [
    "#The urn contains three balls, red, green and blue. Lets take samples of size 2 from the urn. \n",
    "urnsamples(c('red','blue','green'), size = 2, replace = TRUE, ordered = TRUE)"
   ]
  },
  {
   "cell_type": "markdown",
   "metadata": {},
   "source": [
    "Since the replace arguement is true, then we can get any outcome 1, 2, or 3 on any draw. Further, by “ordered” we mean to keep track of the order of the draws that we observe.\n",
    "\n",
    "Lets jump onto **events**. An event A is merely a collection of outcomes, simply put, a subset of the sample space. We say event A has occured after an experiment is complete of the experiment's outcome matches event A's outcomes."
   ]
  },
  {
   "cell_type": "code",
   "execution_count": null,
   "metadata": {
    "collapsed": false
   },
   "outputs": [],
   "source": [
    "S <- tosscoin(2, makespace = TRUE)\n",
    "S\n",
    "\n",
    "#Extract the outcomes for event of having atleast one head\n",
    "print('having atleast one head')\n",
    "S[1:3, ]"
   ]
  },
  {
   "cell_type": "markdown",
   "metadata": {},
   "source": [
    "We can extract rows that satisfy a logical expression using the subset function. Look at the following example. "
   ]
  },
  {
   "cell_type": "code",
   "execution_count": null,
   "metadata": {
    "collapsed": false
   },
   "outputs": [],
   "source": [
    "S <- cards()\n",
    "\n",
    "#Trying to extract the rows where the suit is equal to  Heart\n",
    "subset(S, suit == \"Heart\")"
   ]
  },
  {
   "cell_type": "markdown",
   "metadata": {},
   "source": [
    "### Functions for Finding Subsets\n",
    "\n",
    "When making a subset, if the row satisfies the condition, then it should be in the subset otherwise not. `%in%` and `isin` are two functions that help you to do subsetting easily. \n",
    "\n",
    "**%in%**: It helps to learn whether each value of one vector lies somewhere inside another vector."
   ]
  },
  {
   "cell_type": "code",
   "execution_count": null,
   "metadata": {
    "collapsed": false
   },
   "outputs": [],
   "source": [
    "x <- 1:10\n",
    "y <- 0:3\n",
    "y %in% x"
   ]
  },
  {
   "cell_type": "markdown",
   "metadata": {},
   "source": [
    "**isin** : This function can be used to know whether the whole vector y is in x. For example,"
   ]
  },
  {
   "cell_type": "code",
   "execution_count": null,
   "metadata": {
    "collapsed": false
   },
   "outputs": [],
   "source": [
    "isin(x, y)"
   ]
  },
  {
   "cell_type": "markdown",
   "metadata": {},
   "source": [
    "Probabilities are calculated in the prob package with the prob function. For example, consider the experiment of drawing a card from a standard deck of playing cards. "
   ]
  },
  {
   "cell_type": "code",
   "execution_count": null,
   "metadata": {
    "collapsed": false
   },
   "outputs": [],
   "source": [
    "S <- cards(makespace = TRUE)\n",
    "A <- subset(S, suit == \"Heart\")\n",
    "B <- subset(S, rank %in% 7:9)\n",
    "paste('Probability of getting a heart is: ',Prob(A))\n",
    "paste('Probability of getting a card numbered 7 or 8 or 9 is : ',Prob(B))"
   ]
  },
  {
   "cell_type": "markdown",
   "metadata": {},
   "source": [
    "### Independent and Dependent Events\n",
    "\n",
    "\n",
    "**Independent: ** Events A and B are said to be independent if\n",
    "\n",
    "            (A ∩ B) = (A).(B)\n",
    "\n",
    "Otherwise, the events are said to be dependent.\n",
    "    \n",
    "                                                   P(A ∩ B)     P(A).P(B)\n",
    "          when P(B) > 0  we can write,    P(A|B) = --------  =  --------- = P(A)\n",
    "                                                     P(B)          P(B)\n",
    "                                                     \n",
    "\n",
    "When A and B are independent, the numerator of the fraction factors so that (B) cancels with the result:\n",
    " \n",
    "            P(A|B) = P(A) when A, B are independent\n",
    "\n",
    "\n",
    "\n",
    "    Lets consider the example of tossing ten coins to illustrate the nature of independent events. So, what is the probability of observing at least one Head? \n",
    "\n",
    "Considering we are tossing the coins in such a way, that they do not interfere with each other i'e they are independent events. \n",
    "\n",
    "The only way there will not be at least one Head is if all tosses are Tails. Therefore,\n",
    "         \n",
    "         P(at least one H) = 1 − P(all T),\n",
    "\n",
    "\n",
    "                             1 - (1/2)^10"
   ]
  },
  {
   "cell_type": "code",
   "execution_count": null,
   "metadata": {
    "collapsed": false
   },
   "outputs": [],
   "source": [
    "#Lets try to do the same thing in R\n",
    "\n",
    "Space <- tosscoin(10, makespace = TRUE)\n",
    "\n",
    "#The isrep function in the prob package, will test each row of Space to see whether the value T appears 10 times ans returns \n",
    "#true or false for each row it checks. The subset function is logical, so makes a subset with the rows which are true.\n",
    "A <- subset(Space, isrep(Space, vals = \"T\", nrep = 10))\n",
    "1 - Prob(A)"
   ]
  },
  {
   "cell_type": "markdown",
   "metadata": {},
   "source": [
    "#### Repeated experiments with independent events\n",
    "\n",
    "It is common to repeat a certain experiment multiple times under identical conditions and in an independent manner. Experiments like tossing a coin repeatedly, rolling a die or dice, etc are repreated experiments.\n",
    "\n",
    "The iidspace function specifically does this for us, to conduct repeatable experiments. It takes three arguments: x, which is a vector of outcomes, ntrials, which is an integer telling how many times to repeat the experiment, and probs to specify the probabilities of the outcomes of x in a single trial."
   ]
  },
  {
   "cell_type": "code",
   "execution_count": null,
   "metadata": {
    "collapsed": false
   },
   "outputs": [],
   "source": [
    "iidspace(c(\"H\",\"T\"), ntrials = 3, probs = c(0.7, 0.3))"
   ]
  },
  {
   "cell_type": "markdown",
   "metadata": {},
   "source": [
    "### Dependent Events / Conditional Probability"
   ]
  },
  {
   "cell_type": "markdown",
   "metadata": {},
   "source": [
    "We will consider an example of drawing cards from a full deck of 52 standard playing cards to understand what are dependent events and how conditional probability works. Select two cards from the deck, in succession. \n",
    "\n",
    "    Let A = {first card drawn is an Ace} and B = {second card drawn is an Ace}. \n",
    "\n",
    "Since there are four Aces in the deck, it is natural to assign P(A) = 4/52. Suppose we looked at the first card. What is the probability of B now? The answer depends on the value of the first card. If the first card is an Ace, then the probability that the second also is an Ace should be 3/51, but if the first card is not an Ace, then the probability that the second is an Ace should be 4/51. \n",
    "\n",
    "Mathematically, for these two situations we write\n",
    "\n",
    "    \n",
    "    P(B|A) = 3/51, P(B|A) = 4/51\n",
    "    \n",
    "Definition: The conditional probability of B given A, denoted P(B|A), is defined by\n",
    "    \n",
    "    \n",
    "              P(A ∩ B)\n",
    "    P(B|A) =  --------\n",
    "                P(A)"
   ]
  },
  {
   "cell_type": "markdown",
   "metadata": {},
   "source": [
    "**Example: **Lets workout an example. Toss a six-sided die twice. The sample space consists of all ordered pairs (i, j)\n",
    "of the numbers 1, 2, . . . , 6, that is, S = {(1, 1), (1, 2), . . . ,(6, 6)}. \n",
    "\n",
    "Let A = {outcomes match} and B = {sum of outcomes at least 8}."
   ]
  },
  {
   "cell_type": "code",
   "execution_count": null,
   "metadata": {
    "collapsed": false
   },
   "outputs": [],
   "source": [
    "#The first thing to do is set up the probability space with the rolldie function.\n",
    "S <- rolldie(2, makespace = TRUE)\n",
    "#S contains all the all 36 possible outcomes {(1,1),(1,2)....(6,6)} with each outcome has a probability of 0.02777778\n",
    "head(S)"
   ]
  },
  {
   "cell_type": "code",
   "execution_count": null,
   "metadata": {
    "collapsed": false
   },
   "outputs": [],
   "source": [
    "#Subsetting sample space S, for outcomes matching event A(outcomes match). \n",
    "A <- subset(S, X1 == X2)\n",
    "#Subsetting sample space S, for outcomes matching event B(sum of outcomes at least 8). \n",
    "B <- subset(S, X1 + X2 >= 8)\n",
    "\n",
    "#When calculating conditional probability, we should use the given argument of the prob function as shown below:\n",
    "paste('P(A/B): ',Prob(A, given = B))\n",
    "\n",
    "paste('P(B/A): ',Prob(B, given = A))\n",
    "\n",
    "#Or you can directly do this, if we reference the original probability space S as the first argument of the prob calculation:\n",
    "paste('P(A/B): ',Prob(S, X1==X2, given = (X1 + X2 >= 8) ))\n",
    "\n",
    "paste('P(B/A): ',Prob(S, X1+X2 >= 8, given = (X1==X2) ))"
   ]
  },
  {
   "cell_type": "markdown",
   "metadata": {},
   "source": [
    "### Birthday Problem\n",
    "\n",
    "\n",
    "Suppose that there are n people together in a room. Each person announces the date of his/her birthday in turn. \n",
    "\n",
    "The question is: what is the probability of at least one match? \n",
    "\n",
    "If we let the event A represent {there is at least one match}, then would like to know P(A), but as we will see, it is more convenient to calculate P(A')..\n",
    "\n",
    "We will ignore leap years and assume that there are only 365 days in a year. Second, we will assume that births are equally distributed over the course of a year (which is not true due to all sorts of complications such as hospital delivery schedules). See http://en.wikipedia.org/wiki/Birthday_problem for more.\n",
    "\n",
    "Let us next think about the sample space. There are 365 possibilities for the first person’s birthday, 365 possibilities for the second, and so forth. The total number of possible birthday sequences is therefore #(S ) = 365n.\n",
    "\n",
    "Now we will use the complementation trick we saw in Example 4.11. We realize that the only situation in which A does not occur is if there are no matches among all people in the room, that is, only when everybody’s birthday is different, so\n",
    "\n",
    "                                            P(A) = 1 − P(A) = 1 − #(A')\n",
    "                                                                  -----\n",
    "                                                                   #(S)\n",
    "\n",
    "since the outcomes are equally likely. Let us then suppose that there are no matches. The first person has one of 365 possible birthdays. The second person must not match the first, thus, the second person has only 364 available birthdays from which to choose. Similarly, the third person has only 363 possible birthdays, and so forth, until we reach the nth person, who has only 365−n+1 remaining possible days for a birthday. By the Multiplication Principle, we have #(A') = 365 ·364 · · · (365 − n + 1), and\n",
    "\n",
    "                                   1 − 365·364···(365 − n + 1)          364   363      (365 − n + 1)\n",
    "                           P(A) =  --------------------------- =   1 -  --- . --- .... ------------\n",
    "                                           365n                         365   365           365\n",
    "                                           \n",
    "                                           \n",
    "We will try to solve the same thing in R, as shown below"
   ]
  },
  {
   "cell_type": "code",
   "execution_count": null,
   "metadata": {
    "collapsed": false
   },
   "outputs": [],
   "source": [
    "# install.packages('RcmdrPlugin.IPSUR',repo='http://cran.uk.r-project.org')\n",
    "# install.packages(\"RODBC\",repo='http://cran.uk.r-project.org')\n",
    "# library(RODBC)\n",
    "# library('RcmdrPlugin.IPSUR')\n",
    "# g <- Vectorize(pbirthday.ipsur)\n",
    "# plot (1:50 , g(1:50) ,\n",
    "# xlab = \"Number of people in room\",\n",
    "# ylab = \"Prob(at least one match)\",\n",
    "# main = \"The Birthday Problem\")\n",
    "# abline(h = 0.5)\n",
    "# abline(v = 23, lty = 2) # dashed line"
   ]
  },
  {
   "cell_type": "markdown",
   "metadata": {},
   "source": [
    "### Permutations and Combinations\n",
    "\n",
    "Taking an simple example from [mathisfun](http://www.mathsisfun.com/combinatorics/combinations-permutations.html), a combination does not take into account the order, whereas a permutation does. \n",
    "\n",
    "For example, \"My fruit salad is a **combination** of apples, grapes and bananas\" We are least bothered about what order the fruits are in. No matter how you say it, its the same fruit salad.\n",
    " \t \n",
    "\"You need the combination 123 to open the safe\". We care about the order here. No other combination will work. It has to be exactly 1-2-3. This is a permutation\n",
    "\n",
    "\t* When the order doesn't matter, it is a Combination.\n",
    "\t\n",
    "    * When the order does matter it is a Permutation.\n",
    "    \n",
    "\n",
    "There are many ways you can create permutations and combinations in R. We will be using combinat package for this. "
   ]
  },
  {
   "cell_type": "markdown",
   "metadata": {},
   "source": [
    "**combn:** To generate combinations\n",
    "\n",
    "`Usage`\n",
    "\n",
    "    combn(x, m, fun=NULL, simplify=TRUE, ...)\n",
    "\n",
    "\n",
    "`Arguments`\n",
    "\n",
    "    x         vector source for combinations\n",
    "    m         number of elements\n",
    "    fun       function to be applied to each combination (may be null)\n",
    "    simplify  logical, if FALSE, returns a list, otherwise returns vector or array\n",
    "    ...       args to fun\n",
    "\n",
    "It generates all combinations of the elements of x taken m at a time. If x is a positive integer, returns all combinations of the elements of seq(x) taken m at a time. If argument FUN is not NULL, applies a function given by the argument to each point. If simplify is FALSE, returns a list; otherwise returns an array, typically a matrix. ... are passed unchanged to the FUN function, if specified."
   ]
  },
  {
   "cell_type": "code",
   "execution_count": null,
   "metadata": {
    "collapsed": false
   },
   "outputs": [],
   "source": [
    "# library(combinat)\n",
    "#Generate different possible combinations of 2 using numbers (1,2,3,4)\n",
    "combn(4, 2)"
   ]
  },
  {
   "cell_type": "code",
   "execution_count": null,
   "metadata": {
    "collapsed": false
   },
   "outputs": [],
   "source": [
    "dim(combn(3,2))[2]"
   ]
  },
  {
   "cell_type": "markdown",
   "metadata": {},
   "source": [
    "**permn: **To generate permutations\n",
    "\n",
    "`Usage`\n",
    "\n",
    "    permn(x, fun=NULL, ...)\n",
    "        \n",
    "        \n",
    "`Arguments`\n",
    "\n",
    "    x    vector\n",
    "    fun  if non.null, applied at each perm\n",
    "    ...  args passed to fun\n",
    "\n",
    "Generates all permutations of the elements of x, in a minimal- change order. If x is a positive integer, returns all permutations of the elements of seq(x). If argument \"fun\" is not null, applies a function given by the argument to each point. \"...\" are passed unchanged to the function given by argument fun, if any"
   ]
  },
  {
   "cell_type": "code",
   "execution_count": null,
   "metadata": {
    "collapsed": false
   },
   "outputs": [],
   "source": [
    "#Generate different possible permutations using numbers (1,2,3)\n",
    "permn(3)"
   ]
  },
  {
   "cell_type": "code",
   "execution_count": null,
   "metadata": {
    "collapsed": false
   },
   "outputs": [],
   "source": [
    "#Number of permutations generated\n",
    "length(permn(3))"
   ]
  },
  {
   "cell_type": "markdown",
   "metadata": {},
   "source": [
    "### Normal distributions"
   ]
  },
  {
   "cell_type": "markdown",
   "metadata": {},
   "source": [
    "We saw in moduke 1 how a normal distribution looks and learned what questions we can answer about the variable knowing it is normally distributed. The values of the distribution fall within specific proportions with varying distances from the (sample) mean, which is commonly called 68-95-99.7 rule. We can see where these come from – and obtain more precise proportions – with the following:\n",
    "\n",
    "`pnorm()` : Given a number or a list, this function calculates the probability that a normally distributed random number will be less than that number. Simple put, gives the area under the standard normal curve. It takes mean and standard deviation as its arguements. If none specified, it considers mean=0 and sd=1 by default. In below example, the pnorm() gives the probabilities of 3 numbers where they will fall according to 68-95-99.7 rule with more precised values. These probabilities are for the right tail of the distribution "
   ]
  },
  {
   "cell_type": "code",
   "execution_count": null,
   "metadata": {
    "collapsed": false
   },
   "outputs": [],
   "source": [
    "pnorm(1:3)"
   ]
  },
  {
   "cell_type": "markdown",
   "metadata": {},
   "source": [
    "Probabilities of numbers on the left tail of the distribution "
   ]
  },
  {
   "cell_type": "code",
   "execution_count": null,
   "metadata": {
    "collapsed": false
   },
   "outputs": [],
   "source": [
    "pnorm(-(1:3))"
   ]
  },
  {
   "cell_type": "markdown",
   "metadata": {},
   "source": [
    "When you substract the areas of probability on left tail with that of right tail, you will see why the values of the distribution fall within specific proportions. "
   ]
  },
  {
   "cell_type": "code",
   "execution_count": null,
   "metadata": {
    "collapsed": false
   },
   "outputs": [],
   "source": [
    "pnorm(1:3) - pnorm(-(1:3))"
   ]
  },
  {
   "cell_type": "markdown",
   "metadata": {},
   "source": [
    "**Question: **Lets work a small example to understand the normal distribution. A random experiment consist of a person taking an IQ test. Let X be the score on the test. The test scores have a mean of 100 and a standard deviation of 15. What is P(85 ≤ X ≤ 115)?\n",
    "\n",
    "\n",
    "**Solution:** The limits 85 and 115 fall exactly one standard deviation (below and above, respectively) from the mean of 100. The answer is therefore approximately 68%."
   ]
  },
  {
   "cell_type": "markdown",
   "metadata": {},
   "source": [
    "----\n",
    "**Question: **Continuing with our previous example of IQ, what is the lowest possible IQ score that a person can have and still be in the top 1% of all IQ scores?\n",
    "\n",
    "**Solution:** If a person is in the top 1%, then that means that 99% of the people have lower IQ scores. So, in other words, we are looking for a value x such that F(x)−0.99 = 0. \n",
    "\n",
    "We define the function g(x) = F(x)−0.99, and then look for the root of g with the uniroot function. It uses numerical procedures to find the root so we need to give it an interval of x values in which to search for the root. Lets try to do it in R"
   ]
  },
  {
   "cell_type": "code",
   "execution_count": null,
   "metadata": {
    "collapsed": false
   },
   "outputs": [],
   "source": [
    "g <- function(x) pnorm(x, mean = 100, sd = 15) - 0.99\n",
    "uniroot(g, interval = c(130, 145))"
   ]
  },
  {
   "cell_type": "markdown",
   "metadata": {},
   "source": [
    "So the answer as shown in $root is approximately 134.8952. A person with this IQ score or higher falls in the top 1% of all IQ scores"
   ]
  },
  {
   "cell_type": "markdown",
   "metadata": {},
   "source": [
    "**qnorm() **\n",
    "\n",
    "Given a set of values it returns the height of the probability distribution at each point. If you only give the points it assumes you want to use a mean of zero and standard deviation of one. Simply put, it gives the value at which the CDF of the standard normal curve is at given value.\n",
    "\n",
    "Looking at our IQ example, we are looking for QX(0.99), where X ∼ norm(mean =100, sd = 15). "
   ]
  },
  {
   "cell_type": "code",
   "execution_count": null,
   "metadata": {
    "collapsed": false
   },
   "outputs": [],
   "source": [
    "#Below function should return distribution value at given probability.\n",
    "qnorm(0.99, mean = 100, sd = 15)"
   ]
  },
  {
   "cell_type": "markdown",
   "metadata": {},
   "source": [
    "The above answer is same as what we got for above question using uniroot()."
   ]
  },
  {
   "cell_type": "markdown",
   "metadata": {},
   "source": [
    "### Normal distribution as an approximation for the binomial distribution\n",
    "\n",
    "**Binomial distributions**\n",
    "\n",
    "When you flip a coin, there are two possible outcomes: heads and tails. Each outcome has a fixed probability of 1/2, the same from trial to trial. We consider probability distributions for which there are just two possible outcomes with fixed probabilities summing to one. These distributions are called binomial distributions.\n",
    "\n",
    "The formula we use for calculating probabilities in a binomial distribution is given below,\n",
    "\n",
    "<img src='../images/binomial_formula.gif'>\n",
    "\n",
    "where P(x) is the probability of x successes out of N trials, N is the number of trials, and π is the probability of success on a given trial. Applying this to the coin flip example,\n",
    "\n",
    "<img src='../images/binomial2.gif'>\n",
    "\n",
    "We toss a coin 12 times. What is the probability that we get from 0 to 3 heads? The answer is found by computing the probability of exactly 0 heads, exactly 1 head, exactly 2 heads, and exactly 3 heads. The probability of getting from 0 to 3 heads is then the sum of these probabilities. The probabilities are: 0.0002, 0.0029, 0.0161, and 0.0537. The sum of the probabilities is 0.073. The calculation of cumulative binomial probabilities can be quite tedious. Abraham de Moivre, an 18th century statistician noted that when the number of events (coin flips) increased, the shape of the binomial distribution approached a very smooth curve. The curve he discovered is now called the \"normal curve.\"\n",
    "\n",
    "image src: http://onlinestatbook.com/2/probability/binomial.html"
   ]
  },
  {
   "cell_type": "markdown",
   "metadata": {},
   "source": [
    "Assume you have a fair coin and wish to know the probability that you would get 8 heads out of 10 flips. The binomial distribution has a mean of μ = Nπ = (10)(0.5) = 5 and a variance of σ2 = Nπ(1-π) = (10)(0.5)(0.5) = 2.5. The standard deviation is therefore 1.5811. A total of 8 heads is (8 - 5)/1.5811 = 1.897 standard deviations above the mean of the distribution. \n",
    "\n",
    "The question then is, \"What is the probability of getting a value exactly 1.897 standard deviations above the mean?\" You may be surprised to learn that the answer is 0: The probability of any one specific point is 0 on a continous distribution.\n",
    "\n",
    "The solution is to round off and consider any value from 7.5 to 8.5 to represent an outcome of 8 heads. Using this approach, we figure out the area under a normal curve from 7.5 to 8.5\n",
    "\n",
    "<img src='../images/normal_binom_p.gif'>"
   ]
  },
  {
   "cell_type": "code",
   "execution_count": null,
   "metadata": {
    "collapsed": true
   },
   "outputs": [],
   "source": [
    "#We will try to solve the same thing in R\n",
    "\n",
    "#Z score for 8.5\n",
    "Z1 = (8.5 - 5)/1.5811\n",
    "\n",
    "#Z score for 8.5\n",
    "Z2 = (7.5 - 5)/1.5811\n",
    "\n",
    "#You can look up the area using a table of the standard normal distribution (a Z table) or pnormGC() function below"
   ]
  },
  {
   "cell_type": "code",
   "execution_count": null,
   "metadata": {
    "collapsed": false
   },
   "outputs": [],
   "source": [
    "#Aea below Z1 of 2.21\n",
    "# library(tigerstats)\n",
    "pnormGC(8.5,region=\"below\",mean=5,\n",
    "        sd=1.5811,graph=FALSE)\n",
    "\n",
    "#Area below Z2 of 1.58\n",
    "pnormGC(8.5,region=\"below\",mean=5,\n",
    "        sd=1.5811,graph=FALSE)"
   ]
  },
  {
   "cell_type": "code",
   "execution_count": null,
   "metadata": {
    "collapsed": false
   },
   "outputs": [],
   "source": [
    "#Subtract the area of Z2 from the value of Z1\n",
    "0.986573523658572-0.943081289204437"
   ]
  },
  {
   "cell_type": "markdown",
   "metadata": {},
   "source": [
    "The area 0.043492234454135 is an approximation of the probability of obtaining 8 heads"
   ]
  },
  {
   "cell_type": "markdown",
   "metadata": {},
   "source": [
    "The same logic applies when calculating the probability of a range of outcomes. For example, to calculate the probability of 8 to 10 flips, calculate the area from 7.5 to 10.5."
   ]
  }
 ],
 "metadata": {
  "kernelspec": {
   "display_name": "R",
   "language": "R",
   "name": "ir"
  },
  "language_info": {
   "codemirror_mode": "r",
   "file_extension": ".r",
   "mimetype": "text/x-r-source",
   "name": "R",
   "pygments_lexer": "r",
   "version": "3.3.1"
  }
 },
 "nbformat": 4,
 "nbformat_minor": 0
}
