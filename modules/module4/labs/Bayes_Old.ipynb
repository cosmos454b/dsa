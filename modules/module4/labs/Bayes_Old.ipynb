{
 "cells": [
  {
   "cell_type": "markdown",
   "metadata": {
    "collapsed": true
   },
   "source": [
    "### Conditional probabilities and Bayesian statistics\n",
    "\n",
    "\n",
    "People rely on the collective intelligence of previous experiences to protect themselves or do better in future. Save themselves from eating bad food at the wrong restaurant or avoid stunning flops at the theater etc. \n",
    "\n",
    "In this notebook we will consider how to implement a Bayesian estimation of the mean of movie reviews with a limited number of observations. Some of the work is referenced from Benjamin bengfort's [computing-a-bayesian-estimate-of-star-rating-means](https://districtdatalabs.silvrback.com/computing-a-bayesian-estimate-of-star-rating-means)\n",
    "\n",
    "we will be working with the MovieLens data set. The dataset contains 100,000 ratings from 1,000 users on nearly 1,700 movies. "
   ]
  },
  {
   "cell_type": "markdown",
   "metadata": {},
   "source": [
    "#### Loading the dataset\n",
    "\n",
    "Load the data \"u.data\" and \"u.item\" from the directory \"/datasets/movie_lens/ml-100k/\". First thing we need to do is merge datasets u.data and u.test into one single dataframe."
   ]
  },
  {
   "cell_type": "code",
   "execution_count": 1,
   "metadata": {
    "collapsed": false
   },
   "outputs": [
    {
     "data": {
      "text/html": [
       "<table>\n",
       "<thead><tr><th></th><th scope=col>user_id</th><th scope=col>movie_id</th><th scope=col>rating</th></tr></thead>\n",
       "<tbody>\n",
       "\t<tr><th scope=row>1</th><td>196</td><td>242</td><td>  3</td></tr>\n",
       "\t<tr><th scope=row>2</th><td>186</td><td>302</td><td>  3</td></tr>\n",
       "\t<tr><th scope=row>3</th><td> 22</td><td>377</td><td>  1</td></tr>\n",
       "\t<tr><th scope=row>4</th><td>244</td><td> 51</td><td>  2</td></tr>\n",
       "\t<tr><th scope=row>5</th><td>166</td><td>346</td><td>  1</td></tr>\n",
       "\t<tr><th scope=row>6</th><td>298</td><td>474</td><td>  4</td></tr>\n",
       "</tbody>\n",
       "</table>\n"
      ],
      "text/latex": [
       "\\begin{tabular}{r|lll}\n",
       "  & user\\_id & movie\\_id & rating\\\\\n",
       "\\hline\n",
       "\t1 & 196 & 242 &   3\\\\\n",
       "\t2 & 186 & 302 &   3\\\\\n",
       "\t3 &  22 & 377 &   1\\\\\n",
       "\t4 & 244 &  51 &   2\\\\\n",
       "\t5 & 166 & 346 &   1\\\\\n",
       "\t6 & 298 & 474 &   4\\\\\n",
       "\\end{tabular}\n"
      ],
      "text/plain": [
       "  user_id movie_id rating\n",
       "1     196      242      3\n",
       "2     186      302      3\n",
       "3      22      377      1\n",
       "4     244       51      2\n",
       "5     166      346      1\n",
       "6     298      474      4"
      ]
     },
     "metadata": {},
     "output_type": "display_data"
    }
   ],
   "source": [
    "# Dataset doesn't have names for variables. \n",
    "reviews_data= read.csv(\"../../../datasets/movie_lens/ml-100k/u.data\",header=FALSE,sep='\\t',col.names=c(\"user_id\",\n",
    "                                                    \"movie_id\",\"rating\",\"timestamp\"))\n",
    "\n",
    "# we are not interetsed in the last column in the dataset 'timestamp'. So exclude the 4 th column from the dataframe by \n",
    "#excluding it from the list.\n",
    "reviews_data = reviews_data[,c(1,2,3)]\n",
    "head(reviews_data)"
   ]
  },
  {
   "cell_type": "code",
   "execution_count": 2,
   "metadata": {
    "collapsed": false
   },
   "outputs": [
    {
     "data": {
      "text/html": [
       "<table>\n",
       "<thead><tr><th></th><th scope=col>V1</th><th scope=col>V2</th><th scope=col>V3</th><th scope=col>V4</th><th scope=col>V5</th><th scope=col>V6</th><th scope=col>V7</th><th scope=col>V8</th><th scope=col>V9</th><th scope=col>V10</th><th scope=col>...</th><th scope=col>V15</th><th scope=col>V16</th><th scope=col>V17</th><th scope=col>V18</th><th scope=col>V19</th><th scope=col>V20</th><th scope=col>V21</th><th scope=col>V22</th><th scope=col>V23</th><th scope=col>V24</th></tr></thead>\n",
       "<tbody>\n",
       "\t<tr><th scope=row>1</th><td>1                                                    </td><td>Toy Story (1995)                                     </td><td>01-Jan-1995                                          </td><td>NA                                                   </td><td>http://us.imdb.com/M/title-exact?Toy%20Story%20(1995)</td><td>0                                                    </td><td>0                                                    </td><td>0                                                    </td><td>1                                                    </td><td>1                                                    </td><td>...                                                  </td><td>0                                                    </td><td>0                                                    </td><td>0                                                    </td><td>0                                                    </td><td>0                                                    </td><td>0                                                    </td><td>0                                                    </td><td>0                                                    </td><td>0                                                    </td><td>0                                                    </td></tr>\n",
       "\t<tr><th scope=row>2</th><td>2                                                  </td><td>GoldenEye (1995)                                   </td><td>01-Jan-1995                                        </td><td>NA                                                 </td><td>http://us.imdb.com/M/title-exact?GoldenEye%20(1995)</td><td>0                                                  </td><td>1                                                  </td><td>1                                                  </td><td>0                                                  </td><td>0                                                  </td><td>...                                                </td><td>0                                                  </td><td>0                                                  </td><td>0                                                  </td><td>0                                                  </td><td>0                                                  </td><td>0                                                  </td><td>0                                                  </td><td>1                                                  </td><td>0                                                  </td><td>0                                                  </td></tr>\n",
       "\t<tr><th scope=row>3</th><td>3                                                     </td><td>Four Rooms (1995)                                     </td><td>01-Jan-1995                                           </td><td>NA                                                    </td><td>http://us.imdb.com/M/title-exact?Four%20Rooms%20(1995)</td><td>0                                                     </td><td>0                                                     </td><td>0                                                     </td><td>0                                                     </td><td>0                                                     </td><td>...                                                   </td><td>0                                                     </td><td>0                                                     </td><td>0                                                     </td><td>0                                                     </td><td>0                                                     </td><td>0                                                     </td><td>0                                                     </td><td>1                                                     </td><td>0                                                     </td><td>0                                                     </td></tr>\n",
       "\t<tr><th scope=row>4</th><td>4                                                     </td><td>Get Shorty (1995)                                     </td><td>01-Jan-1995                                           </td><td>NA                                                    </td><td>http://us.imdb.com/M/title-exact?Get%20Shorty%20(1995)</td><td>0                                                     </td><td>1                                                     </td><td>0                                                     </td><td>0                                                     </td><td>0                                                     </td><td>...                                                   </td><td>0                                                     </td><td>0                                                     </td><td>0                                                     </td><td>0                                                     </td><td>0                                                     </td><td>0                                                     </td><td>0                                                     </td><td>0                                                     </td><td>0                                                     </td><td>0                                                     </td></tr>\n",
       "\t<tr><th scope=row>5</th><td>5                                                </td><td>Copycat (1995)                                   </td><td>01-Jan-1995                                      </td><td>NA                                               </td><td>http://us.imdb.com/M/title-exact?Copycat%20(1995)</td><td>0                                                </td><td>0                                                </td><td>0                                                </td><td>0                                                </td><td>0                                                </td><td>...                                              </td><td>0                                                </td><td>0                                                </td><td>0                                                </td><td>0                                                </td><td>0                                                </td><td>0                                                </td><td>0                                                </td><td>1                                                </td><td>0                                                </td><td>0                                                </td></tr>\n",
       "\t<tr><th scope=row>6</th><td>6                                                           </td><td>Shanghai Triad (Yao a yao yao dao waipo qiao) (1995)        </td><td>01-Jan-1995                                                 </td><td>NA                                                          </td><td>http://us.imdb.com/Title?Yao+a+yao+yao+dao+waipo+qiao+(1995)</td><td>0                                                           </td><td>0                                                           </td><td>0                                                           </td><td>0                                                           </td><td>0                                                           </td><td>...                                                         </td><td>0                                                           </td><td>0                                                           </td><td>0                                                           </td><td>0                                                           </td><td>0                                                           </td><td>0                                                           </td><td>0                                                           </td><td>0                                                           </td><td>0                                                           </td><td>0                                                           </td></tr>\n",
       "</tbody>\n",
       "</table>\n"
      ],
      "text/latex": [
       "\\begin{tabular}{r|llllllllllllllllllllllll}\n",
       "  & V1 & V2 & V3 & V4 & V5 & V6 & V7 & V8 & V9 & V10 & ... & V15 & V16 & V17 & V18 & V19 & V20 & V21 & V22 & V23 & V24\\\\\n",
       "\\hline\n",
       "\t1 & 1                                                         & Toy Story (1995)                                          & 01-Jan-1995                                               & NA                                                        & http://us.imdb.com/M/title-exact?Toy\\%20Story\\%20(1995) & 0                                                         & 0                                                         & 0                                                         & 1                                                         & 1                                                         & ...                                                       & 0                                                         & 0                                                         & 0                                                         & 0                                                         & 0                                                         & 0                                                         & 0                                                         & 0                                                         & 0                                                         & 0                                                        \\\\\n",
       "\t2 & 2                                                     & GoldenEye (1995)                                      & 01-Jan-1995                                           & NA                                                    & http://us.imdb.com/M/title-exact?GoldenEye\\%20(1995) & 0                                                     & 1                                                     & 1                                                     & 0                                                     & 0                                                     & ...                                                   & 0                                                     & 0                                                     & 0                                                     & 0                                                     & 0                                                     & 0                                                     & 0                                                     & 1                                                     & 0                                                     & 0                                                    \\\\\n",
       "\t3 & 3                                                          & Four Rooms (1995)                                          & 01-Jan-1995                                                & NA                                                         & http://us.imdb.com/M/title-exact?Four\\%20Rooms\\%20(1995) & 0                                                          & 0                                                          & 0                                                          & 0                                                          & 0                                                          & ...                                                        & 0                                                          & 0                                                          & 0                                                          & 0                                                          & 0                                                          & 0                                                          & 0                                                          & 1                                                          & 0                                                          & 0                                                         \\\\\n",
       "\t4 & 4                                                          & Get Shorty (1995)                                          & 01-Jan-1995                                                & NA                                                         & http://us.imdb.com/M/title-exact?Get\\%20Shorty\\%20(1995) & 0                                                          & 1                                                          & 0                                                          & 0                                                          & 0                                                          & ...                                                        & 0                                                          & 0                                                          & 0                                                          & 0                                                          & 0                                                          & 0                                                          & 0                                                          & 0                                                          & 0                                                          & 0                                                         \\\\\n",
       "\t5 & 5                                                   & Copycat (1995)                                      & 01-Jan-1995                                         & NA                                                  & http://us.imdb.com/M/title-exact?Copycat\\%20(1995) & 0                                                   & 0                                                   & 0                                                   & 0                                                   & 0                                                   & ...                                                 & 0                                                   & 0                                                   & 0                                                   & 0                                                   & 0                                                   & 0                                                   & 0                                                   & 1                                                   & 0                                                   & 0                                                  \\\\\n",
       "\t6 & 6                                                            & Shanghai Triad (Yao a yao yao dao waipo qiao) (1995)         & 01-Jan-1995                                                  & NA                                                           & http://us.imdb.com/Title?Yao+a+yao+yao+dao+waipo+qiao+(1995) & 0                                                            & 0                                                            & 0                                                            & 0                                                            & 0                                                            & ...                                                          & 0                                                            & 0                                                            & 0                                                            & 0                                                            & 0                                                            & 0                                                            & 0                                                            & 0                                                            & 0                                                            & 0                                                           \\\\\n",
       "\\end{tabular}\n"
      ],
      "text/plain": [
       "  V1                                                   V2          V3 V4\n",
       "1  1                                     Toy Story (1995) 01-Jan-1995 NA\n",
       "2  2                                     GoldenEye (1995) 01-Jan-1995 NA\n",
       "3  3                                    Four Rooms (1995) 01-Jan-1995 NA\n",
       "4  4                                    Get Shorty (1995) 01-Jan-1995 NA\n",
       "5  5                                       Copycat (1995) 01-Jan-1995 NA\n",
       "6  6 Shanghai Triad (Yao a yao yao dao waipo qiao) (1995) 01-Jan-1995 NA\n",
       "                                                            V5 V6 V7 V8 V9 V10\n",
       "1        http://us.imdb.com/M/title-exact?Toy%20Story%20(1995)  0  0  0  1   1\n",
       "2          http://us.imdb.com/M/title-exact?GoldenEye%20(1995)  0  1  1  0   0\n",
       "3       http://us.imdb.com/M/title-exact?Four%20Rooms%20(1995)  0  0  0  0   0\n",
       "4       http://us.imdb.com/M/title-exact?Get%20Shorty%20(1995)  0  1  0  0   0\n",
       "5            http://us.imdb.com/M/title-exact?Copycat%20(1995)  0  0  0  0   0\n",
       "6 http://us.imdb.com/Title?Yao+a+yao+yao+dao+waipo+qiao+(1995)  0  0  0  0   0\n",
       "  ... V15 V16 V17 V18 V19 V20 V21 V22 V23 V24\n",
       "1 ...   0   0   0   0   0   0   0   0   0   0\n",
       "2 ...   0   0   0   0   0   0   0   1   0   0\n",
       "3 ...   0   0   0   0   0   0   0   1   0   0\n",
       "4 ...   0   0   0   0   0   0   0   0   0   0\n",
       "5 ...   0   0   0   0   0   0   0   1   0   0\n",
       "6 ...   0   0   0   0   0   0   0   0   0   0"
      ]
     },
     "metadata": {},
     "output_type": "display_data"
    }
   ],
   "source": [
    "# The columns in the dataset are separated from each other by '|' operator. So we specify the separator as '|'\n",
    "movie_names= read.csv(\"../../../datasets/movie_lens/ml-100k/u.item\",header=FALSE,sep='|')\n",
    "head(movie_names)"
   ]
  },
  {
   "cell_type": "code",
   "execution_count": 3,
   "metadata": {
    "collapsed": false
   },
   "outputs": [
    {
     "data": {
      "text/html": [
       "<table>\n",
       "<thead><tr><th></th><th scope=col>movie_id</th><th scope=col>title</th></tr></thead>\n",
       "<tbody>\n",
       "\t<tr><th scope=row>1</th><td>1               </td><td>Toy Story (1995)</td></tr>\n",
       "\t<tr><th scope=row>2</th><td>2               </td><td>GoldenEye (1995)</td></tr>\n",
       "\t<tr><th scope=row>3</th><td>3                </td><td>Four Rooms (1995)</td></tr>\n",
       "\t<tr><th scope=row>4</th><td>4                </td><td>Get Shorty (1995)</td></tr>\n",
       "\t<tr><th scope=row>5</th><td>5             </td><td>Copycat (1995)</td></tr>\n",
       "\t<tr><th scope=row>6</th><td>6                                                   </td><td>Shanghai Triad (Yao a yao yao dao waipo qiao) (1995)</td></tr>\n",
       "</tbody>\n",
       "</table>\n"
      ],
      "text/latex": [
       "\\begin{tabular}{r|ll}\n",
       "  & movie\\_id & title\\\\\n",
       "\\hline\n",
       "\t1 & 1                & Toy Story (1995)\\\\\n",
       "\t2 & 2                & GoldenEye (1995)\\\\\n",
       "\t3 & 3                 & Four Rooms (1995)\\\\\n",
       "\t4 & 4                 & Get Shorty (1995)\\\\\n",
       "\t5 & 5              & Copycat (1995)\\\\\n",
       "\t6 & 6                                                    & Shanghai Triad (Yao a yao yao dao waipo qiao) (1995)\\\\\n",
       "\\end{tabular}\n"
      ],
      "text/plain": [
       "  movie_id                                                title\n",
       "1        1                                     Toy Story (1995)\n",
       "2        2                                     GoldenEye (1995)\n",
       "3        3                                    Four Rooms (1995)\n",
       "4        4                                    Get Shorty (1995)\n",
       "5        5                                       Copycat (1995)\n",
       "6        6 Shanghai Triad (Yao a yao yao dao waipo qiao) (1995)"
      ]
     },
     "metadata": {},
     "output_type": "display_data"
    }
   ],
   "source": [
    "# 'u.item' has has bunch of columns which we are not interested or irrelevant to the question we are trying to answer. So we \n",
    "#exclude them from the dataset by specifying to include only first two columns \"movie_id\", \"title\" in the dataframe.\n",
    "movie_names=movie_names[,c(1,2)]\n",
    "names(movie_names)=c(\"movie_id\", \"title\")\n",
    "head(movie_names)"
   ]
  },
  {
   "cell_type": "code",
   "execution_count": 12,
   "metadata": {
    "collapsed": false
   },
   "outputs": [
    {
     "data": {
      "text/html": [
       "<table>\n",
       "<thead><tr><th></th><th scope=col>movie_id</th><th scope=col>user_id</th><th scope=col>rating</th><th scope=col>title</th></tr></thead>\n",
       "<tbody>\n",
       "\t<tr><th scope=row>1</th><td>1               </td><td>650             </td><td>3               </td><td>Toy Story (1995)</td></tr>\n",
       "\t<tr><th scope=row>2</th><td>1               </td><td>635             </td><td>4               </td><td>Toy Story (1995)</td></tr>\n",
       "\t<tr><th scope=row>3</th><td>1               </td><td>1               </td><td>5               </td><td>Toy Story (1995)</td></tr>\n",
       "\t<tr><th scope=row>4</th><td>1               </td><td>514             </td><td>5               </td><td>Toy Story (1995)</td></tr>\n",
       "\t<tr><th scope=row>5</th><td>1               </td><td>250             </td><td>4               </td><td>Toy Story (1995)</td></tr>\n",
       "\t<tr><th scope=row>6</th><td>1               </td><td>210             </td><td>5               </td><td>Toy Story (1995)</td></tr>\n",
       "</tbody>\n",
       "</table>\n"
      ],
      "text/latex": [
       "\\begin{tabular}{r|llll}\n",
       "  & movie\\_id & user\\_id & rating & title\\\\\n",
       "\\hline\n",
       "\t1 & 1                & 650              & 3                & Toy Story (1995)\\\\\n",
       "\t2 & 1                & 635              & 4                & Toy Story (1995)\\\\\n",
       "\t3 & 1                & 1                & 5                & Toy Story (1995)\\\\\n",
       "\t4 & 1                & 514              & 5                & Toy Story (1995)\\\\\n",
       "\t5 & 1                & 250              & 4                & Toy Story (1995)\\\\\n",
       "\t6 & 1                & 210              & 5                & Toy Story (1995)\\\\\n",
       "\\end{tabular}\n"
      ],
      "text/plain": [
       "  movie_id user_id rating            title\n",
       "1        1     650      3 Toy Story (1995)\n",
       "2        1     635      4 Toy Story (1995)\n",
       "3        1       1      5 Toy Story (1995)\n",
       "4        1     514      5 Toy Story (1995)\n",
       "5        1     250      4 Toy Story (1995)\n",
       "6        1     210      5 Toy Story (1995)"
      ]
     },
     "metadata": {},
     "output_type": "display_data"
    }
   ],
   "source": [
    "# We need to merge reviews_data and movie_names. The dataframe 'reviews_data' doesn't has movie names which are available \n",
    "# in movie_names dataframe. When we merge two dataframes they should be equal in number of rows and a common variable should \n",
    "# exist between two dataframes with same values to make the data merge possible.\n",
    "\n",
    "# Movie_id's is a common column in reviews_data and movie_names. \n",
    "ratings_data <- merge(reviews_data,movie_names,by=\"movie_id\")\n",
    "head(ratings_data)"
   ]
  },
  {
   "cell_type": "markdown",
   "metadata": {},
   "source": [
    "**Reference: **[merge()](http://www.statmethods.net/management/merging.html)"
   ]
  },
  {
   "cell_type": "code",
   "execution_count": 16,
   "metadata": {
    "collapsed": false
   },
   "outputs": [],
   "source": [
    "# Each movie has bunch of reviews. When we compare two movies, we go with the movie rating. But the number of reviews is equally \n",
    "# important to consider. A movie with an average rating of 4.5 with 100 reviews should be a lot better than a movie with a \n",
    "# rating of 5 based on just 1 review with a rating of 5 . We need to find out average rating for each movie and total number of \n",
    "# reviews each has got. \n",
    "\n",
    "# Below we are trying to find the average of movie_rating and sum the number of reviews each movie has got.\n",
    "                    #aggregate ratings for each movie_name    #aggregate based on movie_id    #Apply mean on aggregated movie_data\n",
    "rating_means=merge(aggregate(ratings_data[c(\"rating\")],by=list(movie_id=ratings_data$movie_id), mean),\n",
    "                   #aggregate ratings for each movie_name    #aggregate based on movie_id    #Find the length of aggregated data\n",
    "                   aggregate(ratings_data[c(\"rating\")],by=list(movie_id=ratings_data$movie_id), length),by=\"movie_id\")\n",
    "rating_means=merge(rating_means,movie_names,by=\"movie_id\")\n",
    "\n",
    "# Assign proper names to the new columns we just created\n",
    "names(rating_means) = c(\"movie_id\",\"avg_rating\",\"no_of_reviews\",\"title\")"
   ]
  },
  {
   "cell_type": "code",
   "execution_count": 17,
   "metadata": {
    "collapsed": false
   },
   "outputs": [
    {
     "data": {
      "text/html": [
       "<table>\n",
       "<thead><tr><th></th><th scope=col>movie_id</th><th scope=col>avg_rating</th><th scope=col>no_of_reviews</th><th scope=col>title</th></tr></thead>\n",
       "<tbody>\n",
       "\t<tr><th scope=row>814</th><td>814                          </td><td>5                            </td><td>1                            </td><td>Great Day in Harlem, A (1994)</td></tr>\n",
       "\t<tr><th scope=row>1122</th><td>1122                          </td><td>5                             </td><td>1                             </td><td>They Made Me a Criminal (1939)</td></tr>\n",
       "\t<tr><th scope=row>1201</th><td>1201                                      </td><td>5                                         </td><td>1                                         </td><td>Marlene Dietrich: Shadow and Light (1996) </td></tr>\n",
       "\t<tr><th scope=row>1536</th><td>1536                </td><td>5                   </td><td>1                   </td><td>Aiqing wansui (1994)</td></tr>\n",
       "\t<tr><th scope=row>1599</th><td>1599                         </td><td>5                            </td><td>1                            </td><td>Someone Else's America (1995)</td></tr>\n",
       "\t<tr><th scope=row>1653</th><td>1653                                             </td><td>5                                                </td><td>1                                                </td><td>Entertaining Angels: The Dorothy Day Story (1996)</td></tr>\n",
       "</tbody>\n",
       "</table>\n"
      ],
      "text/latex": [
       "\\begin{tabular}{r|llll}\n",
       "  & movie\\_id & avg\\_rating & no\\_of\\_reviews & title\\\\\n",
       "\\hline\n",
       "\t814 & 814                           & 5                             & 1                             & Great Day in Harlem, A (1994)\\\\\n",
       "\t1122 & 1122                           & 5                              & 1                              & They Made Me a Criminal (1939)\\\\\n",
       "\t1201 & 1201                                       & 5                                          & 1                                          & Marlene Dietrich: Shadow and Light (1996) \\\\\n",
       "\t1536 & 1536                 & 5                    & 1                    & Aiqing wansui (1994)\\\\\n",
       "\t1599 & 1599                          & 5                             & 1                             & Someone Else's America (1995)\\\\\n",
       "\t1653 & 1653                                              & 5                                                 & 1                                                 & Entertaining Angels: The Dorothy Day Story (1996)\\\\\n",
       "\\end{tabular}\n"
      ],
      "text/plain": [
       "     movie_id avg_rating no_of_reviews\n",
       "814       814          5             1\n",
       "1122     1122          5             1\n",
       "1201     1201          5             1\n",
       "1536     1536          5             1\n",
       "1599     1599          5             1\n",
       "1653     1653          5             1\n",
       "                                                 title\n",
       "814                      Great Day in Harlem, A (1994)\n",
       "1122                    They Made Me a Criminal (1939)\n",
       "1201        Marlene Dietrich: Shadow and Light (1996) \n",
       "1536                              Aiqing wansui (1994)\n",
       "1599                     Someone Else's America (1995)\n",
       "1653 Entertaining Angels: The Dorothy Day Story (1996)"
      ]
     },
     "metadata": {},
     "output_type": "display_data"
    }
   ],
   "source": [
    "# Display the first few rows of rating_means dataset in the descending rorder of average rating and and ascending order of \n",
    "#number of reviews. \n",
    "head(rating_means[with(rating_means, order(-avg_rating,no_of_reviews)), ])"
   ]
  },
  {
   "cell_type": "code",
   "execution_count": 18,
   "metadata": {
    "collapsed": false
   },
   "outputs": [
    {
     "data": {
      "text/html": [
       "<table>\n",
       "<thead><tr><th></th><th scope=col>movie_id</th><th scope=col>avg_rating</th><th scope=col>no_of_reviews</th><th scope=col>title</th></tr></thead>\n",
       "<tbody>\n",
       "\t<tr><th scope=row>50</th><td>50              </td><td>4.35849056603774</td><td>583             </td><td>Star Wars (1977)</td></tr>\n",
       "\t<tr><th scope=row>258</th><td>258             </td><td>3.80353634577603</td><td>509             </td><td>Contact (1997)  </td></tr>\n",
       "\t<tr><th scope=row>100</th><td>100             </td><td>4.15551181102362</td><td>508             </td><td>Fargo (1996)    </td></tr>\n",
       "\t<tr><th scope=row>181</th><td>181                      </td><td>4.00788954635108         </td><td>507                      </td><td>Return of the Jedi (1983)</td></tr>\n",
       "\t<tr><th scope=row>294</th><td>294             </td><td>3.15670103092783</td><td>485             </td><td>Liar Liar (1997)</td></tr>\n",
       "\t<tr><th scope=row>286</th><td>286                        </td><td>3.65696465696466           </td><td>481                        </td><td>English Patient, The (1996)</td></tr>\n",
       "</tbody>\n",
       "</table>\n"
      ],
      "text/latex": [
       "\\begin{tabular}{r|llll}\n",
       "  & movie\\_id & avg\\_rating & no\\_of\\_reviews & title\\\\\n",
       "\\hline\n",
       "\t50 & 50               & 4.35849056603774 & 583              & Star Wars (1977)\\\\\n",
       "\t258 & 258              & 3.80353634577603 & 509              & Contact (1997)  \\\\\n",
       "\t100 & 100              & 4.15551181102362 & 508              & Fargo (1996)    \\\\\n",
       "\t181 & 181                       & 4.00788954635108          & 507                       & Return of the Jedi (1983)\\\\\n",
       "\t294 & 294              & 3.15670103092783 & 485              & Liar Liar (1997)\\\\\n",
       "\t286 & 286                         & 3.65696465696466            & 481                         & English Patient, The (1996)\\\\\n",
       "\\end{tabular}\n"
      ],
      "text/plain": [
       "    movie_id avg_rating no_of_reviews                       title\n",
       "50        50   4.358491           583            Star Wars (1977)\n",
       "258      258   3.803536           509              Contact (1997)\n",
       "100      100   4.155512           508                Fargo (1996)\n",
       "181      181   4.007890           507   Return of the Jedi (1983)\n",
       "294      294   3.156701           485            Liar Liar (1997)\n",
       "286      286   3.656965           481 English Patient, The (1996)"
      ]
     },
     "metadata": {},
     "output_type": "display_data"
    }
   ],
   "source": [
    "# Display the rows of rating_means dataset in the descending rorder of number of reviws and and ascending order of \n",
    "# average rating\n",
    "head(rating_means[with(rating_means, order(-no_of_reviews,avg_rating)), ])"
   ]
  },
  {
   "cell_type": "markdown",
   "metadata": {},
   "source": [
    "When we sort the dataset based on descending order of avg_rating we get the top movies as (Aiqing Wansui (1994), Great Day in Harlem, A (1994), They Made Me a Criminal (1939), and more) all have a mean rating of 5 stars but also significantly less than 10 reviewers each. These are not the most popular movies for sure.\n",
    "\n",
    "On other hand we sorted the dataset based on number of reviews, which gave us a different list of movies. Even this list doesn't represent the true list of top movies."
   ]
  },
  {
   "cell_type": "code",
   "execution_count": 19,
   "metadata": {
    "collapsed": false
   },
   "outputs": [
    {
     "data": {
      "text/html": [
       "1682"
      ],
      "text/latex": [
       "1682"
      ],
      "text/markdown": [
       "1682"
      ],
      "text/plain": [
       "[1] 1682"
      ]
     },
     "metadata": {},
     "output_type": "display_data"
    },
    {
     "data": {
      "text/html": [
       "<ol class=list-inline>\n",
       "\t<li>563</li>\n",
       "\t<li>4</li>\n",
       "</ol>\n"
      ],
      "text/latex": [
       "\\begin{enumerate*}\n",
       "\\item 563\n",
       "\\item 4\n",
       "\\end{enumerate*}\n"
      ],
      "text/markdown": [
       "1. 563\n",
       "2. 4\n",
       "\n",
       "\n"
      ],
      "text/plain": [
       "[1] 563   4"
      ]
     },
     "metadata": {},
     "output_type": "display_data"
    }
   ],
   "source": [
    "nrow(rating_means)\n",
    "dim(rating_means[rating_means$no_of_reviews<=10, ])"
   ]
  },
  {
   "cell_type": "markdown",
   "metadata": {},
   "source": [
    "Lets plot average rating of movies against the number of reviews for the ratingmeans data set."
   ]
  },
  {
   "cell_type": "code",
   "execution_count": 23,
   "metadata": {
    "collapsed": false
   },
   "outputs": [
    {
     "data": {
      "image/png": "[encoded data removed]",
      "text/plain": [
       "plot without title"
      ]
     },
     "metadata": {
      "image/svg+xml": {
       "isolated": true
      }
     },
     "output_type": "display_data"
    }
   ],
   "source": [
    "library(ggplot2)\n",
    "ggplot(rating_means,aes(x=no_of_reviews,y=avg_rating))+geom_point()"
   ]
  },
  {
   "cell_type": "markdown",
   "metadata": {},
   "source": [
    "The plot suggests there are many movies have 0 to 100 reviews and out of them there are mant exist with 10 or less reviews. We can't say that a movie is good if the number of reviews are more as there are many movies with a rating of above 4 with very few reviews. Lets plot a hexbix plot that captures bunch of similar observations in a bin. "
   ]
  },
  {
   "cell_type": "code",
   "execution_count": 21,
   "metadata": {
    "collapsed": false
   },
   "outputs": [
    {
     "name": "stderr",
     "output_type": "stream",
     "text": [
      "Loading required package: hexbin\n"
     ]
    },
    {
     "data": {
      "image/png": "[encoded data removed]",
      "text/plain": [
       "plot without title"
      ]
     },
     "metadata": {
      "image/svg+xml": {
       "isolated": true
      }
     },
     "output_type": "display_data"
    }
   ],
   "source": [
    "# install.packages(\"hexbin\",repo=\"http://cran.uk.r-project.org\")\n",
    "require(hexbin)\n",
    "my.colors <- function (n) {\n",
    "  rev(LinGray(n, beg=1, end=92))\n",
    "}\n",
    "\n",
    "hexbinplot(avg_rating ~ no_of_reviews, data=rating_means,colramp = my.colors)"
   ]
  },
  {
   "cell_type": "markdown",
   "metadata": {},
   "source": [
    "**Reference: ** [hexbin()](https://cran.r-project.org/web/packages/hexbin/hexbin.pdf)"
   ]
  },
  {
   "cell_type": "code",
   "execution_count": 28,
   "metadata": {
    "collapsed": false
   },
   "outputs": [
    {
     "name": "stdout",
     "output_type": "stream",
     "text": [
      "[1] \"Distribution table with no of reviews <= 10 and average rating <= 3\"\n"
     ]
    },
    {
     "data": {
      "text/plain": [
       "       \n",
       "        FALSE TRUE\n",
       "  FALSE   784  335\n",
       "  TRUE    167  396"
      ]
     },
     "metadata": {},
     "output_type": "display_data"
    },
    {
     "name": "stdout",
     "output_type": "stream",
     "text": [
      "[1] \"Distribution table with no of reviews <= 10 and average rating <= 4\"\n"
     ]
    },
    {
     "data": {
      "text/plain": [
       "       \n",
       "        FALSE TRUE\n",
       "  FALSE   107 1012\n",
       "  TRUE     25  538"
      ]
     },
     "metadata": {},
     "output_type": "display_data"
    }
   ],
   "source": [
    "print(\"Distribution table with no of reviews <= 10 and average rating <= 3\")\n",
    "table(rating_means$no_of_reviews<=10,rating_means$avg_rating<=3)\n",
    "\n",
    "print(\"Distribution table with no of reviews <= 10 and average rating <= 4\")\n",
    "table(rating_means$no_of_reviews<=10,rating_means$avg_rating<=4)"
   ]
  },
  {
   "cell_type": "code",
   "execution_count": 32,
   "metadata": {
    "collapsed": false
   },
   "outputs": [
    {
     "name": "stdout",
     "output_type": "stream",
     "text": [
      "[1] \"Average rating of movies with no of reviws <=10\"\n"
     ]
    },
    {
     "data": {
      "text/html": [
       "<table>\n",
       "<thead><tr><th scope=col>FALSE</th><th scope=col>TRUE</th></tr></thead>\n",
       "<tbody>\n",
       "\t<tr><td>3.292109</td><td>2.646601</td></tr>\n",
       "</tbody>\n",
       "</table>\n"
      ],
      "text/latex": [
       "\\begin{tabular}{ll}\n",
       " FALSE & TRUE\\\\\n",
       "\\hline\n",
       "\t 3.292109 & 2.646601\\\\\n",
       "\\end{tabular}\n"
      ],
      "text/markdown": [
       "1. 3.29210934322292\n",
       "2. 2.64660125743607\n",
       "\n",
       "\n"
      ],
      "text/plain": [
       "        FALSE     TRUE\n",
       "[1,] 3.292109 2.646601"
      ]
     },
     "metadata": {},
     "output_type": "display_data"
    },
    {
     "name": "stdout",
     "output_type": "stream",
     "text": [
      "[1] \"Average rating of movies with no of reviws > 10\"\n"
     ]
    },
    {
     "data": {
      "text/html": [
       "<table>\n",
       "<thead><tr><th scope=col>FALSE</th><th scope=col>TRUE</th></tr></thead>\n",
       "<tbody>\n",
       "\t<tr><td>2.646601</td><td>3.292109</td></tr>\n",
       "</tbody>\n",
       "</table>\n"
      ],
      "text/latex": [
       "\\begin{tabular}{ll}\n",
       " FALSE & TRUE\\\\\n",
       "\\hline\n",
       "\t 2.646601 & 3.292109\\\\\n",
       "\\end{tabular}\n"
      ],
      "text/markdown": [
       "1. 2.64660125743607\n",
       "2. 3.29210934322292\n",
       "\n",
       "\n"
      ],
      "text/plain": [
       "        FALSE     TRUE\n",
       "[1,] 2.646601 3.292109"
      ]
     },
     "metadata": {},
     "output_type": "display_data"
    },
    {
     "name": "stdout",
     "output_type": "stream",
     "text": [
      "[1] \"Average rating of movies with no of reviws >10 and <=100\"\n"
     ]
    },
    {
     "data": {
      "text/html": [
       "<table>\n",
       "<thead><tr><th scope=col>FALSE</th><th scope=col>TRUE</th></tr></thead>\n",
       "<tbody>\n",
       "\t<tr><td>3.021668</td><td>3.133479</td></tr>\n",
       "</tbody>\n",
       "</table>\n"
      ],
      "text/latex": [
       "\\begin{tabular}{ll}\n",
       " FALSE & TRUE\\\\\n",
       "\\hline\n",
       "\t 3.021668 & 3.133479\\\\\n",
       "\\end{tabular}\n"
      ],
      "text/markdown": [
       "1. 3.02166777869876\n",
       "2. 3.13347909805284\n",
       "\n",
       "\n"
      ],
      "text/plain": [
       "        FALSE     TRUE\n",
       "[1,] 3.021668 3.133479"
      ]
     },
     "metadata": {},
     "output_type": "display_data"
    }
   ],
   "source": [
    "print(\"Average rating of movies with no of reviws <=10\")\n",
    "t(tapply(rating_means$avg_rating,rating_means$no_of_reviews>=0 & rating_means$no_of_reviews<=10,mean))\n",
    "\n",
    "print(\"Average rating of movies with no of reviws > 10\")\n",
    "t(tapply(rating_means$avg_rating,rating_means$no_of_reviews>10,mean))\n",
    "\n",
    "print(\"Average rating of movies with no of reviws >10 and <=100\")\n",
    "t(tapply(rating_means$avg_rating,rating_means$no_of_reviews>=10 & rating_means$no_of_reviews<=100,mean))"
   ]
  },
  {
   "cell_type": "markdown",
   "metadata": {},
   "source": [
    "This figure shows that the average rating of a movie is actually slightly higher than 3. Most number of movies have reviewrs less than 100 while decent amount of movies have 100 to 300 reviews. \n",
    "\n",
    "The hexbin plot gets our attention when there are less than 10 reviewers. The tails on the graph are dramatic. Movies with low number of reviews have equal number of good and bad rating movies. On the other hand movies with higher reviews tend to be better rating movies. If there are less than 10 reviews, movies have an average rating of 2.64, whereas after 10 reviews movies have an average rating of 3.29.\n",
    "\n",
    "We can hypothesize two things from above observations. First, we become confident that a mean rating is good so long as it has between 10 and 100 reviews. Secondly, we know that the average rating is between 3.0 and 3.5 when a movie has that many number of reviews. Using these two hypotheses, we can come up with a rule that will allow us to rank movies according to both the mean rating the movie has received as well as the number of reviews the movie got. We can formalize these hypotheses with Bayesian estimation."
   ]
  },
  {
   "cell_type": "markdown",
   "metadata": {},
   "source": [
    "### Bayesian estimation\n",
    "\n",
    "Using bayesian estimation we will try to code our hypotheses."
   ]
  },
  {
   "cell_type": "markdown",
   "metadata": {},
   "source": [
    "In order to estimate probabilities you have to generate observations. Let's look at a simple example. \n",
    "\n",
    "Suppose we want to estimate the likelihood that someone will give a movie a thumbs up. We would initially assign each person a probability $X$ and initialize it to 0.5 probability that they will give the movie a thumbs up. We would then go stand outside a theater where that movie was playing and ask people leaving the theater that saw that movie whether they would give the movie a thumbs up or a thumbs down. The result would be a collection of observations that we would use to update our $X$, making it more accurate. The updated $X$ based on $O$, the sequence of observations after $N$ tests, is called the **posterior distribution.**\n",
    "\n",
    "Bayes formula tells us how to compute the probability of $X$ given $O$:\n",
    "\n",
    "<img src=\"../images/computing-bayesian-average-of-star-ratings-2_large.PNG\">\n",
    "\n",
    "P(O) is the probability of observation and our prior, P(X), is what we believe the distribution of the probabilities X is before seeing any data. When you don't know anything about the probabilities, you can start with the assumption that there is an underlying uniform distribution where all possible values of the random variable X are equally likely. Therefore, we are only interested in the proportionality relationship between P(X|O) (read \"the probability of X given O\") and P(O|X) (read \"the probability of O given X\"). The probability of O given X (P(O|X)) is called the likelihood and can be computed by taking the product of the probability of each observation (assuming they are independent):"
   ]
  },
  {
   "cell_type": "markdown",
   "metadata": {},
   "source": [
    "What is the expected value of the average rating given a posterior in the shape of our Dirichlet distribution?\n",
    "\n",
    "P()\n",
    "\n",
    "### Bayesian average calculation\n",
    "\n",
    "Select some m that represents a prior for the average rating.\n",
    "\n",
    "Select a C that represents our confidence in the prior.\n",
    "\n",
    "According to our hypothesis: m is the average rating we can expect for movie, given some minimum number of observations, C. We could estimate m to be 3.25 and C to be 50 according to our observations above. \n",
    "\n",
    "The Bayesian average would then be:\n",
    "\n",
    "<img src=\"../images/bayesian formula.PNG\">\n",
    "\n",
    "Replacing N for the number of reviews and C and m for our confidence and prior respectively. Let's update our rating_means dataframe to reflect these new insights:"
   ]
  },
  {
   "cell_type": "code",
   "execution_count": 35,
   "metadata": {
    "collapsed": false
   },
   "outputs": [
    {
     "data": {
      "text/html": [
       "<table>\n",
       "<thead><tr><th></th><th scope=col>movie_id</th><th scope=col>avg_rating</th><th scope=col>no_of_reviews</th><th scope=col>title</th><th scope=col>bayes</th></tr></thead>\n",
       "<tbody>\n",
       "\t<tr><th scope=row>814</th><td>814                          </td><td>5                            </td><td>1                            </td><td>Great Day in Harlem, A (1994)</td><td>3.05882352941176             </td></tr>\n",
       "\t<tr><th scope=row>1122</th><td>1122                          </td><td>5                             </td><td>1                             </td><td>They Made Me a Criminal (1939)</td><td>3.05882352941176              </td></tr>\n",
       "\t<tr><th scope=row>1201</th><td>1201                                      </td><td>5                                         </td><td>1                                         </td><td>Marlene Dietrich: Shadow and Light (1996) </td><td>3.05882352941176                          </td></tr>\n",
       "\t<tr><th scope=row>1536</th><td>1536                </td><td>5                   </td><td>1                   </td><td>Aiqing wansui (1994)</td><td>3.05882352941176    </td></tr>\n",
       "\t<tr><th scope=row>1599</th><td>1599                         </td><td>5                            </td><td>1                            </td><td>Someone Else's America (1995)</td><td>3.05882352941176             </td></tr>\n",
       "\t<tr><th scope=row>1653</th><td>1653                                             </td><td>5                                                </td><td>1                                                </td><td>Entertaining Angels: The Dorothy Day Story (1996)</td><td>3.05882352941176                                 </td></tr>\n",
       "\t<tr><th scope=row>711</th><td>711                          </td><td>4                            </td><td>1                            </td><td>Substance of Fire, The (1996)</td><td>3.05882352941176             </td></tr>\n",
       "\t<tr><th scope=row>1130</th><td>1130                 </td><td>4                    </td><td>1                    </td><td>Jupiter's Wife (1994)</td><td>3.05882352941176     </td></tr>\n",
       "\t<tr><th scope=row>1235</th><td>1235                       </td><td>4                          </td><td>1                          </td><td>Big Bang Theory, The (1994)</td><td>3.05882352941176           </td></tr>\n",
       "\t<tr><th scope=row>1452</th><td>1452                    </td><td>4                       </td><td>1                       </td><td>Lady of Burlesque (1943)</td><td>3.05882352941176        </td></tr>\n",
       "\t<tr><th scope=row>1458</th><td>1458                        </td><td>4                           </td><td>1                           </td><td>Damsel in Distress, A (1937)</td><td>3.05882352941176            </td></tr>\n",
       "\t<tr><th scope=row>1482</th><td>1482                              </td><td>4                                 </td><td>1                                 </td><td>Gate of Heavenly Peace, The (1995)</td><td>3.05882352941176                  </td></tr>\n",
       "\t<tr><th scope=row>1492</th><td>1492                  </td><td>4                     </td><td>1                     </td><td>Window to Paris (1994)</td><td>3.05882352941176      </td></tr>\n",
       "\t<tr><th scope=row>1498</th><td>1498                     </td><td>4                        </td><td>1                        </td><td>Farmer &amp; Chase (1995)</td><td>3.05882352941176         </td></tr>\n",
       "\t<tr><th scope=row>1505</th><td>1505                              </td><td>4                                 </td><td>1                                 </td><td>Killer: A Journal of Murder (1995)</td><td>3.05882352941176                  </td></tr>\n",
       "\t<tr><th scope=row>1515</th><td>1515                   </td><td>4                      </td><td>1                      </td><td>Wings of Courage (1995)</td><td>3.05882352941176       </td></tr>\n",
       "\t<tr><th scope=row>1525</th><td>1525                              </td><td>4                                 </td><td>1                                 </td><td>Object of My Affection, The (1998)</td><td>3.05882352941176                  </td></tr>\n",
       "\t<tr><th scope=row>1526</th><td>1526            </td><td>4               </td><td>1               </td><td>Witness (1985)  </td><td>3.05882352941176</td></tr>\n",
       "\t<tr><th scope=row>1533</th><td>1533                                                     </td><td>4                                                        </td><td>1                                                        </td><td>I Don't Want to Talk About It (De eso no se habla) (1993)</td><td>3.05882352941176                                         </td></tr>\n",
       "\t<tr><th scope=row>1593</th><td>1593                     </td><td>4                        </td><td>1                        </td><td>Death in Brunswick (1991)</td><td>3.05882352941176         </td></tr>\n",
       "\t<tr><th scope=row>1604</th><td>1604                     </td><td>4                        </td><td>1                        </td><td>He Walked by Night (1948)</td><td>3.05882352941176         </td></tr>\n",
       "\t<tr><th scope=row>1613</th><td>1613             </td><td>4                </td><td>1                </td><td>Tokyo Fist (1995)</td><td>3.05882352941176 </td></tr>\n",
       "\t<tr><th scope=row>1616</th><td>1616               </td><td>4                  </td><td>1                  </td><td>Desert Winds (1995)</td><td>3.05882352941176   </td></tr>\n",
       "\t<tr><th scope=row>1625</th><td>1625             </td><td>4                </td><td>1                </td><td>Nightwatch (1997)</td><td>3.05882352941176 </td></tr>\n",
       "\t<tr><th scope=row>1636</th><td>1636                      </td><td>4                         </td><td>1                         </td><td>Brothers in Trouble (1995)</td><td>3.05882352941176          </td></tr>\n",
       "\t<tr><th scope=row>1645</th><td>1645                   </td><td>4                      </td><td>1                      </td><td>Butcher Boy, The (1998)</td><td>3.05882352941176       </td></tr>\n",
       "\t<tr><th scope=row>1650</th><td>1650                   </td><td>4                      </td><td>1                      </td><td>Butcher Boy, The (1998)</td><td>3.05882352941176       </td></tr>\n",
       "\t<tr><th scope=row>1651</th><td>1651                        </td><td>4                           </td><td>1                           </td><td>Spanish Prisoner, The (1997)</td><td>3.05882352941176            </td></tr>\n",
       "\t<tr><th scope=row>1674</th><td>1674             </td><td>4                </td><td>1                </td><td>Mamma Roma (1962)</td><td>3.05882352941176 </td></tr>\n",
       "\t<tr><th scope=row>677</th><td>677                        </td><td>3                          </td><td>1                          </td><td>Fire on the Mountain (1996)</td><td>3.05882352941176           </td></tr>\n",
       "\t<tr><th scope=row>...</th><td>...</td><td>...</td><td>...</td><td>...</td><td>...</td></tr>\n",
       "\t<tr><th scope=row>269</th><td>269                   </td><td>3.92698412698413      </td><td>315                   </td><td>Full Monty, The (1997)</td><td>1.28767123287671      </td></tr>\n",
       "\t<tr><th scope=row>168</th><td>168                                   </td><td>4.06645569620253                      </td><td>316                                   </td><td>Monty Python and the Holy Grail (1974)</td><td>1.28688524590164                      </td></tr>\n",
       "\t<tr><th scope=row>748</th><td>748              </td><td>3.12341772151899 </td><td>316              </td><td>Saint, The (1997)</td><td>1.28688524590164 </td></tr>\n",
       "\t<tr><th scope=row>69</th><td>69                 </td><td>3.85358255451713   </td><td>321                </td><td>Forrest Gump (1994)</td><td>1.28301886792453   </td></tr>\n",
       "\t<tr><th scope=row>173</th><td>173                       </td><td>4.17283950617284          </td><td>324                       </td><td>Princess Bride, The (1987)</td><td>1.2807486631016           </td></tr>\n",
       "\t<tr><th scope=row>151</th><td>151                                         </td><td>3.6319018404908                             </td><td>326                                         </td><td>Willy Wonka and the Chocolate Factory (1971)</td><td>1.27925531914894                            </td></tr>\n",
       "\t<tr><th scope=row>210</th><td>210                                      </td><td>3.93051359516616                         </td><td>331                                      </td><td>Indiana Jones and the Last Crusade (1989)</td><td>1.2755905511811                          </td></tr>\n",
       "\t<tr><th scope=row>79</th><td>79                  </td><td>4.04464285714286    </td><td>336                 </td><td>Fugitive, The (1993)</td><td>1.2720207253886     </td></tr>\n",
       "\t<tr><th scope=row>405</th><td>405                       </td><td>3.31395348837209          </td><td>344                       </td><td>Mission: Impossible (1996)</td><td>1.26649746192893          </td></tr>\n",
       "\t<tr><th scope=row>313</th><td>313             </td><td>4.24571428571429</td><td>350             </td><td>Titanic (1997)  </td><td>1.2625          </td></tr>\n",
       "\t<tr><th scope=row>204</th><td>204                      </td><td>3.83428571428571         </td><td>350                      </td><td>Back to the Future (1985)</td><td>1.2625                   </td></tr>\n",
       "\t<tr><th scope=row>222</th><td>222                            </td><td>3.66027397260274               </td><td>365                            </td><td>Star Trek: First Contact (1996)</td><td>1.25301204819277               </td></tr>\n",
       "\t<tr><th scope=row>172</th><td>172                            </td><td>4.20435967302452               </td><td>367                            </td><td>Empire Strikes Back, The (1980)</td><td>1.25179856115108               </td></tr>\n",
       "\t<tr><th scope=row>117</th><td>117             </td><td>3.69312169312169</td><td>378             </td><td>Rock, The (1996)</td><td>1.24532710280374</td></tr>\n",
       "\t<tr><th scope=row>237</th><td>237                 </td><td>3.7109375           </td><td>384                 </td><td>Jerry Maguire (1996)</td><td>1.24193548387097    </td></tr>\n",
       "\t<tr><th scope=row>98</th><td>98                              </td><td>4.28974358974359                </td><td>390                             </td><td>Silence of the Lambs, The (1991)</td><td>1.23863636363636                </td></tr>\n",
       "\t<tr><th scope=row>7</th><td>7                    </td><td>3.7984693877551      </td><td>392                  </td><td>Twelve Monkeys (1995)</td><td>1.23755656108597     </td></tr>\n",
       "\t<tr><th scope=row>56</th><td>56                 </td><td>4.06091370558376   </td><td>394                </td><td>Pulp Fiction (1994)</td><td>1.23648648648649   </td></tr>\n",
       "\t<tr><th scope=row>127</th><td>127                  </td><td>4.28329297820823     </td><td>413                  </td><td>Godfather, The (1972)</td><td>1.2267818574514      </td></tr>\n",
       "\t<tr><th scope=row>174</th><td>174                           </td><td>4.25238095238095              </td><td>420                           </td><td>Raiders of the Lost Ark (1981)</td><td>1.22340425531915              </td></tr>\n",
       "\t<tr><th scope=row>121</th><td>121                          </td><td>3.43822843822844             </td><td>429                          </td><td>Independence Day (ID4) (1996)</td><td>1.21920668058455             </td></tr>\n",
       "\t<tr><th scope=row>300</th><td>300                 </td><td>3.63109048723898    </td><td>431                 </td><td>Air Force One (1997)</td><td>1.21829521829522    </td></tr>\n",
       "\t<tr><th scope=row>1</th><td>1               </td><td>3.8783185840708 </td><td>452             </td><td>Toy Story (1995)</td><td>1.20916334661355</td></tr>\n",
       "\t<tr><th scope=row>288</th><td>288             </td><td>3.44142259414226</td><td>478             </td><td>Scream (1996)   </td><td>1.19886363636364</td></tr>\n",
       "\t<tr><th scope=row>286</th><td>286                        </td><td>3.65696465696466           </td><td>481                        </td><td>English Patient, The (1996)</td><td>1.19774011299435           </td></tr>\n",
       "\t<tr><th scope=row>294</th><td>294             </td><td>3.15670103092783</td><td>485             </td><td>Liar Liar (1997)</td><td>1.19626168224299</td></tr>\n",
       "\t<tr><th scope=row>181</th><td>181                      </td><td>4.00788954635108         </td><td>507                      </td><td>Return of the Jedi (1983)</td><td>1.18850987432675         </td></tr>\n",
       "\t<tr><th scope=row>100</th><td>100             </td><td>4.15551181102362</td><td>508             </td><td>Fargo (1996)    </td><td>1.18817204301075</td></tr>\n",
       "\t<tr><th scope=row>258</th><td>258             </td><td>3.80353634577603</td><td>509             </td><td>Contact (1997)  </td><td>1.18783542039356</td></tr>\n",
       "\t<tr><th scope=row>50</th><td>50              </td><td>4.35849056603774</td><td>583             </td><td>Star Wars (1977)</td><td>1.16587677725118</td></tr>\n",
       "</tbody>\n",
       "</table>\n"
      ],
      "text/latex": [
       "\\begin{tabular}{r|lllll}\n",
       "  & movie\\_id & avg\\_rating & no\\_of\\_reviews & title & bayes\\\\\n",
       "\\hline\n",
       "\t814 & 814                           & 5                             & 1                             & Great Day in Harlem, A (1994) & 3.05882352941176             \\\\\n",
       "\t1122 & 1122                           & 5                              & 1                              & They Made Me a Criminal (1939) & 3.05882352941176              \\\\\n",
       "\t1201 & 1201                                       & 5                                          & 1                                          & Marlene Dietrich: Shadow and Light (1996)  & 3.05882352941176                          \\\\\n",
       "\t1536 & 1536                 & 5                    & 1                    & Aiqing wansui (1994) & 3.05882352941176    \\\\\n",
       "\t1599 & 1599                          & 5                             & 1                             & Someone Else's America (1995) & 3.05882352941176             \\\\\n",
       "\t1653 & 1653                                              & 5                                                 & 1                                                 & Entertaining Angels: The Dorothy Day Story (1996) & 3.05882352941176                                 \\\\\n",
       "\t711 & 711                           & 4                             & 1                             & Substance of Fire, The (1996) & 3.05882352941176             \\\\\n",
       "\t1130 & 1130                  & 4                     & 1                     & Jupiter's Wife (1994) & 3.05882352941176     \\\\\n",
       "\t1235 & 1235                        & 4                           & 1                           & Big Bang Theory, The (1994) & 3.05882352941176           \\\\\n",
       "\t1452 & 1452                     & 4                        & 1                        & Lady of Burlesque (1943) & 3.05882352941176        \\\\\n",
       "\t1458 & 1458                         & 4                            & 1                            & Damsel in Distress, A (1937) & 3.05882352941176            \\\\\n",
       "\t1482 & 1482                               & 4                                  & 1                                  & Gate of Heavenly Peace, The (1995) & 3.05882352941176                  \\\\\n",
       "\t1492 & 1492                   & 4                      & 1                      & Window to Paris (1994) & 3.05882352941176      \\\\\n",
       "\t1498 & 1498                    & 4                       & 1                       & Farmer \\& Chase (1995) & 3.05882352941176       \\\\\n",
       "\t1505 & 1505                               & 4                                  & 1                                  & Killer: A Journal of Murder (1995) & 3.05882352941176                  \\\\\n",
       "\t1515 & 1515                    & 4                       & 1                       & Wings of Courage (1995) & 3.05882352941176       \\\\\n",
       "\t1525 & 1525                               & 4                                  & 1                                  & Object of My Affection, The (1998) & 3.05882352941176                  \\\\\n",
       "\t1526 & 1526             & 4                & 1                & Witness (1985)   & 3.05882352941176\\\\\n",
       "\t1533 & 1533                                                      & 4                                                         & 1                                                         & I Don't Want to Talk About It (De eso no se habla) (1993) & 3.05882352941176                                         \\\\\n",
       "\t1593 & 1593                      & 4                         & 1                         & Death in Brunswick (1991) & 3.05882352941176         \\\\\n",
       "\t1604 & 1604                      & 4                         & 1                         & He Walked by Night (1948) & 3.05882352941176         \\\\\n",
       "\t1613 & 1613              & 4                 & 1                 & Tokyo Fist (1995) & 3.05882352941176 \\\\\n",
       "\t1616 & 1616                & 4                   & 1                   & Desert Winds (1995) & 3.05882352941176   \\\\\n",
       "\t1625 & 1625              & 4                 & 1                 & Nightwatch (1997) & 3.05882352941176 \\\\\n",
       "\t1636 & 1636                       & 4                          & 1                          & Brothers in Trouble (1995) & 3.05882352941176          \\\\\n",
       "\t1645 & 1645                    & 4                       & 1                       & Butcher Boy, The (1998) & 3.05882352941176       \\\\\n",
       "\t1650 & 1650                    & 4                       & 1                       & Butcher Boy, The (1998) & 3.05882352941176       \\\\\n",
       "\t1651 & 1651                         & 4                            & 1                            & Spanish Prisoner, The (1997) & 3.05882352941176            \\\\\n",
       "\t1674 & 1674              & 4                 & 1                 & Mamma Roma (1962) & 3.05882352941176 \\\\\n",
       "\t677 & 677                         & 3                           & 1                           & Fire on the Mountain (1996) & 3.05882352941176           \\\\\n",
       "\t... & ... & ... & ... & ... & ...\\\\\n",
       "\t269 & 269                    & 3.92698412698413       & 315                    & Full Monty, The (1997) & 1.28767123287671      \\\\\n",
       "\t168 & 168                                    & 4.06645569620253                       & 316                                    & Monty Python and the Holy Grail (1974) & 1.28688524590164                      \\\\\n",
       "\t748 & 748               & 3.12341772151899  & 316               & Saint, The (1997) & 1.28688524590164 \\\\\n",
       "\t69 & 69                  & 3.85358255451713    & 321                 & Forrest Gump (1994) & 1.28301886792453   \\\\\n",
       "\t173 & 173                        & 4.17283950617284           & 324                        & Princess Bride, The (1987) & 1.2807486631016           \\\\\n",
       "\t151 & 151                                          & 3.6319018404908                              & 326                                          & Willy Wonka and the Chocolate Factory (1971) & 1.27925531914894                            \\\\\n",
       "\t210 & 210                                       & 3.93051359516616                          & 331                                       & Indiana Jones and the Last Crusade (1989) & 1.2755905511811                          \\\\\n",
       "\t79 & 79                   & 4.04464285714286     & 336                  & Fugitive, The (1993) & 1.2720207253886     \\\\\n",
       "\t405 & 405                        & 3.31395348837209           & 344                        & Mission: Impossible (1996) & 1.26649746192893          \\\\\n",
       "\t313 & 313              & 4.24571428571429 & 350              & Titanic (1997)   & 1.2625          \\\\\n",
       "\t204 & 204                       & 3.83428571428571          & 350                       & Back to the Future (1985) & 1.2625                   \\\\\n",
       "\t222 & 222                             & 3.66027397260274                & 365                             & Star Trek: First Contact (1996) & 1.25301204819277               \\\\\n",
       "\t172 & 172                             & 4.20435967302452                & 367                             & Empire Strikes Back, The (1980) & 1.25179856115108               \\\\\n",
       "\t117 & 117              & 3.69312169312169 & 378              & Rock, The (1996) & 1.24532710280374\\\\\n",
       "\t237 & 237                  & 3.7109375            & 384                  & Jerry Maguire (1996) & 1.24193548387097    \\\\\n",
       "\t98 & 98                               & 4.28974358974359                 & 390                              & Silence of the Lambs, The (1991) & 1.23863636363636                \\\\\n",
       "\t7 & 7                     & 3.7984693877551       & 392                   & Twelve Monkeys (1995) & 1.23755656108597     \\\\\n",
       "\t56 & 56                  & 4.06091370558376    & 394                 & Pulp Fiction (1994) & 1.23648648648649   \\\\\n",
       "\t127 & 127                   & 4.28329297820823      & 413                   & Godfather, The (1972) & 1.2267818574514      \\\\\n",
       "\t174 & 174                            & 4.25238095238095               & 420                            & Raiders of the Lost Ark (1981) & 1.22340425531915              \\\\\n",
       "\t121 & 121                           & 3.43822843822844              & 429                           & Independence Day (ID4) (1996) & 1.21920668058455             \\\\\n",
       "\t300 & 300                  & 3.63109048723898     & 431                  & Air Force One (1997) & 1.21829521829522    \\\\\n",
       "\t1 & 1                & 3.8783185840708  & 452              & Toy Story (1995) & 1.20916334661355\\\\\n",
       "\t288 & 288              & 3.44142259414226 & 478              & Scream (1996)    & 1.19886363636364\\\\\n",
       "\t286 & 286                         & 3.65696465696466            & 481                         & English Patient, The (1996) & 1.19774011299435           \\\\\n",
       "\t294 & 294              & 3.15670103092783 & 485              & Liar Liar (1997) & 1.19626168224299\\\\\n",
       "\t181 & 181                       & 4.00788954635108          & 507                       & Return of the Jedi (1983) & 1.18850987432675         \\\\\n",
       "\t100 & 100              & 4.15551181102362 & 508              & Fargo (1996)     & 1.18817204301075\\\\\n",
       "\t258 & 258              & 3.80353634577603 & 509              & Contact (1997)   & 1.18783542039356\\\\\n",
       "\t50 & 50               & 4.35849056603774 & 583              & Star Wars (1977) & 1.16587677725118\\\\\n",
       "\\end{tabular}\n"
      ],
      "text/plain": [
       "     movie_id       avg_rating no_of_reviews\n",
       "814       814                5             1\n",
       "1122     1122                5             1\n",
       "1201     1201                5             1\n",
       "1536     1536                5             1\n",
       "1599     1599                5             1\n",
       "1653     1653                5             1\n",
       "711       711                4             1\n",
       "1130     1130                4             1\n",
       "1235     1235                4             1\n",
       "1452     1452                4             1\n",
       "1458     1458                4             1\n",
       "1482     1482                4             1\n",
       "1492     1492                4             1\n",
       "1498     1498                4             1\n",
       "1505     1505                4             1\n",
       "1515     1515                4             1\n",
       "1525     1525                4             1\n",
       "1526     1526                4             1\n",
       "1533     1533                4             1\n",
       "1593     1593                4             1\n",
       "1604     1604                4             1\n",
       "1613     1613                4             1\n",
       "1616     1616                4             1\n",
       "1625     1625                4             1\n",
       "1636     1636                4             1\n",
       "1645     1645                4             1\n",
       "1650     1650                4             1\n",
       "1651     1651                4             1\n",
       "1674     1674                4             1\n",
       "677       677                3             1\n",
       "...       ...              ...           ...\n",
       "269       269 3.92698412698413           315\n",
       "168       168 4.06645569620253           316\n",
       "748       748 3.12341772151899           316\n",
       "69         69 3.85358255451713           321\n",
       "173       173 4.17283950617284           324\n",
       "151       151  3.6319018404908           326\n",
       "210       210 3.93051359516616           331\n",
       "79         79 4.04464285714286           336\n",
       "405       405 3.31395348837209           344\n",
       "313       313 4.24571428571429           350\n",
       "204       204 3.83428571428571           350\n",
       "222       222 3.66027397260274           365\n",
       "172       172 4.20435967302452           367\n",
       "117       117 3.69312169312169           378\n",
       "237       237        3.7109375           384\n",
       "98         98 4.28974358974359           390\n",
       "7           7  3.7984693877551           392\n",
       "56         56 4.06091370558376           394\n",
       "127       127 4.28329297820823           413\n",
       "174       174 4.25238095238095           420\n",
       "121       121 3.43822843822844           429\n",
       "300       300 3.63109048723898           431\n",
       "1           1  3.8783185840708           452\n",
       "288       288 3.44142259414226           478\n",
       "286       286 3.65696465696466           481\n",
       "294       294 3.15670103092783           485\n",
       "181       181 4.00788954635108           507\n",
       "100       100 4.15551181102362           508\n",
       "258       258 3.80353634577603           509\n",
       "50         50 4.35849056603774           583\n",
       "                                                         title            bayes\n",
       "814                              Great Day in Harlem, A (1994) 3.05882352941176\n",
       "1122                            They Made Me a Criminal (1939) 3.05882352941176\n",
       "1201                Marlene Dietrich: Shadow and Light (1996)  3.05882352941176\n",
       "1536                                      Aiqing wansui (1994) 3.05882352941176\n",
       "1599                             Someone Else's America (1995) 3.05882352941176\n",
       "1653         Entertaining Angels: The Dorothy Day Story (1996) 3.05882352941176\n",
       "711                              Substance of Fire, The (1996) 3.05882352941176\n",
       "1130                                     Jupiter's Wife (1994) 3.05882352941176\n",
       "1235                               Big Bang Theory, The (1994) 3.05882352941176\n",
       "1452                                  Lady of Burlesque (1943) 3.05882352941176\n",
       "1458                              Damsel in Distress, A (1937) 3.05882352941176\n",
       "1482                        Gate of Heavenly Peace, The (1995) 3.05882352941176\n",
       "1492                                    Window to Paris (1994) 3.05882352941176\n",
       "1498                                     Farmer & Chase (1995) 3.05882352941176\n",
       "1505                        Killer: A Journal of Murder (1995) 3.05882352941176\n",
       "1515                                   Wings of Courage (1995) 3.05882352941176\n",
       "1525                        Object of My Affection, The (1998) 3.05882352941176\n",
       "1526                                            Witness (1985) 3.05882352941176\n",
       "1533 I Don't Want to Talk About It (De eso no se habla) (1993) 3.05882352941176\n",
       "1593                                 Death in Brunswick (1991) 3.05882352941176\n",
       "1604                                 He Walked by Night (1948) 3.05882352941176\n",
       "1613                                         Tokyo Fist (1995) 3.05882352941176\n",
       "1616                                       Desert Winds (1995) 3.05882352941176\n",
       "1625                                         Nightwatch (1997) 3.05882352941176\n",
       "1636                                Brothers in Trouble (1995) 3.05882352941176\n",
       "1645                                   Butcher Boy, The (1998) 3.05882352941176\n",
       "1650                                   Butcher Boy, The (1998) 3.05882352941176\n",
       "1651                              Spanish Prisoner, The (1997) 3.05882352941176\n",
       "1674                                         Mamma Roma (1962) 3.05882352941176\n",
       "677                                Fire on the Mountain (1996) 3.05882352941176\n",
       "...                                                        ...              ...\n",
       "269                                     Full Monty, The (1997) 1.28767123287671\n",
       "168                     Monty Python and the Holy Grail (1974) 1.28688524590164\n",
       "748                                          Saint, The (1997) 1.28688524590164\n",
       "69                                         Forrest Gump (1994) 1.28301886792453\n",
       "173                                 Princess Bride, The (1987)  1.2807486631016\n",
       "151               Willy Wonka and the Chocolate Factory (1971) 1.27925531914894\n",
       "210                  Indiana Jones and the Last Crusade (1989)  1.2755905511811\n",
       "79                                        Fugitive, The (1993)  1.2720207253886\n",
       "405                                 Mission: Impossible (1996) 1.26649746192893\n",
       "313                                             Titanic (1997)           1.2625\n",
       "204                                  Back to the Future (1985)           1.2625\n",
       "222                            Star Trek: First Contact (1996) 1.25301204819277\n",
       "172                            Empire Strikes Back, The (1980) 1.25179856115108\n",
       "117                                           Rock, The (1996) 1.24532710280374\n",
       "237                                       Jerry Maguire (1996) 1.24193548387097\n",
       "98                            Silence of the Lambs, The (1991) 1.23863636363636\n",
       "7                                        Twelve Monkeys (1995) 1.23755656108597\n",
       "56                                         Pulp Fiction (1994) 1.23648648648649\n",
       "127                                      Godfather, The (1972)  1.2267818574514\n",
       "174                             Raiders of the Lost Ark (1981) 1.22340425531915\n",
       "121                              Independence Day (ID4) (1996) 1.21920668058455\n",
       "300                                       Air Force One (1997) 1.21829521829522\n",
       "1                                             Toy Story (1995) 1.20916334661355\n",
       "288                                              Scream (1996) 1.19886363636364\n",
       "286                                English Patient, The (1996) 1.19774011299435\n",
       "294                                           Liar Liar (1997) 1.19626168224299\n",
       "181                                  Return of the Jedi (1983) 1.18850987432675\n",
       "100                                               Fargo (1996) 1.18817204301075\n",
       "258                                             Contact (1997) 1.18783542039356\n",
       "50                                            Star Wars (1977) 1.16587677725118"
      ]
     },
     "metadata": {},
     "output_type": "display_data"
    },
    {
     "data": {
      "text/html": [
       "3.05882352941176"
      ],
      "text/latex": [
       "3.05882352941176"
      ],
      "text/markdown": [
       "3.05882352941176"
      ],
      "text/plain": [
       "[1] 3.058824"
      ]
     },
     "metadata": {},
     "output_type": "display_data"
    }
   ],
   "source": [
    "len <- nrow(rating_means)\n",
    "for(i in 1:len)\n",
    "    {\n",
    "#     print(rating_means$no_of_reviews[i])\n",
    "        rating_means$bayes[i] = ((50*3.1) + rating_means$no_of_reviews[i])/(50 + rating_means$no_of_reviews[i])\n",
    "}\n",
    "\n",
    "rating_means[with(rating_means, order(-bayes,-avg_rating,-no_of_reviews)), ]\n",
    "max(rating_means$bayes)"
   ]
  }
 ],
 "metadata": {
  "kernelspec": {
   "display_name": "R",
   "language": "R",
   "name": "ir"
  },
  "language_info": {
   "codemirror_mode": "r",
   "file_extension": ".r",
   "mimetype": "text/x-r-source",
   "name": "R",
   "pygments_lexer": "r",
   "version": "3.3.1"
  }
 },
 "nbformat": 4,
 "nbformat_minor": 0
}
