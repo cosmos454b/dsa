{
 "cells": [
  {
   "cell_type": "markdown",
   "metadata": {
    "collapsed": true
   },
   "source": [
    "### Module 4 - Probability Exercises "
   ]
  },
  {
   "cell_type": "markdown",
   "metadata": {},
   "source": [
    "Most of the concepts we discussed in this module were theoretical. Examples were used to explain how to apply conditional probability concepts on dataset columns. The exercises in this notebook will be similar to what you have seen in lab and practice notebooks. \n",
    "\n",
    "Refer to your labs: [Bayes](../labs/Bayes.ipynb), [Conditional_Probability](../labs/Conditional_Probability.ipynb) and [Other_Distributions](../labs/Other_Distributions.ipynb).  \n",
    "\n",
    "Practice notebooks: [Conditional_Probability](../practices/Conditional_Probability.ipynb) and [Bayes](../labs/Bayes.ipynb). "
   ]
  },
  {
   "cell_type": "markdown",
   "metadata": {},
   "source": [
    "Let's recall what is an independent and dependent event through below activity. Consider an event of rolling two dice. The sample space S={{1,1}, {1,2}, {1,3},....,{6,6}} contains 36 possible combinations on two dice.\n",
    "\n",
    "**Activity 1.a: ** What is the probability of getting a 2 on either dice?"
   ]
  },
  {
   "cell_type": "code",
   "execution_count": 7,
   "metadata": {
    "collapsed": false
   },
   "outputs": [
    {
     "data": {
      "text/html": [
       "<table>\n",
       "<thead><tr><th></th><th scope=col>X1</th><th scope=col>X2</th><th scope=col>probs</th></tr></thead>\n",
       "<tbody>\n",
       "\t<tr><th scope=row>2</th><td>2         </td><td>1         </td><td>0.02777778</td></tr>\n",
       "\t<tr><th scope=row>7</th><td>1         </td><td>2         </td><td>0.02777778</td></tr>\n",
       "\t<tr><th scope=row>8</th><td>2         </td><td>2         </td><td>0.02777778</td></tr>\n",
       "\t<tr><th scope=row>9</th><td>3         </td><td>2         </td><td>0.02777778</td></tr>\n",
       "\t<tr><th scope=row>10</th><td>4         </td><td>2         </td><td>0.02777778</td></tr>\n",
       "\t<tr><th scope=row>11</th><td>5         </td><td>2         </td><td>0.02777778</td></tr>\n",
       "\t<tr><th scope=row>12</th><td>6         </td><td>2         </td><td>0.02777778</td></tr>\n",
       "\t<tr><th scope=row>14</th><td>2         </td><td>3         </td><td>0.02777778</td></tr>\n",
       "\t<tr><th scope=row>20</th><td>2         </td><td>4         </td><td>0.02777778</td></tr>\n",
       "\t<tr><th scope=row>26</th><td>2         </td><td>5         </td><td>0.02777778</td></tr>\n",
       "\t<tr><th scope=row>32</th><td>2         </td><td>6         </td><td>0.02777778</td></tr>\n",
       "</tbody>\n",
       "</table>\n"
      ],
      "text/latex": [
       "\\begin{tabular}{r|lll}\n",
       "  & X1 & X2 & probs\\\\\n",
       "\\hline\n",
       "\t2 & 2          & 1          & 0.02777778\\\\\n",
       "\t7 & 1          & 2          & 0.02777778\\\\\n",
       "\t8 & 2          & 2          & 0.02777778\\\\\n",
       "\t9 & 3          & 2          & 0.02777778\\\\\n",
       "\t10 & 4          & 2          & 0.02777778\\\\\n",
       "\t11 & 5          & 2          & 0.02777778\\\\\n",
       "\t12 & 6          & 2          & 0.02777778\\\\\n",
       "\t14 & 2          & 3          & 0.02777778\\\\\n",
       "\t20 & 2          & 4          & 0.02777778\\\\\n",
       "\t26 & 2          & 5          & 0.02777778\\\\\n",
       "\t32 & 2          & 6          & 0.02777778\\\\\n",
       "\\end{tabular}\n"
      ],
      "text/plain": [
       "   X1 X2 probs     \n",
       "2  2  1  0.02777778\n",
       "7  1  2  0.02777778\n",
       "8  2  2  0.02777778\n",
       "9  3  2  0.02777778\n",
       "10 4  2  0.02777778\n",
       "11 5  2  0.02777778\n",
       "12 6  2  0.02777778\n",
       "14 2  3  0.02777778\n",
       "20 2  4  0.02777778\n",
       "26 2  5  0.02777778\n",
       "32 2  6  0.02777778"
      ]
     },
     "metadata": {},
     "output_type": "display_data"
    }
   ],
   "source": [
    "# Your code for activity 1.a goes here...\n",
    "library(prob)\n",
    "S <- rolldie(2, makespace = TRUE)\n",
    "# Define the event A such that it has all possible combinations including a 2 {{1,2}, {2,2}, {2,3},...} \n",
    "A <- subset(S, X1 == 2 | X2==2)\n",
    "A"
   ]
  },
  {
   "cell_type": "markdown",
   "metadata": {},
   "source": [
    "**Activity 1.b: ** What is the probability of getting a 2 on either dice given that the sum of the two outcomes is less than 6? "
   ]
  },
  {
   "cell_type": "code",
   "execution_count": 10,
   "metadata": {
    "collapsed": false
   },
   "outputs": [
    {
     "data": {
      "text/html": [
       "<table>\n",
       "<thead><tr><th></th><th scope=col>X1</th><th scope=col>X2</th><th scope=col>probs</th></tr></thead>\n",
       "<tbody>\n",
       "\t<tr><th scope=row>1</th><td>1         </td><td>1         </td><td>0.02777778</td></tr>\n",
       "\t<tr><th scope=row>2</th><td>2         </td><td>1         </td><td>0.02777778</td></tr>\n",
       "\t<tr><th scope=row>3</th><td>3         </td><td>1         </td><td>0.02777778</td></tr>\n",
       "\t<tr><th scope=row>4</th><td>4         </td><td>1         </td><td>0.02777778</td></tr>\n",
       "\t<tr><th scope=row>7</th><td>1         </td><td>2         </td><td>0.02777778</td></tr>\n",
       "\t<tr><th scope=row>8</th><td>2         </td><td>2         </td><td>0.02777778</td></tr>\n",
       "\t<tr><th scope=row>9</th><td>3         </td><td>2         </td><td>0.02777778</td></tr>\n",
       "\t<tr><th scope=row>13</th><td>1         </td><td>3         </td><td>0.02777778</td></tr>\n",
       "\t<tr><th scope=row>14</th><td>2         </td><td>3         </td><td>0.02777778</td></tr>\n",
       "\t<tr><th scope=row>19</th><td>1         </td><td>4         </td><td>0.02777778</td></tr>\n",
       "</tbody>\n",
       "</table>\n"
      ],
      "text/latex": [
       "\\begin{tabular}{r|lll}\n",
       "  & X1 & X2 & probs\\\\\n",
       "\\hline\n",
       "\t1 & 1          & 1          & 0.02777778\\\\\n",
       "\t2 & 2          & 1          & 0.02777778\\\\\n",
       "\t3 & 3          & 1          & 0.02777778\\\\\n",
       "\t4 & 4          & 1          & 0.02777778\\\\\n",
       "\t7 & 1          & 2          & 0.02777778\\\\\n",
       "\t8 & 2          & 2          & 0.02777778\\\\\n",
       "\t9 & 3          & 2          & 0.02777778\\\\\n",
       "\t13 & 1          & 3          & 0.02777778\\\\\n",
       "\t14 & 2          & 3          & 0.02777778\\\\\n",
       "\t19 & 1          & 4          & 0.02777778\\\\\n",
       "\\end{tabular}\n"
      ],
      "text/plain": [
       "   X1 X2 probs     \n",
       "1  1  1  0.02777778\n",
       "2  2  1  0.02777778\n",
       "3  3  1  0.02777778\n",
       "4  4  1  0.02777778\n",
       "7  1  2  0.02777778\n",
       "8  2  2  0.02777778\n",
       "9  3  2  0.02777778\n",
       "13 1  3  0.02777778\n",
       "14 2  3  0.02777778\n",
       "19 1  4  0.02777778"
      ]
     },
     "metadata": {},
     "output_type": "display_data"
    },
    {
     "data": {
      "text/html": [
       "0.5"
      ],
      "text/latex": [
       "0.5"
      ],
      "text/markdown": [
       "0.5"
      ],
      "text/plain": [
       "[1] 0.5"
      ]
     },
     "metadata": {},
     "output_type": "display_data"
    }
   ],
   "source": [
    "# Define event B such that sum of outcomes is less than 6. \n",
    "B =  subset(S, X1 + X2 < 6)\n",
    "AGivenB = Prob(A, given = B)\n",
    "AGivenB"
   ]
  },
  {
   "cell_type": "markdown",
   "metadata": {},
   "source": [
    "**Activity 2: ** Toss a coin twice. The sample space is given by S = {HH, HT, TH, TT}. Let A = {head occurs} and B = {a head and tail occur}. What are the probabilities P(A|B) and P(B|A)?"
   ]
  },
  {
   "cell_type": "markdown",
   "metadata": {},
   "source": [
    "A =  {head occurs} = {HH,HT,TH}    \n",
    "B =  {a head and tail occur} = {HT,TH}   \n",
    "AintersectB= {HT,TH}   \n",
    "P(A) = 3/4   \n",
    "P(B) = 2/4 = 1/2   \n",
    "P(AintersectB) = 2/4 = 1/2   \n",
    "   \n",
    "P(A|B) = P(AintersectB) / P(B)    =  (1/2) / (1/2)    = 1   \n",
    "\n",
    "P(B|A) = P(AintersectB) / P(A)    =  (1/2) / (3/4)    = 2/3   "
   ]
  },
  {
   "cell_type": "markdown",
   "metadata": {},
   "source": [
    "**Activity 3: ** We have data about the smoking status versus the gender of people working in a company.\n",
    "\n",
    "|    |  gender  |     | |\n",
    "-----|----|------|-----|------      \n",
    "|   smoke |Female| Male| Sum\n",
    "     |No  |80    | 54  | 134\n",
    "     |Yes |15    |19   |34\n",
    "     |Sum |95    |73   |168\n",
    "\n",
    "3.a) If one person were selected at random from the data set, what is the probability that selected person is female?\n",
    "\n",
    "3.b) What is the probability that selected person is a smoker?"
   ]
  },
  {
   "cell_type": "code",
   "execution_count": 17,
   "metadata": {
    "collapsed": false
   },
   "outputs": [
    {
     "data": {
      "text/plain": [
       "    Female Male\n",
       "No      80   54\n",
       "Yes     15   19"
      ]
     },
     "metadata": {},
     "output_type": "display_data"
    }
   ],
   "source": [
    "# Code for Activity 3 goes here -----\n",
    "# Generate the matrix required to find probabilities\n",
    "somking_data = matrix(c(80, 15, 54, 19), nrow=2,  ncol=2) \n",
    "colnames(somking_data) = c('Female','Male')\n",
    "rownames(somking_data) = c('No','Yes')\n",
    "dt=as.table(somking_data)\n",
    "dt"
   ]
  },
  {
   "cell_type": "code",
   "execution_count": 20,
   "metadata": {
    "collapsed": false
   },
   "outputs": [
    {
     "data": {
      "text/html": [
       "0.56547619047619"
      ],
      "text/latex": [
       "0.56547619047619"
      ],
      "text/markdown": [
       "0.56547619047619"
      ],
      "text/plain": [
       "[1] 0.5654762"
      ]
     },
     "metadata": {},
     "output_type": "display_data"
    }
   ],
   "source": [
    "# P(Female) = totalFemales / totalPeople\n",
    "FemaleProbablity = 95 / (95 + 73) \n",
    "FemaleProbablity"
   ]
  },
  {
   "cell_type": "code",
   "execution_count": 21,
   "metadata": {
    "collapsed": false
   },
   "outputs": [
    {
     "data": {
      "text/html": [
       "0.157894736842105"
      ],
      "text/latex": [
       "0.157894736842105"
      ],
      "text/markdown": [
       "0.157894736842105"
      ],
      "text/plain": [
       "[1] 0.1578947"
      ]
     },
     "metadata": {},
     "output_type": "display_data"
    }
   ],
   "source": [
    "# Answer for Activity 3.b goes here -----\n",
    "# P(Female | smoker) = \n",
    "FemaleSmokerProbab = 15/(80+15)\n",
    "FemaleSmokerProbab"
   ]
  },
  {
   "cell_type": "markdown",
   "metadata": {},
   "source": [
    "**Activity 4: **  Load the framingham data from the directory '/datasets/framingham'. Find out the probability of a randomly subject to have the risk of coronary heart disease given that the subject is a male."
   ]
  },
  {
   "cell_type": "code",
   "execution_count": 22,
   "metadata": {
    "collapsed": false
   },
   "outputs": [
    {
     "data": {
      "text/html": [
       "<table>\n",
       "<thead><tr><th scope=col>male</th><th scope=col>age</th><th scope=col>education</th><th scope=col>currentSmoker</th><th scope=col>cigsPerDay</th><th scope=col>BPMeds</th><th scope=col>prevalentStroke</th><th scope=col>prevalentHyp</th><th scope=col>diabetes</th><th scope=col>totChol</th><th scope=col>sysBP</th><th scope=col>diaBP</th><th scope=col>BMI</th><th scope=col>heartRate</th><th scope=col>glucose</th><th scope=col>TenYearCHD</th></tr></thead>\n",
       "<tbody>\n",
       "\t<tr><td>1    </td><td>39   </td><td>4    </td><td>0    </td><td> 0   </td><td>0    </td><td>0    </td><td>0    </td><td>0    </td><td>195  </td><td>106.0</td><td> 70  </td><td>26.97</td><td>80   </td><td> 77  </td><td>0    </td></tr>\n",
       "\t<tr><td>0    </td><td>46   </td><td>2    </td><td>0    </td><td> 0   </td><td>0    </td><td>0    </td><td>0    </td><td>0    </td><td>250  </td><td>121.0</td><td> 81  </td><td>28.73</td><td>95   </td><td> 76  </td><td>0    </td></tr>\n",
       "\t<tr><td>1    </td><td>48   </td><td>1    </td><td>1    </td><td>20   </td><td>0    </td><td>0    </td><td>0    </td><td>0    </td><td>245  </td><td>127.5</td><td> 80  </td><td>25.34</td><td>75   </td><td> 70  </td><td>0    </td></tr>\n",
       "\t<tr><td>0    </td><td>61   </td><td>3    </td><td>1    </td><td>30   </td><td>0    </td><td>0    </td><td>1    </td><td>0    </td><td>225  </td><td>150.0</td><td> 95  </td><td>28.58</td><td>65   </td><td>103  </td><td>1    </td></tr>\n",
       "\t<tr><td>0    </td><td>46   </td><td>3    </td><td>1    </td><td>23   </td><td>0    </td><td>0    </td><td>0    </td><td>0    </td><td>285  </td><td>130.0</td><td> 84  </td><td>23.10</td><td>85   </td><td> 85  </td><td>0    </td></tr>\n",
       "\t<tr><td>0    </td><td>43   </td><td>2    </td><td>0    </td><td> 0   </td><td>0    </td><td>0    </td><td>1    </td><td>0    </td><td>228  </td><td>180.0</td><td>110  </td><td>30.30</td><td>77   </td><td> 99  </td><td>0    </td></tr>\n",
       "</tbody>\n",
       "</table>\n"
      ],
      "text/latex": [
       "\\begin{tabular}{r|llllllllllllllll}\n",
       " male & age & education & currentSmoker & cigsPerDay & BPMeds & prevalentStroke & prevalentHyp & diabetes & totChol & sysBP & diaBP & BMI & heartRate & glucose & TenYearCHD\\\\\n",
       "\\hline\n",
       "\t 1     & 39    & 4     & 0     &  0    & 0     & 0     & 0     & 0     & 195   & 106.0 &  70   & 26.97 & 80    &  77   & 0    \\\\\n",
       "\t 0     & 46    & 2     & 0     &  0    & 0     & 0     & 0     & 0     & 250   & 121.0 &  81   & 28.73 & 95    &  76   & 0    \\\\\n",
       "\t 1     & 48    & 1     & 1     & 20    & 0     & 0     & 0     & 0     & 245   & 127.5 &  80   & 25.34 & 75    &  70   & 0    \\\\\n",
       "\t 0     & 61    & 3     & 1     & 30    & 0     & 0     & 1     & 0     & 225   & 150.0 &  95   & 28.58 & 65    & 103   & 1    \\\\\n",
       "\t 0     & 46    & 3     & 1     & 23    & 0     & 0     & 0     & 0     & 285   & 130.0 &  84   & 23.10 & 85    &  85   & 0    \\\\\n",
       "\t 0     & 43    & 2     & 0     &  0    & 0     & 0     & 1     & 0     & 228   & 180.0 & 110   & 30.30 & 77    &  99   & 0    \\\\\n",
       "\\end{tabular}\n"
      ],
      "text/plain": [
       "  male age education currentSmoker cigsPerDay BPMeds prevalentStroke\n",
       "1 1    39  4         0              0         0      0              \n",
       "2 0    46  2         0              0         0      0              \n",
       "3 1    48  1         1             20         0      0              \n",
       "4 0    61  3         1             30         0      0              \n",
       "5 0    46  3         1             23         0      0              \n",
       "6 0    43  2         0              0         0      0              \n",
       "  prevalentHyp diabetes totChol sysBP diaBP BMI   heartRate glucose TenYearCHD\n",
       "1 0            0        195     106.0  70   26.97 80         77     0         \n",
       "2 0            0        250     121.0  81   28.73 95         76     0         \n",
       "3 0            0        245     127.5  80   25.34 75         70     0         \n",
       "4 1            0        225     150.0  95   28.58 65        103     1         \n",
       "5 0            0        285     130.0  84   23.10 85         85     0         \n",
       "6 1            0        228     180.0 110   30.30 77         99     0         "
      ]
     },
     "metadata": {},
     "output_type": "display_data"
    }
   ],
   "source": [
    "framingham_data <- read.csv(\"../../../datasets/framingham/framingham.csv\")\n",
    "head(framingham_data)"
   ]
  },
  {
   "cell_type": "code",
   "execution_count": 26,
   "metadata": {
    "collapsed": false
   },
   "outputs": [
    {
     "data": {
      "text/plain": [
       "    TenYearCHD\n",
       "male    0    1\n",
       "   0 2119  301\n",
       "   1 1477  343"
      ]
     },
     "metadata": {},
     "output_type": "display_data"
    },
    {
     "data": {
      "text/html": [
       "0.532608695652174"
      ],
      "text/latex": [
       "0.532608695652174"
      ],
      "text/markdown": [
       "0.532608695652174"
      ],
      "text/plain": [
       "[1] 0.5326087"
      ]
     },
     "metadata": {},
     "output_type": "display_data"
    }
   ],
   "source": [
    "# P(male | risk of CHD ) = P( subject is male and has the risk of CHD)/ P(subject has the risk of CHD)\n",
    "# Enter your answer for Activity 4 -----\n",
    "with(framingham_data,table(male,TenYearCHD))\n",
    "#P(AinterctB) = P(A|B)P(B)\n",
    "#P(A|B) = P(AinterctB) / P(B)\n",
    "#P(Risk of CHD given male) = P(selecting a male with CHD) / P(CHD)\n",
    "CHDGivenMale =  (343/(1477+2199)) /  ((343+301)/(1477+2199))\n",
    "CHDGivenMale"
   ]
  },
  {
   "cell_type": "markdown",
   "metadata": {},
   "source": [
    "**Activity 5: ** Find out the probability of randomly selected subject to have the risk of coronary heart disease given subject is less than or equal to 40 years of age."
   ]
  },
  {
   "cell_type": "code",
   "execution_count": 30,
   "metadata": {
    "collapsed": false
   },
   "outputs": [
    {
     "data": {
      "text/plain": [
       "       TenYearCHD\n",
       "           0    1\n",
       "  FALSE 2886  606\n",
       "  TRUE   710   38"
      ]
     },
     "metadata": {},
     "output_type": "display_data"
    }
   ],
   "source": [
    "with(framingham_data,table(age <=40, TenYearCHD))"
   ]
  },
  {
   "cell_type": "code",
   "execution_count": 32,
   "metadata": {
    "collapsed": false
   },
   "outputs": [
    {
     "data": {
      "text/html": [
       "0.0590062111801242"
      ],
      "text/latex": [
       "0.0590062111801242"
      ],
      "text/markdown": [
       "0.0590062111801242"
      ],
      "text/plain": [
       "[1] 0.05900621"
      ]
     },
     "metadata": {},
     "output_type": "display_data"
    }
   ],
   "source": [
    "# P( risk of CHD | subject is <=40 years ) = P( risk of CHD and subject being <= 40 years of age)/ P(subject is <= 40 years)\n",
    "# Enter your answer for Activity 5 -----\n",
    "CHDGivenLessThanForty =  (38/(2886 +710)) /  ((38+606)/(2886 +710))\n",
    "CHDGivenLessThanForty"
   ]
  },
  {
   "cell_type": "markdown",
   "metadata": {},
   "source": [
    "**Activity 6: ** Find out the probability of randomly selected subject to have the risk of coronary heart disease given that the subject smokes less than 10 cigarettes and is a current smoker. \n",
    "\n",
    "**Hint:** Use a 3-way table to include the variables cigsPerDay, TenYearCHD and currentSmoker. Use currentSmoker as the 3rd dimension/input."
   ]
  },
  {
   "cell_type": "code",
   "execution_count": 46,
   "metadata": {
    "collapsed": false
   },
   "outputs": [
    {
     "data": {
      "text/plain": [
       ", , currentSmoker = 0\n",
       "\n",
       "          cigsPerDay > 10\n",
       "TenYearCHD FALSE TRUE\n",
       "         0  1834    0\n",
       "         1   311    0\n",
       "\n",
       ", , currentSmoker = 1\n",
       "\n",
       "          cigsPerDay > 10\n",
       "TenYearCHD FALSE TRUE\n",
       "         0   556 1179\n",
       "         1    73  258\n"
      ]
     },
     "metadata": {},
     "output_type": "display_data"
    }
   ],
   "source": [
    "# Code for activity 6 goes here....\n",
    "mytable = xtabs(~TenYearCHD+(cigsPerDay>10)+currentSmoker, data=framingham_data)\n",
    "mytable"
   ]
  },
  {
   "cell_type": "code",
   "execution_count": 54,
   "metadata": {
    "collapsed": false
   },
   "outputs": [
    {
     "data": {
      "text/html": [
       "0.220543806646526"
      ],
      "text/latex": [
       "0.220543806646526"
      ],
      "text/markdown": [
       "0.220543806646526"
      ],
      "text/plain": [
       "[1] 0.2205438"
      ]
     },
     "metadata": {},
     "output_type": "display_data"
    }
   ],
   "source": [
    "# P( risk of CHD | subject smokes <10 cigs ) = P( risk of CHD and subject smokes <10 cigs)/ P(subject smokes <10 cigs)\n",
    "# Enter your answer for Activity 6 -----\n",
    "(73/(556+73+1179+258)) / ((73+258)/(556+73+1179+258))\n",
    "#having brain farts now"
   ]
  },
  {
   "cell_type": "markdown",
   "metadata": {},
   "source": [
    "**Activity 7.a: ** Find out the probability of randomly selected subject to have the risk of coronary heart disease given that the subject has totChol > 300 and has BMI >30. \n",
    "\n",
    "**Activity 7.b: ** Find out the probability of randomly selected subject to have the risk of coronary heart disease given that the subject has totChol > 300 and has BMI < 30. \n",
    "\n",
    "**Hint:** Use a 3-way table. Use BMI as the 3rd dimension/input."
   ]
  },
  {
   "cell_type": "code",
   "execution_count": 48,
   "metadata": {
    "collapsed": false
   },
   "outputs": [
    {
     "data": {
      "text/plain": [
       ", , BMI > 30 = FALSE\n",
       "\n",
       "             TenYearCHD\n",
       "totChol > 300    0    1\n",
       "        FALSE 2909  465\n",
       "        TRUE   214   58\n",
       "\n",
       ", , BMI > 30 = TRUE\n",
       "\n",
       "             TenYearCHD\n",
       "totChol > 300    0    1\n",
       "        FALSE  386   91\n",
       "        TRUE    38   11\n"
      ]
     },
     "metadata": {},
     "output_type": "display_data"
    }
   ],
   "source": [
    "# Code for activity 7 goes here....\n",
    "with(framingham_data,xtabs(~(totChol>300)+TenYearCHD+(BMI>30)))"
   ]
  },
  {
   "cell_type": "code",
   "execution_count": 52,
   "metadata": {
    "collapsed": false
   },
   "outputs": [
    {
     "data": {
      "text/html": [
       "0.224489795918367"
      ],
      "text/latex": [
       "0.224489795918367"
      ],
      "text/markdown": [
       "0.224489795918367"
      ],
      "text/plain": [
       "[1] 0.2244898"
      ]
     },
     "metadata": {},
     "output_type": "display_data"
    }
   ],
   "source": [
    "# Enter your answer for Activity 7.a (BMI > 30) -----  \n",
    "# P( risk of CHD | subject has totChol > 300 ) = P( risk of CHD and subject has totChol > 300 )/ P(subject has totChol > 300 )\n",
    "(11/(386+91+38+11))/((11+38)/(386+91+38+11))"
   ]
  },
  {
   "cell_type": "code",
   "execution_count": 53,
   "metadata": {
    "collapsed": false
   },
   "outputs": [
    {
     "data": {
      "text/html": [
       "0.213235294117647"
      ],
      "text/latex": [
       "0.213235294117647"
      ],
      "text/markdown": [
       "0.213235294117647"
      ],
      "text/plain": [
       "[1] 0.2132353"
      ]
     },
     "metadata": {},
     "output_type": "display_data"
    }
   ],
   "source": [
    "# Enter your answer for Activity 7.a (BMI < 30) -----  \n",
    "# P( risk of CHD | subject has totChol > 300 ) = P( risk of CHD and subject has totChol > 300 )/ P(subject has totChol > 300 )\n",
    "(58/(2909+214+465+58))/((214+58)/(2909+214+465+58))"
   ]
  },
  {
   "cell_type": "markdown",
   "metadata": {},
   "source": [
    "**Activity 8: ** Consider two machines producing memory chips. Machine A is in production 18 hours a day producing 80% of the products while machine B is in production for 6 hours a day producing 20% of the products. Both machines have a fault rate of 0.002 and 0.007, respectively. If a randomly selected chip is faulty, which machine could be the most probable source of producing that chip?"
   ]
  },
  {
   "cell_type": "code",
   "execution_count": 60,
   "metadata": {
    "collapsed": false
   },
   "outputs": [
    {
     "data": {
      "text/html": [
       "'posteriorA 0.533333333333333'"
      ],
      "text/latex": [
       "'posteriorA 0.533333333333333'"
      ],
      "text/markdown": [
       "'posteriorA 0.533333333333333'"
      ],
      "text/plain": [
       "[1] \"posteriorA 0.533333333333333\""
      ]
     },
     "metadata": {},
     "output_type": "display_data"
    },
    {
     "data": {
      "text/html": [
       "'posteriorB 0.466666666666667'"
      ],
      "text/latex": [
       "'posteriorB 0.466666666666667'"
      ],
      "text/markdown": [
       "'posteriorB 0.466666666666667'"
      ],
      "text/plain": [
       "[1] \"posteriorB 0.466666666666667\""
      ]
     },
     "metadata": {},
     "output_type": "display_data"
    }
   ],
   "source": [
    "# Code for activity 8 goes here. \n",
    "# We don't have any prior probabilities for the machines. We consider amount of production they do as our prior.\n",
    "# Both machines A and B have a fault rate of 0.002 and 0.007. WE use this info as likelihood of generating a faulty chip\n",
    "# Generate posterior probabilities based on prior probability and likelihood of each event.\n",
    "\n",
    "AProb = .80\n",
    "AFault = 0.002\n",
    "BProb = .20\n",
    "BFalut = 0.007\n",
    "\n",
    "# P(chip being faulty) = P(A given faulty) * P(A producing  the chip) = P(B given faulty) * P(B producing  the chip)\n",
    "\n",
    "faultyChipByA = .80 * 0.002\n",
    "faultyChipByB = .20 * 0.007\n",
    "faultprobablitysum = faultyChipByA + faultyChipByB\n",
    "\n",
    "# posteriorA = P(A given faulty) * P(A producing  the chip) / P(chip being faulty)\n",
    "posteriorA = faultyChipByA / faultprobablitysum\n",
    "posteriorB = faultyChipByB / faultprobablitysum\n",
    "\n",
    "paste('posteriorA',posteriorA)\n",
    "paste('posteriorB',posteriorB)\n"
   ]
  },
  {
   "cell_type": "code",
   "execution_count": null,
   "metadata": {
    "collapsed": true
   },
   "outputs": [],
   "source": []
  }
 ],
 "metadata": {
  "kernelspec": {
   "display_name": "R",
   "language": "R",
   "name": "ir"
  },
  "language_info": {
   "codemirror_mode": "r",
   "file_extension": ".r",
   "mimetype": "text/x-r-source",
   "name": "R",
   "pygments_lexer": "r",
   "version": "3.3.1"
  }
 },
 "nbformat": 4,
 "nbformat_minor": 0
}
