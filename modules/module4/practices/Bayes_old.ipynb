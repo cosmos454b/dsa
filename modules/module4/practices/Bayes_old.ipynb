{
 "cells": [
  {
   "cell_type": "markdown",
   "metadata": {},
   "source": [
    "### Bayesian Statistics\n",
    "\n"
   ]
  },
  {
   "cell_type": "markdown",
   "metadata": {},
   "source": [
    "**Problem:** A railroad numbers its locomotives in order 1..N.\n",
    "\n",
    "One day you see a locomotive with the number 60. Estimate how many loco-motives the railroad has.\n",
    "\n",
    "\n",
    "**Possible Solution:** The interesting thing about above question is that it initially seems that we don’t have enough information to come up with any sort of answer. However, we can get an estimate if we come up with a prior to work with.\n",
    "\n",
    "The simplest prior is to assume that there’s one railroad operator with between say 1 and 1000 railroads with an equal probability of each size.\n",
    "\n",
    "We can then write similar code as with the dice problem to update the prior based on the trains we’ve seen.\n",
    "\n",
    "First we’ll create a data frame which captures the product of ‘number of locomotives’ and the observations of locomotives that we’ve seen (in this case we’ve only seen one locomotive with number ’60’:)\n",
    "\n",
    "Problem is taken from:[www.markhneedham.com](http://www.markhneedham.com/blog/2015/04/24/r-think-bayes-locomotive-problem-posterior-probabilities-for-different-priors/) "
   ]
  },
  {
   "cell_type": "code",
   "execution_count": 14,
   "metadata": {
    "collapsed": false
   },
   "outputs": [],
   "source": [
    "library(dplyr)"
   ]
  },
  {
   "cell_type": "code",
   "execution_count": 15,
   "metadata": {
    "collapsed": true
   },
   "outputs": [],
   "source": [
    "possibleValues = 1:1000\n",
    "observations = c(60)"
   ]
  },
  {
   "cell_type": "code",
   "execution_count": 16,
   "metadata": {
    "collapsed": false
   },
   "outputs": [],
   "source": [
    "l = list(value = possibleValues, observation = observations)"
   ]
  },
  {
   "cell_type": "code",
   "execution_count": 17,
   "metadata": {
    "collapsed": false
   },
   "outputs": [
    {
     "data": {
      "text/html": [
       "<table>\n",
       "<thead><tr><th></th><th scope=col>value</th><th scope=col>observation</th></tr></thead>\n",
       "<tbody>\n",
       "\t<tr><th scope=row>995</th><td>995</td><td> 60</td></tr>\n",
       "\t<tr><th scope=row>996</th><td>996</td><td> 60</td></tr>\n",
       "\t<tr><th scope=row>997</th><td>997</td><td> 60</td></tr>\n",
       "\t<tr><th scope=row>998</th><td>998</td><td> 60</td></tr>\n",
       "\t<tr><th scope=row>999</th><td>999</td><td> 60</td></tr>\n",
       "\t<tr><th scope=row>1000</th><td>1000</td><td>  60</td></tr>\n",
       "</tbody>\n",
       "</table>\n"
      ],
      "text/latex": [
       "\\begin{tabular}{r|ll}\n",
       "  & value & observation\\\\\n",
       "\\hline\n",
       "\t995 & 995 &  60\\\\\n",
       "\t996 & 996 &  60\\\\\n",
       "\t997 & 997 &  60\\\\\n",
       "\t998 & 998 &  60\\\\\n",
       "\t999 & 999 &  60\\\\\n",
       "\t1000 & 1000 &   60\\\\\n",
       "\\end{tabular}\n"
      ],
      "text/plain": [
       "     value observation\n",
       "995    995          60\n",
       "996    996          60\n",
       "997    997          60\n",
       "998    998          60\n",
       "999    999          60\n",
       "1000  1000          60"
      ]
     },
     "metadata": {},
     "output_type": "display_data"
    }
   ],
   "source": [
    "df = expand.grid(l)\n",
    " \n",
    "df %>% tail()"
   ]
  },
  {
   "cell_type": "markdown",
   "metadata": {},
   "source": [
    "Next we want to add a column which represents the probability that the observed locomotive could have come from a particular fleet. If the number of railroads is less than 60 then we have a 0 probability, otherwise we have 1 / numberOfRailroadsInFleet:"
   ]
  },
  {
   "cell_type": "code",
   "execution_count": 25,
   "metadata": {
    "collapsed": false
   },
   "outputs": [
    {
     "data": {
      "text/html": [
       "0.001"
      ],
      "text/latex": [
       "0.001"
      ],
      "text/markdown": [
       "0.001"
      ],
      "text/plain": [
       "[1] 0.001"
      ]
     },
     "metadata": {},
     "output_type": "display_data"
    }
   ],
   "source": [
    "prior = 1  / length(possibleValues)\n",
    "prior\n",
    "\n",
    "df = df %>% mutate(score = ifelse(value < observation, 0, 1/value))"
   ]
  },
  {
   "cell_type": "code",
   "execution_count": 44,
   "metadata": {
    "collapsed": false
   },
   "outputs": [
    {
     "data": {
      "text/html": [
       "<table>\n",
       "<thead><tr><th></th><th scope=col>value</th><th scope=col>observation</th><th scope=col>score</th></tr></thead>\n",
       "<tbody>\n",
       "\t<tr><th scope=row>369</th><td>3.690000e+02</td><td>6.000000e+01</td><td>2.710027e-03</td></tr>\n",
       "\t<tr><th scope=row>760</th><td>7.600000e+02</td><td>6.000000e+01</td><td>1.315789e-03</td></tr>\n",
       "\t<tr><th scope=row>305</th><td>3.050000e+02</td><td>6.000000e+01</td><td>3.278689e-03</td></tr>\n",
       "\t<tr><th scope=row>5</th><td> 5</td><td>60</td><td> 0</td></tr>\n",
       "\t<tr><th scope=row>413</th><td>4.130000e+02</td><td>6.000000e+01</td><td>2.421308e-03</td></tr>\n",
       "\t<tr><th scope=row>976</th><td>9.76000e+02</td><td>6.00000e+01</td><td>1.02459e-03</td></tr>\n",
       "\t<tr><th scope=row>650</th><td>6.500000e+02</td><td>6.000000e+01</td><td>1.538462e-03</td></tr>\n",
       "\t<tr><th scope=row>826</th><td>8.260000e+02</td><td>6.000000e+01</td><td>1.210654e-03</td></tr>\n",
       "\t<tr><th scope=row>436</th><td>4.360000e+02</td><td>6.000000e+01</td><td>2.293578e-03</td></tr>\n",
       "\t<tr><th scope=row>710</th><td>7.100000e+02</td><td>6.000000e+01</td><td>1.408451e-03</td></tr>\n",
       "</tbody>\n",
       "</table>\n"
      ],
      "text/latex": [
       "\\begin{tabular}{r|lll}\n",
       "  & value & observation & score\\\\\n",
       "\\hline\n",
       "\t369 & 3.690000e+02 & 6.000000e+01 & 2.710027e-03\\\\\n",
       "\t760 & 7.600000e+02 & 6.000000e+01 & 1.315789e-03\\\\\n",
       "\t305 & 3.050000e+02 & 6.000000e+01 & 3.278689e-03\\\\\n",
       "\t5 &  5 & 60 &  0\\\\\n",
       "\t413 & 4.130000e+02 & 6.000000e+01 & 2.421308e-03\\\\\n",
       "\t976 & 9.76000e+02 & 6.00000e+01 & 1.02459e-03\\\\\n",
       "\t650 & 6.500000e+02 & 6.000000e+01 & 1.538462e-03\\\\\n",
       "\t826 & 8.260000e+02 & 6.000000e+01 & 1.210654e-03\\\\\n",
       "\t436 & 4.360000e+02 & 6.000000e+01 & 2.293578e-03\\\\\n",
       "\t710 & 7.100000e+02 & 6.000000e+01 & 1.408451e-03\\\\\n",
       "\\end{tabular}\n"
      ],
      "text/plain": [
       "    value observation       score\n",
       "369   369          60 0.002710027\n",
       "760   760          60 0.001315789\n",
       "305   305          60 0.003278689\n",
       "5       5          60 0.000000000\n",
       "413   413          60 0.002421308\n",
       "976   976          60 0.001024590\n",
       "650   650          60 0.001538462\n",
       "826   826          60 0.001210654\n",
       "436   436          60 0.002293578\n",
       "710   710          60 0.001408451"
      ]
     },
     "metadata": {},
     "output_type": "display_data"
    }
   ],
   "source": [
    "df %>% sample_n(10)"
   ]
  },
  {
   "cell_type": "markdown",
   "metadata": {},
   "source": [
    "To find the probability of each fleet size we write the following code:"
   ]
  },
  {
   "cell_type": "code",
   "execution_count": 52,
   "metadata": {
    "collapsed": false
   },
   "outputs": [
    {
     "data": {
      "text/html": [
       "<table>\n",
       "<thead><tr><th></th><th scope=col>value</th><th scope=col>observation</th><th scope=col>score</th></tr></thead>\n",
       "<tbody>\n",
       "\t<tr><th scope=row>115</th><td>1.150000e+02</td><td>6.000000e+01</td><td>8.695652e-03</td></tr>\n",
       "</tbody>\n",
       "</table>\n"
      ],
      "text/latex": [
       "\\begin{tabular}{r|lll}\n",
       "  & value & observation & score\\\\\n",
       "\\hline\n",
       "\t115 & 1.150000e+02 & 6.000000e+01 & 8.695652e-03\\\\\n",
       "\\end{tabular}\n"
      ],
      "text/plain": [
       "    value observation       score\n",
       "115   115          60 0.008695652"
      ]
     },
     "metadata": {},
     "output_type": "display_data"
    }
   ],
   "source": [
    "df[115,]"
   ]
  },
  {
   "cell_type": "code",
   "execution_count": 34,
   "metadata": {
    "collapsed": true
   },
   "outputs": [],
   "source": [
    "weightedDf = df %>% \n",
    "  group_by(value) %>% \n",
    "  summarise(aggScore = prior * prod(score)) %>% #prod returns the product of all the values present in its arguments.\n",
    "  ungroup() %>%\n",
    "  mutate(weighted = aggScore / sum(aggScore))"
   ]
  },
  {
   "cell_type": "code",
   "execution_count": 43,
   "metadata": {
    "collapsed": false
   },
   "outputs": [
    {
     "data": {
      "text/html": [
       "<table>\n",
       "<thead><tr><th></th><th scope=col>value</th><th scope=col>aggScore</th><th scope=col>weighted</th></tr></thead>\n",
       "<tbody>\n",
       "\t<tr><th scope=row>1</th><td>1.150000e+02</td><td>8.695652e-06</td><td>3.081088e-03</td></tr>\n",
       "\t<tr><th scope=row>2</th><td>3.910000e+02</td><td>2.557545e-06</td><td>9.062022e-04</td></tr>\n",
       "\t<tr><th scope=row>3</th><td>1.540000e+02</td><td>6.493506e-06</td><td>2.300812e-03</td></tr>\n",
       "\t<tr><th scope=row>4</th><td>5.100000e+02</td><td>1.960784e-06</td><td>6.947550e-04</td></tr>\n",
       "\t<tr><th scope=row>5</th><td>9.720000e+02</td><td>1.028807e-06</td><td>3.645320e-04</td></tr>\n",
       "\t<tr><th scope=row>6</th><td>8.250000e+02</td><td>1.212121e-06</td><td>4.294849e-04</td></tr>\n",
       "\t<tr><th scope=row>7</th><td>5.940000e+02</td><td>1.683502e-06</td><td>5.965069e-04</td></tr>\n",
       "\t<tr><th scope=row>8</th><td>2.510000e+02</td><td>3.984064e-06</td><td>1.411654e-03</td></tr>\n",
       "\t<tr><th scope=row>9</th><td>5.820000e+02</td><td>1.718213e-06</td><td>6.088060e-04</td></tr>\n",
       "\t<tr><th scope=row>10</th><td>8.400000e+02</td><td>1.190476e-06</td><td>4.218156e-04</td></tr>\n",
       "</tbody>\n",
       "</table>\n"
      ],
      "text/latex": [
       "\\begin{tabular}{r|lll}\n",
       "  & value & aggScore & weighted\\\\\n",
       "\\hline\n",
       "\t1 & 1.150000e+02 & 8.695652e-06 & 3.081088e-03\\\\\n",
       "\t2 & 3.910000e+02 & 2.557545e-06 & 9.062022e-04\\\\\n",
       "\t3 & 1.540000e+02 & 6.493506e-06 & 2.300812e-03\\\\\n",
       "\t4 & 5.100000e+02 & 1.960784e-06 & 6.947550e-04\\\\\n",
       "\t5 & 9.720000e+02 & 1.028807e-06 & 3.645320e-04\\\\\n",
       "\t6 & 8.250000e+02 & 1.212121e-06 & 4.294849e-04\\\\\n",
       "\t7 & 5.940000e+02 & 1.683502e-06 & 5.965069e-04\\\\\n",
       "\t8 & 2.510000e+02 & 3.984064e-06 & 1.411654e-03\\\\\n",
       "\t9 & 5.820000e+02 & 1.718213e-06 & 6.088060e-04\\\\\n",
       "\t10 & 8.400000e+02 & 1.190476e-06 & 4.218156e-04\\\\\n",
       "\\end{tabular}\n"
      ],
      "text/plain": [
       "   value     aggScore     weighted\n",
       "1    115 8.695652e-06 0.0030810876\n",
       "2    391 2.557545e-06 0.0009062022\n",
       "3    154 6.493506e-06 0.0023008122\n",
       "4    510 1.960784e-06 0.0006947550\n",
       "5    972 1.028807e-06 0.0003645320\n",
       "6    825 1.212121e-06 0.0004294849\n",
       "7    594 1.683502e-06 0.0005965069\n",
       "8    251 3.984064e-06 0.0014116537\n",
       "9    582 1.718213e-06 0.0006088060\n",
       "10   840 1.190476e-06 0.0004218156"
      ]
     },
     "metadata": {},
     "output_type": "display_data"
    }
   ],
   "source": [
    "weightedDf %>% sample_n(10)"
   ]
  },
  {
   "cell_type": "markdown",
   "metadata": {},
   "source": [
    "Let’s plot the data frame to see how the probability varies for each fleet size:"
   ]
  },
  {
   "cell_type": "code",
   "execution_count": 45,
   "metadata": {
    "collapsed": false
   },
   "outputs": [
    {
     "data": {
      "image/png": "[encoded data removed]",
      "text/plain": [
       "plot without title"
      ]
     },
     "metadata": {
      "image/svg+xml": {
       "isolated": true
      }
     },
     "output_type": "display_data"
    }
   ],
   "source": [
    "library(ggplot2)\n",
    "ggplot(aes(x = value, y = weighted), data = weightedDf) + \n",
    "  geom_line(color=\"dark blue\")"
   ]
  },
  {
   "cell_type": "markdown",
   "metadata": {},
   "source": [
    "The most likely choice is a fleet size of 60 based on this diagram but an alternative would be to find the mean of the posterior which we can do like so:"
   ]
  },
  {
   "cell_type": "code",
   "execution_count": 46,
   "metadata": {
    "collapsed": false
   },
   "outputs": [
    {
     "data": {
      "text/html": [
       "333.419893263708"
      ],
      "text/latex": [
       "333.419893263708"
      ],
      "text/markdown": [
       "333.419893263708"
      ],
      "text/plain": [
       "[1] 333.4199"
      ]
     },
     "metadata": {},
     "output_type": "display_data"
    }
   ],
   "source": [
    "weightedDf %>% mutate(mean = value * weighted) %>% select(mean) %>% sum()"
   ]
  },
  {
   "cell_type": "markdown",
   "metadata": {},
   "source": [
    "Now let’s create a function with all that code in so we can play around with some different priors and observations:"
   ]
  },
  {
   "cell_type": "code",
   "execution_count": 47,
   "metadata": {
    "collapsed": true
   },
   "outputs": [],
   "source": [
    "meanOfPosterior = function(values, observations) {\n",
    "  l = list(value = values, observation = observations)   \n",
    "  df = expand.grid(l) %>% mutate(score = ifelse(value < observation, 0, 1/value))\n",
    " \n",
    "  prior = 1  / length(possibleValues)\n",
    "  weightedDf = df %>% \n",
    "    group_by(value) %>% \n",
    "    summarise(aggScore = prior * prod(score)) %>%\n",
    "    ungroup() %>%\n",
    "    mutate(weighted = aggScore / sum(aggScore))\n",
    " \n",
    "  return (weightedDf %>% mutate(mean = value * weighted) %>% select(mean) %>% sum()) \n",
    "}"
   ]
  },
  {
   "cell_type": "markdown",
   "metadata": {},
   "source": [
    "If we update our observed railroads to have numbers 60, 30 and 90 we’d get the following means of posteriors assuming different priors:"
   ]
  },
  {
   "cell_type": "code",
   "execution_count": 48,
   "metadata": {
    "collapsed": false
   },
   "outputs": [
    {
     "data": {
      "text/html": [
       "151.849587959038"
      ],
      "text/latex": [
       "151.849587959038"
      ],
      "text/markdown": [
       "151.849587959038"
      ],
      "text/plain": [
       "[1] 151.8496"
      ]
     },
     "metadata": {},
     "output_type": "display_data"
    },
    {
     "data": {
      "text/html": [
       "164.305586422733"
      ],
      "text/latex": [
       "164.305586422733"
      ],
      "text/markdown": [
       "164.305586422733"
      ],
      "text/plain": [
       "[1] 164.3056"
      ]
     },
     "metadata": {},
     "output_type": "display_data"
    },
    {
     "data": {
      "text/html": [
       "171.33818109151"
      ],
      "text/latex": [
       "171.33818109151"
      ],
      "text/markdown": [
       "171.33818109151"
      ],
      "text/plain": [
       "[1] 171.3382"
      ]
     },
     "metadata": {},
     "output_type": "display_data"
    }
   ],
   "source": [
    "meanOfPosterior(1:500, c(60, 30, 90))\n",
    "\n",
    "meanOfPosterior(1:1000, c(60, 30, 90))\n",
    "\n",
    "meanOfPosterior(1:2000, c(60, 30, 90))\n"
   ]
  },
  {
   "cell_type": "markdown",
   "metadata": {},
   "source": [
    "At the moment the function assumes that we always want to have a uniform prior i.e. every option has an equal opportunity of being chosen, but we might want to vary the prior to see how different assumptions influence the posterior.\n",
    "\n",
    "We can refactor the function to take in values & priors instead of calculating the priors in the function:"
   ]
  },
  {
   "cell_type": "code",
   "execution_count": 49,
   "metadata": {
    "collapsed": true
   },
   "outputs": [],
   "source": [
    "meanOfPosterior = function(values, priors, observations) {\n",
    "  priorDf = data.frame(value = values, prior = priors)\n",
    "  l = list(value = priorDf$value, observation = observations)\n",
    " \n",
    "  df = merge(expand.grid(l), priorDf, by.x = \"value\", by.y = \"value\") %>% \n",
    "    mutate(score = ifelse(value < observation, 0, 1 / value))\n",
    " \n",
    "  df %>% \n",
    "    group_by(value) %>% \n",
    "    summarise(aggScore = max(prior) * prod(score)) %>%\n",
    "    ungroup() %>%\n",
    "    mutate(weighted = aggScore / sum(aggScore)) %>%\n",
    "    mutate(mean = value * weighted) %>%\n",
    "    select(mean) %>%\n",
    "    sum()\n",
    "}"
   ]
  },
  {
   "cell_type": "code",
   "execution_count": 50,
   "metadata": {
    "collapsed": false
   },
   "outputs": [
    {
     "data": {
      "text/html": [
       "151.849587959038"
      ],
      "text/latex": [
       "151.849587959038"
      ],
      "text/markdown": [
       "151.849587959038"
      ],
      "text/plain": [
       "[1] 151.8496"
      ]
     },
     "metadata": {},
     "output_type": "display_data"
    },
    {
     "data": {
      "text/html": [
       "164.305586422733"
      ],
      "text/latex": [
       "164.305586422733"
      ],
      "text/markdown": [
       "164.305586422733"
      ],
      "text/plain": [
       "[1] 164.3056"
      ]
     },
     "metadata": {},
     "output_type": "display_data"
    },
    {
     "data": {
      "text/html": [
       "171.33818109151"
      ],
      "text/latex": [
       "171.33818109151"
      ],
      "text/markdown": [
       "171.33818109151"
      ],
      "text/plain": [
       "[1] 171.3382"
      ]
     },
     "metadata": {},
     "output_type": "display_data"
    }
   ],
   "source": [
    "meanOfPosterior(1:500,  1/length(1:500), c(60, 30, 90))\n",
    "\n",
    "meanOfPosterior(1:1000, 1/length(1:1000), c(60, 30, 90))\n",
    "\n",
    "meanOfPosterior(1:2000, 1/length(1:2000), c(60, 30, 90))"
   ]
  },
  {
   "cell_type": "markdown",
   "metadata": {},
   "source": [
    "Now if instead of a uniform prior let’s use a power law one where the assumption is that smaller fleets are more likely:\n",
    "\n"
   ]
  },
  {
   "cell_type": "code",
   "execution_count": 51,
   "metadata": {
    "collapsed": false
   },
   "outputs": [
    {
     "data": {
      "text/html": [
       "130.70846986256"
      ],
      "text/latex": [
       "130.70846986256"
      ],
      "text/markdown": [
       "130.70846986256"
      ],
      "text/plain": [
       "[1] 130.7085"
      ]
     },
     "metadata": {},
     "output_type": "display_data"
    },
    {
     "data": {
      "text/html": [
       "133.275231375031"
      ],
      "text/latex": [
       "133.275231375031"
      ],
      "text/markdown": [
       "133.275231375031"
      ],
      "text/plain": [
       "[1] 133.2752"
      ]
     },
     "metadata": {},
     "output_type": "display_data"
    },
    {
     "data": {
      "text/html": [
       "133.997463080731"
      ],
      "text/latex": [
       "133.997463080731"
      ],
      "text/markdown": [
       "133.997463080731"
      ],
      "text/plain": [
       "[1] 133.9975"
      ]
     },
     "metadata": {},
     "output_type": "display_data"
    },
    {
     "data": {
      "text/html": [
       "134.211950038974"
      ],
      "text/latex": [
       "134.211950038974"
      ],
      "text/markdown": [
       "134.211950038974"
      ],
      "text/plain": [
       "[1] 134.212"
      ]
     },
     "metadata": {},
     "output_type": "display_data"
    },
    {
     "data": {
      "text/html": [
       "134.243532472133"
      ],
      "text/latex": [
       "134.243532472133"
      ],
      "text/markdown": [
       "134.243532472133"
      ],
      "text/plain": [
       "[1] 134.2435"
      ]
     },
     "metadata": {},
     "output_type": "display_data"
    }
   ],
   "source": [
    "meanOfPosterior(1:500,  sapply(1:500,  function(x) x ** -1), c(60, 30, 90))\n",
    "\n",
    "meanOfPosterior(1:1000, sapply(1:1000, function(x) x ** -1), c(60, 30, 90))\n",
    "\n",
    "meanOfPosterior(1:2000, sapply(1:2000, function(x) x ** -1), c(60, 30, 90))\n",
    "\n",
    "meanOfPosterior(1:5000, sapply(1:5000, function(x) x ** -1), c(60, 30, 90))\n",
    "\n",
    "meanOfPosterior(1:10000, sapply(1:10000, function(x) x ** -1), c(60, 30, 90))"
   ]
  },
  {
   "cell_type": "markdown",
   "metadata": {},
   "source": [
    "Now we get very similar posterior means which converge on 134 and so that’s our best prediction."
   ]
  }
 ],
 "metadata": {
  "kernelspec": {
   "display_name": "R",
   "language": "R",
   "name": "ir"
  },
  "language_info": {
   "codemirror_mode": "r",
   "file_extension": ".r",
   "mimetype": "text/x-r-source",
   "name": "R",
   "pygments_lexer": "r",
   "version": "3.3.1"
  }
 },
 "nbformat": 4,
 "nbformat_minor": 0
}
