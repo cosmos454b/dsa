{
 "cells": [
  {
   "cell_type": "markdown",
   "metadata": {},
   "source": [
    "### Bayes Theorem\n",
    "\n",
    "The cigar example in the lab illustrates the application of Bayes' theorem with its calculation using the formula. Unfortunately, that calculation is complicated and can cause confusion and/or incorrect substitution of the involved\n",
    "probability values. Fortunately, here is another approach that is much more intuitive and easier:\n",
    "\n",
    "Assume some convenient value for the total of all items involved, then\n",
    "construct a table of rows and columns with the individual cell frequencies\n",
    "based on the known probabilities.\n",
    "\n",
    "For example, let's assume that the adult population in Boone county is 100,000. Now we can use the given information to create a table.\n",
    "\n",
    "*Number of males who smoke cigars:* 51% of adults are males; so there are 51,000 males. If 9.5% of them smoke, that makes 0.095 x 51,000 = 4845. Then, males who do not smoke are 51,000 - 4845 = 46,155. See the table where these values go.\n",
    "\n",
    "\n",
    "*Number of females who smoke cigars:* 49% of the adults are females, that makes 49,000. 1.7% of them are smokers, so 0.017 x 49,000 = 833. The number of females who do not smoke is 49,000 - 833 = 48,167. Again look at the table below. "
   ]
  },
  {
   "cell_type": "code",
   "execution_count": null,
   "metadata": {
    "collapsed": false
   },
   "outputs": [],
   "source": [
    "cigar <- matrix(c(4845, 833, 46155, 48167), ncol=2)\n",
    "colnames(cigar) <- c('smoker','nonsmoker')\n",
    "rownames(cigar) <- c('male','female')\n",
    "cigar.table <- as.table(cigar)\n",
    "\n",
    "addmargins(cigar)"
   ]
  },
  {
   "cell_type": "markdown",
   "metadata": {},
   "source": [
    "The above table involves simple arithmetic. Simply partition the\n",
    "assumed population into the different cell categories by finding suitable percentages.\n",
    "\n",
    "Now we can easily address the key question as follows: To find the probability of\n",
    "getting a male subject, given that the subject smokes cigars, simply use the same\n",
    "conditional probability described before. \n",
    "\n",
    "To find the probability of getting a\n",
    "male given that the subject smokes, restrict the table to the column of cigar smokers, then\n",
    "find the probability of getting a male in that column. Among the 5678 cigar smokers,\n",
    "there are 4845 males, so the probability we seek is 4845/5678 = 0.85329341. That is,\n",
    "$P(M | C)$ = 4845/5678 = 0.85329341 = 0.853 (rounded).\n",
    "\n",
    "**Activity 1:** Now, your turn: the actual population of Boone county is 170,733 (as of 2013). Create the above table with actual population values for the given percentages and find the actual $P(M | C)$."
   ]
  },
  {
   "cell_type": "code",
   "execution_count": null,
   "metadata": {
    "collapsed": true
   },
   "outputs": [],
   "source": [
    "#solution goes here."
   ]
  },
  {
   "cell_type": "markdown",
   "metadata": {},
   "source": [
    "a) Now, using the same table, randomly select an individual, what is the prior probability that the selected person is a female?\n",
    "\n",
    "b) You later learn that the randomly selected person was smoking a cigar. Use this additional information to find the posterior \n",
    "probability that the selected person is a female."
   ]
  },
  {
   "cell_type": "code",
   "execution_count": null,
   "metadata": {
    "collapsed": false
   },
   "outputs": [],
   "source": [
    "addmargins(prop.table(cigar))"
   ]
  },
  {
   "cell_type": "code",
   "execution_count": null,
   "metadata": {
    "collapsed": true
   },
   "outputs": [],
   "source": [
    "# solution goes here."
   ]
  },
  {
   "cell_type": "markdown",
   "metadata": {},
   "source": [
    "Load the framingham data from the directory '/datasets/framingham'."
   ]
  },
  {
   "cell_type": "code",
   "execution_count": null,
   "metadata": {
    "collapsed": false
   },
   "outputs": [],
   "source": [
    "framingham_data <- read.csv(\"../../../datasets/framingham/framingham.csv\")\n",
    "head(framingham_data)"
   ]
  },
  {
   "cell_type": "markdown",
   "metadata": {},
   "source": [
    "**Activity 2:** Create a two-way table from this data set with diabetes condition in the columns and gender in the rows. Use addmargins to add totals.\n"
   ]
  },
  {
   "cell_type": "code",
   "execution_count": null,
   "metadata": {
    "collapsed": false
   },
   "outputs": [],
   "source": [
    "dia <- with(framingham_data,table(<what goes here>,<what goes here>))\n",
    "colnames(dia) <- c('nondiabetes','diabetes')\n",
    "rownames(dia) <- c('female','male')\n",
    "<what goes here>(dia)"
   ]
  },
  {
   "cell_type": "markdown",
   "metadata": {},
   "source": [
    "**Activity 3: **What is the probability for a female to have diabetes? Let d be an event of diabetes and d' be event of nondiabetes. Similarly let g be the event of male and g' be event of female. Find $P(d | g')$ using Bayes formula.\n",
    "\n",
    "            \n",
    "                    p(d) * p(g'/d)\n",
    "     p(d/g') =  -------------------------------------\n",
    "               [p(d) * p(g'/d)] + [ p(d') * p(g'/d')]\n",
    "            "
   ]
  },
  {
   "cell_type": "code",
   "execution_count": null,
   "metadata": {
    "collapsed": false
   },
   "outputs": [],
   "source": [
    "#solution goes here.\n"
   ]
  }
 ],
 "metadata": {
  "kernelspec": {
   "display_name": "R",
   "language": "R",
   "name": "ir"
  },
  "language_info": {
   "codemirror_mode": "r",
   "file_extension": ".r",
   "mimetype": "text/x-r-source",
   "name": "R",
   "pygments_lexer": "r",
   "version": "3.3.1"
  }
 },
 "nbformat": 4,
 "nbformat_minor": 0
}
