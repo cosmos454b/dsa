{
 "cells": [
  {
   "cell_type": "markdown",
   "metadata": {
    "collapsed": true
   },
   "source": [
    "## Practice for Module 4"
   ]
  },
  {
   "cell_type": "markdown",
   "metadata": {},
   "source": [
    "In this practice notebook we will look into the concepts that we covered in lab and apply the same on a dataset. We will work with the auto-mpg dataset again for our hands on in this module."
   ]
  },
  {
   "cell_type": "markdown",
   "metadata": {},
   "source": [
    "Read the auto-mpg data file into the datframe `auto-mpg`"
   ]
  },
  {
   "cell_type": "code",
   "execution_count": 1,
   "metadata": {
    "collapsed": true
   },
   "outputs": [],
   "source": [
    "auto_mpg <- read.csv(\"../../../datasets/auto-mpg/auto-mpg.csv\", header = T, sep=\",\")"
   ]
  },
  {
   "cell_type": "code",
   "execution_count": 2,
   "metadata": {
    "collapsed": false
   },
   "outputs": [
    {
     "data": {
      "text/html": [
       "<table>\n",
       "<thead><tr><th></th><th scope=col>mpg</th><th scope=col>cylinders</th><th scope=col>displacement</th><th scope=col>horsepower</th><th scope=col>weight</th><th scope=col>acceleration</th><th scope=col>model.year</th><th scope=col>origin</th><th scope=col>car.name</th></tr></thead>\n",
       "<tbody>\n",
       "\t<tr><th scope=row>1</th><td>18                       </td><td>8                        </td><td>307                      </td><td>130.0                    </td><td>3504                     </td><td>12                       </td><td>70                       </td><td>1                        </td><td>chevrolet chevelle malibu</td></tr>\n",
       "\t<tr><th scope=row>2</th><td>15               </td><td>8                </td><td>350              </td><td>165.0            </td><td>3693             </td><td>11.5             </td><td>70               </td><td>1                </td><td>buick skylark 320</td></tr>\n",
       "\t<tr><th scope=row>3</th><td>18                </td><td>8                 </td><td>318               </td><td>150.0             </td><td>3436              </td><td>11                </td><td>70                </td><td>1                 </td><td>plymouth satellite</td></tr>\n",
       "\t<tr><th scope=row>4</th><td>16           </td><td>8            </td><td>304          </td><td>150.0        </td><td>3433         </td><td>12           </td><td>70           </td><td>1            </td><td>amc rebel sst</td></tr>\n",
       "\t<tr><th scope=row>5</th><td>17         </td><td>8          </td><td>302        </td><td>140.0      </td><td>3449       </td><td>10.5       </td><td>70         </td><td>1          </td><td>ford torino</td></tr>\n",
       "\t<tr><th scope=row>6</th><td>15              </td><td>8               </td><td>429             </td><td>198.0           </td><td>4341            </td><td>10              </td><td>70              </td><td>1               </td><td>ford galaxie 500</td></tr>\n",
       "</tbody>\n",
       "</table>\n"
      ],
      "text/latex": [
       "\\begin{tabular}{r|lllllllll}\n",
       "  & mpg & cylinders & displacement & horsepower & weight & acceleration & model.year & origin & car.name\\\\\n",
       "\\hline\n",
       "\t1 & 18                        & 8                         & 307                       & 130.0                     & 3504                      & 12                        & 70                        & 1                         & chevrolet chevelle malibu\\\\\n",
       "\t2 & 15                & 8                 & 350               & 165.0             & 3693              & 11.5              & 70                & 1                 & buick skylark 320\\\\\n",
       "\t3 & 18                 & 8                  & 318                & 150.0              & 3436               & 11                 & 70                 & 1                  & plymouth satellite\\\\\n",
       "\t4 & 16            & 8             & 304           & 150.0         & 3433          & 12            & 70            & 1             & amc rebel sst\\\\\n",
       "\t5 & 17          & 8           & 302         & 140.0       & 3449        & 10.5        & 70          & 1           & ford torino\\\\\n",
       "\t6 & 15               & 8                & 429              & 198.0            & 4341             & 10               & 70               & 1                & ford galaxie 500\\\\\n",
       "\\end{tabular}\n"
      ],
      "text/plain": [
       "  mpg cylinders displacement horsepower weight acceleration model.year origin\n",
       "1  18         8          307      130.0   3504         12.0         70      1\n",
       "2  15         8          350      165.0   3693         11.5         70      1\n",
       "3  18         8          318      150.0   3436         11.0         70      1\n",
       "4  16         8          304      150.0   3433         12.0         70      1\n",
       "5  17         8          302      140.0   3449         10.5         70      1\n",
       "6  15         8          429      198.0   4341         10.0         70      1\n",
       "                   car.name\n",
       "1 chevrolet chevelle malibu\n",
       "2         buick skylark 320\n",
       "3        plymouth satellite\n",
       "4             amc rebel sst\n",
       "5               ford torino\n",
       "6          ford galaxie 500"
      ]
     },
     "metadata": {},
     "output_type": "display_data"
    }
   ],
   "source": [
    "head(auto_mpg)"
   ]
  },
  {
   "cell_type": "code",
   "execution_count": null,
   "metadata": {
    "collapsed": true
   },
   "outputs": [],
   "source": [
    "What is the "
   ]
  }
 ],
 "metadata": {
  "kernelspec": {
   "display_name": "R",
   "language": "R",
   "name": "ir"
  },
  "language_info": {
   "codemirror_mode": "r",
   "file_extension": ".r",
   "mimetype": "text/x-r-source",
   "name": "R",
   "pygments_lexer": "r",
   "version": "3.3.1"
  }
 },
 "nbformat": 4,
 "nbformat_minor": 0
}
