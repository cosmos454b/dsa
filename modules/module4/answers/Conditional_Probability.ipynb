{
 "cells": [
  {
   "cell_type": "markdown",
   "metadata": {},
   "source": [
    "### Conditional Probability\n",
    "\n",
    "Conditional probability, as you have seen in the labs and the video, is the probability of an event X occurring given that another event Y has occurred. Mathematically, it is represented as $P(X | Y)$ which is read as “probability of X given Y”.\n",
    "\n",
    "We will continue working with motor vehicle thefts dataset to apply conditional probability concepts on it. You will be introduced to a new function tally() that works just like prop.table() for working easily with conditional probability."
   ]
  },
  {
   "cell_type": "markdown",
   "metadata": {},
   "source": [
    "#### Read the data\n",
    "\n",
    "Load the motor thefts dataset into a variable called vehicle_thefts. The dataset exists in directory '/datasets/motor vehicle thefts/'."
   ]
  },
  {
   "cell_type": "code",
   "execution_count": 1,
   "metadata": {
    "collapsed": false
   },
   "outputs": [
    {
     "data": {
      "text/html": [
       "<table>\n",
       "<thead><tr><th scope=col>ID</th><th scope=col>Date</th><th scope=col>LocationDescription</th><th scope=col>Arrest</th><th scope=col>Domestic</th><th scope=col>Beat</th><th scope=col>District</th><th scope=col>CommunityArea</th><th scope=col>Year</th><th scope=col>Latitude</th><th scope=col>Longitude</th></tr></thead>\n",
       "<tbody>\n",
       "\t<tr><td>8951354                      </td><td>12/31/2012 23:15             </td><td>STREET                       </td><td>FALSE                        </td><td>FALSE                        </td><td> 623                         </td><td> 6                           </td><td>69                           </td><td>2012                         </td><td>41.75628                     </td><td>-87.62164                    </td></tr>\n",
       "\t<tr><td>8951141                      </td><td>12/31/2012 22:00             </td><td>STREET                       </td><td>FALSE                        </td><td>FALSE                        </td><td>1213                         </td><td>12                           </td><td>24                           </td><td>2012                         </td><td>41.89879                     </td><td>-87.66130                    </td></tr>\n",
       "\t<tr><td>8952745                      </td><td>12/31/2012 22:00             </td><td>RESIDENTIAL YARD (FRONT/BACK)</td><td>FALSE                        </td><td>FALSE                        </td><td>1622                         </td><td>16                           </td><td>11                           </td><td>2012                         </td><td>41.96919                     </td><td>-87.76767                    </td></tr>\n",
       "\t<tr><td>8952223                      </td><td>12/31/2012 22:00             </td><td>STREET                       </td><td>FALSE                        </td><td>FALSE                        </td><td> 724                         </td><td> 7                           </td><td>67                           </td><td>2012                         </td><td>41.76933                     </td><td>-87.65773                    </td></tr>\n",
       "\t<tr><td>8951608                      </td><td>12/31/2012 21:30             </td><td>STREET                       </td><td>FALSE                        </td><td>FALSE                        </td><td> 211                         </td><td> 2                           </td><td>35                           </td><td>2012                         </td><td>41.83757                     </td><td>-87.62176                    </td></tr>\n",
       "\t<tr><td>8950793                      </td><td>12/31/2012 20:30             </td><td>STREET                       </td><td> TRUE                        </td><td>FALSE                        </td><td>2521                         </td><td>25                           </td><td>19                           </td><td>2012                         </td><td>41.92856                     </td><td>-87.75400                    </td></tr>\n",
       "</tbody>\n",
       "</table>\n"
      ],
      "text/latex": [
       "\\begin{tabular}{r|lllllllllll}\n",
       " ID & Date & LocationDescription & Arrest & Domestic & Beat & District & CommunityArea & Year & Latitude & Longitude\\\\\n",
       "\\hline\n",
       "\t 8951354                       & 12/31/2012 23:15              & STREET                        & FALSE                         & FALSE                         &  623                          &  6                            & 69                            & 2012                          & 41.75628                      & -87.62164                    \\\\\n",
       "\t 8951141                       & 12/31/2012 22:00              & STREET                        & FALSE                         & FALSE                         & 1213                          & 12                            & 24                            & 2012                          & 41.89879                      & -87.66130                    \\\\\n",
       "\t 8952745                       & 12/31/2012 22:00              & RESIDENTIAL YARD (FRONT/BACK) & FALSE                         & FALSE                         & 1622                          & 16                            & 11                            & 2012                          & 41.96919                      & -87.76767                    \\\\\n",
       "\t 8952223                       & 12/31/2012 22:00              & STREET                        & FALSE                         & FALSE                         &  724                          &  7                            & 67                            & 2012                          & 41.76933                      & -87.65773                    \\\\\n",
       "\t 8951608                       & 12/31/2012 21:30              & STREET                        & FALSE                         & FALSE                         &  211                          &  2                            & 35                            & 2012                          & 41.83757                      & -87.62176                    \\\\\n",
       "\t 8950793                       & 12/31/2012 20:30              & STREET                        &  TRUE                         & FALSE                         & 2521                          & 25                            & 19                            & 2012                          & 41.92856                      & -87.75400                    \\\\\n",
       "\\end{tabular}\n"
      ],
      "text/plain": [
       "  ID      Date             LocationDescription           Arrest Domestic Beat\n",
       "1 8951354 12/31/2012 23:15 STREET                        FALSE  FALSE     623\n",
       "2 8951141 12/31/2012 22:00 STREET                        FALSE  FALSE    1213\n",
       "3 8952745 12/31/2012 22:00 RESIDENTIAL YARD (FRONT/BACK) FALSE  FALSE    1622\n",
       "4 8952223 12/31/2012 22:00 STREET                        FALSE  FALSE     724\n",
       "5 8951608 12/31/2012 21:30 STREET                        FALSE  FALSE     211\n",
       "6 8950793 12/31/2012 20:30 STREET                         TRUE  FALSE    2521\n",
       "  District CommunityArea Year Latitude Longitude\n",
       "1  6       69            2012 41.75628 -87.62164\n",
       "2 12       24            2012 41.89879 -87.66130\n",
       "3 16       11            2012 41.96919 -87.76767\n",
       "4  7       67            2012 41.76933 -87.65773\n",
       "5  2       35            2012 41.83757 -87.62176\n",
       "6 25       19            2012 41.92856 -87.75400"
      ]
     },
     "metadata": {},
     "output_type": "display_data"
    }
   ],
   "source": [
    "vehicle_thefts <- read.csv(\"../../../datasets/motor vehicle thefts/mvt.csv\",header=TRUE)\n",
    "head(vehicle_thefts)"
   ]
  },
  {
   "cell_type": "code",
   "execution_count": 2,
   "metadata": {
    "collapsed": false
   },
   "outputs": [
    {
     "name": "stderr",
     "output_type": "stream",
     "text": [
      "\n",
      "Attaching package: ‘lubridate’\n",
      "\n",
      "The following object is masked from ‘package:base’:\n",
      "\n",
      "    date\n",
      "\n",
      "\n",
      "Attaching package: ‘dplyr’\n",
      "\n",
      "The following objects are masked from ‘package:lubridate’:\n",
      "\n",
      "    intersect, setdiff, union\n",
      "\n",
      "The following objects are masked from ‘package:stats’:\n",
      "\n",
      "    filter, lag\n",
      "\n",
      "The following objects are masked from ‘package:base’:\n",
      "\n",
      "    intersect, setdiff, setequal, union\n",
      "\n"
     ]
    }
   ],
   "source": [
    "DateConvert = strptime(vehicle_thefts$Date, \"%m/%d/%Y %H:%M\")\n",
    "\n",
    "#extract the month and the day of the week and add these variables to the data frame vehicle_thefts\n",
    "# install.packages(\"lubridate\",repo=\"http://cran.mtu.edu/\")\n",
    "library(lubridate)\n",
    "library(dplyr)\n",
    "\n",
    "expand_date <- ymd_hms(DateConvert) #Converting input date \"12/31/2012 20:30\" to \"2012-12-31 23:15:00 UTC\" format\n",
    "\n",
    "vehicle_thefts$Month = months(DateConvert)  #Extract month from formatted date. \n",
    "vehicle_thefts$Weekday = weekdays(DateConvert)   #Extract weekday from formatted date. \n",
    "\n",
    "# using base::format\n",
    "vehicle_thefts$Hour = as.numeric(format(expand_date, \"%H\")) #Extract hour from formatted date. \n",
    "vehicle_thefts$Minutes = as.numeric(format(expand_date, \"%M\"))  #Extract minutes from formatted date. "
   ]
  },
  {
   "cell_type": "markdown",
   "metadata": {},
   "source": [
    "**Reference: **[format()](https://stat.ethz.ch/R-manual/R-devel/library/base/html/format.html)"
   ]
  },
  {
   "cell_type": "markdown",
   "metadata": {},
   "source": [
    "**Activity 1:** What is the probability of an arrest being made for the month with largest number of motor vehicle thefts? First let's find out the month with maximum number of thefts.\n"
   ]
  },
  {
   "cell_type": "code",
   "execution_count": 3,
   "metadata": {
    "collapsed": false
   },
   "outputs": [
    {
     "data": {
      "text/html": [
       "<strong>October:</strong> 11"
      ],
      "text/latex": [
       "\\textbf{October:} 11"
      ],
      "text/markdown": [
       "**October:** 11"
      ],
      "text/plain": [
       "October \n",
       "     11 "
      ]
     },
     "metadata": {},
     "output_type": "display_data"
    },
    {
     "data": {
      "text/plain": [
       "           \n",
       "            FALSE  TRUE\n",
       "  April     14028  1252\n",
       "  August    15243  1329\n",
       "  December  15029  1397\n",
       "  February  12273  1238\n",
       "  January   14612  1435\n",
       "  July      15477  1324\n",
       "  June      14772  1230\n",
       "  March     14460  1298\n",
       "  May       14848  1187\n",
       "  November  14807  1256\n",
       "  October   15744  1342\n",
       "  September 14812  1248"
      ]
     },
     "metadata": {},
     "output_type": "display_data"
    }
   ],
   "source": [
    "#Find the name of the month with largest value among the table() output results\n",
    "which.max(table(vehicle_thefts$Month))\n",
    "\n",
    "#A table is usually the best summary for categorical data. Once we have a table, we should look at it and say something sensible.\n",
    "#Now let's take a look at the relationship between the two categorical variables Month and Arrest.\n",
    "table(vehicle_thefts$Month, vehicle_thefts$Arrest)"
   ]
  },
  {
   "cell_type": "code",
   "execution_count": 4,
   "metadata": {
    "collapsed": false
   },
   "outputs": [
    {
     "data": {
      "text/plain": [
       "\n",
       "   October \n",
       "0.07854384 "
      ]
     },
     "metadata": {},
     "output_type": "display_data"
    }
   ],
   "source": [
    "#P(Arrest in October)\n",
    " table(vehicle_thefts$Month[vehicle_thefts$Arrest==TRUE & vehicle_thefts$Month==\"October\"])/sum(table(vehicle_thefts$Month[vehicle_thefts$Month==\"October\"]))"
   ]
  },
  {
   "cell_type": "markdown",
   "metadata": {},
   "source": [
    "**Activity 2: **Which month has the largest number of motor vehicle thefts for which an arrest was made?"
   ]
  },
  {
   "cell_type": "code",
   "execution_count": 5,
   "metadata": {
    "collapsed": false
   },
   "outputs": [
    {
     "data": {
      "text/html": [
       "<strong>January:</strong> 5"
      ],
      "text/latex": [
       "\\textbf{January:} 5"
      ],
      "text/markdown": [
       "**January:** 5"
      ],
      "text/plain": [
       "January \n",
       "      5 "
      ]
     },
     "metadata": {},
     "output_type": "display_data"
    }
   ],
   "source": [
    "which.max(table(vehicle_thefts$Month[vehicle_thefts$Arrest==TRUE]))"
   ]
  },
  {
   "cell_type": "markdown",
   "metadata": {},
   "source": [
    "**Activity 3: ** \n",
    "\n",
    "a) Read the smoke.csv dataset from the directory '/datasets/smoke/' into a variable called smoke_data. \n",
    "\n",
    "b) Create a two-way table called smoker_outcome for variables 'smoker' and 'outcome'. Add marginal distributions to the table by using addmargins() function."
   ]
  },
  {
   "cell_type": "code",
   "execution_count": 6,
   "metadata": {
    "collapsed": false
   },
   "outputs": [
    {
     "data": {
      "text/html": [
       "<table>\n",
       "<thead><tr><th></th><th scope=col>Alive</th><th scope=col>Dead</th><th scope=col>Sum</th></tr></thead>\n",
       "<tbody>\n",
       "\t<tr><th scope=row>No</th><td>502 </td><td>230 </td><td> 732</td></tr>\n",
       "\t<tr><th scope=row>Yes</th><td>443 </td><td>139 </td><td> 582</td></tr>\n",
       "\t<tr><th scope=row>Sum</th><td>945 </td><td>369 </td><td>1314</td></tr>\n",
       "</tbody>\n",
       "</table>\n"
      ],
      "text/latex": [
       "\\begin{tabular}{r|lll}\n",
       "  & Alive & Dead & Sum\\\\\n",
       "\\hline\n",
       "\tNo & 502  & 230  &  732\\\\\n",
       "\tYes & 443  & 139  &  582\\\\\n",
       "\tSum & 945  & 369  & 1314\\\\\n",
       "\\end{tabular}\n"
      ],
      "text/plain": [
       "     \n",
       "      Alive Dead Sum \n",
       "  No  502   230   732\n",
       "  Yes 443   139   582\n",
       "  Sum 945   369  1314"
      ]
     },
     "metadata": {},
     "output_type": "display_data"
    }
   ],
   "source": [
    "smoke_data <- read.csv(\"../../../datasets/smoke/smoke.csv\",header=TRUE)\n",
    "\n",
    "smoker_outcome = table(smoke_data$smoker,smoke_data$outcome)\n",
    "addmargins(smoker_outcome)"
   ]
  },
  {
   "cell_type": "markdown",
   "metadata": {},
   "source": [
    "There is no point in getting this table unless we can interpret it. Most important thing we might be interested in is whether smoking is a factor in smokers' death vs. nonsmokers' death. 443 out of 945 alive are smokers while 139 out of 369 dead are smokers. Those are hard to compare unless we change to a common denominator, or express them as proportions or percentages. We see that 443 out of 945, or about 47% of the alive smoke; and 139 out of 369, or about 38% of the dead smoked. So smoking does not seem to be a factor in deaths for this group of people. "
   ]
  },
  {
   "cell_type": "code",
   "execution_count": 16,
   "metadata": {
    "collapsed": false
   },
   "outputs": [
    {
     "data": {
      "text/html": [
       "<table>\n",
       "<thead><tr><th></th><th scope=col>Alive</th><th scope=col>Dead</th><th scope=col>Sum</th></tr></thead>\n",
       "<tbody>\n",
       "\t<tr><th scope=row>No</th><td>0.3820396</td><td>0.1750381</td><td>0.5570776</td></tr>\n",
       "\t<tr><th scope=row>Yes</th><td>0.3371385</td><td>0.1057839</td><td>0.4429224</td></tr>\n",
       "\t<tr><th scope=row>Sum</th><td>0.7191781</td><td>0.2808219</td><td>1.0000000</td></tr>\n",
       "</tbody>\n",
       "</table>\n"
      ],
      "text/latex": [
       "\\begin{tabular}{r|lll}\n",
       "  & Alive & Dead & Sum\\\\\n",
       "\\hline\n",
       "\tNo & 0.3820396 & 0.1750381 & 0.5570776\\\\\n",
       "\tYes & 0.3371385 & 0.1057839 & 0.4429224\\\\\n",
       "\tSum & 0.7191781 & 0.2808219 & 1.0000000\\\\\n",
       "\\end{tabular}\n"
      ],
      "text/plain": [
       "     \n",
       "      Alive     Dead      Sum      \n",
       "  No  0.3820396 0.1750381 0.5570776\n",
       "  Yes 0.3371385 0.1057839 0.4429224\n",
       "  Sum 0.7191781 0.2808219 1.0000000"
      ]
     },
     "metadata": {},
     "output_type": "display_data"
    }
   ],
   "source": [
    "# Example: Above dataset recorded smoking status and whether or not the subject was alive at the end \n",
    "# of 20 years. Use the prop.table function to find the conditional probability of survival for smokers and nonsmokers. \n",
    "# prop.table() is similar to table() command where former one gives probabilities while table() returns actual frequency count. \n",
    "# tally() works exactly like prop.table(). tal <- tally(~smoker + outcome)\n",
    "\n",
    "tal <- prop.table(smoker_outcome)\n",
    "addmargins(tal)"
   ]
  },
  {
   "cell_type": "markdown",
   "metadata": {},
   "source": [
    "**Reference: ** [tally()](http://finzi.psych.upenn.edu/library/dplyr/html/tally.html)"
   ]
  },
  {
   "cell_type": "markdown",
   "metadata": {},
   "source": [
    "**Activity 4: ** \n",
    "\n",
    "a) What is the probability that a person was smoker and is dead?\n",
    "\n",
    "b) What is the probability that a person was non-smoker and is dead? \n",
    "\n",
    "Here, smoker status is the condition."
   ]
  },
  {
   "cell_type": "code",
   "execution_count": 8,
   "metadata": {
    "collapsed": false
   },
   "outputs": [
    {
     "data": {
      "text/html": [
       "0.238831677964357"
      ],
      "text/latex": [
       "0.238831677964357"
      ],
      "text/markdown": [
       "0.238831677964357"
      ],
      "text/plain": [
       "[1] 0.2388317"
      ]
     },
     "metadata": {},
     "output_type": "display_data"
    }
   ],
   "source": [
    "#P(dead|smoker) = P(dead & smoker)/P(smoker)\n",
    "0.1057839/0.4429224"
   ]
  },
  {
   "cell_type": "code",
   "execution_count": 9,
   "metadata": {
    "collapsed": false
   },
   "outputs": [
    {
     "data": {
      "text/html": [
       "0.314207751307897"
      ],
      "text/latex": [
       "0.314207751307897"
      ],
      "text/markdown": [
       "0.314207751307897"
      ],
      "text/plain": [
       "[1] 0.3142078"
      ]
     },
     "metadata": {},
     "output_type": "display_data"
    }
   ],
   "source": [
    "#P(dead|nonsmoker) = P(dead & nonsmoker)/P(nonsmoker)\n",
    "0.1750381/0.5570776"
   ]
  },
  {
   "cell_type": "code",
   "execution_count": 10,
   "metadata": {
    "collapsed": true
   },
   "outputs": [],
   "source": [
    "# Use prop.table() if you dont want to do arithmetic of finding percentages from table() results, \n",
    "# The \"2\" tells R to compute the marginal distributions across the columns (smoker status adds up to 1 columnwise). \n",
    "# To compute rowwise percentages, use \"1\" (outcome (dead or alive) adds up to 1.)"
   ]
  },
  {
   "cell_type": "code",
   "execution_count": 11,
   "metadata": {
    "collapsed": false
   },
   "outputs": [
    {
     "data": {
      "text/html": [
       "<table>\n",
       "<thead><tr><th></th><th scope=col>Alive</th><th scope=col>Dead</th><th scope=col>Sum</th></tr></thead>\n",
       "<tbody>\n",
       "\t<tr><th scope=row>No</th><td>0.5312169</td><td>0.6233062</td><td>1.1545232</td></tr>\n",
       "\t<tr><th scope=row>Yes</th><td>0.4687831</td><td>0.3766938</td><td>0.8454768</td></tr>\n",
       "\t<tr><th scope=row>Sum</th><td>1.0000000</td><td>1.0000000</td><td>2.0000000</td></tr>\n",
       "</tbody>\n",
       "</table>\n"
      ],
      "text/latex": [
       "\\begin{tabular}{r|lll}\n",
       "  & Alive & Dead & Sum\\\\\n",
       "\\hline\n",
       "\tNo & 0.5312169 & 0.6233062 & 1.1545232\\\\\n",
       "\tYes & 0.4687831 & 0.3766938 & 0.8454768\\\\\n",
       "\tSum & 1.0000000 & 1.0000000 & 2.0000000\\\\\n",
       "\\end{tabular}\n"
      ],
      "text/plain": [
       "     \n",
       "      Alive     Dead      Sum      \n",
       "  No  0.5312169 0.6233062 1.1545232\n",
       "  Yes 0.4687831 0.3766938 0.8454768\n",
       "  Sum 1.0000000 1.0000000 2.0000000"
      ]
     },
     "metadata": {},
     "output_type": "display_data"
    }
   ],
   "source": [
    "addmargins(prop.table(smoker_outcome,2))"
   ]
  },
  {
   "cell_type": "code",
   "execution_count": 12,
   "metadata": {
    "collapsed": false
   },
   "outputs": [
    {
     "data": {
      "text/html": [
       "<table>\n",
       "<thead><tr><th></th><th scope=col>Alive</th><th scope=col>Dead</th><th scope=col>Sum</th></tr></thead>\n",
       "<tbody>\n",
       "\t<tr><th scope=row>No</th><td>0.6857923</td><td>0.3142077</td><td>1        </td></tr>\n",
       "\t<tr><th scope=row>Yes</th><td>0.7611684</td><td>0.2388316</td><td>1        </td></tr>\n",
       "\t<tr><th scope=row>Sum</th><td>1.4469607</td><td>0.5530393</td><td>2        </td></tr>\n",
       "</tbody>\n",
       "</table>\n"
      ],
      "text/latex": [
       "\\begin{tabular}{r|lll}\n",
       "  & Alive & Dead & Sum\\\\\n",
       "\\hline\n",
       "\tNo & 0.6857923 & 0.3142077 & 1        \\\\\n",
       "\tYes & 0.7611684 & 0.2388316 & 1        \\\\\n",
       "\tSum & 1.4469607 & 0.5530393 & 2        \\\\\n",
       "\\end{tabular}\n"
      ],
      "text/plain": [
       "     \n",
       "      Alive     Dead      Sum\n",
       "  No  0.6857923 0.3142077 1  \n",
       "  Yes 0.7611684 0.2388316 1  \n",
       "  Sum 1.4469607 0.5530393 2  "
      ]
     },
     "metadata": {},
     "output_type": "display_data"
    }
   ],
   "source": [
    "addmargins(prop.table(smoker_outcome,1))"
   ]
  },
  {
   "cell_type": "markdown",
   "metadata": {},
   "source": [
    "The meaning of conditional probabilities is much clearer in these tables than it is in language or mathematical notation. The idea of a conditional probability is that you are looking at a subset of the data. For example, in an election poll we might be interested in the subset of voters who prefer Candidate A, and also be interested in knowing the proportions of those voters  with respect to gender, race, ethnicity, etc. \n",
    "\n",
    "For the smoke data, we saw that about 40% of the 1314 people smoked. However, for the subset of alive, 443 out of 945, or about 47% are smokers. Often we want to compare one subset to another. Here, 139 of the 369 dead, or about 38% were smokers. We noted this earlier and found those numbers in the table. The notation for these conditional probabilities might look something like P(smoke | alive) and P(smoke | dead) respectively. These can be found by using \"2\" in prop.table() because the subsets (conditions) are dead or alive."
   ]
  },
  {
   "cell_type": "code",
   "execution_count": 13,
   "metadata": {
    "collapsed": false
   },
   "outputs": [
    {
     "data": {
      "text/html": [
       "<table>\n",
       "<thead><tr><th></th><th scope=col>Alive</th><th scope=col>Dead</th><th scope=col>Sum</th></tr></thead>\n",
       "<tbody>\n",
       "\t<tr><th scope=row>No</th><td>0.5312169</td><td>0.6233062</td><td>1.1545232</td></tr>\n",
       "\t<tr><th scope=row>Yes</th><td>0.4687831</td><td>0.3766938</td><td>0.8454768</td></tr>\n",
       "\t<tr><th scope=row>Sum</th><td>1.0000000</td><td>1.0000000</td><td>2.0000000</td></tr>\n",
       "</tbody>\n",
       "</table>\n"
      ],
      "text/latex": [
       "\\begin{tabular}{r|lll}\n",
       "  & Alive & Dead & Sum\\\\\n",
       "\\hline\n",
       "\tNo & 0.5312169 & 0.6233062 & 1.1545232\\\\\n",
       "\tYes & 0.4687831 & 0.3766938 & 0.8454768\\\\\n",
       "\tSum & 1.0000000 & 1.0000000 & 2.0000000\\\\\n",
       "\\end{tabular}\n"
      ],
      "text/plain": [
       "     \n",
       "      Alive     Dead      Sum      \n",
       "  No  0.5312169 0.6233062 1.1545232\n",
       "  Yes 0.4687831 0.3766938 0.8454768\n",
       "  Sum 1.0000000 1.0000000 2.0000000"
      ]
     },
     "metadata": {},
     "output_type": "display_data"
    }
   ],
   "source": [
    "#comparing proportions of smokers and non-smokers for subsets of alive and dead.\n",
    "addmargins(prop.table(smoker_outcome,2))"
   ]
  },
  {
   "cell_type": "markdown",
   "metadata": {},
   "source": [
    "Similarly, we can answer activity 3 by looking at the subsets (conditions) of smoking status."
   ]
  },
  {
   "cell_type": "code",
   "execution_count": 14,
   "metadata": {
    "collapsed": false
   },
   "outputs": [
    {
     "data": {
      "text/html": [
       "<table>\n",
       "<thead><tr><th></th><th scope=col>Alive</th><th scope=col>Dead</th><th scope=col>Sum</th></tr></thead>\n",
       "<tbody>\n",
       "\t<tr><th scope=row>No</th><td>0.6857923</td><td>0.3142077</td><td>1        </td></tr>\n",
       "\t<tr><th scope=row>Yes</th><td>0.7611684</td><td>0.2388316</td><td>1        </td></tr>\n",
       "\t<tr><th scope=row>Sum</th><td>1.4469607</td><td>0.5530393</td><td>2        </td></tr>\n",
       "</tbody>\n",
       "</table>\n"
      ],
      "text/latex": [
       "\\begin{tabular}{r|lll}\n",
       "  & Alive & Dead & Sum\\\\\n",
       "\\hline\n",
       "\tNo & 0.6857923 & 0.3142077 & 1        \\\\\n",
       "\tYes & 0.7611684 & 0.2388316 & 1        \\\\\n",
       "\tSum & 1.4469607 & 0.5530393 & 2        \\\\\n",
       "\\end{tabular}\n"
      ],
      "text/plain": [
       "     \n",
       "      Alive     Dead      Sum\n",
       "  No  0.6857923 0.3142077 1  \n",
       "  Yes 0.7611684 0.2388316 1  \n",
       "  Sum 1.4469607 0.5530393 2  "
      ]
     },
     "metadata": {},
     "output_type": "display_data"
    }
   ],
   "source": [
    "#comparing proportions of alive and dead for subsets of nonsmokers and smokers.\n",
    "addmargins(prop.table(smoker_outcome,1))"
   ]
  }
 ],
 "metadata": {
  "kernelspec": {
   "display_name": "R",
   "language": "R",
   "name": "ir"
  },
  "language_info": {
   "codemirror_mode": "r",
   "file_extension": ".r",
   "mimetype": "text/x-r-source",
   "name": "R",
   "pygments_lexer": "r",
   "version": "3.3.1"
  }
 },
 "nbformat": 4,
 "nbformat_minor": 0
}
