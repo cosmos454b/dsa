{
 "cells": [
  {
   "cell_type": "markdown",
   "metadata": {},
   "source": [
    "### Bayes Theorem\n",
    "\n",
    "The cigar example in the lab illustrates the application of Bayes' theorem with its calculation using the formula. Unfortunately, that calculation is complicated and can cause confusion and/or incorrect substitution of the involved\n",
    "probability values. Fortunately, here is another approach that is much more intuitive and easier:\n",
    "\n",
    "Assume some convenient value for the total of all items involved, then\n",
    "construct a table of rows and columns with the individual cell frequencies\n",
    "based on the known probabilities.\n",
    "\n",
    "For example, let's assume that the adult population in Boone county is 100,000. Now we can use the given information to create a table.\n",
    "\n",
    "*Number of males who smoke cigars:* 51% of adults are males; so there are 51,000 males. If 9.5% of them smoke, that makes 0.095 x 51,000 = 4845. Then, males who do not smoke are 51,000 - 4845 = 46,155. See the table where these values go.\n",
    "\n",
    "\n",
    "*Number of females who smoke cigars:* 49% of the adults are females, that makes 49,000. 1.7% of them are smokers, so 0.017 x 49,000 = 833. The number of females who do not smoke is 49,000 - 833 = 48,167. Again look at the table below. "
   ]
  },
  {
   "cell_type": "code",
   "execution_count": 15,
   "metadata": {
    "collapsed": false
   },
   "outputs": [
    {
     "data": {
      "text/html": [
       "<table>\n",
       "<thead><tr><th></th><th scope=col>smoker</th><th scope=col>nonsmoker</th><th scope=col>Sum</th></tr></thead>\n",
       "<tbody>\n",
       "\t<tr><th scope=row>male</th><td> 4845</td><td>46155</td><td>51000</td></tr>\n",
       "\t<tr><th scope=row>female</th><td>  833</td><td>48167</td><td>49000</td></tr>\n",
       "\t<tr><th scope=row>Sum</th><td>  5678</td><td> 94322</td><td>100000</td></tr>\n",
       "</tbody>\n",
       "</table>\n"
      ],
      "text/latex": [
       "\\begin{tabular}{r|lll}\n",
       "  & smoker & nonsmoker & Sum\\\\\n",
       "\\hline\n",
       "\tmale &  4845 & 46155 & 51000\\\\\n",
       "\tfemale &   833 & 48167 & 49000\\\\\n",
       "\tSum &   5678 &  94322 & 100000\\\\\n",
       "\\end{tabular}\n"
      ],
      "text/markdown": [
       "1. 4845\n",
       "2. 833\n",
       "3. 5678\n",
       "4. 46155\n",
       "5. 48167\n",
       "6. 94322\n",
       "7. 51000\n",
       "8. 49000\n",
       "9. 1e+05\n",
       "\n",
       "\n"
      ],
      "text/plain": [
       "       smoker nonsmoker    Sum\n",
       "male     4845     46155  51000\n",
       "female    833     48167  49000\n",
       "Sum      5678     94322 100000"
      ]
     },
     "metadata": {},
     "output_type": "display_data"
    }
   ],
   "source": [
    "cigar <- matrix(c(4845, 833, 46155, 48167), ncol=2)\n",
    "colnames(cigar) <- c('smoker','nonsmoker')\n",
    "rownames(cigar) <- c('male','female')\n",
    "cigar.table <- as.table(cigar)\n",
    "\n",
    "addmargins(cigar)"
   ]
  },
  {
   "cell_type": "markdown",
   "metadata": {},
   "source": [
    "The above table involves simple arithmetic. Simply partition the\n",
    "assumed population into the different cell categories by finding suitable percentages.\n",
    "\n",
    "Now we can easily address the key question as follows: To find the probability of\n",
    "getting a male subject, given that the subject smokes cigars, simply use the same\n",
    "conditional probability described before. \n",
    "\n",
    "To find the probability of getting a\n",
    "male given that the subject smokes, restrict the table to the column of cigar smokers, then\n",
    "find the probability of getting a male in that column. Among the 5678 cigar smokers,\n",
    "there are 4845 males, so the probability we seek is 4845/5678 = 0.85329341. That is,\n",
    "$P(M | C)$ = 4845/5678 = 0.85329341 = 0.853 (rounded).\n",
    "\n",
    "**Activity 1:** Now, your turn: the actual population of Boone county is 170,733 (as of 2013). Create the above table with actual population values for the given percentages and find the actual $P(M | C)$."
   ]
  },
  {
   "cell_type": "code",
   "execution_count": 16,
   "metadata": {
    "collapsed": false
   },
   "outputs": [
    {
     "data": {
      "text/plain": [
       "            smoker   nonsmoker\n",
       "male   0.048449919 0.461551077\n",
       "female 0.008328794 0.481670210"
      ]
     },
     "metadata": {},
     "output_type": "display_data"
    },
    {
     "data": {
      "text/html": [
       "<table>\n",
       "<thead><tr><th></th><th scope=col>smoker</th><th scope=col>nonsmoker</th><th scope=col>Sum</th></tr></thead>\n",
       "<tbody>\n",
       "\t<tr><th scope=row>male</th><td>0.04844992</td><td>0.46155108</td><td>0.51000100</td></tr>\n",
       "\t<tr><th scope=row>female</th><td>0.008328794</td><td>0.481670210</td><td>0.489999004</td></tr>\n",
       "\t<tr><th scope=row>Sum</th><td>0.05677871</td><td>0.94322129</td><td>1.00000000</td></tr>\n",
       "</tbody>\n",
       "</table>\n"
      ],
      "text/latex": [
       "\\begin{tabular}{r|lll}\n",
       "  & smoker & nonsmoker & Sum\\\\\n",
       "\\hline\n",
       "\tmale & 0.04844992 & 0.46155108 & 0.51000100\\\\\n",
       "\tfemale & 0.008328794 & 0.481670210 & 0.489999004\\\\\n",
       "\tSum & 0.05677871 & 0.94322129 & 1.00000000\\\\\n",
       "\\end{tabular}\n"
      ],
      "text/plain": [
       "            smoker   nonsmoker         Sum\n",
       "male   0.048449919 0.461551077 0.510000996\n",
       "female 0.008328794 0.481670210 0.489999004\n",
       "Sum    0.056778713 0.943221287 1.000000000"
      ]
     },
     "metadata": {},
     "output_type": "display_data"
    },
    {
     "name": "stdout",
     "output_type": "stream",
     "text": [
      "[1] 0.8533113\n"
     ]
    }
   ],
   "source": [
    "pop = 170733\n",
    "m = round(0.51*pop)\n",
    "f = round(0.49*pop)\n",
    "ms = round(m * 0.095)\n",
    "mns = m - ms\n",
    "fs = round(f * 0.017)\n",
    "fns = f - fs\n",
    "cigar2 <- matrix(c(ms, fs, mns, fns), ncol=2)\n",
    "colnames(cigar2) <- c('smoker','nonsmoker')\n",
    "rownames(cigar2) <- c('male','female')\n",
    "cigar2.table <- as.table(cigar2)\n",
    "cigar2.table/170733\n",
    "addmargins(cigar2.table/170733)\n",
    "PMC = ms / (ms+fs)\n",
    "print(PMC)"
   ]
  },
  {
   "cell_type": "markdown",
   "metadata": {},
   "source": [
    "Not surprisingly, it's the same probability as in the first table! Since the proportions did not change, we would not expect this probability change either.\n",
    "\n",
    "a) Now, using the same table, randomly select an individual, what is the prior probability that the selected person is a female?\n",
    "\n",
    "b) You later learn that the randomly selected person was smoking a cigar. Use this additional information to find the posterior \n",
    "probability that the selected person is a female."
   ]
  },
  {
   "cell_type": "code",
   "execution_count": 17,
   "metadata": {
    "collapsed": false
   },
   "outputs": [
    {
     "data": {
      "text/html": [
       "1422.20589"
      ],
      "text/latex": [
       "1422.20589"
      ],
      "text/markdown": [
       "1422.20589"
      ],
      "text/plain": [
       "[1] 1422.206"
      ]
     },
     "metadata": {},
     "output_type": "display_data"
    },
    {
     "name": "stdout",
     "output_type": "stream",
     "text": [
      "[1] 10.08099\n"
     ]
    }
   ],
   "source": [
    "males <- 170733*.51 # number of males\n",
    "females <- 170733*.49 # number of females\n",
    "prob_female <- females/(females+males) # prob of females = .49\n",
    "prob_male <- males/(males+females) # prob of males = .51 \n",
    "\n",
    "prob_s_female <- (0.008330001) # plug in results using the prop.table function on the cigar dataframe \n",
    "prob_s_female = females * 0.017\n",
    "prob_s_female\n",
    "prob_s_male <- (0.048450001)\n",
    "prob_ns_female <- (0.48167)\n",
    "prob_ns_male <- (0.46155)\n",
    "\n",
    "numerator <- (prob_female*prob_s_female) # used example from lab on smoking and heart disease and reconstructed the formula\n",
    "denominator <- ((prob_s_female*prob_s_male)+(prob_ns_female*prob_ns_male)) # use lab example to create inputs for formula \n",
    "post <- numerator/denominator \n",
    "print(post)"
   ]
  },
  {
   "cell_type": "code",
   "execution_count": 18,
   "metadata": {
    "collapsed": false
   },
   "outputs": [
    {
     "name": "stdout",
     "output_type": "stream",
     "text": [
      "[1] 0.489999\n",
      "[1] 0.1466887\n"
     ]
    }
   ],
   "source": [
    "# a) prior probability of a person being female is simply 0.49. That is the percentage of the females in the population.\n",
    "# If we don't know any extra information, we use that.\n",
    "print(f/pop)\n",
    "\n",
    "# b) posterior probability is computed after we learn some extra information; here it is the fact that the person is a smoker.\n",
    "# We compute P(F|C); the probability that the person is female given that the person is a cigar smoker. \n",
    "PFC = fs / (ms+fs)\n",
    "print(PFC)"
   ]
  },
  {
   "cell_type": "markdown",
   "metadata": {},
   "source": [
    "Load the framingham data from the directory '/datasets/framingham'."
   ]
  },
  {
   "cell_type": "code",
   "execution_count": 19,
   "metadata": {
    "collapsed": false
   },
   "outputs": [
    {
     "data": {
      "text/html": [
       "<table>\n",
       "<thead><tr><th></th><th scope=col>male</th><th scope=col>age</th><th scope=col>education</th><th scope=col>currentSmoker</th><th scope=col>cigsPerDay</th><th scope=col>BPMeds</th><th scope=col>prevalentStroke</th><th scope=col>prevalentHyp</th><th scope=col>diabetes</th><th scope=col>totChol</th><th scope=col>sysBP</th><th scope=col>diaBP</th><th scope=col>BMI</th><th scope=col>heartRate</th><th scope=col>glucose</th><th scope=col>TenYearCHD</th></tr></thead>\n",
       "<tbody>\n",
       "\t<tr><th scope=row>1</th><td>  1.00</td><td> 39.00</td><td>  4.00</td><td>  0.00</td><td>  0.00</td><td>  0.00</td><td>  0.00</td><td>  0.00</td><td>  0.00</td><td>195.00</td><td>106.00</td><td> 70.00</td><td> 26.97</td><td> 80.00</td><td> 77.00</td><td>  0.00</td></tr>\n",
       "\t<tr><th scope=row>2</th><td>  0.00</td><td> 46.00</td><td>  2.00</td><td>  0.00</td><td>  0.00</td><td>  0.00</td><td>  0.00</td><td>  0.00</td><td>  0.00</td><td>250.00</td><td>121.00</td><td> 81.00</td><td> 28.73</td><td> 95.00</td><td> 76.00</td><td>  0.00</td></tr>\n",
       "\t<tr><th scope=row>3</th><td>  1.00</td><td> 48.00</td><td>  1.00</td><td>  1.00</td><td> 20.00</td><td>  0.00</td><td>  0.00</td><td>  0.00</td><td>  0.00</td><td>245.00</td><td>127.50</td><td> 80.00</td><td> 25.34</td><td> 75.00</td><td> 70.00</td><td>  0.00</td></tr>\n",
       "\t<tr><th scope=row>4</th><td>  0.00</td><td> 61.00</td><td>  3.00</td><td>  1.00</td><td> 30.00</td><td>  0.00</td><td>  0.00</td><td>  1.00</td><td>  0.00</td><td>225.00</td><td>150.00</td><td> 95.00</td><td> 28.58</td><td> 65.00</td><td>103.00</td><td>  1.00</td></tr>\n",
       "\t<tr><th scope=row>5</th><td>  0.0</td><td> 46.0</td><td>  3.0</td><td>  1.0</td><td> 23.0</td><td>  0.0</td><td>  0.0</td><td>  0.0</td><td>  0.0</td><td>285.0</td><td>130.0</td><td> 84.0</td><td> 23.1</td><td> 85.0</td><td> 85.0</td><td>  0.0</td></tr>\n",
       "\t<tr><th scope=row>6</th><td>  0.0</td><td> 43.0</td><td>  2.0</td><td>  0.0</td><td>  0.0</td><td>  0.0</td><td>  0.0</td><td>  1.0</td><td>  0.0</td><td>228.0</td><td>180.0</td><td>110.0</td><td> 30.3</td><td> 77.0</td><td> 99.0</td><td>  0.0</td></tr>\n",
       "</tbody>\n",
       "</table>\n"
      ],
      "text/latex": [
       "\\begin{tabular}{r|llllllllllllllll}\n",
       "  & male & age & education & currentSmoker & cigsPerDay & BPMeds & prevalentStroke & prevalentHyp & diabetes & totChol & sysBP & diaBP & BMI & heartRate & glucose & TenYearCHD\\\\\n",
       "\\hline\n",
       "\t1 &   1.00 &  39.00 &   4.00 &   0.00 &   0.00 &   0.00 &   0.00 &   0.00 &   0.00 & 195.00 & 106.00 &  70.00 &  26.97 &  80.00 &  77.00 &   0.00\\\\\n",
       "\t2 &   0.00 &  46.00 &   2.00 &   0.00 &   0.00 &   0.00 &   0.00 &   0.00 &   0.00 & 250.00 & 121.00 &  81.00 &  28.73 &  95.00 &  76.00 &   0.00\\\\\n",
       "\t3 &   1.00 &  48.00 &   1.00 &   1.00 &  20.00 &   0.00 &   0.00 &   0.00 &   0.00 & 245.00 & 127.50 &  80.00 &  25.34 &  75.00 &  70.00 &   0.00\\\\\n",
       "\t4 &   0.00 &  61.00 &   3.00 &   1.00 &  30.00 &   0.00 &   0.00 &   1.00 &   0.00 & 225.00 & 150.00 &  95.00 &  28.58 &  65.00 & 103.00 &   1.00\\\\\n",
       "\t5 &   0.0 &  46.0 &   3.0 &   1.0 &  23.0 &   0.0 &   0.0 &   0.0 &   0.0 & 285.0 & 130.0 &  84.0 &  23.1 &  85.0 &  85.0 &   0.0\\\\\n",
       "\t6 &   0.0 &  43.0 &   2.0 &   0.0 &   0.0 &   0.0 &   0.0 &   1.0 &   0.0 & 228.0 & 180.0 & 110.0 &  30.3 &  77.0 &  99.0 &   0.0\\\\\n",
       "\\end{tabular}\n"
      ],
      "text/plain": [
       "  male age education currentSmoker cigsPerDay BPMeds prevalentStroke\n",
       "1    1  39         4             0          0      0               0\n",
       "2    0  46         2             0          0      0               0\n",
       "3    1  48         1             1         20      0               0\n",
       "4    0  61         3             1         30      0               0\n",
       "5    0  46         3             1         23      0               0\n",
       "6    0  43         2             0          0      0               0\n",
       "  prevalentHyp diabetes totChol sysBP diaBP   BMI heartRate glucose TenYearCHD\n",
       "1            0        0     195 106.0    70 26.97        80      77          0\n",
       "2            0        0     250 121.0    81 28.73        95      76          0\n",
       "3            0        0     245 127.5    80 25.34        75      70          0\n",
       "4            1        0     225 150.0    95 28.58        65     103          1\n",
       "5            0        0     285 130.0    84 23.10        85      85          0\n",
       "6            1        0     228 180.0   110 30.30        77      99          0"
      ]
     },
     "metadata": {},
     "output_type": "display_data"
    }
   ],
   "source": [
    "framingham_data <- read.csv(\"../../../datasets/framingham/framingham.csv\")\n",
    "head(framingham_data)"
   ]
  },
  {
   "cell_type": "markdown",
   "metadata": {},
   "source": [
    "**Activity 2:** Create a two-way table from this data set with diabetes condition in the columns and gender in the rows.\n"
   ]
  },
  {
   "cell_type": "code",
   "execution_count": 20,
   "metadata": {
    "collapsed": false
   },
   "outputs": [
    {
     "data": {
      "text/html": [
       "<table>\n",
       "<thead><tr><th></th><th scope=col>nondiabetes</th><th scope=col>diabetes</th><th scope=col>Sum</th></tr></thead>\n",
       "<tbody>\n",
       "\t<tr><th scope=row>female</th><td>2363</td><td>  57</td><td>2420</td></tr>\n",
       "\t<tr><th scope=row>male</th><td>1768</td><td>  52</td><td>1820</td></tr>\n",
       "\t<tr><th scope=row>Sum</th><td>4131</td><td> 109</td><td>4240</td></tr>\n",
       "</tbody>\n",
       "</table>\n"
      ],
      "text/latex": [
       "\\begin{tabular}{r|lll}\n",
       "  & nondiabetes & diabetes & Sum\\\\\n",
       "\\hline\n",
       "\tfemale & 2363 &   57 & 2420\\\\\n",
       "\tmale & 1768 &   52 & 1820\\\\\n",
       "\tSum & 4131 &  109 & 4240\\\\\n",
       "\\end{tabular}\n"
      ],
      "text/plain": [
       "        diabetes\n",
       "male     nondiabetes diabetes  Sum\n",
       "  female        2363       57 2420\n",
       "  male          1768       52 1820\n",
       "  Sum           4131      109 4240"
      ]
     },
     "metadata": {},
     "output_type": "display_data"
    }
   ],
   "source": [
    "dia <- with(framingham_data,table(male,diabetes))\n",
    "colnames(dia) <- c('nondiabetes','diabetes')\n",
    "rownames(dia) <- c('female','male')\n",
    "addmargins(dia)"
   ]
  },
  {
   "cell_type": "markdown",
   "metadata": {},
   "source": [
    "**Activity 3: **What is the probability for a female to have diabetes? Let d be an event of diabetes and d' be event of nondiabetes. Similarly let g be the event of male and g' be event of female. Find $P(d | g')$ using Bayes formula.\n",
    "\n",
    "            \n",
    "                    p(d) * p(g'/d)\n",
    "     p(d/g') =  -------------------------------------\n",
    "               [p(d) * p(g'/d)] + [ p(d') * p(g'/d')]\n",
    "            "
   ]
  },
  {
   "cell_type": "code",
   "execution_count": 21,
   "metadata": {
    "collapsed": false
   },
   "outputs": [
    {
     "name": "stdout",
     "output_type": "stream",
     "text": [
      "[1] 0.02355372\n"
     ]
    }
   ],
   "source": [
    "# before using the formula, let's apply what we have done in the previous activities; P(d|g') is ratio of diabetes among females\n",
    "# let's call it PDF \n",
    "PDF = 57/2420\n",
    "print(PDF)\n"
   ]
  },
  {
   "cell_type": "markdown",
   "metadata": {},
   "source": [
    "Let's change the variable names in the formula to make it easier to code:\n",
    "\n",
    "f is female; nd is nondiabetes\n",
    "\n",
    "                          p(d) * p(f/d)\n",
    "     p(d/g') =  -------------------------------------\n",
    "               [p(d) * p(f/d)] + [ p(nd) * p(f/nd)]\n",
    "            "
   ]
  },
  {
   "cell_type": "code",
   "execution_count": 26,
   "metadata": {
    "collapsed": false
   },
   "outputs": [
    {
     "data": {
      "text/html": [
       "<table>\n",
       "<thead><tr><th></th><th scope=col>nondiabetes</th><th scope=col>diabetes</th><th scope=col>Sum</th></tr></thead>\n",
       "<tbody>\n",
       "\t<tr><th scope=row>female</th><td>0.5573113</td><td>0.0134434</td><td>0.5707547</td></tr>\n",
       "\t<tr><th scope=row>male</th><td>0.41698113</td><td>0.01226415</td><td>0.42924528</td></tr>\n",
       "\t<tr><th scope=row>Sum</th><td>0.97429245</td><td>0.02570755</td><td>1.00000000</td></tr>\n",
       "</tbody>\n",
       "</table>\n"
      ],
      "text/latex": [
       "\\begin{tabular}{r|lll}\n",
       "  & nondiabetes & diabetes & Sum\\\\\n",
       "\\hline\n",
       "\tfemale & 0.5573113 & 0.0134434 & 0.5707547\\\\\n",
       "\tmale & 0.41698113 & 0.01226415 & 0.42924528\\\\\n",
       "\tSum & 0.97429245 & 0.02570755 & 1.00000000\\\\\n",
       "\\end{tabular}\n"
      ],
      "text/plain": [
       "        diabetes\n",
       "male     nondiabetes   diabetes        Sum\n",
       "  female  0.55731132 0.01344340 0.57075472\n",
       "  male    0.41698113 0.01226415 0.42924528\n",
       "  Sum     0.97429245 0.02570755 1.00000000"
      ]
     },
     "metadata": {},
     "output_type": "display_data"
    },
    {
     "data": {
      "text/html": [
       "0.522935869034583"
      ],
      "text/latex": [
       "0.522935869034583"
      ],
      "text/markdown": [
       "0.522935869034583"
      ],
      "text/plain": [
       "[1] 0.5229359"
      ]
     },
     "metadata": {},
     "output_type": "display_data"
    }
   ],
   "source": [
    "#Now use the formula:\n",
    "addmargins(prop.table(dia))\n",
    "0.01344340/(0.02570755)"
   ]
  },
  {
   "cell_type": "code",
   "execution_count": 27,
   "metadata": {
    "collapsed": false
   },
   "outputs": [
    {
     "data": {
      "text/html": [
       "0.522753792298716"
      ],
      "text/latex": [
       "0.522753792298716"
      ],
      "text/markdown": [
       "0.522753792298716"
      ],
      "text/plain": [
       "[1] 0.5227538"
      ]
     },
     "metadata": {},
     "output_type": "display_data"
    },
    {
     "data": {
      "text/html": [
       "0.572016545381765"
      ],
      "text/latex": [
       "0.572016545381765"
      ],
      "text/markdown": [
       "0.572016545381765"
      ],
      "text/plain": [
       "[1] 0.5720165"
      ]
     },
     "metadata": {},
     "output_type": "display_data"
    },
    {
     "name": "stdout",
     "output_type": "stream",
     "text": [
      "[1] 0.02354796\n"
     ]
    }
   ],
   "source": [
    "PD = 0.02571\n",
    "PFD = 0.01344 / PD\n",
    "PND = 0.97429\n",
    "PFND = 0.55731 / PND\n",
    "\n",
    "PDF2 = PD*PFD / (PD*PFD + PND*PFND)\n",
    "print(PDF2)"
   ]
  },
  {
   "cell_type": "markdown",
   "metadata": {},
   "source": [
    "It is the same result as we obtained before (except some rounding error)."
   ]
  }
 ],
 "metadata": {
  "kernelspec": {
   "display_name": "R",
   "language": "R",
   "name": "ir"
  },
  "language_info": {
   "codemirror_mode": "r",
   "file_extension": ".r",
   "mimetype": "text/x-r-source",
   "name": "R",
   "pygments_lexer": "r",
   "version": "3.3.1"
  }
 },
 "nbformat": 4,
 "nbformat_minor": 0
}
