{
 "cells": [
  {
   "cell_type": "markdown",
   "metadata": {
    "collapsed": true
   },
   "source": [
    "### Module 4 - Probability Exercises "
   ]
  },
  {
   "cell_type": "markdown",
   "metadata": {},
   "source": [
    "Most of the concepts we discussed in this module were theortical. Examples were used to explain how to apply conditional probability concepts on dataset columns. The exercises in this notebook will be similar to what you have seen in lab and practice notebook. Few exercises are designed for you to explore and solve the exercises.   \n",
    "\n",
    "Refer to your labs: [Bayes](../labs/Bayes.ipynb), [Conditional_Probability](../labs/Conditional_Probability.ipynb) and [Other_Distributions](../labs/Other_Distributions.ipynb).  \n",
    "\n",
    "Practice notebooks: [Conditional_Probability](../practices/Conditional_Probability.ipynb) and [Bayes](../labs/Bayes.ipynb). "
   ]
  },
  {
   "cell_type": "markdown",
   "metadata": {},
   "source": [
    "Lets recall what is an independent and dependent event through below activity. Consider an event of rolling two die. The sample space S={{1,1}, {1,2}, {1,3},....,{6,6}} contains 36 possible combinations on two dice.\n",
    "\n",
    "**Activity 1.a: ** What is the probability of getting a 2 on either dice. "
   ]
  },
  {
   "cell_type": "code",
   "execution_count": 27,
   "metadata": {
    "collapsed": false
   },
   "outputs": [
    {
     "data": {
      "text/html": [
       "0.305555555555556"
      ],
      "text/latex": [
       "0.305555555555556"
      ],
      "text/markdown": [
       "0.305555555555556"
      ],
      "text/plain": [
       "[1] 0.3055556"
      ]
     },
     "metadata": {},
     "output_type": "display_data"
    }
   ],
   "source": [
    "# Your code for activity 1.a goes here...\n",
    "\n",
    "library(prob)\n",
    "S <- rolldie(2, makespace = TRUE)\n",
    "\n",
    "# Define the event A such that it has all possible combinations including a 2 {{1,2}, {2,1},{2,2},{2,3},{3,2},{4,2},{5,2},{6,2},\n",
    "# {2,4},{2,5},{2,6}} \n",
    "# A <- subset(S, X1 %in% c(2) | X2 %in% c(2))\n",
    "A <- subset(S, X1 %in% c(2)| X2 %in% c(2))\n",
    "Prob(A)"
   ]
  },
  {
   "cell_type": "markdown",
   "metadata": {},
   "source": [
    "**Activity 1.b: ** What is the probability of getting a 2 on either dice given sum of the two outcomes is less than 6. "
   ]
  },
  {
   "cell_type": "code",
   "execution_count": 28,
   "metadata": {
    "collapsed": false
   },
   "outputs": [
    {
     "data": {
      "text/html": [
       "0.5"
      ],
      "text/latex": [
       "0.5"
      ],
      "text/markdown": [
       "0.5"
      ],
      "text/plain": [
       "[1] 0.5"
      ]
     },
     "metadata": {},
     "output_type": "display_data"
    }
   ],
   "source": [
    "# Your code for activity 1.b goes here...\n",
    "\n",
    "# Define the event A such that it has all possible combinations including 2 {{1,2}, {2,2},...}. \n",
    "A <- subset(S, X1 %in% c(2) | X2 %in% c(2))\n",
    "\n",
    "# Define event B such that sum of outcomes is less than 6. \n",
    "B <- subset(S, (X1+X2) <6)\n",
    "\n",
    "# Event A is conditional on Event B \n",
    "Prob(A, given=B)"
   ]
  },
  {
   "cell_type": "markdown",
   "metadata": {},
   "source": [
    "**Activity 2: ** Toss a coin twice. The sample space is given by S = {HH, HT, T H, T T}. Let A = {head occurs} and B = {a head and tail occur}. What are the probabilities P(A|B) and P(B|A)?"
   ]
  },
  {
   "cell_type": "markdown",
   "metadata": {},
   "source": [
    "        Double click here. Your answer for activity 2 goes here\n",
    "\n",
    "              P(A ∩ B)     2/4\n",
    "    P(A|B) = ---------  = ----  = 1\n",
    "              P(B)         2/4\n",
    "          \n",
    "              P(A ∩ B)     2/4     2\n",
    "    P(B|A) = ---------  = ----  = ---\n",
    "              P(A)         3/4     3\n"
   ]
  },
  {
   "cell_type": "code",
   "execution_count": 29,
   "metadata": {
    "collapsed": false
   },
   "outputs": [],
   "source": [
    "# S <- tosscoin(2, makespace = TRUE)\n",
    "# S\n",
    "# A = subset(S, toss1 %in% 'H' | toss2 %in% 'H')\n",
    "# A\n",
    "# B = subset(S, toss1 != toss2)\n",
    "# B\n",
    "# Prob(A, given=B)\n",
    "# Prob(B, given=A)"
   ]
  },
  {
   "cell_type": "code",
   "execution_count": 30,
   "metadata": {
    "collapsed": false
   },
   "outputs": [],
   "source": [
    "# Space <- tosscoin(2, makespace = TRUE)\n",
    "# A <- subset(Space, toss1 == \"H\" | toss2 == \"H\")\n",
    "# B <- subset(Space, toss1 != toss2 )\n",
    "# paste('P(A/B): ',Prob(A, given = B))\n",
    "# paste('P(A/B): ',Prob(B, given = A))"
   ]
  },
  {
   "cell_type": "markdown",
   "metadata": {},
   "source": [
    "**Activity 3: ** We have data about the smoking status versus the gender of people working in a company.\n",
    "\n",
    "|gender|    |    |     | \n",
    "-----|----|------|-----|------      \n",
    "smoke|    |Female| Male| Sum\n",
    "     |No  |80    | 54  | 134\n",
    "     |Yes |15    |19   |34\n",
    "     |Sum |95    |73   |168\n",
    "\n",
    "3.a) If one person were selected at random from the data set, what is the probability that selected person is female.\n",
    "\n",
    "3.b) What is the probability that selected person is a smoker."
   ]
  },
  {
   "cell_type": "code",
   "execution_count": 31,
   "metadata": {
    "collapsed": false
   },
   "outputs": [
    {
     "data": {
      "text/html": [
       "<table>\n",
       "<thead><tr><th></th><th scope=col>Female</th><th scope=col>Male</th><th scope=col>Sum</th></tr></thead>\n",
       "<tbody>\n",
       "\t<tr><th scope=row>No</th><td> 80</td><td> 54</td><td>134</td></tr>\n",
       "\t<tr><th scope=row>Yes</th><td>15</td><td>19</td><td>34</td></tr>\n",
       "\t<tr><th scope=row>Sum</th><td> 95</td><td> 73</td><td>168</td></tr>\n",
       "</tbody>\n",
       "</table>\n"
      ],
      "text/latex": [
       "\\begin{tabular}{r|lll}\n",
       "  & Female & Male & Sum\\\\\n",
       "\\hline\n",
       "\tNo &  80 &  54 & 134\\\\\n",
       "\tYes & 15 & 19 & 34\\\\\n",
       "\tSum &  95 &  73 & 168\\\\\n",
       "\\end{tabular}\n"
      ],
      "text/markdown": [
       "1. 80\n",
       "2. 15\n",
       "3. 95\n",
       "4. 54\n",
       "5. 19\n",
       "6. 73\n",
       "7. 134\n",
       "8. 34\n",
       "9. 168\n",
       "\n",
       "\n"
      ],
      "text/plain": [
       "    Female Male Sum\n",
       "No      80   54 134\n",
       "Yes     15   19  34\n",
       "Sum     95   73 168"
      ]
     },
     "metadata": {},
     "output_type": "display_data"
    }
   ],
   "source": [
    "# Code for Activity 3 goes here -----\n",
    "# Generate the matrix required to find probabilities\n",
    "\n",
    "# smoke_gender <- matrix(c(80,15, 54, 19), ncol=2)\n",
    "# colnames(smoke_gender) <- c('Female','Male')\n",
    "# rownames(smoke_gender) <- c('No','Yes')\n",
    "# smoke_gender <- as.table(smoke_gender)\n",
    "\n",
    "# addmargins(smoke_gender)\n",
    "\n",
    "gender <- matrix(c(80,15, 54,19), ncol=2)\n",
    "colnames(gender) <- c('Female','Male')\n",
    "rownames(gender) <- c('No','Yes')\n",
    "gender.table <- as.table(gender)\n",
    "\n",
    "addmargins(gender)"
   ]
  },
  {
   "cell_type": "code",
   "execution_count": 32,
   "metadata": {
    "collapsed": false
   },
   "outputs": [
    {
     "data": {
      "text/html": [
       "0.56547619047619"
      ],
      "text/latex": [
       "0.56547619047619"
      ],
      "text/markdown": [
       "0.56547619047619"
      ],
      "text/plain": [
       "[1] 0.5654762"
      ]
     },
     "metadata": {},
     "output_type": "display_data"
    }
   ],
   "source": [
    "# Answer for Activity 3.a goes here -----\n",
    "# P(Female) = \n",
    "\n",
    "95/168"
   ]
  },
  {
   "cell_type": "code",
   "execution_count": 33,
   "metadata": {
    "collapsed": false
   },
   "outputs": [
    {
     "data": {
      "text/html": [
       "0.157894736842105"
      ],
      "text/latex": [
       "0.157894736842105"
      ],
      "text/markdown": [
       "0.157894736842105"
      ],
      "text/plain": [
       "[1] 0.1578947"
      ]
     },
     "metadata": {},
     "output_type": "display_data"
    }
   ],
   "source": [
    "# Answer for Activity 3.b goes here -----\n",
    "# P(smoker given person is female) = \n",
    "\n",
    "15/(15+80)"
   ]
  },
  {
   "cell_type": "markdown",
   "metadata": {},
   "source": [
    "**Activity 4: **  Load the framingham data from the directory '/datasets/framingham'. Find out the probability of a randomly subject to have the risk of coronary heart disease given subject is a male."
   ]
  },
  {
   "cell_type": "code",
   "execution_count": 44,
   "metadata": {
    "collapsed": false
   },
   "outputs": [
    {
     "data": {
      "text/html": [
       "<table>\n",
       "<thead><tr><th></th><th scope=col>male</th><th scope=col>age</th><th scope=col>education</th><th scope=col>currentSmoker</th><th scope=col>cigsPerDay</th><th scope=col>BPMeds</th><th scope=col>prevalentStroke</th><th scope=col>prevalentHyp</th><th scope=col>diabetes</th><th scope=col>totChol</th><th scope=col>sysBP</th><th scope=col>diaBP</th><th scope=col>BMI</th><th scope=col>heartRate</th><th scope=col>glucose</th><th scope=col>TenYearCHD</th></tr></thead>\n",
       "<tbody>\n",
       "\t<tr><th scope=row>1</th><td>  1.00</td><td> 39.00</td><td>  4.00</td><td>  0.00</td><td>  0.00</td><td>  0.00</td><td>  0.00</td><td>  0.00</td><td>  0.00</td><td>195.00</td><td>106.00</td><td> 70.00</td><td> 26.97</td><td> 80.00</td><td> 77.00</td><td>  0.00</td></tr>\n",
       "\t<tr><th scope=row>2</th><td>  0.00</td><td> 46.00</td><td>  2.00</td><td>  0.00</td><td>  0.00</td><td>  0.00</td><td>  0.00</td><td>  0.00</td><td>  0.00</td><td>250.00</td><td>121.00</td><td> 81.00</td><td> 28.73</td><td> 95.00</td><td> 76.00</td><td>  0.00</td></tr>\n",
       "\t<tr><th scope=row>3</th><td>  1.00</td><td> 48.00</td><td>  1.00</td><td>  1.00</td><td> 20.00</td><td>  0.00</td><td>  0.00</td><td>  0.00</td><td>  0.00</td><td>245.00</td><td>127.50</td><td> 80.00</td><td> 25.34</td><td> 75.00</td><td> 70.00</td><td>  0.00</td></tr>\n",
       "\t<tr><th scope=row>4</th><td>  0.00</td><td> 61.00</td><td>  3.00</td><td>  1.00</td><td> 30.00</td><td>  0.00</td><td>  0.00</td><td>  1.00</td><td>  0.00</td><td>225.00</td><td>150.00</td><td> 95.00</td><td> 28.58</td><td> 65.00</td><td>103.00</td><td>  1.00</td></tr>\n",
       "\t<tr><th scope=row>5</th><td>  0.0</td><td> 46.0</td><td>  3.0</td><td>  1.0</td><td> 23.0</td><td>  0.0</td><td>  0.0</td><td>  0.0</td><td>  0.0</td><td>285.0</td><td>130.0</td><td> 84.0</td><td> 23.1</td><td> 85.0</td><td> 85.0</td><td>  0.0</td></tr>\n",
       "\t<tr><th scope=row>6</th><td>  0.0</td><td> 43.0</td><td>  2.0</td><td>  0.0</td><td>  0.0</td><td>  0.0</td><td>  0.0</td><td>  1.0</td><td>  0.0</td><td>228.0</td><td>180.0</td><td>110.0</td><td> 30.3</td><td> 77.0</td><td> 99.0</td><td>  0.0</td></tr>\n",
       "</tbody>\n",
       "</table>\n"
      ],
      "text/latex": [
       "\\begin{tabular}{r|llllllllllllllll}\n",
       "  & male & age & education & currentSmoker & cigsPerDay & BPMeds & prevalentStroke & prevalentHyp & diabetes & totChol & sysBP & diaBP & BMI & heartRate & glucose & TenYearCHD\\\\\n",
       "\\hline\n",
       "\t1 &   1.00 &  39.00 &   4.00 &   0.00 &   0.00 &   0.00 &   0.00 &   0.00 &   0.00 & 195.00 & 106.00 &  70.00 &  26.97 &  80.00 &  77.00 &   0.00\\\\\n",
       "\t2 &   0.00 &  46.00 &   2.00 &   0.00 &   0.00 &   0.00 &   0.00 &   0.00 &   0.00 & 250.00 & 121.00 &  81.00 &  28.73 &  95.00 &  76.00 &   0.00\\\\\n",
       "\t3 &   1.00 &  48.00 &   1.00 &   1.00 &  20.00 &   0.00 &   0.00 &   0.00 &   0.00 & 245.00 & 127.50 &  80.00 &  25.34 &  75.00 &  70.00 &   0.00\\\\\n",
       "\t4 &   0.00 &  61.00 &   3.00 &   1.00 &  30.00 &   0.00 &   0.00 &   1.00 &   0.00 & 225.00 & 150.00 &  95.00 &  28.58 &  65.00 & 103.00 &   1.00\\\\\n",
       "\t5 &   0.0 &  46.0 &   3.0 &   1.0 &  23.0 &   0.0 &   0.0 &   0.0 &   0.0 & 285.0 & 130.0 &  84.0 &  23.1 &  85.0 &  85.0 &   0.0\\\\\n",
       "\t6 &   0.0 &  43.0 &   2.0 &   0.0 &   0.0 &   0.0 &   0.0 &   1.0 &   0.0 & 228.0 & 180.0 & 110.0 &  30.3 &  77.0 &  99.0 &   0.0\\\\\n",
       "\\end{tabular}\n"
      ],
      "text/plain": [
       "  male age education currentSmoker cigsPerDay BPMeds prevalentStroke\n",
       "1    1  39         4             0          0      0               0\n",
       "2    0  46         2             0          0      0               0\n",
       "3    1  48         1             1         20      0               0\n",
       "4    0  61         3             1         30      0               0\n",
       "5    0  46         3             1         23      0               0\n",
       "6    0  43         2             0          0      0               0\n",
       "  prevalentHyp diabetes totChol sysBP diaBP   BMI heartRate glucose TenYearCHD\n",
       "1            0        0     195 106.0    70 26.97        80      77          0\n",
       "2            0        0     250 121.0    81 28.73        95      76          0\n",
       "3            0        0     245 127.5    80 25.34        75      70          0\n",
       "4            1        0     225 150.0    95 28.58        65     103          1\n",
       "5            0        0     285 130.0    84 23.10        85      85          0\n",
       "6            1        0     228 180.0   110 30.30        77      99          0"
      ]
     },
     "metadata": {},
     "output_type": "display_data"
    },
    {
     "data": {
      "text/html": [
       "<ol class=list-inline>\n",
       "\t<li>4240</li>\n",
       "\t<li>16</li>\n",
       "</ol>\n"
      ],
      "text/latex": [
       "\\begin{enumerate*}\n",
       "\\item 4240\n",
       "\\item 16\n",
       "\\end{enumerate*}\n"
      ],
      "text/markdown": [
       "1. 4240\n",
       "2. 16\n",
       "\n",
       "\n"
      ],
      "text/plain": [
       "[1] 4240   16"
      ]
     },
     "metadata": {},
     "output_type": "display_data"
    },
    {
     "data": {
      "text/plain": [
       "    TenYearCHD\n",
       "male    0    1\n",
       "   0 2119  301\n",
       "   1 1477  343"
      ]
     },
     "metadata": {},
     "output_type": "display_data"
    }
   ],
   "source": [
    "# Code for Activity 4 goes here -----\n",
    "\n",
    "framingham_data <- read.csv(\"../../../datasets/framingham/framingham.csv\")\n",
    "head(framingham_data)\n",
    "dim(framingham_data)\n",
    "with(framingham_data,table(male,TenYearCHD))"
   ]
  },
  {
   "cell_type": "code",
   "execution_count": 35,
   "metadata": {
    "collapsed": false
   },
   "outputs": [
    {
     "data": {
      "text/html": [
       "0.532608695652174"
      ],
      "text/latex": [
       "0.532608695652174"
      ],
      "text/markdown": [
       "0.532608695652174"
      ],
      "text/plain": [
       "[1] 0.5326087"
      ]
     },
     "metadata": {},
     "output_type": "display_data"
    }
   ],
   "source": [
    "# P(male | risk of CHD ) = P( subject is male and has the risk of CHD)/ P(subject has the risk of CHD)\n",
    "# Code for Activity 4 continued here -----\n",
    "\n",
    "343/(301+343)"
   ]
  },
  {
   "cell_type": "markdown",
   "metadata": {},
   "source": [
    "**Activity 5: ** Find out the probability of randomly selected subject to have the risk of coronary heart disease given subject is less than or equal to 40 years of age."
   ]
  },
  {
   "cell_type": "code",
   "execution_count": 48,
   "metadata": {
    "collapsed": false
   },
   "outputs": [
    {
     "data": {
      "text/plain": [
       "       diabetes\n",
       "           0    1\n",
       "  FALSE 3387  105\n",
       "  TRUE   744    4"
      ]
     },
     "metadata": {},
     "output_type": "display_data"
    }
   ],
   "source": [
    "# Code for activity 6 goes here...\n",
    "\n",
    "# with(framingham_data,table(age<40,TenYearCHD))\n",
    "with(framingham_data,table(age <=40, diabetes))"
   ]
  },
  {
   "cell_type": "code",
   "execution_count": 37,
   "metadata": {
    "collapsed": false
   },
   "outputs": [
    {
     "data": {
      "text/html": [
       "0.0413669064748201"
      ],
      "text/latex": [
       "0.0413669064748201"
      ],
      "text/markdown": [
       "0.0413669064748201"
      ],
      "text/plain": [
       "[1] 0.04136691"
      ]
     },
     "metadata": {},
     "output_type": "display_data"
    }
   ],
   "source": [
    "# P( risk of CHD | subject is <=40 years ) = P( risk of CHD and subject being <= 40 years of age)/ P(subject is <= 40 years)\n",
    "23/(533+23)"
   ]
  },
  {
   "cell_type": "markdown",
   "metadata": {},
   "source": [
    "**Activity 6: ** Find out the probability of randomly selected subject to have the risk of coronary heart disease given subject smokes less than 10 cigarettes and is current smoker. \n",
    "\n",
    "**Hint:** Use a 3-way table to include the variables cigsPerDay, TenYearCHD and currentSmoker. Use currentSmoker as the 3rd dimension/input."
   ]
  },
  {
   "cell_type": "code",
   "execution_count": 38,
   "metadata": {
    "collapsed": false
   },
   "outputs": [
    {
     "data": {
      "text/plain": [
       ", , currentSmoker = 0\n",
       "\n",
       "               TenYearCHD\n",
       "cigsPerDay < 10    0    1\n",
       "          FALSE    0    0\n",
       "          TRUE  1834  311\n",
       "\n",
       ", , currentSmoker = 1\n",
       "\n",
       "               TenYearCHD\n",
       "cigsPerDay < 10    0    1\n",
       "          FALSE 1302  278\n",
       "          TRUE   433   53\n"
      ]
     },
     "metadata": {},
     "output_type": "display_data"
    }
   ],
   "source": [
    "# Code for activity 6 goes here....\n",
    "\n",
    "# with(framingham_data,xtabs(~(cigsPerDay<10)+TenYearCHD+currentSmoker))\n",
    "# sub = subset(framingham_data, framingham_data$cigsPerDay<10 & framingham_data$currentSmoker==1)\n",
    "# # head(sub)\n",
    "# table(sub$TenYearCHD,sub$currentSmoker)\n",
    "\n",
    "with(framingham_data,xtabs(~(cigsPerDay<10)+ TenYearCHD+ currentSmoker))"
   ]
  },
  {
   "cell_type": "code",
   "execution_count": 39,
   "metadata": {
    "collapsed": false
   },
   "outputs": [
    {
     "data": {
      "text/html": [
       "0.109053497942387"
      ],
      "text/latex": [
       "0.109053497942387"
      ],
      "text/markdown": [
       "0.109053497942387"
      ],
      "text/plain": [
       "[1] 0.1090535"
      ]
     },
     "metadata": {},
     "output_type": "display_data"
    }
   ],
   "source": [
    "# P( risk of CHD | subject smokes <10 cigs ) = P( risk of CHD and subject smokes <10 cigs)/ P(subject smokes <10 cigs)\n",
    "\n",
    "53/(433+53)"
   ]
  },
  {
   "cell_type": "markdown",
   "metadata": {},
   "source": [
    "**Activity 7.a: ** Find out the probability of randomly selected subject to have the risk of coronary heart disease given subject has totChol > 300 and has BMI >30. \n",
    "\n",
    "**Activity 7.b: ** Find out the probability of randomly selected subject to have the risk of coronary heart disease given subject has totChol > 300 and has BMI < 30. \n",
    "\n",
    "**Hint:** Use a 3-way table. Use BMI as the 3rd dimension/input."
   ]
  },
  {
   "cell_type": "code",
   "execution_count": 40,
   "metadata": {
    "collapsed": false
   },
   "outputs": [
    {
     "data": {
      "text/plain": [
       ", , BMI > 30 = FALSE\n",
       "\n",
       "             TenYearCHD\n",
       "totChol > 300    0    1\n",
       "        FALSE 2909  465\n",
       "        TRUE   214   58\n",
       "\n",
       ", , BMI > 30 = TRUE\n",
       "\n",
       "             TenYearCHD\n",
       "totChol > 300    0    1\n",
       "        FALSE  386   91\n",
       "        TRUE    38   11\n"
      ]
     },
     "metadata": {},
     "output_type": "display_data"
    }
   ],
   "source": [
    "# Code for activity 7 oes here....\n",
    "\n",
    "with(framingham_data,xtabs(~(totChol>300)+TenYearCHD+(BMI>30)))"
   ]
  },
  {
   "cell_type": "code",
   "execution_count": 41,
   "metadata": {
    "collapsed": false
   },
   "outputs": [
    {
     "data": {
      "text/html": [
       "0.224489795918367"
      ],
      "text/latex": [
       "0.224489795918367"
      ],
      "text/markdown": [
       "0.224489795918367"
      ],
      "text/plain": [
       "[1] 0.2244898"
      ]
     },
     "metadata": {},
     "output_type": "display_data"
    }
   ],
   "source": [
    "# 7.a BMI > 30\n",
    "# P( risk of CHD | subject has totChol > 300 ) = P( risk of CHD and subject has totChol > 300 )/ P(subject has totChol > 300 )\n",
    "\n",
    "11/(38+11)"
   ]
  },
  {
   "cell_type": "code",
   "execution_count": 42,
   "metadata": {
    "collapsed": false
   },
   "outputs": [
    {
     "data": {
      "text/html": [
       "0.213235294117647"
      ],
      "text/latex": [
       "0.213235294117647"
      ],
      "text/markdown": [
       "0.213235294117647"
      ],
      "text/plain": [
       "[1] 0.2132353"
      ]
     },
     "metadata": {},
     "output_type": "display_data"
    }
   ],
   "source": [
    "# 7.b BMI < 30\n",
    "# P( risk of CHD | subject has totChol > 300 ) = P( risk of CHD and subject has totChol > 300 )/ P(subject has totChol > 300 )\n",
    "\n",
    "58/(58+214)"
   ]
  },
  {
   "cell_type": "markdown",
   "metadata": {},
   "source": [
    "**Activity 8: ** Consider two machines producing memory chips. Machine A is in production 18 hours a day producing 80% of the products while machine B is in production for 6 hours a day producing 20% of the products. Both machines have a fault rate of 0.002 and 0.007 respectively. If a randomly selected chip is faulty which machine could be the most probable source of producing that chip. "
   ]
  },
  {
   "cell_type": "code",
   "execution_count": 43,
   "metadata": {
    "collapsed": false
   },
   "outputs": [
    {
     "data": {
      "text/html": [
       "<ol class=list-inline>\n",
       "\t<li>0.533333333333333</li>\n",
       "\t<li>0.466666666666667</li>\n",
       "</ol>\n"
      ],
      "text/latex": [
       "\\begin{enumerate*}\n",
       "\\item 0.533333333333333\n",
       "\\item 0.466666666666667\n",
       "\\end{enumerate*}\n"
      ],
      "text/markdown": [
       "1. 0.533333333333333\n",
       "2. 0.466666666666667\n",
       "\n",
       "\n"
      ],
      "text/plain": [
       "[1] 0.5333333 0.4666667"
      ]
     },
     "metadata": {},
     "output_type": "display_data"
    }
   ],
   "source": [
    "# Code for activity 8 goes here. \n",
    "\n",
    "# We dont have any prior probabilities for the machines. We consider amount of production they do as our prior.\n",
    "prior <- c(0.8, 0.2)\n",
    "\n",
    "# Both machines A and B have a fault rate of 0.002 and 0.007. WE use this info as likelihood of generating a fault chip\n",
    "likelihood <- c(0.002, 0.007)\n",
    "\n",
    "# Generate posterior probabilities based on prior probability and likelihood of each event.\n",
    "posterior <- prior * likelihood\n",
    "posterior/sum(posterior)"
   ]
  },
  {
   "cell_type": "markdown",
   "metadata": {},
   "source": [
    "````\n",
    "\n",
    "        Double click here. Write your conclusion here based on the posterior probabilities generated above.\n",
    "\n",
    "````"
   ]
  }
 ],
 "metadata": {
  "kernelspec": {
   "display_name": "R",
   "language": "R",
   "name": "ir"
  },
  "language_info": {
   "codemirror_mode": "r",
   "file_extension": ".r",
   "mimetype": "text/x-r-source",
   "name": "R",
   "pygments_lexer": "r",
   "version": "3.3.1"
  }
 },
 "nbformat": 4,
 "nbformat_minor": 0
}
